{
 "cells": [
  {
   "cell_type": "code",
   "execution_count": 1,
   "id": "f79c2966-de2b-46fc-b099-14b97cd00dd3",
   "metadata": {},
   "outputs": [],
   "source": [
    "import pandas as pd\n",
    "import numpy as np\n",
    "import matplotlib.pyplot as plt\n",
    "%matplotlib inline"
   ]
  },
  {
   "cell_type": "markdown",
   "id": "50d28b5c-78b8-4122-9c76-6b54174fd2c5",
   "metadata": {},
   "source": [
    "# Zaimportowanie danych"
   ]
  },
  {
   "cell_type": "markdown",
   "id": "62e0144b-6c48-4560-a45c-f64ec46d687a",
   "metadata": {},
   "source": [
    "### Dane do Classification"
   ]
  },
  {
   "cell_type": "code",
   "execution_count": 2,
   "id": "85d5a923-915a-4ef7-b013-dcfef3d24d31",
   "metadata": {},
   "outputs": [],
   "source": [
    "heartr_disease = pd.read_csv('data/heart-disease.csv')"
   ]
  },
  {
   "cell_type": "markdown",
   "id": "2da6456a-4653-4ec7-b054-4231079fb3ab",
   "metadata": {},
   "source": [
    "### Dane do Regerssin"
   ]
  },
  {
   "cell_type": "code",
   "execution_count": 3,
   "id": "3af4a340-9c20-4d8f-9b6d-e98736be0db4",
   "metadata": {},
   "outputs": [],
   "source": [
    "from sklearn.datasets import fetch_california_housing\n",
    "housing = fetch_california_housing() \n",
    "housing_df = pd.DataFrame(housing['data'], columns=housing['feature_names']) \n",
    "housing_df['target'] = housing['target'] "
   ]
  },
  {
   "cell_type": "markdown",
   "id": "8dcf3a3a-5088-4ebb-baf4-62540496f37a",
   "metadata": {},
   "source": [
    "# ------------------------------------------------------"
   ]
  },
  {
   "cell_type": "markdown",
   "id": "f46c66b4-6b73-42e4-9ff5-6df4ae49d649",
   "metadata": {},
   "source": [
    "# Classification"
   ]
  },
  {
   "cell_type": "code",
   "execution_count": 4,
   "id": "dff1ee0e-2e30-49e8-9a62-0154a6810608",
   "metadata": {},
   "outputs": [
    {
     "name": "stdout",
     "output_type": "stream",
     "text": [
      "Classifier metrics on test set\n",
      "Accurracy: 85.25%\n",
      "Precision: 0.8484848484848485\n",
      "Recall: 0.875\n",
      "F1: 0.8615384615384616\n"
     ]
    }
   ],
   "source": [
    "from sklearn.metrics import accuracy_score, precision_score, recall_score, f1_score\n",
    "from sklearn.ensemble import RandomForestClassifier\n",
    "from sklearn.model_selection import train_test_split\n",
    "\n",
    "np.random.seed(42)\n",
    "\n",
    "# Create X & y\n",
    "X = heartr_disease.drop('target', axis=1) \n",
    "y = heartr_disease['target'] \n",
    "\n",
    "# Split data\n",
    "X_train, X_test, y_train, y_test = train_test_split(X, y, test_size=0.2)\n",
    "\n",
    "# Create model\n",
    "clf = RandomForestClassifier(n_estimators=100)\n",
    "\n",
    "# Fit model\n",
    "clf.fit(X_train, y_train) \n",
    "\n",
    "# Make prediction\n",
    "y_preds = clf.predict(X_test)\n",
    "\n",
    "# Evaluate model using evaluation function\n",
    "print(\"Classifier metrics on test set\")\n",
    "print(f\"Accurracy: {accuracy_score(y_test, y_preds)*100:.2f}%\")\n",
    "print(f\"Precision: {precision_score(y_test, y_preds)}\")\n",
    "print(f\"Recall: {recall_score(y_test, y_preds)}\")\n",
    "print(f\"F1: {f1_score(y_test, y_preds)}\")"
   ]
  },
  {
   "cell_type": "code",
   "execution_count": null,
   "id": "8a1c420b-ec84-4e4c-8d4d-f6ec9f1dce76",
   "metadata": {},
   "outputs": [],
   "source": []
  },
  {
   "cell_type": "markdown",
   "id": "fac5c76e-eeeb-40e5-b5ab-87a1de6c494b",
   "metadata": {},
   "source": [
    "# Regression"
   ]
  },
  {
   "cell_type": "code",
   "execution_count": 5,
   "id": "af33ae13-a510-4786-8f8f-35cc6dfca025",
   "metadata": {},
   "outputs": [
    {
     "name": "stdout",
     "output_type": "stream",
     "text": [
      "Regrssion metrics on test set\n",
      "R2: 0.8065734772187598\n",
      "MAE: 0.32659871732073664\n",
      "MSE: 0.2534678520824551\n"
     ]
    }
   ],
   "source": [
    "from sklearn.metrics import r2_score, mean_absolute_error, mean_squared_error\n",
    "from sklearn.ensemble import RandomForestRegressor\n",
    "from sklearn.model_selection import train_test_split\n",
    "\n",
    "np.random.seed(42)\n",
    "\n",
    "# Create X & y\n",
    "X = housing_df.drop('target', axis=1) \n",
    "y = housing_df['target'] \n",
    "\n",
    "# Split data\n",
    "X_train, X_test, y_train, y_test = train_test_split(X, y, test_size=0.2)\n",
    "\n",
    "# Create model\n",
    "model = RandomForestRegressor(n_estimators=100)\n",
    "\n",
    "# Fit model\n",
    "model.fit(X_train, y_train) \n",
    "\n",
    "# Make prediction\n",
    "y_preds = model.predict(X_test)\n",
    "\n",
    "# Evaluate model using evaluation function\n",
    "print(\"Regrssion metrics on test set\")\n",
    "print(f\"R2: {r2_score(y_test, y_preds)}\")\n",
    "print(f\"MAE: {mean_absolute_error(y_test, y_preds)}\")\n",
    "print(f\"MSE: {mean_squared_error(y_test, y_preds)}\")"
   ]
  },
  {
   "cell_type": "code",
   "execution_count": null,
   "id": "f192b7b7-92ba-41b2-8d86-da805c883d32",
   "metadata": {},
   "outputs": [],
   "source": []
  }
 ],
 "metadata": {
  "kernelspec": {
   "display_name": "Torch Learn",
   "language": "python",
   "name": "python3"
  },
  "language_info": {
   "codemirror_mode": {
    "name": "ipython",
    "version": 3
   },
   "file_extension": ".py",
   "mimetype": "text/x-python",
   "name": "python",
   "nbconvert_exporter": "python",
   "pygments_lexer": "ipython3",
   "version": "3.12.1"
  },
  "widgets": {
   "application/vnd.jupyter.widget-state+json": {
    "state": {},
    "version_major": 2,
    "version_minor": 0
   }
  }
 },
 "nbformat": 4,
 "nbformat_minor": 5
}
