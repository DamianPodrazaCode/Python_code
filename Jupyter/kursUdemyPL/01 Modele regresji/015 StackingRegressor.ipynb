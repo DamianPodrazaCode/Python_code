{
 "cells": [
  {
   "cell_type": "markdown",
   "id": "d0040047-4685-4b47-91da-2364afeaf96f",
   "metadata": {},
   "source": [
    "## StackingRegressor\n",
    "\n",
    "StackingRegressor to zaawansowana technika uczenia maszynowego, która należy do metod ensemble i polega na łączeniu kilku modeli bazowych w jeden model metaregresji. Celem jest poprawienie przewidywań poprzez wykorzystanie kombinacji przewidywań różnych modeli bazowych. Technika ta może pomóc w poprawie wydajności modeli i ich zdolności do generalizacji."
   ]
  },
  {
   "cell_type": "code",
   "execution_count": 5,
   "id": "44d083a8-3723-4801-a5b5-146a12537ead",
   "metadata": {},
   "outputs": [
    {
     "name": "stdout",
     "output_type": "stream",
     "text": [
      "Mean Squared Error: 0.0095\n"
     ]
    }
   ],
   "source": [
    "import numpy as np\n",
    "from sklearn.linear_model import LinearRegression\n",
    "from sklearn.tree import DecisionTreeRegressor\n",
    "from sklearn.ensemble import RandomForestRegressor, StackingRegressor\n",
    "from sklearn.datasets import make_regression\n",
    "from sklearn.model_selection import train_test_split\n",
    "\n",
    "# Generowanie przykładowych danych\n",
    "X, y = make_regression(n_samples=1000, n_features=10, noise=0.1, random_state=42)\n",
    "\n",
    "# Podział danych na zestawy treningowy i testowy\n",
    "X_train, X_test, y_train, y_test = train_test_split(X, y, test_size=0.2, random_state=42)\n",
    "\n",
    "# Definiowanie modeli bazowych\n",
    "base_models = [\n",
    "    ('lr', LinearRegression()),\n",
    "    ('dt', DecisionTreeRegressor(max_depth=5)),\n",
    "    ('rf', RandomForestRegressor(n_estimators=100, random_state=42))\n",
    "]\n",
    "\n",
    "# Definiowanie modelu metaregresji\n",
    "meta_model = LinearRegression()\n",
    "\n",
    "# Tworzenie modelu StackingRegressor\n",
    "stacking_model = StackingRegressor(estimators=base_models, final_estimator=meta_model)\n",
    "\n",
    "# Trenowanie modelu StackingRegressor\n",
    "stacking_model.fit(X_train, y_train)\n",
    "\n",
    "# Przewidywanie na zestawie testowym\n",
    "y_pred = stacking_model.predict(X_test)\n",
    "\n",
    "# Ocena modelu\n",
    "from sklearn.metrics import mean_squared_error\n",
    "mse = mean_squared_error(y_test, y_pred)\n",
    "print(f'Mean Squared Error: {mse:.4f}')\n"
   ]
  },
  {
   "cell_type": "code",
   "execution_count": null,
   "id": "441c6e16-e74d-488d-b316-0d08b55ee714",
   "metadata": {},
   "outputs": [],
   "source": []
  }
 ],
 "metadata": {
  "kernelspec": {
   "display_name": "Python 3 (ipykernel)",
   "language": "python",
   "name": "python3"
  },
  "language_info": {
   "codemirror_mode": {
    "name": "ipython",
    "version": 3
   },
   "file_extension": ".py",
   "mimetype": "text/x-python",
   "name": "python",
   "nbconvert_exporter": "python",
   "pygments_lexer": "ipython3",
   "version": "3.11.10"
  }
 },
 "nbformat": 4,
 "nbformat_minor": 5
}
