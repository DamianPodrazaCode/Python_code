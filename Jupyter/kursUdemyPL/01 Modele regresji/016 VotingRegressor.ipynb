{
 "cells": [
  {
   "cell_type": "markdown",
   "id": "d85a52a9-72d6-40b8-b8e0-b9859c750ddd",
   "metadata": {},
   "source": [
    "## VotingRegressor\n",
    "\n",
    "VotingRegressor to metoda ensemble używana w regresji, która łączy przewidywania wielu różnych modeli w celu poprawy wydajności i stabilności końcowego modelu. Główna idea polega na łączeniu przewidywań kilku modeli bazowych poprzez uśrednianie ich wyników. To proste, ale potężne narzędzie, które może pomóc w uzyskaniu lepszych wyników, szczególnie gdy modele bazowe są różnorodne."
   ]
  },
  {
   "cell_type": "code",
   "execution_count": 2,
   "id": "0403f462-bd27-4080-b569-177bbeb445c3",
   "metadata": {},
   "outputs": [
    {
     "name": "stdout",
     "output_type": "stream",
     "text": [
      "Mean Squared Error: 1758.1668\n"
     ]
    }
   ],
   "source": [
    "import numpy as np\n",
    "from sklearn.linear_model import LinearRegression\n",
    "from sklearn.tree import DecisionTreeRegressor\n",
    "from sklearn.ensemble import RandomForestRegressor, VotingRegressor\n",
    "from sklearn.datasets import make_regression\n",
    "from sklearn.model_selection import train_test_split\n",
    "\n",
    "# Generowanie przykładowych danych\n",
    "X, y = make_regression(n_samples=1000, n_features=10, noise=0.1, random_state=42)\n",
    "\n",
    "# Podział danych na zestawy treningowy i testowy\n",
    "X_train, X_test, y_train, y_test = train_test_split(X, y, test_size=0.2, random_state=42)\n",
    "\n",
    "# Definiowanie modeli bazowych\n",
    "base_models = [\n",
    "    ('lr', LinearRegression()),\n",
    "    ('dt', DecisionTreeRegressor(max_depth=5)),\n",
    "    ('rf', RandomForestRegressor(n_estimators=100, random_state=42))\n",
    "]\n",
    "\n",
    "# Tworzenie modelu VotingRegressor\n",
    "voting_model = VotingRegressor(estimators=base_models)\n",
    "\n",
    "# Trenowanie modelu VotingRegressor\n",
    "voting_model.fit(X_train, y_train)\n",
    "\n",
    "# Przewidywanie na zestawie testowym\n",
    "y_pred = voting_model.predict(X_test)\n",
    "\n",
    "# Ocena modelu\n",
    "from sklearn.metrics import mean_squared_error\n",
    "mse = mean_squared_error(y_test, y_pred)\n",
    "print(f'Mean Squared Error: {mse:.4f}')\n"
   ]
  },
  {
   "cell_type": "code",
   "execution_count": null,
   "id": "08dcb9a1-866a-44b4-baff-fbe526153901",
   "metadata": {},
   "outputs": [],
   "source": []
  }
 ],
 "metadata": {
  "kernelspec": {
   "display_name": "Python 3 (ipykernel)",
   "language": "python",
   "name": "python3"
  },
  "language_info": {
   "codemirror_mode": {
    "name": "ipython",
    "version": 3
   },
   "file_extension": ".py",
   "mimetype": "text/x-python",
   "name": "python",
   "nbconvert_exporter": "python",
   "pygments_lexer": "ipython3",
   "version": "3.11.10"
  }
 },
 "nbformat": 4,
 "nbformat_minor": 5
}
