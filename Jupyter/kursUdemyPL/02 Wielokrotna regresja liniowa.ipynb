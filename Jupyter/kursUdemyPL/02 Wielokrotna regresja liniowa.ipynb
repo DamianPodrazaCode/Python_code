{
 "cells": [
  {
   "cell_type": "markdown",
   "id": "a58fe5bc-d8ed-4a00-a54e-9dd82dc298e3",
   "metadata": {},
   "source": [
    "# Wielokrotna regresja liniowa"
   ]
  },
  {
   "cell_type": "code",
   "execution_count": 1,
   "id": "7e57b147-9f53-4314-82f8-94d7198d5d52",
   "metadata": {},
   "outputs": [],
   "source": [
    "import numpy as np\n",
    "import matplotlib.pyplot as plt\n",
    "import pandas as pd\n",
    "from sklearn.model_selection import train_test_split\n",
    "from sklearn.linear_model import LinearRegression"
   ]
  },
  {
   "cell_type": "code",
   "execution_count": 13,
   "id": "8b285c44-6a40-4ae3-8a81-bebd2d4b5bac",
   "metadata": {},
   "outputs": [],
   "source": [
    "dane = pd.read_csv('mieszkania3.csv')"
   ]
  },
  {
   "cell_type": "code",
   "execution_count": 14,
   "id": "4aabc1a6-db46-46a4-9dde-c403b041b3dc",
   "metadata": {},
   "outputs": [],
   "source": [
    "# filtrowanie danych\n",
    "dane = dane.sample(n=30, random_state=None) # wyciągnięcie 30 wierszy"
   ]
  },
  {
   "cell_type": "code",
   "execution_count": 15,
   "id": "38529fc6-0cea-4ea6-a3ac-4523163da82b",
   "metadata": {},
   "outputs": [],
   "source": [
    "# print(dane)"
   ]
  },
  {
   "cell_type": "code",
   "execution_count": 16,
   "id": "5eee82e5-7eaa-4c04-bebe-e25cd86fbdb3",
   "metadata": {},
   "outputs": [],
   "source": [
    "# dane = dane[(dane['rok']>=2000) & (dane['m2']>60)] # odfiltrowanie wierszy danych wg parametrów "
   ]
  },
  {
   "cell_type": "code",
   "execution_count": 17,
   "id": "2a8325d5-a8c1-4a59-972b-2e9082a0b9ae",
   "metadata": {},
   "outputs": [],
   "source": [
    "# print(dane)"
   ]
  },
  {
   "cell_type": "code",
   "execution_count": 18,
   "id": "c836d280-9a96-4048-a22f-5cb6efa4573b",
   "metadata": {},
   "outputs": [],
   "source": [
    "X = dane.iloc[:,:-1].values # wszystkie kolumny oprócz ostatniej\n",
    "y = dane.iloc[:,-1].values # ostatnia kolumna"
   ]
  },
  {
   "cell_type": "code",
   "execution_count": 22,
   "id": "8e9a4dbc-cfc7-4036-b5e2-b6446ae85a2f",
   "metadata": {},
   "outputs": [],
   "source": [
    "# X, y"
   ]
  },
  {
   "cell_type": "code",
   "execution_count": null,
   "id": "8e90479f-0d0f-4aff-9e55-acc2d4f11162",
   "metadata": {},
   "outputs": [],
   "source": []
  }
 ],
 "metadata": {
  "kernelspec": {
   "display_name": "Python 3 (ipykernel)",
   "language": "python",
   "name": "python3"
  },
  "language_info": {
   "codemirror_mode": {
    "name": "ipython",
    "version": 3
   },
   "file_extension": ".py",
   "mimetype": "text/x-python",
   "name": "python",
   "nbconvert_exporter": "python",
   "pygments_lexer": "ipython3",
   "version": "3.12.7"
  }
 },
 "nbformat": 4,
 "nbformat_minor": 5
}
