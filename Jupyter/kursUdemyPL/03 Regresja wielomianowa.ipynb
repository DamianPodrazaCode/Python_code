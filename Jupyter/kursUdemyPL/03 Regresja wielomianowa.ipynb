{
 "cells": [
  {
   "cell_type": "markdown",
   "id": "a00f4741-63e2-4f4a-bb5d-31b9a1bc7317",
   "metadata": {},
   "source": [
    "# Regresja wielomianowa"
   ]
  },
  {
   "cell_type": "code",
   "execution_count": 2,
   "id": "9c91fc00-314f-42b5-bad5-34606dd64cfa",
   "metadata": {},
   "outputs": [],
   "source": [
    "import numpy as np\n",
    "import matplotlib.pyplot as plt\n",
    "import pandas as pd\n",
    "from sklearn.model_selection import train_test_split\n",
    "from sklearn.linear_model import LinearRegression"
   ]
  },
  {
   "cell_type": "code",
   "execution_count": 3,
   "id": "1888a4bb-5104-41f0-9054-4e39368cbcec",
   "metadata": {},
   "outputs": [],
   "source": [
    "dane = pd.read_csv('mieszkania3_1.csv')"
   ]
  },
  {
   "cell_type": "code",
   "execution_count": null,
   "id": "0ed1e3e8-b594-4b5b-90ef-7d52781fcb66",
   "metadata": {},
   "outputs": [],
   "source": []
  }
 ],
 "metadata": {
  "kernelspec": {
   "display_name": "Python 3 (ipykernel)",
   "language": "python",
   "name": "python3"
  },
  "language_info": {
   "codemirror_mode": {
    "name": "ipython",
    "version": 3
   },
   "file_extension": ".py",
   "mimetype": "text/x-python",
   "name": "python",
   "nbconvert_exporter": "python",
   "pygments_lexer": "ipython3",
   "version": "3.12.7"
  }
 },
 "nbformat": 4,
 "nbformat_minor": 5
}
