{
 "cells": [
  {
   "cell_type": "code",
   "execution_count": 1,
   "id": "674fa633-828e-43f1-a406-899675aca86c",
   "metadata": {},
   "outputs": [
    {
     "data": {
      "text/plain": [
       "'2.16.1'"
      ]
     },
     "execution_count": 1,
     "metadata": {},
     "output_type": "execute_result"
    }
   ],
   "source": [
    "import tensorflow as tf\n",
    "tf.__version__"
   ]
  },
  {
   "cell_type": "markdown",
   "id": "d1f42664-69d7-4d84-96d9-e47603b95fbf",
   "metadata": {},
   "source": [
    "## Stały tensor"
   ]
  },
  {
   "cell_type": "code",
   "execution_count": 12,
   "id": "10df68cb-e4dc-4dbc-b83d-92fd7b1e4ee6",
   "metadata": {},
   "outputs": [
    {
     "data": {
      "text/plain": [
       "(<tf.Tensor: shape=(), dtype=int32, numpy=5>, 0, TensorShape([]))"
      ]
     },
     "execution_count": 12,
     "metadata": {},
     "output_type": "execute_result"
    }
   ],
   "source": [
    "# Tworzenie stałego tensora z pojedynczą liczbą - (skalar)\n",
    "x = tf.constant(5)\n",
    "x, x.ndim, x.shape"
   ]
  },
  {
   "cell_type": "code",
   "execution_count": 13,
   "id": "9222f0e0-1e92-4307-bfeb-9d697a4c5fa7",
   "metadata": {},
   "outputs": [
    {
     "data": {
      "text/plain": [
       "(<tf.Tensor: shape=(5,), dtype=float32, numpy=array([1., 2., 3., 4., 5.], dtype=float32)>,\n",
       " 1,\n",
       " TensorShape([5]))"
      ]
     },
     "execution_count": 13,
     "metadata": {},
     "output_type": "execute_result"
    }
   ],
   "source": [
    "# Tworzenie stałego tensora z tablicą NumPy - (wektor)\n",
    "y = tf.constant([1., 2., 3., 4., 5.])\n",
    "y, y.ndim, y.shape"
   ]
  },
  {
   "cell_type": "code",
   "execution_count": 14,
   "id": "2e0ee94e-44cb-424c-a5fe-5e219e3281c6",
   "metadata": {},
   "outputs": [
    {
     "data": {
      "text/plain": [
       "(<tf.Tensor: shape=(2, 2), dtype=float32, numpy=\n",
       " array([[1., 2.],\n",
       "        [3., 4.]], dtype=float32)>,\n",
       " 2,\n",
       " TensorShape([2, 2]))"
      ]
     },
     "execution_count": 14,
     "metadata": {},
     "output_type": "execute_result"
    }
   ],
   "source": [
    "# Tworzenie stałego tensora o określonym kształcie i typie danych - (matrix)\n",
    "z = tf.constant([[1, 2], \n",
    "                 [3, 4]], dtype=tf.float32) # jeżeli nie podam dtype to wywnioskuje z danych\n",
    "z, z.ndim, z.shape"
   ]
  },
  {
   "cell_type": "code",
   "execution_count": 19,
   "id": "471ce5ee-9c1d-4dce-9dd9-dbc489abe0e5",
   "metadata": {},
   "outputs": [
    {
     "data": {
      "text/plain": [
       "(<tf.Tensor: shape=(3, 2), dtype=int32, numpy=\n",
       " array([[1, 2],\n",
       "        [3, 4],\n",
       "        [5, 6]])>,\n",
       " 2,\n",
       " TensorShape([3, 2]),\n",
       " tf.int32)"
      ]
     },
     "execution_count": 19,
     "metadata": {},
     "output_type": "execute_result"
    }
   ],
   "source": [
    "# Rózny kształt\n",
    "a = tf.constant([[1, 2], \n",
    "                 [3, 4],\n",
    "                 [5, 6]]) # jeżeli nie podam dtype to wywnioskuje z danych\n",
    "a, a.ndim, a.shape, a.dtype"
   ]
  },
  {
   "cell_type": "code",
   "execution_count": 26,
   "id": "05822b57-dbae-4892-93c9-fecba33cda73",
   "metadata": {},
   "outputs": [
    {
     "data": {
      "text/plain": [
       "(<tf.Tensor: shape=(3, 2, 3), dtype=int32, numpy=\n",
       " array([[[1, 2, 3],\n",
       "         [4, 5, 6]],\n",
       " \n",
       "        [[7, 8, 9],\n",
       "         [1, 2, 3]],\n",
       " \n",
       "        [[3, 2, 1],\n",
       "         [4, 1, 0]]])>,\n",
       " 3)"
      ]
     },
     "execution_count": 26,
     "metadata": {},
     "output_type": "execute_result"
    }
   ],
   "source": [
    "# Wielowymiarowy\n",
    "b = tf.constant([[[1, 2, 3],\n",
    "                  [4, 5, 6]],\n",
    "                 [[7, 8, 9],\n",
    "                  [1, 2, 3]],\n",
    "                 [[3, 2, 1],\n",
    "                  [4, 1, 0]]])\n",
    "b, b.ndim"
   ]
  },
  {
   "cell_type": "markdown",
   "id": "849ad342-4114-4350-ba7b-3751c7be480a",
   "metadata": {},
   "source": [
    "## Zmienny tensor"
   ]
  },
  {
   "cell_type": "code",
   "execution_count": 36,
   "id": "191dca15-7f83-44e1-b4b1-45c016e514ef",
   "metadata": {},
   "outputs": [
    {
     "data": {
      "text/plain": [
       "(<tf.Variable 'Variable:0' shape=(2,) dtype=int32, numpy=array([10,  7])>,\n",
       " <tf.Tensor: shape=(2,), dtype=int32, numpy=array([10,  7])>)"
      ]
     },
     "execution_count": 36,
     "metadata": {},
     "output_type": "execute_result"
    }
   ],
   "source": [
    "# Porównanie zmiennego do stałego\n",
    "x = tf.Variable([10, 7])\n",
    "y = tf.constant([10, 7])\n",
    "\n",
    "x, y"
   ]
  },
  {
   "cell_type": "code",
   "execution_count": 37,
   "id": "c8f10c3e-e4d1-4833-8a25-c47bee150e18",
   "metadata": {},
   "outputs": [
    {
     "data": {
      "text/plain": [
       "<tf.Variable 'Variable:0' shape=(2,) dtype=int32, numpy=array([2, 7])>"
      ]
     },
     "execution_count": 37,
     "metadata": {},
     "output_type": "execute_result"
    }
   ],
   "source": [
    "# Zmana wartości\n",
    "x[0].assign(2)\n",
    "x"
   ]
  },
  {
   "cell_type": "code",
   "execution_count": 43,
   "id": "afd05787-a77e-44f2-bc47-916c3caa06a8",
   "metadata": {},
   "outputs": [
    {
     "data": {
      "text/plain": [
       "7"
      ]
     },
     "execution_count": 43,
     "metadata": {},
     "output_type": "execute_result"
    }
   ],
   "source": [
    "# Odczyt i zamiana do zwykłej zmiennej\n",
    "y = x[1].numpy()\n",
    "y"
   ]
  },
  {
   "cell_type": "markdown",
   "id": "c0ac9c84-1b61-424a-99a1-ae05c03ce5f3",
   "metadata": {},
   "source": [
    "## Random tensor"
   ]
  },
  {
   "cell_type": "code",
   "execution_count": 66,
   "id": "4953ce83-21f3-4bf9-91cb-a7c7e281bac6",
   "metadata": {},
   "outputs": [
    {
     "data": {
      "text/plain": [
       "(<tf.Tensor: shape=(3, 2), dtype=float32, numpy=\n",
       " array([[-0.7565803 , -0.06854702],\n",
       "        [ 0.07595026, -1.2573844 ],\n",
       "        [-0.23193763, -1.8107855 ]], dtype=float32)>,\n",
       " <tf.Tensor: shape=(3, 2), dtype=float32, numpy=\n",
       " array([[-0.7565803 , -0.06854702],\n",
       "        [ 0.07595026, -1.2573844 ],\n",
       "        [-0.23193763, -1.8107855 ]], dtype=float32)>,\n",
       " <tf.Tensor: shape=(3, 2), dtype=bool, numpy=\n",
       " array([[ True,  True],\n",
       "        [ True,  True],\n",
       "        [ True,  True]])>)"
      ]
     },
     "execution_count": 66,
     "metadata": {},
     "output_type": "execute_result"
    }
   ],
   "source": [
    "# Generowanie losowego tensora o kształcie (3, 3) z wartościami z rozkładu normalnego\n",
    "x = tf.random.Generator.from_seed(42)\n",
    "x = x.normal(shape=(3, 2))\n",
    "y = tf.random.Generator.from_seed(42)\n",
    "y = y.normal(shape=(3, 2))\n",
    "x, y, x==y"
   ]
  },
  {
   "cell_type": "code",
   "execution_count": 77,
   "id": "74a6ac17-37cc-40d8-a000-ff146562506c",
   "metadata": {},
   "outputs": [
    {
     "data": {
      "text/plain": [
       "(<tf.Tensor: shape=(2, 2), dtype=float32, numpy=\n",
       " array([[ 0.3274685, -0.8426258],\n",
       "        [ 0.3194337, -1.4075519]], dtype=float32)>,\n",
       " <tf.Tensor: shape=(2, 2), dtype=float32, numpy=\n",
       " array([[ 0.3274685, -0.8426258],\n",
       "        [ 0.3194337, -1.4075519]], dtype=float32)>,\n",
       " <tf.Tensor: shape=(2, 2), dtype=bool, numpy=\n",
       " array([[ True,  True],\n",
       "        [ True,  True]])>)"
      ]
     },
     "execution_count": 77,
     "metadata": {},
     "output_type": "execute_result"
    }
   ],
   "source": [
    "tf.random.set_seed(42)\n",
    "x = tf.random.normal([2,2])\n",
    "tf.random.set_seed(42)\n",
    "y = tf.random.normal([2,2])\n",
    "\n",
    "x, y, x==y"
   ]
  },
  {
   "cell_type": "code",
   "execution_count": 85,
   "id": "83194482-f1ab-4b58-a22f-159d4ae1d85a",
   "metadata": {},
   "outputs": [
    {
     "data": {
      "text/plain": [
       "(<tf.Tensor: shape=(3, 3), dtype=float32, numpy=\n",
       " array([[ 0.3741168 ,  1.3486496 ,  1.4507792 ],\n",
       "        [ 0.12905405, -0.36130652,  1.3606943 ],\n",
       "        [ 0.95027083,  0.7913111 ,  0.05056299]], dtype=float32)>,\n",
       " <tf.Tensor: shape=(3, 3), dtype=float32, numpy=\n",
       " array([[0.95171106, 0.12621379, 0.04421461],\n",
       "        [0.3843361 , 0.970186  , 0.8468393 ],\n",
       "        [0.11516833, 0.21383655, 0.94459426]], dtype=float32)>,\n",
       " <tf.Tensor: shape=(3, 3), dtype=float32, numpy=\n",
       " array([[1., 2., 1.],\n",
       "        [2., 6., 0.],\n",
       "        [0., 3., 0.]], dtype=float32)>)"
      ]
     },
     "execution_count": 85,
     "metadata": {},
     "output_type": "execute_result"
    }
   ],
   "source": [
    "x = tf.random.normal(shape=(3, 3)) # rozkład normalny\n",
    "y = tf.random.uniform(shape=(3, 3)) # zawierającego losowe wartości z rozkładu jednostajnego\n",
    "z = tf.random.poisson(shape=(3, 3), lam=2) #  losowe wartości z rozkładu Poissona\n",
    "\n",
    "x, y, z"
   ]
  },
  {
   "cell_type": "code",
   "execution_count": null,
   "id": "afa4cce3-416a-4d5f-817e-5d8ef9c66d79",
   "metadata": {},
   "outputs": [],
   "source": []
  }
 ],
 "metadata": {
  "kernelspec": {
   "display_name": "Python 3 (ipykernel)",
   "language": "python",
   "name": "python3"
  },
  "language_info": {
   "codemirror_mode": {
    "name": "ipython",
    "version": 3
   },
   "file_extension": ".py",
   "mimetype": "text/x-python",
   "name": "python",
   "nbconvert_exporter": "python",
   "pygments_lexer": "ipython3",
   "version": "3.11.8"
  }
 },
 "nbformat": 4,
 "nbformat_minor": 5
}
