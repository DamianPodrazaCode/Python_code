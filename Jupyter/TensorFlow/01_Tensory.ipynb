{
 "cells": [
  {
   "cell_type": "code",
   "execution_count": 1,
   "id": "674fa633-828e-43f1-a406-899675aca86c",
   "metadata": {},
   "outputs": [
    {
     "data": {
      "text/plain": [
       "'2.16.1'"
      ]
     },
     "execution_count": 1,
     "metadata": {},
     "output_type": "execute_result"
    }
   ],
   "source": [
    "import tensorflow as tf\n",
    "tf.__version__"
   ]
  },
  {
   "cell_type": "markdown",
   "id": "d1f42664-69d7-4d84-96d9-e47603b95fbf",
   "metadata": {},
   "source": [
    "## Stały tensor"
   ]
  },
  {
   "cell_type": "code",
   "execution_count": 2,
   "id": "10df68cb-e4dc-4dbc-b83d-92fd7b1e4ee6",
   "metadata": {},
   "outputs": [
    {
     "data": {
      "text/plain": [
       "(<tf.Tensor: shape=(), dtype=int32, numpy=5>, 0, TensorShape([]))"
      ]
     },
     "execution_count": 2,
     "metadata": {},
     "output_type": "execute_result"
    }
   ],
   "source": [
    "# Tworzenie stałego tensora z pojedynczą liczbą - (skalar)\n",
    "x = tf.constant(5)\n",
    "x, x.ndim, x.shape"
   ]
  },
  {
   "cell_type": "code",
   "execution_count": 3,
   "id": "9222f0e0-1e92-4307-bfeb-9d697a4c5fa7",
   "metadata": {},
   "outputs": [
    {
     "data": {
      "text/plain": [
       "(<tf.Tensor: shape=(5,), dtype=float32, numpy=array([1., 2., 3., 4., 5.], dtype=float32)>,\n",
       " 1,\n",
       " TensorShape([5]))"
      ]
     },
     "execution_count": 3,
     "metadata": {},
     "output_type": "execute_result"
    }
   ],
   "source": [
    "# Tworzenie stałego tensora z tablicą NumPy - (wektor)\n",
    "y = tf.constant([1., 2., 3., 4., 5.])\n",
    "y, y.ndim, y.shape"
   ]
  },
  {
   "cell_type": "code",
   "execution_count": 4,
   "id": "2e0ee94e-44cb-424c-a5fe-5e219e3281c6",
   "metadata": {},
   "outputs": [
    {
     "data": {
      "text/plain": [
       "(<tf.Tensor: shape=(2, 2), dtype=float32, numpy=\n",
       " array([[1., 2.],\n",
       "        [3., 4.]], dtype=float32)>,\n",
       " 2,\n",
       " TensorShape([2, 2]))"
      ]
     },
     "execution_count": 4,
     "metadata": {},
     "output_type": "execute_result"
    }
   ],
   "source": [
    "# Tworzenie stałego tensora o określonym kształcie i typie danych - (matrix)\n",
    "z = tf.constant([[1, 2], \n",
    "                 [3, 4]], dtype=tf.float32) # jeżeli nie podam dtype to wywnioskuje z danych\n",
    "z, z.ndim, z.shape"
   ]
  },
  {
   "cell_type": "code",
   "execution_count": 5,
   "id": "471ce5ee-9c1d-4dce-9dd9-dbc489abe0e5",
   "metadata": {},
   "outputs": [
    {
     "data": {
      "text/plain": [
       "(<tf.Tensor: shape=(3, 2), dtype=int32, numpy=\n",
       " array([[1, 2],\n",
       "        [3, 4],\n",
       "        [5, 6]])>,\n",
       " 2,\n",
       " TensorShape([3, 2]),\n",
       " tf.int32)"
      ]
     },
     "execution_count": 5,
     "metadata": {},
     "output_type": "execute_result"
    }
   ],
   "source": [
    "# Rózny kształt\n",
    "a = tf.constant([[1, 2], \n",
    "                 [3, 4],\n",
    "                 [5, 6]]) # jeżeli nie podam dtype to wywnioskuje z danych\n",
    "a, a.ndim, a.shape, a.dtype"
   ]
  },
  {
   "cell_type": "code",
   "execution_count": 6,
   "id": "05822b57-dbae-4892-93c9-fecba33cda73",
   "metadata": {},
   "outputs": [
    {
     "data": {
      "text/plain": [
       "(<tf.Tensor: shape=(3, 2, 3), dtype=int32, numpy=\n",
       " array([[[1, 2, 3],\n",
       "         [4, 5, 6]],\n",
       " \n",
       "        [[7, 8, 9],\n",
       "         [1, 2, 3]],\n",
       " \n",
       "        [[3, 2, 1],\n",
       "         [4, 1, 0]]])>,\n",
       " 3)"
      ]
     },
     "execution_count": 6,
     "metadata": {},
     "output_type": "execute_result"
    }
   ],
   "source": [
    "# Wielowymiarowy\n",
    "b = tf.constant([[[1, 2, 3],\n",
    "                  [4, 5, 6]],\n",
    "                 [[7, 8, 9],\n",
    "                  [1, 2, 3]],\n",
    "                 [[3, 2, 1],\n",
    "                  [4, 1, 0]]])\n",
    "b, b.ndim"
   ]
  },
  {
   "cell_type": "markdown",
   "id": "849ad342-4114-4350-ba7b-3751c7be480a",
   "metadata": {},
   "source": [
    "## Zmienny tensor"
   ]
  },
  {
   "cell_type": "code",
   "execution_count": 7,
   "id": "191dca15-7f83-44e1-b4b1-45c016e514ef",
   "metadata": {},
   "outputs": [
    {
     "data": {
      "text/plain": [
       "(<tf.Variable 'Variable:0' shape=(2,) dtype=int32, numpy=array([10,  7])>,\n",
       " <tf.Tensor: shape=(2,), dtype=int32, numpy=array([10,  7])>)"
      ]
     },
     "execution_count": 7,
     "metadata": {},
     "output_type": "execute_result"
    }
   ],
   "source": [
    "# Porównanie zmiennego do stałego\n",
    "x = tf.Variable([10, 7])\n",
    "y = tf.constant([10, 7])\n",
    "\n",
    "x, y"
   ]
  },
  {
   "cell_type": "code",
   "execution_count": 8,
   "id": "c8f10c3e-e4d1-4833-8a25-c47bee150e18",
   "metadata": {},
   "outputs": [
    {
     "data": {
      "text/plain": [
       "<tf.Variable 'Variable:0' shape=(2,) dtype=int32, numpy=array([2, 7])>"
      ]
     },
     "execution_count": 8,
     "metadata": {},
     "output_type": "execute_result"
    }
   ],
   "source": [
    "# Zmana wartości\n",
    "x[0].assign(2)\n",
    "x"
   ]
  },
  {
   "cell_type": "code",
   "execution_count": 9,
   "id": "afd05787-a77e-44f2-bc47-916c3caa06a8",
   "metadata": {},
   "outputs": [
    {
     "data": {
      "text/plain": [
       "7"
      ]
     },
     "execution_count": 9,
     "metadata": {},
     "output_type": "execute_result"
    }
   ],
   "source": [
    "# Odczyt i zamiana do zwykłej zmiennej\n",
    "y = x[1].numpy()\n",
    "y"
   ]
  },
  {
   "cell_type": "markdown",
   "id": "c0ac9c84-1b61-424a-99a1-ae05c03ce5f3",
   "metadata": {},
   "source": [
    "## Random tensor"
   ]
  },
  {
   "cell_type": "code",
   "execution_count": 10,
   "id": "4953ce83-21f3-4bf9-91cb-a7c7e281bac6",
   "metadata": {},
   "outputs": [
    {
     "data": {
      "text/plain": [
       "(<tf.Tensor: shape=(3, 2), dtype=float32, numpy=\n",
       " array([[-0.7565803 , -0.06854702],\n",
       "        [ 0.07595026, -1.2573844 ],\n",
       "        [-0.23193763, -1.8107855 ]], dtype=float32)>,\n",
       " <tf.Tensor: shape=(3, 2), dtype=float32, numpy=\n",
       " array([[-0.7565803 , -0.06854702],\n",
       "        [ 0.07595026, -1.2573844 ],\n",
       "        [-0.23193763, -1.8107855 ]], dtype=float32)>,\n",
       " <tf.Tensor: shape=(3, 2), dtype=bool, numpy=\n",
       " array([[ True,  True],\n",
       "        [ True,  True],\n",
       "        [ True,  True]])>)"
      ]
     },
     "execution_count": 10,
     "metadata": {},
     "output_type": "execute_result"
    }
   ],
   "source": [
    "# Generowanie losowego tensora o kształcie (3, 3) z wartościami z rozkładu normalnego\n",
    "x = tf.random.Generator.from_seed(42)\n",
    "x = x.normal(shape=(3, 2))\n",
    "y = tf.random.Generator.from_seed(42)\n",
    "y = y.normal(shape=(3, 2))\n",
    "x, y, x==y"
   ]
  },
  {
   "cell_type": "code",
   "execution_count": 39,
   "id": "74a6ac17-37cc-40d8-a000-ff146562506c",
   "metadata": {},
   "outputs": [
    {
     "data": {
      "text/plain": [
       "(<tf.Tensor: shape=(2, 2), dtype=float32, numpy=\n",
       " array([[ 0.3274685, -0.8426258],\n",
       "        [ 0.3194337, -1.4075519]], dtype=float32)>,\n",
       " <tf.Tensor: shape=(2, 2), dtype=float32, numpy=\n",
       " array([[ 0.3274685, -0.8426258],\n",
       "        [ 0.3194337, -1.4075519]], dtype=float32)>,\n",
       " <tf.Tensor: shape=(2, 2), dtype=bool, numpy=\n",
       " array([[ True,  True],\n",
       "        [ True,  True]])>)"
      ]
     },
     "execution_count": 39,
     "metadata": {},
     "output_type": "execute_result"
    }
   ],
   "source": [
    "tf.random.set_seed(42)\n",
    "x = tf.random.normal([2,2])\n",
    "tf.random.set_seed(42)\n",
    "y = tf.random.normal([2,2])\n",
    "\n",
    "x, y, x==y"
   ]
  },
  {
   "cell_type": "code",
   "execution_count": 38,
   "id": "83194482-f1ab-4b58-a22f-159d4ae1d85a",
   "metadata": {},
   "outputs": [
    {
     "data": {
      "text/plain": [
       "(<tf.Tensor: shape=(3, 3), dtype=float32, numpy=\n",
       " array([[ 0.3274685, -0.8426258,  0.3194337],\n",
       "        [-1.4075519, -2.3880599, -1.0392479],\n",
       "        [-0.5573232,  0.539707 ,  1.6994323]], dtype=float32)>,\n",
       " <tf.Tensor: shape=(3, 3), dtype=float32, numpy=\n",
       " array([[0.68789124, 0.48447883, 0.9309944 ],\n",
       "        [0.252187  , 0.73115396, 0.89256823],\n",
       "        [0.94674826, 0.7493341 , 0.34925628]], dtype=float32)>,\n",
       " <tf.Tensor: shape=(3, 3), dtype=float32, numpy=\n",
       " array([[1., 2., 4.],\n",
       "        [1., 1., 6.],\n",
       "        [3., 4., 1.]], dtype=float32)>)"
      ]
     },
     "execution_count": 38,
     "metadata": {},
     "output_type": "execute_result"
    }
   ],
   "source": [
    "x = tf.random.normal(shape=(3, 3)) # rozkład normalny\n",
    "y = tf.random.uniform(shape=(3, 3)) # zawierającego losowe wartości z rozkładu jednostajnego\n",
    "z = tf.random.poisson(shape=(3, 3), lam=2) #  losowe wartości z rozkładu Poissona\n",
    "\n",
    "x, y, z"
   ]
  },
  {
   "cell_type": "markdown",
   "id": "b9f47973-862b-49b4-a938-7cb4d9187227",
   "metadata": {},
   "source": [
    "## Tasowanie danymi w tensorze"
   ]
  },
  {
   "cell_type": "code",
   "execution_count": 42,
   "id": "5a19a7b3-6bdf-4ae1-a08b-3b66318e1547",
   "metadata": {},
   "outputs": [
    {
     "data": {
      "text/plain": [
       "<tf.Tensor: shape=(4, 2), dtype=int32, numpy=\n",
       "array([[7, 8],\n",
       "       [1, 2],\n",
       "       [3, 4],\n",
       "       [5, 6]])>"
      ]
     },
     "execution_count": 42,
     "metadata": {},
     "output_type": "execute_result"
    }
   ],
   "source": [
    "# tasuje dane tylko elementami najwyższego wymiaru\n",
    "tf.random.set_seed(42)\n",
    "data = tf.constant([[1, 2], [3, 4], [5, 6], [7, 8]])\n",
    "tf.random.shuffle(data)"
   ]
  },
  {
   "cell_type": "markdown",
   "id": "2a316adf-248c-4be2-8ba7-d541679971a6",
   "metadata": {},
   "source": [
    "## Seed globalny i operacyjny"
   ]
  },
  {
   "cell_type": "code",
   "execution_count": 47,
   "id": "972beeb6-7ae9-43ae-9784-e730976fe4a6",
   "metadata": {},
   "outputs": [
    {
     "data": {
      "text/plain": [
       "<tf.Tensor: shape=(3, 3), dtype=float32, numpy=\n",
       "array([[-0.8980837 , -1.8259144 , -0.44441807],\n",
       "       [-1.4882947 , -0.7855463 ,  0.19619656],\n",
       "       [ 0.17604655, -1.5252506 ,  0.635294  ]], dtype=float32)>"
      ]
     },
     "execution_count": 47,
     "metadata": {},
     "output_type": "execute_result"
    }
   ],
   "source": [
    "# Globalny seed: \n",
    "# Ustawienie globalnego ziarna (global seed) umożliwia ustalenie ziarna generatora liczb pseudolosowych dla całej sesji TensorFlow. \n",
    "# Możesz to zrobić przy użyciu tf.random.set_seed(). Ustawienie globalnego ziarna pozwala na kontrolowanie losowości w całej sesji TensorFlow. \n",
    "# Na przykład:\n",
    "# Ustawienie globalnego ziarna\n",
    "tf.random.set_seed(123)\n",
    "# Tworzenie tensora z losowymi wartościami\n",
    "tf.random.normal(shape=(3, 3))"
   ]
  },
  {
   "cell_type": "code",
   "execution_count": 51,
   "id": "42ca919a-ef26-46c9-958e-aff147892be6",
   "metadata": {},
   "outputs": [
    {
     "data": {
      "text/plain": [
       "<tf.Tensor: shape=(4, 2), dtype=int32, numpy=\n",
       "array([[7, 8],\n",
       "       [3, 4],\n",
       "       [1, 2],\n",
       "       [5, 6]])>"
      ]
     },
     "execution_count": 51,
     "metadata": {},
     "output_type": "execute_result"
    }
   ],
   "source": [
    "# Seed operacyjny: \n",
    "# Możesz również ustawić ziarno (seed) dla konkretnej operacji lub tensora, co umożliwia kontrolę nad losowością dla danej operacji lub tensora. \n",
    "# Możesz to zrobić poprzez ustawienie parametru seed w odpowiedniej funkcji TensorFlow, na przykład tf.random.shuffle().\n",
    "# Ustawienie seed operacyjnego dla tasowania danych\n",
    "tf.random.shuffle(data, seed=123)"
   ]
  },
  {
   "cell_type": "code",
   "execution_count": 68,
   "id": "de100f55-5297-4c2b-b8ba-2fcdf7354595",
   "metadata": {},
   "outputs": [
    {
     "data": {
      "text/plain": [
       "(<tf.Tensor: shape=(3, 3), dtype=float32, numpy=\n",
       " array([[-0.8980837 , -1.8259144 , -0.44441807],\n",
       "        [-1.4882947 , -0.7855463 ,  0.19619656],\n",
       "        [ 0.17604655, -1.5252506 ,  0.635294  ]], dtype=float32)>,\n",
       " <tf.Tensor: shape=(3, 3), dtype=float32, numpy=\n",
       " array([[ 0.9301948 ,  0.09106961,  0.3893619 ],\n",
       "        [ 1.4705666 ,  0.3001138 , -0.8969683 ],\n",
       "        [ 0.42988804,  1.3693097 ,  0.79081714]], dtype=float32)>,\n",
       " <tf.Tensor: shape=(3, 3), dtype=float32, numpy=\n",
       " array([[ 0.33875433,  0.3449861 , -0.6605785 ],\n",
       "        [-0.2854994 ,  0.43852386,  0.8288566 ],\n",
       "        [-0.53591555, -0.5353483 , -1.0324248 ]], dtype=float32)>)"
      ]
     },
     "execution_count": 68,
     "metadata": {},
     "output_type": "execute_result"
    }
   ],
   "source": [
    "tf.random.set_seed(123)\n",
    "x = tf.random.normal(shape=(3, 3))\n",
    "y = tf.random.normal(shape=(3, 3), seed=12) # zmieniając wartość seed operacyjną, zmieniamy losowanie, tylko dla tej operacji\n",
    "z = tf.random.normal(shape=(3, 3))\n",
    "x, y, z"
   ]
  },
  {
   "cell_type": "code",
   "execution_count": null,
   "id": "095efd4f-2263-45de-9d4d-af24c4e25542",
   "metadata": {},
   "outputs": [],
   "source": []
  }
 ],
 "metadata": {
  "kernelspec": {
   "display_name": "Python 3 (ipykernel)",
   "language": "python",
   "name": "python3"
  },
  "language_info": {
   "codemirror_mode": {
    "name": "ipython",
    "version": 3
   },
   "file_extension": ".py",
   "mimetype": "text/x-python",
   "name": "python",
   "nbconvert_exporter": "python",
   "pygments_lexer": "ipython3",
   "version": "3.11.8"
  }
 },
 "nbformat": 4,
 "nbformat_minor": 5
}
