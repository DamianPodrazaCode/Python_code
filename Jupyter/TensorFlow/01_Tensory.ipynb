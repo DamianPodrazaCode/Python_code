{
 "cells": [
  {
   "cell_type": "code",
   "execution_count": 1,
   "id": "674fa633-828e-43f1-a406-899675aca86c",
   "metadata": {},
   "outputs": [
    {
     "name": "stdout",
     "output_type": "stream",
     "text": [
      "2.16.1\n"
     ]
    }
   ],
   "source": [
    "import tensorflow as tf\n",
    "print(tf.__version__)\n",
    "import numpy as np"
   ]
  },
  {
   "cell_type": "markdown",
   "id": "d1f42664-69d7-4d84-96d9-e47603b95fbf",
   "metadata": {},
   "source": [
    "## Stały tensor"
   ]
  },
  {
   "cell_type": "code",
   "execution_count": 2,
   "id": "10df68cb-e4dc-4dbc-b83d-92fd7b1e4ee6",
   "metadata": {},
   "outputs": [
    {
     "data": {
      "text/plain": [
       "(<tf.Tensor: shape=(), dtype=int32, numpy=5>, 0, TensorShape([]))"
      ]
     },
     "execution_count": 2,
     "metadata": {},
     "output_type": "execute_result"
    }
   ],
   "source": [
    "# Tworzenie stałego tensora z pojedynczą liczbą - (skalar)\n",
    "x = tf.constant(5)\n",
    "x, x.ndim, x.shape"
   ]
  },
  {
   "cell_type": "code",
   "execution_count": 3,
   "id": "9222f0e0-1e92-4307-bfeb-9d697a4c5fa7",
   "metadata": {},
   "outputs": [
    {
     "data": {
      "text/plain": [
       "(<tf.Tensor: shape=(5,), dtype=float32, numpy=array([1., 2., 3., 4., 5.], dtype=float32)>,\n",
       " 1,\n",
       " TensorShape([5]))"
      ]
     },
     "execution_count": 3,
     "metadata": {},
     "output_type": "execute_result"
    }
   ],
   "source": [
    "# Tworzenie stałego tensora z tablicą NumPy - (wektor)\n",
    "y = tf.constant([1., 2., 3., 4., 5.])\n",
    "y, y.ndim, y.shape"
   ]
  },
  {
   "cell_type": "code",
   "execution_count": 4,
   "id": "2e0ee94e-44cb-424c-a5fe-5e219e3281c6",
   "metadata": {},
   "outputs": [
    {
     "data": {
      "text/plain": [
       "(<tf.Tensor: shape=(2, 2), dtype=float32, numpy=\n",
       " array([[1., 2.],\n",
       "        [3., 4.]], dtype=float32)>,\n",
       " 2,\n",
       " TensorShape([2, 2]))"
      ]
     },
     "execution_count": 4,
     "metadata": {},
     "output_type": "execute_result"
    }
   ],
   "source": [
    "# Tworzenie stałego tensora o określonym kształcie i typie danych - (matrix)\n",
    "z = tf.constant([[1, 2], \n",
    "                 [3, 4]], dtype=tf.float32) # jeżeli nie podam dtype to wywnioskuje z danych\n",
    "z, z.ndim, z.shape"
   ]
  },
  {
   "cell_type": "code",
   "execution_count": 5,
   "id": "471ce5ee-9c1d-4dce-9dd9-dbc489abe0e5",
   "metadata": {},
   "outputs": [
    {
     "data": {
      "text/plain": [
       "(<tf.Tensor: shape=(3, 2), dtype=int32, numpy=\n",
       " array([[1, 2],\n",
       "        [3, 4],\n",
       "        [5, 6]])>,\n",
       " 2,\n",
       " TensorShape([3, 2]),\n",
       " tf.int32)"
      ]
     },
     "execution_count": 5,
     "metadata": {},
     "output_type": "execute_result"
    }
   ],
   "source": [
    "# Rózny kształt\n",
    "a = tf.constant([[1, 2], \n",
    "                 [3, 4],\n",
    "                 [5, 6]]) # jeżeli nie podam dtype to wywnioskuje z danych\n",
    "a, a.ndim, a.shape, a.dtype"
   ]
  },
  {
   "cell_type": "code",
   "execution_count": 6,
   "id": "05822b57-dbae-4892-93c9-fecba33cda73",
   "metadata": {},
   "outputs": [
    {
     "data": {
      "text/plain": [
       "(<tf.Tensor: shape=(3, 2, 3), dtype=int32, numpy=\n",
       " array([[[1, 2, 3],\n",
       "         [4, 5, 6]],\n",
       " \n",
       "        [[7, 8, 9],\n",
       "         [1, 2, 3]],\n",
       " \n",
       "        [[3, 2, 1],\n",
       "         [4, 1, 0]]])>,\n",
       " 3)"
      ]
     },
     "execution_count": 6,
     "metadata": {},
     "output_type": "execute_result"
    }
   ],
   "source": [
    "# Wielowymiarowy\n",
    "b = tf.constant([[[1, 2, 3],\n",
    "                  [4, 5, 6]],\n",
    "                 [[7, 8, 9],\n",
    "                  [1, 2, 3]],\n",
    "                 [[3, 2, 1],\n",
    "                  [4, 1, 0]]])\n",
    "b, b.ndim"
   ]
  },
  {
   "cell_type": "markdown",
   "id": "849ad342-4114-4350-ba7b-3751c7be480a",
   "metadata": {},
   "source": [
    "## Zmienny tensor"
   ]
  },
  {
   "cell_type": "code",
   "execution_count": 7,
   "id": "191dca15-7f83-44e1-b4b1-45c016e514ef",
   "metadata": {},
   "outputs": [
    {
     "data": {
      "text/plain": [
       "(<tf.Variable 'Variable:0' shape=(2,) dtype=int32, numpy=array([10,  7])>,\n",
       " <tf.Tensor: shape=(2,), dtype=int32, numpy=array([10,  7])>)"
      ]
     },
     "execution_count": 7,
     "metadata": {},
     "output_type": "execute_result"
    }
   ],
   "source": [
    "# Porównanie zmiennego do stałego\n",
    "x = tf.Variable([10, 7])\n",
    "y = tf.constant([10, 7])\n",
    "\n",
    "x, y"
   ]
  },
  {
   "cell_type": "code",
   "execution_count": 8,
   "id": "c8f10c3e-e4d1-4833-8a25-c47bee150e18",
   "metadata": {},
   "outputs": [
    {
     "data": {
      "text/plain": [
       "<tf.Variable 'Variable:0' shape=(2,) dtype=int32, numpy=array([2, 7])>"
      ]
     },
     "execution_count": 8,
     "metadata": {},
     "output_type": "execute_result"
    }
   ],
   "source": [
    "# Zmana wartości\n",
    "x[0].assign(2)\n",
    "x"
   ]
  },
  {
   "cell_type": "code",
   "execution_count": 9,
   "id": "afd05787-a77e-44f2-bc47-916c3caa06a8",
   "metadata": {},
   "outputs": [
    {
     "data": {
      "text/plain": [
       "7"
      ]
     },
     "execution_count": 9,
     "metadata": {},
     "output_type": "execute_result"
    }
   ],
   "source": [
    "# Odczyt i zamiana do zwykłej zmiennej\n",
    "y = x[1].numpy()\n",
    "y"
   ]
  },
  {
   "cell_type": "markdown",
   "id": "d7c327fb-875b-4c73-9f64-666b89a8cbfa",
   "metadata": {},
   "source": [
    "## Range tensor"
   ]
  },
  {
   "cell_type": "code",
   "execution_count": 10,
   "id": "0937d886-5fbc-427b-ade0-8579f5bfc2c1",
   "metadata": {},
   "outputs": [
    {
     "data": {
      "text/plain": [
       "<tf.Tensor: shape=(10,), dtype=int32, numpy=array([0, 1, 2, 3, 4, 5, 6, 7, 8, 9])>"
      ]
     },
     "execution_count": 10,
     "metadata": {},
     "output_type": "execute_result"
    }
   ],
   "source": [
    "# tf.range(start, limit=None, delta=1, dtype=None, name='range')\n",
    "tf.range(0, 10)"
   ]
  },
  {
   "cell_type": "code",
   "execution_count": 11,
   "id": "fb152ca6-c2e9-48a7-8d15-70f375315b1b",
   "metadata": {},
   "outputs": [
    {
     "data": {
      "text/plain": [
       "<tf.Tensor: shape=(15,), dtype=int32, numpy=array([ 0,  7, 14, 21, 28, 35, 42, 49, 56, 63, 70, 77, 84, 91, 98])>"
      ]
     },
     "execution_count": 11,
     "metadata": {},
     "output_type": "execute_result"
    }
   ],
   "source": [
    "# tf.range(start, limit=None, delta=1, dtype=None, name='range')\n",
    "tf.range(0, 100, 7)"
   ]
  },
  {
   "cell_type": "markdown",
   "id": "c0ac9c84-1b61-424a-99a1-ae05c03ce5f3",
   "metadata": {},
   "source": [
    "## Random tensor"
   ]
  },
  {
   "cell_type": "code",
   "execution_count": 12,
   "id": "4953ce83-21f3-4bf9-91cb-a7c7e281bac6",
   "metadata": {},
   "outputs": [
    {
     "data": {
      "text/plain": [
       "(<tf.Tensor: shape=(3, 2), dtype=float32, numpy=\n",
       " array([[-0.7565803 , -0.06854702],\n",
       "        [ 0.07595026, -1.2573844 ],\n",
       "        [-0.23193763, -1.8107855 ]], dtype=float32)>,\n",
       " <tf.Tensor: shape=(3, 2), dtype=float32, numpy=\n",
       " array([[-0.7565803 , -0.06854702],\n",
       "        [ 0.07595026, -1.2573844 ],\n",
       "        [-0.23193763, -1.8107855 ]], dtype=float32)>,\n",
       " <tf.Tensor: shape=(3, 2), dtype=bool, numpy=\n",
       " array([[ True,  True],\n",
       "        [ True,  True],\n",
       "        [ True,  True]])>)"
      ]
     },
     "execution_count": 12,
     "metadata": {},
     "output_type": "execute_result"
    }
   ],
   "source": [
    "# Generowanie losowego tensora o kształcie (3, 3) z wartościami z rozkładu normalnego\n",
    "x = tf.random.Generator.from_seed(42)\n",
    "x = x.normal(shape=(3, 2))\n",
    "y = tf.random.Generator.from_seed(42)\n",
    "y = y.normal(shape=(3, 2))\n",
    "x, y, x==y"
   ]
  },
  {
   "cell_type": "code",
   "execution_count": 13,
   "id": "74a6ac17-37cc-40d8-a000-ff146562506c",
   "metadata": {},
   "outputs": [
    {
     "data": {
      "text/plain": [
       "(<tf.Tensor: shape=(2, 2), dtype=float32, numpy=\n",
       " array([[ 0.3274685, -0.8426258],\n",
       "        [ 0.3194337, -1.4075519]], dtype=float32)>,\n",
       " <tf.Tensor: shape=(2, 2), dtype=float32, numpy=\n",
       " array([[ 0.3274685, -0.8426258],\n",
       "        [ 0.3194337, -1.4075519]], dtype=float32)>,\n",
       " <tf.Tensor: shape=(2, 2), dtype=bool, numpy=\n",
       " array([[ True,  True],\n",
       "        [ True,  True]])>)"
      ]
     },
     "execution_count": 13,
     "metadata": {},
     "output_type": "execute_result"
    }
   ],
   "source": [
    "tf.random.set_seed(42)\n",
    "x = tf.random.normal([2,2])\n",
    "tf.random.set_seed(42)\n",
    "y = tf.random.normal([2,2])\n",
    "\n",
    "x, y, x==y"
   ]
  },
  {
   "cell_type": "code",
   "execution_count": 14,
   "id": "83194482-f1ab-4b58-a22f-159d4ae1d85a",
   "metadata": {},
   "outputs": [
    {
     "data": {
      "text/plain": [
       "(<tf.Tensor: shape=(3, 3), dtype=float32, numpy=\n",
       " array([[ 0.08422458, -0.86090374,  0.37812304],\n",
       "        [-0.00519627, -0.49453196,  0.6178192 ],\n",
       "        [-0.33082047, -0.00138408, -0.4237341 ]], dtype=float32)>,\n",
       " <tf.Tensor: shape=(3, 3), dtype=float32, numpy=\n",
       " array([[0.7413678 , 0.62854624, 0.01738465],\n",
       "        [0.3431449 , 0.51063764, 0.3777541 ],\n",
       "        [0.07321596, 0.02137029, 0.2871771 ]], dtype=float32)>,\n",
       " <tf.Tensor: shape=(3, 3), dtype=float32, numpy=\n",
       " array([[2., 1., 1.],\n",
       "        [4., 1., 1.],\n",
       "        [3., 0., 2.]], dtype=float32)>)"
      ]
     },
     "execution_count": 14,
     "metadata": {},
     "output_type": "execute_result"
    }
   ],
   "source": [
    "x = tf.random.normal(shape=(3, 3)) # rozkład normalny\n",
    "y = tf.random.uniform(shape=(3, 3)) # zawierającego losowe wartości z rozkładu jednostajnego\n",
    "z = tf.random.poisson(shape=(3, 3), lam=2) #  losowe wartości z rozkładu Poissona\n",
    "\n",
    "x, y, z"
   ]
  },
  {
   "cell_type": "code",
   "execution_count": 15,
   "id": "93021f98-5aa7-4aad-b9f6-2d338afcd13f",
   "metadata": {},
   "outputs": [
    {
     "data": {
      "text/plain": [
       "<tf.Tensor: shape=(50,), dtype=float32, numpy=\n",
       "array([0.6645621 , 0.44100678, 0.3528825 , 0.46448255, 0.03366041,\n",
       "       0.68467236, 0.74011743, 0.8724445 , 0.22632635, 0.22319686,\n",
       "       0.3103881 , 0.7223358 , 0.13318717, 0.5480639 , 0.5746088 ,\n",
       "       0.8996835 , 0.00946367, 0.5212307 , 0.6345445 , 0.1993283 ,\n",
       "       0.72942245, 0.54583454, 0.10756552, 0.6767061 , 0.6602763 ,\n",
       "       0.33695042, 0.60141766, 0.21062577, 0.8527372 , 0.44062173,\n",
       "       0.9485276 , 0.23752594, 0.81179297, 0.5263394 , 0.494308  ,\n",
       "       0.21612847, 0.8457197 , 0.8718841 , 0.3083862 , 0.6868038 ,\n",
       "       0.23764038, 0.7817228 , 0.9671384 , 0.06870162, 0.79873943,\n",
       "       0.66028714, 0.5871513 , 0.16461694, 0.7381023 , 0.32054043],\n",
       "      dtype=float32)>"
      ]
     },
     "execution_count": 15,
     "metadata": {},
     "output_type": "execute_result"
    }
   ],
   "source": [
    "tf.random.set_seed(42)\n",
    "tensor = tf.random.uniform(shape=[50])\n",
    "tensor"
   ]
  },
  {
   "cell_type": "code",
   "execution_count": 16,
   "id": "5b614896-f897-45b6-8690-3bf0702302e2",
   "metadata": {},
   "outputs": [
    {
     "data": {
      "text/plain": [
       "<tf.Tensor: shape=(50,), dtype=int32, numpy=\n",
       "array([51, 92, 14, 71, 60, 20, 82, 86, 74, 74, 87, 99, 23,  2, 21, 52,  1,\n",
       "       87, 29, 37,  1, 63, 59, 20, 32, 75, 57, 21, 88, 48, 90, 58, 41, 91,\n",
       "       59, 79, 14, 61, 61, 46, 61, 50, 54, 63,  2, 50,  6, 20, 72, 38])>"
      ]
     },
     "execution_count": 16,
     "metadata": {},
     "output_type": "execute_result"
    }
   ],
   "source": [
    "np.random.seed(42)\n",
    "tensor = tf.constant(np.random.randint(0, 100, size=50))\n",
    "tensor"
   ]
  },
  {
   "cell_type": "markdown",
   "id": "b9f47973-862b-49b4-a938-7cb4d9187227",
   "metadata": {},
   "source": [
    "## Tasowanie danymi w tensorze"
   ]
  },
  {
   "cell_type": "code",
   "execution_count": 17,
   "id": "5a19a7b3-6bdf-4ae1-a08b-3b66318e1547",
   "metadata": {},
   "outputs": [
    {
     "data": {
      "text/plain": [
       "<tf.Tensor: shape=(4, 2), dtype=int32, numpy=\n",
       "array([[7, 8],\n",
       "       [1, 2],\n",
       "       [3, 4],\n",
       "       [5, 6]])>"
      ]
     },
     "execution_count": 17,
     "metadata": {},
     "output_type": "execute_result"
    }
   ],
   "source": [
    "# tasuje dane tylko elementami najwyższego wymiaru\n",
    "tf.random.set_seed(42)\n",
    "data = tf.constant([[1, 2], [3, 4], [5, 6], [7, 8]])\n",
    "tf.random.shuffle(data)"
   ]
  },
  {
   "cell_type": "markdown",
   "id": "2a316adf-248c-4be2-8ba7-d541679971a6",
   "metadata": {},
   "source": [
    "## Seed globalny i operacyjny"
   ]
  },
  {
   "cell_type": "code",
   "execution_count": 18,
   "id": "972beeb6-7ae9-43ae-9784-e730976fe4a6",
   "metadata": {},
   "outputs": [
    {
     "data": {
      "text/plain": [
       "<tf.Tensor: shape=(3, 3), dtype=float32, numpy=\n",
       "array([[-0.8980837 , -1.8259144 , -0.44441807],\n",
       "       [-1.4882947 , -0.7855463 ,  0.19619656],\n",
       "       [ 0.17604655, -1.5252506 ,  0.635294  ]], dtype=float32)>"
      ]
     },
     "execution_count": 18,
     "metadata": {},
     "output_type": "execute_result"
    }
   ],
   "source": [
    "# Globalny seed: \n",
    "# Ustawienie globalnego ziarna (global seed) umożliwia ustalenie ziarna generatora liczb pseudolosowych dla całej sesji TensorFlow. \n",
    "# Możesz to zrobić przy użyciu tf.random.set_seed(). Ustawienie globalnego ziarna pozwala na kontrolowanie losowości w całej sesji TensorFlow. \n",
    "# Na przykład:\n",
    "# Ustawienie globalnego ziarna\n",
    "tf.random.set_seed(123)\n",
    "# Tworzenie tensora z losowymi wartościami\n",
    "tf.random.normal(shape=(3, 3))"
   ]
  },
  {
   "cell_type": "code",
   "execution_count": 19,
   "id": "42ca919a-ef26-46c9-958e-aff147892be6",
   "metadata": {},
   "outputs": [
    {
     "data": {
      "text/plain": [
       "<tf.Tensor: shape=(4, 2), dtype=int32, numpy=\n",
       "array([[7, 8],\n",
       "       [1, 2],\n",
       "       [5, 6],\n",
       "       [3, 4]])>"
      ]
     },
     "execution_count": 19,
     "metadata": {},
     "output_type": "execute_result"
    }
   ],
   "source": [
    "# Seed operacyjny: \n",
    "# Możesz również ustawić ziarno (seed) dla konkretnej operacji lub tensora, co umożliwia kontrolę nad losowością dla danej operacji lub tensora. \n",
    "# Możesz to zrobić poprzez ustawienie parametru seed w odpowiedniej funkcji TensorFlow, na przykład tf.random.shuffle().\n",
    "# Ustawienie seed operacyjnego dla tasowania danych\n",
    "tf.random.shuffle(data, seed=123)"
   ]
  },
  {
   "cell_type": "code",
   "execution_count": 20,
   "id": "de100f55-5297-4c2b-b8ba-2fcdf7354595",
   "metadata": {},
   "outputs": [
    {
     "data": {
      "text/plain": [
       "(<tf.Tensor: shape=(3, 3), dtype=float32, numpy=\n",
       " array([[-0.8980837 , -1.8259144 , -0.44441807],\n",
       "        [-1.4882947 , -0.7855463 ,  0.19619656],\n",
       "        [ 0.17604655, -1.5252506 ,  0.635294  ]], dtype=float32)>,\n",
       " <tf.Tensor: shape=(3, 3), dtype=float32, numpy=\n",
       " array([[ 0.9301948 ,  0.09106961,  0.3893619 ],\n",
       "        [ 1.4705666 ,  0.3001138 , -0.8969683 ],\n",
       "        [ 0.42988804,  1.3693097 ,  0.79081714]], dtype=float32)>,\n",
       " <tf.Tensor: shape=(3, 3), dtype=float32, numpy=\n",
       " array([[ 0.33875433,  0.3449861 , -0.6605785 ],\n",
       "        [-0.2854994 ,  0.43852386,  0.8288566 ],\n",
       "        [-0.53591555, -0.5353483 , -1.0324248 ]], dtype=float32)>)"
      ]
     },
     "execution_count": 20,
     "metadata": {},
     "output_type": "execute_result"
    }
   ],
   "source": [
    "tf.random.set_seed(123)\n",
    "x = tf.random.normal(shape=(3, 3))\n",
    "y = tf.random.normal(shape=(3, 3), seed=12) # zmieniając wartość seed operacyjną, zmieniamy losowanie, tylko dla tej operacji\n",
    "z = tf.random.normal(shape=(3, 3))\n",
    "x, y, z"
   ]
  },
  {
   "cell_type": "markdown",
   "id": "c5c951a9-800f-44a7-b5d8-d2cc47e91502",
   "metadata": {},
   "source": [
    "## Inne sposoby tworzenia tensorów"
   ]
  },
  {
   "cell_type": "code",
   "execution_count": 21,
   "id": "fa77f525-c236-4338-b1a7-53d8dfff849e",
   "metadata": {},
   "outputs": [
    {
     "data": {
      "text/plain": [
       "<tf.Tensor: shape=(2, 3), dtype=int32, numpy=\n",
       "array([[1, 1, 1],\n",
       "       [1, 1, 1]])>"
      ]
     },
     "execution_count": 21,
     "metadata": {},
     "output_type": "execute_result"
    }
   ],
   "source": [
    "tf.ones(shape=(2, 3), dtype=tf.int32)"
   ]
  },
  {
   "cell_type": "code",
   "execution_count": 22,
   "id": "5ab43dff-473f-41e0-9ac4-41920e39c630",
   "metadata": {},
   "outputs": [
    {
     "data": {
      "text/plain": [
       "<tf.Tensor: shape=(1, 2), dtype=float32, numpy=array([[0., 0.]], dtype=float32)>"
      ]
     },
     "execution_count": 22,
     "metadata": {},
     "output_type": "execute_result"
    }
   ],
   "source": [
    "tf.zeros(shape=(1,2))"
   ]
  },
  {
   "cell_type": "code",
   "execution_count": 23,
   "id": "443ce279-a179-4cfe-bbc0-e8b2c03531ae",
   "metadata": {},
   "outputs": [
    {
     "data": {
      "text/plain": [
       "(array([[0., 0., 0.],\n",
       "        [0., 0., 0.]]),\n",
       " array([[1., 1., 1., 1.],\n",
       "        [1., 1., 1., 1.],\n",
       "        [1., 1., 1., 1.]]))"
      ]
     },
     "execution_count": 23,
     "metadata": {},
     "output_type": "execute_result"
    }
   ],
   "source": [
    "x = np.zeros([2, 3])\n",
    "y = np.ones([3, 4])\n",
    "x, y"
   ]
  },
  {
   "cell_type": "code",
   "execution_count": 24,
   "id": "4a36e8eb-bd37-46e8-9e97-23717de72111",
   "metadata": {},
   "outputs": [
    {
     "data": {
      "text/plain": [
       "<tf.Tensor: shape=(2, 3), dtype=int64, numpy=\n",
       "array([[0, 0, 0],\n",
       "       [0, 0, 0]], dtype=int64)>"
      ]
     },
     "execution_count": 24,
     "metadata": {},
     "output_type": "execute_result"
    }
   ],
   "source": [
    "# z numpy na tensor\n",
    "tx = tf.constant(x, dtype=tf.int64) # odrazu rzutowanie na typ int64, bo z automatu numpy zrobiło float\n",
    "tx"
   ]
  },
  {
   "cell_type": "code",
   "execution_count": 25,
   "id": "c995df45-cc68-4fa7-90e5-1c5a2a6aef30",
   "metadata": {},
   "outputs": [
    {
     "data": {
      "text/plain": [
       "(<tf.Tensor: shape=(6,), dtype=float64, numpy=array([0., 0., 0., 0., 0., 0.])>,\n",
       " <tf.Tensor: shape=(3, 2), dtype=float64, numpy=\n",
       " array([[0., 0.],\n",
       "        [0., 0.],\n",
       "        [0., 0.]])>)"
      ]
     },
     "execution_count": 25,
     "metadata": {},
     "output_type": "execute_result"
    }
   ],
   "source": [
    "# z numpy na tensor ze zmianą kształtu\n",
    "tx = tf.constant(x, shape=(6))\n",
    "ty = tf.constant(x, shape=(3, 2))\n",
    "tx, ty"
   ]
  },
  {
   "cell_type": "markdown",
   "id": "24c6ede5-0877-46f5-bd59-ddc874e1e67d",
   "metadata": {},
   "source": [
    "## Atrybuty tensora\n",
    "* shape\n",
    "* rank \n",
    "* axis or dimension \n",
    "* size "
   ]
  },
  {
   "cell_type": "code",
   "execution_count": 26,
   "id": "58202219-58f6-4add-b1ea-118b0d1c9c13",
   "metadata": {},
   "outputs": [
    {
     "data": {
      "text/plain": [
       "<tf.Tensor: shape=(2, 3, 4, 5), dtype=float16, numpy=\n",
       "array([[[[ 3.2739e-01, -8.4277e-01,  3.1934e-01, -1.4072e+00,\n",
       "          -2.3887e+00],\n",
       "         [-1.0391e+00, -5.5713e-01,  5.3955e-01,  1.6992e+00,\n",
       "           2.8882e-01],\n",
       "         [-1.5068e+00, -2.6465e-01, -5.9717e-01, -1.9170e+00,\n",
       "          -6.2061e-01],\n",
       "         [ 8.5059e-01, -4.0601e-01, -3.0254e+00,  9.0576e-01,\n",
       "           2.9858e-01]],\n",
       "\n",
       "        [[-2.2559e-01, -7.6172e-01, -1.8916e+00, -9.3848e-01,\n",
       "           7.7832e-01],\n",
       "         [-4.7339e-01,  9.7754e-01,  2.4695e-01,  2.0569e-01,\n",
       "          -5.2539e-01],\n",
       "         [ 3.2422e-01,  2.5452e-02, -1.0638e-01, -6.3672e-01,\n",
       "           1.1602e+00],\n",
       "         [ 2.5073e-01, -4.1724e-01,  4.0137e-01, -1.4141e+00,\n",
       "          -5.9326e-01]],\n",
       "\n",
       "        [[-1.6621e+00,  3.3569e-01,  1.0815e-01,  2.3474e-01,\n",
       "          -5.6689e-01],\n",
       "         [-3.5815e-01,  8.8721e-01,  5.2734e-01,  7.0410e-01,\n",
       "          -3.3423e-01],\n",
       "         [ 2.1643e-01, -9.7510e-01, -2.0752e-01, -3.6469e-02,\n",
       "          -1.3350e+00],\n",
       "         [ 6.8848e-01,  1.1113e+00,  4.0137e-01,  6.3184e-01,\n",
       "          -3.9038e-01]]],\n",
       "\n",
       "\n",
       "       [[[ 1.4609e+00, -6.3379e-01, -9.9951e-01, -8.8024e-04,\n",
       "           1.0713e+00],\n",
       "         [ 4.8120e-01, -1.6016e+00, -1.2207e+00, -2.6025e-01,\n",
       "          -1.4941e-01],\n",
       "         [ 1.1270e+00, -1.0439e+00,  1.1592e+00,  5.1416e-01,\n",
       "          -1.0850e+00],\n",
       "         [-3.1299e-01,  4.2554e-01, -1.8054e-01, -1.9324e-01,\n",
       "           9.5264e-01]],\n",
       "\n",
       "        [[ 2.0059e+00, -5.9521e-01,  2.7222e-01,  2.4268e-01,\n",
       "           1.5068e+00],\n",
       "         [-1.1646e-01, -1.5400e+00,  2.1328e+00, -4.6582e-01,\n",
       "          -8.2031e-01],\n",
       "         [-1.7314e+00, -3.6035e-01,  4.1162e-01,  1.3613e+00,\n",
       "          -1.6211e+00],\n",
       "         [ 1.0811e+00,  2.0544e-01,  3.0176e-01, -1.5635e+00,\n",
       "          -1.5674e+00]],\n",
       "\n",
       "        [[-1.2292e-01, -1.4033e+00, -9.1992e-01,  3.1470e-01,\n",
       "           1.8623e+00],\n",
       "         [ 3.4424e-01,  5.0586e-01,  8.2861e-01, -1.6113e-01,\n",
       "           3.7109e-01],\n",
       "         [ 1.2952e-01, -9.9512e-01,  1.7471e+00, -9.0430e-01,\n",
       "          -3.8818e-01],\n",
       "         [ 6.3293e-02, -6.8555e-01, -6.5820e-01,  7.3779e-01,\n",
       "          -1.2383e+00]]]], dtype=float16)>"
      ]
     },
     "execution_count": 26,
     "metadata": {},
     "output_type": "execute_result"
    }
   ],
   "source": [
    "tf.random.set_seed(42)\n",
    "rank_4_tensor = tf.random.normal(shape=(2, 3, 4, 5), dtype=tf.float16)\n",
    "rank_4_tensor"
   ]
  },
  {
   "cell_type": "code",
   "execution_count": 27,
   "id": "fbca6fbc-cb40-433b-881e-f189fd40bd1c",
   "metadata": {},
   "outputs": [
    {
     "data": {
      "text/plain": [
       "<tf.Tensor: shape=(3, 4, 5), dtype=float16, numpy=\n",
       "array([[[ 0.3274 , -0.843  ,  0.3193 , -1.407  , -2.389  ],\n",
       "        [-1.039  , -0.557  ,  0.5396 ,  1.699  ,  0.2888 ],\n",
       "        [-1.507  , -0.2646 , -0.597  , -1.917  , -0.6206 ],\n",
       "        [ 0.8506 , -0.406  , -3.025  ,  0.906  ,  0.2986 ]],\n",
       "\n",
       "       [[-0.2256 , -0.7617 , -1.892  , -0.9385 ,  0.7783 ],\n",
       "        [-0.4734 ,  0.9775 ,  0.247  ,  0.2057 , -0.5254 ],\n",
       "        [ 0.3242 ,  0.02545, -0.1064 , -0.6367 ,  1.16   ],\n",
       "        [ 0.2507 , -0.4172 ,  0.4014 , -1.414  , -0.5933 ]],\n",
       "\n",
       "       [[-1.662  ,  0.3357 ,  0.10815,  0.2347 , -0.567  ],\n",
       "        [-0.3582 ,  0.887  ,  0.5273 ,  0.704  , -0.3342 ],\n",
       "        [ 0.2164 , -0.975  , -0.2075 , -0.03647, -1.335  ],\n",
       "        [ 0.6885 ,  1.111  ,  0.4014 ,  0.632  , -0.3904 ]]],\n",
       "      dtype=float16)>"
      ]
     },
     "execution_count": 27,
     "metadata": {},
     "output_type": "execute_result"
    }
   ],
   "source": [
    "rank_4_tensor[0]"
   ]
  },
  {
   "cell_type": "code",
   "execution_count": 28,
   "id": "b8b2b6f5-bd74-40c9-a213-70e3b86e1579",
   "metadata": {},
   "outputs": [
    {
     "data": {
      "text/plain": [
       "<tf.Tensor: shape=(4, 5), dtype=float16, numpy=\n",
       "array([[ 0.3274, -0.843 ,  0.3193, -1.407 , -2.389 ],\n",
       "       [-1.039 , -0.557 ,  0.5396,  1.699 ,  0.2888],\n",
       "       [-1.507 , -0.2646, -0.597 , -1.917 , -0.6206],\n",
       "       [ 0.8506, -0.406 , -3.025 ,  0.906 ,  0.2986]], dtype=float16)>"
      ]
     },
     "execution_count": 28,
     "metadata": {},
     "output_type": "execute_result"
    }
   ],
   "source": [
    "rank_4_tensor[0, 0]"
   ]
  },
  {
   "cell_type": "code",
   "execution_count": 29,
   "id": "55b72da0-02db-4ad4-b8fd-b5164a5bf478",
   "metadata": {},
   "outputs": [
    {
     "data": {
      "text/plain": [
       "<tf.Tensor: shape=(5,), dtype=float16, numpy=array([ 0.3274, -0.843 ,  0.3193, -1.407 , -2.389 ], dtype=float16)>"
      ]
     },
     "execution_count": 29,
     "metadata": {},
     "output_type": "execute_result"
    }
   ],
   "source": [
    "rank_4_tensor[0, 0, 0]"
   ]
  },
  {
   "cell_type": "code",
   "execution_count": 30,
   "id": "2c60de8f-495e-482f-8acf-72a715506fbe",
   "metadata": {},
   "outputs": [
    {
     "data": {
      "text/plain": [
       "<tf.Tensor: shape=(), dtype=float16, numpy=0.3274>"
      ]
     },
     "execution_count": 30,
     "metadata": {},
     "output_type": "execute_result"
    }
   ],
   "source": [
    "rank_4_tensor[0, 0, 0, 0]"
   ]
  },
  {
   "cell_type": "code",
   "execution_count": 31,
   "id": "d6a32aee-2d2b-4ae7-99df-014e63993ca6",
   "metadata": {},
   "outputs": [
    {
     "data": {
      "text/plain": [
       "[2, 3, 4, 5]"
      ]
     },
     "execution_count": 31,
     "metadata": {},
     "output_type": "execute_result"
    }
   ],
   "source": [
    "out = list(rank_4_tensor.shape)\n",
    "out"
   ]
  },
  {
   "cell_type": "code",
   "execution_count": 32,
   "id": "91a3dd02-7cbf-4db3-912e-ef68e5c824ff",
   "metadata": {},
   "outputs": [
    {
     "data": {
      "text/plain": [
       "2"
      ]
     },
     "execution_count": 32,
     "metadata": {},
     "output_type": "execute_result"
    }
   ],
   "source": [
    "out = (rank_4_tensor.shape[0]) # pierwszy\n",
    "out"
   ]
  },
  {
   "cell_type": "code",
   "execution_count": 33,
   "id": "58ec7ab0-f957-4aac-ad11-14b9facf17ac",
   "metadata": {},
   "outputs": [
    {
     "data": {
      "text/plain": [
       "5"
      ]
     },
     "execution_count": 33,
     "metadata": {},
     "output_type": "execute_result"
    }
   ],
   "source": [
    "out = (rank_4_tensor.shape[-1]) # ostatni\n",
    "out"
   ]
  },
  {
   "cell_type": "code",
   "execution_count": 34,
   "id": "ed505fe9-43f3-464b-b031-0105a92f3358",
   "metadata": {},
   "outputs": [
    {
     "data": {
      "text/plain": [
       "4"
      ]
     },
     "execution_count": 34,
     "metadata": {},
     "output_type": "execute_result"
    }
   ],
   "source": [
    "out = rank_4_tensor.ndim\n",
    "out"
   ]
  },
  {
   "cell_type": "code",
   "execution_count": 35,
   "id": "4f821a92-71ab-4f2c-8376-2118e63e1196",
   "metadata": {},
   "outputs": [
    {
     "data": {
      "text/plain": [
       "120"
      ]
     },
     "execution_count": 35,
     "metadata": {},
     "output_type": "execute_result"
    }
   ],
   "source": [
    "out = tf.size(rank_4_tensor).numpy()\n",
    "out"
   ]
  },
  {
   "cell_type": "markdown",
   "id": "14ab03f0-2b98-4700-89e1-be8dfc733b03",
   "metadata": {},
   "source": [
    "## Indeksowanie w tensorach"
   ]
  },
  {
   "cell_type": "code",
   "execution_count": 36,
   "id": "ff33a064-a9d3-4bf0-90df-e78632770fa2",
   "metadata": {},
   "outputs": [
    {
     "data": {
      "text/plain": [
       "[1, 2]"
      ]
     },
     "execution_count": 36,
     "metadata": {},
     "output_type": "execute_result"
    }
   ],
   "source": [
    "# Ineksowanie w tensorach jest takie samo jak w listach python\n",
    "lista = [1, 2, 3, 4, 5, 6, 7] \n",
    "lista[:2] # pierwsze dwa elementy"
   ]
  },
  {
   "cell_type": "code",
   "execution_count": 37,
   "id": "cc4753ef-4d7f-4731-85b9-c87499085fca",
   "metadata": {},
   "outputs": [
    {
     "data": {
      "text/plain": [
       "(<tf.Tensor: shape=(3, 2, 2), dtype=int32, numpy=\n",
       " array([[[1, 2],\n",
       "         [3, 4]],\n",
       " \n",
       "        [[5, 6],\n",
       "         [7, 8]],\n",
       " \n",
       "        [[9, 0],\n",
       "         [1, 2]]])>,\n",
       " 3)"
      ]
     },
     "execution_count": 37,
     "metadata": {},
     "output_type": "execute_result"
    }
   ],
   "source": [
    "tensor = tf.constant([[[1, 2],\n",
    "                       [3, 4]],\n",
    "                      [[5, 6],\n",
    "                       [7, 8]],\n",
    "                      [[9, 0],\n",
    "                       [1, 2]]])\n",
    "tensor, tensor.ndim"
   ]
  },
  {
   "cell_type": "code",
   "execution_count": 38,
   "id": "6ac2e32d-e388-4b0e-8c9b-cbf1ee572d74",
   "metadata": {},
   "outputs": [
    {
     "data": {
      "text/plain": [
       "<tf.Tensor: shape=(1, 2, 2), dtype=int32, numpy=\n",
       "array([[[1, 2],\n",
       "        [3, 4]]])>"
      ]
     },
     "execution_count": 38,
     "metadata": {},
     "output_type": "execute_result"
    }
   ],
   "source": [
    "tensor[:1]"
   ]
  },
  {
   "cell_type": "markdown",
   "id": "46bdc21b-9ed2-4e31-909b-11fce5a6a176",
   "metadata": {},
   "source": [
    "## Unsqueezing, rozszerzenie tensora"
   ]
  },
  {
   "cell_type": "code",
   "execution_count": 39,
   "id": "54c4e31b-38f5-4ccf-b6fc-ce409091be76",
   "metadata": {},
   "outputs": [
    {
     "data": {
      "text/plain": [
       "<tf.Tensor: shape=(2, 2), dtype=int32, numpy=\n",
       "array([[10,  7],\n",
       "       [ 3,  4]])>"
      ]
     },
     "execution_count": 39,
     "metadata": {},
     "output_type": "execute_result"
    }
   ],
   "source": [
    "rank_2_tensor = tf.constant([[10, 7],\n",
    "                             [3, 4]])\n",
    "rank_2_tensor"
   ]
  },
  {
   "cell_type": "code",
   "execution_count": 40,
   "id": "a24f91dc-2351-4032-8ade-b03b1323a469",
   "metadata": {},
   "outputs": [
    {
     "data": {
      "text/plain": [
       "<tf.Tensor: shape=(2,), dtype=int32, numpy=array([7, 4])>"
      ]
     },
     "execution_count": 40,
     "metadata": {},
     "output_type": "execute_result"
    }
   ],
   "source": [
    "# każdy ostatni element wiersza\n",
    "rank_2_tensor[:, -1]"
   ]
  },
  {
   "cell_type": "code",
   "execution_count": 41,
   "id": "df6f098b-b2d3-4915-bd44-b060ec823efe",
   "metadata": {},
   "outputs": [
    {
     "data": {
      "text/plain": [
       "<tf.Tensor: shape=(2, 2, 1), dtype=int32, numpy=\n",
       "array([[[10],\n",
       "        [ 7]],\n",
       "\n",
       "       [[ 3],\n",
       "        [ 4]]])>"
      ]
     },
     "execution_count": 41,
     "metadata": {},
     "output_type": "execute_result"
    }
   ],
   "source": [
    "rank_3_tensor = rank_2_tensor[..., tf.newaxis]\n",
    "rank_3_tensor"
   ]
  },
  {
   "cell_type": "code",
   "execution_count": 42,
   "id": "375654f0-25fa-429c-a36d-5116a8d7158f",
   "metadata": {},
   "outputs": [
    {
     "name": "stdout",
     "output_type": "stream",
     "text": [
      "tf.Tensor(\n",
      "[[1]\n",
      " [2]\n",
      " [3]\n",
      " [4]\n",
      " [5]], shape=(5, 1), dtype=int32)\n"
     ]
    }
   ],
   "source": [
    "# Przykładowy jednowymiarowy tensor\n",
    "tensor = tf.constant([1, 2, 3, 4, 5])\n",
    "# Dodanie nowej osi do tensora\n",
    "new_tensor = tensor[..., tf.newaxis]\n",
    "# Wyświetlenie nowego tensora\n",
    "print(new_tensor)"
   ]
  },
  {
   "cell_type": "code",
   "execution_count": 43,
   "id": "57f4be40-d094-4f5a-bf88-4e009a70cfa0",
   "metadata": {},
   "outputs": [
    {
     "data": {
      "text/plain": [
       "<tf.Tensor: shape=(2, 2, 1), dtype=int32, numpy=\n",
       "array([[[10],\n",
       "        [ 7]],\n",
       "\n",
       "       [[ 3],\n",
       "        [ 4]]])>"
      ]
     },
     "execution_count": 43,
     "metadata": {},
     "output_type": "execute_result"
    }
   ],
   "source": [
    "# Opcja alternatywna dla poszerzenia wymiaru\n",
    "tf.expand_dims(rank_2_tensor, axis=-1)"
   ]
  },
  {
   "cell_type": "code",
   "execution_count": 44,
   "id": "1685383e-6e3a-4ef0-8bb4-1486f9b78c0b",
   "metadata": {},
   "outputs": [
    {
     "data": {
      "text/plain": [
       "<tf.Tensor: shape=(3, 2, 2), dtype=int32, numpy=\n",
       "array([[[1, 2],\n",
       "        [2, 3]],\n",
       "\n",
       "       [[3, 4],\n",
       "        [4, 5]],\n",
       "\n",
       "       [[5, 6],\n",
       "        [6, 7]]])>"
      ]
     },
     "execution_count": 44,
     "metadata": {},
     "output_type": "execute_result"
    }
   ],
   "source": [
    "tensor = tf.constant([[[1, 2],\n",
    "                       [2, 3]],\n",
    "                      [[3, 4],\n",
    "                       [4, 5]],\n",
    "                      [[5, 6],\n",
    "                       [6, 7]]])\n",
    "tensor"
   ]
  },
  {
   "cell_type": "code",
   "execution_count": 45,
   "id": "6d857698-b7b4-433e-85b7-9ad7de7a1da8",
   "metadata": {},
   "outputs": [
    {
     "data": {
      "text/plain": [
       "<tf.Tensor: shape=(3, 2, 2, 1), dtype=int32, numpy=\n",
       "array([[[[1],\n",
       "         [2]],\n",
       "\n",
       "        [[2],\n",
       "         [3]]],\n",
       "\n",
       "\n",
       "       [[[3],\n",
       "         [4]],\n",
       "\n",
       "        [[4],\n",
       "         [5]]],\n",
       "\n",
       "\n",
       "       [[[5],\n",
       "         [6]],\n",
       "\n",
       "        [[6],\n",
       "         [7]]]])>"
      ]
     },
     "execution_count": 45,
     "metadata": {},
     "output_type": "execute_result"
    }
   ],
   "source": [
    "tensor[..., tf.newaxis]"
   ]
  },
  {
   "cell_type": "code",
   "execution_count": 46,
   "id": "fce39506-6621-44bd-9757-ca30c836f8c8",
   "metadata": {},
   "outputs": [
    {
     "data": {
      "text/plain": [
       "<tf.Tensor: shape=(1, 3, 2, 2), dtype=int32, numpy=\n",
       "array([[[[1, 2],\n",
       "         [2, 3]],\n",
       "\n",
       "        [[3, 4],\n",
       "         [4, 5]],\n",
       "\n",
       "        [[5, 6],\n",
       "         [6, 7]]]])>"
      ]
     },
     "execution_count": 46,
     "metadata": {},
     "output_type": "execute_result"
    }
   ],
   "source": [
    "tf.expand_dims(tensor, axis=0) # dodanie wymiaru z możliwością wyboru "
   ]
  },
  {
   "cell_type": "code",
   "execution_count": 47,
   "id": "d45b9cef-acc3-4a0f-9a08-73573f11a257",
   "metadata": {},
   "outputs": [
    {
     "data": {
      "text/plain": [
       "<tf.Tensor: shape=(3, 1, 2, 2), dtype=int32, numpy=\n",
       "array([[[[1, 2],\n",
       "         [2, 3]]],\n",
       "\n",
       "\n",
       "       [[[3, 4],\n",
       "         [4, 5]]],\n",
       "\n",
       "\n",
       "       [[[5, 6],\n",
       "         [6, 7]]]])>"
      ]
     },
     "execution_count": 47,
     "metadata": {},
     "output_type": "execute_result"
    }
   ],
   "source": [
    "tf.expand_dims(tensor, axis=1)"
   ]
  },
  {
   "cell_type": "markdown",
   "id": "93021b5c-e138-4388-9b24-545a3e071f26",
   "metadata": {},
   "source": [
    "## Podstawowe operacje na tensorach ('+', '-', '*', '/')"
   ]
  },
  {
   "cell_type": "code",
   "execution_count": 48,
   "id": "0595dcc2-ffb1-446b-a373-513ad7540a47",
   "metadata": {},
   "outputs": [
    {
     "data": {
      "text/plain": [
       "<tf.Tensor: shape=(2, 2), dtype=int32, numpy=\n",
       "array([[1, 2],\n",
       "       [3, 4]])>"
      ]
     },
     "execution_count": 48,
     "metadata": {},
     "output_type": "execute_result"
    }
   ],
   "source": [
    "tensor = tf.constant([[1, 2], [3, 4]])\n",
    "tensor"
   ]
  },
  {
   "cell_type": "code",
   "execution_count": 49,
   "id": "8b69ea82-48a1-4fe4-aa7e-b1011593c250",
   "metadata": {},
   "outputs": [
    {
     "data": {
      "text/plain": [
       "<tf.Tensor: shape=(2, 2), dtype=int32, numpy=\n",
       "array([[11, 12],\n",
       "       [13, 14]])>"
      ]
     },
     "execution_count": 49,
     "metadata": {},
     "output_type": "execute_result"
    }
   ],
   "source": [
    "tensor + 10"
   ]
  },
  {
   "cell_type": "code",
   "execution_count": 50,
   "id": "d1c0d213-6d37-44b6-b95a-f3b1c253a851",
   "metadata": {},
   "outputs": [
    {
     "data": {
      "text/plain": [
       "<tf.Tensor: shape=(2, 2), dtype=int32, numpy=\n",
       "array([[-9, -8],\n",
       "       [-7, -6]])>"
      ]
     },
     "execution_count": 50,
     "metadata": {},
     "output_type": "execute_result"
    }
   ],
   "source": [
    "tensor - 10"
   ]
  },
  {
   "cell_type": "code",
   "execution_count": 51,
   "id": "7cb42fbb-1b59-44e4-97a5-1f63f18d73a3",
   "metadata": {},
   "outputs": [
    {
     "data": {
      "text/plain": [
       "<tf.Tensor: shape=(2, 2), dtype=int32, numpy=\n",
       "array([[2, 4],\n",
       "       [6, 8]])>"
      ]
     },
     "execution_count": 51,
     "metadata": {},
     "output_type": "execute_result"
    }
   ],
   "source": [
    "tensor * 2"
   ]
  },
  {
   "cell_type": "code",
   "execution_count": 52,
   "id": "bb3c4f56-4e18-42c4-a91d-0542d445938d",
   "metadata": {},
   "outputs": [
    {
     "data": {
      "text/plain": [
       "<tf.Tensor: shape=(2, 2), dtype=float64, numpy=\n",
       "array([[0.2, 0.4],\n",
       "       [0.6, 0.8]])>"
      ]
     },
     "execution_count": 52,
     "metadata": {},
     "output_type": "execute_result"
    }
   ],
   "source": [
    "tensor / 5"
   ]
  },
  {
   "cell_type": "code",
   "execution_count": 53,
   "id": "d28f8ccf-dcf8-404f-8320-ce3658ddb332",
   "metadata": {},
   "outputs": [
    {
     "data": {
      "text/plain": [
       "<tf.Tensor: shape=(2, 2), dtype=int32, numpy=\n",
       "array([[10, 20],\n",
       "       [30, 40]])>"
      ]
     },
     "execution_count": 53,
     "metadata": {},
     "output_type": "execute_result"
    }
   ],
   "source": [
    "# Funkcje wbudowane, tefunkcjie są wspierane przez gpu, a zwykłe operatrory nie muszą być\n",
    "tf.multiply(tensor, 10)"
   ]
  },
  {
   "cell_type": "code",
   "execution_count": 54,
   "id": "cb5346da-5fb4-4ad4-911d-e3cd134e75c7",
   "metadata": {},
   "outputs": [
    {
     "data": {
      "text/plain": [
       "<tf.Tensor: shape=(2, 2), dtype=float64, numpy=\n",
       "array([[0.5, 1. ],\n",
       "       [1.5, 2. ]])>"
      ]
     },
     "execution_count": 54,
     "metadata": {},
     "output_type": "execute_result"
    }
   ],
   "source": [
    "tf.divide(tensor, 2)"
   ]
  },
  {
   "cell_type": "code",
   "execution_count": 55,
   "id": "568ce5c0-9d72-4dc8-9c55-6d16ce5aa9d7",
   "metadata": {},
   "outputs": [
    {
     "data": {
      "text/plain": [
       "<tf.Tensor: shape=(2, 2), dtype=int32, numpy=\n",
       "array([[-1,  0],\n",
       "       [ 1,  2]])>"
      ]
     },
     "execution_count": 55,
     "metadata": {},
     "output_type": "execute_result"
    }
   ],
   "source": [
    "tf.subtract(tensor, 2)"
   ]
  },
  {
   "cell_type": "code",
   "execution_count": 56,
   "id": "9fa5c512-cc1d-4091-898d-7cdd617de19f",
   "metadata": {},
   "outputs": [
    {
     "data": {
      "text/plain": [
       "<tf.Tensor: shape=(2, 2), dtype=int32, numpy=\n",
       "array([[47, 48],\n",
       "       [49, 50]])>"
      ]
     },
     "execution_count": 56,
     "metadata": {},
     "output_type": "execute_result"
    }
   ],
   "source": [
    "tf.add(tensor, 46)"
   ]
  },
  {
   "cell_type": "markdown",
   "id": "3cc9f986-72b2-40af-8138-d738d63b4653",
   "metadata": {},
   "source": [
    "## Operacje na macierzach (mnożenie macierzy)"
   ]
  },
  {
   "cell_type": "code",
   "execution_count": 57,
   "id": "9714ab25-bbbc-4908-9629-a0d2f7a2d0db",
   "metadata": {},
   "outputs": [
    {
     "name": "stdout",
     "output_type": "stream",
     "text": [
      "tf.Tensor(\n",
      "[[1 2]\n",
      " [3 4]], shape=(2, 2), dtype=int32)\n"
     ]
    }
   ],
   "source": [
    "print(tensor)"
   ]
  },
  {
   "cell_type": "code",
   "execution_count": 58,
   "id": "cb101709-41ce-4d65-a984-2d45eccd338b",
   "metadata": {},
   "outputs": [
    {
     "name": "stdout",
     "output_type": "stream",
     "text": [
      "tf.Tensor(\n",
      "[[ 7 10]\n",
      " [15 22]], shape=(2, 2), dtype=int32)\n",
      "tf.Tensor(\n",
      "[[ 7 10]\n",
      " [15 22]], shape=(2, 2), dtype=int32)\n"
     ]
    }
   ],
   "source": [
    "# mnożenie 'dot product', liczba kolumn pierwszej macierzy musi być równa liczbie wierszy drugiej macierzy\n",
    "print(tensor @ tensor)\n",
    "# lub\n",
    "print(tf.matmul(tensor, tensor))"
   ]
  },
  {
   "cell_type": "code",
   "execution_count": 59,
   "id": "d92b6c12-54cd-4323-8714-553990cc7f90",
   "metadata": {},
   "outputs": [
    {
     "name": "stdout",
     "output_type": "stream",
     "text": [
      "tf.Tensor(\n",
      "[[ 1  4]\n",
      " [ 9 16]], shape=(2, 2), dtype=int32)\n",
      "tf.Tensor(\n",
      "[[ 1  4]\n",
      " [ 9 16]], shape=(2, 2), dtype=int32)\n"
     ]
    }
   ],
   "source": [
    "# mnożenie 'element-wise' lub 'mnożenie Hadamarda' -> element przez element, macierze muszą mieć ten sam kształt\n",
    "print(tensor * tensor)\n",
    "# lub\n",
    "print(tf.multiply(tensor, tensor))"
   ]
  },
  {
   "cell_type": "markdown",
   "id": "e829be13-6acb-42ee-a300-dcda54b9342b",
   "metadata": {},
   "source": [
    "### DOT PRODUCT (iloczyn skalarny)"
   ]
  },
  {
   "cell_type": "code",
   "execution_count": 60,
   "id": "76c51b32-166a-434e-9f75-72d6d75f9364",
   "metadata": {},
   "outputs": [],
   "source": [
    "# Zasady monorzenia macierzy metodą dot produkt:\n",
    "# 1. Wewnętrzne wymiary muszą być takie same:\n",
    "#    * 3x2 i 2x3,  4x16 i 16x4, 3x3 i 3x2 (2x3 i 2x3 to błąd)\n",
    "# 2. Wynikiem mnożenia jes macierz o kształcie zewnętrznych wymiarów:\n",
    "#    * 3x2*2x3=3x3, 3x3*3x2=3x2"
   ]
  },
  {
   "cell_type": "code",
   "execution_count": 61,
   "id": "9759fb95-d840-4fb5-8f62-c6821a04dba0",
   "metadata": {},
   "outputs": [
    {
     "data": {
      "text/plain": [
       "(<tf.Tensor: shape=(2, 3), dtype=int32, numpy=\n",
       " array([[1, 2, 3],\n",
       "        [4, 5, 6]])>,\n",
       " <tf.Tensor: shape=(3, 2), dtype=int32, numpy=\n",
       " array([[1, 2],\n",
       "        [3, 4],\n",
       "        [5, 6]])>)"
      ]
     },
     "execution_count": 61,
     "metadata": {},
     "output_type": "execute_result"
    }
   ],
   "source": [
    "tensor1 = tf.constant([[1, 2, 3], [4, 5, 6]])\n",
    "tensor2 = tf.constant([[1, 2], [3, 4], [5, 6]])\n",
    "tensor1, tensor2"
   ]
  },
  {
   "cell_type": "code",
   "execution_count": 62,
   "id": "e0ee6e26-7722-48db-ac1d-c7ae80ac73b4",
   "metadata": {},
   "outputs": [
    {
     "name": "stdout",
     "output_type": "stream",
     "text": [
      "tf.Tensor(\n",
      "[[22 28]\n",
      " [49 64]], shape=(2, 2), dtype=int32)\n"
     ]
    }
   ],
   "source": [
    "print(tf.matmul(tensor1, tensor2))"
   ]
  },
  {
   "cell_type": "markdown",
   "id": "91f41c18-bd21-4141-aedc-3ea7205d20f5",
   "metadata": {},
   "source": [
    "### Zmiana kształtu macierzy jak by nie pasowała do mnorzenia"
   ]
  },
  {
   "cell_type": "code",
   "execution_count": 63,
   "id": "64a6460f-d09d-441d-b88b-01edd4c87a0e",
   "metadata": {},
   "outputs": [
    {
     "name": "stdout",
     "output_type": "stream",
     "text": [
      "tf.Tensor(\n",
      "[[1 2]\n",
      " [3 4]\n",
      " [5 6]], shape=(3, 2), dtype=int32)\n",
      "tf.Tensor(\n",
      "[[1 2 3]\n",
      " [4 5 6]], shape=(2, 3), dtype=int32)\n"
     ]
    }
   ],
   "source": [
    "# zmiana kształtu z przesunięciem elementów\n",
    "print(tensor2)\n",
    "print(tf.reshape(tensor2, shape=(2, 3)))"
   ]
  },
  {
   "cell_type": "code",
   "execution_count": 64,
   "id": "e5ada7c0-effc-4534-824e-931f429de41b",
   "metadata": {},
   "outputs": [
    {
     "name": "stdout",
     "output_type": "stream",
     "text": [
      "tf.Tensor(\n",
      "[[1 2]\n",
      " [3 4]\n",
      " [5 6]], shape=(3, 2), dtype=int32)\n",
      "tf.Tensor(\n",
      "[[1 3 5]\n",
      " [2 4 6]], shape=(2, 3), dtype=int32)\n"
     ]
    }
   ],
   "source": [
    "# zmiana kształtu przez obrót\n",
    "print(tensor2)\n",
    "print(tf.transpose(tensor2))"
   ]
  },
  {
   "cell_type": "code",
   "execution_count": 65,
   "id": "ffc739e3-4011-43c7-b87c-4444e80b5dc4",
   "metadata": {},
   "outputs": [
    {
     "data": {
      "text/plain": [
       "<tf.Tensor: shape=(3, 3), dtype=int32, numpy=\n",
       "array([[ 5, 11, 17],\n",
       "       [11, 25, 39],\n",
       "       [17, 39, 61]])>"
      ]
     },
     "execution_count": 65,
     "metadata": {},
     "output_type": "execute_result"
    }
   ],
   "source": [
    "tf.matmul(tensor2, tf.transpose(tensor2)) "
   ]
  },
  {
   "cell_type": "code",
   "execution_count": 66,
   "id": "16da937c-4af6-4822-becf-c68b83b3f139",
   "metadata": {},
   "outputs": [
    {
     "data": {
      "text/plain": [
       "<tf.Tensor: shape=(3, 3), dtype=int32, numpy=\n",
       "array([[ 5, 11, 17],\n",
       "       [11, 25, 39],\n",
       "       [17, 39, 61]])>"
      ]
     },
     "execution_count": 66,
     "metadata": {},
     "output_type": "execute_result"
    }
   ],
   "source": [
    "tf.tensordot(tensor2, tf.transpose(tensor2), axes=1)"
   ]
  },
  {
   "cell_type": "markdown",
   "id": "d67a8ca6-cab5-48f1-bcc3-8b8f566f2e0e",
   "metadata": {},
   "source": [
    "### Przykład z -> matrixmultiplication.xyz"
   ]
  },
  {
   "cell_type": "code",
   "execution_count": 67,
   "id": "c8474403-c0c0-489a-97be-964525cf9043",
   "metadata": {},
   "outputs": [
    {
     "data": {
      "text/plain": [
       "(<tf.Tensor: shape=(3, 3), dtype=int32, numpy=\n",
       " array([[1, 2, 1],\n",
       "        [0, 1, 0],\n",
       "        [2, 3, 4]])>,\n",
       " <tf.Tensor: shape=(3, 2), dtype=int32, numpy=\n",
       " array([[2, 5],\n",
       "        [6, 7],\n",
       "        [1, 8]])>)"
      ]
     },
     "execution_count": 67,
     "metadata": {},
     "output_type": "execute_result"
    }
   ],
   "source": [
    "tensor1 = tf.constant([[1,2,1],[0,1,0],[2,3,4]])\n",
    "tensor2 = tf.constant([[2,5],[6,7],[1,8]])\n",
    "tensor1, tensor2"
   ]
  },
  {
   "cell_type": "code",
   "execution_count": 68,
   "id": "c395f566-8ed8-494a-ada9-b06acd0f0a2f",
   "metadata": {},
   "outputs": [
    {
     "data": {
      "text/plain": [
       "<tf.Tensor: shape=(2, 3), dtype=int32, numpy=\n",
       "array([[2, 6, 1],\n",
       "       [5, 7, 8]])>"
      ]
     },
     "execution_count": 68,
     "metadata": {},
     "output_type": "execute_result"
    }
   ],
   "source": [
    "tf.transpose(tensor2)"
   ]
  },
  {
   "cell_type": "code",
   "execution_count": 69,
   "id": "9dac5550-15b3-4402-a047-36e512180fd9",
   "metadata": {},
   "outputs": [
    {
     "data": {
      "text/plain": [
       "<tf.Tensor: shape=(3, 2), dtype=int32, numpy=\n",
       "array([[15, 27],\n",
       "       [ 6,  7],\n",
       "       [26, 63]])>"
      ]
     },
     "execution_count": 69,
     "metadata": {},
     "output_type": "execute_result"
    }
   ],
   "source": [
    "tf.matmul(tensor1, tensor2)"
   ]
  },
  {
   "cell_type": "markdown",
   "id": "52775090-d354-4739-8ff7-1a4aa1edd1f7",
   "metadata": {},
   "source": [
    "## Zmiana typu danych w tensorze (CAST)"
   ]
  },
  {
   "cell_type": "code",
   "execution_count": 70,
   "id": "5f38b2f5-07ad-44c7-acbc-5242d66edd02",
   "metadata": {},
   "outputs": [],
   "source": [
    "# Typ danych tensora jest uzależniony od typu przy tworzeniu tensora, można wymusić zmianę typu danych przy tworzeniu."
   ]
  },
  {
   "cell_type": "code",
   "execution_count": 71,
   "id": "41a31252-97f3-4e72-ba14-92f761962f02",
   "metadata": {},
   "outputs": [
    {
     "data": {
      "text/plain": [
       "<tf.Tensor: shape=(3,), dtype=int32, numpy=array([1, 2, 3])>"
      ]
     },
     "execution_count": 71,
     "metadata": {},
     "output_type": "execute_result"
    }
   ],
   "source": [
    "tf.constant([1, 2, 3]) # z automatu powstał typ danych int32"
   ]
  },
  {
   "cell_type": "code",
   "execution_count": 72,
   "id": "ee5c2ad9-2982-4c95-8416-c004254ed0b1",
   "metadata": {},
   "outputs": [
    {
     "data": {
      "text/plain": [
       "<tf.Tensor: shape=(3,), dtype=float32, numpy=array([1., 2., 3.], dtype=float32)>"
      ]
     },
     "execution_count": 72,
     "metadata": {},
     "output_type": "execute_result"
    }
   ],
   "source": [
    "tf.constant([1., 2., 3.]) # z automatu powstał typ danych float32"
   ]
  },
  {
   "cell_type": "code",
   "execution_count": 73,
   "id": "a3e1ced8-d5bc-4ee9-8c1c-9ff6ed7d5948",
   "metadata": {},
   "outputs": [
    {
     "data": {
      "text/plain": [
       "<tf.Tensor: shape=(3,), dtype=float64, numpy=array([1., 2., 3.])>"
      ]
     },
     "execution_count": 73,
     "metadata": {},
     "output_type": "execute_result"
    }
   ],
   "source": [
    "tf.constant([1, 2, 3], dtype=tf.float64) # wymuszenie typu float64"
   ]
  },
  {
   "cell_type": "code",
   "execution_count": 74,
   "id": "868d1e3e-fbfe-494b-b561-59d2f286e308",
   "metadata": {},
   "outputs": [
    {
     "data": {
      "text/plain": [
       "(<tf.Tensor: shape=(3,), dtype=int32, numpy=array([1, 2, 3])>,\n",
       " <tf.Tensor: shape=(3,), dtype=float32, numpy=array([1., 2., 3.], dtype=float32)>)"
      ]
     },
     "execution_count": 74,
     "metadata": {},
     "output_type": "execute_result"
    }
   ],
   "source": [
    "# casting\n",
    "tensor1 = tf.constant([1, 2, 3])\n",
    "tensor2 = tf.cast(tensor1, tf.float32)\n",
    "tensor1, tensor2"
   ]
  },
  {
   "cell_type": "markdown",
   "id": "83ced180-73a4-442f-ac7c-88448ca8b319",
   "metadata": {},
   "source": [
    "## Tensor aggregation"
   ]
  },
  {
   "cell_type": "code",
   "execution_count": 75,
   "id": "322ef267-8695-4e48-bd14-77fff2f5fd6c",
   "metadata": {},
   "outputs": [
    {
     "data": {
      "text/plain": [
       "(<tf.Tensor: shape=(4,), dtype=int32, numpy=array([  -1,  -45,    6, -123])>,\n",
       " <tf.Tensor: shape=(4,), dtype=int32, numpy=array([  1,  45,   6, 123])>)"
      ]
     },
     "execution_count": 75,
     "metadata": {},
     "output_type": "execute_result"
    }
   ],
   "source": [
    "tensor = tf.constant([-1, -45, 6, -123])\n",
    "tensor, tf.abs(tensor)"
   ]
  },
  {
   "cell_type": "code",
   "execution_count": 76,
   "id": "8aa50005-f374-48eb-af02-400ce29fcf5b",
   "metadata": {},
   "outputs": [
    {
     "data": {
      "text/plain": [
       "<tf.Tensor: shape=(50,), dtype=int32, numpy=\n",
       "array([51, 92, 14, 71, 60, 20, 82, 86, 74, 74, 87, 99, 23,  2, 21, 52,  1,\n",
       "       87, 29, 37,  1, 63, 59, 20, 32, 75, 57, 21, 88, 48, 90, 58, 41, 91,\n",
       "       59, 79, 14, 61, 61, 46, 61, 50, 54, 63,  2, 50,  6, 20, 72, 38])>"
      ]
     },
     "execution_count": 76,
     "metadata": {},
     "output_type": "execute_result"
    }
   ],
   "source": [
    "np.random.seed(42)\n",
    "tensor = tf.constant(np.random.randint(0, 100, size=50))\n",
    "tensor"
   ]
  },
  {
   "cell_type": "code",
   "execution_count": 77,
   "id": "dab18f72-5414-4792-852e-9d42ec210479",
   "metadata": {},
   "outputs": [
    {
     "data": {
      "text/plain": [
       "<tf.Tensor: shape=(), dtype=int32, numpy=1>"
      ]
     },
     "execution_count": 77,
     "metadata": {},
     "output_type": "execute_result"
    }
   ],
   "source": [
    "tf.reduce_min(tensor)"
   ]
  },
  {
   "cell_type": "code",
   "execution_count": 78,
   "id": "2cfee983-c93c-4a3b-8a66-b60a7a91aa1a",
   "metadata": {},
   "outputs": [
    {
     "data": {
      "text/plain": [
       "<tf.Tensor: shape=(), dtype=int32, numpy=99>"
      ]
     },
     "execution_count": 78,
     "metadata": {},
     "output_type": "execute_result"
    }
   ],
   "source": [
    "tf.reduce_max(tensor)"
   ]
  },
  {
   "cell_type": "code",
   "execution_count": 79,
   "id": "a8079e51-208f-4c5d-a7d5-b03b7ce3f9f9",
   "metadata": {},
   "outputs": [
    {
     "data": {
      "text/plain": [
       "<tf.Tensor: shape=(), dtype=int32, numpy=50>"
      ]
     },
     "execution_count": 79,
     "metadata": {},
     "output_type": "execute_result"
    }
   ],
   "source": [
    "tf.reduce_mean(tensor)"
   ]
  },
  {
   "cell_type": "code",
   "execution_count": 80,
   "id": "0d5b3387-20b4-4616-8b54-1a154b9d7d6c",
   "metadata": {},
   "outputs": [
    {
     "data": {
      "text/plain": [
       "<tf.Tensor: shape=(), dtype=int32, numpy=2542>"
      ]
     },
     "execution_count": 80,
     "metadata": {},
     "output_type": "execute_result"
    }
   ],
   "source": [
    "tf.reduce_sum(tensor)"
   ]
  },
  {
   "cell_type": "code",
   "execution_count": 81,
   "id": "8c192482-bb4a-45aa-8a5b-b81556979f46",
   "metadata": {
    "scrolled": true
   },
   "outputs": [
    {
     "data": {
      "text/plain": [
       "<tf.Tensor: shape=(), dtype=float32, numpy=775.6144>"
      ]
     },
     "execution_count": 81,
     "metadata": {},
     "output_type": "execute_result"
    }
   ],
   "source": [
    "# tensor = tf.constant([1, 2, 3, 4])\n",
    "tf.math.reduce_variance(tf.cast(tensor, tf.float32))"
   ]
  },
  {
   "cell_type": "code",
   "execution_count": 82,
   "id": "86bbfc63-1cf7-428a-9a6e-4f9bc2482d3d",
   "metadata": {},
   "outputs": [
    {
     "data": {
      "text/plain": [
       "<tf.Tensor: shape=(), dtype=float32, numpy=27.849854>"
      ]
     },
     "execution_count": 82,
     "metadata": {},
     "output_type": "execute_result"
    }
   ],
   "source": [
    "tf.math.reduce_std(tf.cast(tensor, tf.float32))"
   ]
  },
  {
   "cell_type": "markdown",
   "id": "c96a0e9e-abbb-4beb-aab7-a527ba1511fe",
   "metadata": {},
   "source": [
    "## Wyszykiwanie pozycji maxymalnej i minimalnej wartości w tensorze"
   ]
  },
  {
   "cell_type": "code",
   "execution_count": 83,
   "id": "6a91f3e8-52e9-494c-8fba-bb22e8d621aa",
   "metadata": {},
   "outputs": [
    {
     "data": {
      "text/plain": [
       "<tf.Tensor: shape=(50,), dtype=float32, numpy=\n",
       "array([0.6645621 , 0.44100678, 0.3528825 , 0.46448255, 0.03366041,\n",
       "       0.68467236, 0.74011743, 0.8724445 , 0.22632635, 0.22319686,\n",
       "       0.3103881 , 0.7223358 , 0.13318717, 0.5480639 , 0.5746088 ,\n",
       "       0.8996835 , 0.00946367, 0.5212307 , 0.6345445 , 0.1993283 ,\n",
       "       0.72942245, 0.54583454, 0.10756552, 0.6767061 , 0.6602763 ,\n",
       "       0.33695042, 0.60141766, 0.21062577, 0.8527372 , 0.44062173,\n",
       "       0.9485276 , 0.23752594, 0.81179297, 0.5263394 , 0.494308  ,\n",
       "       0.21612847, 0.8457197 , 0.8718841 , 0.3083862 , 0.6868038 ,\n",
       "       0.23764038, 0.7817228 , 0.9671384 , 0.06870162, 0.79873943,\n",
       "       0.66028714, 0.5871513 , 0.16461694, 0.7381023 , 0.32054043],\n",
       "      dtype=float32)>"
      ]
     },
     "execution_count": 83,
     "metadata": {},
     "output_type": "execute_result"
    }
   ],
   "source": [
    "tf.random.set_seed(42)\n",
    "tensor = tf.random.uniform(shape=[50])\n",
    "tensor"
   ]
  },
  {
   "cell_type": "code",
   "execution_count": 84,
   "id": "9a7d0d9e-eb78-45cf-b9f6-a3dc34b65b3d",
   "metadata": {},
   "outputs": [
    {
     "data": {
      "text/plain": [
       "<tf.Tensor: shape=(), dtype=int64, numpy=42>"
      ]
     },
     "execution_count": 84,
     "metadata": {},
     "output_type": "execute_result"
    }
   ],
   "source": [
    "tf.argmax(tensor) # index maksymalej wartości"
   ]
  },
  {
   "cell_type": "code",
   "execution_count": 85,
   "id": "86aab62e-3766-4c68-9971-afff1cc5269f",
   "metadata": {},
   "outputs": [
    {
     "data": {
      "text/plain": [
       "<tf.Tensor: shape=(), dtype=int64, numpy=16>"
      ]
     },
     "execution_count": 85,
     "metadata": {},
     "output_type": "execute_result"
    }
   ],
   "source": [
    "tf.argmin(tensor) # index minimalnej wartosci"
   ]
  },
  {
   "cell_type": "code",
   "execution_count": 86,
   "id": "677b6eef-906f-4e81-92f5-f277eeb31717",
   "metadata": {},
   "outputs": [
    {
     "data": {
      "text/plain": [
       "<tf.Tensor: shape=(50,), dtype=int32, numpy=\n",
       "array([16,  4, 43, 22, 12, 47, 19, 27, 35,  9,  8, 31, 40, 38, 10, 49, 25,\n",
       "        2, 29,  1,  3, 34, 17, 33, 21, 13, 14, 46, 26, 18, 24, 45,  0, 23,\n",
       "        5, 39, 11, 20, 48,  6, 41, 44, 32, 36, 28, 37,  7, 15, 30, 42])>"
      ]
     },
     "execution_count": 86,
     "metadata": {},
     "output_type": "execute_result"
    }
   ],
   "source": [
    "tf.argsort(tensor) # tablica indeksów, posortowanych wartości"
   ]
  },
  {
   "cell_type": "markdown",
   "id": "019b9a22-45f7-4594-bca4-f48abab43a35",
   "metadata": {},
   "source": [
    "## Squeezing, usuwanie pustych wymiarów"
   ]
  },
  {
   "cell_type": "code",
   "execution_count": 87,
   "id": "810471d3-6a9c-4016-b363-6861e33e21d9",
   "metadata": {},
   "outputs": [
    {
     "data": {
      "text/plain": [
       "<tf.Tensor: shape=(1, 1, 10), dtype=float32, numpy=\n",
       "array([[[0.68789124, 0.48447883, 0.9309944 , 0.252187  , 0.73115396,\n",
       "         0.89256823, 0.94674826, 0.7493341 , 0.34925628, 0.54718256]]],\n",
       "      dtype=float32)>"
      ]
     },
     "execution_count": 87,
     "metadata": {},
     "output_type": "execute_result"
    }
   ],
   "source": [
    "tensor = tf.constant(tf.random.uniform(shape=[10]), shape=(1, 1, 10))\n",
    "tensor"
   ]
  },
  {
   "cell_type": "code",
   "execution_count": 88,
   "id": "e35c81a6-cd62-490b-8d9d-cb13fbb6578c",
   "metadata": {},
   "outputs": [
    {
     "data": {
      "text/plain": [
       "<tf.Tensor: shape=(10,), dtype=float32, numpy=\n",
       "array([0.68789124, 0.48447883, 0.9309944 , 0.252187  , 0.73115396,\n",
       "       0.89256823, 0.94674826, 0.7493341 , 0.34925628, 0.54718256],\n",
       "      dtype=float32)>"
      ]
     },
     "execution_count": 88,
     "metadata": {},
     "output_type": "execute_result"
    }
   ],
   "source": [
    "tf.squeeze(tensor) # usunięcie wszystkich pustych wymiarów"
   ]
  },
  {
   "cell_type": "code",
   "execution_count": 89,
   "id": "7f07d218-1175-4eae-97d9-22719e16904c",
   "metadata": {},
   "outputs": [
    {
     "data": {
      "text/plain": [
       "<tf.Tensor: shape=(1, 1, 1, 10), dtype=float32, numpy=\n",
       "array([[[[0.68789124, 0.48447883, 0.9309944 , 0.252187  , 0.73115396,\n",
       "          0.89256823, 0.94674826, 0.7493341 , 0.34925628, 0.54718256]]]],\n",
       "      dtype=float32)>"
      ]
     },
     "execution_count": 89,
     "metadata": {},
     "output_type": "execute_result"
    }
   ],
   "source": [
    "tensor = tf.expand_dims(tensor, axis=1)  # dodanie wymiaru\n",
    "tensor"
   ]
  },
  {
   "cell_type": "code",
   "execution_count": 90,
   "id": "10a780c8-4458-4f3c-9e69-b72d94d1bcea",
   "metadata": {},
   "outputs": [
    {
     "data": {
      "text/plain": [
       "<tf.Tensor: shape=(10,), dtype=float32, numpy=\n",
       "array([0.68789124, 0.48447883, 0.9309944 , 0.252187  , 0.73115396,\n",
       "       0.89256823, 0.94674826, 0.7493341 , 0.34925628, 0.54718256],\n",
       "      dtype=float32)>"
      ]
     },
     "execution_count": 90,
     "metadata": {},
     "output_type": "execute_result"
    }
   ],
   "source": [
    "tf.squeeze(tensor) # usunięcie wszystkich pustych wymiarów"
   ]
  },
  {
   "cell_type": "markdown",
   "id": "bd345e29-0759-4c44-8420-30a963253974",
   "metadata": {},
   "source": [
    "## One-hot encoding"
   ]
  },
  {
   "cell_type": "code",
   "execution_count": 91,
   "id": "0bdd2f85-2357-4a73-97c4-ee6e87f62a7d",
   "metadata": {},
   "outputs": [
    {
     "data": {
      "text/plain": [
       "<tf.Tensor: shape=(3, 3), dtype=float32, numpy=\n",
       "array([[1., 0., 0.],\n",
       "       [0., 1., 0.],\n",
       "       [0., 0., 1.]], dtype=float32)>"
      ]
     },
     "execution_count": 91,
     "metadata": {},
     "output_type": "execute_result"
    }
   ],
   "source": [
    "lista = ['czerwony', 'zielony', 'niebieski']\n",
    "one_hot_encoded = tf.one_hot(indices=tf.range(len(lista)), depth=len(lista))\n",
    "one_hot_encoded"
   ]
  },
  {
   "cell_type": "code",
   "execution_count": 92,
   "id": "0bc3274f-010c-439c-b867-e456feae3295",
   "metadata": {},
   "outputs": [
    {
     "data": {
      "text/plain": [
       "<tf.Tensor: shape=(3,), dtype=int32, numpy=array([0, 1, 2])>"
      ]
     },
     "execution_count": 92,
     "metadata": {},
     "output_type": "execute_result"
    }
   ],
   "source": [
    "tf.range(len(lista))"
   ]
  },
  {
   "cell_type": "code",
   "execution_count": 93,
   "id": "7a9d6576-d0fa-4884-b96c-b5d01e08c8f4",
   "metadata": {},
   "outputs": [
    {
     "data": {
      "text/plain": [
       "<tf.Tensor: shape=(3, 3), dtype=string, numpy=\n",
       "array([[b'ON', b'OFF', b'OFF'],\n",
       "       [b'OFF', b'ON', b'OFF'],\n",
       "       [b'OFF', b'OFF', b'ON']], dtype=object)>"
      ]
     },
     "execution_count": 93,
     "metadata": {},
     "output_type": "execute_result"
    }
   ],
   "source": [
    "lista = ['czerwony', 'zielony', 'niebieski']\n",
    "one_hot_encoded = tf.one_hot(indices=tf.range(len(lista)), depth=len(lista), on_value='ON', off_value='OFF')\n",
    "one_hot_encoded"
   ]
  },
  {
   "cell_type": "markdown",
   "id": "2b65e54e-3757-4850-8f3d-48e36073d184",
   "metadata": {},
   "source": [
    "## Operacje matematyczne na tensorach"
   ]
  },
  {
   "cell_type": "code",
   "execution_count": 94,
   "id": "dcef7743-38e8-42d8-8223-3d726fb96c38",
   "metadata": {},
   "outputs": [
    {
     "data": {
      "text/plain": [
       "<tf.Tensor: shape=(9,), dtype=int32, numpy=array([1, 2, 3, 4, 5, 6, 7, 8, 9])>"
      ]
     },
     "execution_count": 94,
     "metadata": {},
     "output_type": "execute_result"
    }
   ],
   "source": [
    "tensor = tf.range(1, 10)\n",
    "tensor"
   ]
  },
  {
   "cell_type": "code",
   "execution_count": 95,
   "id": "7011dc6b-283b-42f0-8222-a577a56dd98f",
   "metadata": {},
   "outputs": [
    {
     "data": {
      "text/plain": [
       "<tf.Tensor: shape=(9,), dtype=int32, numpy=array([ 1,  4,  9, 16, 25, 36, 49, 64, 81])>"
      ]
     },
     "execution_count": 95,
     "metadata": {},
     "output_type": "execute_result"
    }
   ],
   "source": [
    "tf.square(tensor)"
   ]
  },
  {
   "cell_type": "code",
   "execution_count": 96,
   "id": "8853480b-6dd0-41e4-a8d0-60ca987c2950",
   "metadata": {},
   "outputs": [
    {
     "data": {
      "text/plain": [
       "<tf.Tensor: shape=(9,), dtype=int32, numpy=array([  2,   4,   8,  16,  32,  64, 128, 256, 512])>"
      ]
     },
     "execution_count": 96,
     "metadata": {},
     "output_type": "execute_result"
    }
   ],
   "source": [
    "tf.pow(2, tensor)"
   ]
  },
  {
   "cell_type": "code",
   "execution_count": 97,
   "id": "c8617542-f775-43cb-8f7d-2d9b8d6b5523",
   "metadata": {},
   "outputs": [
    {
     "data": {
      "text/plain": [
       "<tf.Tensor: shape=(9,), dtype=float32, numpy=\n",
       "array([1.       , 1.4142135, 1.7320508, 2.       , 2.236068 , 2.4494898,\n",
       "       2.6457512, 2.828427 , 3.       ], dtype=float32)>"
      ]
     },
     "execution_count": 97,
     "metadata": {},
     "output_type": "execute_result"
    }
   ],
   "source": [
    "tf.sqrt(tf.cast(tensor, tf.float32))"
   ]
  },
  {
   "cell_type": "code",
   "execution_count": 98,
   "id": "557af8ad-1f09-4d45-b012-0f8d3fc698c5",
   "metadata": {},
   "outputs": [
    {
     "data": {
      "text/plain": [
       "<tf.Tensor: shape=(9,), dtype=float32, numpy=\n",
       "array([0.       , 0.6931472, 1.0986123, 1.3862944, 1.609438 , 1.7917595,\n",
       "       1.9459102, 2.0794415, 2.1972246], dtype=float32)>"
      ]
     },
     "execution_count": 98,
     "metadata": {},
     "output_type": "execute_result"
    }
   ],
   "source": [
    "tf.math.log(tf.cast(tensor, tf.float32))"
   ]
  },
  {
   "cell_type": "markdown",
   "id": "f9d04789-53eb-46fd-b0af-e8f29d3a0657",
   "metadata": {},
   "source": [
    "## TensorFlow and NymPy"
   ]
  },
  {
   "cell_type": "code",
   "execution_count": 99,
   "id": "40443d56-39da-422c-8d07-1e7bf5277e7b",
   "metadata": {},
   "outputs": [
    {
     "data": {
      "text/plain": [
       "<tf.Tensor: shape=(4,), dtype=float64, numpy=array([1.  , 2.  , 1.21, 4.32])>"
      ]
     },
     "execution_count": 99,
     "metadata": {},
     "output_type": "execute_result"
    }
   ],
   "source": [
    "tensor = tf.constant(np.array([1., 2., 1.21, 4.32]))\n",
    "tensor"
   ]
  },
  {
   "cell_type": "code",
   "execution_count": 100,
   "id": "1219caf5-bcfc-499b-987b-41f4bef92827",
   "metadata": {},
   "outputs": [
    {
     "data": {
      "text/plain": [
       "<tf.Tensor: shape=(4,), dtype=float32, numpy=array([1.  , 2.  , 1.21, 4.32], dtype=float32)>"
      ]
     },
     "execution_count": 100,
     "metadata": {},
     "output_type": "execute_result"
    }
   ],
   "source": [
    "tensor = tf.constant(np.array([1., 2., 1.21, 4.32]), dtype=tf.float32)\n",
    "tensor"
   ]
  },
  {
   "cell_type": "code",
   "execution_count": 101,
   "id": "ae96116a-d7e9-4894-92ff-12704fc7cdfa",
   "metadata": {},
   "outputs": [
    {
     "data": {
      "text/plain": [
       "array([1.  , 2.  , 1.21, 4.32], dtype=float32)"
      ]
     },
     "execution_count": 101,
     "metadata": {},
     "output_type": "execute_result"
    }
   ],
   "source": [
    "np.array(tensor)"
   ]
  },
  {
   "cell_type": "code",
   "execution_count": 102,
   "id": "dcfbfb77-519c-4ddd-be33-e39b2459136c",
   "metadata": {},
   "outputs": [
    {
     "data": {
      "text/plain": [
       "array([1.        , 2.        , 1.21000004, 4.32000017])"
      ]
     },
     "execution_count": 102,
     "metadata": {},
     "output_type": "execute_result"
    }
   ],
   "source": [
    "np.array(tensor, dtype=np.float64)"
   ]
  },
  {
   "cell_type": "code",
   "execution_count": 103,
   "id": "dd94e542-87fd-4285-8c54-0b7d5615feff",
   "metadata": {},
   "outputs": [
    {
     "data": {
      "text/plain": [
       "array([1.  , 2.  , 1.21, 4.32], dtype=float32)"
      ]
     },
     "execution_count": 103,
     "metadata": {},
     "output_type": "execute_result"
    }
   ],
   "source": [
    "tensor.numpy()"
   ]
  },
  {
   "cell_type": "markdown",
   "id": "3baa9691-e923-4605-8864-bea139d6df68",
   "metadata": {},
   "source": [
    "## Dostęp do GPU"
   ]
  },
  {
   "cell_type": "code",
   "execution_count": 104,
   "id": "c762fa77-45a7-4e2e-a379-cd9b19d5d646",
   "metadata": {},
   "outputs": [
    {
     "data": {
      "text/plain": [
       "[PhysicalDevice(name='/physical_device:CPU:0', device_type='CPU')]"
      ]
     },
     "execution_count": 104,
     "metadata": {},
     "output_type": "execute_result"
    }
   ],
   "source": [
    "tf.config.list_physical_devices()"
   ]
  },
  {
   "cell_type": "code",
   "execution_count": 105,
   "id": "02027ede-4bd2-4c28-8433-2f18fac6cac6",
   "metadata": {},
   "outputs": [
    {
     "name": "stdout",
     "output_type": "stream",
     "text": [
      "Mon Apr  1 13:25:07 2024       \n",
      "+---------------------------------------------------------------------------------------+\n",
      "| NVIDIA-SMI 546.65                 Driver Version: 546.65       CUDA Version: 12.3     |\n",
      "|-----------------------------------------+----------------------+----------------------+\n",
      "| GPU  Name                     TCC/WDDM  | Bus-Id        Disp.A | Volatile Uncorr. ECC |\n",
      "| Fan  Temp   Perf          Pwr:Usage/Cap |         Memory-Usage | GPU-Util  Compute M. |\n",
      "|                                         |                      |               MIG M. |\n",
      "|=========================================+======================+======================|\n",
      "|   0  NVIDIA GeForce GTX 1650      WDDM  | 00000000:0B:00.0  On |                  N/A |\n",
      "|  0%   46C    P8              N/A /  75W |    430MiB /  4096MiB |      9%      Default |\n",
      "|                                         |                      |                  N/A |\n",
      "+-----------------------------------------+----------------------+----------------------+\n",
      "                                                                                         \n",
      "+---------------------------------------------------------------------------------------+\n",
      "| Processes:                                                                            |\n",
      "|  GPU   GI   CI        PID   Type   Process name                            GPU Memory |\n",
      "|        ID   ID                                                             Usage      |\n",
      "|=======================================================================================|\n",
      "|    0   N/A  N/A      2092    C+G   ...oogle\\Chrome\\Application\\chrome.exe    N/A      |\n",
      "|    0   N/A  N/A      2124    C+G   ...ekyb3d8bbwe\\PhoneExperienceHost.exe    N/A      |\n",
      "|    0   N/A  N/A      7084    C+G   ...5n1h2txyewy\\ShellExperienceHost.exe    N/A      |\n",
      "|    0   N/A  N/A      7392    C+G   ...siveControlPanel\\SystemSettings.exe    N/A      |\n",
      "|    0   N/A  N/A      7404    C+G   C:\\Windows\\explorer.exe                   N/A      |\n",
      "|    0   N/A  N/A      8640    C+G   ...nt.CBS_cw5n1h2txyewy\\SearchHost.exe    N/A      |\n",
      "|    0   N/A  N/A      8688    C+G   ...2txyewy\\StartMenuExperienceHost.exe    N/A      |\n",
      "|    0   N/A  N/A      9764    C+G   ...__8wekyb3d8bbwe\\WindowsTerminal.exe    N/A      |\n",
      "|    0   N/A  N/A     10036    C+G   ...t.LockApp_cw5n1h2txyewy\\LockApp.exe    N/A      |\n",
      "+---------------------------------------------------------------------------------------+\n"
     ]
    }
   ],
   "source": [
    "!nvidia-smi"
   ]
  },
  {
   "cell_type": "code",
   "execution_count": 106,
   "id": "f914c6dc-3f15-4e99-a1cf-8c25b1c1e347",
   "metadata": {},
   "outputs": [
    {
     "name": "stdout",
     "output_type": "stream",
     "text": [
      "Python 3.11.8\n"
     ]
    }
   ],
   "source": [
    "!python -V"
   ]
  },
  {
   "cell_type": "code",
   "execution_count": null,
   "id": "071b9ca2-50c9-4e98-a9fc-1fcbc7229cc3",
   "metadata": {},
   "outputs": [],
   "source": []
  }
 ],
 "metadata": {
  "kernelspec": {
   "display_name": "Python 3 (ipykernel)",
   "language": "python",
   "name": "python3"
  },
  "language_info": {
   "codemirror_mode": {
    "name": "ipython",
    "version": 3
   },
   "file_extension": ".py",
   "mimetype": "text/x-python",
   "name": "python",
   "nbconvert_exporter": "python",
   "pygments_lexer": "ipython3",
   "version": "3.11.8"
  }
 },
 "nbformat": 4,
 "nbformat_minor": 5
}
