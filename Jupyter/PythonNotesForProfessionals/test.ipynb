{
 "cells": [
  {
   "cell_type": "code",
   "execution_count": 10,
   "id": "fc903941-4aad-4f85-85a8-371602822f07",
   "metadata": {},
   "outputs": [
    {
     "name": "stdout",
     "output_type": "stream",
     "text": [
      "test1\n",
      "test2\n"
     ]
    }
   ],
   "source": [
    "def test1():\n",
    "    def pr():\n",
    "        print(\"test1\")\n",
    "    return pr\n",
    "    \n",
    "def test2():\n",
    "    def pr():\n",
    "        print(\"test2\")\n",
    "    return pr\n",
    "\n",
    "obj = test1()\n",
    "obj()\n",
    "obj = test2()\n",
    "obj()"
   ]
  },
  {
   "cell_type": "code",
   "execution_count": 7,
   "id": "c342496d-17b2-4ca6-968c-10ece63e6780",
   "metadata": {},
   "outputs": [
    {
     "data": {
      "text/plain": [
       "3"
      ]
     },
     "execution_count": 7,
     "metadata": {},
     "output_type": "execute_result"
    }
   ],
   "source": [
    "def counter():\n",
    "    num = 0\n",
    "    def incrementer():\n",
    "        nonlocal num\n",
    "        num += 1\n",
    "        return num\n",
    "    return incrementer\n",
    "    \n",
    "c = counter()\n",
    "c() # = 1\n",
    "c() # = 2\n",
    "c() # = 3"
   ]
  },
  {
   "cell_type": "code",
   "execution_count": null,
   "id": "d81cae8f-f988-4349-a141-9e6fa85237a0",
   "metadata": {},
   "outputs": [],
   "source": []
  }
 ],
 "metadata": {
  "kernelspec": {
   "display_name": "Python 3 (ipykernel)",
   "language": "python",
   "name": "python3"
  },
  "language_info": {
   "codemirror_mode": {
    "name": "ipython",
    "version": 3
   },
   "file_extension": ".py",
   "mimetype": "text/x-python",
   "name": "python",
   "nbconvert_exporter": "python",
   "pygments_lexer": "ipython3",
   "version": "3.11.10"
  }
 },
 "nbformat": 4,
 "nbformat_minor": 5
}
