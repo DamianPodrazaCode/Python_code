{
 "cells": [
  {
   "cell_type": "code",
   "execution_count": 121,
   "id": "873a9533-a146-4e9d-a9aa-c68965657677",
   "metadata": {},
   "outputs": [],
   "source": [
    "import numpy as np\n",
    "import pandas as pd\n",
    "import matplotlib.pyplot as plt \n",
    "from matplotlib.image import imread"
   ]
  },
  {
   "cell_type": "code",
   "execution_count": 2,
   "id": "b722870b-9a03-478f-8db0-ab5384595801",
   "metadata": {},
   "outputs": [
    {
     "data": {
      "text/plain": [
       "array([1, 2, 3])"
      ]
     },
     "execution_count": 2,
     "metadata": {},
     "output_type": "execute_result"
    }
   ],
   "source": [
    "a1 = np.array([1, 2, 3])\n",
    "a1"
   ]
  },
  {
   "cell_type": "code",
   "execution_count": 3,
   "id": "e6f10131-d90e-4686-9f08-0c7588fb3c2e",
   "metadata": {},
   "outputs": [
    {
     "data": {
      "text/plain": [
       "numpy.ndarray"
      ]
     },
     "execution_count": 3,
     "metadata": {},
     "output_type": "execute_result"
    }
   ],
   "source": [
    "type(a1)"
   ]
  },
  {
   "cell_type": "code",
   "execution_count": 4,
   "id": "fef7b5ad-2d9c-4140-876f-da0dabd6e997",
   "metadata": {},
   "outputs": [],
   "source": [
    "a2 = np.array([[1, 2.0, 3.2],\n",
    "               [4, 5,   6.4]])\n",
    "\n",
    "a3 = np.array([[[1,2,3],\n",
    "                [4,5,6],\n",
    "                [7,8,9]],\n",
    "               [[10,11,12],\n",
    "                [13,14,15],\n",
    "                [16,17,18]]])"
   ]
  },
  {
   "cell_type": "code",
   "execution_count": 5,
   "id": "ca17a354-217f-4c3f-9860-9480efaa98d4",
   "metadata": {},
   "outputs": [
    {
     "data": {
      "text/plain": [
       "array([[1. , 2. , 3.2],\n",
       "       [4. , 5. , 6.4]])"
      ]
     },
     "execution_count": 5,
     "metadata": {},
     "output_type": "execute_result"
    }
   ],
   "source": [
    "a2"
   ]
  },
  {
   "cell_type": "code",
   "execution_count": 6,
   "id": "e99a8b9f-4715-49c0-8f1f-7abc31ef5999",
   "metadata": {},
   "outputs": [
    {
     "data": {
      "text/plain": [
       "array([[[ 1,  2,  3],\n",
       "        [ 4,  5,  6],\n",
       "        [ 7,  8,  9]],\n",
       "\n",
       "       [[10, 11, 12],\n",
       "        [13, 14, 15],\n",
       "        [16, 17, 18]]])"
      ]
     },
     "execution_count": 6,
     "metadata": {},
     "output_type": "execute_result"
    }
   ],
   "source": [
    "a3"
   ]
  },
  {
   "cell_type": "code",
   "execution_count": 7,
   "id": "0b7a0f12-f40d-4541-ab64-e9c195436717",
   "metadata": {},
   "outputs": [
    {
     "data": {
      "text/plain": [
       "((3,), (2, 3), (2, 3, 3))"
      ]
     },
     "execution_count": 7,
     "metadata": {},
     "output_type": "execute_result"
    }
   ],
   "source": [
    "# kształt\n",
    "a1.shape, a2.shape, a3.shape"
   ]
  },
  {
   "cell_type": "code",
   "execution_count": 8,
   "id": "e025192c-3705-409c-8576-5f9c1955d009",
   "metadata": {},
   "outputs": [
    {
     "data": {
      "text/plain": [
       "(1, 2, 3)"
      ]
     },
     "execution_count": 8,
     "metadata": {},
     "output_type": "execute_result"
    }
   ],
   "source": [
    "# wymiary\n",
    "a1.ndim, a2.ndim, a3.ndim"
   ]
  },
  {
   "cell_type": "code",
   "execution_count": 9,
   "id": "8a49c407-80b8-4e07-8f8c-fbec961a5815",
   "metadata": {},
   "outputs": [
    {
     "data": {
      "text/plain": [
       "(dtype('int32'), dtype('float64'), dtype('int32'))"
      ]
     },
     "execution_count": 9,
     "metadata": {},
     "output_type": "execute_result"
    }
   ],
   "source": [
    "# typ\n",
    "a1.dtype, a2.dtype, a3.dtype"
   ]
  },
  {
   "cell_type": "code",
   "execution_count": 10,
   "id": "92e5e1bb-e70a-4d7b-9001-4c601bca787c",
   "metadata": {},
   "outputs": [
    {
     "data": {
      "text/plain": [
       "(3, 6, 18)"
      ]
     },
     "execution_count": 10,
     "metadata": {},
     "output_type": "execute_result"
    }
   ],
   "source": [
    "# rozmiar\n",
    "a1.size, a2.size, a3.size"
   ]
  },
  {
   "cell_type": "code",
   "execution_count": 11,
   "id": "a66e4a53-c175-4d33-9715-f9ef7f98a4fb",
   "metadata": {},
   "outputs": [
    {
     "data": {
      "text/plain": [
       "(numpy.ndarray, numpy.ndarray, numpy.ndarray)"
      ]
     },
     "execution_count": 11,
     "metadata": {},
     "output_type": "execute_result"
    }
   ],
   "source": [
    "# rodzaj\n",
    "type(a1),type(a2),type(a3)"
   ]
  },
  {
   "cell_type": "code",
   "execution_count": 12,
   "id": "eb4c6355-45fe-426e-9574-5af1a0696f4d",
   "metadata": {},
   "outputs": [
    {
     "data": {
      "text/html": [
       "<div>\n",
       "<style scoped>\n",
       "    .dataframe tbody tr th:only-of-type {\n",
       "        vertical-align: middle;\n",
       "    }\n",
       "\n",
       "    .dataframe tbody tr th {\n",
       "        vertical-align: top;\n",
       "    }\n",
       "\n",
       "    .dataframe thead th {\n",
       "        text-align: right;\n",
       "    }\n",
       "</style>\n",
       "<table border=\"1\" class=\"dataframe\">\n",
       "  <thead>\n",
       "    <tr style=\"text-align: right;\">\n",
       "      <th></th>\n",
       "      <th>0</th>\n",
       "      <th>1</th>\n",
       "      <th>2</th>\n",
       "    </tr>\n",
       "  </thead>\n",
       "  <tbody>\n",
       "    <tr>\n",
       "      <th>0</th>\n",
       "      <td>1.0</td>\n",
       "      <td>2.0</td>\n",
       "      <td>3.2</td>\n",
       "    </tr>\n",
       "    <tr>\n",
       "      <th>1</th>\n",
       "      <td>4.0</td>\n",
       "      <td>5.0</td>\n",
       "      <td>6.4</td>\n",
       "    </tr>\n",
       "  </tbody>\n",
       "</table>\n",
       "</div>"
      ],
      "text/plain": [
       "     0    1    2\n",
       "0  1.0  2.0  3.2\n",
       "1  4.0  5.0  6.4"
      ]
     },
     "execution_count": 12,
     "metadata": {},
     "output_type": "execute_result"
    }
   ],
   "source": [
    "# Create a DataFrame (pandas) from NumPy array\n",
    "df = pd.DataFrame(a2)\n",
    "df"
   ]
  },
  {
   "cell_type": "code",
   "execution_count": 13,
   "id": "8dd78d48-f0f5-4681-8db8-0a745aab92b8",
   "metadata": {},
   "outputs": [
    {
     "data": {
      "text/plain": [
       "(array([[1., 1., 1.],\n",
       "        [1., 1., 1.]]),\n",
       " array([[0., 0., 0.],\n",
       "        [0., 0., 0.]]))"
      ]
     },
     "execution_count": 13,
     "metadata": {},
     "output_type": "execute_result"
    }
   ],
   "source": [
    "ones = np.ones((2, 3))\n",
    "zeros = np.zeros((2, 3))\n",
    "ones, zeros"
   ]
  },
  {
   "cell_type": "code",
   "execution_count": 14,
   "id": "45a05a42-f7f0-470a-9059-cb839e388276",
   "metadata": {},
   "outputs": [
    {
     "data": {
      "text/plain": [
       "array([0, 2, 4, 6, 8])"
      ]
     },
     "execution_count": 14,
     "metadata": {},
     "output_type": "execute_result"
    }
   ],
   "source": [
    "# wygenerowanie tablicy jednowymiarowej z wartościami od 0 do 10 z krokiem co 2\n",
    "range_array = np.arange(0, 10, 2)\n",
    "range_array"
   ]
  },
  {
   "cell_type": "code",
   "execution_count": 15,
   "id": "05f70bf3-63f4-410f-9d37-8f08f39f2635",
   "metadata": {},
   "outputs": [
    {
     "data": {
      "text/plain": [
       "array([[2, 7, 4, 4, 3],\n",
       "       [8, 4, 0, 9, 8],\n",
       "       [1, 3, 7, 6, 8]])"
      ]
     },
     "execution_count": 15,
     "metadata": {},
     "output_type": "execute_result"
    }
   ],
   "source": [
    "# wygenerowanie tablicy dwuwymiarowej z wartościami pseudolosowymi int w zakresie od 0 do 10, o kształcie 3 na 5\n",
    "random_array = np.random.randint(0, 10, size=(3, 5))\n",
    "random_array"
   ]
  },
  {
   "cell_type": "code",
   "execution_count": 16,
   "id": "f9ca6698-2267-4255-86b5-af345c6b1f2a",
   "metadata": {},
   "outputs": [
    {
     "data": {
      "text/plain": [
       "array([[0.65258174, 0.74864248, 0.90307369, 0.06368667, 0.38243632],\n",
       "       [0.8289796 , 0.52221359, 0.33549561, 0.10326413, 0.06645446],\n",
       "       [0.27268856, 0.15145754, 0.09721591, 0.58124982, 0.31030022],\n",
       "       [0.05161055, 0.66162871, 0.10077444, 0.49866274, 0.42158192],\n",
       "       [0.23076554, 0.52996088, 0.23977437, 0.73304015, 0.76661736]])"
      ]
     },
     "execution_count": 16,
     "metadata": {},
     "output_type": "execute_result"
    }
   ],
   "source": [
    "# wygenerowanie tablicy dwuwymiarowej z wartościami pseudolosowymi float w zakresie od 0 do 1, o kształcie 5 na 5\n",
    "np.random.random((5, 5))"
   ]
  },
  {
   "cell_type": "code",
   "execution_count": 17,
   "id": "73cd80aa-1fa4-423e-aaee-6a3ff1150ed0",
   "metadata": {},
   "outputs": [
    {
     "data": {
      "text/plain": [
       "array([[0.97527607, 0.08269492, 0.07887991, 0.05592305, 0.69164243],\n",
       "       [0.53468051, 0.51046946, 0.76266879, 0.33868441, 0.45657373],\n",
       "       [0.55703193, 0.51323198, 0.5485955 , 0.58898467, 0.84884747],\n",
       "       [0.68331703, 0.5255348 , 0.93351874, 0.90522064, 0.662714  ],\n",
       "       [0.10482417, 0.86103713, 0.24369644, 0.43986782, 0.92060946]])"
      ]
     },
     "execution_count": 17,
     "metadata": {},
     "output_type": "execute_result"
    }
   ],
   "source": [
    "# jw. \n",
    "random_array_2 = np.random.rand(5, 5) \n",
    "random_array_2"
   ]
  },
  {
   "cell_type": "code",
   "execution_count": 18,
   "id": "0313e4f3-f482-49d4-bf3f-57d9c6ba5c61",
   "metadata": {},
   "outputs": [
    {
     "data": {
      "text/plain": [
       "array([[[0.44296966, 0.001082  , 0.82948111],\n",
       "        [0.23874755, 0.1588601 , 0.8924944 ],\n",
       "        [0.00471711, 0.77284675, 0.50409723]],\n",
       "\n",
       "       [[0.1653484 , 0.08553462, 0.91620972],\n",
       "        [0.23509823, 0.09274624, 0.87344594],\n",
       "        [0.50376565, 0.40226387, 0.33328502]],\n",
       "\n",
       "       [[0.28953081, 0.33779031, 0.75766249],\n",
       "        [0.26934442, 0.62302655, 0.66094937],\n",
       "        [0.16276266, 0.95510234, 0.28132293]]])"
      ]
     },
     "execution_count": 18,
     "metadata": {},
     "output_type": "execute_result"
    }
   ],
   "source": [
    "# wygenerowanie tablicy trójwymiarowej random 0-1\n",
    "random_array_3 = np.random.rand(3, 3, 3)\n",
    "random_array_3"
   ]
  },
  {
   "cell_type": "markdown",
   "id": "45c2e856-a7fd-47c7-b336-d12cd479fe8e",
   "metadata": {},
   "source": [
    "### Random Seed - stały start random"
   ]
  },
  {
   "cell_type": "code",
   "execution_count": 19,
   "id": "85853123-14e4-4036-ab82-0799d79f3c94",
   "metadata": {},
   "outputs": [
    {
     "data": {
      "text/plain": [
       "array([[6, 3, 7],\n",
       "       [4, 6, 9],\n",
       "       [2, 6, 7],\n",
       "       [4, 3, 7],\n",
       "       [7, 2, 5]])"
      ]
     },
     "execution_count": 19,
     "metadata": {},
     "output_type": "execute_result"
    }
   ],
   "source": [
    "# stały start random\n",
    "np.random.seed(seed=42) #liczba może być dowolna \n",
    "random_array_4 = np.random.randint(10, size=(5, 3))\n",
    "random_array_4"
   ]
  },
  {
   "cell_type": "code",
   "execution_count": 20,
   "id": "637af35f-d4b9-4e78-8fdb-f50c31ec5f40",
   "metadata": {},
   "outputs": [
    {
     "data": {
      "text/plain": [
       "array([[5.64115790e-02, 7.21998772e-01, 9.38552709e-01],\n",
       "       [7.78765841e-04, 9.92211559e-01, 6.17481510e-01],\n",
       "       [6.11653160e-01, 7.06630522e-03, 2.30624250e-02]])"
      ]
     },
     "execution_count": 20,
     "metadata": {},
     "output_type": "execute_result"
    }
   ],
   "source": [
    "random_array_5 = np.random.rand(3, 3)\n",
    "random_array_5"
   ]
  },
  {
   "cell_type": "code",
   "execution_count": 21,
   "id": "96fed55f-c8ec-4f19-a85b-5694c0f94684",
   "metadata": {},
   "outputs": [
    {
     "data": {
      "text/plain": [
       "array([2, 3, 4, 5, 6, 7, 9])"
      ]
     },
     "execution_count": 21,
     "metadata": {},
     "output_type": "execute_result"
    }
   ],
   "source": [
    "# wyświetlenie niepowtarzalnych elementów w tablicy\n",
    "np.unique(random_array_4) "
   ]
  },
  {
   "cell_type": "code",
   "execution_count": 22,
   "id": "b61247f8-a35d-4478-9289-a72004fd3e7e",
   "metadata": {},
   "outputs": [
    {
     "data": {
      "text/plain": [
       "array([1, 2, 3])"
      ]
     },
     "execution_count": 22,
     "metadata": {},
     "output_type": "execute_result"
    }
   ],
   "source": [
    "a1"
   ]
  },
  {
   "cell_type": "code",
   "execution_count": 23,
   "id": "cc4e793d-4fd1-4082-aed3-1c346bfc31f9",
   "metadata": {},
   "outputs": [
    {
     "data": {
      "text/plain": [
       "array([[1. , 2. , 3.2],\n",
       "       [4. , 5. , 6.4]])"
      ]
     },
     "execution_count": 23,
     "metadata": {},
     "output_type": "execute_result"
    }
   ],
   "source": [
    "a2"
   ]
  },
  {
   "cell_type": "code",
   "execution_count": 24,
   "id": "60d32931-535c-45a0-aeaa-18ff2003d05a",
   "metadata": {},
   "outputs": [
    {
     "data": {
      "text/plain": [
       "array([[[ 1,  2,  3],\n",
       "        [ 4,  5,  6],\n",
       "        [ 7,  8,  9]],\n",
       "\n",
       "       [[10, 11, 12],\n",
       "        [13, 14, 15],\n",
       "        [16, 17, 18]]])"
      ]
     },
     "execution_count": 24,
     "metadata": {},
     "output_type": "execute_result"
    }
   ],
   "source": [
    "a3"
   ]
  },
  {
   "cell_type": "code",
   "execution_count": 25,
   "id": "752287f0-7a00-4f76-b7aa-2cfe78e4e055",
   "metadata": {},
   "outputs": [
    {
     "data": {
      "text/plain": [
       "1"
      ]
     },
     "execution_count": 25,
     "metadata": {},
     "output_type": "execute_result"
    }
   ],
   "source": [
    "a1[0] # pierwsza pozycja w tablicy jednowymiarowej"
   ]
  },
  {
   "cell_type": "code",
   "execution_count": 26,
   "id": "1d4de908-ed26-4a73-abad-d74df7ca9538",
   "metadata": {},
   "outputs": [
    {
     "data": {
      "text/plain": [
       "array([1. , 2. , 3.2])"
      ]
     },
     "execution_count": 26,
     "metadata": {},
     "output_type": "execute_result"
    }
   ],
   "source": [
    "a2[0] # pierwszy wiersz (wymiar) w tablicy dwuwymiarowej"
   ]
  },
  {
   "cell_type": "code",
   "execution_count": 27,
   "id": "16521d34-5d86-4d03-b3a1-230e76f247d0",
   "metadata": {},
   "outputs": [
    {
     "data": {
      "text/plain": [
       "array([[1, 2, 3],\n",
       "       [4, 5, 6],\n",
       "       [7, 8, 9]])"
      ]
     },
     "execution_count": 27,
     "metadata": {},
     "output_type": "execute_result"
    }
   ],
   "source": [
    "a3[0] # wyświetlenie pierwszej płaszczyzny (dwuwymiar) w tablicy trójwymiarowej"
   ]
  },
  {
   "cell_type": "code",
   "execution_count": 28,
   "id": "ee0cdf5f-9696-4514-baf9-5c9dbf968c51",
   "metadata": {},
   "outputs": [
    {
     "name": "stdout",
     "output_type": "stream",
     "text": [
      "[[[ 1  2]\n",
      "  [ 4  5]]\n",
      "\n",
      " [[10 11]\n",
      "  [13 14]]]\n"
     ]
    }
   ],
   "source": [
    "print(a3[:2, :2, :2]) # wyświetl do drugiej kolumny, drugiego wiersza i drugiego poziomu"
   ]
  },
  {
   "cell_type": "code",
   "execution_count": 29,
   "id": "ba820b4b-d18f-4e14-8dfe-2fc787685879",
   "metadata": {},
   "outputs": [
    {
     "data": {
      "text/plain": [
       "array([[[[9, 2, 6, 3, 8],\n",
       "         [2, 4, 2, 6, 4],\n",
       "         [8, 6, 1, 3, 8],\n",
       "         [1, 9, 8, 9, 4]],\n",
       "\n",
       "        [[1, 3, 6, 7, 2],\n",
       "         [0, 3, 1, 7, 3],\n",
       "         [1, 5, 5, 9, 3],\n",
       "         [5, 1, 9, 1, 9]],\n",
       "\n",
       "        [[3, 7, 6, 8, 7],\n",
       "         [4, 1, 4, 7, 9],\n",
       "         [8, 8, 0, 8, 6],\n",
       "         [8, 7, 0, 7, 7]]],\n",
       "\n",
       "\n",
       "       [[[2, 0, 7, 2, 2],\n",
       "         [0, 4, 9, 6, 9],\n",
       "         [8, 6, 8, 7, 1],\n",
       "         [0, 6, 6, 7, 4]],\n",
       "\n",
       "        [[2, 7, 5, 2, 0],\n",
       "         [2, 4, 2, 0, 4],\n",
       "         [9, 6, 6, 8, 9],\n",
       "         [9, 2, 6, 0, 3]],\n",
       "\n",
       "        [[3, 4, 6, 6, 3],\n",
       "         [6, 2, 5, 1, 9],\n",
       "         [8, 4, 5, 3, 9],\n",
       "         [6, 8, 6, 0, 0]]]])"
      ]
     },
     "execution_count": 29,
     "metadata": {},
     "output_type": "execute_result"
    }
   ],
   "source": [
    "a4 = np.random.randint(10, size=(2, 3, 4, 5)) # wymiary po kolei od lewej (4, 3, 2, 1)\n",
    "a4"
   ]
  },
  {
   "cell_type": "code",
   "execution_count": 30,
   "id": "a288ebd3-3fee-4257-bcdb-b44f59fec3cb",
   "metadata": {},
   "outputs": [
    {
     "data": {
      "text/plain": [
       "array([[[[9, 2, 6, 3],\n",
       "         [2, 4, 2, 6],\n",
       "         [8, 6, 1, 3],\n",
       "         [1, 9, 8, 9]],\n",
       "\n",
       "        [[1, 3, 6, 7],\n",
       "         [0, 3, 1, 7],\n",
       "         [1, 5, 5, 9],\n",
       "         [5, 1, 9, 1]],\n",
       "\n",
       "        [[3, 7, 6, 8],\n",
       "         [4, 1, 4, 7],\n",
       "         [8, 8, 0, 8],\n",
       "         [8, 7, 0, 7]]],\n",
       "\n",
       "\n",
       "       [[[2, 0, 7, 2],\n",
       "         [0, 4, 9, 6],\n",
       "         [8, 6, 8, 7],\n",
       "         [0, 6, 6, 7]],\n",
       "\n",
       "        [[2, 7, 5, 2],\n",
       "         [2, 4, 2, 0],\n",
       "         [9, 6, 6, 8],\n",
       "         [9, 2, 6, 0]],\n",
       "\n",
       "        [[3, 4, 6, 6],\n",
       "         [6, 2, 5, 1],\n",
       "         [8, 4, 5, 3],\n",
       "         [6, 8, 6, 0]]]])"
      ]
     },
     "execution_count": 30,
     "metadata": {},
     "output_type": "execute_result"
    }
   ],
   "source": [
    "a4[:, :, :, :4] # obcięcie pierwszego wymiary czyli x do 4 miejsc"
   ]
  },
  {
   "cell_type": "markdown",
   "id": "c4d93392-4495-4bdd-a4c7-801ae61cc9a9",
   "metadata": {},
   "source": [
    "## Manipulate arrays"
   ]
  },
  {
   "cell_type": "markdown",
   "id": "6622af70-f3c6-4609-8d5f-a833237b9815",
   "metadata": {},
   "source": [
    "### dodawanie, odejmowanie"
   ]
  },
  {
   "cell_type": "code",
   "execution_count": 31,
   "id": "5e5e427a-dc28-4290-8109-b6b09b2836bb",
   "metadata": {},
   "outputs": [
    {
     "data": {
      "text/plain": [
       "array([1, 2, 3])"
      ]
     },
     "execution_count": 31,
     "metadata": {},
     "output_type": "execute_result"
    }
   ],
   "source": [
    "a1"
   ]
  },
  {
   "cell_type": "code",
   "execution_count": 32,
   "id": "27e16faa-dfac-494d-bff5-461e98402800",
   "metadata": {},
   "outputs": [
    {
     "data": {
      "text/plain": [
       "array([2, 3, 4])"
      ]
     },
     "execution_count": 32,
     "metadata": {},
     "output_type": "execute_result"
    }
   ],
   "source": [
    "a1 + 1 "
   ]
  },
  {
   "cell_type": "code",
   "execution_count": 33,
   "id": "5509575c-d5d6-4060-941c-fa0d4ef89acf",
   "metadata": {},
   "outputs": [
    {
     "data": {
      "text/plain": [
       "array([1., 1., 1.])"
      ]
     },
     "execution_count": 33,
     "metadata": {},
     "output_type": "execute_result"
    }
   ],
   "source": [
    "ones = np.ones(3)\n",
    "ones"
   ]
  },
  {
   "cell_type": "code",
   "execution_count": 34,
   "id": "8a690119-884b-43c7-add5-c28677c2b673",
   "metadata": {},
   "outputs": [
    {
     "data": {
      "text/plain": [
       "array([2., 3., 4.])"
      ]
     },
     "execution_count": 34,
     "metadata": {},
     "output_type": "execute_result"
    }
   ],
   "source": [
    "a1 + ones"
   ]
  },
  {
   "cell_type": "code",
   "execution_count": 35,
   "id": "bcb4b5e0-0d9b-486e-9a84-c25e2b9f0a36",
   "metadata": {},
   "outputs": [
    {
     "data": {
      "text/plain": [
       "array([0., 1., 2.])"
      ]
     },
     "execution_count": 35,
     "metadata": {},
     "output_type": "execute_result"
    }
   ],
   "source": [
    "a1 - ones"
   ]
  },
  {
   "cell_type": "markdown",
   "id": "00475519-5eed-464d-a828-4e12cbbb2401",
   "metadata": {},
   "source": [
    "### monożenie, dzielenie przez tablice tego samego wymiaru"
   ]
  },
  {
   "cell_type": "code",
   "execution_count": 36,
   "id": "90b8fb35-5fb4-4641-994f-47b323a5a603",
   "metadata": {},
   "outputs": [
    {
     "data": {
      "text/plain": [
       "array([[1. , 2. , 3.2],\n",
       "       [4. , 5. , 6.4]])"
      ]
     },
     "execution_count": 36,
     "metadata": {},
     "output_type": "execute_result"
    }
   ],
   "source": [
    "a2"
   ]
  },
  {
   "cell_type": "code",
   "execution_count": 37,
   "id": "0e3c26c1-dd7c-4e17-8851-1a41a23a5ea6",
   "metadata": {},
   "outputs": [
    {
     "data": {
      "text/plain": [
       "array([[ 1. ,  4. ,  9.6],\n",
       "       [ 4. , 10. , 19.2]])"
      ]
     },
     "execution_count": 37,
     "metadata": {},
     "output_type": "execute_result"
    }
   ],
   "source": [
    "a1 * a2"
   ]
  },
  {
   "cell_type": "code",
   "execution_count": 38,
   "id": "010974e7-f493-4d86-a4da-28845f87c574",
   "metadata": {},
   "outputs": [
    {
     "data": {
      "text/plain": [
       "array([1., 2., 3.])"
      ]
     },
     "execution_count": 38,
     "metadata": {},
     "output_type": "execute_result"
    }
   ],
   "source": [
    "a1 / ones"
   ]
  },
  {
   "cell_type": "code",
   "execution_count": 39,
   "id": "f4e793d6-8f48-4d00-a210-0581e47c3c5a",
   "metadata": {},
   "outputs": [
    {
     "data": {
      "text/plain": [
       "array([[1.        , 1.        , 1.06666667],\n",
       "       [4.        , 2.5       , 2.13333333]])"
      ]
     },
     "execution_count": 39,
     "metadata": {},
     "output_type": "execute_result"
    }
   ],
   "source": [
    "a2 / a1"
   ]
  },
  {
   "cell_type": "code",
   "execution_count": 40,
   "id": "73a6ef49-9b6e-4e19-9d50-673e76871433",
   "metadata": {},
   "outputs": [
    {
     "data": {
      "text/plain": [
       "array([[1., 1., 1.],\n",
       "       [4., 2., 2.]])"
      ]
     },
     "execution_count": 40,
     "metadata": {},
     "output_type": "execute_result"
    }
   ],
   "source": [
    "a2 // a1 # dzielenie bez reszt (obcinanie do dołu)"
   ]
  },
  {
   "cell_type": "code",
   "execution_count": 41,
   "id": "ec489268-d925-4872-ae34-3c079d136716",
   "metadata": {},
   "outputs": [
    {
     "data": {
      "text/plain": [
       "array([[ 1.  ,  4.  , 10.24],\n",
       "       [16.  , 25.  , 40.96]])"
      ]
     },
     "execution_count": 41,
     "metadata": {},
     "output_type": "execute_result"
    }
   ],
   "source": [
    "a2 ** 2 # do potęgi 2"
   ]
  },
  {
   "cell_type": "code",
   "execution_count": 42,
   "id": "62eae5c3-8589-4390-8f9e-5b90401d6c99",
   "metadata": {},
   "outputs": [
    {
     "data": {
      "text/plain": [
       "array([[0. , 0. , 0.2],\n",
       "       [0. , 1. , 0.4]])"
      ]
     },
     "execution_count": 42,
     "metadata": {},
     "output_type": "execute_result"
    }
   ],
   "source": [
    "a2 % a1 # reszta z dzielenia"
   ]
  },
  {
   "cell_type": "markdown",
   "id": "c53d5fc1-12da-437d-921c-64caf6565144",
   "metadata": {},
   "source": [
    "### funkcje wbudowane"
   ]
  },
  {
   "cell_type": "code",
   "execution_count": 43,
   "id": "38bb034a-845e-440e-b0b2-86d1f2dc2ab7",
   "metadata": {},
   "outputs": [
    {
     "data": {
      "text/plain": [
       "array([[ 1.  ,  4.  , 10.24],\n",
       "       [16.  , 25.  , 40.96]])"
      ]
     },
     "execution_count": 43,
     "metadata": {},
     "output_type": "execute_result"
    }
   ],
   "source": [
    "np.square(a2) # też potęga 2"
   ]
  },
  {
   "cell_type": "code",
   "execution_count": 44,
   "id": "8a5ec00c-5202-46c1-ad0e-bfbeaad4983e",
   "metadata": {},
   "outputs": [
    {
     "data": {
      "text/plain": [
       "array([[2. , 4. , 6.2],\n",
       "       [5. , 7. , 9.4]])"
      ]
     },
     "execution_count": 44,
     "metadata": {},
     "output_type": "execute_result"
    }
   ],
   "source": [
    "np.add(a1, a2)"
   ]
  },
  {
   "cell_type": "code",
   "execution_count": 45,
   "id": "df3e0da4-2cb2-4d5d-99a2-1518509b5467",
   "metadata": {},
   "outputs": [
    {
     "data": {
      "text/plain": [
       "array([ 2.71828183,  7.3890561 , 20.08553692])"
      ]
     },
     "execution_count": 45,
     "metadata": {},
     "output_type": "execute_result"
    }
   ],
   "source": [
    "np.exp(a1)"
   ]
  },
  {
   "cell_type": "code",
   "execution_count": 46,
   "id": "810dfd8d-df09-4c65-8aa8-2d498f95aece",
   "metadata": {},
   "outputs": [
    {
     "data": {
      "text/plain": [
       "array([0.        , 0.69314718, 1.09861229])"
      ]
     },
     "execution_count": 46,
     "metadata": {},
     "output_type": "execute_result"
    }
   ],
   "source": [
    "np.log(a1)"
   ]
  },
  {
   "cell_type": "markdown",
   "id": "756ebdc3-786f-4b44-b64c-aad14292abe2",
   "metadata": {},
   "source": [
    "## Aggregation"
   ]
  },
  {
   "cell_type": "code",
   "execution_count": 47,
   "id": "ae805e83-6fe4-4f98-81b7-888423e57d93",
   "metadata": {},
   "outputs": [
    {
     "data": {
      "text/plain": [
       "list"
      ]
     },
     "execution_count": 47,
     "metadata": {},
     "output_type": "execute_result"
    }
   ],
   "source": [
    "listy_list = [1, 2, 3]\n",
    "type(listy_list)"
   ]
  },
  {
   "cell_type": "code",
   "execution_count": 48,
   "id": "f643e056-0abc-41a7-afa2-c832b93b181a",
   "metadata": {},
   "outputs": [
    {
     "data": {
      "text/plain": [
       "6"
      ]
     },
     "execution_count": 48,
     "metadata": {},
     "output_type": "execute_result"
    }
   ],
   "source": [
    "# suma elementów tablicy\n",
    "sum(listy_list)"
   ]
  },
  {
   "cell_type": "code",
   "execution_count": 49,
   "id": "5a279b19-b541-4d62-8e37-8331f4043577",
   "metadata": {},
   "outputs": [
    {
     "data": {
      "text/plain": [
       "array([1, 2, 3])"
      ]
     },
     "execution_count": 49,
     "metadata": {},
     "output_type": "execute_result"
    }
   ],
   "source": [
    "a1"
   ]
  },
  {
   "cell_type": "code",
   "execution_count": 50,
   "id": "56190d5e-8100-4acb-b2c7-05c157a4d794",
   "metadata": {},
   "outputs": [
    {
     "data": {
      "text/plain": [
       "6"
      ]
     },
     "execution_count": 50,
     "metadata": {},
     "output_type": "execute_result"
    }
   ],
   "source": [
    "sum(a1)"
   ]
  },
  {
   "cell_type": "code",
   "execution_count": 51,
   "id": "017e3522-615d-43dd-8508-28aee93896ce",
   "metadata": {},
   "outputs": [
    {
     "data": {
      "text/plain": [
       "6"
      ]
     },
     "execution_count": 51,
     "metadata": {},
     "output_type": "execute_result"
    }
   ],
   "source": [
    "np.sum(a1)"
   ]
  },
  {
   "cell_type": "markdown",
   "id": "68b29150-5aa2-483d-92d4-81c0d998f9dd",
   "metadata": {},
   "source": [
    "#### taki sam wynik, ale powinno się używać metod numpy na danych numpy, a metod pythona na danych pythona"
   ]
  },
  {
   "cell_type": "markdown",
   "id": "95ae5072-f1c3-40f9-9965-b55b2535aac3",
   "metadata": {},
   "source": [
    "## Wielkie tablice"
   ]
  },
  {
   "cell_type": "code",
   "execution_count": 52,
   "id": "4147ec2e-442d-4ed0-9ca8-18e159ff8def",
   "metadata": {},
   "outputs": [
    {
     "data": {
      "text/plain": [
       "10000"
      ]
     },
     "execution_count": 52,
     "metadata": {},
     "output_type": "execute_result"
    }
   ],
   "source": [
    "massive_array = np.random.random(10000)\n",
    "massive_array.size"
   ]
  },
  {
   "cell_type": "code",
   "execution_count": 53,
   "id": "bbdd4a08-7520-4d9b-aa35-df6a7fe6df18",
   "metadata": {},
   "outputs": [
    {
     "data": {
      "text/plain": [
       "array([0.22793516, 0.42710779, 0.81801477, 0.86073058, 0.00695213,\n",
       "       0.5107473 , 0.417411  , 0.22210781, 0.11986537, 0.33761517])"
      ]
     },
     "execution_count": 53,
     "metadata": {},
     "output_type": "execute_result"
    }
   ],
   "source": [
    "massive_array[:10]"
   ]
  },
  {
   "cell_type": "code",
   "execution_count": 54,
   "id": "2ae31979-78a6-4b75-bbf5-56aeda1e54d6",
   "metadata": {},
   "outputs": [
    {
     "name": "stdout",
     "output_type": "stream",
     "text": [
      "906 µs ± 4.89 µs per loop (mean ± std. dev. of 7 runs, 1,000 loops each)\n",
      "5.43 µs ± 33.6 ns per loop (mean ± std. dev. of 7 runs, 100,000 loops each)\n"
     ]
    }
   ],
   "source": [
    "%timeit sum(massive_array)\n",
    "%timeit np.sum(massive_array)"
   ]
  },
  {
   "cell_type": "markdown",
   "id": "b41362df-db2f-47ba-86f7-a4df3453c8db",
   "metadata": {},
   "source": [
    "## NumPy i operacje na tablicach są o wiele szybsze niż na tablicach w gołym pythonie"
   ]
  },
  {
   "cell_type": "code",
   "execution_count": 55,
   "id": "230c9ff1-ea44-4d3e-b8f2-acd9d05aeaa7",
   "metadata": {},
   "outputs": [
    {
     "data": {
      "text/plain": [
       "array([[1. , 2. , 3.2],\n",
       "       [4. , 5. , 6.4]])"
      ]
     },
     "execution_count": 55,
     "metadata": {},
     "output_type": "execute_result"
    }
   ],
   "source": [
    "a2"
   ]
  },
  {
   "cell_type": "code",
   "execution_count": 56,
   "id": "f61ea1e2-1105-45a4-8cca-244382724e76",
   "metadata": {},
   "outputs": [
    {
     "data": {
      "text/plain": [
       "3.6"
      ]
     },
     "execution_count": 56,
     "metadata": {},
     "output_type": "execute_result"
    }
   ],
   "source": [
    "# średnia z elementów tablicy\n",
    "np.mean(a2)"
   ]
  },
  {
   "cell_type": "code",
   "execution_count": 57,
   "id": "2b8bdd0f-d07a-45fb-a13b-577f3937d36c",
   "metadata": {},
   "outputs": [
    {
     "name": "stdout",
     "output_type": "stream",
     "text": [
      "1.8\n"
     ]
    }
   ],
   "source": [
    "# Standard deviation (standardowe odchylenie) to miara rozproszenia danych wokół ich średniej arytmetycznej. Jest to jedna z najczęściej używanych miar w statystyce.\n",
    "# Standard deviation jest obliczane jako pierwiastek kwadratowy wariancji. \n",
    "# Wariancja mierzy, jak bardzo dane różnią się od średniej, a standard deviation dostarcza miary tego rozrzutu w jednostkach oryginalnych danych.\n",
    "print(np.std(a2)) # standardowe odchylenie"
   ]
  },
  {
   "cell_type": "code",
   "execution_count": 58,
   "id": "40dd71de-e580-4f71-af9e-a2459aa81269",
   "metadata": {},
   "outputs": [
    {
     "name": "stdout",
     "output_type": "stream",
     "text": [
      "3.24\n"
     ]
    }
   ],
   "source": [
    "# Wariancja (Variance) - W statystyce wariancja to miara, która określa, \n",
    "# jak bardzo wartości zbioru danych różnią się od średniej arytmetycznej tych wartości. \n",
    "# Im większa wariancja, tym większe są różnice między poszczególnymi wartościami a średnią.\n",
    "print(np.var(a2)) # variance "
   ]
  },
  {
   "cell_type": "code",
   "execution_count": 59,
   "id": "1041e451-217e-4b9e-8c0d-b05e26da3e74",
   "metadata": {},
   "outputs": [
    {
     "name": "stdout",
     "output_type": "stream",
     "text": [
      "1.8\n"
     ]
    }
   ],
   "source": [
    "print(np.sqrt(np.var(a2))) # standardowe odchylenie, obilczenie na piechote"
   ]
  },
  {
   "cell_type": "markdown",
   "id": "aa39171b-c727-4e5d-a254-6c07a2b633e8",
   "metadata": {},
   "source": [
    "# STD and VAR"
   ]
  },
  {
   "cell_type": "code",
   "execution_count": 60,
   "id": "93273f2a-a214-4a56-a59e-e9e0b98c775e",
   "metadata": {},
   "outputs": [],
   "source": [
    "high_var_array = np.array([1, 100, 200, 300, 4000, 5000])\n",
    "low_var_array = np.array([2, 4, 6, 8, 10])"
   ]
  },
  {
   "cell_type": "markdown",
   "id": "3f101ab2-a5ca-4aec-9753-b1316bd1ffe6",
   "metadata": {},
   "source": [
    "### Wariancja"
   ]
  },
  {
   "cell_type": "code",
   "execution_count": 61,
   "id": "c6c96dd1-bbb4-47fa-af7d-6db9491d5f83",
   "metadata": {},
   "outputs": [
    {
     "data": {
      "text/plain": [
       "4296133.472222221"
      ]
     },
     "execution_count": 61,
     "metadata": {},
     "output_type": "execute_result"
    }
   ],
   "source": [
    "np.var(high_var_array) "
   ]
  },
  {
   "cell_type": "code",
   "execution_count": 62,
   "id": "9b595e94-32f6-4094-ab58-d49a658db183",
   "metadata": {},
   "outputs": [
    {
     "data": {
      "text/plain": [
       "8.0"
      ]
     },
     "execution_count": 62,
     "metadata": {},
     "output_type": "execute_result"
    }
   ],
   "source": [
    "np.var(low_var_array)"
   ]
  },
  {
   "cell_type": "markdown",
   "id": "9b0a9d85-39df-44b3-867d-a2b811198956",
   "metadata": {},
   "source": [
    "### Standardowe odchylenie"
   ]
  },
  {
   "cell_type": "code",
   "execution_count": 63,
   "id": "f7a4010d-0aa3-486e-ba70-1b97246a4999",
   "metadata": {},
   "outputs": [
    {
     "data": {
      "text/plain": [
       "2072.711623024829"
      ]
     },
     "execution_count": 63,
     "metadata": {},
     "output_type": "execute_result"
    }
   ],
   "source": [
    "np.std(high_var_array)"
   ]
  },
  {
   "cell_type": "code",
   "execution_count": 64,
   "id": "4aa7e78d-5905-4069-93c4-4967d2f7f8fe",
   "metadata": {},
   "outputs": [
    {
     "data": {
      "text/plain": [
       "2.8284271247461903"
      ]
     },
     "execution_count": 64,
     "metadata": {},
     "output_type": "execute_result"
    }
   ],
   "source": [
    "np.std(low_var_array)"
   ]
  },
  {
   "cell_type": "markdown",
   "id": "6743b80f-ef71-49e4-85af-e596d1a4dd58",
   "metadata": {},
   "source": [
    "### Średnia"
   ]
  },
  {
   "cell_type": "code",
   "execution_count": 65,
   "id": "0971a1b2-44b7-45cc-a2b3-5f02b9caa0b6",
   "metadata": {},
   "outputs": [
    {
     "data": {
      "text/plain": [
       "1600.1666666666667"
      ]
     },
     "execution_count": 65,
     "metadata": {},
     "output_type": "execute_result"
    }
   ],
   "source": [
    "np.mean(high_var_array)"
   ]
  },
  {
   "cell_type": "code",
   "execution_count": 66,
   "id": "80a755f8-48fb-454a-96b1-dbde05b74b63",
   "metadata": {},
   "outputs": [
    {
     "data": {
      "text/plain": [
       "6.0"
      ]
     },
     "execution_count": 66,
     "metadata": {},
     "output_type": "execute_result"
    }
   ],
   "source": [
    "np.mean(low_var_array)"
   ]
  },
  {
   "cell_type": "code",
   "execution_count": 67,
   "id": "60db3499-b1ac-4b22-a84f-b224a57d5645",
   "metadata": {},
   "outputs": [
    {
     "data": {
      "text/plain": [
       "array([   1,  100,  200,  300, 4000, 5000])"
      ]
     },
     "execution_count": 67,
     "metadata": {},
     "output_type": "execute_result"
    }
   ],
   "source": [
    "high_var_array"
   ]
  },
  {
   "cell_type": "code",
   "execution_count": 68,
   "id": "2999b2f7-35a3-4405-8921-9055bc9f847e",
   "metadata": {},
   "outputs": [
    {
     "data": {
      "image/png": "[encoded data removed]",
      "text/plain": [
       "<Figure size 640x480 with 1 Axes>"
      ]
     },
     "metadata": {},
     "output_type": "display_data"
    }
   ],
   "source": [
    "plt.hist(high_var_array);"
   ]
  },
  {
   "cell_type": "code",
   "execution_count": 69,
   "id": "7e57c646-13c5-444b-8eb7-b586fc5a6179",
   "metadata": {},
   "outputs": [
    {
     "data": {
      "text/plain": [
       "array([   1,  100,  200,  300, 4000, 5000])"
      ]
     },
     "execution_count": 69,
     "metadata": {},
     "output_type": "execute_result"
    }
   ],
   "source": [
    "high_var_array"
   ]
  },
  {
   "cell_type": "code",
   "execution_count": 70,
   "id": "f0f51c08-3d53-4954-9ab0-2ee65db0dc39",
   "metadata": {},
   "outputs": [
    {
     "data": {
      "image/png": "[encoded data removed]",
      "text/plain": [
       "<Figure size 640x480 with 1 Axes>"
      ]
     },
     "metadata": {},
     "output_type": "display_data"
    }
   ],
   "source": [
    "plt.plot(high_var_array);"
   ]
  },
  {
   "cell_type": "code",
   "execution_count": 71,
   "id": "1255336b-8a35-43f4-838a-59aed513e464",
   "metadata": {},
   "outputs": [
    {
     "data": {
      "text/plain": [
       "array([ 2,  4,  6,  8, 10])"
      ]
     },
     "execution_count": 71,
     "metadata": {},
     "output_type": "execute_result"
    }
   ],
   "source": [
    "low_var_array"
   ]
  },
  {
   "cell_type": "code",
   "execution_count": 72,
   "id": "076a218e-092d-4045-989a-f2265b960469",
   "metadata": {},
   "outputs": [
    {
     "data": {
      "image/png": "[encoded data removed]",
      "text/plain": [
       "<Figure size 640x480 with 1 Axes>"
      ]
     },
     "metadata": {},
     "output_type": "display_data"
    }
   ],
   "source": [
    "plt.hist(low_var_array);"
   ]
  },
  {
   "cell_type": "code",
   "execution_count": 73,
   "id": "ac64c4f5-dd34-436c-9b0d-42a308a6c2de",
   "metadata": {},
   "outputs": [
    {
     "data": {
      "text/plain": [
       "array([ 2,  4,  6,  8, 10])"
      ]
     },
     "execution_count": 73,
     "metadata": {},
     "output_type": "execute_result"
    }
   ],
   "source": [
    "low_var_array"
   ]
  },
  {
   "cell_type": "code",
   "execution_count": 74,
   "id": "0220141a-0a4b-47f7-b05b-7b9e66d8cd7b",
   "metadata": {},
   "outputs": [
    {
     "data": {
      "text/plain": [
       "[<matplotlib.lines.Line2D at 0x1b30bea1130>]"
      ]
     },
     "execution_count": 74,
     "metadata": {},
     "output_type": "execute_result"
    },
    {
     "data": {
      "image/png": "[encoded data removed]",
      "text/plain": [
       "<Figure size 640x480 with 1 Axes>"
      ]
     },
     "metadata": {},
     "output_type": "display_data"
    }
   ],
   "source": [
    "plt.plot(low_var_array)"
   ]
  },
  {
   "cell_type": "markdown",
   "id": "87dd8c4d-6f96-45d0-b34e-344f6f05345b",
   "metadata": {},
   "source": [
    "# Reshape and Transposing"
   ]
  },
  {
   "cell_type": "code",
   "execution_count": 75,
   "id": "a04b379e-b5f4-498e-baeb-412891d858d7",
   "metadata": {},
   "outputs": [
    {
     "data": {
      "text/plain": [
       "array([[1. , 2. , 3.2],\n",
       "       [4. , 5. , 6.4]])"
      ]
     },
     "execution_count": 75,
     "metadata": {},
     "output_type": "execute_result"
    }
   ],
   "source": [
    "a2"
   ]
  },
  {
   "cell_type": "code",
   "execution_count": 76,
   "id": "7b2c8e59-c8fe-4767-9c78-f3abf412a61b",
   "metadata": {},
   "outputs": [
    {
     "data": {
      "text/plain": [
       "array([[[ 1,  2,  3],\n",
       "        [ 4,  5,  6],\n",
       "        [ 7,  8,  9]],\n",
       "\n",
       "       [[10, 11, 12],\n",
       "        [13, 14, 15],\n",
       "        [16, 17, 18]]])"
      ]
     },
     "execution_count": 76,
     "metadata": {},
     "output_type": "execute_result"
    }
   ],
   "source": [
    "a3"
   ]
  },
  {
   "cell_type": "code",
   "execution_count": 77,
   "id": "c09657f6-659c-4137-a665-2bc77a14a51d",
   "metadata": {},
   "outputs": [
    {
     "data": {
      "text/plain": [
       "((2, 3), (2, 3, 3))"
      ]
     },
     "execution_count": 77,
     "metadata": {},
     "output_type": "execute_result"
    }
   ],
   "source": [
    "a2.shape, a3.shape"
   ]
  },
  {
   "cell_type": "code",
   "execution_count": 78,
   "id": "0437c46b-5fbb-4fd8-8c58-d08b0312a0ce",
   "metadata": {},
   "outputs": [
    {
     "data": {
      "text/plain": [
       "array([[[1. ],\n",
       "        [2. ],\n",
       "        [3.2]],\n",
       "\n",
       "       [[4. ],\n",
       "        [5. ],\n",
       "        [6.4]]])"
      ]
     },
     "execution_count": 78,
     "metadata": {},
     "output_type": "execute_result"
    }
   ],
   "source": [
    "# można mnożyć tablice:\n",
    "# - jak kształty dwóch tablic są takie same\n",
    "# - jeżeli nie są równe to zwiększa się wymiar o jeden\n",
    "\n",
    "a2_reshape = a2.reshape(2, 3, 1) # zmiana shape z (2,3) na (2,3,1)\n",
    "a2_reshape"
   ]
  },
  {
   "cell_type": "code",
   "execution_count": 80,
   "id": "059bf96a-30f6-4640-b014-a88aad18589b",
   "metadata": {},
   "outputs": [
    {
     "data": {
      "text/plain": [
       "array([[[  1. ,   2. ,   3. ],\n",
       "        [  8. ,  10. ,  12. ],\n",
       "        [ 22.4,  25.6,  28.8]],\n",
       "\n",
       "       [[ 40. ,  44. ,  48. ],\n",
       "        [ 65. ,  70. ,  75. ],\n",
       "        [102.4, 108.8, 115.2]]])"
      ]
     },
     "execution_count": 80,
     "metadata": {},
     "output_type": "execute_result"
    }
   ],
   "source": [
    "a2_reshape * a3 # dzięki zmianie kształtu a w zasadzie rozszeżeniu tablicy można ją pomnożyć, inaczej będzie error"
   ]
  },
  {
   "cell_type": "markdown",
   "id": "2aa4d8e5-06ea-4c2a-95a6-ea1f833924ae",
   "metadata": {},
   "source": [
    "#### Transpose (transpozycja) to operacja matematyczna polegająca na zamianie miejscami kolumn i wierszy w macierzy."
   ]
  },
  {
   "cell_type": "code",
   "execution_count": 81,
   "id": "59334ffc-9d1c-4412-a901-791241903290",
   "metadata": {},
   "outputs": [
    {
     "data": {
      "text/plain": [
       "array([[[ 1,  2,  3],\n",
       "        [ 4,  5,  6],\n",
       "        [ 7,  8,  9]],\n",
       "\n",
       "       [[10, 11, 12],\n",
       "        [13, 14, 15],\n",
       "        [16, 17, 18]]])"
      ]
     },
     "execution_count": 81,
     "metadata": {},
     "output_type": "execute_result"
    }
   ],
   "source": [
    "a3"
   ]
  },
  {
   "cell_type": "code",
   "execution_count": 82,
   "id": "3565741d-1307-44c5-8656-97589cedb272",
   "metadata": {},
   "outputs": [
    {
     "data": {
      "text/plain": [
       "array([[[ 1, 10],\n",
       "        [ 4, 13],\n",
       "        [ 7, 16]],\n",
       "\n",
       "       [[ 2, 11],\n",
       "        [ 5, 14],\n",
       "        [ 8, 17]],\n",
       "\n",
       "       [[ 3, 12],\n",
       "        [ 6, 15],\n",
       "        [ 9, 18]]])"
      ]
     },
     "execution_count": 82,
     "metadata": {},
     "output_type": "execute_result"
    }
   ],
   "source": [
    "a3.T # lub a3.transpose()"
   ]
  },
  {
   "cell_type": "markdown",
   "id": "ab7bba55-4d0d-4ae0-a4be-ab721429e406",
   "metadata": {},
   "source": [
    "# Element-wise multiplications (mnożenie macierz przez macierz)"
   ]
  },
  {
   "cell_type": "code",
   "execution_count": 83,
   "id": "79b5e988-0a54-482b-89fb-1c8ed1228626",
   "metadata": {},
   "outputs": [],
   "source": [
    "np.random.seed(0)\n",
    "mat1 = np.random.randint(10, size=(5, 3))\n",
    "mat2 = np.random.randint(10, size=(5, 3))"
   ]
  },
  {
   "cell_type": "code",
   "execution_count": 84,
   "id": "c57aaeed-afa1-4add-8a6c-e4694834cf80",
   "metadata": {},
   "outputs": [
    {
     "data": {
      "text/plain": [
       "array([[5, 0, 3],\n",
       "       [3, 7, 9],\n",
       "       [3, 5, 2],\n",
       "       [4, 7, 6],\n",
       "       [8, 8, 1]])"
      ]
     },
     "execution_count": 84,
     "metadata": {},
     "output_type": "execute_result"
    }
   ],
   "source": [
    "mat1"
   ]
  },
  {
   "cell_type": "code",
   "execution_count": 85,
   "id": "e4d8480f-d41f-4916-b037-b405b76ce1c8",
   "metadata": {},
   "outputs": [
    {
     "data": {
      "text/plain": [
       "array([[6, 7, 7],\n",
       "       [8, 1, 5],\n",
       "       [9, 8, 9],\n",
       "       [4, 3, 0],\n",
       "       [3, 5, 0]])"
      ]
     },
     "execution_count": 85,
     "metadata": {},
     "output_type": "execute_result"
    }
   ],
   "source": [
    "mat2"
   ]
  },
  {
   "cell_type": "code",
   "execution_count": 86,
   "id": "38691cc0-8f77-4e8f-8414-d7d93c744927",
   "metadata": {},
   "outputs": [
    {
     "data": {
      "text/plain": [
       "((5, 3), (5, 3))"
      ]
     },
     "execution_count": 86,
     "metadata": {},
     "output_type": "execute_result"
    }
   ],
   "source": [
    "mat1.shape, mat2.shape"
   ]
  },
  {
   "cell_type": "code",
   "execution_count": 87,
   "id": "43376c20-3311-4011-9bcc-4b2cbc6e402d",
   "metadata": {},
   "outputs": [],
   "source": [
    "# \"Element-wise multiplications\" oznacza, że mnożenie odbywa się na odpowiadających sobie elementach dwóch tensorów.\n",
    "# Macierze muszą mieć tą samą liczbę elementów, jeżeli nie mają dopełnia się je przez reshaping jedynkami.\n",
    "# Monoży się element przez element."
   ]
  },
  {
   "cell_type": "code",
   "execution_count": 88,
   "id": "7c2177e0-5a24-4a16-8136-35b3c85da9ab",
   "metadata": {},
   "outputs": [
    {
     "data": {
      "text/plain": [
       "array([[30,  0, 21],\n",
       "       [24,  7, 45],\n",
       "       [27, 40, 18],\n",
       "       [16, 21,  0],\n",
       "       [24, 40,  0]])"
      ]
     },
     "execution_count": 88,
     "metadata": {},
     "output_type": "execute_result"
    }
   ],
   "source": [
    "mat1 * mat2"
   ]
  },
  {
   "cell_type": "markdown",
   "id": "2807d023-34d7-4541-860e-52db30e72321",
   "metadata": {},
   "source": [
    "# Dot product (iloczyn skalarny)"
   ]
  },
  {
   "cell_type": "code",
   "execution_count": 89,
   "id": "37548e2f-ab04-46e0-bbb6-916a476f6d68",
   "metadata": {},
   "outputs": [
    {
     "data": {
      "text/plain": [
       "array([[5, 0, 3],\n",
       "       [3, 7, 9],\n",
       "       [3, 5, 2],\n",
       "       [4, 7, 6],\n",
       "       [8, 8, 1]])"
      ]
     },
     "execution_count": 89,
     "metadata": {},
     "output_type": "execute_result"
    }
   ],
   "source": [
    "mat1"
   ]
  },
  {
   "cell_type": "code",
   "execution_count": 90,
   "id": "0ae599a0-4c34-4e17-8a21-784537ce1676",
   "metadata": {},
   "outputs": [
    {
     "data": {
      "text/plain": [
       "array([[6, 7, 7],\n",
       "       [8, 1, 5],\n",
       "       [9, 8, 9],\n",
       "       [4, 3, 0],\n",
       "       [3, 5, 0]])"
      ]
     },
     "execution_count": 90,
     "metadata": {},
     "output_type": "execute_result"
    }
   ],
   "source": [
    "mat2"
   ]
  },
  {
   "cell_type": "code",
   "execution_count": 91,
   "id": "030f1786-6f01-4c81-ace3-cfcc971cf7b6",
   "metadata": {},
   "outputs": [],
   "source": [
    "# Dot product (iloczyn skalarny) to operacja matematyczna, która ma zastosowanie w algebrze liniowej i analizie wektorowej.\n",
    "# Żeby można było wykonać iloczyn skalarny, to macieże powinny być odpowiednio ułożone, i mieć odpowiedni shape,\n",
    "# ilość kolumn w pierwszej musi się zgadzać z ilością wierszy w drugiej."
   ]
  },
  {
   "cell_type": "code",
   "execution_count": 92,
   "id": "5e055532-a098-424a-baf0-f41237a9ede3",
   "metadata": {},
   "outputs": [
    {
     "data": {
      "text/plain": [
       "array([[6, 8, 9, 4, 3],\n",
       "       [7, 1, 8, 3, 5],\n",
       "       [7, 5, 9, 0, 0]])"
      ]
     },
     "execution_count": 92,
     "metadata": {},
     "output_type": "execute_result"
    }
   ],
   "source": [
    "mat2.T"
   ]
  },
  {
   "cell_type": "code",
   "execution_count": 93,
   "id": "bd49b2fb-d2ff-4412-b198-6168bc78ed99",
   "metadata": {},
   "outputs": [
    {
     "data": {
      "text/plain": [
       "array([[ 51,  55,  72,  20,  15],\n",
       "       [130,  76, 164,  33,  44],\n",
       "       [ 67,  39,  85,  27,  34],\n",
       "       [115,  69, 146,  37,  47],\n",
       "       [111,  77, 145,  56,  64]])"
      ]
     },
     "execution_count": 93,
     "metadata": {},
     "output_type": "execute_result"
    }
   ],
   "source": [
    "mat3 = np.dot(mat1, mat2.T)\n",
    "mat3"
   ]
  },
  {
   "cell_type": "code",
   "execution_count": 94,
   "id": "19de3fcf-328f-4cc9-a2e4-962e90cbfbfa",
   "metadata": {},
   "outputs": [
    {
     "data": {
      "text/plain": [
       "((5, 3), (5, 3), (5, 5))"
      ]
     },
     "execution_count": 94,
     "metadata": {},
     "output_type": "execute_result"
    }
   ],
   "source": [
    "mat1.shape, mat2.shape, mat3.shape"
   ]
  },
  {
   "cell_type": "markdown",
   "id": "07fdbf23-d1fe-4bc6-8ccb-79f72ce43257",
   "metadata": {},
   "source": [
    "# Example dot product"
   ]
  },
  {
   "cell_type": "code",
   "execution_count": 95,
   "id": "fb37c2fa-1eba-4685-b5ec-de521563c011",
   "metadata": {},
   "outputs": [
    {
     "data": {
      "text/plain": [
       "array([[12, 15,  0],\n",
       "       [ 3,  3,  7],\n",
       "       [ 9, 19, 18],\n",
       "       [ 4,  6, 12],\n",
       "       [ 1,  6,  7]])"
      ]
     },
     "execution_count": 95,
     "metadata": {},
     "output_type": "execute_result"
    }
   ],
   "source": [
    "np.random.seed(0)\n",
    "sales_amounts = np.random.randint(20, size=(5, 3))\n",
    "sales_amounts"
   ]
  },
  {
   "cell_type": "markdown",
   "id": "15960e3b-ec47-43a3-be9d-55fecb180aac",
   "metadata": {},
   "source": [
    "### produkty"
   ]
  },
  {
   "cell_type": "code",
   "execution_count": 97,
   "id": "0f523bf5-3655-44dc-a4de-5ce0b7783eb3",
   "metadata": {},
   "outputs": [
    {
     "data": {
      "text/html": [
       "<div>\n",
       "<style scoped>\n",
       "    .dataframe tbody tr th:only-of-type {\n",
       "        vertical-align: middle;\n",
       "    }\n",
       "\n",
       "    .dataframe tbody tr th {\n",
       "        vertical-align: top;\n",
       "    }\n",
       "\n",
       "    .dataframe thead th {\n",
       "        text-align: right;\n",
       "    }\n",
       "</style>\n",
       "<table border=\"1\" class=\"dataframe\">\n",
       "  <thead>\n",
       "    <tr style=\"text-align: right;\">\n",
       "      <th></th>\n",
       "      <th>Almond butter</th>\n",
       "      <th>Peanut butter</th>\n",
       "      <th>Cashew butter</th>\n",
       "    </tr>\n",
       "  </thead>\n",
       "  <tbody>\n",
       "    <tr>\n",
       "      <th>Mon</th>\n",
       "      <td>12</td>\n",
       "      <td>15</td>\n",
       "      <td>0</td>\n",
       "    </tr>\n",
       "    <tr>\n",
       "      <th>Tues</th>\n",
       "      <td>3</td>\n",
       "      <td>3</td>\n",
       "      <td>7</td>\n",
       "    </tr>\n",
       "    <tr>\n",
       "      <th>Wed</th>\n",
       "      <td>9</td>\n",
       "      <td>19</td>\n",
       "      <td>18</td>\n",
       "    </tr>\n",
       "    <tr>\n",
       "      <th>Thurs</th>\n",
       "      <td>4</td>\n",
       "      <td>6</td>\n",
       "      <td>12</td>\n",
       "    </tr>\n",
       "    <tr>\n",
       "      <th>Fri</th>\n",
       "      <td>1</td>\n",
       "      <td>6</td>\n",
       "      <td>7</td>\n",
       "    </tr>\n",
       "  </tbody>\n",
       "</table>\n",
       "</div>"
      ],
      "text/plain": [
       "       Almond butter  Peanut butter  Cashew butter\n",
       "Mon               12             15              0\n",
       "Tues               3              3              7\n",
       "Wed                9             19             18\n",
       "Thurs              4              6             12\n",
       "Fri                1              6              7"
      ]
     },
     "execution_count": 97,
     "metadata": {},
     "output_type": "execute_result"
    }
   ],
   "source": [
    "weekly_sales = pd.DataFrame(sales_amounts,\n",
    "                            index=['Mon', 'Tues', 'Wed', 'Thurs', 'Fri'],\n",
    "                            columns=['Almond butter', 'Peanut butter', 'Cashew butter'])\n",
    "weekly_sales"
   ]
  },
  {
   "cell_type": "markdown",
   "id": "16330290-3002-4a81-8181-a747f413c34b",
   "metadata": {},
   "source": [
    "### ceny"
   ]
  },
  {
   "cell_type": "code",
   "execution_count": 98,
   "id": "e3824e34-d2bf-41f1-96c8-4583ce63b919",
   "metadata": {},
   "outputs": [
    {
     "data": {
      "text/plain": [
       "array([10,  8, 12])"
      ]
     },
     "execution_count": 98,
     "metadata": {},
     "output_type": "execute_result"
    }
   ],
   "source": [
    "prices = np.array([10, 8, 12])\n",
    "prices"
   ]
  },
  {
   "cell_type": "code",
   "execution_count": 99,
   "id": "db312854-96b6-4c88-b7a3-4c632110d2b8",
   "metadata": {},
   "outputs": [
    {
     "data": {
      "text/html": [
       "<div>\n",
       "<style scoped>\n",
       "    .dataframe tbody tr th:only-of-type {\n",
       "        vertical-align: middle;\n",
       "    }\n",
       "\n",
       "    .dataframe tbody tr th {\n",
       "        vertical-align: top;\n",
       "    }\n",
       "\n",
       "    .dataframe thead th {\n",
       "        text-align: right;\n",
       "    }\n",
       "</style>\n",
       "<table border=\"1\" class=\"dataframe\">\n",
       "  <thead>\n",
       "    <tr style=\"text-align: right;\">\n",
       "      <th></th>\n",
       "      <th>Almond butter</th>\n",
       "      <th>Peanut butter</th>\n",
       "      <th>Cashew butter</th>\n",
       "    </tr>\n",
       "  </thead>\n",
       "  <tbody>\n",
       "    <tr>\n",
       "      <th>Price</th>\n",
       "      <td>10</td>\n",
       "      <td>8</td>\n",
       "      <td>12</td>\n",
       "    </tr>\n",
       "  </tbody>\n",
       "</table>\n",
       "</div>"
      ],
      "text/plain": [
       "       Almond butter  Peanut butter  Cashew butter\n",
       "Price             10              8             12"
      ]
     },
     "execution_count": 99,
     "metadata": {},
     "output_type": "execute_result"
    }
   ],
   "source": [
    "butter_prices = pd.DataFrame(prices.reshape(1, 3),\n",
    "                             index=['Price'],\n",
    "                             columns=['Almond butter', 'Peanut butter', 'Cashew butter'])\n",
    "butter_prices"
   ]
  },
  {
   "cell_type": "code",
   "execution_count": 100,
   "id": "684bdd2c-2b31-433b-a589-bfa9730fc6b6",
   "metadata": {},
   "outputs": [
    {
     "data": {
      "text/plain": [
       "array([240, 138, 458, 232, 142])"
      ]
     },
     "execution_count": 100,
     "metadata": {},
     "output_type": "execute_result"
    }
   ],
   "source": [
    "total_sales = prices.dot(sales_amounts.T)\n",
    "total_sales"
   ]
  },
  {
   "cell_type": "markdown",
   "id": "bbbed697-e538-4670-882e-da0676f0e943",
   "metadata": {},
   "source": [
    "# Operatory porównania"
   ]
  },
  {
   "cell_type": "code",
   "execution_count": 101,
   "id": "fa5cbf02-c231-458e-b198-1ea3502e905d",
   "metadata": {},
   "outputs": [
    {
     "data": {
      "text/plain": [
       "array([1, 2, 3])"
      ]
     },
     "execution_count": 101,
     "metadata": {},
     "output_type": "execute_result"
    }
   ],
   "source": [
    "a1"
   ]
  },
  {
   "cell_type": "code",
   "execution_count": 102,
   "id": "159d6d41-f77a-4096-8501-53c6bb0a8cc5",
   "metadata": {},
   "outputs": [
    {
     "data": {
      "text/plain": [
       "array([[1. , 2. , 3.2],\n",
       "       [4. , 5. , 6.4]])"
      ]
     },
     "execution_count": 102,
     "metadata": {},
     "output_type": "execute_result"
    }
   ],
   "source": [
    "a2"
   ]
  },
  {
   "cell_type": "code",
   "execution_count": 106,
   "id": "cb1e7840-ac6c-4dab-9c5b-76557abf773e",
   "metadata": {},
   "outputs": [
    {
     "data": {
      "text/plain": [
       "array([[False, False, False],\n",
       "       [False, False, False]])"
      ]
     },
     "execution_count": 106,
     "metadata": {},
     "output_type": "execute_result"
    }
   ],
   "source": [
    "a1 > a2 # porównuje wewnętrzne wartości tablic"
   ]
  },
  {
   "cell_type": "code",
   "execution_count": 105,
   "id": "00bf1497-f4c2-4b44-93e7-2a780fd24d91",
   "metadata": {},
   "outputs": [
    {
     "data": {
      "text/plain": [
       "array([[False, False,  True],\n",
       "       [ True,  True,  True]])"
      ]
     },
     "execution_count": 105,
     "metadata": {},
     "output_type": "execute_result"
    }
   ],
   "source": [
    "a1 < a2"
   ]
  },
  {
   "cell_type": "markdown",
   "id": "a704e90f-b69b-4d97-b88b-78e0963fa292",
   "metadata": {},
   "source": [
    "# Sortowanie"
   ]
  },
  {
   "cell_type": "code",
   "execution_count": 107,
   "id": "5b2ad72b-cae9-43e1-8fa3-1a3902a1eb03",
   "metadata": {},
   "outputs": [
    {
     "data": {
      "text/plain": [
       "array([[7, 8, 1, 5, 9],\n",
       "       [8, 9, 4, 3, 0],\n",
       "       [3, 5, 0, 2, 3]])"
      ]
     },
     "execution_count": 107,
     "metadata": {},
     "output_type": "execute_result"
    }
   ],
   "source": [
    "random_array = np.random.randint(10, size=(3, 5))\n",
    "random_array"
   ]
  },
  {
   "cell_type": "code",
   "execution_count": 108,
   "id": "0ef5b1be-8747-4c25-acc9-f1169a69c392",
   "metadata": {},
   "outputs": [],
   "source": [
    "# sortowanie w wierszach"
   ]
  },
  {
   "cell_type": "code",
   "execution_count": 110,
   "id": "de2cee49-93f2-489f-a0b9-40d609692f09",
   "metadata": {},
   "outputs": [
    {
     "data": {
      "text/plain": [
       "array([[1, 5, 7, 8, 9],\n",
       "       [0, 3, 4, 8, 9],\n",
       "       [0, 2, 3, 3, 5]])"
      ]
     },
     "execution_count": 110,
     "metadata": {},
     "output_type": "execute_result"
    }
   ],
   "source": [
    "np.sort(random_array) # sortowanie wartości w wierszu"
   ]
  },
  {
   "cell_type": "code",
   "execution_count": 112,
   "id": "afd3f7b7-c68a-41b1-992a-6e505e2727d0",
   "metadata": {},
   "outputs": [
    {
     "data": {
      "text/plain": [
       "array([[2, 3, 0, 1, 4],\n",
       "       [4, 3, 2, 0, 1],\n",
       "       [2, 3, 0, 4, 1]], dtype=int64)"
      ]
     },
     "execution_count": 112,
     "metadata": {},
     "output_type": "execute_result"
    }
   ],
   "source": [
    "np.argsort(random_array) # sortowanie wartości w wierszu, i zamiana wartości na indeksy tych wartości przed posortowaniem"
   ]
  },
  {
   "cell_type": "code",
   "execution_count": 114,
   "id": "af6d1e0f-601f-4d0d-a742-ba2911e646ad",
   "metadata": {},
   "outputs": [
    {
     "data": {
      "text/plain": [
       "array([1, 2, 3])"
      ]
     },
     "execution_count": 114,
     "metadata": {},
     "output_type": "execute_result"
    }
   ],
   "source": [
    "a1"
   ]
  },
  {
   "cell_type": "code",
   "execution_count": 113,
   "id": "a39fcea7-7be9-4da5-add1-cc5a900250ac",
   "metadata": {},
   "outputs": [
    {
     "data": {
      "text/plain": [
       "0"
      ]
     },
     "execution_count": 113,
     "metadata": {},
     "output_type": "execute_result"
    }
   ],
   "source": [
    "np.argmin(a1)# index minimalnej wartości"
   ]
  },
  {
   "cell_type": "code",
   "execution_count": 115,
   "id": "1ca6f690-171e-4397-aaf0-61b3f08590eb",
   "metadata": {},
   "outputs": [
    {
     "data": {
      "text/plain": [
       "2"
      ]
     },
     "execution_count": 115,
     "metadata": {},
     "output_type": "execute_result"
    }
   ],
   "source": [
    "np.argmax(a1) # index maxymalnej wartości"
   ]
  },
  {
   "cell_type": "code",
   "execution_count": 116,
   "id": "09f556f2-002b-4795-8aa4-89f0c6832ace",
   "metadata": {},
   "outputs": [
    {
     "data": {
      "text/plain": [
       "array([[7, 8, 1, 5, 9],\n",
       "       [8, 9, 4, 3, 0],\n",
       "       [3, 5, 0, 2, 3]])"
      ]
     },
     "execution_count": 116,
     "metadata": {},
     "output_type": "execute_result"
    }
   ],
   "source": [
    "random_array"
   ]
  },
  {
   "cell_type": "code",
   "execution_count": 117,
   "id": "08998bdf-e154-4976-b386-cfe2033a5535",
   "metadata": {},
   "outputs": [
    {
     "data": {
      "text/plain": [
       "array([1, 1, 1, 0, 0], dtype=int64)"
      ]
     },
     "execution_count": 117,
     "metadata": {},
     "output_type": "execute_result"
    }
   ],
   "source": [
    "np.argmax(random_array, axis=0) # wartość maxymalna w kolumnach (indeksy), od góry w dół od 0"
   ]
  },
  {
   "cell_type": "code",
   "execution_count": 119,
   "id": "48cc35b8-3ead-4152-bdaf-effd36b04091",
   "metadata": {},
   "outputs": [
    {
     "data": {
      "text/plain": [
       "array([4, 1, 1], dtype=int64)"
      ]
     },
     "execution_count": 119,
     "metadata": {},
     "output_type": "execute_result"
    }
   ],
   "source": [
    "np.argmax(random_array, axis=1) # wartość maxymalna w wierszach (indeksy), od lewej"
   ]
  },
  {
   "cell_type": "markdown",
   "id": "371c901d-ef58-4706-8f39-9eff3a353034",
   "metadata": {},
   "source": [
    "# Example images"
   ]
  },
  {
   "cell_type": "code",
   "execution_count": 125,
   "id": "7aae8733-02f4-4bd6-a1df-87f0cb6b52b0",
   "metadata": {},
   "outputs": [],
   "source": [
    "panda = imread('panda.png')"
   ]
  },
  {
   "cell_type": "code",
   "execution_count": 127,
   "id": "af06cf4e-8164-4629-8bc5-535fa5e2542d",
   "metadata": {},
   "outputs": [
    {
     "data": {
      "text/plain": [
       "numpy.ndarray"
      ]
     },
     "execution_count": 127,
     "metadata": {},
     "output_type": "execute_result"
    }
   ],
   "source": [
    "type(panda)"
   ]
  },
  {
   "cell_type": "code",
   "execution_count": 129,
   "id": "015ca48f-b90a-4282-aa35-5d7209b2ce73",
   "metadata": {},
   "outputs": [
    {
     "data": {
      "text/plain": [
       "array([[[0.05490196, 0.10588235, 0.06666667],\n",
       "        [0.05490196, 0.10588235, 0.06666667],\n",
       "        [0.05490196, 0.10588235, 0.06666667],\n",
       "        ...,\n",
       "        [0.16470589, 0.12941177, 0.09411765],\n",
       "        [0.16470589, 0.12941177, 0.09411765],\n",
       "        [0.16470589, 0.12941177, 0.09411765]]], dtype=float32)"
      ]
     },
     "execution_count": 129,
     "metadata": {},
     "output_type": "execute_result"
    }
   ],
   "source": [
    "panda[:1]"
   ]
  },
  {
   "cell_type": "code",
   "execution_count": 131,
   "id": "165b77db-bf93-4208-834e-3b1f48e1c9f7",
   "metadata": {},
   "outputs": [
    {
     "data": {
      "text/plain": [
       "(24465000, (2330, 3500, 3), 3)"
      ]
     },
     "execution_count": 131,
     "metadata": {},
     "output_type": "execute_result"
    }
   ],
   "source": [
    "panda.size, panda.shape, panda.ndim"
   ]
  },
  {
   "cell_type": "code",
   "execution_count": 132,
   "id": "62010ac0-6b3f-4e73-93f6-0ab1c91a7a77",
   "metadata": {},
   "outputs": [
    {
     "data": {
      "text/plain": [
       "array([[[0.05490196, 0.10588235, 0.06666667],\n",
       "        [0.05490196, 0.10588235, 0.06666667],\n",
       "        [0.05490196, 0.10588235, 0.06666667],\n",
       "        ...,\n",
       "        [0.16470589, 0.12941177, 0.09411765],\n",
       "        [0.16470589, 0.12941177, 0.09411765],\n",
       "        [0.16470589, 0.12941177, 0.09411765]]], dtype=float32)"
      ]
     },
     "execution_count": 132,
     "metadata": {},
     "output_type": "execute_result"
    }
   ],
   "source": [
    "panda[:1]"
   ]
  },
  {
   "cell_type": "code",
   "execution_count": 133,
   "id": "7d6cfd2b-4ae1-449c-b348-7e490229a9c5",
   "metadata": {},
   "outputs": [],
   "source": [
    "car = imread('car-photo.png')"
   ]
  },
  {
   "cell_type": "code",
   "execution_count": 135,
   "id": "5447ac2d-5b7e-4df1-9852-b1df79a8de67",
   "metadata": {},
   "outputs": [
    {
     "data": {
      "text/plain": [
       "(991300, (431, 575, 4), 3)"
      ]
     },
     "execution_count": 135,
     "metadata": {},
     "output_type": "execute_result"
    }
   ],
   "source": [
    "car.size, car.shape, car.ndim"
   ]
  },
  {
   "cell_type": "code",
   "execution_count": 134,
   "id": "60778a4a-385d-4784-8192-cc88f4cccdeb",
   "metadata": {},
   "outputs": [
    {
     "data": {
      "text/plain": [
       "array([[[0.5019608 , 0.50980395, 0.4862745 , 1.        ],\n",
       "        [0.3372549 , 0.34509805, 0.30588236, 1.        ],\n",
       "        [0.20392157, 0.21568628, 0.14901961, 1.        ],\n",
       "        ...,\n",
       "        [0.64705884, 0.7058824 , 0.54901963, 1.        ],\n",
       "        [0.59607846, 0.63529414, 0.45882353, 1.        ],\n",
       "        [0.44705883, 0.47058824, 0.3372549 , 1.        ]]], dtype=float32)"
      ]
     },
     "execution_count": 134,
     "metadata": {},
     "output_type": "execute_result"
    }
   ],
   "source": [
    "car[:1]"
   ]
  },
  {
   "cell_type": "code",
   "execution_count": 136,
   "id": "dcd4252d-e411-499d-8f81-3a4f24a23b0d",
   "metadata": {},
   "outputs": [],
   "source": [
    "dog =  imread('dog-photo.png')"
   ]
  },
  {
   "cell_type": "code",
   "execution_count": 137,
   "id": "7fa0f112-6343-4bc7-98ab-d45d2f70421c",
   "metadata": {},
   "outputs": [
    {
     "data": {
      "text/plain": [
       "(993600, (432, 575, 4), 3)"
      ]
     },
     "execution_count": 137,
     "metadata": {},
     "output_type": "execute_result"
    }
   ],
   "source": [
    "dog.size, dog.shape, dog.ndim"
   ]
  },
  {
   "cell_type": "code",
   "execution_count": 138,
   "id": "0607853e-61ad-4d15-8d4d-2b08639fd2d8",
   "metadata": {},
   "outputs": [
    {
     "data": {
      "text/plain": [
       "array([[[0.70980394, 0.80784315, 0.88235295, 1.        ],\n",
       "        [0.72156864, 0.8117647 , 0.8862745 , 1.        ],\n",
       "        [0.7411765 , 0.8156863 , 0.8862745 , 1.        ],\n",
       "        ...,\n",
       "        [0.49803922, 0.6862745 , 0.8392157 , 1.        ],\n",
       "        [0.49411765, 0.68235296, 0.8392157 , 1.        ],\n",
       "        [0.49411765, 0.68235296, 0.8352941 , 1.        ]]], dtype=float32)"
      ]
     },
     "execution_count": 138,
     "metadata": {},
     "output_type": "execute_result"
    }
   ],
   "source": [
    "dog[:1]"
   ]
  },
  {
   "cell_type": "code",
   "execution_count": null,
   "id": "a399ea4b-718e-46cf-b552-9ed55d2de77f",
   "metadata": {},
   "outputs": [],
   "source": []
  }
 ],
 "metadata": {
  "kernelspec": {
   "display_name": "Python 3 (ipykernel)",
   "language": "python",
   "name": "python3"
  },
  "language_info": {
   "codemirror_mode": {
    "name": "ipython",
    "version": 3
   },
   "file_extension": ".py",
   "mimetype": "text/x-python",
   "name": "python",
   "nbconvert_exporter": "python",
   "pygments_lexer": "ipython3",
   "version": "3.12.7"
  },
  "widgets": {
   "application/vnd.jupyter.widget-state+json": {
    "state": {},
    "version_major": 2,
    "version_minor": 0
   }
  }
 },
 "nbformat": 4,
 "nbformat_minor": 5
}
