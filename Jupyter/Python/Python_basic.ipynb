{
 "cells": [
  {
   "cell_type": "markdown",
   "id": "724ea447-0571-4e14-aa61-d0a7504a9091",
   "metadata": {
    "jp-MarkdownHeadingCollapsed": true
   },
   "source": [
    "## 01. Komentarze, słowa kluczowe, nazewnictwo."
   ]
  },
  {
   "cell_type": "code",
   "execution_count": 1,
   "id": "4ba07627-7c39-48fe-9fc9-d3da0125481c",
   "metadata": {},
   "outputs": [],
   "source": [
    "# Komentarz jednoliniowy.\n",
    "\n",
    "'''\n",
    "komentarz\n",
    "wielo-\n",
    "liniowy\n",
    "'''\n",
    "\n",
    "''' 35 słów kluczowych w python:\n",
    "and   del   from   None   True   as   elif   global   nonlocal   try   assert   else   if   not   while   break   except   import\n",
    "or   with   class   False   in   pass   yield   continue   finally   is   raise   async   def   for   lambda   return   await\n",
    "'''\n",
    "\n",
    "# Camel Case\n",
    "myVariableName = \"John\"\n",
    "# Pascal Case\n",
    "MyVariableName = \"John\"\n",
    "# Snake Case\n",
    "my_variable_name = \"John\""
   ]
  },
  {
   "cell_type": "markdown",
   "id": "052cf12e-712e-4af4-8e3e-b2c7be30ff31",
   "metadata": {
    "jp-MarkdownHeadingCollapsed": true
   },
   "source": [
    "## 02. Zmienne."
   ]
  },
  {
   "cell_type": "code",
   "execution_count": 2,
   "id": "fcfc4a24-a1cc-49f9-af11-8f2229d6a17a",
   "metadata": {},
   "outputs": [
    {
     "data": {
      "text/plain": [
       "(123, 1.23, 'str', (1+2j), True)"
      ]
     },
     "execution_count": 2,
     "metadata": {},
     "output_type": "execute_result"
    }
   ],
   "source": [
    "# W python nie ma potrzeby deklarowania zmiennej parser wywnioskuje sobe sam jaki to typ.\n",
    "x = 123\n",
    "y = 1.23\n",
    "z = 'str'\n",
    "a = (1 + 2j) # liczba zespolona\n",
    "b = True\n",
    "x, y, z, a, b"
   ]
  },
  {
   "cell_type": "code",
   "execution_count": 3,
   "id": "9d8cce21-13dc-469a-8e2d-d239566e41f8",
   "metadata": {},
   "outputs": [
    {
     "data": {
      "text/plain": [
       "('text', 123, 1.23, (2+34j))"
      ]
     },
     "execution_count": 3,
     "metadata": {},
     "output_type": "execute_result"
    }
   ],
   "source": [
    "# Jeżeli w trakcie programu zmieni się typ interpreter sie tym zajmnie sam.\n",
    "x = 'text' # w python '' i \"\" to sama ma znaczenie, czyli oznacza zmiennoą string\n",
    "y = 123\n",
    "z = 1.23\n",
    "a = complex(2,34) # inny sposób na deklaracje liczby zespolonej\n",
    "x, y, z, a"
   ]
  },
  {
   "cell_type": "code",
   "execution_count": 4,
   "id": "b5622bf8-0165-4edc-937d-e6d17fc25a44",
   "metadata": {},
   "outputs": [
    {
     "data": {
      "text/plain": [
       "('war1', 'war2', 'war3')"
      ]
     },
     "execution_count": 4,
     "metadata": {},
     "output_type": "execute_result"
    }
   ],
   "source": [
    "# Przypisywanie wielu zmiennym, wielu wartości.\n",
    "x, y, z = \"war1\", \"war2\", \"war3\"\n",
    "x, y, z"
   ]
  },
  {
   "cell_type": "code",
   "execution_count": 5,
   "id": "a7abdc24-e154-47b7-81ad-36b168f9d551",
   "metadata": {},
   "outputs": [
    {
     "data": {
      "text/plain": [
       "('wartość', 'wartość', 'wartość')"
      ]
     },
     "execution_count": 5,
     "metadata": {},
     "output_type": "execute_result"
    }
   ],
   "source": [
    "# Przypisywanie wielu zmiennym, jednej wartości.\n",
    "x = y = z = \"wartość\"\n",
    "x, y, z"
   ]
  },
  {
   "cell_type": "code",
   "execution_count": 6,
   "id": "0e47c77b-a1cb-4178-b515-7484d83ef918",
   "metadata": {},
   "outputs": [
    {
     "data": {
      "text/plain": [
       "(['war1', 'war2', 'war3'], 'war1', 'war2', 'war3')"
      ]
     },
     "execution_count": 6,
     "metadata": {},
     "output_type": "execute_result"
    }
   ],
   "source": [
    "# Szybkie przepisanie wartości z listy.\n",
    "lista = ['war1', 'war2', 'war3']\n",
    "x, y, z = lista\n",
    "lista, x, y, z"
   ]
  },
  {
   "cell_type": "code",
   "execution_count": 7,
   "id": "47aff808-4a7c-40f1-bc6f-2c19e76a9614",
   "metadata": {},
   "outputs": [
    {
     "name": "stdout",
     "output_type": "stream",
     "text": [
      "zmienna lokalna\n",
      "zmienna globalna\n"
     ]
    }
   ],
   "source": [
    "# Zasięg zmiennej.\n",
    "x = 'zmienna globalna'\n",
    "\n",
    "def myFunc():\n",
    "    x = 'zmienna lokalna'\n",
    "    print(x)\n",
    "\n",
    "myFunc()\n",
    "print(x)"
   ]
  },
  {
   "cell_type": "markdown",
   "id": "7de097f7-bb7b-4a2d-b8a8-e8ad6a28c5bf",
   "metadata": {
    "jp-MarkdownHeadingCollapsed": true
   },
   "source": [
    "## 03. Typy danych."
   ]
  },
  {
   "cell_type": "code",
   "execution_count": 8,
   "id": "d2fa0eb3-b64b-403b-93e2-7d0303eb626b",
   "metadata": {},
   "outputs": [],
   "source": [
    "# Typy wbudowane.\n",
    "\n",
    "# Text Type:\t      str\n",
    "# Numeric Types:\t  int, float, complex\n",
    "# Sequence Types:\t  list, tuple, range\n",
    "# Mapping Type:\t      dict\n",
    "# Set Types:\t      set, frozenset\n",
    "# Boolean Type:\t      bool\n",
    "# Binary Types:\t      bytes, bytearray, memoryview\n",
    "# None Type:\t      None"
   ]
  },
  {
   "cell_type": "code",
   "execution_count": 9,
   "id": "ec9f85c1-82e0-4c80-8d3d-be117f6c8fed",
   "metadata": {},
   "outputs": [
    {
     "data": {
      "text/plain": [
       "(int, float, str, complex)"
      ]
     },
     "execution_count": 9,
     "metadata": {},
     "output_type": "execute_result"
    }
   ],
   "source": [
    "# Sprawdzanie typu zmiennej.\n",
    "type(123), type(1.23), type('str'), type(1 + 5j)"
   ]
  },
  {
   "cell_type": "code",
   "execution_count": 10,
   "id": "aac8a8b3-38bf-48b6-9c64-e330cf906339",
   "metadata": {},
   "outputs": [
    {
     "data": {
      "text/plain": [
       "(str, int, float, complex, complex)"
      ]
     },
     "execution_count": 10,
     "metadata": {},
     "output_type": "execute_result"
    }
   ],
   "source": [
    "x = 'text'\n",
    "y = 123\n",
    "z = 1.23\n",
    "a = complex(1, 4)\n",
    "b = 45 + 54j\n",
    "type(x), type(y), type(z), type(a), type(b)"
   ]
  },
  {
   "cell_type": "code",
   "execution_count": 11,
   "id": "bf1041e1-43d2-47c6-9e3f-584f8c410c2c",
   "metadata": {},
   "outputs": [
    {
     "data": {
      "text/plain": [
       "(['el1', 'el2', 'el3'], ('el1', 'el2', 'el3'), {'name': 'ele', 'nr': 6})"
      ]
     },
     "execution_count": 11,
     "metadata": {},
     "output_type": "execute_result"
    }
   ],
   "source": [
    "x = list((\"el1\", \"el2\", \"el3\"))\n",
    "y = tuple((\"el1\", \"el2\", \"el3\"))\n",
    "z = dict(name=\"ele\", nr=6)\n",
    "x, y, z"
   ]
  },
  {
   "cell_type": "code",
   "execution_count": 12,
   "id": "7ebf3202-247d-4b5a-9431-ce7517a8a261",
   "metadata": {},
   "outputs": [
    {
     "name": "stdout",
     "output_type": "stream",
     "text": [
      "Hello World \n",
      " 20 \n",
      " 20.5 \n",
      " 1j \n",
      " ['apple', 'banana', 'cherry'] \n",
      " ('apple', 'banana', 'cherry') \n",
      " range(0, 6) \n",
      " {'name': 'John', 'age': 36} \n",
      " {'banana', 'cherry', 'apple'} \n",
      " frozenset({'banana', 'cherry', 'apple'}) \n",
      " True \n",
      " b'\\x00\\x00\\x00\\x00\\x00' \n",
      " bytearray(b'\\x00\\x00\\x00\\x00\\x00') \n",
      " <memory at 0x0000014362B619C0>\n"
     ]
    }
   ],
   "source": [
    "# Wymuszenie ustawienia odpowiedniego typu.\n",
    "a = str(\"Hello World\")\t\n",
    "b = int(20)\t\n",
    "c = float(20.5)\t\t\n",
    "d = complex(1j)\t\t\n",
    "e = list((\"apple\", \"banana\", \"cherry\"))\t\t\n",
    "f = tuple((\"apple\", \"banana\", \"cherry\"))\t\n",
    "g = range(6)\t\n",
    "h = dict(name=\"John\", age=36)\t\n",
    "i = set((\"apple\", \"banana\", \"cherry\"))\t\n",
    "j = frozenset((\"apple\", \"banana\", \"cherry\"))\t\n",
    "k = bool(5)\t\n",
    "l = bytes(5)\t\n",
    "m = bytearray(5)\n",
    "n = memoryview(bytes(5))\n",
    "print(a, '\\n', b, '\\n',  c, '\\n',  d, '\\n',  e, '\\n',  f, '\\n',  g, '\\n',  h, '\\n',  i, '\\n',  j, '\\n',  k, '\\n',  l, '\\n',  m, '\\n',  n)"
   ]
  },
  {
   "cell_type": "code",
   "execution_count": 13,
   "id": "cea8e0b9-b561-4897-8678-a0c2d2f52daa",
   "metadata": {},
   "outputs": [
    {
     "data": {
      "text/plain": [
       "(1, 2.8, 1j)"
      ]
     },
     "execution_count": 13,
     "metadata": {},
     "output_type": "execute_result"
    }
   ],
   "source": [
    "# Typy numeryczne (int, float, complex).\n",
    "x = 1    # int\n",
    "y = 2.8  # float\n",
    "z = 1j   # complex\n",
    "x, y, z"
   ]
  },
  {
   "cell_type": "code",
   "execution_count": 14,
   "id": "efb85194-9a55-451a-a05b-b21364910e90",
   "metadata": {},
   "outputs": [
    {
     "data": {
      "text/plain": [
       "(1, 34567890, -45354534)"
      ]
     },
     "execution_count": 14,
     "metadata": {},
     "output_type": "execute_result"
    }
   ],
   "source": [
    "# Int.\n",
    "x = 1\n",
    "y = 34567890\n",
    "z = -45354534\n",
    "x, y, z"
   ]
  },
  {
   "cell_type": "code",
   "execution_count": 15,
   "id": "7e21c786-1e7c-4f20-8043-4388275e5e29",
   "metadata": {},
   "outputs": [
    {
     "data": {
      "text/plain": [
       "(1.01, -45.0234, -21000000000.0)"
      ]
     },
     "execution_count": 15,
     "metadata": {},
     "output_type": "execute_result"
    }
   ],
   "source": [
    "# Float.\n",
    "x = 1.01\n",
    "y = -45.0234\n",
    "z = -2.1e10\n",
    "x, y, z"
   ]
  },
  {
   "cell_type": "code",
   "execution_count": 16,
   "id": "eca5390d-586a-4bc3-9c50-10d6d2d54c68",
   "metadata": {},
   "outputs": [
    {
     "name": "stdout",
     "output_type": "stream",
     "text": [
      "3\n",
      "3.1\n"
     ]
    }
   ],
   "source": [
    "# zaokrąglanie liczb\n",
    "print(round(3.123)) # zaokrągleni, bez przecinków\n",
    "print(round(3.123, 1)) # zaokrąglenie z wyznaczeniem ile miejsc po przecinku"
   ]
  },
  {
   "cell_type": "code",
   "execution_count": 17,
   "id": "7337a4c8-a260-4649-97e6-dcbddafa3bde",
   "metadata": {},
   "outputs": [
    {
     "data": {
      "text/plain": [
       "((3+5j), 5j, (-0-5j))"
      ]
     },
     "execution_count": 17,
     "metadata": {},
     "output_type": "execute_result"
    }
   ],
   "source": [
    "# Complex, liczba zespolona.\n",
    "x = 3+5j\n",
    "# lub\n",
    "x = complex(3, 5)\n",
    "y = 5j\n",
    "z = -5j\n",
    "x, y, z"
   ]
  },
  {
   "cell_type": "code",
   "execution_count": 18,
   "id": "9c2b6e04-6700-497d-bf24-48b03c0d6a19",
   "metadata": {},
   "outputs": [
    {
     "data": {
      "text/plain": [
       "(3.0, 5.0, 0.0, 5.0)"
      ]
     },
     "execution_count": 18,
     "metadata": {},
     "output_type": "execute_result"
    }
   ],
   "source": [
    "# Pobieranie i wyświetlanie części liczb zespolonych.\n",
    "x.real, x.imag, y.real, y.imag"
   ]
  },
  {
   "cell_type": "code",
   "execution_count": 19,
   "id": "ca207aab-e9fe-4be5-887d-2dd85c8702ba",
   "metadata": {},
   "outputs": [
    {
     "name": "stdout",
     "output_type": "stream",
     "text": [
      "sys.int_info(bits_per_digit=30, sizeof_digit=4, default_max_str_digits=4300, str_digits_check_threshold=640)\n",
      "sys.float_info(max=1.7976931348623157e+308, max_exp=1024, max_10_exp=308, min=2.2250738585072014e-308, min_exp=-1021, min_10_exp=-307, dig=15, mant_dig=53, epsilon=2.220446049250313e-16, radix=2, rounds=1)\n"
     ]
    }
   ],
   "source": [
    "import sys\n",
    "print(sys.int_info)\n",
    "print(sys.float_info)"
   ]
  },
  {
   "cell_type": "code",
   "execution_count": 20,
   "id": "4b4d4393-1094-445d-817b-f387812c699a",
   "metadata": {},
   "outputs": [
    {
     "name": "stdout",
     "output_type": "stream",
     "text": [
      "0b101\n",
      "0xea\n",
      "43981\n",
      "27\n",
      "27\n"
     ]
    }
   ],
   "source": [
    "# Reprezentacja danych\n",
    "print(bin(5)) # reprezentacja binarna\n",
    "print(hex(234)) # repezentacja hex\n",
    "print(int(0xabcd)) # reprezenntacja dziesiętna\n",
    "print(int(0b011011))\n",
    "print(int('0b011011', 2))"
   ]
  },
  {
   "cell_type": "markdown",
   "id": "8776e8a9-184e-48ef-83f9-762b38fbb2f3",
   "metadata": {
    "jp-MarkdownHeadingCollapsed": true
   },
   "source": [
    "## 04. Random, liczby losowe."
   ]
  },
  {
   "cell_type": "code",
   "execution_count": 21,
   "id": "fede3138-c9af-41bc-b444-45f4e76d15c2",
   "metadata": {},
   "outputs": [
    {
     "data": {
      "text/plain": [
       "-52"
      ]
     },
     "execution_count": 21,
     "metadata": {},
     "output_type": "execute_result"
    }
   ],
   "source": [
    "import random\n",
    "# random.seed(42) # inicjalizacja generatora liczb pseudolosowych od początkowego stanu\n",
    "random.randrange(start=-100, stop=100, step=2) # od -100 do 99, losuje co 2 czyli tylko przyste"
   ]
  },
  {
   "cell_type": "code",
   "execution_count": 22,
   "id": "19809fec-d7c1-481f-907a-b1437d2cef02",
   "metadata": {},
   "outputs": [
    {
     "data": {
      "text/plain": [
       "-2"
      ]
     },
     "execution_count": 22,
     "metadata": {},
     "output_type": "execute_result"
    }
   ],
   "source": [
    "random.randint(-10, 11) # od -10 do 10"
   ]
  },
  {
   "cell_type": "code",
   "execution_count": 23,
   "id": "b490ad99-a6e6-411b-8add-f5f06efd9cc8",
   "metadata": {},
   "outputs": [
    {
     "data": {
      "text/plain": [
       "0.15572859520698978"
      ]
     },
     "execution_count": 23,
     "metadata": {},
     "output_type": "execute_result"
    }
   ],
   "source": [
    "random.random() # od 0 do 1"
   ]
  },
  {
   "cell_type": "code",
   "execution_count": 24,
   "id": "a32a97df-53fd-4a46-aefb-68049c1f12fd",
   "metadata": {},
   "outputs": [
    {
     "data": {
      "text/plain": [
       "[95, 155, 90, 40, 13, 110, 97, 163, 114, 218]"
      ]
     },
     "execution_count": 24,
     "metadata": {},
     "output_type": "execute_result"
    }
   ],
   "source": [
    "lista = list(random.randbytes(10)) # generuje określoną liczbę bajtów\n",
    "lista"
   ]
  },
  {
   "cell_type": "markdown",
   "id": "a835cb65-8902-40c2-9e2b-daaaf8fab4d5",
   "metadata": {
    "jp-MarkdownHeadingCollapsed": true
   },
   "source": [
    "## 05. Input i Print."
   ]
  },
  {
   "cell_type": "code",
   "execution_count": 25,
   "id": "23736f24-8ecc-413a-8c64-54405c0b67de",
   "metadata": {},
   "outputs": [],
   "source": [
    "# Wprowadzanie tekdtu ze standardowego wejścia (np. klawiatura).\n",
    "# strIn = input('wprowadź tekst i zatwierdź enterem:') \n",
    "# strIn"
   ]
  },
  {
   "cell_type": "code",
   "execution_count": 26,
   "id": "09deb72d-46bd-479a-bd4f-20c23f5415d2",
   "metadata": {},
   "outputs": [
    {
     "name": "stdout",
     "output_type": "stream",
     "text": [
      "test tekst\n"
     ]
    }
   ],
   "source": [
    "# Wysyłanie tekstu na standardowe wyjście.\n",
    "print('test tekst')"
   ]
  },
  {
   "cell_type": "code",
   "execution_count": 27,
   "id": "32aaae63-5b68-45a1-abde-a3e50968e376",
   "metadata": {},
   "outputs": [
    {
     "name": "stdout",
     "output_type": "stream",
     "text": [
      "(3+5j) 5j (-0-5j)\n"
     ]
    }
   ],
   "source": [
    "print(x, y, z)"
   ]
  },
  {
   "cell_type": "code",
   "execution_count": 28,
   "id": "5ce7dd7e-62f4-42d1-8723-7ea1316a1fbf",
   "metadata": {},
   "outputs": [
    {
     "name": "stdout",
     "output_type": "stream",
     "text": [
      "opis (3+5j), 5j, (-0-5j)\n"
     ]
    }
   ],
   "source": [
    "# Sformatowany tekst ze zmniennymi.\n",
    "print(f'opis {x}, {y}, {z}')"
   ]
  },
  {
   "cell_type": "code",
   "execution_count": 29,
   "id": "a81d0034-1da2-448e-a34d-10b480bd05e3",
   "metadata": {},
   "outputs": [
    {
     "name": "stdout",
     "output_type": "stream",
     "text": [
      "napis = string : int = 1234\n"
     ]
    }
   ],
   "source": [
    "# Sformatowany print podobny do printf z C.\n",
    "sVal = 'string'\n",
    "iVal = 1234\n",
    "print(\"napis = %s : int = %i\" % (sVal, iVal))"
   ]
  },
  {
   "cell_type": "markdown",
   "id": "acc3555e-d6f4-4698-99dd-80b159739dff",
   "metadata": {
    "jp-MarkdownHeadingCollapsed": true
   },
   "source": [
    "## 06. Rzutowanie (casting)."
   ]
  },
  {
   "cell_type": "code",
   "execution_count": 30,
   "id": "038c657c-76b3-4d3a-acec-e176c222b5f8",
   "metadata": {},
   "outputs": [
    {
     "data": {
      "text/plain": [
       "('3', 34, 2.0, str, int, float)"
      ]
     },
     "execution_count": 30,
     "metadata": {},
     "output_type": "execute_result"
    }
   ],
   "source": [
    "x = str(3)\n",
    "y = int(34)\n",
    "z = float(2)\n",
    "x, y, z, type(x), type(y), type(z)"
   ]
  },
  {
   "cell_type": "code",
   "execution_count": 31,
   "id": "8c19bb2a-08aa-4f5c-9ed5-15d174aa813d",
   "metadata": {},
   "outputs": [
    {
     "data": {
      "text/plain": [
       "(1, 2.8, 1j, 1.0, 2, (1+0j))"
      ]
     },
     "execution_count": 31,
     "metadata": {},
     "output_type": "execute_result"
    }
   ],
   "source": [
    "x = 1    # int\n",
    "y = 2.8  # float\n",
    "z = 1j   # complex\n",
    "a = float(x) # z int na float\n",
    "b = int(y) # z float na int\n",
    "c = complex(x) # z int na complex\n",
    "x, y, z, a, b, c"
   ]
  },
  {
   "cell_type": "code",
   "execution_count": 32,
   "id": "8479c876-f7b5-49d3-94bb-8d2f6fb00291",
   "metadata": {},
   "outputs": [
    {
     "data": {
      "text/plain": [
       "(1, 2, 3)"
      ]
     },
     "execution_count": 32,
     "metadata": {},
     "output_type": "execute_result"
    }
   ],
   "source": [
    "# Na int.\n",
    "x = int(1)  \n",
    "y = int(2.8) \n",
    "z = int(\"3\") \n",
    "x, y, z"
   ]
  },
  {
   "cell_type": "code",
   "execution_count": 33,
   "id": "2aa19d19-ceca-4cdf-b1fe-5638f8f41c18",
   "metadata": {},
   "outputs": [
    {
     "data": {
      "text/plain": [
       "(1.0, 2.8, 3.0, 4.2)"
      ]
     },
     "execution_count": 33,
     "metadata": {},
     "output_type": "execute_result"
    }
   ],
   "source": [
    "# Na float.\n",
    "x = float(1)    \n",
    "y = float(2.8)  \n",
    "z = float(\"3\")  \n",
    "w = float(\"4.2\")\n",
    "x, y, z, w"
   ]
  },
  {
   "cell_type": "code",
   "execution_count": 34,
   "id": "dcddfc91-0996-4447-b7c7-746cd7563f9c",
   "metadata": {},
   "outputs": [
    {
     "data": {
      "text/plain": [
       "('s1', '2', '3.0')"
      ]
     },
     "execution_count": 34,
     "metadata": {},
     "output_type": "execute_result"
    }
   ],
   "source": [
    "# Na String.\n",
    "x = str(\"s1\") \n",
    "y = str(2)    \n",
    "z = str(3.0)  \n",
    "x, y, z"
   ]
  },
  {
   "cell_type": "markdown",
   "id": "f21c285f-238b-4adc-817a-e8225498d41a",
   "metadata": {
    "jp-MarkdownHeadingCollapsed": true
   },
   "source": [
    "## 07. String."
   ]
  },
  {
   "cell_type": "code",
   "execution_count": 35,
   "id": "36a0d5e7-a791-4aec-805c-ec3c8fe3cb7b",
   "metadata": {},
   "outputs": [
    {
     "data": {
      "text/plain": [
       "('ąćźćł', 'ąćźćł')"
      ]
     },
     "execution_count": 35,
     "metadata": {},
     "output_type": "execute_result"
    }
   ],
   "source": [
    "x = \"ąćźćł\"\n",
    "y = 'ąćźćł'  # obojętnie czy \" \" , ' '.\n",
    "x, y"
   ]
  },
  {
   "cell_type": "code",
   "execution_count": 36,
   "id": "8fb00feb-a167-4b6e-9a20-042884c3fe10",
   "metadata": {},
   "outputs": [
    {
     "name": "stdout",
     "output_type": "stream",
     "text": [
      "Napis \n",
      "który\n",
      "jest, \n",
      "rozdzielony\n",
      "na wiele\n",
      "linii\n"
     ]
    }
   ],
   "source": [
    "# String wieloliniowy.\n",
    "napis = \"\"\"Napis \n",
    "który\n",
    "jest, \n",
    "rozdzielony\n",
    "na wiele\n",
    "linii\"\"\"\n",
    "print(napis)"
   ]
  },
  {
   "cell_type": "code",
   "execution_count": 37,
   "id": "0f7c1f48-0bf9-4204-a4f0-94d3223fb811",
   "metadata": {},
   "outputs": [
    {
     "data": {
      "text/plain": [
       "' jakiś String - napis czy Coś... '"
      ]
     },
     "execution_count": 37,
     "metadata": {},
     "output_type": "execute_result"
    }
   ],
   "source": [
    "napis = \" jakiś String - napis czy Coś... \"\n",
    "napis"
   ]
  },
  {
   "cell_type": "code",
   "execution_count": 38,
   "id": "47885d1b-d082-4d16-9198-1c72d093a9c8",
   "metadata": {},
   "outputs": [
    {
     "data": {
      "text/plain": [
       "'j'"
      ]
     },
     "execution_count": 38,
     "metadata": {},
     "output_type": "execute_result"
    }
   ],
   "source": [
    "# String jako tablica, pobieranie pojedynczego znaku.\n",
    "napis[1]"
   ]
  },
  {
   "cell_type": "code",
   "execution_count": 39,
   "id": "da1a05b6-5b73-47a4-b76c-1c34a0ed7584",
   "metadata": {},
   "outputs": [
    {
     "data": {
      "text/plain": [
       "33"
      ]
     },
     "execution_count": 39,
     "metadata": {},
     "output_type": "execute_result"
    }
   ],
   "source": [
    "# Długość.\n",
    "len(napis)"
   ]
  },
  {
   "cell_type": "code",
   "execution_count": 40,
   "id": "d03cd932-7e5e-4e80-9f54-28a9ff5f9c5a",
   "metadata": {},
   "outputs": [
    {
     "data": {
      "text/plain": [
       "' jakiś String - napis czy Coś...  jakiś String - napis czy Coś...  jakiś String - napis czy Coś... '"
      ]
     },
     "execution_count": 40,
     "metadata": {},
     "output_type": "execute_result"
    }
   ],
   "source": [
    "# Powielenie.\n",
    "napis * 3"
   ]
  },
  {
   "cell_type": "code",
   "execution_count": 41,
   "id": "dc6d838b-0c70-4770-b645-f964fb72a7eb",
   "metadata": {},
   "outputs": [
    {
     "data": {
      "text/plain": [
       "'akiś Str'"
      ]
     },
     "execution_count": 41,
     "metadata": {},
     "output_type": "execute_result"
    }
   ],
   "source": [
    "# Wycinek od do.\n",
    "napis[2:10]"
   ]
  },
  {
   "cell_type": "code",
   "execution_count": 42,
   "id": "4e305c68-f8ba-48f5-897a-ad4934b262bc",
   "metadata": {},
   "outputs": [
    {
     "data": {
      "text/plain": [
       "'akiś String - napis czy Coś... '"
      ]
     },
     "execution_count": 42,
     "metadata": {},
     "output_type": "execute_result"
    }
   ],
   "source": [
    "# Wycinek od do końca.\n",
    "napis[2:]"
   ]
  },
  {
   "cell_type": "code",
   "execution_count": 43,
   "id": "474fca0a-a362-4c78-b13e-00d0164dfda0",
   "metadata": {},
   "outputs": [
    {
     "data": {
      "text/plain": [
       "' jakiś Str'"
      ]
     },
     "execution_count": 43,
     "metadata": {},
     "output_type": "execute_result"
    }
   ],
   "source": [
    "# Wycinek od początku do.\n",
    "napis[:10]"
   ]
  },
  {
   "cell_type": "code",
   "execution_count": 44,
   "id": "2c4d8a59-6eb2-4158-a74c-5560e80bfa85",
   "metadata": {},
   "outputs": [
    {
     "data": {
      "text/plain": [
       "'ś... '"
      ]
     },
     "execution_count": 44,
     "metadata": {},
     "output_type": "execute_result"
    }
   ],
   "source": [
    "# Wycinek ostatnich 5.\n",
    "napis[-5:]"
   ]
  },
  {
   "cell_type": "code",
   "execution_count": 45,
   "id": "e7fe02b0-589c-408d-ac56-8260eac1ea0f",
   "metadata": {},
   "outputs": [
    {
     "name": "stdout",
     "output_type": "stream",
     "text": [
      "012345678\n",
      "02468\n",
      "01234\n",
      "345678\n",
      "012345678\n",
      "012345678\n",
      "036\n",
      "7\n",
      "876543210\n",
      "86420\n"
     ]
    }
   ],
   "source": [
    "string = '012345678'\n",
    "print(string[0:9]) # (012345678)\n",
    "print(string[0:9:2])  # wyświetl co drugi (02468)\n",
    "print(string[:5]) # od początku do 5 (01234)\n",
    "print(string[3:]) # (345678)\n",
    "print(string[:]) # (012345678)\n",
    "print(string[::]) # (012345678)\n",
    "print(string[::3]) # co trzy (036)\n",
    "print(string[-2]) # druga od końca (7)\n",
    "print(string[::-1]) # revers co jeden (876543210)\n",
    "print(string[::-2])  # revers co dwie (86420)\n",
    "#print(string[start:stop:step]) \n",
    "#string[1] = 's' -> error nie wolno, trzeba nadpisać całego stringa"
   ]
  },
  {
   "cell_type": "code",
   "execution_count": 46,
   "id": "4fa7beb6-9b31-482c-868d-67f16bbaf0d4",
   "metadata": {},
   "outputs": [
    {
     "name": "stdout",
     "output_type": "stream",
     "text": [
      "True\n"
     ]
    }
   ],
   "source": [
    "# Sprawdź czy jest.\n",
    "print(\"napis\" in napis) "
   ]
  },
  {
   "cell_type": "code",
   "execution_count": 47,
   "id": "ed56b340-3659-4542-8027-a55eb48d6f7b",
   "metadata": {},
   "outputs": [
    {
     "name": "stdout",
     "output_type": "stream",
     "text": [
      "True\n"
     ]
    }
   ],
   "source": [
    "# Sprawdź czy niema.\n",
    "print(\"jeden\" not in napis)"
   ]
  },
  {
   "cell_type": "code",
   "execution_count": 48,
   "id": "67656512-a055-4c46-b77a-36165eae1355",
   "metadata": {},
   "outputs": [
    {
     "data": {
      "text/plain": [
       "'war1 war2 :war3'"
      ]
     },
     "execution_count": 48,
     "metadata": {},
     "output_type": "execute_result"
    }
   ],
   "source": [
    "# łączenie, konkatenacja ciągów.\n",
    "x, y, z = \"war1 \", \"war2 \", \"war3\"\n",
    "razem = x + y + ':' + z\n",
    "razem"
   ]
  },
  {
   "cell_type": "code",
   "execution_count": 49,
   "id": "5a506345-63b6-4e12-a71e-3d68845b7ef5",
   "metadata": {},
   "outputs": [
    {
     "name": "stdout",
     "output_type": "stream",
     "text": [
      "a   97\n",
      "s   115\n",
      "d   100\n"
     ]
    }
   ],
   "source": [
    "# Wylistowanie znaków\n",
    "for y in 'asd':  # ze stringa\n",
    "    print(y, \" \", ord(y))  # odr - numer utf8"
   ]
  },
  {
   "cell_type": "code",
   "execution_count": 50,
   "id": "2eeba947-4713-4372-a618-e1f6a8685815",
   "metadata": {},
   "outputs": [
    {
     "name": "stdout",
     "output_type": "stream",
     "text": [
      "1   49\n",
      "2   50\n",
      "a   97\n",
      "b   98\n"
     ]
    }
   ],
   "source": [
    "# Wylistowanie znaków ze zmiennej\n",
    "x = '12ab'    \n",
    "for y in x:  # ze stringa w zmiennej\n",
    "    print(y, \" \", ord(y))  # odr - numer utf8"
   ]
  },
  {
   "cell_type": "code",
   "execution_count": 51,
   "id": "dade6e7f-716e-4387-abc3-6cb9167a2ba5",
   "metadata": {},
   "outputs": [
    {
     "name": "stdout",
     "output_type": "stream",
     "text": [
      "h D\n",
      "hD\n"
     ]
    }
   ],
   "source": [
    "# Z numeru UTF8 na znak.\n",
    "s1 = chr(104)\n",
    "s2 = chr(68)\n",
    "print(s1, s2)    # wyświetlanie jako znaków osobnych\n",
    "print(s1 + s2)   # łączenie w stringa"
   ]
  },
  {
   "cell_type": "code",
   "execution_count": 52,
   "id": "f9d9a0f9-dc07-4ac9-8efb-c7d6017434d5",
   "metadata": {},
   "outputs": [
    {
     "name": "stdout",
     "output_type": "stream",
     "text": [
      "97 36 281\n"
     ]
    }
   ],
   "source": [
    "# Ze znaku na numer UTF8.\n",
    "z1 = ord(\"a\")\n",
    "z2 = ord(\"$\")\n",
    "z3 = ord(\"ę\")\n",
    "print(z1, z2, z3)"
   ]
  },
  {
   "cell_type": "code",
   "execution_count": 53,
   "id": "4d13fc43-3dce-4fb0-8524-0329cce42c40",
   "metadata": {},
   "outputs": [
    {
     "name": "stdout",
     "output_type": "stream",
     "text": [
      "1234\n",
      "5678\n",
      "1234\n",
      "5678\n",
      "2222\n",
      "3333\n",
      "asd\tasd\n"
     ]
    }
   ],
   "source": [
    "# specjalne znaki\n",
    "print(\"1234\\r\\n5678\")\n",
    "print(f'1234\\r\\n5678')\n",
    "print(f'2222{chr(13)+chr(10)}3333')\n",
    "print(\"asd\\tasd\")  # tab"
   ]
  },
  {
   "cell_type": "code",
   "execution_count": 54,
   "id": "4b1b5bfe-b3d1-4aed-89f5-853237447a2d",
   "metadata": {},
   "outputs": [],
   "source": [
    "# Porównywanie stringów\n",
    "napis = 'abcd' \n",
    "if 'a' in 'abc' :   # sprawdza czy 'a' zawiera się w 'abc' w tym przypadku to True\n",
    "    pass\n",
    "if napis == 'abcd' : # czy równe \n",
    "    pass\n",
    "if napis < 'abcd' : # czy napis jest przed 'abcd'\n",
    "    pass\n",
    "if napis == 'abcd' : # czy napis jest za 'abcd'\n",
    "    pass"
   ]
  },
  {
   "cell_type": "code",
   "execution_count": 55,
   "id": "a859602b-3b49-4ef1-a179-2d17a176ff68",
   "metadata": {},
   "outputs": [
    {
     "name": "stdout",
     "output_type": "stream",
     "text": [
      "text 15 text 1.230000 text -1.230000\n",
      "text +15 text +1.230000 text -1.230000\n",
      "text 015 text 1.230000\n",
      "text 0015 text   15\n",
      "text 1.230000\n",
      "y=2, x=1\n",
      "tekst 123\n",
      "tekst 3 napis 567 coś 49.95 koniec\n"
     ]
    }
   ],
   "source": [
    "# Formatowanie stringa.\n",
    "'''\n",
    "'d' - Signed integer decimal.\n",
    "'i' - Signed integer decimal.\n",
    "'o' - Signed octal value.\n",
    "'u' - Obsolete type - it is identical to 'd'.\n",
    "'x' - Signed hexadecimal (lowercase).\n",
    "'X' - Signed hexadecimal (uppercase).\n",
    "'e' - Floating point exponential format (lowercase).\n",
    "'E' - Floating point exponential format (uppercase).\n",
    "'f' - Floating point decimal format.\n",
    "'F' - Floating point decimal format.\n",
    "'g' - Floating point format. Uses lowercase exponential format if exponent is less than -4 or not less than precision, decimal format otherwise.\n",
    "'G' - Floating point format. Uses uppercase exponential format if exponent is less than -4 or not less than precision, decimal format otherwise.\n",
    "'c' - Single character (accepts integer or single character string).\n",
    "'r' - String (converts any Python object using repr()).\n",
    "'s' - String (converts any Python object using str()).\n",
    "'a' - String (converts any Python object using ascii()).\n",
    "'%' - No argument is converted, results in a '%' character in the result.\n",
    "'''\n",
    "\n",
    "zm1 = 15\n",
    "zm2 = 1.23\n",
    "zm3 = -1.23\n",
    "\n",
    "print('text %d text %f text %+f' % (zm1, zm2, zm3)) # formatowanie\n",
    "print('text %+d text %+f text %+f' % (zm1, zm2, zm3)) # formatowanie ze znakiem plus normalnie nie wyświetlanym\n",
    "napis = 'text %03d text %f' % (zm1, zm2)\n",
    "print(napis)\n",
    "print('text %04d text % 4d' % (zm1, zm1)) # formatowanie, zero przed liczbą lub spacja przed liczbą\n",
    "print('text %f' % (zm2)) # formatowanie, zero przed liczbą lub spacja przed liczbą\n",
    "\n",
    "x = 1\n",
    "y = 2\n",
    "print('y={}, x={}'.format(y,x))\n",
    "\n",
    "x = 123\n",
    "txt = \"tekst {}\"\n",
    "print(txt.format(x))\n",
    "\n",
    "x = 3\n",
    "y = 567\n",
    "z = 49.95\n",
    "txt = \"tekst {} napis {} coś {} koniec\"\n",
    "print(txt.format(x, y, z))"
   ]
  },
  {
   "cell_type": "markdown",
   "id": "581593a3-aa7c-466a-9bf7-66d11ea4ab25",
   "metadata": {
    "jp-MarkdownHeadingCollapsed": true
   },
   "source": [
    "## 08. Metody klasy String."
   ]
  },
  {
   "cell_type": "code",
   "execution_count": 56,
   "id": "89c677f6-1380-413d-a4c1-3895b17a8e4f",
   "metadata": {},
   "outputs": [],
   "source": [
    "# Dąstępne metody\n",
    "# print(dir(napis)) # dir to lista dostępnych metod w objekcie\n",
    "# print(help(str)) # manual dla klasy"
   ]
  },
  {
   "cell_type": "code",
   "execution_count": 57,
   "id": "11cb5eb6-550e-40ef-bb1a-d82e14ff9cb3",
   "metadata": {},
   "outputs": [
    {
     "name": "stdout",
     "output_type": "stream",
     "text": [
      "Text 015 text 1.230000\n"
     ]
    }
   ],
   "source": [
    "# Konwertuje pierwszy znak na dużą literę.\n",
    "temp = napis.strip() # usunięcie biłego znaku z początku stringa\n",
    "print(temp.capitalize())\t"
   ]
  },
  {
   "cell_type": "code",
   "execution_count": 58,
   "id": "c5d5eaf4-8a27-43b9-8c16-ee6b346070bd",
   "metadata": {},
   "outputs": [
    {
     "name": "stdout",
     "output_type": "stream",
     "text": [
      "text 015 text 1.230000\n"
     ]
    }
   ],
   "source": [
    "# Konwertuje ciąg znaków na małe litery.\n",
    "print(napis.casefold())\t"
   ]
  },
  {
   "cell_type": "code",
   "execution_count": 59,
   "id": "ce32c825-9a88-480d-9fbd-244a6fa93340",
   "metadata": {},
   "outputs": [],
   "source": [
    "# Zwraca wyśrodkowany ciąg znaków.\n",
    "# center()\t"
   ]
  },
  {
   "cell_type": "code",
   "execution_count": 60,
   "id": "5b4248d0-a20d-4caa-8119-a89d30001d1e",
   "metadata": {},
   "outputs": [],
   "source": [
    "# Zwraca liczbę wystąpień określonej wartości w ciągu znaków.\n",
    "# count()\t"
   ]
  },
  {
   "cell_type": "code",
   "execution_count": 61,
   "id": "688475d5-4a6e-4645-a14e-75f89207a8c8",
   "metadata": {},
   "outputs": [],
   "source": [
    "# Zwraca zakodowaną wersję łańcucha znaków.\n",
    "# encode()\t"
   ]
  },
  {
   "cell_type": "code",
   "execution_count": 62,
   "id": "ced3855a-c58d-4f3d-9eae-f0c7480a93c7",
   "metadata": {},
   "outputs": [
    {
     "name": "stdout",
     "output_type": "stream",
     "text": [
      "False\n"
     ]
    }
   ],
   "source": [
    "# Zwraca wartość true, jeśli ciąg znaków kończy się podaną wartością.\n",
    "print(napis.endswith('.'))  # czy kończy się na"
   ]
  },
  {
   "cell_type": "code",
   "execution_count": 63,
   "id": "2e7855f6-c9a1-41e0-8432-aef0ad6d8b8d",
   "metadata": {},
   "outputs": [],
   "source": [
    "# Ustawia rozmiar tabulatora łańcucha znaków.\n",
    "# expandtabs()\t"
   ]
  },
  {
   "cell_type": "code",
   "execution_count": 64,
   "id": "4b38549f-3e5d-45ef-ba32-6984b989da5d",
   "metadata": {},
   "outputs": [
    {
     "name": "stdout",
     "output_type": "stream",
     "text": [
      "4\n",
      "8\n"
     ]
    }
   ],
   "source": [
    "# Przeszukuje ciąg znaków w poszukiwaniu określonej wartości i zwraca pozycję, w której została ona znaleziona.\n",
    "print(napis.find(' '))   # -1 jak nie znajdzie\n",
    "print(napis.find(' ', 6, 10))  # znajdź w wycinku, -1 jak nie znajdzie"
   ]
  },
  {
   "cell_type": "code",
   "execution_count": 65,
   "id": "471fc17f-fb95-432a-ae66-b46bc29f0d8e",
   "metadata": {},
   "outputs": [],
   "source": [
    "# Formatuje określone wartości w ciągu znaków.\n",
    "# format()\t"
   ]
  },
  {
   "cell_type": "code",
   "execution_count": 66,
   "id": "e4636510-4544-4949-a0e7-3604f85ea235",
   "metadata": {},
   "outputs": [],
   "source": [
    "# Formatuje określone wartości w ciągu znaków.\n",
    "# format_map()"
   ]
  },
  {
   "cell_type": "code",
   "execution_count": 67,
   "id": "06623f0b-fdae-4bd0-82a6-89e92f52053c",
   "metadata": {},
   "outputs": [
    {
     "name": "stdout",
     "output_type": "stream",
     "text": [
      "4\n",
      "8\n"
     ]
    }
   ],
   "source": [
    "# Przeszukuje ciąg znaków w poszukiwaniu określonej wartości i zwraca pozycję, w której została ona znaleziona.\n",
    "print(napis.index(' '))  # jak nieznajdzie to error\n",
    "print(napis.index(' ', 6, 10)) # znajdź w wycinku jak nieznajdzie to error"
   ]
  },
  {
   "cell_type": "code",
   "execution_count": 68,
   "id": "d27425c9-fe44-46dd-8eca-db818f9b6072",
   "metadata": {},
   "outputs": [],
   "source": [
    "# Zwraca True, jeśli wszystkie znaki w ciągu są alfanumeryczne.    \n",
    "# isalnum()\t"
   ]
  },
  {
   "cell_type": "code",
   "execution_count": 69,
   "id": "4a7b8e7f-8187-4ee1-b148-a936a89a4b85",
   "metadata": {},
   "outputs": [],
   "source": [
    "# Zwraca True, jeśli wszystkie znaki w łańcuchu znajdują się w alfabecie.   \n",
    "# isalpha()\t"
   ]
  },
  {
   "cell_type": "code",
   "execution_count": 70,
   "id": "84ac7d4e-915e-47d2-a779-6b783608d510",
   "metadata": {},
   "outputs": [],
   "source": [
    "# Zwraca True, jeśli wszystkie znaki w łańcuchu są znakami ascii.    \n",
    "# isascii()\t"
   ]
  },
  {
   "cell_type": "code",
   "execution_count": 71,
   "id": "5c3c91af-6a51-497d-ac26-f0bd4bbe77db",
   "metadata": {},
   "outputs": [],
   "source": [
    "# Zwraca True, jeśli wszystkie znaki w ciągu są liczbami dziesiętnymi.   \n",
    "# isdecimal()\t"
   ]
  },
  {
   "cell_type": "code",
   "execution_count": 72,
   "id": "d7afd130-0546-4a06-9eee-e1cd7f22901d",
   "metadata": {},
   "outputs": [],
   "source": [
    "# Zwraca True, jeśli wszystkie znaki w ciągu są cyframi.\n",
    "# isdigit()\t"
   ]
  },
  {
   "cell_type": "code",
   "execution_count": 73,
   "id": "f4abcf96-5825-483a-8112-8859ce65d903",
   "metadata": {},
   "outputs": [],
   "source": [
    "# Zwraca True, jeśli ciąg znaków jest identyfikatorem.\n",
    "# isidentifier()\t"
   ]
  },
  {
   "cell_type": "code",
   "execution_count": 74,
   "id": "194b0b33-8714-440d-9e3a-a52c8ced8530",
   "metadata": {},
   "outputs": [],
   "source": [
    "# Zwraca True, jeśli wszystkie znaki w ciągu są małymi literami.\n",
    "# islower()\t"
   ]
  },
  {
   "cell_type": "code",
   "execution_count": 75,
   "id": "fcb6254e-924f-4efd-bb68-e5f43a512cbe",
   "metadata": {},
   "outputs": [],
   "source": [
    "# Zwraca True, jeśli wszystkie znaki w ciągu są numeryczne.    \n",
    "# isnumeric()\t"
   ]
  },
  {
   "cell_type": "code",
   "execution_count": 76,
   "id": "a2973332-f21d-4459-a5a8-4bc91ee4d159",
   "metadata": {},
   "outputs": [],
   "source": [
    "# Zwraca True, jeśli wszystkie znaki w ciągu są drukowalne.\n",
    "# isprintable()\t"
   ]
  },
  {
   "cell_type": "code",
   "execution_count": 77,
   "id": "ab90bc9c-d1c7-4ffc-8a27-013024e75e88",
   "metadata": {},
   "outputs": [],
   "source": [
    "# Zwraca True, jeśli wszystkie znaki w ciągu są białymi znakami.    \n",
    "# isspace()\t"
   ]
  },
  {
   "cell_type": "code",
   "execution_count": 78,
   "id": "41ee53de-2d6d-4855-a3d4-8584b1420b74",
   "metadata": {},
   "outputs": [],
   "source": [
    "# Zwraca True, jeśli ciąg znaków jest zgodny z regułami tytułu.    \n",
    "# istitle()\t"
   ]
  },
  {
   "cell_type": "code",
   "execution_count": 79,
   "id": "3c9da8e0-2bee-4889-bfdc-45a0e9319d83",
   "metadata": {},
   "outputs": [],
   "source": [
    "# Zwraca True, jeśli wszystkie znaki w ciągu są pisane wielkimi literami.   \n",
    "# isupper()\t"
   ]
  },
  {
   "cell_type": "code",
   "execution_count": 80,
   "id": "d90c3cea-84bb-4e99-8fd1-875469248b1d",
   "metadata": {},
   "outputs": [],
   "source": [
    "# Łączy elementy iterowalnej do końca łańcucha znaków\n",
    "# join()"
   ]
  },
  {
   "cell_type": "code",
   "execution_count": 81,
   "id": "d3ece1ce-1373-43c5-8e00-874721ffd50f",
   "metadata": {},
   "outputs": [],
   "source": [
    "# Zwraca wersję ciągu znaków wyrównaną do lewej    \n",
    "# ljust()\t"
   ]
  },
  {
   "cell_type": "code",
   "execution_count": 82,
   "id": "91247e96-403f-4a3f-b90b-1772c063994d",
   "metadata": {},
   "outputs": [
    {
     "name": "stdout",
     "output_type": "stream",
     "text": [
      "text 015 text 1.230000\n"
     ]
    }
   ],
   "source": [
    "# Konwertuje ciąg znaków na małe litery\n",
    "print(napis.lower())"
   ]
  },
  {
   "cell_type": "code",
   "execution_count": 83,
   "id": "756d5028-d8aa-42f9-a6f8-84824c2d6f62",
   "metadata": {},
   "outputs": [],
   "source": [
    "# Zwraca przyciętą z lewej strony wersję ciągu znaków.    \n",
    "# lstrip()\t"
   ]
  },
  {
   "cell_type": "code",
   "execution_count": 84,
   "id": "d04a6a8d-5dda-48be-b871-41d8f58c1438",
   "metadata": {},
   "outputs": [],
   "source": [
    "# Zwraca tabelę tłumaczeń do wykorzystania w tłumaczeniach.\n",
    "# maketrans()\t"
   ]
  },
  {
   "cell_type": "code",
   "execution_count": 85,
   "id": "256d2816-0829-4b28-999a-94784ee9c76c",
   "metadata": {},
   "outputs": [],
   "source": [
    "# Zwraca krotkę (tuple), w której ciąg znaków jest podzielony na trzy części.\n",
    "# partition()\t"
   ]
  },
  {
   "cell_type": "code",
   "execution_count": 86,
   "id": "2a73148d-4ed5-45e7-b8b9-e568ec693a3e",
   "metadata": {},
   "outputs": [
    {
     "name": "stdout",
     "output_type": "stream",
     "text": [
      "text 015 text 1!230000\n",
      "text 015 text 1.230000\n"
     ]
    }
   ],
   "source": [
    "# Zwraca ciąg znaków, w którym określona wartość jest zastępowana określoną wartością.\n",
    "print(napis.replace('.', '!'))  # zamiana\n",
    "print(napis.replace('string', 'str'))  # zamiana"
   ]
  },
  {
   "cell_type": "code",
   "execution_count": 87,
   "id": "5a8d5241-df68-46e7-8690-237b3b470f97",
   "metadata": {},
   "outputs": [],
   "source": [
    "# Przeszukuje ciąg znaków w poszukiwaniu określonej wartości i zwraca ostatnią pozycję, na której została ona znaleziona.    \n",
    "# rfind()\t"
   ]
  },
  {
   "cell_type": "code",
   "execution_count": 88,
   "id": "70befb21-f85b-4379-8f40-a2ae1e7a925c",
   "metadata": {},
   "outputs": [],
   "source": [
    "# Przeszukuje ciąg znaków w poszukiwaniu określonej wartości i zwraca ostatnią pozycję, na której została ona znaleziona.\n",
    "# rindex()\t"
   ]
  },
  {
   "cell_type": "code",
   "execution_count": 89,
   "id": "8940a7b4-dfc6-4af1-98d2-295abfaac6b4",
   "metadata": {},
   "outputs": [],
   "source": [
    "# Zwraca prawostronnie wyjustowaną wersję ciągu.\n",
    "# rjust()\t"
   ]
  },
  {
   "cell_type": "code",
   "execution_count": 90,
   "id": "649100b7-96fe-4106-93d3-76c5e44b6769",
   "metadata": {},
   "outputs": [],
   "source": [
    "# Zwraca krotkę, w której ciąg znaków jest podzielony na trzy części.    \n",
    "# rpartition()\t"
   ]
  },
  {
   "cell_type": "code",
   "execution_count": 91,
   "id": "7b60c76b-646c-4dac-8f50-4cfc0555d6c3",
   "metadata": {},
   "outputs": [],
   "source": [
    "# Dzieli ciąg znaków na określony separator i zwraca listę.\n",
    "# rsplit()\t"
   ]
  },
  {
   "cell_type": "code",
   "execution_count": 92,
   "id": "4e2e8c83-638a-4412-afbf-2bc9567311c5",
   "metadata": {},
   "outputs": [],
   "source": [
    "# Zwraca przyciętą w prawo wersję ciągu znaków.    \n",
    "# rstrip()\t"
   ]
  },
  {
   "cell_type": "code",
   "execution_count": 93,
   "id": "2b6666a9-a910-410e-bc89-7a56b2f01f30",
   "metadata": {},
   "outputs": [
    {
     "name": "stdout",
     "output_type": "stream",
     "text": [
      "['text', '015', 'text', '1.230000']\n"
     ]
    }
   ],
   "source": [
    "# Dzieli ciąg znaków na określony separator i zwraca listę.  \n",
    "print(napis.split(' ')) "
   ]
  },
  {
   "cell_type": "code",
   "execution_count": 94,
   "id": "81132ca7-de38-45c3-87a4-7ddfae0bb7e0",
   "metadata": {},
   "outputs": [],
   "source": [
    "# Dzieli ciąg znaków na podziały wierszy i zwraca listę.    \n",
    "# splitlines()\t"
   ]
  },
  {
   "cell_type": "code",
   "execution_count": 95,
   "id": "eff58a18-fcae-4671-ac26-77d619bd0dca",
   "metadata": {},
   "outputs": [
    {
     "name": "stdout",
     "output_type": "stream",
     "text": [
      "False\n",
      "False\n"
     ]
    }
   ],
   "source": [
    "# Zwraca wartość true, jeśli ciąg znaków zaczyna się od podanej wartości.\n",
    "print(napis.startswith('j'))  # czy zaczyna się na\n",
    "print(napis.startswith(' '))  # czy zaczyna się na"
   ]
  },
  {
   "cell_type": "code",
   "execution_count": 96,
   "id": "1489396e-08c3-40bc-8939-3d210bcf371d",
   "metadata": {},
   "outputs": [
    {
     "name": "stdout",
     "output_type": "stream",
     "text": [
      "text 015 text 1.230000\n"
     ]
    }
   ],
   "source": [
    "# Przycina wszystkie białe znaki z początku i końca.\n",
    "print(napis.strip())"
   ]
  },
  {
   "cell_type": "code",
   "execution_count": 97,
   "id": "ec8a5707-ddac-43cb-a3b2-1d4f9b6333df",
   "metadata": {},
   "outputs": [],
   "source": [
    "# Zamienia małe litery na wielkie i odwrotnie.    \n",
    "# swapcase()\t"
   ]
  },
  {
   "cell_type": "code",
   "execution_count": 98,
   "id": "6c4aec0a-9126-424f-a3fa-07aa4dacf830",
   "metadata": {},
   "outputs": [],
   "source": [
    "# Konwertuje pierwszy znak każdego słowa na wielkie litery.\n",
    "# title()\t"
   ]
  },
  {
   "cell_type": "code",
   "execution_count": 99,
   "id": "16e3778a-b29e-407d-890d-5b9f8da903a3",
   "metadata": {},
   "outputs": [],
   "source": [
    "# Zwraca przetłumaczony łańcuch znaków.                       \n",
    "# translate()\t"
   ]
  },
  {
   "cell_type": "code",
   "execution_count": 100,
   "id": "f7c31f14-94f1-4ac2-a3f6-de8c84bf2f43",
   "metadata": {},
   "outputs": [
    {
     "name": "stdout",
     "output_type": "stream",
     "text": [
      "TEXT 015 TEXT 1.230000\n"
     ]
    }
   ],
   "source": [
    "# Konwertuje ciąg znaków na duże litery.\n",
    "print(napis.upper())"
   ]
  },
  {
   "cell_type": "code",
   "execution_count": 101,
   "id": "4fe558bc-80d4-4ab2-8289-910d60ba537e",
   "metadata": {},
   "outputs": [],
   "source": [
    "# Wypełnia ciąg znaków określoną liczbą wartości 0 na początku.\n",
    "# zfill()\t"
   ]
  },
  {
   "cell_type": "markdown",
   "id": "e38d0e58-b869-4242-8ce2-96d595da5d99",
   "metadata": {
    "jp-MarkdownHeadingCollapsed": true
   },
   "source": [
    "## 09. Typ Bool."
   ]
  },
  {
   "cell_type": "code",
   "execution_count": 102,
   "id": "c0b8f439-fb8b-4160-8e1b-4ae6fd826687",
   "metadata": {},
   "outputs": [
    {
     "name": "stdout",
     "output_type": "stream",
     "text": [
      "True <class 'bool'>\n",
      "False\n",
      "x = True\n",
      "x = True\n",
      "out = False\n",
      "out = False\n",
      "out = True\n",
      "out = True\n",
      "False\n",
      "False\n",
      "False\n",
      "False\n",
      "False\n",
      "False\n",
      "False\n",
      "False\n"
     ]
    }
   ],
   "source": [
    "# bool\n",
    "\n",
    "'''\n",
    "x != y\n",
    "x == y \n",
    "x > y\n",
    "x < y\n",
    "x >= y\n",
    "x <= y\n",
    "x is y (==)\n",
    "x is not y (!=) \n",
    "x and y\n",
    "x or y\n",
    "x not y\n",
    "'a' in 'abc' # sprawdza czy 'a' zawiera się stringu w 'abc' w tym przypadku to True\n",
    "'''\n",
    "\n",
    "x = True\n",
    "# x = False\n",
    "print(x, type(x))\n",
    "print(x < 0)\n",
    "print(f'x = {x}')\n",
    "print('x =', x)\n",
    "print(f'out = {x == 0}')\n",
    "print(f'out = {x < 0}')\n",
    "print(f'out = {x != 0}')\n",
    "print(f'out = {x > 0}')\n",
    "print(bool(False))\n",
    "print(bool(None))\n",
    "print(bool(0))\n",
    "print(bool(''))\n",
    "print(bool(\"\"))\n",
    "print(bool(()))\n",
    "print(bool([]))\n",
    "print(bool({}))"
   ]
  },
  {
   "cell_type": "markdown",
   "id": "898b3d6b-bed0-4cdd-b9e0-04587fc73ad3",
   "metadata": {
    "jp-MarkdownHeadingCollapsed": true
   },
   "source": [
    "## 10. Operatory."
   ]
  },
  {
   "cell_type": "code",
   "execution_count": 103,
   "id": "f84cbb5c-352b-4ac0-b9ab-f3288aae504d",
   "metadata": {},
   "outputs": [
    {
     "name": "stdout",
     "output_type": "stream",
     "text": [
      "13\n",
      "7\n",
      "30\n",
      "3.3333333333333335\n",
      "3\n",
      "1\n",
      "1000\n"
     ]
    }
   ],
   "source": [
    "# Operatory arytmetyczne.\n",
    "'''\n",
    "** -> potęgowanie\n",
    "* -> mnożenie\n",
    "/ -> dzielenie\n",
    "// -> dzielenie całkowite\n",
    "% -> reszta z dzielenia (jak jest podzielne całkowicie == 0)\n",
    "+ -> dodawanie\n",
    "- -> odejmowanie\n",
    "operacje '+' na napisach to konkatencja (sklejanie)\n",
    "'''\n",
    "a = 10\n",
    "b = 3\n",
    "print(a + b)  # Wynik: 13\n",
    "print(a - b)  # Wynik: 7\n",
    "print(a * b)  # Wynik: 30\n",
    "print(a / b)  # Wynik: 3.3333333333333335\n",
    "print(a // b) # Wynik: 3\n",
    "print(a % b)  # Wynik: 1\n",
    "print(a ** b) # Wynik: 1000"
   ]
  },
  {
   "cell_type": "code",
   "execution_count": 104,
   "id": "dff4379d-d636-4cde-9a59-a501197f9eda",
   "metadata": {},
   "outputs": [
    {
     "data": {
      "text/plain": [
       "''"
      ]
     },
     "execution_count": 104,
     "metadata": {},
     "output_type": "execute_result"
    }
   ],
   "source": [
    "# Operatory przypisania.\n",
    "'''\n",
    "=\t->  x = 5\n",
    "+=\t->  x += 3\t->  x = x + 3\t\n",
    "-=\t->  x -= 3\t->  x = x - 3\t\n",
    "*=\t->  x *= 3\t->  x = x * 3\t\n",
    "/=\t->  x /= 3\t->  x = x / 3\t\n",
    "%=\t->  x %= 3\t->  x = x % 3\t\n",
    "//=\t->  x //= 3\t->  x = x // 3\t\n",
    "**=\t->  x **= 3\t->  x = x ** 3\t\n",
    "&=\t->  x &= 3\t->  x = x & 3\t\n",
    "|=\t->  x |= 3\t->  x = x | 3\t\n",
    "^=\t->  x ^= 3\t->  x = x ^ 3\t\n",
    ">>=\t->  x >>= 3\t->  x = x >> 3\t\n",
    "<<=\t->  x <<= 3\t->  x = x << 3\n",
    "'''\n",
    ";"
   ]
  },
  {
   "cell_type": "code",
   "execution_count": 105,
   "id": "0209e7d2-0104-47d8-9b58-d5980575afd7",
   "metadata": {},
   "outputs": [
    {
     "name": "stdout",
     "output_type": "stream",
     "text": [
      "False\n",
      "True\n",
      "True\n",
      "False\n",
      "True\n",
      "False\n"
     ]
    }
   ],
   "source": [
    "# Operatory porównania.\n",
    "'''\n",
    "==\trówny\t            x == y\t\n",
    "!=\tnie równy\t        x != y\t\n",
    ">\twiększy\t            x > y\t\n",
    "<\tmniejszy            x < y\t\n",
    ">=\twiększy lub równy\tx >= y\t\n",
    "<=\tmniejszy lub równy\tx <= y\n",
    "'''\n",
    "a = 5\n",
    "b = 3\n",
    "print(a == b)  # False\n",
    "print(a != b)  # True\n",
    "print(a > b)   # True\n",
    "print(a < b)   # False\n",
    "print(a >= b)  # True\n",
    "print(a <= b)  # False"
   ]
  },
  {
   "cell_type": "code",
   "execution_count": 106,
   "id": "9051a0e2-2eaa-4c29-8458-13d527bedd44",
   "metadata": {},
   "outputs": [
    {
     "name": "stdout",
     "output_type": "stream",
     "text": [
      "True\n",
      "True\n",
      "False\n"
     ]
    }
   ],
   "source": [
    "# Operatory logiczne.\n",
    "'''\n",
    "and -> True jeżeli obydwie strony takie same\n",
    "or -> True jeżeli jedna luib dwie strony takiesame\n",
    "not -> Odwrócenie wyniku\n",
    "'''\n",
    "x = 5\n",
    "y = 10\n",
    "print(x > 0 and y < 20)  # True, ponieważ oba warunki są spełnione\n",
    "print(x < 0 or y < 20)   # True, ponieważ przynajmniej jeden warunek jest spełniony\n",
    "print(not(x > 0 and y < 20))  # False, ponieważ wynik z operatora and jest True, a not odwraca wartość"
   ]
  },
  {
   "cell_type": "code",
   "execution_count": 107,
   "id": "c53192aa-7e2f-42d8-b606-902a249e3ca7",
   "metadata": {},
   "outputs": [
    {
     "name": "stdout",
     "output_type": "stream",
     "text": [
      "False\n",
      "True\n",
      "True\n",
      "True\n"
     ]
    }
   ],
   "source": [
    "# Operatory tożsamości(identity operators).\n",
    "# Służą do porównywania tożsamości obiektów. \n",
    "# Każdy obiekt ma swoją unikalną tożsamość, którą można uzyskać za pomocą funkcji wbudowanej id(). \n",
    "# Operatorzy tożsamości to 'is' i 'is not'.\n",
    "'''\n",
    "Operator is: Zwraca True, jeśli oba obiekty wskazują na tę samą lokalizację w pamięci.\n",
    "Operator is not: Zwraca True, jeśli obiekty nie wskazują na tę samą lokalizację w pamięci.\n",
    "'''\n",
    "x = [1, 2, 3]\n",
    "y = [1, 2, 3]\n",
    "print(x is y)  # False, ponieważ x i y wskazują na różne lokalizacje w pamięci\n",
    "a = 5\n",
    "b = 5\n",
    "print(a is b)  # True, ponieważ a i b wskazują na tę samą lokalizację w pamięci\n",
    "c = \"hello\"\n",
    "d = \"hello\"\n",
    "print(c is d)  # True, ponieważ c i d wskazują na tę samą lokalizację w pamięci\n",
    "e = [1, 2, 3]\n",
    "f = e\n",
    "print(e is f)  # True, ponieważ e i f wskazują na tę samą lokalizację w pamięci"
   ]
  },
  {
   "cell_type": "code",
   "execution_count": 108,
   "id": "91969778-3486-4aa8-8476-7afcdbe0a448",
   "metadata": {},
   "outputs": [
    {
     "name": "stdout",
     "output_type": "stream",
     "text": [
      "True\n",
      "False\n",
      "True\n",
      "True\n"
     ]
    }
   ],
   "source": [
    "# Operatory członkostwa (Membership Operators).\n",
    "# Służą do sprawdzania przynależności elementu do zbioru danych. \n",
    "# Lista operatorów członkostwa wraz z ich funkcjami:\n",
    "'''\n",
    "in: Zwraca True, jeśli dany element znajduje się w zbiorze danych.\n",
    "not in: Zwraca True, jeśli dany element nie znajduje się w zbiorze danych.\n",
    "'''\n",
    "lista = [1, 2, 3, 4, 5]\n",
    "print(3 in lista)    # True, ponieważ 3 znajduje się w liście\n",
    "print(6 in lista)    # False, ponieważ 6 nie znajduje się w liście\n",
    "\n",
    "napis = \"Python\"\n",
    "print(\"y\" in napis)       # True, ponieważ \"y\" znajduje się w napisie\n",
    "print(\"z\" not in napis)   # True, ponieważ \"z\" nie znajduje się w napisie"
   ]
  },
  {
   "cell_type": "code",
   "execution_count": 109,
   "id": "e2664de2-fb84-4adb-a3a2-dc0ffddcc280",
   "metadata": {},
   "outputs": [
    {
     "name": "stdout",
     "output_type": "stream",
     "text": [
      "12\n",
      "61\n",
      "49\n",
      "-61\n",
      "240\n",
      "15\n"
     ]
    }
   ],
   "source": [
    "# Operatory bitowe (Bitwise Operators).\n",
    "# Pozwalają wykonywać operacje na poziomie bitów na liczbach całkowitych. \n",
    "# Lista operatorów bitowych wraz z ich funkcjami:\n",
    "'''\n",
    "& - Bitowa koniunkcja (AND): Zwraca 1, jeśli oba bity są ustawione na 1.\n",
    "| - Bitowa alternatywa (OR): Zwraca 1, jeśli przynajmniej jeden z bitów jest ustawiony na 1.\n",
    "^ - Bitowa alternatywa wykluczająca (XOR): Zwraca 1, jeśli tylko jeden z bitów jest ustawiony na 1 (ale nie oba).\n",
    "~ - Bitowa negacja (NOT): Zwraca wartość negacji bitowej danego bitu (jeden komplement).\n",
    "<< - Przesunięcie bitowe w lewo: Przesuwa bity liczby w lewo o określoną liczbę pozycji, wstawiając zera na prawo.\n",
    ">> - Przesunięcie bitowe w prawo: Przesuwa bity liczby w prawo o określoną liczbę pozycji, wstawiając zera na lewo.\n",
    "'''\n",
    "a = 60  # Wartość binarna: 0011 1100\n",
    "b = 13  # Wartość binarna: 0000 1101\n",
    "\n",
    "print(a & b)  # Wynik: 12 (binarnie: 0000 1100)\n",
    "print(a | b)  # Wynik: 61 (binarnie: 0011 1101)\n",
    "print(a ^ b)  # Wynik: 49 (binarnie: 0011 0001)\n",
    "print(~a)     # Wynik: -61 (binarnie: 1100 0011)\n",
    "print(a << 2) # Wynik: 240 (binarnie: 1111 0000)\n",
    "print(a >> 2) # Wynik: 15 (binarnie: 0000 1111)"
   ]
  },
  {
   "cell_type": "code",
   "execution_count": 110,
   "id": "6d3b4a8f-4ca8-41e8-bdf4-ac1ce3c601fe",
   "metadata": {},
   "outputs": [
    {
     "data": {
      "text/plain": [
       "''"
      ]
     },
     "execution_count": 110,
     "metadata": {},
     "output_type": "execute_result"
    }
   ],
   "source": [
    "# Kolejność operatorów.\n",
    "'''\n",
    "()\t                                             Parentheses\t\n",
    "**\t                                             Exponentiation\t\n",
    "+x  -x  ~x\t                                     Unary plus, unary minus, and bitwise NOT\t\n",
    "*  /  //  %\t                                     Multiplication, division, floor division, and modulus\t\n",
    "+  -\t                                         Addition and subtraction\t\n",
    "<<  >>\t                                         Bitwise left and right shifts\t\n",
    "&\t                                             Bitwise AND\t\n",
    "^\t                                             Bitwise XOR\t\n",
    "|\t                                             Bitwise OR\t\n",
    "==  !=  >  >=  <  <=  is  is not  in  not in \t Comparisons, identity, and membership operators\t\n",
    "not\t                                             Logical NOT\t\n",
    "and\t                                             AND\t\n",
    "or\t                                             OR\n",
    "'''\n",
    ";"
   ]
  },
  {
   "cell_type": "code",
   "execution_count": 111,
   "id": "36fb5389-76ea-4fe9-b732-5cacdec9b16c",
   "metadata": {},
   "outputs": [
    {
     "name": "stdout",
     "output_type": "stream",
     "text": [
      "ok\n"
     ]
    }
   ],
   "source": [
    "# Operatorem warunkowy (thernary operator).\n",
    "'''\n",
    "zmienna = wartość_wyrażenia_true if warunek else wartość_wyrażenia_false\n",
    "warunek to warunek logiczny, który jest sprawdzany.\n",
    "wartość_wyrażenia_true to wartość przypisywana do zmiennej, jeśli warunek jest prawdziwy.\n",
    "wartość_wyrażenia_false to wartość przypisywana do zmiennej, jeśli warunek jest fałszywy.\n",
    "'''\n",
    "war1 = True\n",
    "war2 = False\n",
    "print('ok') if (war1) else print('else')\n",
    "#\"wykonaj\" if \"warunek\" else \"wykonaj to\""
   ]
  }
 ],
 "metadata": {
  "kernelspec": {
   "display_name": "Torch Learn",
   "language": "python",
   "name": "python3"
  },
  "language_info": {
   "codemirror_mode": {
    "name": "ipython",
    "version": 3
   },
   "file_extension": ".py",
   "mimetype": "text/x-python",
   "name": "python",
   "nbconvert_exporter": "python",
   "pygments_lexer": "ipython3",
   "version": "3.12.1"
  },
  "widgets": {
   "application/vnd.jupyter.widget-state+json": {
    "state": {},
    "version_major": 2,
    "version_minor": 0
   }
  }
 },
 "nbformat": 4,
 "nbformat_minor": 5
}
