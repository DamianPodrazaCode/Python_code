{
 "cells": [
  {
   "cell_type": "markdown",
   "id": "724ea447-0571-4e14-aa61-d0a7504a9091",
   "metadata": {
    "jp-MarkdownHeadingCollapsed": true
   },
   "source": [
    "## 01. Komentarze, słowa kluczowe, nazewnictwo."
   ]
  },
  {
   "cell_type": "code",
   "execution_count": 1,
   "id": "4ba07627-7c39-48fe-9fc9-d3da0125481c",
   "metadata": {},
   "outputs": [],
   "source": [
    "# Komentarz jednoliniowy.\n",
    "\n",
    "'''\n",
    "komentarz\n",
    "wielo-\n",
    "liniowy\n",
    "'''\n",
    "\n",
    "''' 35 słów kluczowych w python:\n",
    "and   del   from   None   True   as   elif   global   nonlocal   try   assert   else   if   not   while   break   except   import\n",
    "or   with   class   False   in   pass   yield   continue   finally   is   raise   async   def   for   lambda   return   await\n",
    "'''\n",
    "\n",
    "# Camel Case\n",
    "myVariableName = \"John\"\n",
    "# Pascal Case\n",
    "MyVariableName = \"John\"\n",
    "# Snake Case\n",
    "my_variable_name = \"John\""
   ]
  },
  {
   "cell_type": "markdown",
   "id": "052cf12e-712e-4af4-8e3e-b2c7be30ff31",
   "metadata": {
    "editable": true,
    "slideshow": {
     "slide_type": ""
    },
    "tags": []
   },
   "source": [
    "--------------------------------------------------------------------------------------------------------------------------\n",
    "## 02. Zmienne."
   ]
  },
  {
   "cell_type": "code",
   "execution_count": 2,
   "id": "fcfc4a24-a1cc-49f9-af11-8f2229d6a17a",
   "metadata": {},
   "outputs": [
    {
     "name": "stdout",
     "output_type": "stream",
     "text": [
      "123 str\n",
      "text 456\n"
     ]
    }
   ],
   "source": [
    "# W python nie ma potrzeby deklarowania zmiennej interpreter wywnioskuje sobe sam jaki to typ.\n",
    "x = 123\n",
    "y = 'str'\n",
    "print(x, y)\n",
    "# Jeżeli w trakcie programu zmieni się typ zmiennej interpreter sie tym zajmnie sam.\n",
    "x = \"text\"\n",
    "y = 456\n",
    "print(x, y)"
   ]
  },
  {
   "cell_type": "code",
   "execution_count": 3,
   "id": "b5622bf8-0165-4edc-937d-e6d17fc25a44",
   "metadata": {},
   "outputs": [
    {
     "name": "stdout",
     "output_type": "stream",
     "text": [
      "war1 war2 war3\n",
      "wartość wartość wartość\n"
     ]
    }
   ],
   "source": [
    "# Przypisywanie wielu zmiennym, wielu wartości, ilość zmiennych i ilość wartości musi się zgadzać.\n",
    "x, y, z = \"war1\", \"war2\", \"war3\"\n",
    "print(x, y, z)\n",
    "# Przypisywanie wielu zmiennym, jednej wartości.\n",
    "x = y = z = \"wartość\"\n",
    "print(x, y, z)"
   ]
  },
  {
   "cell_type": "code",
   "execution_count": 4,
   "id": "0e47c77b-a1cb-4178-b515-7484d83ef918",
   "metadata": {},
   "outputs": [
    {
     "data": {
      "text/plain": [
       "(['war1', 'war2', 'war3'], 'war1', 'war2', 'war3')"
      ]
     },
     "execution_count": 4,
     "metadata": {},
     "output_type": "execute_result"
    }
   ],
   "source": [
    "# Szybkie przepisanie wartości z listy do zmiennych (Unpack a Collection), dotyczy to równieź innych kolekcji.\n",
    "lista = ['war1', 'war2', 'war3']\n",
    "x, y, z = lista\n",
    "lista, x, y, z"
   ]
  },
  {
   "cell_type": "code",
   "execution_count": 5,
   "id": "0439ef0c-c0a5-4b5e-b153-1cc1266517b9",
   "metadata": {},
   "outputs": [
    {
     "name": "stdout",
     "output_type": "stream",
     "text": [
      "['str1', 'str2', 'str3', 'str4', 'str5', 'str6']\n"
     ]
    }
   ],
   "source": [
    "lista = ['str1', 'str2', 'str3', 'str4', 'str5', 'str6']\n",
    "print(lista)"
   ]
  },
  {
   "cell_type": "code",
   "execution_count": 6,
   "id": "9b127b92-dc6b-435c-a48e-4ed6d499195c",
   "metadata": {},
   "outputs": [
    {
     "name": "stdout",
     "output_type": "stream",
     "text": [
      "str1\n",
      "['str2', 'str3', 'str4', 'str5']\n",
      "str6\n"
     ]
    }
   ],
   "source": [
    "# Automatyczne przypisywanie wartości, dotyczy to równieź innych kolekcji.\n",
    "(zm1, *zm2, zm3) = lista\n",
    "print(zm1)\n",
    "print(zm2)\n",
    "print(zm3)"
   ]
  },
  {
   "cell_type": "code",
   "execution_count": 7,
   "id": "c64293a7-cb97-4370-8e13-6b50161d299c",
   "metadata": {},
   "outputs": [
    {
     "name": "stdout",
     "output_type": "stream",
     "text": [
      "str1\n",
      "str2\n",
      "['str3', 'str4', 'str5', 'str6']\n"
     ]
    }
   ],
   "source": [
    "(zm1, zm2, *zm3) = lista\n",
    "print(zm1)\n",
    "print(zm2)\n",
    "print(zm3)"
   ]
  },
  {
   "cell_type": "markdown",
   "id": "7de097f7-bb7b-4a2d-b8a8-e8ad6a28c5bf",
   "metadata": {},
   "source": [
    "--------------------------------------------------------------------------------------------------------------------------\n",
    "## 03. Wbudowane typy danych."
   ]
  },
  {
   "cell_type": "code",
   "execution_count": 8,
   "id": "b77f9e43-49a2-42f7-ab06-c8a654e2cc50",
   "metadata": {},
   "outputs": [],
   "source": [
    "# Text Type:\t      str\n",
    "# Numeric Types:\t  int, float, complex\n",
    "# Sequence Types:\t  list, tuple, range\n",
    "# Mapping Type:\t      dict\n",
    "# Set Types:\t      set, frozenset\n",
    "# Boolean Type:\t      bool\n",
    "# Binary Types:\t      bytes, bytearray, memoryview\n",
    "# None Type:\t      None"
   ]
  },
  {
   "cell_type": "code",
   "execution_count": 9,
   "id": "e20183f4-10eb-4965-809b-356ac55a246a",
   "metadata": {},
   "outputs": [
    {
     "data": {
      "text/plain": [
       "(int, float, str, complex)"
      ]
     },
     "execution_count": 9,
     "metadata": {},
     "output_type": "execute_result"
    }
   ],
   "source": [
    "# Sprawdzanie typu danych.\n",
    "type(123), type(1.23), type('str'), type(1 + 5j)"
   ]
  },
  {
   "cell_type": "code",
   "execution_count": 10,
   "id": "db01fe17-f4da-489f-b86e-978cd3ae8c05",
   "metadata": {},
   "outputs": [
    {
     "data": {
      "text/plain": [
       "(str, int, float, complex, complex)"
      ]
     },
     "execution_count": 10,
     "metadata": {},
     "output_type": "execute_result"
    }
   ],
   "source": [
    "x = 'text'\n",
    "y = 123\n",
    "z = 1.23\n",
    "a = complex(1, 4)\n",
    "b = 45 + 54j\n",
    "type(x), type(y), type(z), type(a), type(b)"
   ]
  },
  {
   "cell_type": "code",
   "execution_count": 11,
   "id": "21b05104-70a6-42a9-9a85-411a6ba642fb",
   "metadata": {},
   "outputs": [
    {
     "name": "stdout",
     "output_type": "stream",
     "text": [
      "Hello World \n",
      " 20 \n",
      " 20.5 \n",
      " 1j \n",
      " ['apple', 'banana', 'cherry'] \n",
      " ('apple', 'banana', 'cherry') \n",
      " range(0, 6) \n",
      " {'name': 'John', 'age': 36} \n",
      " {'apple', 'cherry', 'banana'} \n",
      " frozenset({'apple', 'cherry', 'banana'}) \n",
      " True \n",
      " b'\\x00\\x00\\x00\\x00\\x00' \n",
      " bytearray(b'\\x00\\x00\\x00\\x00\\x00') \n",
      " <memory at 0x0000015705951900>\n"
     ]
    }
   ],
   "source": [
    "# Wymuszenie ustawienia odpowiedniego typu.\n",
    "a = str(\"Hello World\")\t\n",
    "b = int(20)\t\n",
    "c = float(20.5)\t\t\n",
    "d = complex(1j)\t\t\n",
    "e = list((\"apple\", \"banana\", \"cherry\"))\t\t\n",
    "f = tuple((\"apple\", \"banana\", \"cherry\"))\t\n",
    "g = range(6)\t\n",
    "h = dict(name=\"John\", age=36)\t\n",
    "i = set((\"apple\", \"banana\", \"cherry\"))\t\n",
    "j = frozenset((\"apple\", \"banana\", \"cherry\"))\t\n",
    "k = bool(5)\t\n",
    "l = bytes(5)\t\n",
    "m = bytearray(5)\n",
    "n = memoryview(bytes(5))\n",
    "print(a, '\\n', b, '\\n',  c, '\\n',  d, '\\n',  e, '\\n',  f, '\\n',  g, '\\n',  h, '\\n',  i, '\\n',  j, '\\n',  k, '\\n',  l, '\\n',  m, '\\n',  n)"
   ]
  },
  {
   "cell_type": "markdown",
   "id": "f7fcc9a8-5d7f-4dd6-a54c-127ea300a51d",
   "metadata": {
    "jp-MarkdownHeadingCollapsed": true
   },
   "source": [
    "--------------------------------------------------------------------------------------------------------------------------\n",
    "#### Typ tekstowy: str"
   ]
  },
  {
   "cell_type": "code",
   "execution_count": 12,
   "id": "9fd25862-d113-48f3-a841-3cbc52018084",
   "metadata": {},
   "outputs": [
    {
     "name": "stdout",
     "output_type": "stream",
     "text": [
      "<class 'str'>\n"
     ]
    }
   ],
   "source": [
    "print(type('abc'))"
   ]
  },
  {
   "cell_type": "code",
   "execution_count": 13,
   "id": "6ecc9885-95a8-4490-83f8-2f2d4e2e81ba",
   "metadata": {},
   "outputs": [
    {
     "data": {
      "text/plain": [
       "('ąćźćł', 'ąćźćł')"
      ]
     },
     "execution_count": 13,
     "metadata": {},
     "output_type": "execute_result"
    }
   ],
   "source": [
    "x = \"ąćźćł\"\n",
    "y = 'ąćźćł'  # obojętnie czy \" \" , ' '.\n",
    "x, y"
   ]
  },
  {
   "cell_type": "code",
   "execution_count": 14,
   "id": "93488cb2-901e-40c1-97e2-aa4d81af94ca",
   "metadata": {},
   "outputs": [
    {
     "name": "stdout",
     "output_type": "stream",
     "text": [
      "Napis który\n",
      "jest, rozdzielony\n",
      "na wiele linii.\n"
     ]
    },
    {
     "data": {
      "text/plain": [
       "'Napis który\\njest, rozdzielony\\nna wiele linii.'"
      ]
     },
     "execution_count": 14,
     "metadata": {},
     "output_type": "execute_result"
    }
   ],
   "source": [
    "# String wieloliniowy.\n",
    "napis = \"\"\"Napis który\n",
    "jest, rozdzielony\n",
    "na wiele linii.\"\"\"\n",
    "print(napis)\n",
    "napis"
   ]
  },
  {
   "cell_type": "code",
   "execution_count": 15,
   "id": "fc42bfa1-1957-4a3c-b0c7-f3e876011406",
   "metadata": {},
   "outputs": [
    {
     "data": {
      "text/plain": [
       "' jakiś String - napis czy Coś... '"
      ]
     },
     "execution_count": 15,
     "metadata": {},
     "output_type": "execute_result"
    }
   ],
   "source": [
    "napis = \" jakiś String - napis czy Coś... \"\n",
    "napis"
   ]
  },
  {
   "cell_type": "code",
   "execution_count": 16,
   "id": "327ab9e5-fed8-4df4-87d5-d2ca472524a3",
   "metadata": {},
   "outputs": [
    {
     "data": {
      "text/plain": [
       "33"
      ]
     },
     "execution_count": 16,
     "metadata": {},
     "output_type": "execute_result"
    }
   ],
   "source": [
    "# Długość.\n",
    "len(napis)"
   ]
  },
  {
   "cell_type": "code",
   "execution_count": 17,
   "id": "637e78bc-df2b-4b37-af24-3f72d56eba64",
   "metadata": {},
   "outputs": [
    {
     "data": {
      "text/plain": [
       "' jakiś String - napis czy Coś...  jakiś String - napis czy Coś...  jakiś String - napis czy Coś... '"
      ]
     },
     "execution_count": 17,
     "metadata": {},
     "output_type": "execute_result"
    }
   ],
   "source": [
    "# Powielenie.\n",
    "napis * 3"
   ]
  },
  {
   "cell_type": "code",
   "execution_count": 18,
   "id": "378c8e42-78e9-4d8d-973f-2ca48706deac",
   "metadata": {},
   "outputs": [
    {
     "data": {
      "text/plain": [
       "'j'"
      ]
     },
     "execution_count": 18,
     "metadata": {},
     "output_type": "execute_result"
    }
   ],
   "source": [
    "# Pobieranie pojedynczego znaku, string jako tablica.\n",
    "napis[1] # wynikiem będzie jeden znak, aprzypisanie go do zmiennej zrobi tą zmienną też stringiem"
   ]
  },
  {
   "cell_type": "code",
   "execution_count": 19,
   "id": "5dd34e19-5c63-4f3c-9642-b757ae5d1a43",
   "metadata": {},
   "outputs": [
    {
     "data": {
      "text/plain": [
       "'akiś Str'"
      ]
     },
     "execution_count": 19,
     "metadata": {},
     "output_type": "execute_result"
    }
   ],
   "source": [
    "# Wycinek wg ideksu od 2 do 9.\n",
    "napis[2:10]"
   ]
  },
  {
   "cell_type": "code",
   "execution_count": 20,
   "id": "9ee42eb1-d8f6-45a0-9d90-574b01402c2f",
   "metadata": {},
   "outputs": [
    {
     "data": {
      "text/plain": [
       "'akiś String - napis czy Coś... '"
      ]
     },
     "execution_count": 20,
     "metadata": {},
     "output_type": "execute_result"
    }
   ],
   "source": [
    "# Wycinek wg ideksu od 2 do końca.\n",
    "napis[2:]"
   ]
  },
  {
   "cell_type": "code",
   "execution_count": 21,
   "id": "51ee195f-036e-4e4b-a7a4-aaf0e81fc4e7",
   "metadata": {},
   "outputs": [
    {
     "data": {
      "text/plain": [
       "' jakiś Str'"
      ]
     },
     "execution_count": 21,
     "metadata": {},
     "output_type": "execute_result"
    }
   ],
   "source": [
    "# Wycinek od początku do 9.\n",
    "napis[:10]"
   ]
  },
  {
   "cell_type": "code",
   "execution_count": 22,
   "id": "7d3dbefa-780a-4c18-8854-6a9b2bbc29b7",
   "metadata": {},
   "outputs": [
    {
     "data": {
      "text/plain": [
       "'ś... '"
      ]
     },
     "execution_count": 22,
     "metadata": {},
     "output_type": "execute_result"
    }
   ],
   "source": [
    "# Wycinek ostatnich 5 od końca.\n",
    "napis[-5:]"
   ]
  },
  {
   "cell_type": "code",
   "execution_count": 23,
   "id": "0a539994-3e41-4a3a-9d0d-9493eb2e507f",
   "metadata": {},
   "outputs": [
    {
     "data": {
      "text/plain": [
       "' ai t'"
      ]
     },
     "execution_count": 23,
     "metadata": {},
     "output_type": "execute_result"
    }
   ],
   "source": [
    "# Wycinek co drugi od 0 do 8.\n",
    "# print(string[start:stop:step]) \n",
    "napis[0:9:2]"
   ]
  },
  {
   "cell_type": "code",
   "execution_count": 24,
   "id": "dae656b0-c72e-4d15-b04d-41da2098a865",
   "metadata": {},
   "outputs": [
    {
     "data": {
      "text/plain": [
       "' jakiś String - napis czy Coś... '"
      ]
     },
     "execution_count": 24,
     "metadata": {},
     "output_type": "execute_result"
    }
   ],
   "source": [
    "# Cały napis.\n",
    "napis[:] # lub napis[::] lub napis"
   ]
  },
  {
   "cell_type": "code",
   "execution_count": 25,
   "id": "67054a30-7989-4171-8f77-5b29521c21cc",
   "metadata": {},
   "outputs": [
    {
     "data": {
      "text/plain": [
       "' k rg p yo.'"
      ]
     },
     "execution_count": 25,
     "metadata": {},
     "output_type": "execute_result"
    }
   ],
   "source": [
    "# Co trzecią pozycję.\n",
    "napis[::3]"
   ]
  },
  {
   "cell_type": "code",
   "execution_count": 26,
   "id": "d0802d16-3e72-4f20-9e7a-a56e1785c085",
   "metadata": {},
   "outputs": [
    {
     "data": {
      "text/plain": [
       "'.'"
      ]
     },
     "execution_count": 26,
     "metadata": {},
     "output_type": "execute_result"
    }
   ],
   "source": [
    "# Druga od końca.\n",
    "napis[-2] "
   ]
  },
  {
   "cell_type": "code",
   "execution_count": 27,
   "id": "6fd1e95c-a8ac-4163-a2d5-995760b059e6",
   "metadata": {},
   "outputs": [
    {
     "data": {
      "text/plain": [
       "' ...śoC yzc sipan - gnirtS śikaj '"
      ]
     },
     "execution_count": 27,
     "metadata": {},
     "output_type": "execute_result"
    }
   ],
   "source": [
    "# Co jeden od końca do początku, czyli rewers napisu.\n",
    "napis[::-1] "
   ]
  },
  {
   "cell_type": "code",
   "execution_count": 28,
   "id": "0f9ecd44-b7f6-4d90-9c1d-85779c53da77",
   "metadata": {},
   "outputs": [
    {
     "data": {
      "text/plain": [
       "' .śCycspn-git ia '"
      ]
     },
     "execution_count": 28,
     "metadata": {},
     "output_type": "execute_result"
    }
   ],
   "source": [
    "# Co dwa od końca do początku.\n",
    "napis[::-2] "
   ]
  },
  {
   "cell_type": "code",
   "execution_count": 29,
   "id": "b92d8be7-59ed-401d-ba08-d76f1bdbbc49",
   "metadata": {},
   "outputs": [],
   "source": [
    "# Zmiany w stringu są możliwe tylko przez nadpisanie całości, a nie przez zmiany pojedynczych znaków.\n",
    "# string[1] = 's' -> error nie wolno, trzeba nadpisać całego stringa"
   ]
  },
  {
   "cell_type": "code",
   "execution_count": 30,
   "id": "de18b517-1e30-41bd-b447-e6b529f0fa02",
   "metadata": {},
   "outputs": [
    {
     "name": "stdout",
     "output_type": "stream",
     "text": [
      "True\n"
     ]
    }
   ],
   "source": [
    "# Sprawdź czy jest.\n",
    "print(\"napis\" in napis) "
   ]
  },
  {
   "cell_type": "code",
   "execution_count": 31,
   "id": "694be17f-dc61-47d4-8e08-8b7fe2d97d78",
   "metadata": {},
   "outputs": [
    {
     "name": "stdout",
     "output_type": "stream",
     "text": [
      "True\n"
     ]
    }
   ],
   "source": [
    "# Sprawdź czy niema.\n",
    "print(\"jeden\" not in napis)"
   ]
  },
  {
   "cell_type": "code",
   "execution_count": 32,
   "id": "14aecb52-b080-4b8f-b698-0efe00a4857e",
   "metadata": {},
   "outputs": [
    {
     "data": {
      "text/plain": [
       "'war1 war2 :war3'"
      ]
     },
     "execution_count": 32,
     "metadata": {},
     "output_type": "execute_result"
    }
   ],
   "source": [
    "# łączenie, konkatenacja ciągów.\n",
    "x, y, z = \"war1 \", \"war2 \", \"war3\"\n",
    "razem = x + y + ':' + z\n",
    "razem"
   ]
  },
  {
   "cell_type": "code",
   "execution_count": 33,
   "id": "8b006dc4-a967-4472-9868-83e60257dc7c",
   "metadata": {},
   "outputs": [
    {
     "name": "stdout",
     "output_type": "stream",
     "text": [
      "a   97\n",
      "s   115\n",
      "d   100\n"
     ]
    }
   ],
   "source": [
    "# Wylistowanie znaków\n",
    "for y in 'asd':  # ze stringa\n",
    "    print(y, \" \", ord(y))  # odr - numer utf8"
   ]
  },
  {
   "cell_type": "code",
   "execution_count": 34,
   "id": "b49878d8-4a26-453d-ad2d-1e3c4d042926",
   "metadata": {
    "editable": true,
    "slideshow": {
     "slide_type": ""
    },
    "tags": []
   },
   "outputs": [
    {
     "name": "stdout",
     "output_type": "stream",
     "text": [
      "1   49\n",
      "2   50\n",
      "a   97\n",
      "b   98\n"
     ]
    }
   ],
   "source": [
    "# Wylistowanie znaków ze zmiennej\n",
    "x = '12ab'    \n",
    "for y in x:  # ze stringa w zmiennej\n",
    "    print(y, \" \", ord(y))  # odr - numer utf8"
   ]
  },
  {
   "cell_type": "code",
   "execution_count": 35,
   "id": "dab69ae4-5826-4e38-8027-e0c17fd674ea",
   "metadata": {},
   "outputs": [
    {
     "name": "stdout",
     "output_type": "stream",
     "text": [
      "h D\n",
      "hD\n"
     ]
    }
   ],
   "source": [
    "# Z numeru UTF8 na znak.\n",
    "s1 = chr(104)\n",
    "s2 = chr(68)\n",
    "print(s1, s2)    # wyświetlanie jako znaków osobnych\n",
    "print(s1 + s2)   # łączenie w stringa"
   ]
  },
  {
   "cell_type": "code",
   "execution_count": 36,
   "id": "267a2369-3f7f-42f3-93f4-b9f1676b0b35",
   "metadata": {},
   "outputs": [
    {
     "name": "stdout",
     "output_type": "stream",
     "text": [
      "97 36 281\n"
     ]
    }
   ],
   "source": [
    "# Ze znaku na numer UTF8.\n",
    "z1 = ord(\"a\")\n",
    "z2 = ord(\"$\")\n",
    "z3 = ord(\"ę\")\n",
    "print(z1, z2, z3)"
   ]
  },
  {
   "cell_type": "code",
   "execution_count": 37,
   "id": "f4da04dc-c29a-4a62-9bbf-fc9b13fbd65a",
   "metadata": {},
   "outputs": [
    {
     "name": "stdout",
     "output_type": "stream",
     "text": [
      "1234\n",
      "5678\tasd\n",
      "1234\n",
      "5678\n",
      "2222\n",
      "3333\n"
     ]
    }
   ],
   "source": [
    "# znaki specjalne\n",
    "# \\n: Nowa linia. Powoduje przeniesienie kursora do następnej linii.\n",
    "# \\t: Tabulator. Wstawia znak tabulacji.\n",
    "# \\' lub \\\": Apostrof lub cudzysłów. Pozwala na wstawienie apostrofu lub cudzysłowu do ciągu znaków otoczonego tym samym rodzajem cudzysłowu.\n",
    "# \\\\: Ucieczka znaku. Wstawia znak ucieczki (backslash).\n",
    "# \\b: Powrót kursora. Powoduje cofnięcie kursora o jedno miejsce w lewo.\n",
    "# \\r: Powrót karetki. Przesuwa kursor do początku bieżącej linii.\n",
    "# \\f: Formfeed. Przesuwa kursor do nowej strony.\n",
    "# \\v: Pionowa tabulacja. Powoduje przesunięcie kursora do następnej kolumny, z zachowaniem tych samych wierszy, co poprzednia kolumna.\n",
    "# \\0: Znak końca linii. Oznacza koniec ciągu znaków.\n",
    "# \\ooo Octal value\t\n",
    "# \\xhh Hex value\t\n",
    "\n",
    "print(\"1234\\r\\n5678\\tasd\") # \\r\\n \\t\n",
    "print(f'1234\\r\\n5678')\n",
    "print(f'2222{chr(13)+chr(10)}3333')"
   ]
  },
  {
   "cell_type": "code",
   "execution_count": 38,
   "id": "5b95ff33-288c-443f-99c5-ad6f976fbff8",
   "metadata": {},
   "outputs": [],
   "source": [
    "# Porównywanie stringów\n",
    "napis = 'abcd' \n",
    "if 'a' in 'abc' :   # sprawdza czy 'a' zawiera się w 'abc' w tym przypadku to True\n",
    "    pass\n",
    "if napis == 'abcd' : # czy równe \n",
    "    pass\n",
    "if napis < 'abcd' : # czy napis jest przed 'abcd'\n",
    "    pass\n",
    "if napis == 'abcd' : # czy napis jest za 'abcd'\n",
    "    pass"
   ]
  },
  {
   "cell_type": "code",
   "execution_count": 39,
   "id": "73fa9d5f-5a4b-4ab2-8af1-2799258214c8",
   "metadata": {},
   "outputs": [],
   "source": [
    "# Formatowanie stringa.\n",
    "zm1 = 15\n",
    "zm2 = 1.23\n",
    "zm3 = -1.23"
   ]
  },
  {
   "cell_type": "code",
   "execution_count": 40,
   "id": "b67b91ca-55d3-4aab-98a5-635c514a5b8f",
   "metadata": {},
   "outputs": [],
   "source": [
    "# Metoda 'format()'"
   ]
  },
  {
   "cell_type": "code",
   "execution_count": 41,
   "id": "8e965d86-5eee-49c9-851b-b62449a25990",
   "metadata": {},
   "outputs": [
    {
     "data": {
      "text/plain": [
       "'zm1 = 15  zm2 = 1.23'"
      ]
     },
     "execution_count": 41,
     "metadata": {},
     "output_type": "execute_result"
    }
   ],
   "source": [
    "'zm1 = {}  zm2 = {}'.format(zm1, zm2)"
   ]
  },
  {
   "cell_type": "code",
   "execution_count": 42,
   "id": "95446982-3dcb-459d-81af-d2aa0a3e5b5f",
   "metadata": {},
   "outputs": [
    {
     "name": "stdout",
     "output_type": "stream",
     "text": [
      "tekst 15\n"
     ]
    }
   ],
   "source": [
    "napis = \"tekst {}\"\n",
    "print(napis.format(zm1))"
   ]
  },
  {
   "cell_type": "code",
   "execution_count": 43,
   "id": "98e03e9a-a369-45b6-9dfd-71f038917d14",
   "metadata": {},
   "outputs": [],
   "source": [
    "# Metoda F-string"
   ]
  },
  {
   "cell_type": "code",
   "execution_count": 44,
   "id": "aae88237-0d47-4aaf-9ebf-c1b8aa505028",
   "metadata": {},
   "outputs": [
    {
     "data": {
      "text/plain": [
       "'test i zmienna=15 lub 1.23'"
      ]
     },
     "execution_count": 44,
     "metadata": {},
     "output_type": "execute_result"
    }
   ],
   "source": [
    "f'test i zmienna={zm1} lub {zm2}'"
   ]
  },
  {
   "cell_type": "code",
   "execution_count": 45,
   "id": "8a91f5f6-aa22-4f75-baaf-785b2ec8f8b9",
   "metadata": {},
   "outputs": [],
   "source": [
    "# Metoda '%' -> formatowanie przypominające printf w 'c i c++'\n",
    "# 'd' - Signed integer decimal.\n",
    "# 'i' - Signed integer decimal.\n",
    "# 'o' - Signed octal value.\n",
    "# 'u' - Obsolete type - it is identical to 'd'.\n",
    "# 'x' - Signed hexadecimal (lowercase).\n",
    "# 'X' - Signed hexadecimal (uppercase).\n",
    "# 'e' - Floating point exponential format (lowercase).\n",
    "# 'E' - Floating point exponential format (uppercase).\n",
    "# 'f' - Floating point decimal format.\n",
    "# 'F' - Floating point decimal format.\n",
    "# 'g' - Floating point format. Uses lowercase exponential format if exponent is less than -4 or not less than precision, decimal format otherwise.\n",
    "# 'G' - Floating point format. Uses uppercase exponential format if exponent is less than -4 or not less than precision, decimal format otherwise.\n",
    "# 'c' - Single character (accepts integer or single character string).\n",
    "# 'r' - String (converts any Python object using repr()).\n",
    "# 's' - String (converts any Python object using str()).\n",
    "# 'a' - String (converts any Python object using ascii()).\n",
    "# '%' - No argument is converted, results in a '%' character in the result."
   ]
  },
  {
   "cell_type": "code",
   "execution_count": 46,
   "id": "c6bd9780-7c30-4f04-8b91-e2ce93c0ef0b",
   "metadata": {},
   "outputs": [
    {
     "data": {
      "text/plain": [
       "'text 15 text 1.230000 text -1.230000'"
      ]
     },
     "execution_count": 46,
     "metadata": {},
     "output_type": "execute_result"
    }
   ],
   "source": [
    "'text %d text %f text %+f' % (zm1, zm2, zm3) "
   ]
  },
  {
   "cell_type": "code",
   "execution_count": 47,
   "id": "3728e9b8-b969-4423-b82a-dc090567dbd3",
   "metadata": {},
   "outputs": [
    {
     "data": {
      "text/plain": [
       "'text +15 text +1.230000 text -1.230000'"
      ]
     },
     "execution_count": 47,
     "metadata": {},
     "output_type": "execute_result"
    }
   ],
   "source": [
    "'text %+d text %+f text %+f' % (zm1, zm2, zm3) # formatowanie ze znakiem plus normalnie nie wyświetlanym"
   ]
  },
  {
   "cell_type": "code",
   "execution_count": 48,
   "id": "c2f94858-00e4-4249-bd8a-0894c955855b",
   "metadata": {},
   "outputs": [
    {
     "name": "stdout",
     "output_type": "stream",
     "text": [
      "text 015 text 1.230000\n",
      "text 0015 text   15\n",
      "text 1.230000\n"
     ]
    }
   ],
   "source": [
    "napis = 'text %03d text %f' % (zm1, zm2)\n",
    "print(napis)\n",
    "print('text %04d text % 4d' % (zm1, zm1)) # formatowanie, zero przed liczbą lub spacja przed liczbą\n",
    "print('text %f' % (zm2)) # formatowanie, zero przed liczbą lub spacja przed liczbą\n"
   ]
  },
  {
   "cell_type": "markdown",
   "id": "55b22f96-4594-4247-afde-8cff25528ac2",
   "metadata": {
    "jp-MarkdownHeadingCollapsed": true
   },
   "source": [
    "--------------------------------------------------------------------------------------------------------------------------\n",
    "#### Metody klasy String."
   ]
  },
  {
   "cell_type": "code",
   "execution_count": 49,
   "id": "aae2c409-8008-415f-9d54-988788a4b362",
   "metadata": {},
   "outputs": [],
   "source": [
    "# Dąstępne metody\n",
    "# dir(str) # dir to lista dostępnych metod w objekcie\n",
    "# help(str) # manual dla klasy"
   ]
  },
  {
   "cell_type": "code",
   "execution_count": 50,
   "id": "05670ce9-7f96-42d8-af23-c3bbbfc643e0",
   "metadata": {},
   "outputs": [],
   "source": [
    "napis = \" jakiś String - napis czy Coś... \""
   ]
  },
  {
   "cell_type": "code",
   "execution_count": 51,
   "id": "cbc705a1-b8c8-4dff-b1a7-4de6c56543ea",
   "metadata": {},
   "outputs": [
    {
     "data": {
      "text/plain": [
       "'Jakiś string - napis czy coś...'"
      ]
     },
     "execution_count": 51,
     "metadata": {},
     "output_type": "execute_result"
    }
   ],
   "source": [
    "# capitalize()\n",
    "# Konwertuje pierwszy znak na dużą literę.\n",
    "temp = napis.strip() # usunięcie biłego znaku z początku stringa\n",
    "temp.capitalize()"
   ]
  },
  {
   "cell_type": "code",
   "execution_count": 52,
   "id": "bb186910-3f22-4d4c-90d7-cc5e409403cf",
   "metadata": {},
   "outputs": [
    {
     "data": {
      "text/plain": [
       "'strasse'"
      ]
     },
     "execution_count": 52,
     "metadata": {},
     "output_type": "execute_result"
    }
   ],
   "source": [
    "# casefold()\n",
    "# Metoda jest używana do zamiany wszystkich liter łańcucha na małe litery i usuwać różnice wielkości liter \n",
    "# z różnych systemów pisma, np. usuwać różnice między literami łacińskimi i ich odpowiednikami w innych systemach pisma.\n",
    "# Różnica między casefold() a lower() polega na tym, że casefold() jest bardziej agresywny w usuwaniu różnic między literami \n",
    "# z różnych systemów pisma. Na przykład, litery \"ß\" (scharfes S, niemiecka litera eszet) \n",
    "# i \"ss\" są traktowane jako równe po zastosowaniu casefold(), podczas gdy lower() nie zmienia \"ß\" na \"ss\".\n",
    "text = \"Straße\"\n",
    "text.casefold()"
   ]
  },
  {
   "cell_type": "code",
   "execution_count": 53,
   "id": "ea9023d4-9f4b-415c-b4c2-252a91598e9c",
   "metadata": {},
   "outputs": [
    {
     "data": {
      "text/plain": [
       "'--------------------------------- jakiś String - napis czy Coś... ----------------------------------'"
      ]
     },
     "execution_count": 53,
     "metadata": {},
     "output_type": "execute_result"
    }
   ],
   "source": [
    "# center()\t\n",
    "# Metoda jest używana do wyrównywania łańcucha znaków w centrum określonej szerokości. \n",
    "# Ta metoda tworzy nowy łańcuch, który składa się z oryginalnego łańcucha, w którym dodane są spacje na początku i na końcu \n",
    "# w celu umieszczenia go w centrum określonej szerokości.\n",
    "napis.center(100, '-')"
   ]
  },
  {
   "cell_type": "code",
   "execution_count": 54,
   "id": "12db6296-bcf5-4322-9bc7-536e9b9a470e",
   "metadata": {},
   "outputs": [
    {
     "data": {
      "text/plain": [
       "3"
      ]
     },
     "execution_count": 54,
     "metadata": {},
     "output_type": "execute_result"
    }
   ],
   "source": [
    "# count()\n",
    "# Zwraca liczbę wystąpień określonej wartości w ciągu znaków.\n",
    "napis.count('i')"
   ]
  },
  {
   "cell_type": "code",
   "execution_count": 55,
   "id": "c6fbc8f5-0eda-4bb4-8d1f-fb896a01aa5e",
   "metadata": {},
   "outputs": [
    {
     "name": "stdout",
     "output_type": "stream",
     "text": [
      "b' jaki\\xc5\\x9b String - napis czy Co\\xc5\\x9b... '\n",
      "b'\\xff\\xfe \\x00j\\x00a\\x00k\\x00i\\x00[\\x01 \\x00S\\x00t\\x00r\\x00i\\x00n\\x00g\\x00 \\x00-\\x00 \\x00n\\x00a\\x00p\\x00i\\x00s\\x00 \\x00c\\x00z\\x00y\\x00 \\x00C\\x00o\\x00[\\x01.\\x00.\\x00.\\x00 \\x00'\n",
      "b' jaki\\x9c String - napis czy Co\\x9c... '\n"
     ]
    }
   ],
   "source": [
    "# encode()\t\n",
    "# Metoda służy do kodowania łańcucha znaków w określonym formacie bajtowym (np. UTF-8, ASCII, UTF-16). \n",
    "# Zwraca ona sekwencję bajtów reprezentującą zakodowany łańcuch znaków.\n",
    "import encodings\n",
    "encoded_text = napis.encode(\"utf-8\")\n",
    "print(encoded_text)\n",
    "encoded_text = napis.encode(\"utf-16\")\n",
    "print(encoded_text)\n",
    "encoded_text = napis.encode(\"cp1250\")\n",
    "print(encoded_text)"
   ]
  },
  {
   "cell_type": "code",
   "execution_count": 56,
   "id": "0cded373-4a2e-4deb-bafe-7ba6c468ede3",
   "metadata": {},
   "outputs": [],
   "source": [
    "# Możliwe kodowania znaków\n",
    "# import encodings\n",
    "# encodings.aliases.aliases"
   ]
  },
  {
   "cell_type": "code",
   "execution_count": 57,
   "id": "719378f2-4d7c-401d-9994-32b233b6a322",
   "metadata": {},
   "outputs": [
    {
     "name": "stdout",
     "output_type": "stream",
     "text": [
      "False\n"
     ]
    }
   ],
   "source": [
    "# endswith()\n",
    "# Zwraca wartość true, jeśli ciąg znaków kończy się podaną wartością.\n",
    "print(napis.endswith('.'))  # czy kończy się na"
   ]
  },
  {
   "cell_type": "code",
   "execution_count": 58,
   "id": "960ba9fd-f01f-4020-b29e-b30b455b0411",
   "metadata": {},
   "outputs": [
    {
     "name": "stdout",
     "output_type": "stream",
     "text": [
      "aaa\tbbb\tccc\n",
      "aaa                 bbb                 ccc\n",
      "aaa bbb ccc\n"
     ]
    }
   ],
   "source": [
    "# expandtabs()\t\n",
    "# Metoda służy do zamiany znaków tabulacji (\\t) w łańcuchu na określoną liczbę spacji. \n",
    "# Domyślnie, każda tabulacja jest zamieniana na 8 spacji, ale można określić niestandardową szerokość przekształcenia.\n",
    "text = 'aaa\\tbbb\\tccc'\n",
    "print(text)\n",
    "ex_text = text.expandtabs(tabsize=20)\n",
    "print(ex_text)\n",
    "ex_text = text.expandtabs(tabsize=2)\n",
    "print(ex_text)"
   ]
  },
  {
   "cell_type": "code",
   "execution_count": 59,
   "id": "0d58af46-d54f-4738-a243-564051c7b386",
   "metadata": {},
   "outputs": [
    {
     "name": "stdout",
     "output_type": "stream",
     "text": [
      "0\n",
      "6\n"
     ]
    }
   ],
   "source": [
    "# find()\n",
    "# Przeszukuje ciąg znaków w poszukiwaniu określonej wartości i zwraca pozycję, w której została ona znaleziona.\n",
    "print(napis.find(' '))   # -1 jak nie znajdzie\n",
    "print(napis.find(' ', 6, 10))  # znajdź w wycinku, -1 jak nie znajdzie"
   ]
  },
  {
   "cell_type": "code",
   "execution_count": 60,
   "id": "906f2b34-3f92-45f4-a18e-6a83f3257e62",
   "metadata": {},
   "outputs": [
    {
     "name": "stdout",
     "output_type": "stream",
     "text": [
      "Cześć, nazywam się John, mam 30 lat.\n"
     ]
    }
   ],
   "source": [
    "# format() -> Przykłady w Typ tekstowy: str.\n",
    "# Metoda służy do formatowania łańcuchów znaków. \n",
    "# Pozwala ona na dynamiczne wstawianie wartości zmiennych do łańcucha znaków poprzez specjalne znaczniki zastępowania.\n",
    "\n",
    "# formatted_string = \"Tekst do sformatowania: {}\".format(wartość)\n",
    "# gdzie:\n",
    "# '{}' jest miejscem, w którym zostanie wstawiona wartość zmiennej.\n",
    "# wartość jest wartością, która zostanie wstawiona w miejsce '{}'.\n",
    "name = \"John\"\n",
    "age = 30\n",
    "formatted_string = \"Cześć, nazywam się {}, mam {} lat.\".format(name, age)\n",
    "print(formatted_string)"
   ]
  },
  {
   "cell_type": "code",
   "execution_count": 61,
   "id": "89938804-23aa-4d14-b39c-ebcfc492be29",
   "metadata": {},
   "outputs": [
    {
     "name": "stdout",
     "output_type": "stream",
     "text": [
      "Dane: Wartość1, Wartość2\n"
     ]
    }
   ],
   "source": [
    "# format_map()\n",
    "# Metoda jest podobna do metody format(), ale przyjmuje ona jako argument słownik zawierający pary klucz-wartość, \n",
    "# które są używane do sformatowania łańcucha znaków. Klucze w słowniku odpowiadają klamrom {} w łańcuchu formatującym.\n",
    "\n",
    "# formatted_string = \"Tekst do sformatowania: {key1}\".format_map(słownik)\n",
    "# gdzie:\n",
    "# '{key1}' jest kluczem, który zostanie zastąpiony wartością ze słownika.\n",
    "# słownik jest słownikiem zawierającym pary klucz-wartość do formatowania łańcucha.\n",
    "data = {'key1': 'Wartość1', 'key2': 'Wartość2'}\n",
    "formatted_string = \"Dane: {key1}, {key2}\".format_map(data)\n",
    "print(formatted_string)"
   ]
  },
  {
   "cell_type": "code",
   "execution_count": 62,
   "id": "55e76e57-f6df-46a2-9306-d0e61a455aa4",
   "metadata": {},
   "outputs": [
    {
     "name": "stdout",
     "output_type": "stream",
     "text": [
      "0\n",
      "6\n"
     ]
    }
   ],
   "source": [
    "# Przeszukuje ciąg znaków w poszukiwaniu określonej wartości i zwraca pozycję, w której została ona znaleziona.\n",
    "print(napis.index(' '))  # jak nieznajdzie to error\n",
    "print(napis.index(' ', 6, 10)) # znajdź w wycinku jak nieznajdzie to error"
   ]
  },
  {
   "cell_type": "code",
   "execution_count": 63,
   "id": "3c187859-f7e0-4f41-b4b5-6057ced78194",
   "metadata": {},
   "outputs": [
    {
     "name": "stdout",
     "output_type": "stream",
     "text": [
      "True\n",
      "False\n",
      "True\n",
      "False\n"
     ]
    }
   ],
   "source": [
    "# isalnum()\t\n",
    "# Metoda jest używana do sprawdzania, czy wszystkie znaki w łańcuchu są alfanumeryczne, \n",
    "# czyli czy składają się wyłącznie z liter i/lub cyfr. \n",
    "# Zwraca wartość logiczną True, jeśli wszystkie znaki są alfanumeryczne, a w przeciwnym razie zwraca False.\n",
    "text1 = \"Hello123\"\n",
    "text2 = \"Hello 123\"\n",
    "text3 = \"123\"\n",
    "text4 = \"Hello!\"\n",
    "print(text1.isalnum())  \n",
    "print(text2.isalnum())  \n",
    "print(text3.isalnum())  \n",
    "print(text4.isalnum())  "
   ]
  },
  {
   "cell_type": "code",
   "execution_count": 64,
   "id": "17a0c0a2-c684-40b6-a264-da22e1d0a376",
   "metadata": {},
   "outputs": [
    {
     "name": "stdout",
     "output_type": "stream",
     "text": [
      "True\n",
      "False\n",
      "False\n",
      "False\n"
     ]
    }
   ],
   "source": [
    "# isalpha()\t\n",
    "# Metoda jest używana do sprawdzania, czy wszystkie znaki w łańcuchu są literami alfabetu. \n",
    "# Zwraca wartość logiczną True, jeśli wszystkie znaki są literami, a w przeciwnym razie zwraca False.\n",
    "text1 = \"Hello\"\n",
    "text2 = \"Hello123\"\n",
    "text3 = \"123\"\n",
    "text4 = \"Hello!\"\n",
    "print(text1.isalpha()) \n",
    "print(text2.isalpha()) \n",
    "print(text3.isalpha()) \n",
    "print(text4.isalpha()) "
   ]
  },
  {
   "cell_type": "code",
   "execution_count": 65,
   "id": "739c98de-55aa-4f26-a3e2-35b3605ae847",
   "metadata": {},
   "outputs": [
    {
     "name": "stdout",
     "output_type": "stream",
     "text": [
      "True\n",
      "False\n",
      "True\n"
     ]
    }
   ],
   "source": [
    "# isascii()\t\n",
    "# Metoda sprawdza, czy wszystkie znaki w łańcuchu są znakami ASCII (American Standard Code for Information Interchange). \n",
    "# Zwraca True, jeśli wszystkie znaki są znakami ASCII, a w przeciwnym razie zwraca False.\n",
    "text1 = \"Hello\"\n",
    "text2 = \"Привет\"\n",
    "text3 = \"Hello123\"\n",
    "print(text1.isascii()) \n",
    "print(text2.isascii()) \n",
    "print(text3.isascii()) "
   ]
  },
  {
   "cell_type": "code",
   "execution_count": 66,
   "id": "f4a8297a-9736-46fa-924e-48f80b0acc0b",
   "metadata": {},
   "outputs": [
    {
     "name": "stdout",
     "output_type": "stream",
     "text": [
      "True\n",
      "False\n",
      "False\n"
     ]
    }
   ],
   "source": [
    "# isdecimal()\t\n",
    "# Metoda jest używana do sprawdzenia, czy wszystkie znaki w łańcuchu są cyframi dziesiętnymi (0-9). \n",
    "# Zwraca True, jeśli wszystkie znaki są cyframi dziesiętnymi, a w przeciwnym razie zwraca False.\n",
    "text1 = \"12345\"\n",
    "text2 = \"123.45\"\n",
    "text3 = \"Hello\"\n",
    "print(text1.isdecimal())  \n",
    "print(text2.isdecimal())  \n",
    "print(text3.isdecimal())  "
   ]
  },
  {
   "cell_type": "code",
   "execution_count": 67,
   "id": "e21f7efe-2de8-4749-b747-67b7b09ef05d",
   "metadata": {},
   "outputs": [
    {
     "name": "stdout",
     "output_type": "stream",
     "text": [
      "True\n",
      "False\n",
      "True\n",
      "False\n"
     ]
    }
   ],
   "source": [
    "# isdigit()\t\n",
    "# Metoda isdigit() w języku Python jest podobna do metody isdecimal(), ale bardziej ogólna. \n",
    "# Sprawdza ona, czy wszystkie znaki w łańcuchu są cyframi (0-9). \n",
    "# Zwraca True, jeśli wszystkie znaki są cyframi, a w przeciwnym razie zwraca False.\n",
    "# Różnica między isdigit() a isdecimal() polega na tym, że isdigit() rozpoznaje również inne znaki, \n",
    "# które są uznawane za cyfry w różnych systemach pisma, takie jak indeksy górne, dolne indeksy i cyfry romanskie.\n",
    "text1 = \"12345\"\n",
    "text2 = \"123.45\"\n",
    "text3 = \"١٢٣٤٥\"\n",
    "text4 = \"IV\"\n",
    "print(text1.isdigit()) \n",
    "print(text2.isdigit()) \n",
    "print(text3.isdigit()) \n",
    "print(text4.isdigit())"
   ]
  },
  {
   "cell_type": "code",
   "execution_count": 68,
   "id": "e591d87c-fe77-402e-b609-95dbe5d4737e",
   "metadata": {},
   "outputs": [
    {
     "name": "stdout",
     "output_type": "stream",
     "text": [
      "True\n",
      "False\n",
      "True\n",
      "True\n",
      "False\n"
     ]
    }
   ],
   "source": [
    "# isidentifier()\t\n",
    "# Metoda sprawdza, czy podany łańcuch jest poprawnym identyfikatorem (nazwą) w Pythonie. \n",
    "# Zgodnie z regułami identyfikator musi spełniać następujące kryteria:\n",
    "# - Rozpoczynać się literą (a-z, A-Z) lub podkreśleniem (_).\n",
    "# - Składać się z liter, cyfr (0-9) i/lub podkreśleń (_).\n",
    "# - Nie zawierać spacji ani innych znaków specjalnych.\n",
    "# Zwraca True, jeśli łańcuch spełnia te kryteria i jest poprawnym identyfikatorem w Pythonie, a w przeciwnym razie zwraca False.\n",
    "text1 = \"variable_name\"\n",
    "text2 = \"123variable\"\n",
    "text3 = \"_variable\"\n",
    "text4 = \"for\"\n",
    "text5 = \"hello world\"\n",
    "print(text1.isidentifier()) \n",
    "print(text2.isidentifier()) \n",
    "print(text3.isidentifier()) \n",
    "print(text4.isidentifier()) \n",
    "print(text5.isidentifier()) "
   ]
  },
  {
   "cell_type": "code",
   "execution_count": 69,
   "id": "2017d485-9158-45a8-a11c-4a65fc3aa392",
   "metadata": {},
   "outputs": [
    {
     "name": "stdout",
     "output_type": "stream",
     "text": [
      "True\n",
      "False\n",
      "True\n"
     ]
    }
   ],
   "source": [
    "# islower()\t\n",
    "# Metoda jest używana do sprawdzenia, czy wszystkie litery w łańcuchu są małymi literami. \n",
    "# Zwraca True, jeśli wszystkie litery w łańcuchu są małymi literami, a przynajmniej jedna z liter jest wielka, zwraca False.\n",
    "text1 = \"hello\"\n",
    "text2 = \"Hello\"\n",
    "text3 = \"hello123\"\n",
    "print(text1.islower()) \n",
    "print(text2.islower())  \n",
    "print(text3.islower()) "
   ]
  },
  {
   "cell_type": "code",
   "execution_count": 70,
   "id": "159e8413-177e-4954-a9d8-15345af40fbd",
   "metadata": {},
   "outputs": [
    {
     "name": "stdout",
     "output_type": "stream",
     "text": [
      "True\n",
      "False\n",
      "True\n"
     ]
    }
   ],
   "source": [
    "# isnumeric()\n",
    "# Metoda jest używana do sprawdzenia, czy wszystkie znaki w łańcuchu są numeryczne (cyfry), czyli czy można je interpretować jako liczby. \n",
    "# Zwraca True, jeśli wszystkie znaki w łańcuchu są numeryczne, a w przeciwnym razie zwraca False.\n",
    "text1 = \"12345\"\n",
    "text2 = \"123.45\"\n",
    "text3 = \"١٢٣٤٥\"\n",
    "print(text1.isnumeric()) \n",
    "print(text2.isnumeric())  \n",
    "print(text3.isnumeric()) "
   ]
  },
  {
   "cell_type": "code",
   "execution_count": 71,
   "id": "102df0ce-079f-4d56-a1d1-a2947490d017",
   "metadata": {},
   "outputs": [
    {
     "name": "stdout",
     "output_type": "stream",
     "text": [
      "True\n",
      "False\n",
      "False\n"
     ]
    }
   ],
   "source": [
    "# isprintable()\t\n",
    "# Metoda służy do sprawdzenia, czy wszystkie znaki w łańcuchu są drukowalne, \n",
    "# czyli czy można je wyświetlić na ekranie (tj. nie są znakami specjalnymi ani znakami sterującymi). \n",
    "# Zwraca True, jeśli wszystkie znaki w łańcuchu są drukowalne, a w przeciwnym razie zwraca False.\n",
    "text1 = \"Hello, world!\"\n",
    "text2 = \"Hello\\nworld\"\n",
    "text3 = \"\\tHello world\"\n",
    "print(text1.isprintable()) \n",
    "print(text2.isprintable())\n",
    "print(text3.isprintable()) "
   ]
  },
  {
   "cell_type": "code",
   "execution_count": 72,
   "id": "6f3009d1-5ed8-42da-b80e-8d2ea0a0c976",
   "metadata": {},
   "outputs": [
    {
     "name": "stdout",
     "output_type": "stream",
     "text": [
      "True\n",
      "False\n",
      "True\n"
     ]
    }
   ],
   "source": [
    "# isspace()\t\n",
    "# Metoda służy do sprawdzenia, czy wszystkie znaki w łańcuchu są spacjami (białymi znakami). \n",
    "# Zwraca True, jeśli wszystkie znaki w łańcuchu są spacjami, a w przeciwnym razie zwraca False.\n",
    "text1 = \"    \"\n",
    "text2 = \"hello world\"\n",
    "text3 = \"\\t\\n\"\n",
    "print(text1.isspace())\n",
    "print(text2.isspace())\n",
    "print(text3.isspace())"
   ]
  },
  {
   "cell_type": "code",
   "execution_count": 73,
   "id": "e1e6327c-c3ab-46a2-9c5f-908a03e9c8ed",
   "metadata": {},
   "outputs": [
    {
     "name": "stdout",
     "output_type": "stream",
     "text": [
      "True\n",
      "False\n",
      "False\n",
      "False\n"
     ]
    }
   ],
   "source": [
    "# istitle()\t\n",
    "# Metoda jest używana do sprawdzenia, czy każde słowo w łańcuchu zaczyna się wielką literą, a pozostałe litery są małe. \n",
    "# Zwraca True, jeśli warunek ten jest spełniony dla każdego słowa w łańcuchu, a w przeciwnym razie zwraca False.\n",
    "text1 = \"Hello World\"\n",
    "text2 = \"Hello world\"\n",
    "text3 = \"hello World\"\n",
    "text4 = \"hello world 123\"\n",
    "print(text1.istitle())\n",
    "print(text2.istitle())\n",
    "print(text3.istitle())\n",
    "print(text4.istitle())"
   ]
  },
  {
   "cell_type": "code",
   "execution_count": 74,
   "id": "f06c5204-b76b-4df0-9020-0c9c420543ab",
   "metadata": {},
   "outputs": [
    {
     "name": "stdout",
     "output_type": "stream",
     "text": [
      "True\n",
      "False\n",
      "False\n"
     ]
    }
   ],
   "source": [
    "# isupper()\t\n",
    "# Metoda służy do sprawdzenia, czy wszystkie litery w łańcuchu są wielkimi literami (zapisanymi kapitalikami). \n",
    "# Zwraca True, jeśli wszystkie litery w łańcuchu są wielkimi literami, a przynajmniej jedna z liter jest mała, zwraca False.\n",
    "text1 = \"HELLO\"\n",
    "text2 = \"Hello\"\n",
    "text3 = \"12345\"\n",
    "print(text1.isupper())\n",
    "print(text2.isupper())\n",
    "print(text3.isupper())"
   ]
  },
  {
   "cell_type": "code",
   "execution_count": 75,
   "id": "e655ed34-7ebe-4cb0-a79c-5c1f3c32ced4",
   "metadata": {},
   "outputs": [
    {
     "data": {
      "text/plain": [
       "'apple, banana, orange'"
      ]
     },
     "execution_count": 75,
     "metadata": {},
     "output_type": "execute_result"
    }
   ],
   "source": [
    "# join()\n",
    "# Metoda jest używana do łączenia elementów iterowalnych (np. listy, krotki, zbiory) w jednym łańcuchu znaków. \n",
    "# Metoda ta jest wywoływana na łańcuchu, który zostaje użyty jako separator pomiędzy elementami łączonymi.\n",
    "my_list = [\"apple\", \"banana\", \"orange\"]\n",
    "separator = \", \"\n",
    "separator.join(my_list)"
   ]
  },
  {
   "cell_type": "code",
   "execution_count": 76,
   "id": "e1e5dcd5-72ae-4c99-9111-f9552aa430ca",
   "metadata": {},
   "outputs": [
    {
     "data": {
      "text/plain": [
       "'hello     '"
      ]
     },
     "execution_count": 76,
     "metadata": {},
     "output_type": "execute_result"
    }
   ],
   "source": [
    "# ljust()\t\n",
    "# Metoda służy do wyrównywania łańcucha do lewej, poprzez dodanie określonej liczby spacji \n",
    "# lub innego określonego znaku na końcu łańcucha, aby uzyskać określoną długość.\n",
    "# string.ljust(width, fillchar)\n",
    "text = \"hello\"\n",
    "text.ljust(10)"
   ]
  },
  {
   "cell_type": "code",
   "execution_count": 77,
   "id": "291ed0dd-654e-4e64-9c13-741854aef73c",
   "metadata": {},
   "outputs": [
    {
     "name": "stdout",
     "output_type": "stream",
     "text": [
      " jakiś string - napis czy coś... \n"
     ]
    }
   ],
   "source": [
    "# lower()\n",
    "# Konwertuje ciąg znaków na małe litery\n",
    "print(napis.lower())"
   ]
  },
  {
   "cell_type": "code",
   "execution_count": 78,
   "id": "ec8a03a5-ae87-41e9-8b00-cf04fa813a82",
   "metadata": {},
   "outputs": [
    {
     "data": {
      "text/plain": [
       "'Hello World   '"
      ]
     },
     "execution_count": 78,
     "metadata": {},
     "output_type": "execute_result"
    }
   ],
   "source": [
    "# lstrip()\t\n",
    "# Metoda służy do usuwania określonych znaków (domyślnie spacji) z lewej strony łańcucha.\n",
    "# string.lstrip(characters)\n",
    "text = \"   Hello World   \"\n",
    "text.lstrip()"
   ]
  },
  {
   "cell_type": "code",
   "execution_count": 79,
   "id": "0fe63e71-4157-4a66-bffd-b9b69706c32e",
   "metadata": {},
   "outputs": [
    {
     "name": "stdout",
     "output_type": "stream",
     "text": [
      "hello world xyz\n"
     ]
    }
   ],
   "source": [
    "# maketrans()\t\n",
    "# Metoda służy do tworzenia tabeli translacji, która jest później wykorzystywana do zamiany znaków w łańcuchu.\n",
    "# str.maketrans(x, y, z)\n",
    "# x to łańcuch znaków, które chcemy zamienić.\n",
    "# y to łańcuch znaków, które chcemy użyć jako zastępniki.\n",
    "# z to łańcuch znaków, które chcemy usunąć.\n",
    "# Metoda maketrans() zwraca obiekt typu dict, który jest tabelą translacji, która może być użyta w metodzie translate() do zamiany znaków.\n",
    "x = \"abc\"\n",
    "y = \"xyz\"\n",
    "z = \"123\"\n",
    "translation_table = str.maketrans(x, y, z)\n",
    "text = \"hello world 123abc\"\n",
    "translated_text = text.translate(translation_table)\n",
    "print(translated_text) "
   ]
  },
  {
   "cell_type": "code",
   "execution_count": 80,
   "id": "8bd26b86-b451-4da5-88ca-173f6ca87dda",
   "metadata": {},
   "outputs": [
    {
     "data": {
      "text/plain": [
       "('hello', ' ', 'world')"
      ]
     },
     "execution_count": 80,
     "metadata": {},
     "output_type": "execute_result"
    }
   ],
   "source": [
    "# partition()\t\n",
    "# Metoda dzieli łańcuch na trzy części na podstawie podanego separatora. \n",
    "# Zwraca trzyelementową krotkę zawierającą część przed separatorem, sam separator (jeśli występuje w łańcuchu) i część po separatorze. \n",
    "# Jeśli separator nie występuje w łańcuchu, zwracane są: łańcuch oryginalny, pusty łańcuch oraz pusty łańcuch.\n",
    "# string.partition(separator)\n",
    "text = \"hello world\"\n",
    "text.partition(\" \")"
   ]
  },
  {
   "cell_type": "code",
   "execution_count": 81,
   "id": "c2156b0e-7cff-4203-8d89-cedb2d8029b7",
   "metadata": {},
   "outputs": [
    {
     "name": "stdout",
     "output_type": "stream",
     "text": [
      " jakiś String - napis czy Coś!!! \n",
      " jakiś String - napis czy Coś... \n"
     ]
    }
   ],
   "source": [
    "# replace()\n",
    "# Zwraca ciąg znaków, w którym określona wartość jest zastępowana określoną wartością.\n",
    "# string.replace(old, new[, count])\n",
    "# old to podłańcuch, który chcemy zastąpić.\n",
    "# new to podłańcuch, którym chcemy zastąpić old.\n",
    "# count (opcjonalny) to liczba określająca maksymalną liczbę zamian do wykonania. Jeśli nie jest podane, wszystkie wystąpienia old zostaną zastąpione przez new.\n",
    "print(napis.replace('.', '!'))  # zamiana\n",
    "print(napis.replace('string', 'str'))  # zamiana"
   ]
  },
  {
   "cell_type": "code",
   "execution_count": 82,
   "id": "70c96a4a-0bb4-41a8-81bf-ec654fa83e33",
   "metadata": {},
   "outputs": [
    {
     "data": {
      "text/plain": [
       "12"
      ]
     },
     "execution_count": 82,
     "metadata": {},
     "output_type": "execute_result"
    }
   ],
   "source": [
    "# rfind()\t\n",
    "# Metoda jest używana do znalezienia ostatniego wystąpienia określonego podłańcucha w łańcuchu. \n",
    "# Zwraca indeks (pozycję) ostatniego wystąpienia podłańcucha lub -1, jeśli podłańcuch nie został znaleziony.\n",
    "# string.rfind(sub[, start[, end]])\n",
    "text = \"hello world hello\"\n",
    "text.rfind(\"hello\")"
   ]
  },
  {
   "cell_type": "code",
   "execution_count": 83,
   "id": "e8539ec2-f54b-4f73-afcb-d38e34c89d27",
   "metadata": {},
   "outputs": [
    {
     "data": {
      "text/plain": [
       "12"
      ]
     },
     "execution_count": 83,
     "metadata": {},
     "output_type": "execute_result"
    }
   ],
   "source": [
    "# rindex()\t\n",
    "# Metoda rindex() w języku Python jest bardzo podobna do metody rfind(), \n",
    "# ale zamiast zwracać -1, gdy podłańcuch nie zostanie znaleziony, podnosi wyjątek ValueError.\n",
    "text = \"hello world hello\"\n",
    "text.rindex(\"hello\")"
   ]
  },
  {
   "cell_type": "code",
   "execution_count": 84,
   "id": "4123092d-4751-4092-aca7-2e3ba76faf10",
   "metadata": {},
   "outputs": [
    {
     "data": {
      "text/plain": [
       "'     hello'"
      ]
     },
     "execution_count": 84,
     "metadata": {},
     "output_type": "execute_result"
    }
   ],
   "source": [
    "# rjust()\t\n",
    "# Metoda służy do wyrównywania łańcucha do prawej strony poprzez dodanie określonej liczby spacji \n",
    "# lub innego określonego znaku na początku łańcucha, aby uzyskać określoną długość.\n",
    "# string.rjust(width, fillchar)\n",
    "text = \"hello\"\n",
    "text.rjust(10)"
   ]
  },
  {
   "cell_type": "code",
   "execution_count": 85,
   "id": "08194b3b-4ddc-4cd3-b643-d2c460e6c8dc",
   "metadata": {},
   "outputs": [
    {
     "data": {
      "text/plain": [
       "('hello', ' ', 'world')"
      ]
     },
     "execution_count": 85,
     "metadata": {},
     "output_type": "execute_result"
    }
   ],
   "source": [
    "# rpartition()\t\n",
    "# Metoda rpartition() w języku Python działa podobnie do metody partition(), ale zamiast wyszukiwać od lewej do prawej, \n",
    "# zaczyna od prawej strony i dzieli łańcuch na trzy części na podstawie podanego separatora. \n",
    "# Zwraca trzyelementową krotkę zawierającą część przed separatorem, sam separator (jeśli występuje w łańcuchu) i część po separatorze. \n",
    "# Jeśli separator nie występuje w łańcuchu, zwracane są: pusty łańcuch, pusty łańcuch oraz oryginalny łańcuch.\n",
    "# string.rpartition(separator)\n",
    "text = \"hello world\"\n",
    "text.rpartition(\" \")"
   ]
  },
  {
   "cell_type": "code",
   "execution_count": 86,
   "id": "1012a648-f6e0-40d4-89eb-920fd25c1196",
   "metadata": {},
   "outputs": [
    {
     "data": {
      "text/plain": [
       "['apple', 'banana', 'orange']"
      ]
     },
     "execution_count": 86,
     "metadata": {},
     "output_type": "execute_result"
    }
   ],
   "source": [
    "# rsplit()\t\n",
    "# Metoda służy do dzielenia łańcucha na podłańcuchy, zaczynając od prawej strony i dzieląc go na podstawie określonego separatora. \n",
    "# Zwraca listę podłańcuchów.\n",
    "text = \"apple,banana,orange\"\n",
    "text.rsplit(\",\")"
   ]
  },
  {
   "cell_type": "code",
   "execution_count": 87,
   "id": "d1e55b20-c9a9-44ce-970c-c369279d0cf5",
   "metadata": {},
   "outputs": [
    {
     "data": {
      "text/plain": [
       "'   Hello World'"
      ]
     },
     "execution_count": 87,
     "metadata": {},
     "output_type": "execute_result"
    }
   ],
   "source": [
    "# rstrip()\t\n",
    "# Metoda służy do usuwania określonych znaków (domyślnie spacji) z prawej strony łańcucha.\n",
    "# string.rstrip(characters)\n",
    "text = \"   Hello World   \"\n",
    "text.rstrip()"
   ]
  },
  {
   "cell_type": "code",
   "execution_count": 88,
   "id": "76b15ede-012a-408d-9ff2-e673011dcac1",
   "metadata": {},
   "outputs": [
    {
     "name": "stdout",
     "output_type": "stream",
     "text": [
      "['', 'jakiś', 'String', '-', 'napis', 'czy', 'Coś...', '']\n"
     ]
    }
   ],
   "source": [
    "# split()\n",
    "# Dzieli ciąg znaków na określony separator i zwraca listę.  \n",
    "print(napis.split(' ')) "
   ]
  },
  {
   "cell_type": "code",
   "execution_count": 89,
   "id": "a69bb3d1-f05b-47c6-84f8-9f5a1b0e1185",
   "metadata": {},
   "outputs": [
    {
     "data": {
      "text/plain": [
       "['hello', 'world']"
      ]
     },
     "execution_count": 89,
     "metadata": {},
     "output_type": "execute_result"
    }
   ],
   "source": [
    "# splitlines()\t\n",
    "# Metoda służy do dzielenia łańcucha na podłańcuchy na podstawie znaków nowej linii (\"\\n\") lub ich kombinacji. Zwraca listę podłańcuchów.\n",
    "text = \"hello\\nworld\\n\"\n",
    "text.splitlines()"
   ]
  },
  {
   "cell_type": "code",
   "execution_count": 90,
   "id": "d776ebe1-ef7f-4a6d-b907-c292d287a7c2",
   "metadata": {},
   "outputs": [
    {
     "data": {
      "text/plain": [
       "'hello world'"
      ]
     },
     "execution_count": 90,
     "metadata": {},
     "output_type": "execute_result"
    }
   ],
   "source": [
    "# startswith()\n",
    "# Metoda  w języku Python służy do sprawdzenia, czy łańcuch rozpoczyna się od określonego podłańcucha. \n",
    "# Zwraca wartość logiczną True, jeśli łańcuch rozpoczyna się od podłańcucha, a w przeciwnym razie False.\n",
    "# string.startswith(prefix[, start[, end]])\n",
    "# gdzie:\n",
    "# 'prefix' to podłańcuch, który chcemy sprawdzić, czy łańcuch go rozpoczyna.\n",
    "# 'start' (opcjonalny) to indeks, od którego zaczynamy sprawdzanie. Domyślnie jest to indeks 0.\n",
    "# 'end' (opcjonalny) to indeks, na którym kończymy sprawdzanie. Domyślnie jest to długość łańcucha.\n",
    "text = \"   hello world   \"\n",
    "text.strip()"
   ]
  },
  {
   "cell_type": "code",
   "execution_count": 91,
   "id": "256118ab-fdae-47f0-a2cd-cd34b9c8891e",
   "metadata": {},
   "outputs": [
    {
     "data": {
      "text/plain": [
       "'hello world'"
      ]
     },
     "execution_count": 91,
     "metadata": {},
     "output_type": "execute_result"
    }
   ],
   "source": [
    "text = \"----hello world----\"\n",
    "text.strip(\"-\")"
   ]
  },
  {
   "cell_type": "code",
   "execution_count": 92,
   "id": "b0551c18-35da-45e8-a2c1-aaa654135ca8",
   "metadata": {},
   "outputs": [
    {
     "data": {
      "text/plain": [
       "'jakiś String - napis czy Coś...'"
      ]
     },
     "execution_count": 92,
     "metadata": {},
     "output_type": "execute_result"
    }
   ],
   "source": [
    "# strip()\n",
    "# Metoda służy do usuwania określonych znaków (domyślnie spacji) z początku i końca łańcucha.\n",
    "# string.strip(characters)\n",
    "napis.strip()"
   ]
  },
  {
   "cell_type": "code",
   "execution_count": 93,
   "id": "ee09b3e5-a6de-4131-bc8d-b1ee50bf3d7f",
   "metadata": {},
   "outputs": [
    {
     "data": {
      "text/plain": [
       "'hELLO wORLD'"
      ]
     },
     "execution_count": 93,
     "metadata": {},
     "output_type": "execute_result"
    }
   ],
   "source": [
    "# swapcase()\n",
    "# Metoda służy do zamiany wielkości liter w łańcuchu: małe litery zamieniane są na duże, a duże litery zamieniane są na małe.\n",
    "text = \"Hello World\"\n",
    "text.swapcase()"
   ]
  },
  {
   "cell_type": "code",
   "execution_count": 94,
   "id": "91f4fa50-806c-45bd-92bc-bcd8a0d5ab0b",
   "metadata": {},
   "outputs": [
    {
     "data": {
      "text/plain": [
       "'Hello World'"
      ]
     },
     "execution_count": 94,
     "metadata": {},
     "output_type": "execute_result"
    }
   ],
   "source": [
    "# title()\t\n",
    "# Metoda służy do zamiany pierwszej litery każdego słowa w łańcuchu na wielką literę, a wszystkich pozostałych liter na małe litery.\n",
    "text = \"hello world\"\n",
    "text.title()"
   ]
  },
  {
   "cell_type": "code",
   "execution_count": 95,
   "id": "4866e6e6-254b-4423-9538-ce41e7af23e5",
   "metadata": {},
   "outputs": [
    {
     "data": {
      "text/plain": [
       "'h2ll4'"
      ]
     },
     "execution_count": 95,
     "metadata": {},
     "output_type": "execute_result"
    }
   ],
   "source": [
    "# translate()\t\n",
    "# Metoda służy do tłumaczenia znaków w łańcuchu na podstawie podanej tabeli translacji. \n",
    "# Jest to zaawansowana metoda, która może być używana do wielu różnych celów, ale często jest stosowana do zamiany jednego zestawu znaków na inny.\n",
    "# string.translate(table) table to tabela translacji, którą można utworzyć za pomocą funkcji str.maketrans() lub bytes.maketrans().\n",
    "text = \"hello\"\n",
    "translation_table = str.maketrans(\"aeiou\", \"12345\")\n",
    "text.translate(translation_table)"
   ]
  },
  {
   "cell_type": "code",
   "execution_count": 96,
   "id": "bf190911-be4e-4de3-aa0d-fb6d5909aab7",
   "metadata": {},
   "outputs": [
    {
     "data": {
      "text/plain": [
       "' JAKIŚ STRING - NAPIS CZY COŚ... '"
      ]
     },
     "execution_count": 96,
     "metadata": {},
     "output_type": "execute_result"
    }
   ],
   "source": [
    "# Konwertuje ciąg znaków na duże litery.\n",
    "napis.upper()"
   ]
  },
  {
   "cell_type": "code",
   "execution_count": 97,
   "id": "d499213b-19dc-461c-9db2-f9979cddad42",
   "metadata": {},
   "outputs": [
    {
     "data": {
      "text/plain": [
       "'00042'"
      ]
     },
     "execution_count": 97,
     "metadata": {},
     "output_type": "execute_result"
    }
   ],
   "source": [
    "# zfill()\n",
    "# Metoda służy do wypełniania łańcucha zerami z lewej strony, aby uzyskać łańcuch o określonej długości. \n",
    "# Jest to przydatne w celu uzyskania łańcucha o stałej szerokości, szczególnie gdy liczby są reprezentowane jako ciągi znaków.\n",
    "# string.zfill(width)\n",
    "number = \"42\"\n",
    "number.zfill(5)"
   ]
  },
  {
   "cell_type": "markdown",
   "id": "1e49a2aa-5276-43e9-91ad-616006ba195b",
   "metadata": {},
   "source": [
    "--------------------------------------------------------------------------------------------------------------------------\n",
    "#### Typy numeryczne: int, float, complex"
   ]
  },
  {
   "cell_type": "code",
   "execution_count": 98,
   "id": "e75071eb-25b7-4010-aa14-059448fc9c96",
   "metadata": {},
   "outputs": [],
   "source": [
    "# Dąstępna pomoc\n",
    "# dir(float) \n",
    "# help(float) \n",
    "# dir(int) \n",
    "# help(int) \n",
    "# dir(complex) \n",
    "# help(complex) "
   ]
  },
  {
   "cell_type": "code",
   "execution_count": 99,
   "id": "a21f0073-a366-497e-b26c-b54ce4eb535b",
   "metadata": {},
   "outputs": [
    {
     "data": {
      "text/plain": [
       "(1, 34567890, -45354534)"
      ]
     },
     "execution_count": 99,
     "metadata": {},
     "output_type": "execute_result"
    }
   ],
   "source": [
    "# Int.\n",
    "x = 1\n",
    "y = 34567890\n",
    "z = -45354534\n",
    "x, y, z"
   ]
  },
  {
   "cell_type": "code",
   "execution_count": 100,
   "id": "1836d9fd-f311-437e-b7b9-53ac2c46c012",
   "metadata": {},
   "outputs": [
    {
     "name": "stdout",
     "output_type": "stream",
     "text": [
      "0b101\n",
      "0xea\n",
      "43981\n",
      "27\n",
      "27\n"
     ]
    }
   ],
   "source": [
    "# Reprezentacja danych\n",
    "print(bin(5)) # reprezentacja binarna\n",
    "print(hex(234)) # repezentacja hex\n",
    "print(int(0xabcd)) # reprezenntacja dziesiętna\n",
    "print(int(0b011011))\n",
    "print(int('0b011011', 2))"
   ]
  },
  {
   "cell_type": "code",
   "execution_count": 101,
   "id": "41f53194-22ef-4fe9-a294-efd5f3d6a0ba",
   "metadata": {},
   "outputs": [
    {
     "data": {
      "text/plain": [
       "(1.01, -45.0234, -21000000000.0)"
      ]
     },
     "execution_count": 101,
     "metadata": {},
     "output_type": "execute_result"
    }
   ],
   "source": [
    "# Float.\n",
    "x = 1.01\n",
    "y = -45.0234\n",
    "z = -2.1e10\n",
    "x, y, z"
   ]
  },
  {
   "cell_type": "code",
   "execution_count": 102,
   "id": "f404c7ce-f591-4078-a025-d5d857085c23",
   "metadata": {},
   "outputs": [
    {
     "name": "stdout",
     "output_type": "stream",
     "text": [
      "3\n",
      "3.1\n"
     ]
    }
   ],
   "source": [
    "# zaokrąglanie liczb\n",
    "print(round(3.123)) # zaokrągleni, bez przecinków\n",
    "print(round(3.123, 1)) # zaokrąglenie z wyznaczeniem ile miejsc po przecinku"
   ]
  },
  {
   "cell_type": "code",
   "execution_count": 103,
   "id": "78dccad1-d755-424d-a241-f92288690612",
   "metadata": {},
   "outputs": [
    {
     "name": "stdout",
     "output_type": "stream",
     "text": [
      "314000.0\n",
      "6.022e+23\n",
      "1.6e-19\n"
     ]
    }
   ],
   "source": [
    "# Notacja naukowa\n",
    "number1 = 3.14e5  # 3.14 * 10^5\n",
    "number2 = 6.022e23  # 6.022 * 10^23\n",
    "number3 = 1.6e-19  # 1.6 * 10^(-19)\n",
    "print(number1)  # Wynik: 314000.0\n",
    "print(number2)  # Wynik: 6.022e+23\n",
    "print(number3)  # Wynik: 1.6e-19"
   ]
  },
  {
   "cell_type": "code",
   "execution_count": 104,
   "id": "d6a3a48a-1114-43c9-b4e4-a58842e74fd8",
   "metadata": {},
   "outputs": [
    {
     "name": "stdout",
     "output_type": "stream",
     "text": [
      "602200000000000000000000 6.022000e+23\n"
     ]
    }
   ],
   "source": [
    "normal_number = 602200000000000000000000\n",
    "scientific_number = \"{:e}\".format(normal_number)\n",
    "print(normal_number, scientific_number) "
   ]
  },
  {
   "cell_type": "code",
   "execution_count": 105,
   "id": "811adac4-2085-4619-8374-6ef74733e528",
   "metadata": {},
   "outputs": [
    {
     "name": "stdout",
     "output_type": "stream",
     "text": [
      "6.022e23 602200000000000027262976\n"
     ]
    }
   ],
   "source": [
    "scientific_number = \"6.022e23\"\n",
    "normal_number = \"{:.0f}\".format(float(scientific_number))\n",
    "print(scientific_number, normal_number) "
   ]
  },
  {
   "cell_type": "code",
   "execution_count": 106,
   "id": "5213e97f-d87b-460d-8745-6aa6bdeff6a2",
   "metadata": {},
   "outputs": [
    {
     "name": "stdout",
     "output_type": "stream",
     "text": [
      "602200000000000027262976\n"
     ]
    }
   ],
   "source": [
    "scientific_number = \"6.022e23\"\n",
    "normal_number = f\"{float(scientific_number):.0f}\"\n",
    "print(normal_number)"
   ]
  },
  {
   "cell_type": "code",
   "execution_count": 107,
   "id": "cf792c9d-b8b0-47ef-b91c-4f4ee9ad9a8e",
   "metadata": {},
   "outputs": [
    {
     "name": "stdout",
     "output_type": "stream",
     "text": [
      "602200000000000000000000\n"
     ]
    }
   ],
   "source": [
    "from decimal import Decimal\n",
    "scientific_number = \"6.022e23\"\n",
    "normal_number = f\"{Decimal(scientific_number):.0f}\"\n",
    "print(normal_number)  "
   ]
  },
  {
   "cell_type": "code",
   "execution_count": 108,
   "id": "4021ee47-edd2-44d1-8461-16174adb0cb6",
   "metadata": {},
   "outputs": [
    {
     "data": {
      "text/plain": [
       "((3+5j), 5j, (-0-5j))"
      ]
     },
     "execution_count": 108,
     "metadata": {},
     "output_type": "execute_result"
    }
   ],
   "source": [
    "# Complex, liczba zespolona.\n",
    "x = 3+5j\n",
    "# lub\n",
    "x = complex(3, 5)\n",
    "y = 5j\n",
    "z = -5j\n",
    "x, y, z"
   ]
  },
  {
   "cell_type": "code",
   "execution_count": 109,
   "id": "9e574332-6e9b-42a3-8dc7-d1c030295721",
   "metadata": {},
   "outputs": [
    {
     "data": {
      "text/plain": [
       "(3.0, 5.0, 0.0, 5.0)"
      ]
     },
     "execution_count": 109,
     "metadata": {},
     "output_type": "execute_result"
    }
   ],
   "source": [
    "# Pobieranie i wyświetlanie części liczb zespolonych.\n",
    "x.real, x.imag, y.real, y.imag"
   ]
  },
  {
   "cell_type": "code",
   "execution_count": 110,
   "id": "42979c31-4fad-431b-b809-695cc158ac4f",
   "metadata": {},
   "outputs": [
    {
     "data": {
      "text/plain": [
       "b'\\n'"
      ]
     },
     "execution_count": 110,
     "metadata": {},
     "output_type": "execute_result"
    }
   ],
   "source": [
    "aaa = 10\n",
    "aaa.to_bytes()"
   ]
  },
  {
   "cell_type": "markdown",
   "id": "5d9a03f7-8c15-4c8e-9550-11b2a3795c1f",
   "metadata": {},
   "source": [
    "--------------------------------------------------------------------------------------------------------------------------\n",
    "#### Kolekcje: list"
   ]
  },
  {
   "cell_type": "code",
   "execution_count": 111,
   "id": "a7a3480e-9bc1-4d5e-8bcb-6ca1b1a2ca5a",
   "metadata": {},
   "outputs": [],
   "source": [
    "# Lista jest dynamicznym typem danych służącym do przechowywania kolekcji elementów. \n",
    "# Elementy w liście mogą być różnych typów danych, a lista może zawierać elementy takie jak liczby, łańcuchy znaków, inne listy czy nawet obiekty. \n",
    "# Listy w Pythonie są mutowalne, co oznacza, że można je zmieniać (dodawać, usuwać, modyfikować elementy) po ich utworzeniu.\n",
    "myList = []  # Pusta lista\n",
    "myList = list() # jw\n",
    "lista_liczb = [1, 2, 3, 4, 5]  # Lista liczb całkowitych\n",
    "lista_łańcuchów = ['jabłko', 'banan', 'gruszka']  # Lista łańcuchów znaków\n",
    "lista_mieszana = [1, 'jabłko', True, 3.14]  # Lista zawierająca różne typy danych"
   ]
  },
  {
   "cell_type": "code",
   "execution_count": 112,
   "id": "7221eda3-4996-47b7-81fb-24f087c544c7",
   "metadata": {},
   "outputs": [
    {
     "data": {
      "text/plain": [
       "([1, 'dwa', 3.0, 4, 5], 5)"
      ]
     },
     "execution_count": 112,
     "metadata": {},
     "output_type": "execute_result"
    }
   ],
   "source": [
    "lista = [1, 'dwa', 3.0, 4, 5]\n",
    "lista, len(lista)"
   ]
  },
  {
   "cell_type": "code",
   "execution_count": 113,
   "id": "672b2e12-2acf-4a38-8e28-880b59c488dc",
   "metadata": {},
   "outputs": [
    {
     "name": "stdout",
     "output_type": "stream",
     "text": [
      "[1, 'dwa', 3.0, 4, 5] [1, 'dwa', 3.0, 4, 5]\n",
      "[123, 'dwa', 3.0, 4, 5] [123, 'dwa', 3.0, 4, 5]\n"
     ]
    }
   ],
   "source": [
    "# Tworzenie aliasu do listy, dane są w tej samej części pamięci.\n",
    "lista_copy = lista \n",
    "print(lista, lista_copy)\n",
    "lista[0] = 123\n",
    "print(lista, lista_copy)"
   ]
  },
  {
   "cell_type": "code",
   "execution_count": 114,
   "id": "c2513e84-e01c-4fc0-ae55-16a51d1f8740",
   "metadata": {},
   "outputs": [
    {
     "name": "stdout",
     "output_type": "stream",
     "text": [
      "[123, 'dwa', 3.0, 4, 5] [123, 'dwa', 3.0, 4, 5]\n",
      "[1, 'dwa', 3.0, 4, 5] [123, 'dwa', 3.0, 4, 5]\n"
     ]
    }
   ],
   "source": [
    "# Tworzenie kopi listy w nowym miejscu w pamięci.\n",
    "lista_copy = lista[:]\n",
    "print(lista, lista_copy)\n",
    "lista[0] = 1\n",
    "print(lista, lista_copy)"
   ]
  },
  {
   "cell_type": "code",
   "execution_count": 115,
   "id": "a556f2fb-557e-4cf0-ae84-df5646534816",
   "metadata": {},
   "outputs": [
    {
     "name": "stdout",
     "output_type": "stream",
     "text": [
      "True\n"
     ]
    }
   ],
   "source": [
    "# Sprawdzenie czy jest na liście.\n",
    "lista = ['str1', 'str2', 'str3', 'str4', 'str5', 'str6', 'str7']\n",
    "print('str3' in lista) "
   ]
  },
  {
   "cell_type": "code",
   "execution_count": 116,
   "id": "156e3dbd-a3af-4f75-82f8-c51edbf517de",
   "metadata": {},
   "outputs": [
    {
     "name": "stdout",
     "output_type": "stream",
     "text": [
      "str1\n",
      "str7\n",
      "['str2', 'str3']\n",
      "['str7', 'str6', 'str5', 'str4', 'str3', 'str2', 'str1']\n",
      "['str3', 'str4', 'str5', 'str6', 'str7']\n",
      "['str1', 'str2', 'str3', 'str4', 'str5', 'str6', 'str7']\n",
      "['str1', 'str2', 'str3', 'str4', 'str5', 'str6', 'str7']\n",
      "['str1', 'str2']\n",
      "['str1', 'str3', 'str5', 'str7']\n",
      "['str2', 'str4', 'str6']\n",
      "['str7', 'str5', 'str3', 'str1']\n"
     ]
    }
   ],
   "source": [
    "# Dostęp do elementów\n",
    "print(lista[0]) # bezpośrednio o elementu 0\n",
    "print(lista[-1]) # do ostatniego\n",
    "print(lista[1:3]) # od 1 do 2\n",
    "print(lista[::-1]) # reverse\n",
    "print(lista[2:]) # od 2 do końca\n",
    "print(lista[:]) # cała\n",
    "print(lista[::]) # cała\n",
    "print(lista[:2]) # od początku do 1\n",
    "print(lista[0::2]) # całą co drugi element\n",
    "print(lista[1::2]) # całą co drugi element, przesunięta o jeden\n",
    "# list([start:stop:step])\n",
    "print(lista[::-2]) # od końca co drugi element"
   ]
  },
  {
   "cell_type": "code",
   "execution_count": 117,
   "id": "7f80972d-8770-444e-8b03-4a5839381805",
   "metadata": {},
   "outputs": [
    {
     "data": {
      "text/plain": [
       "['str1', 'str2', 'str3', 'str4', 'str5', 'str6', 'str7', 123, 'dwa', 3.0, 4, 5]"
      ]
     },
     "execution_count": 117,
     "metadata": {},
     "output_type": "execute_result"
    }
   ],
   "source": [
    "# Sklejanie list (konkatenacja)\n",
    "lista + lista_copy"
   ]
  },
  {
   "cell_type": "code",
   "execution_count": 118,
   "id": "e5b50878-313c-480c-af1a-5a9e85c7cc2e",
   "metadata": {},
   "outputs": [
    {
     "data": {
      "text/plain": [
       "['str1',\n",
       " 'str2',\n",
       " 'str3',\n",
       " 'str4',\n",
       " 'str5',\n",
       " 'str6',\n",
       " 'str7',\n",
       " 'str1',\n",
       " 'str2',\n",
       " 'str3',\n",
       " 'str4',\n",
       " 'str5',\n",
       " 'str6',\n",
       " 'str7',\n",
       " 'str1',\n",
       " 'str2',\n",
       " 'str3',\n",
       " 'str4',\n",
       " 'str5',\n",
       " 'str6',\n",
       " 'str7']"
      ]
     },
     "execution_count": 118,
     "metadata": {},
     "output_type": "execute_result"
    }
   ],
   "source": [
    "# Powielanie list\n",
    "lista * 3"
   ]
  },
  {
   "cell_type": "code",
   "execution_count": 119,
   "id": "cb0aba72-2301-4fd0-9272-2fd97c5815f3",
   "metadata": {},
   "outputs": [
    {
     "name": "stdout",
     "output_type": "stream",
     "text": [
      "10\n",
      "1\n",
      "55\n",
      "5.5\n"
     ]
    }
   ],
   "source": [
    "# funcje wbudowane agregujące min, max, sum\n",
    "listaNum = [1,2,3,4,5,6,7,8,9,10]\n",
    "print(max(listaNum)) # maksymalna wartość\n",
    "print(min(listaNum)) # minimalna wartość\n",
    "print(sum(listaNum)) # suma wartości, muszą być liczby\n",
    "print(sum(listaNum) / len(listaNum)) # średnia arytmetyczna, muszą być same liczby"
   ]
  },
  {
   "cell_type": "code",
   "execution_count": 120,
   "id": "9ce20099-ff28-4419-8a25-fd975aa07c51",
   "metadata": {},
   "outputs": [
    {
     "data": {
      "text/plain": [
       "['str1', 'str2', 'str3', 'str4', 'str5', 'str6', 'str7', 'str8']"
      ]
     },
     "execution_count": 120,
     "metadata": {},
     "output_type": "execute_result"
    }
   ],
   "source": [
    "# Dodawanie na koniec listy\n",
    "lista.append('str8')\n",
    "lista"
   ]
  },
  {
   "cell_type": "code",
   "execution_count": 121,
   "id": "1e1e11d0-d2ea-4fbd-8468-e0016a2843c0",
   "metadata": {},
   "outputs": [
    {
     "data": {
      "text/plain": [
       "['str1', 'str2', 'str2.5', 'str3', 'str4', 'str5', 'str6', 'str7', 'str8']"
      ]
     },
     "execution_count": 121,
     "metadata": {},
     "output_type": "execute_result"
    }
   ],
   "source": [
    "# Dodawanie po indeksie do listy\n",
    "lista.insert(2, 'str2.5')\n",
    "lista"
   ]
  },
  {
   "cell_type": "code",
   "execution_count": 122,
   "id": "a07aff7a-be33-4bfc-9d3d-ded61d825e7a",
   "metadata": {},
   "outputs": [
    {
     "data": {
      "text/plain": [
       "['str1',\n",
       " 'str2',\n",
       " 'str2.5',\n",
       " 'str3',\n",
       " 'str4',\n",
       " 'str5',\n",
       " 'str6',\n",
       " 'str7',\n",
       " 'str8',\n",
       " 1,\n",
       " 2,\n",
       " 3]"
      ]
     },
     "execution_count": 122,
     "metadata": {},
     "output_type": "execute_result"
    }
   ],
   "source": [
    "# Rozszerzanie listy o inną listę, można tak do listy dodać inne kolekcje.\n",
    "lista_ext = [1, 2, 3]\n",
    "lista.extend(lista_ext)\n",
    "lista"
   ]
  },
  {
   "cell_type": "code",
   "execution_count": 123,
   "id": "519ea5df-bd6e-43ec-a3f1-c3fe6e2c9ab3",
   "metadata": {},
   "outputs": [
    {
     "data": {
      "text/plain": [
       "['str1', 'str2', 'str3', 'str4', 'str5', 'str6', 'str7', 'str8', 1, 2, 3]"
      ]
     },
     "execution_count": 123,
     "metadata": {},
     "output_type": "execute_result"
    }
   ],
   "source": [
    "# Usuwanie po wartości.\n",
    "lista.remove('str2.5')\n",
    "lista"
   ]
  },
  {
   "cell_type": "code",
   "execution_count": 124,
   "id": "4d610ff6-6862-4c25-a7f7-b2b802fdb624",
   "metadata": {},
   "outputs": [
    {
     "data": {
      "text/plain": [
       "3"
      ]
     },
     "execution_count": 124,
     "metadata": {},
     "output_type": "execute_result"
    }
   ],
   "source": [
    "# Usuwanie ostatniej, ze zwrotem wartości.\n",
    "lista.pop()"
   ]
  },
  {
   "cell_type": "code",
   "execution_count": 125,
   "id": "2acec76b-68a3-4e4e-88cc-4fd6e36d2517",
   "metadata": {},
   "outputs": [
    {
     "data": {
      "text/plain": [
       "['str1', 'str2', 'str3', 'str4', 'str5', 'str6', 'str7', 'str8', 1, 2]"
      ]
     },
     "execution_count": 125,
     "metadata": {},
     "output_type": "execute_result"
    }
   ],
   "source": [
    "lista"
   ]
  },
  {
   "cell_type": "code",
   "execution_count": 126,
   "id": "02a4f1c9-dd3f-4131-a356-c9f8d0b2efee",
   "metadata": {},
   "outputs": [
    {
     "data": {
      "text/plain": [
       "1"
      ]
     },
     "execution_count": 126,
     "metadata": {},
     "output_type": "execute_result"
    }
   ],
   "source": [
    "# Usuwanie po indeksie, ze zwrotem wartości.\n",
    "lista.pop(8)"
   ]
  },
  {
   "cell_type": "code",
   "execution_count": 127,
   "id": "4530e799-7fe5-4663-add9-9a80a2b62428",
   "metadata": {},
   "outputs": [
    {
     "data": {
      "text/plain": [
       "['str1', 'str2', 'str3', 'str4', 'str5', 'str6', 'str7', 'str8', 2]"
      ]
     },
     "execution_count": 127,
     "metadata": {},
     "output_type": "execute_result"
    }
   ],
   "source": [
    "lista"
   ]
  },
  {
   "cell_type": "code",
   "execution_count": 128,
   "id": "9d7ef4d1-f82c-43ca-9a96-c84e73a024f5",
   "metadata": {},
   "outputs": [
    {
     "data": {
      "text/plain": [
       "['str1', 'str2', 'str3', 'str4', 'str5', 'str6', 'str7', 'str8']"
      ]
     },
     "execution_count": 128,
     "metadata": {},
     "output_type": "execute_result"
    }
   ],
   "source": [
    "# Usuwanie po indeksie, bez zwrotu.\n",
    "del lista[8]\n",
    "lista"
   ]
  },
  {
   "cell_type": "code",
   "execution_count": 129,
   "id": "b7b1d45a-3382-4ffd-aeeb-90a00908897a",
   "metadata": {},
   "outputs": [
    {
     "data": {
      "text/plain": [
       "[]"
      ]
     },
     "execution_count": 129,
     "metadata": {},
     "output_type": "execute_result"
    }
   ],
   "source": [
    "# Wyczyszczenie listy.\n",
    "lista.clear()\n",
    "lista"
   ]
  },
  {
   "cell_type": "code",
   "execution_count": 130,
   "id": "26bfbd14-c07a-4cc0-97c2-a3271b90a630",
   "metadata": {},
   "outputs": [],
   "source": [
    "# Skasowanie listy, całkowicie z pamięci.\n",
    "del lista\n",
    "# lista -> tu będzie błąd, bo lista już nie istnieje"
   ]
  },
  {
   "cell_type": "code",
   "execution_count": 131,
   "id": "f46f2adc-9f8e-4c73-9fe5-03a3434f6e7f",
   "metadata": {},
   "outputs": [],
   "source": [
    "lista = ['str1', 'str2', 'str3', 'str4', 'str5', 'str6', 'str7']"
   ]
  },
  {
   "cell_type": "code",
   "execution_count": 132,
   "id": "e520206d-4358-491b-8c0e-26893bcd9f7c",
   "metadata": {},
   "outputs": [
    {
     "name": "stdout",
     "output_type": "stream",
     "text": [
      "str1\n",
      "str2\n",
      "str3\n",
      "str4\n",
      "str5\n",
      "str6\n",
      "str7\n"
     ]
    }
   ],
   "source": [
    "# For czytający po elementach listy\n",
    "for x in lista:\n",
    "    print(x)"
   ]
  },
  {
   "cell_type": "code",
   "execution_count": 133,
   "id": "255de6c9-3079-4c4f-8e94-0e91b9b445bf",
   "metadata": {},
   "outputs": [
    {
     "name": "stdout",
     "output_type": "stream",
     "text": [
      "0\n",
      "1\n",
      "2\n",
      "3\n",
      "4\n",
      "5\n",
      "6\n"
     ]
    }
   ],
   "source": [
    "# For czytający po indeksach listy\n",
    "for x in range(len(lista)):\n",
    "    print(x)"
   ]
  },
  {
   "cell_type": "code",
   "execution_count": 134,
   "id": "d8ba9fa9-dda0-4f36-924f-9ccb2d089682",
   "metadata": {},
   "outputs": [
    {
     "name": "stdout",
     "output_type": "stream",
     "text": [
      "0\n",
      "str1\n",
      "1\n",
      "str2\n",
      "2\n",
      "str3\n",
      "3\n",
      "str4\n",
      "4\n",
      "str5\n",
      "5\n",
      "str6\n",
      "6\n",
      "str7\n"
     ]
    }
   ],
   "source": [
    "# While czytający\n",
    "i = 0\n",
    "while i < len(lista):\n",
    "    print(i)\n",
    "    print(lista[i])\n",
    "    i += 1    "
   ]
  },
  {
   "cell_type": "code",
   "execution_count": 135,
   "id": "4b9f2e14-dc87-4d75-a54e-8a4ad7441e87",
   "metadata": {},
   "outputs": [
    {
     "name": "stdout",
     "output_type": "stream",
     "text": [
      "str1\n",
      "str2\n",
      "str3\n",
      "str4\n",
      "str5\n",
      "str6\n",
      "str7\n"
     ]
    },
    {
     "data": {
      "text/plain": [
       "[None, None, None, None, None, None, None]"
      ]
     },
     "execution_count": 135,
     "metadata": {},
     "output_type": "execute_result"
    }
   ],
   "source": [
    "# Składnia list comprehension\n",
    "# nowa_lista = [wyrażenie for element in iterowalny if warunek]\n",
    "# wyrażenie to operacja wykonywana na każdym elemencie w iterowalnym.\n",
    "# element to aktualny element w iteracji.\n",
    "# iterowalny to sekwencja elementów do iteracji (np. lista, krotka, ciąg znaków).\n",
    "# warunek (opcjonalnie) to filtr, który zawiera tylko elementy spełniające określone kryterium.\n",
    "[print(x) for x in lista]"
   ]
  },
  {
   "cell_type": "code",
   "execution_count": 136,
   "id": "0eeb4d6d-0d2b-450f-aefe-a79820ed6b00",
   "metadata": {},
   "outputs": [],
   "source": [
    "# newlist = [expression for item in iterable if condition == True]"
   ]
  },
  {
   "cell_type": "code",
   "execution_count": 137,
   "id": "4d4cc9cb-6abb-4730-9645-1da21a02cc3a",
   "metadata": {},
   "outputs": [
    {
     "name": "stdout",
     "output_type": "stream",
     "text": [
      "['apple', 'banana', 'mango']\n"
     ]
    }
   ],
   "source": [
    "fruits = [\"apple\", \"banana\", \"cherry\", \"kiwi\", \"mango\"]\n",
    "newlist = [x for x in fruits if \"a\" in x]\n",
    "print(newlist)"
   ]
  },
  {
   "cell_type": "code",
   "execution_count": 138,
   "id": "48666510-cc2f-4a75-a2b3-9b455fca0b2c",
   "metadata": {},
   "outputs": [
    {
     "name": "stdout",
     "output_type": "stream",
     "text": [
      "['banana', 'cherry', 'kiwi', 'mango']\n"
     ]
    }
   ],
   "source": [
    "newlist = [x for x in fruits if x != \"apple\"]\n",
    "print(newlist)"
   ]
  },
  {
   "cell_type": "code",
   "execution_count": 139,
   "id": "baf87585-f21f-4862-b11e-678a2fb8d965",
   "metadata": {},
   "outputs": [
    {
     "name": "stdout",
     "output_type": "stream",
     "text": [
      "['apple', 'banana', 'cherry', 'kiwi', 'mango']\n"
     ]
    }
   ],
   "source": [
    "newlist = [x for x in fruits]\n",
    "print(newlist)"
   ]
  },
  {
   "cell_type": "code",
   "execution_count": 140,
   "id": "0d5b1af5-8870-4101-9237-2f62e9a88dbe",
   "metadata": {},
   "outputs": [
    {
     "name": "stdout",
     "output_type": "stream",
     "text": [
      "[0, 1, 2, 3, 4, 5, 6, 7, 8, 9]\n"
     ]
    }
   ],
   "source": [
    "newlist = [x for x in range(10)]\n",
    "print(newlist)"
   ]
  },
  {
   "cell_type": "code",
   "execution_count": 141,
   "id": "b6635024-8726-4a71-82a3-272206ca708b",
   "metadata": {},
   "outputs": [
    {
     "name": "stdout",
     "output_type": "stream",
     "text": [
      "[0, 1, 2, 3, 4]\n"
     ]
    }
   ],
   "source": [
    "newlist = [x for x in range(10) if x < 5]\n",
    "print(newlist)"
   ]
  },
  {
   "cell_type": "code",
   "execution_count": 142,
   "id": "22395745-9273-4579-8292-30d610b1b369",
   "metadata": {},
   "outputs": [
    {
     "name": "stdout",
     "output_type": "stream",
     "text": [
      "['APPLE', 'BANANA', 'CHERRY', 'KIWI', 'MANGO']\n"
     ]
    }
   ],
   "source": [
    "newlist = [x.upper() for x in fruits]\n",
    "print(newlist)"
   ]
  },
  {
   "cell_type": "code",
   "execution_count": 143,
   "id": "e1e5353a-145e-410e-9e2d-465fc35e4c78",
   "metadata": {},
   "outputs": [
    {
     "name": "stdout",
     "output_type": "stream",
     "text": [
      "['hello', 'hello', 'hello', 'hello', 'hello']\n"
     ]
    }
   ],
   "source": [
    "newlist = ['hello' for x in fruits]\n",
    "print(newlist)"
   ]
  },
  {
   "cell_type": "code",
   "execution_count": 144,
   "id": "d4f779de-304f-4723-94f8-362bf3337ebd",
   "metadata": {},
   "outputs": [
    {
     "name": "stdout",
     "output_type": "stream",
     "text": [
      "['apple', 'orange', 'cherry', 'kiwi', 'mango']\n"
     ]
    }
   ],
   "source": [
    "newlist = [x if x != \"banana\" else \"orange\" for x in fruits]\n",
    "print(newlist)"
   ]
  },
  {
   "cell_type": "code",
   "execution_count": 145,
   "id": "13f385fa-1d86-4823-a9c3-901a41c9af71",
   "metadata": {},
   "outputs": [
    {
     "name": "stdout",
     "output_type": "stream",
     "text": [
      "[0, 2, 4, 6, 8]\n",
      "[0, 10, 20, 30, 40, 50, 60, 70, 80, 90]\n",
      "[2, 4, 6, 8, 10, 12, 14, 16, 18, 20]\n"
     ]
    }
   ],
   "source": [
    "liczby = [0, 1, 2, 3, 4, 5, 6, 7, 8, 9]\n",
    "parzyste = [i for i in liczby if i % 2 == 0] \n",
    "# wynik z 'i' bedzie dodany do listy 'parzyste', dla karzdej kolejnej 'liczby' która spełna warunek (i modulo 2) = 0 czyli parzysta\n",
    "print(parzyste)\n",
    "\n",
    "parzyste=[i * 10 for i in liczby]\n",
    "# przed przypisaniem każdej i do parzyste pomnóż i przez 10\n",
    "print(parzyste)\n",
    "\n",
    "# totalny skrót\n",
    "print( [i for i in range(1, 21) if i % 2 == 0] )"
   ]
  },
  {
   "cell_type": "code",
   "execution_count": 146,
   "id": "3b1a27b5-2009-4a76-9942-6f703980ea74",
   "metadata": {},
   "outputs": [
    {
     "name": "stdout",
     "output_type": "stream",
     "text": [
      "asd fgh 123 543\n",
      "['asd', 'fgh', '123', '543']\n"
     ]
    }
   ],
   "source": [
    "# Rozdzielenie stringa na listę, wg separatora.\n",
    "napis = 'asd fgh 123 543'\n",
    "lista = napis.split(' ') # separatror ' '\n",
    "print(napis)\n",
    "print(lista)"
   ]
  },
  {
   "cell_type": "code",
   "execution_count": 147,
   "id": "ced816f0-09bc-4955-82bd-53fbc650f1c8",
   "metadata": {},
   "outputs": [
    {
     "name": "stdout",
     "output_type": "stream",
     "text": [
      "asd:fgh:123:543\n"
     ]
    }
   ],
   "source": [
    "# Połączenie listy do stringa, z separatorem.\n",
    "napis = ''\n",
    "singn = ':' # separator\n",
    "napis = singn.join(lista)\n",
    "print(napis)"
   ]
  },
  {
   "cell_type": "code",
   "execution_count": 148,
   "id": "f8e5d16a-fe90-4009-8569-a81e0fa97309",
   "metadata": {},
   "outputs": [
    {
     "name": "stdout",
     "output_type": "stream",
     "text": [
      "1\n",
      "2\n",
      "3\n",
      "1\n",
      "2\n",
      "3\n",
      "[4, 5, 6, 7, 8, 9]\n",
      "1\n",
      "2\n",
      "3\n",
      "[4, 5, 6, 7, 8]\n",
      "9\n"
     ]
    }
   ],
   "source": [
    "# Rozpakowywania listy.\n",
    "lista = [1, 2, 3]\n",
    "a, b, c = [1, 2, 3]\n",
    "print(a) # 1\n",
    "print(b) # 2\n",
    "print(c) # 3\n",
    "\n",
    "a, b, c, *other = [1, 2, 3, 4, 5, 6, 7, 8, 9]\n",
    "print(a) # 1\n",
    "print(b) # 2\n",
    "print(c) # 3\n",
    "print(other) # [4, 5, 6, 7, 8, 9]\n",
    "\n",
    "a, b, c, *other, d = [1, 2, 3, 4, 5, 6, 7, 8, 9]\n",
    "print(a) # 1\n",
    "print(b) # 2\n",
    "print(c) # 3\n",
    "print(other) # [4, 5, 6, 7, 8]\n",
    "print(d) # 9"
   ]
  },
  {
   "cell_type": "code",
   "execution_count": 149,
   "id": "d49424ca-e504-4c39-887c-b09185b086d6",
   "metadata": {},
   "outputs": [
    {
     "name": "stdout",
     "output_type": "stream",
     "text": [
      "1\n",
      "2\n",
      "[4, 5, 6, 7, 8, 9]\n"
     ]
    }
   ],
   "source": [
    "# Zignorowanie niektórych wartości.\n",
    "a, b, _, *other = [1, 2, 3, 4, 5, 6, 7, 8, 9]\n",
    "print(a) # 1\n",
    "print(b) # 2\n",
    "print(other) # [4, 5, 6, 7, 8]\n",
    "# element '3' został zignorowany"
   ]
  },
  {
   "cell_type": "code",
   "execution_count": 150,
   "id": "f65fd7b9-a7bb-46dc-9c26-ae39b171263b",
   "metadata": {},
   "outputs": [
    {
     "name": "stdout",
     "output_type": "stream",
     "text": [
      "[[1, 2, 3], ['asd', 34.32, 'qwe'], [43.76, 123.32, 65.23, 1, 2]]\n",
      "[1, 2, 3]\n",
      "['asd', 34.32, 'qwe']\n",
      "[43.76, 123.32, 65.23, 1, 2]\n",
      "2\n"
     ]
    }
   ],
   "source": [
    "# Listy list (wielowymiarowość)\n",
    "lista = [[1, 2, 3], [\"asd\", 34.32, 'qwe'], [43.76, 123.32, 65.23, 1, 2]]\n",
    "print(lista)  # wszystkie listy\n",
    "print(lista[0])  # poszczególna lista\n",
    "print(lista[1])\n",
    "print(lista[2])\n",
    "print(lista[0][1])  # element w liście z listy"
   ]
  },
  {
   "cell_type": "markdown",
   "id": "c28e4ac1-40c8-4f57-8281-206cfd6d083f",
   "metadata": {},
   "source": [
    "--------------------------------------------------------------------------------------------------------------------------\n",
    "#### Metody list"
   ]
  },
  {
   "cell_type": "code",
   "execution_count": 151,
   "id": "7ac7fc28-a7d8-4618-9e20-d7d5f955accc",
   "metadata": {},
   "outputs": [
    {
     "name": "stdout",
     "output_type": "stream",
     "text": [
      "[1, 2, 3, 4]\n"
     ]
    }
   ],
   "source": [
    "# append()\n",
    "# Metoda służy do dodawania nowego elementu na koniec listy.\n",
    "my_list = [1, 2, 3]\n",
    "my_list.append(4)\n",
    "print(my_list)"
   ]
  },
  {
   "cell_type": "code",
   "execution_count": 152,
   "id": "36461e3a-7141-40ba-a239-3eee9fc99735",
   "metadata": {},
   "outputs": [
    {
     "name": "stdout",
     "output_type": "stream",
     "text": [
      "[]\n"
     ]
    }
   ],
   "source": [
    "# clear()\n",
    "# Metoda służy do usuwania wszystkich elementów z listy, pozostawiając ją pustą.\n",
    "my_list = [1, 2, 3, 4]\n",
    "my_list.clear()\n",
    "print(my_list)"
   ]
  },
  {
   "cell_type": "code",
   "execution_count": 153,
   "id": "343cac14-cfe1-4e3d-8c5f-9d5734dc1560",
   "metadata": {},
   "outputs": [
    {
     "name": "stdout",
     "output_type": "stream",
     "text": [
      "['str1', 'str2', 'str1', 'str4', 'str1', 'str6', 'str1'] ['str1', 'str2', 'str1', 'str4', 'str1', 'str6', 'str1']\n",
      "[0, 'str2', 'str1', 'str4', 'str1', 'str6', 'str1'] ['str1', 'str2', 'str1', 'str4', 'str1', 'str6', 'str1']\n"
     ]
    }
   ],
   "source": [
    "# copy()\t\n",
    "# Zwraca kopię listy, kopia w nowym miejscu w pamięci.\n",
    "lista = ['str1', 'str2', 'str1', 'str4', 'str1', 'str6', 'str1']\n",
    "lista_copy = lista.copy()\n",
    "print(lista, lista_copy)\n",
    "lista[0] = 0\n",
    "print(lista, lista_copy)"
   ]
  },
  {
   "cell_type": "code",
   "execution_count": 154,
   "id": "6ff5a63e-05f2-4c7d-ac34-1f1e9f0572d9",
   "metadata": {},
   "outputs": [
    {
     "data": {
      "text/plain": [
       "4"
      ]
     },
     "execution_count": 154,
     "metadata": {},
     "output_type": "execute_result"
    }
   ],
   "source": [
    "# count()\t\n",
    "# Zwraca liczbę elementów z podaną wartością\n",
    "lista = ['str1', 'str2', 'str1', 'str4', 'str1', 'str6', 'str1']\n",
    "lista.count('str1')"
   ]
  },
  {
   "cell_type": "code",
   "execution_count": 155,
   "id": "8682573d-562f-48a2-8fb7-a1a322f8fbcb",
   "metadata": {},
   "outputs": [
    {
     "name": "stdout",
     "output_type": "stream",
     "text": [
      "[1, 2, 3, 4, 5, 6]\n",
      "[1, 2, 3, 4, 5, 6]\n"
     ]
    }
   ],
   "source": [
    "# extend()\t\n",
    "# Dodaje elementy listy (lub dowolnej kolekcji) na koniec bieżącej listy.\n",
    "list1 = [1, 2, 3]\n",
    "list2 = [4, 5, 6]\n",
    "list1.extend(list2)\n",
    "print(list1)\n",
    "# lub\n",
    "list1 = [1, 2, 3]\n",
    "tuple1 = (4, 5, 6)\n",
    "list1.extend(tuple1)\n",
    "print(list1)"
   ]
  },
  {
   "cell_type": "code",
   "execution_count": 156,
   "id": "ddb47ed5-092a-4fdc-bd0f-6e3a6985f356",
   "metadata": {},
   "outputs": [
    {
     "data": {
      "text/plain": [
       "1"
      ]
     },
     "execution_count": 156,
     "metadata": {},
     "output_type": "execute_result"
    }
   ],
   "source": [
    "# index()\t\n",
    "# Zwraca indeks pierwszego elementu z podaną wartością\n",
    "# indeks = lista.index(element, start, koniec)\n",
    "lista = [\"banana\", \"apple\", \"kiwi\", \"cherry\", \"mango\"]\n",
    "lista.index('apple')"
   ]
  },
  {
   "cell_type": "code",
   "execution_count": 157,
   "id": "03202768-c6ab-4ff9-a755-7658053caf7f",
   "metadata": {},
   "outputs": [
    {
     "name": "stdout",
     "output_type": "stream",
     "text": [
      "[1, 2, 2.5, 3, 4]\n"
     ]
    }
   ],
   "source": [
    "# insert()\t\n",
    "# Dodaje element w określonej pozycji\n",
    "my_list = [1, 2, 3, 4]\n",
    "my_list.insert(2, 2.5)\n",
    "print(my_list)"
   ]
  },
  {
   "cell_type": "code",
   "execution_count": 158,
   "id": "8b3a2a47-e2be-46dc-bf2d-874e32fd67da",
   "metadata": {},
   "outputs": [
    {
     "name": "stdout",
     "output_type": "stream",
     "text": [
      "4\n",
      "[1, 2, 3]\n"
     ]
    }
   ],
   "source": [
    "# pop()\t\n",
    "# Metoda służy do usuwania i zwracania elementu z określonej pozycji w liście.\n",
    "# element = lista.pop(indeks)\n",
    "my_list = [1, 2, 3, 4]\n",
    "removed_element = my_list.pop()\n",
    "print(removed_element)  \n",
    "print(my_list) "
   ]
  },
  {
   "cell_type": "code",
   "execution_count": 159,
   "id": "e58a41f9-7fb9-4555-a9fc-34e311f8545c",
   "metadata": {},
   "outputs": [
    {
     "name": "stdout",
     "output_type": "stream",
     "text": [
      "[1, 3, 2, 4]\n"
     ]
    }
   ],
   "source": [
    "# remove()\t\n",
    "# Usuwa element z podaną wartością. Metoda służy do usuwania pierwszego wystąpienia określonego elementu z listy.\n",
    "# Jeśli element nie występuje w liście, zostanie zgłoszony wyjątek ValueError.\n",
    "my_list = [1, 2, 3, 2, 4]\n",
    "my_list.remove(2)\n",
    "print(my_list) "
   ]
  },
  {
   "cell_type": "code",
   "execution_count": 160,
   "id": "dd7dee56-549b-44b0-b934-c0eeaa992c4e",
   "metadata": {},
   "outputs": [
    {
     "name": "stdout",
     "output_type": "stream",
     "text": [
      "['banana', 'apple', 'kiwi', 'cherry', 'mango']\n",
      "['mango', 'cherry', 'kiwi', 'apple', 'banana']\n"
     ]
    }
   ],
   "source": [
    "# reverse()\t\n",
    "# Odwraca kolejność listy\n",
    "lista = [\"banana\", \"apple\", \"kiwi\", \"cherry\", \"mango\"]\n",
    "print(lista)\n",
    "lista.reverse()\n",
    "print(lista)"
   ]
  },
  {
   "cell_type": "code",
   "execution_count": 161,
   "id": "c1f5e377-5522-4644-b2ea-2ac090f0bc2c",
   "metadata": {},
   "outputs": [
    {
     "name": "stdout",
     "output_type": "stream",
     "text": [
      "['banana', 'apple', 'kiwi', 'cherry', 'mango']\n",
      "['apple', 'banana', 'cherry', 'kiwi', 'mango']\n",
      "['mango', 'kiwi', 'cherry', 'banana', 'apple']\n"
     ]
    }
   ],
   "source": [
    "# sort()\n",
    "# Sortuje listę, i zapamiętuje wynik sortowania w liście.\n",
    "# lista.sort(key=None, reverse=False)\n",
    "# gdzie:\n",
    "# lista -> to lista, której elementy chcemy posortować.\n",
    "# key -> (opcjonalny) to funkcja, która jest używana do wyznaczenia klucza sortowania dla każdego elementu w liście. \n",
    "# Domyślnie jest to None, co oznacza, że elementy są sortowane na podstawie ich wartości bez żadnej modyfikacji.\n",
    "# reverse -> (opcjonalny) to wartość logiczna określająca, czy lista ma być sortowana w kolejności malejącej (True) czy rosnącej (False). \n",
    "lista = [\"banana\", \"apple\", \"kiwi\", \"cherry\", \"mango\"]\n",
    "print(lista)\n",
    "lista.sort()\n",
    "print(lista)\n",
    "lista.sort(reverse=True)\n",
    "print(lista)"
   ]
  },
  {
   "cell_type": "code",
   "execution_count": 162,
   "id": "cce5eb41-5ed3-4954-a87a-5871491a1488",
   "metadata": {},
   "outputs": [
    {
     "name": "stdout",
     "output_type": "stream",
     "text": [
      "['apple', 'banana', 'cherry', 'kiwi', 'mango']\n",
      "['banana', 'apple', 'kiwi', 'cherry', 'mango']\n"
     ]
    }
   ],
   "source": [
    "# sorted()\n",
    "# Sortuje listę jako wyjście, i nie zapamiętuje wyniku.\n",
    "# posortowana_lista = sorted(iterowalny, key=None, reverse=False)\n",
    "lista = [\"banana\", \"apple\", \"kiwi\", \"cherry\", \"mango\"]\n",
    "print(sorted(lista))\n",
    "print(lista)"
   ]
  },
  {
   "cell_type": "markdown",
   "id": "f9c17cb8-f917-4a7d-b491-ec4e50c70556",
   "metadata": {
    "jp-MarkdownHeadingCollapsed": true
   },
   "source": [
    "--------------------------------------------------------------------------------------------------------------------------\n",
    "#### Kolekcje: tuples"
   ]
  },
  {
   "cell_type": "code",
   "execution_count": 163,
   "id": "7c430cbc-15c1-4cba-abd2-490fc597fcfe",
   "metadata": {},
   "outputs": [],
   "source": [
    "# To samo ci listy tylko po utworzeniu nie można ich modyfikować."
   ]
  },
  {
   "cell_type": "code",
   "execution_count": 164,
   "id": "8bad37d9-77cc-490f-b602-89ce8c2fcf20",
   "metadata": {},
   "outputs": [],
   "source": [
    "# Pusta krotka.\n",
    "myTuple = ()\n",
    "myTuple = tuple()"
   ]
  },
  {
   "cell_type": "code",
   "execution_count": 165,
   "id": "66c57330-53a3-457c-937d-6e0a00b8cdf8",
   "metadata": {},
   "outputs": [
    {
     "name": "stdout",
     "output_type": "stream",
     "text": [
      "('asd', 123, 165, -1.234)\n",
      "[111, 222, '333', True, 1.23] (111, 222, '333', True, 1.23)\n",
      "(222, '333', True, 1.23)\n"
     ]
    }
   ],
   "source": [
    "lista = [111,222,'333', True, 1.23]\n",
    "krotka = ('asd', 123, 0xa5, -1.234)\n",
    "print(krotka)\n",
    "krotka = tuple() # inicjalizacja pustej krotki\n",
    "krotka = () # jw\n",
    "krotka = tuple(lista) # kopia z listy do krotki, jak si niedoda rzutowania to powstanie lista\n",
    "# krotka to szybki dostęp do danych\n",
    "print(lista, krotka)\n",
    "print(krotka[1:]) # dostęp do odczytu z krotki jest takisam jak z listy"
   ]
  },
  {
   "cell_type": "code",
   "execution_count": 166,
   "id": "16c490fd-91ba-4e47-8b7d-000b0fcb80fb",
   "metadata": {},
   "outputs": [],
   "source": [
    "# Metody"
   ]
  },
  {
   "cell_type": "code",
   "execution_count": 167,
   "id": "c63d513b-c5f9-43de-b786-75a48f0ddc22",
   "metadata": {},
   "outputs": [
    {
     "data": {
      "text/plain": [
       "4"
      ]
     },
     "execution_count": 167,
     "metadata": {},
     "output_type": "execute_result"
    }
   ],
   "source": [
    "# Zwraca liczbę elementów z podaną wartością\n",
    "# count()\t\n",
    "krotka = ('str1', 'str2', 'str1', 'str4', 'str1', 'str6', 'str1')\n",
    "krotka.count('str1')"
   ]
  },
  {
   "cell_type": "code",
   "execution_count": 168,
   "id": "a7d12fda-770d-4b78-9b2c-c08aafd8a513",
   "metadata": {},
   "outputs": [
    {
     "data": {
      "text/plain": [
       "1"
      ]
     },
     "execution_count": 168,
     "metadata": {},
     "output_type": "execute_result"
    }
   ],
   "source": [
    "# Zwraca indeks pierwszego elementu z podaną wartością\n",
    "# index()\t\n",
    "krotka = (\"banana\", \"apple\", \"kiwi\", \"cherry\", \"mango\")\n",
    "krotka.index('apple')"
   ]
  },
  {
   "cell_type": "markdown",
   "id": "2a456104-de0b-4bb4-a806-2f7569b67d87",
   "metadata": {
    "editable": true,
    "jp-MarkdownHeadingCollapsed": true,
    "slideshow": {
     "slide_type": ""
    },
    "tags": []
   },
   "source": [
    "--------------------------------------------------------------------------------------------------------------------------\n",
    "#### Kolekcje: range"
   ]
  },
  {
   "cell_type": "code",
   "execution_count": 169,
   "id": "8e053031-e4f3-4133-8426-431ed923d16f",
   "metadata": {
    "editable": true,
    "slideshow": {
     "slide_type": ""
    },
    "tags": []
   },
   "outputs": [],
   "source": [
    "# range()\n",
    "# Jest funkcją wbudowaną, która służy do tworzenia sekwencji liczb całkowitych w określonym zakresie. \n",
    "# Jest to przydatne narzędzie do generowania licznych liczb całkowitych w określonym przedziale.\n",
    "# range(start, stop, step)"
   ]
  },
  {
   "cell_type": "code",
   "execution_count": 170,
   "id": "f8755346-aefb-4e07-994f-1964394dd3c9",
   "metadata": {
    "editable": true,
    "slideshow": {
     "slide_type": ""
    },
    "tags": []
   },
   "outputs": [
    {
     "name": "stdout",
     "output_type": "stream",
     "text": [
      "Tylko jeden argument\n",
      "0\n",
      "1\n",
      "2\n",
      "3\n",
      "4\n",
      "Dwa argumenty\n",
      "2\n",
      "3\n",
      "4\n",
      "5\n",
      "Trzy argumenty\n",
      "1\n",
      "3\n",
      "5\n",
      "7\n",
      "9\n"
     ]
    }
   ],
   "source": [
    "print('Tylko jeden argument')\n",
    "for i in range(5):\n",
    "    print(i)\n",
    "print('Dwa argumenty')\n",
    "for i in range(2, 6):\n",
    "    print(i)\n",
    "print('Trzy argumenty')\n",
    "for i in range(1, 10, 2):\n",
    "    print(i)"
   ]
  },
  {
   "cell_type": "code",
   "execution_count": 171,
   "id": "0cb7e112-620c-4c9b-a4e4-414da7e7d2e0",
   "metadata": {},
   "outputs": [
    {
     "data": {
      "text/plain": [
       "[0, 1, 2, 3, 4, 5, 6, 7, 8, 9]"
      ]
     },
     "execution_count": 171,
     "metadata": {},
     "output_type": "execute_result"
    }
   ],
   "source": [
    "lista = list(range(10))\n",
    "lista"
   ]
  },
  {
   "cell_type": "markdown",
   "id": "c5c1e022-7b6d-4aa2-aa0c-d2205193da9c",
   "metadata": {
    "editable": true,
    "jp-MarkdownHeadingCollapsed": true,
    "slideshow": {
     "slide_type": ""
    },
    "tags": []
   },
   "source": [
    "--------------------------------------------------------------------------------------------------------------------------\n",
    "#### Kolekcje: Dictionaries"
   ]
  },
  {
   "cell_type": "code",
   "execution_count": 172,
   "id": "b2050b3d-f076-4da6-bbf7-65f3b13febc1",
   "metadata": {},
   "outputs": [],
   "source": [
    "# Dictionaries (dict) jest wbudowanym typem danych, który reprezentuje słownik lub mapowanie. \n",
    "# Słownik składa się z par klucz-wartość, gdzie każdy klucz musi być unikalny \n",
    "# i może być używany do odwoływania się do odpowiadającej mu wartości."
   ]
  },
  {
   "cell_type": "code",
   "execution_count": 173,
   "id": "4c7dbe8f-dc04-4a64-9fe6-f971b17025b1",
   "metadata": {},
   "outputs": [
    {
     "data": {
      "text/plain": [
       "(dict, {}, dict, {})"
      ]
     },
     "execution_count": 173,
     "metadata": {},
     "output_type": "execute_result"
    }
   ],
   "source": [
    "# Pusty dict\n",
    "myDict1 = {}\n",
    "myDict2 = dict()\n",
    "type(myDict1), myDict1, type(myDict2), myDict2"
   ]
  },
  {
   "cell_type": "code",
   "execution_count": 174,
   "id": "d1ca724a-0055-46c1-ba18-bdb6e85fb1c4",
   "metadata": {},
   "outputs": [
    {
     "data": {
      "text/plain": [
       "{'key1': 'value1',\n",
       " 'key2': 'value2',\n",
       " 'key3': 'value3',\n",
       " 34: 34.0002,\n",
       " 'lista': [1, 2, 3, 4, 5],\n",
       " 'krotka': (23, 3, 2, 1, 1),\n",
       " 'zbiór': {1, 2, 4, 6, 7, 8}}"
      ]
     },
     "execution_count": 174,
     "metadata": {},
     "output_type": "execute_result"
    }
   ],
   "source": [
    "# Tworzenie bezpośrednio słownika\n",
    "my_dict = {\n",
    "    \"key1\": \"value1\", \n",
    "    \"key2\": \"value2\", \n",
    "    \"key3\": \"value3\",\n",
    "    34: 34.0002,  # klucz value nie muszą być stringiem\n",
    "    'lista': [1, 2, 3, 4, 5],\n",
    "    'krotka': (23, 3, 2, 1, 1),\n",
    "    'zbiór': {1, 2, 2, 4, 4, 4, 6, 7, 8}\n",
    "}\n",
    "my_dict"
   ]
  },
  {
   "cell_type": "code",
   "execution_count": 175,
   "id": "7a7572e5-6134-4efc-a7a0-0fd21846660b",
   "metadata": {},
   "outputs": [
    {
     "name": "stdout",
     "output_type": "stream",
     "text": [
      "True\n",
      "False\n",
      "True\n"
     ]
    }
   ],
   "source": [
    "# Czy zawiera w kluczu lub wartości.\n",
    "print('key3' in my_dict.keys()) \n",
    "print('hello' in my_dict.values()) \n",
    "print([1, 2, 3, 4, 5] in my_dict.values()) "
   ]
  },
  {
   "cell_type": "code",
   "execution_count": 176,
   "id": "97a32dd5-1466-44ce-8535-fdd5e48be8b6",
   "metadata": {},
   "outputs": [
    {
     "data": {
      "text/plain": [
       "'value1'"
      ]
     },
     "execution_count": 176,
     "metadata": {},
     "output_type": "execute_result"
    }
   ],
   "source": [
    "# Dostęp do danych\n",
    "my_dict['key1']"
   ]
  },
  {
   "cell_type": "code",
   "execution_count": 177,
   "id": "50ba76f2-cee2-4889-a268-85de6f41a583",
   "metadata": {},
   "outputs": [
    {
     "data": {
      "text/plain": [
       "{'key1': 123,\n",
       " 'key2': 'value2',\n",
       " 'key3': 'value3',\n",
       " 34: 34.0002,\n",
       " 'lista': [1, 2, 3, 4, 5],\n",
       " 'krotka': (23, 3, 2, 1, 1),\n",
       " 'zbiór': {1, 2, 4, 6, 7, 8}}"
      ]
     },
     "execution_count": 177,
     "metadata": {},
     "output_type": "execute_result"
    }
   ],
   "source": [
    "# Zmiana danych, nie może być dwóch tych samych kluczy, zawsze wartośc jest nadpisywana.\n",
    "my_dict['key1'] = 123\n",
    "my_dict"
   ]
  },
  {
   "cell_type": "code",
   "execution_count": 178,
   "id": "c32fa650-7000-493a-94f0-7b101e197ed4",
   "metadata": {},
   "outputs": [
    {
     "data": {
      "text/plain": [
       "{'key1': 123,\n",
       " 'key2': 'value2',\n",
       " 'key3': 'value3',\n",
       " 34: 34.0002,\n",
       " 'lista': [1, 2, 3, 4, 5],\n",
       " 'krotka': (23, 3, 2, 1, 1),\n",
       " 'zbiór': {1, 2, 4, 6, 7, 8},\n",
       " 'key11': 1234}"
      ]
     },
     "execution_count": 178,
     "metadata": {},
     "output_type": "execute_result"
    }
   ],
   "source": [
    "# Jeżeli przy zmianie danych niema klucza który się podaje zostanie stworzony nowy.\n",
    "my_dict['key11'] = 1234\n",
    "my_dict"
   ]
  },
  {
   "cell_type": "code",
   "execution_count": 179,
   "id": "1d626fcb-cdbd-4628-b2ba-a6d74dcdaa2d",
   "metadata": {},
   "outputs": [
    {
     "data": {
      "text/plain": [
       "{'key1': 'val1', 'key2': 2, 'key3': 3.14}"
      ]
     },
     "execution_count": 179,
     "metadata": {},
     "output_type": "execute_result"
    }
   ],
   "source": [
    "# Tworzenie przy użyciu konstruktoraa\n",
    "myDict = dict(key1 = 'val1', key2 = 2, key3 = 3.14)\n",
    "myDict"
   ]
  },
  {
   "cell_type": "code",
   "execution_count": 180,
   "id": "38a03384-4ad2-4a2c-9b90-9d2e074b55b0",
   "metadata": {},
   "outputs": [
    {
     "name": "stdout",
     "output_type": "stream",
     "text": [
      "{'child1': {'name': 'Emil', 'year': 2004}, 'child2': {'name': 'Tobias', 'year': 2007}, 'child3': {'name': 'Linus', 'year': 2011}}\n",
      "{'child1': {'name': 'Emil', 'year': 2004}, 'child2': {'name': 'Tobias', 'year': 2007}, 'child3': {'name': 'Linus', 'year': 2011}}\n",
      "Emil\n"
     ]
    }
   ],
   "source": [
    "# Słowniki w słownikacha\n",
    "myfamily = {\n",
    "  \"child1\" : {\n",
    "    \"name\" : \"Emil\",\n",
    "    \"year\" : 2004\n",
    "  },\n",
    "  \"child2\" : {\n",
    "    \"name\" : \"Tobias\",\n",
    "    \"year\" : 2007\n",
    "  },\n",
    "  \"child3\" : {\n",
    "    \"name\" : \"Linus\",\n",
    "    \"year\" : 2011\n",
    "  }\n",
    "}\n",
    "print(myfamily)\n",
    "# lub\n",
    "child1 = {\n",
    "  \"name\" : \"Emil\",\n",
    "  \"year\" : 2004\n",
    "}\n",
    "child2 = {\n",
    "  \"name\" : \"Tobias\",\n",
    "  \"year\" : 2007\n",
    "}\n",
    "child3 = {\n",
    "  \"name\" : \"Linus\",\n",
    "  \"year\" : 2011\n",
    "}\n",
    "\n",
    "myfamily = {\n",
    "  \"child1\" : child1,\n",
    "  \"child2\" : child2,\n",
    "  \"child3\" : child3\n",
    "}\n",
    "print(myfamily)\n",
    "# dostęp do komurki\n",
    "print(myfamily['child1']['name'])"
   ]
  },
  {
   "cell_type": "markdown",
   "id": "ba3ecd3e-2b93-4523-94e2-3cf2b09f35a4",
   "metadata": {
    "editable": true,
    "jp-MarkdownHeadingCollapsed": true,
    "slideshow": {
     "slide_type": ""
    },
    "tags": []
   },
   "source": [
    "--------------------------------------------------------------------------------------------------------------------------\n",
    "#### Metody: Dictionaries"
   ]
  },
  {
   "cell_type": "code",
   "execution_count": 181,
   "id": "720aa13b-b358-4796-9094-804e415bcaac",
   "metadata": {},
   "outputs": [
    {
     "name": "stdout",
     "output_type": "stream",
     "text": [
      "{}\n"
     ]
    }
   ],
   "source": [
    "# clear()\n",
    "# Metoda clear() jest używana do usuwania wszystkich elementów ze słownika w języku Python. \n",
    "# Po zastosowaniu tej metody, słownik będzie pusty.\n",
    "my_dict = {\"name\": \"John\", \"age\": 30, \"city\": \"New York\"}\n",
    "my_dict.clear()\n",
    "print(my_dict)"
   ]
  },
  {
   "cell_type": "code",
   "execution_count": 182,
   "id": "2d83424d-806f-4433-b155-1fe681d56cc3",
   "metadata": {},
   "outputs": [
    {
     "name": "stdout",
     "output_type": "stream",
     "text": [
      "{'name': 'John', 'age': 30, 'city': 'New York'}\n",
      "{'name': 'Alice', 'age': 30, 'city': 'New York'}\n",
      "{'name': 'John', 'age': 30, 'city': 'New York'}\n"
     ]
    }
   ],
   "source": [
    "# copy()\n",
    "# Metoda copy() jest używana do tworzenia płytkej kopii (shallow copy) słownika w języku Python. \n",
    "# Płytka kopia tworzona przez copy() zawiera te same klucze i wartości co oryginalny słownik, \n",
    "# ale sama jest nowym obiektem, niezależnym od oryginału.\n",
    "stary_slownik = {\"name\": \"John\", \"age\": 30, \"city\": \"New York\"}\n",
    "nowy_slownik = stary_slownik.copy()\n",
    "print(nowy_slownik)  # Wynik: {'name': 'John', 'age': 30, 'city': 'New York'}\n",
    "# Sprawdzenie, czy nowy słownik jest niezależny od oryginału\n",
    "nowy_slownik[\"name\"] = \"Alice\"\n",
    "print(nowy_slownik)  # Wynik: {'name': 'Alice', 'age': 30, 'city': 'New York'}\n",
    "print(stary_slownik)  # Wynik: {'name': 'John', 'age': 30, 'city': 'New York'}"
   ]
  },
  {
   "cell_type": "code",
   "execution_count": 183,
   "id": "9b2ee21e-9c56-4809-a2cd-abe65531d4d2",
   "metadata": {},
   "outputs": [
    {
     "name": "stdout",
     "output_type": "stream",
     "text": [
      "{'a': 0, 'b': 0, 'c': 0}\n"
     ]
    }
   ],
   "source": [
    "# fromkeys()\n",
    "# Metoda fromkeys() jest używana do tworzenia nowego słownika z podanych kluczy i opcjonalnej wartości domyślnej.\n",
    "# nowy_slownik = dict.fromkeys(klucze, wartosc=None)\n",
    "klucze = [\"a\", \"b\", \"c\"]\n",
    "wartosc_domyslna = 0\n",
    "nowy_slownik = dict.fromkeys(klucze, wartosc_domyslna)\n",
    "print(nowy_slownik) "
   ]
  },
  {
   "cell_type": "code",
   "execution_count": 184,
   "id": "426180b2-c9d4-4445-bc7c-4e0cfeadd480",
   "metadata": {},
   "outputs": [
    {
     "name": "stdout",
     "output_type": "stream",
     "text": [
      "John\n",
      "None\n",
      "Unknown\n"
     ]
    }
   ],
   "source": [
    "# get()\n",
    "# Metoda get() jest używana do pobierania wartości związanej z określonym kluczem w słowniku w języku Python. \n",
    "# Różnica między użyciem get() a bezpośredniego odwołania do klucza polega na tym, że jeśli klucz nie istnieje, \n",
    "# metoda get() zwróci wartość domyślną (domyślnie None), podczas gdy bezpośrednie odwołanie do klucza wygeneruje wyjątek KeyError.\n",
    "# wartosc = nazwa_slownika.get(klucz, domyslna_wartosc=None)\n",
    "my_dict = {\"name\": \"John\", \"age\": 30, \"city\": \"New York\"}\n",
    "# Pobranie wartości dla istniejącego klucza\n",
    "name = my_dict.get(\"name\")\n",
    "print(name)\n",
    "# Pobranie wartości dla nieistniejącego klucza\n",
    "gender = my_dict.get(\"gender\")\n",
    "print(gender)\n",
    "# Pobranie wartości dla nieistniejącego klucza z wartością domyślną\n",
    "gender = my_dict.get(\"gender\", \"Unknown\")\n",
    "print(gender)"
   ]
  },
  {
   "cell_type": "code",
   "execution_count": 185,
   "id": "ecf51943-421e-4124-a09a-8fa5bf80b430",
   "metadata": {},
   "outputs": [
    {
     "name": "stdout",
     "output_type": "stream",
     "text": [
      "name John\n",
      "age 30\n",
      "city New York\n"
     ]
    }
   ],
   "source": [
    "# items()\n",
    "# Metoda items() jest używana do zwrócenia widoku (view) zawierającego wszystkie pary klucz-wartość w słowniku jako krotki. \n",
    "# Ten widok można iterować lub przekształcić na listę.\n",
    "my_dict = {\"name\": \"John\", \"age\": 30, \"city\": \"New York\"}\n",
    "# Uzyskanie widoku zawierającego pary klucz-wartość\n",
    "items_view = my_dict.items()\n",
    "# Iteracja przez widok i wydrukowanie każdej pary klucz-wartość\n",
    "for key, value in items_view:\n",
    "    print(key, value)"
   ]
  },
  {
   "cell_type": "code",
   "execution_count": 186,
   "id": "98aed4f1-ed4d-4df6-a3ba-7d5f748e4a0c",
   "metadata": {},
   "outputs": [
    {
     "name": "stdout",
     "output_type": "stream",
     "text": [
      "name\n",
      "age\n",
      "city\n"
     ]
    }
   ],
   "source": [
    "# keys()\n",
    "# Metoda keys() jest używana do zwrócenia widoku (view) zawierającego wszystkie klucze znajdujące się w słowniku. \n",
    "# Ten widok można iterować lub przekształcić na listę.\n",
    "my_dict = {\"name\": \"John\", \"age\": 30, \"city\": \"New York\"}\n",
    "# Uzyskanie widoku zawierającego klucze\n",
    "keys_view = my_dict.keys()\n",
    "# Iteracja przez widok i wydrukowanie każdego klucza\n",
    "for key in keys_view:\n",
    "    print(key)"
   ]
  },
  {
   "cell_type": "code",
   "execution_count": 187,
   "id": "d6d14065-aba2-4789-a52a-eb5c13442260",
   "metadata": {},
   "outputs": [
    {
     "name": "stdout",
     "output_type": "stream",
     "text": [
      "30\n",
      "{'name': 'John', 'city': 'New York'}\n"
     ]
    }
   ],
   "source": [
    "# pop()\n",
    "# Metoda pop() służy do usuwania elementu ze słownika na podstawie podanego klucza i jednocześnie zwraca wartość tego elementu.\n",
    "my_dict = {\"name\": \"John\", \"age\": 30, \"city\": \"New York\"}\n",
    "usunieta_wartosc = my_dict.pop(\"age\")\n",
    "print(usunieta_wartosc)  \n",
    "print(my_dict)  "
   ]
  },
  {
   "cell_type": "code",
   "execution_count": 188,
   "id": "cf6e90d8-0ab5-424d-a956-6e2f611a641c",
   "metadata": {},
   "outputs": [
    {
     "name": "stdout",
     "output_type": "stream",
     "text": [
      "('city', 'New York')\n",
      "{'name': 'John', 'age': 30}\n"
     ]
    }
   ],
   "source": [
    "# popitem()\n",
    "# Metoda popitem() służy do usuwania i zwracania ostatniej pary klucz-wartość ze słownika w języku Python. \n",
    "# Ostatnia para klucz-wartość jest niezdefiniowana w słownikach, ponieważ są one nieuporządkowane, \n",
    "# ale zazwyczaj jest to ostatnio dodana para lub para z ostatnio przetworzonego widoku.\n",
    "my_dict = {\"name\": \"John\", \"age\": 30, \"city\": \"New York\"}\n",
    "ostatnia_para = my_dict.popitem()\n",
    "print(ostatnia_para)  \n",
    "print(my_dict)  "
   ]
  },
  {
   "cell_type": "code",
   "execution_count": 189,
   "id": "2e3f1bf4-d505-4e3a-845e-b9a56fc6c24d",
   "metadata": {},
   "outputs": [
    {
     "name": "stdout",
     "output_type": "stream",
     "text": [
      "John\n",
      "New York\n",
      "{'name': 'John', 'age': 30, 'city': 'New York'}\n"
     ]
    }
   ],
   "source": [
    "# setdefault()\n",
    "# Metoda setdefault() w języku Python służy do uzyskiwania wartości dla określonego klucza ze słownika. \n",
    "# Jeśli klucz nie istnieje, metoda setdefault() dodaje nowy klucz z wartością domyślną do słownika.\n",
    "# wartosc = nazwa_slownika.setdefault(klucz, wartosc_domyslna)\n",
    "my_dict = {\"name\": \"John\", \"age\": 30}\n",
    "name = my_dict.setdefault(\"name\")\n",
    "print(name)\n",
    "city = my_dict.setdefault(\"city\", \"New York\")\n",
    "print(city)\n",
    "print(my_dict)"
   ]
  },
  {
   "cell_type": "code",
   "execution_count": 190,
   "id": "e9d042e8-6882-4a9b-89ef-bfeca58d8618",
   "metadata": {},
   "outputs": [
    {
     "name": "stdout",
     "output_type": "stream",
     "text": [
      "{'name': 'John', 'age': 30, 'city': 'New York', 'country': 'USA'}\n",
      "{'name': 'John', 'age': 30, 'city': 'New York', 'country': 'USA'}\n"
     ]
    }
   ],
   "source": [
    "# update()\n",
    "# Metoda update() w języku Python służy do aktualizowania słownika poprzez dodawanie par klucz-wartość z innego słownika \n",
    "# lub listy krotek zawierających pary klucz-wartość.\n",
    "# nazwa_slownika.update(inny_slownik)\n",
    "# nazwa_slownika.update([(klucz1, wartosc1), (klucz2, wartosc2), ...])\n",
    "\n",
    "# Aktualizacja słownika za pomocą innego słownika\n",
    "my_dict = {\"name\": \"John\", \"age\": 30}\n",
    "new_data = {\"city\": \"New York\", \"country\": \"USA\"}\n",
    "my_dict.update(new_data)\n",
    "print(my_dict)  \n",
    "\n",
    "# Aktualizacja słownika za pomocą listy krotek\n",
    "my_dict = {\"name\": \"John\", \"age\": 30}\n",
    "new_data = [(\"city\", \"New York\"), (\"country\", \"USA\")]\n",
    "my_dict.update(new_data)\n",
    "print(my_dict)  "
   ]
  },
  {
   "cell_type": "code",
   "execution_count": 191,
   "id": "d25fa2d0-3399-485d-8d4d-2a77763fd6e5",
   "metadata": {},
   "outputs": [
    {
     "name": "stdout",
     "output_type": "stream",
     "text": [
      "John\n",
      "30\n",
      "New York\n"
     ]
    }
   ],
   "source": [
    "# values()\n",
    "# Metoda values() w języku Python służy do zwracania widoku (view) zawierającego wszystkie wartości znajdujące się w słowniku. \n",
    "# Ten widok można iterować lub przekształcić na listę.\n",
    "my_dict = {\"name\": \"John\", \"age\": 30, \"city\": \"New York\"}\n",
    "values_view = my_dict.values()\n",
    "for value in values_view:\n",
    "    print(value)"
   ]
  },
  {
   "cell_type": "markdown",
   "id": "1452eca7-948e-4a15-af09-4d1cddb3a925",
   "metadata": {
    "jp-MarkdownHeadingCollapsed": true
   },
   "source": [
    "--------------------------------------------------------------------------------------------------------------------------\n",
    "#### Kolekcje: set, frozenset"
   ]
  },
  {
   "cell_type": "code",
   "execution_count": 192,
   "id": "cf042c46-b2e8-4a63-99b0-dc3e4dab5f20",
   "metadata": {},
   "outputs": [],
   "source": [
    "# Nieuporządkowana kolekcja objektów, do szybkich operacji na zbiorach."
   ]
  },
  {
   "cell_type": "code",
   "execution_count": 193,
   "id": "f5f3ac3c-c9ad-4981-9889-20e076c57411",
   "metadata": {},
   "outputs": [
    {
     "data": {
      "text/plain": [
       "(dict, {}, set, set())"
      ]
     },
     "execution_count": 193,
     "metadata": {},
     "output_type": "execute_result"
    }
   ],
   "source": [
    "# Pusty set\n",
    "mySet1 = {} # tak się tworzy dict a nie set !!!\n",
    "mySet2 = set()\n",
    "type(mySet1), mySet1, type(mySet2), mySet2"
   ]
  },
  {
   "cell_type": "code",
   "execution_count": 194,
   "id": "38396782-1c3e-45fe-89b8-1ce2eb74241b",
   "metadata": {},
   "outputs": [
    {
     "name": "stdout",
     "output_type": "stream",
     "text": [
      "{1, 2, 3, 4, 5, 6, 7}\n"
     ]
    }
   ],
   "source": [
    "mySet = {1,2,3,4,5,6,7,7,6}\n",
    "print(mySet)"
   ]
  },
  {
   "cell_type": "code",
   "execution_count": 195,
   "id": "1671bf02-9f39-4ba1-9deb-6768a19f37c2",
   "metadata": {},
   "outputs": [
    {
     "name": "stdout",
     "output_type": "stream",
     "text": [
      "[1, 'sd', 'sd', 2, 3, 1, 1]\n",
      "{1, 2, 3, 'sd'}\n"
     ]
    },
    {
     "data": {
      "text/plain": [
       "[1, 2, 3, 'sd']"
      ]
     },
     "execution_count": 195,
     "metadata": {},
     "output_type": "execute_result"
    }
   ],
   "source": [
    "# zestawy nie posiadają powtórzeń, jeżeli się jakieś popełni przy inicjalizacji, to nie zostanie wzięte pod uwagę.\n",
    "# łatwo w ten sposób można pozbyć się powtórzeń w innyck kolekcjach.\n",
    "myList = [1, 'sd', 'sd', 2, 3, 1, 1]\n",
    "print(myList)\n",
    "mySet = set(myList)\n",
    "print(mySet)\n",
    "myList = list(mySet)\n",
    "myList"
   ]
  },
  {
   "cell_type": "code",
   "execution_count": 196,
   "id": "4482ca18-bd45-4583-b576-e23f42ba93d2",
   "metadata": {},
   "outputs": [
    {
     "name": "stdout",
     "output_type": "stream",
     "text": [
      "{1, 2, 3, 4, 5, 6, 7}\n",
      "{1, 2, 4, 5, 6, 7}\n",
      "{1, 2, 4, 5, 6, 7, 10}\n"
     ]
    }
   ],
   "source": [
    "# modyfikować elementu nie można, ale można usunąć po wartości i dodać nowy\n",
    "mySet = {1,2,3,4,5,6,7,7,6}\n",
    "print(mySet)\n",
    "mySet.remove(3)\n",
    "print(mySet)\n",
    "mySet.add(10)\n",
    "print(mySet)"
   ]
  },
  {
   "cell_type": "code",
   "execution_count": 197,
   "id": "50d1e856-b8df-4429-b7f8-214476100318",
   "metadata": {},
   "outputs": [
    {
     "data": {
      "text/plain": [
       "({1, 2, 3, 4, 5}, {3}, {1, 2}, {1, 2, 4, 5})"
      ]
     },
     "execution_count": 197,
     "metadata": {},
     "output_type": "execute_result"
    }
   ],
   "source": [
    "mySet1 = {1, 2, 3}\n",
    "mySet2 = {3, 4, 5}\n",
    "# Suma\n",
    "suma_zbioru = mySet1 | mySet2\n",
    "# Iloczyn\n",
    "iloczyn_zbioru = mySet1 & mySet2\n",
    "# Różnica\n",
    "roznica_zbioru = mySet1 - mySet2\n",
    "# Różnica symetryczna\n",
    "roznica_symetryczna_zbioru = mySet1 ^ mySet2\n",
    "\n",
    "suma_zbioru, iloczyn_zbioru, roznica_zbioru, roznica_symetryczna_zbioru"
   ]
  },
  {
   "cell_type": "code",
   "execution_count": 198,
   "id": "a6454bbe-125e-4612-b46d-d6cf383b6bfc",
   "metadata": {},
   "outputs": [
    {
     "name": "stdout",
     "output_type": "stream",
     "text": [
      "frozenset({1, 2, 3, 4, 5})\n",
      "frozenset({'a', 'b', 'c'})\n",
      "frozenset({1, 2, 3})\n"
     ]
    }
   ],
   "source": [
    "# Frozenset jest typem wbudowanym, który reprezentuje niezmienny zestaw, czyli zestaw, którego elementy nie mogą być zmieniane po utworzeniu. \n",
    "# Frozenset jest podobny do zestawu (set), ale jest niemutowalny, co oznacza, że nie można dodawać, usuwać ani modyfikować jego elementów \n",
    "# po jego utworzeniu.\n",
    "# Możesz utworzyć frozenset za pomocą funkcji wbudowanej frozenset() poprzez przekazanie mu iterowalnej kolekcji jako argumentu.\n",
    "my_frozenset = frozenset([1, 2, 3, 4, 5])\n",
    "print(my_frozenset) \n",
    "# Elementy frozenset mogą być liczbami, łańcuchami znaków, krotkami i innymi niemutowalnymi typami danych.\n",
    "my_frozenset = frozenset({'a', 'b', 'c'})\n",
    "print(my_frozenset)  \n",
    "my_frozenset = frozenset((1, 2, 3))\n",
    "print(my_frozenset) \n",
    "# Niemutowalność frozenset ma swoje zastosowanie, gdy potrzebujesz użyć zestawu jako klucza w słowniku lub jako elementu innego zestawu, \n",
    "# ponieważ niemutowalne obiekty mogą być haszowane i są porównywane tylko na podstawie ich wartości."
   ]
  },
  {
   "cell_type": "markdown",
   "id": "816cadbc-39d3-4c94-851d-0492ecea0a5b",
   "metadata": {
    "jp-MarkdownHeadingCollapsed": true
   },
   "source": [
    "--------------------------------------------------------------------------------------------------------------------------\n",
    "#### Metody set"
   ]
  },
  {
   "cell_type": "code",
   "execution_count": 199,
   "id": "88e27550-f4a9-4aee-b004-56dc28287938",
   "metadata": {},
   "outputs": [
    {
     "name": "stdout",
     "output_type": "stream",
     "text": [
      "{1, 2, 3, 4}\n",
      "{1, 2, 3, 4}\n"
     ]
    }
   ],
   "source": [
    "# add()\t\n",
    "# Metoda jest używana do dodawania nowego elementu do zbioru. \n",
    "# Jeśli element już istnieje w zbiorze, nie zostanie on dodany ponownie, ponieważ zbiory zawierają tylko unikalne elementy.\n",
    "my_set = {1, 2, 3}\n",
    "my_set.add(4)\n",
    "print(my_set) \n",
    "my_set.add(2)\n",
    "print(my_set)"
   ]
  },
  {
   "cell_type": "code",
   "execution_count": 200,
   "id": "cef82bdc-060b-440e-94ca-d37cf45bd892",
   "metadata": {},
   "outputs": [
    {
     "name": "stdout",
     "output_type": "stream",
     "text": [
      "set()\n"
     ]
    }
   ],
   "source": [
    "# clear()\n",
    "# Metoda jest używana do usuwania wszystkich elementów ze zbioru. Po zastosowaniu tej metody, zbiór będzie pusty.\n",
    "my_set = {1, 2, 3, 4, 5}\n",
    "my_set.clear()\n",
    "print(my_set)"
   ]
  },
  {
   "cell_type": "code",
   "execution_count": 201,
   "id": "a7dfdcca-2151-4062-8536-a3571bb3fd65",
   "metadata": {},
   "outputs": [
    {
     "name": "stdout",
     "output_type": "stream",
     "text": [
      "Oryginalny zestaw: {1, 2, 3, 4}\n",
      "Kopia zestawu: {1, 2, 3}\n"
     ]
    }
   ],
   "source": [
    "# copy()\n",
    "# Metoda służy do tworzenia kopii zestawu. \n",
    "# Kopia jest niezależnym zestawem, co oznacza, że zmiany dokonywane na kopii nie wpływają na oryginalny zestaw, \n",
    "# a zmiany dokonywane na oryginalnym zestawie nie wpływają na jego kopię.\n",
    "original_set = {1, 2, 3}\n",
    "copy_set = original_set.copy()\n",
    "original_set.add(4)\n",
    "print(\"Oryginalny zestaw:\", original_set)\n",
    "print(\"Kopia zestawu:\", copy_set)"
   ]
  },
  {
   "cell_type": "code",
   "execution_count": 202,
   "id": "92f16d23-f882-4058-9e30-3631307f203e",
   "metadata": {},
   "outputs": [
    {
     "name": "stdout",
     "output_type": "stream",
     "text": [
      "{1, 2, 3}\n"
     ]
    }
   ],
   "source": [
    "# difference()\t\n",
    "# Zwraca zestaw zawierający różnicę między dwoma lub więcej zestawami.\n",
    "# Metoda zwraca nowy zestaw zawierający elementy, które występują tylko w jednym z zestawów, ale nie występują w obu jednocześnie. \n",
    "# Innymi słowy, zwraca zbiór elementów, które są obecne tylko w jednym z zestawów, ale nie w obu.\n",
    "set1 = {1, 2, 3, 4, 5}\n",
    "set2 = {4, 5, 6, 7, 8}\n",
    "result_set = set1.difference(set2)\n",
    "print(result_set)"
   ]
  },
  {
   "cell_type": "code",
   "execution_count": 203,
   "id": "e9d556e4-5360-4f6b-8f89-9a10e3b03dd0",
   "metadata": {},
   "outputs": [
    {
     "name": "stdout",
     "output_type": "stream",
     "text": [
      "{1, 2, 3}\n"
     ]
    }
   ],
   "source": [
    "# difference_update()\t\n",
    "# Usuwa elementy tego zestawu, które są również zawarte w innym, określonym zestawie.\n",
    "# Metoda difference_update() w języku Python jest używana do aktualizacji zestawu poprzez usunięcie z niego elementów, \n",
    "# które występują również w innym zestawie. Metoda ta zmienia oryginalny zestaw, usuwając z niego elementy, które są wspólne dla obu zestawów.\n",
    "set1 = {1, 2, 3, 4, 5}\n",
    "set2 = {4, 5, 6, 7, 8}\n",
    "set1.difference_update(set2)\n",
    "print(set1)"
   ]
  },
  {
   "cell_type": "code",
   "execution_count": 204,
   "id": "1d069806-a979-4cc7-bab5-8f8d826c8190",
   "metadata": {},
   "outputs": [
    {
     "name": "stdout",
     "output_type": "stream",
     "text": [
      "{1, 2, 4, 5}\n",
      "{1, 2, 4, 5}\n"
     ]
    }
   ],
   "source": [
    "# discard()\n",
    "# Usunięcie określonego elementu, nie wywołuje błedu jak niema danego elementu.\n",
    "# Metoda służy do usuwania określonego elementu z zestawu, jeśli istnieje. \n",
    "# Jednak w przeciwieństwie do metody remove(), discard() nie wywoła błędu, \n",
    "# jeśli element nie istnieje w zestawie, po prostu cicho zakończy działanie.\n",
    "mySet = {1, 2, 3, 4, 5}\n",
    "mySet.discard(3)\n",
    "print(mySet)  \n",
    "mySet.discard(6)\n",
    "print(mySet)  # brak zmiany, ponieważ 6 nie istnieje w zestawie"
   ]
  },
  {
   "cell_type": "code",
   "execution_count": 205,
   "id": "1ff654fc-e02f-42f7-a8e1-b3797abec721",
   "metadata": {},
   "outputs": [
    {
     "name": "stdout",
     "output_type": "stream",
     "text": [
      "{4, 5}\n"
     ]
    }
   ],
   "source": [
    "# intersection()\t\n",
    "# Zwraca zbiór, który jest przecięciem dwóch innych zbiorów.\n",
    "# Metoda jest używana do uzyskiwania zbioru, który zawiera tylko te elementy, które są wspólne dla dwóch (lub więcej) zestawów.\n",
    "set1 = {1, 2, 3, 4, 5}\n",
    "set2 = {4, 5, 6, 7, 8}\n",
    "result_set = set1.intersection(set2)\n",
    "print(result_set) "
   ]
  },
  {
   "cell_type": "code",
   "execution_count": 206,
   "id": "c7382987-528a-4e45-8e9b-35adeb343b3f",
   "metadata": {},
   "outputs": [
    {
     "name": "stdout",
     "output_type": "stream",
     "text": [
      "{4, 5}\n"
     ]
    }
   ],
   "source": [
    "# intersection_update()\n",
    "# Usuwa z tego zestawu elementy, których nie ma w innych, określonych zestawach.\n",
    "# Metoda jest używana do aktualizacji zestawu tak, aby zawierał tylko elementy wspólne dla dwóch (lub więcej) zestawów. \n",
    "# Metoda ta zmienia oryginalny zestaw, usuwając z niego elementy, które nie są wspólne dla obu zestawów.\n",
    "set1 = {1, 2, 3, 4, 5}\n",
    "set2 = {4, 5, 6, 7, 8}\n",
    "set1.intersection_update(set2)\n",
    "print(set1)  "
   ]
  },
  {
   "cell_type": "code",
   "execution_count": 207,
   "id": "f9be99a2-fb0c-455e-bfd6-7024160d9ed2",
   "metadata": {},
   "outputs": [
    {
     "name": "stdout",
     "output_type": "stream",
     "text": [
      "True\n"
     ]
    }
   ],
   "source": [
    "# isdisjoint()\n",
    "# Sprawdza, czy dwa zbiory nie przecinają się.\n",
    "# Metoda służy do sprawdzenia, czy dwa zestawy są rozłączne, czyli czy nie mają wspólnych elementów. \n",
    "# Zwraca True, jeśli zestawy są rozłączne (nie mają wspólnych elementów), a False, jeśli mają co najmniej jeden wspólny element.\n",
    "set1 = {1, 2, 3}\n",
    "set2 = {4, 5, 6}\n",
    "result = set1.isdisjoint(set2)\n",
    "print(result)  # Wynik: True, ponieważ set1 i set2 są rozłączne"
   ]
  },
  {
   "cell_type": "code",
   "execution_count": 208,
   "id": "a4ca8816-88b1-4d5b-859b-365ca02b026c",
   "metadata": {},
   "outputs": [
    {
     "name": "stdout",
     "output_type": "stream",
     "text": [
      "True\n"
     ]
    }
   ],
   "source": [
    "# issubset()\n",
    "# Sprawdza, czy inny zestaw zawiera ten zestaw, czy nie.\n",
    "# Metoda służy do sprawdzenia, czy jeden zestaw jest podzbiorem innego zestawu. \n",
    "# Zwraca True, jeśli wszystkie elementy pierwszego zestawu są również elementami drugiego zestawu, a False w przeciwnym przypadku.\n",
    "set1 = {1, 2, 3}\n",
    "set2 = {1, 2, 3, 4, 5}\n",
    "result = set1.issubset(set2)\n",
    "print(result)  # Wynik: True, ponieważ set1 jest podzbiorem set2"
   ]
  },
  {
   "cell_type": "code",
   "execution_count": 209,
   "id": "a0d875b3-55ef-4558-ae6b-25724e809d05",
   "metadata": {},
   "outputs": [
    {
     "name": "stdout",
     "output_type": "stream",
     "text": [
      "True\n"
     ]
    }
   ],
   "source": [
    "# issuperset()\n",
    "# Sprawdza, czy ten zestaw zawiera inny zestaw, czy nie.\n",
    "# Metoda służy do sprawdzenia, czy jeden zestaw jest nadzbiorem innego zestawu. \n",
    "# Zwraca True, jeśli wszystkie elementy drugiego zestawu są również elementami pierwszego zestawu, a False w przeciwnym przypadku.\n",
    "set1 = {1, 2, 3, 4, 5}\n",
    "set2 = {1, 2, 3}\n",
    "result = set1.issuperset(set2)\n",
    "print(result)  # Wynik: True, ponieważ set1 jest nadzbiorem set2"
   ]
  },
  {
   "cell_type": "code",
   "execution_count": 210,
   "id": "dc28ca37-d854-4d8c-be1a-b8939dc475b3",
   "metadata": {},
   "outputs": [
    {
     "name": "stdout",
     "output_type": "stream",
     "text": [
      "Usunięty element: 1\n",
      "Zestaw po usunięciu: {2, 3, 4, 5}\n"
     ]
    }
   ],
   "source": [
    "# pop()\n",
    "# Metoda usuwa losowy element z zestawu.\n",
    "# Metoda usuwa i zwraca losowy element z zestawu. \n",
    "# Ponieważ zbiory są nieuporządkowane, nie ma sposobu określenia, który element zostanie usunięty. \n",
    "# Metoda pop() zwraca usunięty element jako wynik operacji.\n",
    "my_set = {1, 2, 3, 4, 5}\n",
    "removed_element = my_set.pop()\n",
    "print(\"Usunięty element:\", removed_element)\n",
    "print(\"Zestaw po usunięciu:\", my_set)"
   ]
  },
  {
   "cell_type": "code",
   "execution_count": 211,
   "id": "4d38767a-cb68-48c5-b7ce-128568e74630",
   "metadata": {},
   "outputs": [
    {
     "name": "stdout",
     "output_type": "stream",
     "text": [
      "{1, 2, 4, 5}\n"
     ]
    }
   ],
   "source": [
    "# remove()\t\n",
    "# Usunięcie określonego elementu, wywołuje błąd jak niema danego elementu.\n",
    "# Metoda służy do usuwania określonego elementu z zestawu. \n",
    "# Jeśli element nie istnieje w zestawie, wywołanie remove() spowoduje wygenerowanie błędu KeyError.\n",
    "my_set = {1, 2, 3, 4, 5}\n",
    "my_set.remove(3)\n",
    "print(my_set)  # Wynik: {1, 2, 4, 5}\n",
    "# my_set.remove(6)  # Spowoduje wygenerowanie błędu KeyError"
   ]
  },
  {
   "cell_type": "code",
   "execution_count": 212,
   "id": "f5e36e87-38bb-41eb-af3b-5b539e53d1cd",
   "metadata": {},
   "outputs": [
    {
     "name": "stdout",
     "output_type": "stream",
     "text": [
      "{1, 2, 3, 6, 7, 8}\n"
     ]
    }
   ],
   "source": [
    "# symmetric_difference()\t\n",
    "# Zwraca zbiór zawierający symetryczne różnice dwóch zbiorów.\n",
    "# Metoda zwraca nowy zestaw zawierający elementy, które są obecne w jednym z dwóch zestawów, ale nie w obu jednocześnie. \n",
    "# Innymi słowy, zwraca zbiór elementów, które są w jednym ze zestawów, ale nie są w obu jednocześnie.\n",
    "set1 = {1, 2, 3, 4, 5}\n",
    "set2 = {4, 5, 6, 7, 8}\n",
    "result_set = set1.symmetric_difference(set2)\n",
    "print(result_set)  "
   ]
  },
  {
   "cell_type": "code",
   "execution_count": 213,
   "id": "b5b8621c-daf9-4883-ad70-c25c8767ecbe",
   "metadata": {},
   "outputs": [
    {
     "name": "stdout",
     "output_type": "stream",
     "text": [
      "{1, 2, 3, 6, 7, 8}\n"
     ]
    }
   ],
   "source": [
    "# symmetric_difference_update()\n",
    "# Wstawia symetryczne różnice z tego zestawu i innego.\n",
    "# Metoda służy do aktualizacji zestawu poprzez zastąpienie jego zawartości różnicą symetryczną między nim a innym zestawem. \n",
    "# Metoda ta zmienia oryginalny zestaw, usuwając z niego elementy wspólne dla obu zestawów i dodając elementy, \n",
    "# które występują tylko w jednym z zestawów.\n",
    "set1 = {1, 2, 3, 4, 5}\n",
    "set2 = {4, 5, 6, 7, 8}\n",
    "set1.symmetric_difference_update(set2)\n",
    "print(set1)  # Wynik: {1, 2, 3, 6, 7, 8}"
   ]
  },
  {
   "cell_type": "code",
   "execution_count": 214,
   "id": "4ad57977-5fd8-491d-874b-0274275110ae",
   "metadata": {},
   "outputs": [
    {
     "name": "stdout",
     "output_type": "stream",
     "text": [
      "{1, 2, 3, 4, 5}\n"
     ]
    }
   ],
   "source": [
    "# union()\n",
    "# Zwraca zbiór zawierający połączenie zbiorów.\n",
    "# Metoda zwraca nowy zestaw zawierający wszystkie unikalne elementy ze wszystkich zestawów podanych jako argumenty, \n",
    "# włączając w to elementy z zestawu, na którym została wywołana metoda. Metoda union() jest również dostępna za pomocą operatora |.\n",
    "set1 = {1, 2, 3}\n",
    "set2 = {3, 4, 5}\n",
    "result_set = set1.union(set2)\n",
    "print(result_set) "
   ]
  },
  {
   "cell_type": "code",
   "execution_count": 215,
   "id": "ce35eb78-20a0-449a-a115-60ffb095532c",
   "metadata": {},
   "outputs": [
    {
     "name": "stdout",
     "output_type": "stream",
     "text": [
      "{1, 2, 3, 4, 5}\n",
      "{1, 2, 3, 4, 5, 6}\n"
     ]
    }
   ],
   "source": [
    "# update()\n",
    "# Zaktualizuj zestaw, łącząc ten zestaw z innymi.\n",
    "# Metoda służy do dodawania elementów z jednego zestawu do innego zestawu. \n",
    "# Może być używana również do dodawania elementów z innych kolekcji, takich jak listy czy krotki, do zestawu. \n",
    "# Metoda update() modyfikuje oryginalny zestaw, dodając do niego elementy podane jako argumenty.\n",
    "set1 = {1, 2, 3}\n",
    "set2 = {3, 4, 5}\n",
    "set1.update(set2)\n",
    "print(set1)  \n",
    "# Można też dodać listę\n",
    "set1 = {1, 2, 3}\n",
    "list1 = [4, 5, 6]\n",
    "set1.update(list1)\n",
    "print(set1) "
   ]
  },
  {
   "cell_type": "markdown",
   "id": "95c68f2b-744e-478b-b7c2-6336c5280dd9",
   "metadata": {
    "jp-MarkdownHeadingCollapsed": true
   },
   "source": [
    "--------------------------------------------------------------------------------------------------------------------------\n",
    "#### Typ logiczny: bool"
   ]
  },
  {
   "cell_type": "code",
   "execution_count": 216,
   "id": "6565efb0-8215-4c1a-9114-d8318c74075c",
   "metadata": {},
   "outputs": [
    {
     "name": "stdout",
     "output_type": "stream",
     "text": [
      "True <class 'bool'>\n",
      "False\n",
      "x = True\n",
      "x = True\n",
      "out = False\n",
      "out = False\n",
      "out = True\n",
      "out = True\n",
      "False\n",
      "False\n",
      "False\n",
      "False\n",
      "False\n",
      "False\n",
      "False\n",
      "False\n"
     ]
    }
   ],
   "source": [
    "# bool\n",
    "\n",
    "'''\n",
    "x != y\n",
    "x == y \n",
    "x > y\n",
    "x < y\n",
    "x >= y\n",
    "x <= y\n",
    "x is y (==)\n",
    "x is not y (!=) \n",
    "x and y\n",
    "x or y\n",
    "x not y\n",
    "'a' in 'abc' # sprawdza czy 'a' zawiera się stringu w 'abc' w tym przypadku to True\n",
    "'''\n",
    "\n",
    "x = True\n",
    "# x = False\n",
    "print(x, type(x))\n",
    "print(x < 0)\n",
    "print(f'x = {x}')\n",
    "print('x =', x)\n",
    "print(f'out = {x == 0}')\n",
    "print(f'out = {x < 0}')\n",
    "print(f'out = {x != 0}')\n",
    "print(f'out = {x > 0}')\n",
    "print(bool(False))\n",
    "print(bool(None))\n",
    "print(bool(0))\n",
    "print(bool(''))\n",
    "print(bool(\"\"))\n",
    "print(bool(()))\n",
    "print(bool([]))\n",
    "print(bool({}))"
   ]
  },
  {
   "cell_type": "markdown",
   "id": "1a8e71f1-5bb3-455b-803f-4344c733bbc3",
   "metadata": {
    "jp-MarkdownHeadingCollapsed": true
   },
   "source": [
    "--------------------------------------------------------------------------------------------------------------------------\n",
    "#### Dane binarne: bytes, bytearray, memoryview"
   ]
  },
  {
   "cell_type": "code",
   "execution_count": 217,
   "id": "117eb42f-dbe6-423c-9708-11236b684fe7",
   "metadata": {},
   "outputs": [],
   "source": [
    "# bytes()\n",
    "# Typ danych bytes w języku Python jest używany do przechowywania sekwencji bajtów (8-bitowych wartości), \n",
    "# co oznacza, że może przechowywać dane binarne. Jest to niemutowalny typ danych, co oznacza, \n",
    "# że jego wartość nie może być zmieniana po utworzeniu.\n",
    "# Można utworzyć obiekt typu bytes używając literału bajtowego (prefiks b) lub za pomocą wbudowanej funkcji bytes()."
   ]
  },
  {
   "cell_type": "code",
   "execution_count": 218,
   "id": "1a7755a5-bd8f-4f35-95cf-172bd8d64b48",
   "metadata": {},
   "outputs": [
    {
     "name": "stdout",
     "output_type": "stream",
     "text": [
      "b'hello'\n",
      "5\n",
      "104\n"
     ]
    }
   ],
   "source": [
    "# Utworzenie obiektu typu bytes za pomocą literału bajtowego\n",
    "bajty = b'hello'\n",
    "print(bajty) \n",
    "print(len(bajty))  \n",
    "print(bajty[0]) "
   ]
  },
  {
   "cell_type": "code",
   "execution_count": 219,
   "id": "9361e0fe-ce28-45dc-8876-ac3b6c286534",
   "metadata": {},
   "outputs": [],
   "source": [
    "# Próba modyfikacji obiektu typu bytes (błąd, ponieważ jest niemutowalny)\n",
    "# bajty[0] = b'H'  # TypeError: 'bytes' object does not support item assignment"
   ]
  },
  {
   "cell_type": "code",
   "execution_count": 220,
   "id": "2a202664-2ecf-407a-ae59-0445f58d3e19",
   "metadata": {},
   "outputs": [
    {
     "name": "stdout",
     "output_type": "stream",
     "text": [
      "b'hello'\n"
     ]
    }
   ],
   "source": [
    "# Utworzenie obiektu typu bytes za pomocą funkcji bytes()\n",
    "bajty2 = bytes([104, 101, 108, 108, 111])\n",
    "print(bajty2) "
   ]
  },
  {
   "cell_type": "code",
   "execution_count": 221,
   "id": "ffcc17a2-64d8-4a2b-a601-ab8b3b761558",
   "metadata": {},
   "outputs": [
    {
     "name": "stdout",
     "output_type": "stream",
     "text": [
      "b'world'\n"
     ]
    }
   ],
   "source": [
    "# Konwersja obiektu typu str na obiekt typu bytes\n",
    "bajty3 = bytes(\"world\", 'utf-8')\n",
    "print(bajty3)  # Wynik: b'world'"
   ]
  },
  {
   "cell_type": "code",
   "execution_count": 222,
   "id": "8241c283-fe61-4a57-b385-c1f3ddee664b",
   "metadata": {},
   "outputs": [],
   "source": [
    "# bytearray()\n",
    "# Typ danych bytearray w języku Python jest podobny do typu bytes, ale jest mutowalny, co oznacza, \n",
    "# że jego zawartość może być zmieniana po utworzeniu. \n",
    "# Jest to przydatne, gdy potrzebujemy modyfikować dane binarne w miejscu, co nie jest możliwe z obiektami typu bytes.\n",
    "# Można utworzyć obiekt typu bytearray za pomocą literału bajtowego (prefiks b) lub za pomocą wbudowanej funkcji bytearray()."
   ]
  },
  {
   "cell_type": "code",
   "execution_count": 223,
   "id": "97c614df-9db6-4c21-a5f8-16cadedc2a54",
   "metadata": {},
   "outputs": [
    {
     "name": "stdout",
     "output_type": "stream",
     "text": [
      "bytearray(b'hello')\n",
      "5\n"
     ]
    }
   ],
   "source": [
    "# Utworzenie obiektu typu bytearray za pomocą literału bajtowego\n",
    "bajt_array = bytearray(b'hello')\n",
    "print(bajt_array) \n",
    "print(len(bajt_array)) "
   ]
  },
  {
   "cell_type": "code",
   "execution_count": 224,
   "id": "f644471c-c135-43a3-a44a-36e338c64138",
   "metadata": {},
   "outputs": [
    {
     "name": "stdout",
     "output_type": "stream",
     "text": [
      "bytearray(b'Hello')\n"
     ]
    }
   ],
   "source": [
    "# Modyfikacja obiektu typu bytearray\n",
    "bajt_array[0] = 72  # kod ASCII dla 'H'\n",
    "print(bajt_array)  # Wynik: bytearray(b'Hello')"
   ]
  },
  {
   "cell_type": "code",
   "execution_count": 225,
   "id": "c147763b-1dc3-42b7-8b32-4a78495c9148",
   "metadata": {},
   "outputs": [
    {
     "name": "stdout",
     "output_type": "stream",
     "text": [
      "bytearray(b'hello')\n"
     ]
    }
   ],
   "source": [
    "# Utworzenie obiektu typu bytearray za pomocą funkcji bytearray()\n",
    "bajt_array2 = bytearray([104, 101, 108, 108, 111])  # kod ASCII dla 'hello'\n",
    "print(bajt_array2)  # Wynik: bytearray(b'hello')"
   ]
  },
  {
   "cell_type": "code",
   "execution_count": 226,
   "id": "ef047a1a-c89e-4477-9711-5d0b93e6c777",
   "metadata": {},
   "outputs": [
    {
     "name": "stdout",
     "output_type": "stream",
     "text": [
      "bytearray(b'world')\n"
     ]
    }
   ],
   "source": [
    "# Konwersja obiektu typu str na obiekt typu bytearray\n",
    "bajt_array3 = bytearray(\"world\", 'utf-8')\n",
    "print(bajt_array3)  # Wynik: bytearray(b'world')"
   ]
  },
  {
   "cell_type": "code",
   "execution_count": 227,
   "id": "b09578f2-b415-4077-95ce-7df980808766",
   "metadata": {},
   "outputs": [],
   "source": [
    "# memoryview\n",
    "# Typ danych memoryview w języku Python jest używany do reprezentowania widoku pamięci danych w różnych formatach. \n",
    "# Jest to elastyczny typ danych, który umożliwia dostęp do danych w pamięci za pomocą różnych typów danych, \n",
    "# takich jak bytes, bytearray, array.array, numpy.ndarray itp.\n",
    "# Obiekt memoryview umożliwia dostęp do danych w pamięci w formie sekwencji bajtów, które można odczytywać i zapisywać. \n",
    "# Jest to szczególnie przydatne w operacjach na dużych zbiorach danych, \n",
    "# gdy konieczne jest wydajne przetwarzanie danych bez kopiowania ich."
   ]
  },
  {
   "cell_type": "code",
   "execution_count": 228,
   "id": "b2e03d95-e0f4-428d-9af6-4876ecce7dd3",
   "metadata": {},
   "outputs": [
    {
     "name": "stdout",
     "output_type": "stream",
     "text": [
      "104\n"
     ]
    }
   ],
   "source": [
    "# Utworzenie obiektu typu bytearray\n",
    "bajty = bytearray(b'hello')\n",
    "widok_pamieci = memoryview(bajty)\n",
    "print(widok_pamieci[0]) "
   ]
  },
  {
   "cell_type": "code",
   "execution_count": 229,
   "id": "31f69ee3-b439-4d60-89d4-7ee644d506fa",
   "metadata": {},
   "outputs": [
    {
     "name": "stdout",
     "output_type": "stream",
     "text": [
      "bytearray(b'Hello')\n"
     ]
    }
   ],
   "source": [
    "# Modyfikacja danych w pamięci za pomocą widoku pamięci\n",
    "widok_pamieci[0] = 72  # kod ASCII dla 'H'\n",
    "# Wyświetlenie zmodyfikowanego obiektu bytearray\n",
    "print(bajty)  # Wynik: bytearray(b'Hello')"
   ]
  },
  {
   "cell_type": "markdown",
   "id": "8971105d-e83d-4bef-89be-b7d78957c906",
   "metadata": {
    "jp-MarkdownHeadingCollapsed": true
   },
   "source": [
    "--------------------------------------------------------------------------------------------------------------------------\n",
    "#### None"
   ]
  },
  {
   "cell_type": "code",
   "execution_count": 230,
   "id": "c7ffd96a-40b9-44e1-8d28-2755f60db6cb",
   "metadata": {},
   "outputs": [],
   "source": [
    "# Typ danych None w języku Python jest używany do reprezentowania braku wartości lub wartości pustej. \n",
    "# Jest to specjalny typ danych, który oznacza \"nic\" lub \"brak\".\n",
    "# None jest często używany jako wartość domyślna dla argumentów funkcji lub jako zwracana wartość, \n",
    "# gdy funkcja nie zwraca żadnej konkretnej wartości."
   ]
  },
  {
   "cell_type": "code",
   "execution_count": 231,
   "id": "c2eceb8d-314b-4e7d-bff4-8fcf461372a1",
   "metadata": {},
   "outputs": [
    {
     "name": "stdout",
     "output_type": "stream",
     "text": [
      "Hello, anonymous!\n",
      "Hello, John!\n"
     ]
    }
   ],
   "source": [
    "def greet(name=None):\n",
    "    if name is None:\n",
    "        print(\"Hello, anonymous!\")\n",
    "    else:\n",
    "        print(\"Hello, \" + name + \"!\")\n",
    "greet()      \n",
    "greet(\"John\") "
   ]
  },
  {
   "cell_type": "code",
   "execution_count": 232,
   "id": "d18000e7-15e9-4ea5-ba80-40655ddbcebe",
   "metadata": {},
   "outputs": [
    {
     "name": "stdout",
     "output_type": "stream",
     "text": [
      "None\n"
     ]
    }
   ],
   "source": [
    "def do_nothing():\n",
    "    # Ta funkcja nie robi niczego\n",
    "    pass\n",
    "\n",
    "result = do_nothing()\n",
    "print(result) "
   ]
  },
  {
   "cell_type": "code",
   "execution_count": 233,
   "id": "f819c9ab-f772-413d-b2d8-8235c218fafd",
   "metadata": {},
   "outputs": [
    {
     "name": "stdout",
     "output_type": "stream",
     "text": [
      "Value is None\n"
     ]
    }
   ],
   "source": [
    "value = None\n",
    "if value is None:\n",
    "    print(\"Value is None\")\n",
    "else:\n",
    "    print(\"Value is not None\")"
   ]
  },
  {
   "cell_type": "markdown",
   "id": "8776e8a9-184e-48ef-83f9-762b38fbb2f3",
   "metadata": {},
   "source": [
    "--------------------------------------------------------------------------------------------------------------------------\n",
    "## 04. Random, liczby losowe (podstawy)."
   ]
  },
  {
   "cell_type": "code",
   "execution_count": 234,
   "id": "fede3138-c9af-41bc-b444-45f4e76d15c2",
   "metadata": {},
   "outputs": [
    {
     "data": {
      "text/plain": [
       "92"
      ]
     },
     "execution_count": 234,
     "metadata": {},
     "output_type": "execute_result"
    }
   ],
   "source": [
    "import random\n",
    "# random.seed(42) # inicjalizacja generatora liczb pseudolosowych od początkowego stanu\n",
    "random.randrange(start=-100, stop=100, step=2) # od -100 do 99, losuje co 2 czyli tylko przyste"
   ]
  },
  {
   "cell_type": "code",
   "execution_count": 235,
   "id": "19809fec-d7c1-481f-907a-b1437d2cef02",
   "metadata": {},
   "outputs": [
    {
     "data": {
      "text/plain": [
       "-8"
      ]
     },
     "execution_count": 235,
     "metadata": {},
     "output_type": "execute_result"
    }
   ],
   "source": [
    "random.randint(-10, 11) # od -10 do 10"
   ]
  },
  {
   "cell_type": "code",
   "execution_count": 236,
   "id": "b490ad99-a6e6-411b-8add-f5f06efd9cc8",
   "metadata": {},
   "outputs": [
    {
     "data": {
      "text/plain": [
       "0.9620415621400458"
      ]
     },
     "execution_count": 236,
     "metadata": {},
     "output_type": "execute_result"
    }
   ],
   "source": [
    "random.random() # od 0 do 1"
   ]
  },
  {
   "cell_type": "code",
   "execution_count": 237,
   "id": "4ca1674c-3bb3-479c-b6c4-4f5aba17fa43",
   "metadata": {},
   "outputs": [
    {
     "name": "stdout",
     "output_type": "stream",
     "text": [
      "24\n"
     ]
    }
   ],
   "source": [
    "lista = [32, 523, 12, 654, 23, 1, 567, 2, 3, 24] # sekwencja wyboru\n",
    "zm1 = random.choice(lista) # wybierze liczbe losowo z powyższej listy\n",
    "print(zm1)\n"
   ]
  },
  {
   "cell_type": "markdown",
   "id": "a835cb65-8902-40c2-9e2b-daaaf8fab4d5",
   "metadata": {
    "jp-MarkdownHeadingCollapsed": true
   },
   "source": [
    "--------------------------------------------------------------------------------------------------------------------------\n",
    "## 05. Input i Print."
   ]
  },
  {
   "cell_type": "code",
   "execution_count": 238,
   "id": "a32a97df-53fd-4a46-aefb-68049c1f12fd",
   "metadata": {},
   "outputs": [
    {
     "data": {
      "text/plain": [
       "[71, 222, 253, 247, 31, 87, 23, 83, 157, 73]"
      ]
     },
     "execution_count": 238,
     "metadata": {},
     "output_type": "execute_result"
    }
   ],
   "source": [
    "listaR = list(random.randbytes(10)) # generuje określoną liczbę bajtów\n",
    "listaR"
   ]
  },
  {
   "cell_type": "code",
   "execution_count": 239,
   "id": "23736f24-8ecc-413a-8c64-54405c0b67de",
   "metadata": {},
   "outputs": [],
   "source": [
    "# Wprowadzanie tekdtu ze standardowego wejścia (np. klawiatura).\n",
    "# strIn = input('wprowadź tekst i zatwierdź enterem:') \n",
    "# strIn"
   ]
  },
  {
   "cell_type": "code",
   "execution_count": 240,
   "id": "09deb72d-46bd-479a-bd4f-20c23f5415d2",
   "metadata": {},
   "outputs": [
    {
     "name": "stdout",
     "output_type": "stream",
     "text": [
      "test tekst\n"
     ]
    }
   ],
   "source": [
    "# Wysyłanie tekstu na standardowe wyjście.\n",
    "print('test tekst')"
   ]
  },
  {
   "cell_type": "code",
   "execution_count": 241,
   "id": "32aaae63-5b68-45a1-abde-a3e50968e376",
   "metadata": {},
   "outputs": [
    {
     "name": "stdout",
     "output_type": "stream",
     "text": [
      "True 5j (-0-5j)\n"
     ]
    }
   ],
   "source": [
    "print(x, y, z)"
   ]
  },
  {
   "cell_type": "code",
   "execution_count": 242,
   "id": "5ce7dd7e-62f4-42d1-8723-7ea1316a1fbf",
   "metadata": {},
   "outputs": [
    {
     "name": "stdout",
     "output_type": "stream",
     "text": [
      "opis True, 5j, (-0-5j)\n"
     ]
    }
   ],
   "source": [
    "# Sformatowany tekst ze zmniennymi.\n",
    "print(f'opis {x}, {y}, {z}')"
   ]
  },
  {
   "cell_type": "code",
   "execution_count": 243,
   "id": "a81d0034-1da2-448e-a34d-10b480bd05e3",
   "metadata": {},
   "outputs": [
    {
     "name": "stdout",
     "output_type": "stream",
     "text": [
      "napis = string : int = 1234\n"
     ]
    }
   ],
   "source": [
    "# Sformatowany print podobny do printf z C.\n",
    "sVal = 'string'\n",
    "iVal = 1234\n",
    "print(\"napis = %s : int = %i\" % (sVal, iVal))"
   ]
  },
  {
   "cell_type": "markdown",
   "id": "acc3555e-d6f4-4698-99dd-80b159739dff",
   "metadata": {
    "jp-MarkdownHeadingCollapsed": true
   },
   "source": [
    "--------------------------------------------------------------------------------------------------------------------------\n",
    "## 06. Rzutowanie (casting)."
   ]
  },
  {
   "cell_type": "code",
   "execution_count": 244,
   "id": "2aa64355-4d80-48e9-84f8-cce04a3bd8d1",
   "metadata": {},
   "outputs": [],
   "source": [
    "# W języku Python rzutowanie, znane także jako konwersja typów, odbywa się za pomocą wbudowanych funkcji, \n",
    "# które pozwalają na zmianę typu jednej wartości na inny typ danych."
   ]
  },
  {
   "cell_type": "code",
   "execution_count": 245,
   "id": "038c657c-76b3-4d3a-acec-e176c222b5f8",
   "metadata": {},
   "outputs": [
    {
     "data": {
      "text/plain": [
       "('3', 34, 2.0, str, int, float)"
      ]
     },
     "execution_count": 245,
     "metadata": {},
     "output_type": "execute_result"
    }
   ],
   "source": [
    "x = str(3)\n",
    "y = int(34)\n",
    "z = float(2)\n",
    "x, y, z, type(x), type(y), type(z)"
   ]
  },
  {
   "cell_type": "code",
   "execution_count": 246,
   "id": "8c19bb2a-08aa-4f5c-9ed5-15d174aa813d",
   "metadata": {},
   "outputs": [
    {
     "data": {
      "text/plain": [
       "(1, 2.8, 1j, 1.0, 2, (1+0j))"
      ]
     },
     "execution_count": 246,
     "metadata": {},
     "output_type": "execute_result"
    }
   ],
   "source": [
    "x = 1    # int\n",
    "y = 2.8  # float\n",
    "z = 1j   # complex\n",
    "a = float(x) # z int na float\n",
    "b = int(y) # z float na int\n",
    "c = complex(x) # z int na complex\n",
    "x, y, z, a, b, c"
   ]
  },
  {
   "cell_type": "code",
   "execution_count": 247,
   "id": "8479c876-f7b5-49d3-94bb-8d2f6fb00291",
   "metadata": {},
   "outputs": [
    {
     "data": {
      "text/plain": [
       "(1, 2, 3)"
      ]
     },
     "execution_count": 247,
     "metadata": {},
     "output_type": "execute_result"
    }
   ],
   "source": [
    "# Na int.\n",
    "x = int(1)  \n",
    "y = int(2.8) \n",
    "z = int(\"3\") \n",
    "x, y, z"
   ]
  },
  {
   "cell_type": "code",
   "execution_count": 248,
   "id": "2aa19d19-ceca-4cdf-b1fe-5638f8f41c18",
   "metadata": {},
   "outputs": [
    {
     "data": {
      "text/plain": [
       "(1.0, 2.8, 3.0, 4.2)"
      ]
     },
     "execution_count": 248,
     "metadata": {},
     "output_type": "execute_result"
    }
   ],
   "source": [
    "# Na float.\n",
    "x = float(1)    \n",
    "y = float(2.8)  \n",
    "z = float(\"3\")  \n",
    "w = float(\"4.2\")\n",
    "x, y, z, w"
   ]
  },
  {
   "cell_type": "code",
   "execution_count": 249,
   "id": "dcddfc91-0996-4447-b7c7-746cd7563f9c",
   "metadata": {},
   "outputs": [
    {
     "data": {
      "text/plain": [
       "('s1', '2', '3.0')"
      ]
     },
     "execution_count": 249,
     "metadata": {},
     "output_type": "execute_result"
    }
   ],
   "source": [
    "# Na String.\n",
    "x = str(\"s1\") \n",
    "y = str(2)    \n",
    "z = str(3.0)  \n",
    "x, y, z"
   ]
  },
  {
   "cell_type": "markdown",
   "id": "898b3d6b-bed0-4cdd-b9e0-04587fc73ad3",
   "metadata": {},
   "source": [
    "--------------------------------------------------------------------------------------------------------------------------\n",
    "## 07. Operatory."
   ]
  },
  {
   "cell_type": "code",
   "execution_count": 250,
   "id": "f84cbb5c-352b-4ac0-b9ab-f3288aae504d",
   "metadata": {},
   "outputs": [
    {
     "name": "stdout",
     "output_type": "stream",
     "text": [
      "13\n",
      "7\n",
      "30\n",
      "3.3333333333333335\n",
      "3\n",
      "1\n",
      "1000\n"
     ]
    }
   ],
   "source": [
    "# Operatory arytmetyczne.\n",
    "'''\n",
    "** -> potęgowanie\n",
    "* -> mnożenie\n",
    "/ -> dzielenie\n",
    "// -> dzielenie całkowite\n",
    "% -> reszta z dzielenia (jak jest podzielne całkowicie == 0)\n",
    "+ -> dodawanie\n",
    "- -> odejmowanie\n",
    "operacje '+' na napisach to konkatencja (sklejanie)\n",
    "'''\n",
    "a = 10\n",
    "b = 3\n",
    "print(a + b)  # Wynik: 13\n",
    "print(a - b)  # Wynik: 7\n",
    "print(a * b)  # Wynik: 30\n",
    "print(a / b)  # Wynik: 3.3333333333333335\n",
    "print(a // b) # Wynik: 3\n",
    "print(a % b)  # Wynik: 1\n",
    "print(a ** b) # Wynik: 1000"
   ]
  },
  {
   "cell_type": "code",
   "execution_count": 251,
   "id": "dff4379d-d636-4cde-9a59-a501197f9eda",
   "metadata": {},
   "outputs": [
    {
     "data": {
      "text/plain": [
       "''"
      ]
     },
     "execution_count": 251,
     "metadata": {},
     "output_type": "execute_result"
    }
   ],
   "source": [
    "# Operatory przypisania.\n",
    "'''\n",
    "=\t->  x = 5\n",
    "+=\t->  x += 3\t->  x = x + 3\t\n",
    "-=\t->  x -= 3\t->  x = x - 3\t\n",
    "*=\t->  x *= 3\t->  x = x * 3\t\n",
    "/=\t->  x /= 3\t->  x = x / 3\t\n",
    "%=\t->  x %= 3\t->  x = x % 3\t\n",
    "//=\t->  x //= 3\t->  x = x // 3\t\n",
    "**=\t->  x **= 3\t->  x = x ** 3\t\n",
    "&=\t->  x &= 3\t->  x = x & 3\t\n",
    "|=\t->  x |= 3\t->  x = x | 3\t\n",
    "^=\t->  x ^= 3\t->  x = x ^ 3\t\n",
    ">>=\t->  x >>= 3\t->  x = x >> 3\t\n",
    "<<=\t->  x <<= 3\t->  x = x << 3\n",
    "'''\n",
    ";"
   ]
  },
  {
   "cell_type": "code",
   "execution_count": 252,
   "id": "0209e7d2-0104-47d8-9b58-d5980575afd7",
   "metadata": {},
   "outputs": [
    {
     "name": "stdout",
     "output_type": "stream",
     "text": [
      "False\n",
      "True\n",
      "True\n",
      "False\n",
      "True\n",
      "False\n"
     ]
    }
   ],
   "source": [
    "# Operatory porównania.\n",
    "'''\n",
    "==\trówny\t            x == y\t\n",
    "!=\tnie równy\t        x != y\t\n",
    ">\twiększy\t            x > y\t\n",
    "<\tmniejszy            x < y\t\n",
    ">=\twiększy lub równy\tx >= y\t\n",
    "<=\tmniejszy lub równy\tx <= y\n",
    "'''\n",
    "a = 5\n",
    "b = 3\n",
    "print(a == b)  # False\n",
    "print(a != b)  # True\n",
    "print(a > b)   # True\n",
    "print(a < b)   # False\n",
    "print(a >= b)  # True\n",
    "print(a <= b)  # False"
   ]
  },
  {
   "cell_type": "code",
   "execution_count": 253,
   "id": "9051a0e2-2eaa-4c29-8458-13d527bedd44",
   "metadata": {},
   "outputs": [
    {
     "name": "stdout",
     "output_type": "stream",
     "text": [
      "True\n",
      "True\n",
      "False\n"
     ]
    }
   ],
   "source": [
    "# Operatory logiczne.\n",
    "'''\n",
    "and -> True jeżeli obydwie strony takie same\n",
    "or -> True jeżeli jedna luib dwie strony takiesame\n",
    "not -> Odwrócenie wyniku\n",
    "'''\n",
    "x = 5\n",
    "y = 10\n",
    "print(x > 0 and y < 20)  # True, ponieważ oba warunki są spełnione\n",
    "print(x < 0 or y < 20)   # True, ponieważ przynajmniej jeden warunek jest spełniony\n",
    "print(not(x > 0 and y < 20))  # False, ponieważ wynik z operatora and jest True, a not odwraca wartość"
   ]
  },
  {
   "cell_type": "code",
   "execution_count": 254,
   "id": "c53192aa-7e2f-42d8-b606-902a249e3ca7",
   "metadata": {},
   "outputs": [
    {
     "name": "stdout",
     "output_type": "stream",
     "text": [
      "False\n",
      "True\n",
      "True\n",
      "True\n"
     ]
    }
   ],
   "source": [
    "# Operatory tożsamości(identity operators).\n",
    "# Służą do porównywania tożsamości obiektów. \n",
    "# Każdy obiekt ma swoją unikalną tożsamość, którą można uzyskać za pomocą funkcji wbudowanej id(). \n",
    "# Operatorzy tożsamości to 'is' i 'is not'.\n",
    "'''\n",
    "Operator is: Zwraca True, jeśli oba obiekty wskazują na tę samą lokalizację w pamięci.\n",
    "Operator is not: Zwraca True, jeśli obiekty nie wskazują na tę samą lokalizację w pamięci.\n",
    "'''\n",
    "x = [1, 2, 3]\n",
    "y = [1, 2, 3]\n",
    "print(x is y)  # False, ponieważ x i y wskazują na różne lokalizacje w pamięci\n",
    "a = 5\n",
    "b = 5\n",
    "print(a is b)  # True, ponieważ a i b wskazują na tę samą lokalizację w pamięci\n",
    "c = \"hello\"\n",
    "d = \"hello\"\n",
    "print(c is d)  # True, ponieważ c i d wskazują na tę samą lokalizację w pamięci\n",
    "e = [1, 2, 3]\n",
    "f = e\n",
    "print(e is f)  # True, ponieważ e i f wskazują na tę samą lokalizację w pamięci"
   ]
  },
  {
   "cell_type": "code",
   "execution_count": 255,
   "id": "91969778-3486-4aa8-8476-7afcdbe0a448",
   "metadata": {},
   "outputs": [
    {
     "name": "stdout",
     "output_type": "stream",
     "text": [
      "True\n",
      "False\n",
      "True\n",
      "True\n"
     ]
    }
   ],
   "source": [
    "# Operatory członkostwa (Membership Operators).\n",
    "# Służą do sprawdzania przynależności elementu do zbioru danych. \n",
    "# Lista operatorów członkostwa wraz z ich funkcjami:\n",
    "'''\n",
    "in: Zwraca True, jeśli dany element znajduje się w zbiorze danych.\n",
    "not in: Zwraca True, jeśli dany element nie znajduje się w zbiorze danych.\n",
    "'''\n",
    "listaNum = [1, 2, 3, 4, 5]\n",
    "print(3 in listaNum)    # True, ponieważ 3 znajduje się w liście\n",
    "print(6 in listaNum)    # False, ponieważ 6 nie znajduje się w liście\n",
    "\n",
    "napis = \"Python\"\n",
    "print(\"y\" in napis)       # True, ponieważ \"y\" znajduje się w napisie\n",
    "print(\"z\" not in napis)   # True, ponieważ \"z\" nie znajduje się w napisie"
   ]
  },
  {
   "cell_type": "code",
   "execution_count": 256,
   "id": "e2664de2-fb84-4adb-a3a2-dc0ffddcc280",
   "metadata": {},
   "outputs": [
    {
     "name": "stdout",
     "output_type": "stream",
     "text": [
      "12\n",
      "61\n",
      "49\n",
      "-61\n",
      "240\n",
      "15\n"
     ]
    }
   ],
   "source": [
    "# Operatory bitowe (Bitwise Operators).\n",
    "# Pozwalają wykonywać operacje na poziomie bitów na liczbach całkowitych. \n",
    "# Lista operatorów bitowych wraz z ich funkcjami:\n",
    "'''\n",
    "& - Bitowa koniunkcja (AND): Zwraca 1, jeśli oba bity są ustawione na 1.\n",
    "| - Bitowa alternatywa (OR): Zwraca 1, jeśli przynajmniej jeden z bitów jest ustawiony na 1.\n",
    "^ - Bitowa alternatywa wykluczająca (XOR): Zwraca 1, jeśli tylko jeden z bitów jest ustawiony na 1 (ale nie oba).\n",
    "~ - Bitowa negacja (NOT): Zwraca wartość negacji bitowej danego bitu (jeden komplement).\n",
    "<< - Przesunięcie bitowe w lewo: Przesuwa bity liczby w lewo o określoną liczbę pozycji, wstawiając zera na prawo.\n",
    ">> - Przesunięcie bitowe w prawo: Przesuwa bity liczby w prawo o określoną liczbę pozycji, wstawiając zera na lewo.\n",
    "'''\n",
    "a = 60  # Wartość binarna: 0011 1100\n",
    "b = 13  # Wartość binarna: 0000 1101\n",
    "\n",
    "print(a & b)  # Wynik: 12 (binarnie: 0000 1100)\n",
    "print(a | b)  # Wynik: 61 (binarnie: 0011 1101)\n",
    "print(a ^ b)  # Wynik: 49 (binarnie: 0011 0001)\n",
    "print(~a)     # Wynik: -61 (binarnie: 1100 0011)\n",
    "print(a << 2) # Wynik: 240 (binarnie: 1111 0000)\n",
    "print(a >> 2) # Wynik: 15 (binarnie: 0000 1111)"
   ]
  },
  {
   "cell_type": "code",
   "execution_count": 257,
   "id": "6d3b4a8f-4ca8-41e8-bdf4-ac1ce3c601fe",
   "metadata": {},
   "outputs": [],
   "source": [
    "# Kolejność operatorów.\n",
    "# ()\t                                             Parentheses\t\n",
    "# **\t                                             Exponentiation\t\n",
    "# +x  -x  ~x\t                                     Unary plus, unary minus, and bitwise NOT\t\n",
    "# *  /  //  %\t                                     Multiplication, division, floor division, and modulus\t\n",
    "# +  -\t                                         Addition and subtraction\t\n",
    "# <<  >>\t                                         Bitwise left and right shifts\t\n",
    "# &\t                                             Bitwise AND\t\n",
    "# ^\t                                             Bitwise XOR\t\n",
    "# |\t                                             Bitwise OR\t\n",
    "# ==  !=  >  >=  <  <=  is  is not  in  not in \t Comparisons, identity, and membership operators\t\n",
    "# not\t                                             Logical NOT\t\n",
    "# and\t                                             AND\t\n",
    "# or\t                                             OR"
   ]
  },
  {
   "cell_type": "code",
   "execution_count": 258,
   "id": "36fb5389-76ea-4fe9-b732-5cacdec9b16c",
   "metadata": {},
   "outputs": [
    {
     "name": "stdout",
     "output_type": "stream",
     "text": [
      "ok\n"
     ]
    }
   ],
   "source": [
    "# Operatorem warunkowy (thernary operator).\n",
    "# zmienna = wartość_wyrażenia_true if warunek else wartość_wyrażenia_false\n",
    "# warunek to warunek logiczny, który jest sprawdzany.\n",
    "# wartość_wyrażenia_true to wartość przypisywana do zmiennej, jeśli warunek jest prawdziwy.\n",
    "# wartość_wyrażenia_false to wartość przypisywana do zmiennej, jeśli warunek jest fałszywy.\n",
    "war1 = True\n",
    "war2 = False\n",
    "print('ok') if (war1) else print('else')\n",
    "#\"wykonaj\" if \"warunek\" else \"wykonaj to\""
   ]
  }
 ],
 "metadata": {
  "kernelspec": {
   "display_name": "Torch Learn",
   "language": "python",
   "name": "python3"
  },
  "language_info": {
   "codemirror_mode": {
    "name": "ipython",
    "version": 3
   },
   "file_extension": ".py",
   "mimetype": "text/x-python",
   "name": "python",
   "nbconvert_exporter": "python",
   "pygments_lexer": "ipython3",
   "version": "3.12.1"
  },
  "widgets": {
   "application/vnd.jupyter.widget-state+json": {
    "state": {},
    "version_major": 2,
    "version_minor": 0
   }
  }
 },
 "nbformat": 4,
 "nbformat_minor": 5
}
