{
 "cells": [
  {
   "cell_type": "markdown",
   "id": "eb175da7-1577-42c8-b97e-bcc54da552ba",
   "metadata": {},
   "source": [
    "--------------------------------------------------------------------------------------------------------------------------\n",
    "## 17. Klasy."
   ]
  },
  {
   "cell_type": "code",
   "execution_count": 1,
   "id": "5ff78433-6a79-4b0d-9ec2-14c2e2fa77b5",
   "metadata": {},
   "outputs": [],
   "source": [
    "class Klasa:\n",
    "    def __init__(self):  #konstruktor\n",
    "        print('konstruktor', hex(id(self)), self)\n",
    "    \n",
    "    def metoda1(self):   # metoda\n",
    "        print('metoda1')\n",
    "\n",
    "    def __del__(self):  # destruktor\n",
    "        print('destruktor')"
   ]
  },
  {
   "cell_type": "code",
   "execution_count": 2,
   "id": "413bbb74-4210-4009-9bce-11c6fed6b8dd",
   "metadata": {},
   "outputs": [
    {
     "name": "stdout",
     "output_type": "stream",
     "text": [
      "konstruktor 0x24305cef290 <__main__.Klasa object at 0x0000024305CEF290>\n",
      "metoda1\n"
     ]
    }
   ],
   "source": [
    "obj = Klasa() # stworzenie ojektu\n",
    "obj.metoda1() # wywołanie metody"
   ]
  },
  {
   "cell_type": "code",
   "execution_count": 3,
   "id": "8671d6e2-8eac-45ee-8446-7e2512ee33a9",
   "metadata": {},
   "outputs": [
    {
     "name": "stdout",
     "output_type": "stream",
     "text": [
      "<__main__.Klasa object at 0x0000024305CEF290>\n"
     ]
    }
   ],
   "source": [
    "print(obj) # adress objektu"
   ]
  },
  {
   "cell_type": "code",
   "execution_count": 4,
   "id": "bd0f2e4c-7d9a-430e-9337-0d68490bf89e",
   "metadata": {},
   "outputs": [
    {
     "name": "stdout",
     "output_type": "stream",
     "text": [
      "destruktor\n"
     ]
    }
   ],
   "source": [
    "del obj # usunięcie objektu"
   ]
  },
  {
   "cell_type": "code",
   "execution_count": 9,
   "id": "ec655d15-902b-4e70-a981-c6c7323600bc",
   "metadata": {},
   "outputs": [
    {
     "name": "stdout",
     "output_type": "stream",
     "text": [
      "123 4.5\n"
     ]
    }
   ],
   "source": [
    "class Klasa:\n",
    "    def __init__(self, x, y):  # konstruktor z dwiema zmiennymi inicjalizacyjnymi, które w tym momencie są dostępne tylko w konstruktorze\n",
    "        print(x, y)\n",
    "    \n",
    "obj = Klasa(123, 4.5)"
   ]
  },
  {
   "cell_type": "code",
   "execution_count": 18,
   "id": "c8229dc4-d0d8-4420-9eab-9833ccbb3254",
   "metadata": {},
   "outputs": [
    {
     "name": "stdout",
     "output_type": "stream",
     "text": [
      "123 4.5 10 None None\n"
     ]
    }
   ],
   "source": [
    "class Klasa:\n",
    "    a = None # dodatkowe atrybyty \n",
    "    b = None\n",
    "    def __init__(self, x, y):  # konstruktor z dwiema zmiennymi inicjalizacyjnymi, które w tym momencie są dostępne tylko w konstruktorze\n",
    "        # print(x, y)\n",
    "        self.x = x  # stworzenie atrybutów, które będą dostępne dla całej klasy\n",
    "        self.y = y\n",
    "\n",
    "        self.z = 10 # dodatkowe atrybyty stqworzone w konstruktorze\n",
    "        \n",
    "    def metoda(self):\n",
    "        print(self.x, self.y, self.z, self.a, self.b)\n",
    "    \n",
    "obj = Klasa(123, 4.5)\n",
    "obj.metoda()"
   ]
  },
  {
   "cell_type": "code",
   "execution_count": null,
   "id": "c68a7087-eac2-442c-8870-d7e9f71313df",
   "metadata": {},
   "outputs": [],
   "source": []
  }
 ],
 "metadata": {
  "kernelspec": {
   "display_name": "Torch Learn",
   "language": "python",
   "name": "python3"
  },
  "language_info": {
   "codemirror_mode": {
    "name": "ipython",
    "version": 3
   },
   "file_extension": ".py",
   "mimetype": "text/x-python",
   "name": "python",
   "nbconvert_exporter": "python",
   "pygments_lexer": "ipython3",
   "version": "3.12.1"
  },
  "widgets": {
   "application/vnd.jupyter.widget-state+json": {
    "state": {},
    "version_major": 2,
    "version_minor": 0
   }
  }
 },
 "nbformat": 4,
 "nbformat_minor": 5
}
