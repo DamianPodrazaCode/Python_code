{
 "cells": [
  {
   "cell_type": "markdown",
   "id": "eb175da7-1577-42c8-b97e-bcc54da552ba",
   "metadata": {},
   "source": [
    "--------------------------------------------------------------------------------------------------------------------------\n",
    "## 17. Klasy."
   ]
  },
  {
   "cell_type": "code",
   "execution_count": 1,
   "id": "5ff78433-6a79-4b0d-9ec2-14c2e2fa77b5",
   "metadata": {},
   "outputs": [],
   "source": [
    "class Klasa:\n",
    "    def __init__(self):  #konstruktor (tak jak by, ale ta funkcja tak naprawde uruchamia się po stworzeniu objektu)\n",
    "        print('konstruktor')\n",
    "    \n",
    "    def metoda1(self):   # metoda\n",
    "        print('metoda1')\n",
    "\n",
    "    def __del__(self):  # destruktor\n",
    "        print('destruktor')\n",
    "\n",
    "# self może być dowolnym nazwą zmiennej, \"__init__\" musi otrzymywać przez parametr obiekt reprezentujący \"siebie\". Nie musi się on nazywać\n",
    "# akurat \"self\", można go nazwać choćby \"ja\". Jest on potrzebny by móc się odnosić do atrybutów i funkcji obiektu. \n",
    "# Podajemy go tylko na etapie deklaracji funkcji \"__init__\", nie przekazujemy przy wywołaniu konstruktora ( s=Samochod() ), \n",
    "# jest on podstawiany automagicznie.\n",
    "# Nie ma przeciązeni konstruktora, metod ani funkci, każde ponowienie nadpisuje poprzednie."
   ]
  },
  {
   "cell_type": "code",
   "execution_count": 2,
   "id": "413bbb74-4210-4009-9bce-11c6fed6b8dd",
   "metadata": {},
   "outputs": [
    {
     "name": "stdout",
     "output_type": "stream",
     "text": [
      "konstruktor\n",
      "metoda1\n"
     ]
    }
   ],
   "source": [
    "obj = Klasa() # stworzenie ojektu\n",
    "obj.metoda1() # wywołanie metody"
   ]
  },
  {
   "cell_type": "code",
   "execution_count": 3,
   "id": "bd0f2e4c-7d9a-430e-9337-0d68490bf89e",
   "metadata": {},
   "outputs": [
    {
     "name": "stdout",
     "output_type": "stream",
     "text": [
      "destruktor\n"
     ]
    }
   ],
   "source": [
    "del obj # usunięcie objektu"
   ]
  },
  {
   "cell_type": "code",
   "execution_count": 4,
   "id": "c8229dc4-d0d8-4420-9eab-9833ccbb3254",
   "metadata": {},
   "outputs": [
    {
     "name": "stdout",
     "output_type": "stream",
     "text": [
      "konstruktor 123 4.5 10\n",
      "123 4.5 10 None None\n"
     ]
    }
   ],
   "source": [
    "# opcje inicjalizacji atrybutów (zmiennych) klasy\n",
    "class Klasa:\n",
    "    a = None # dodatkowe atrybyty \n",
    "    b = None\n",
    "    def __init__(self, x, y):  # konstruktor z dwiema zmiennymi inicjalizacyjnymi, które w tym momencie są dostępne tylko w konstruktorze\n",
    "        self.x = x  # stworzenie atrybutów, które będą dostępne dla całej klasy\n",
    "        self.y = y\n",
    "        self.z = 10 # dodatkowe atrybyty stqworzone w konstruktorze\n",
    "        print('konstruktor', self.x, self.y, self.z)\n",
    "    \n",
    "    def metoda(self):\n",
    "        print(self.x, self.y, self.z, self.a, self.b)\n",
    "    \n",
    "obj = Klasa(123, 4.5)\n",
    "obj.metoda()"
   ]
  },
  {
   "cell_type": "code",
   "execution_count": 5,
   "id": "c68a7087-eac2-442c-8870-d7e9f71313df",
   "metadata": {},
   "outputs": [
    {
     "name": "stdout",
     "output_type": "stream",
     "text": [
      "Inicjalizacja rodzica\n",
      "Inicjalizacja dziecka\n",
      "456 234\n"
     ]
    }
   ],
   "source": [
    "# dziedziczenie - przesłanie atrybutu z klasy rodzica\n",
    "class Parent:\n",
    "    dataP = 123\n",
    "    def __init__(self):\n",
    "        self.dataP = 234\n",
    "        print(\"Inicjalizacja rodzica\")\n",
    "\n",
    "class Child(Parent):\n",
    "    dataC = 456\n",
    "    def __init__(self):\n",
    "        super().__init__() # uruchomienie konstruktora radzica\n",
    "        print(\"Inicjalizacja dziecka\")\n",
    "\n",
    "obj = Child()\n",
    "print(obj.dataC, obj.dataP)"
   ]
  },
  {
   "cell_type": "code",
   "execution_count": 6,
   "id": "ffde3dd3-d21f-42a8-b7d2-d9fffc520905",
   "metadata": {},
   "outputs": [
    {
     "name": "stdout",
     "output_type": "stream",
     "text": [
      "Inicjalizacja rodzica\n",
      "Inicjalizacja dziecka\n",
      "456 123\n"
     ]
    }
   ],
   "source": [
    "# dziedziczenie - przesłanie atrybutu z klasy rodzica o takiej samej nazwie, możliwe tylko przez extra metodę,\n",
    "# z funkcją super(), innej metody nie ma, takiesame nazwy atrybutów w dzidziczeniu przesłaniają się.\n",
    "class Parent:\n",
    "    data = 123\n",
    "    def __init__(self):\n",
    "        print(\"Inicjalizacja rodzica\")\n",
    "\n",
    "class Child(Parent):\n",
    "    data = 456\n",
    "    def __init__(self):\n",
    "        super().__init__() \n",
    "        print(\"Inicjalizacja dziecka\")\n",
    "\n",
    "    def get_parent_data(self): \n",
    "        return super().data\n",
    "\n",
    "obj = Child()\n",
    "print(obj.data, obj.get_parent_data())"
   ]
  },
  {
   "cell_type": "code",
   "execution_count": 54,
   "id": "8ffc086a-b9d4-4488-a5ee-f0d7a7c81673",
   "metadata": {},
   "outputs": [
    {
     "name": "stdout",
     "output_type": "stream",
     "text": [
      "Inicjalizacja rodzica 1\n",
      "Inicjalizacja dziecka\n",
      "metodaP1\n",
      "metodaP2\n"
     ]
    }
   ],
   "source": [
    "# dziedziczenie po wielu klasach\n",
    "class Parent1:\n",
    "    def __init__(self):\n",
    "        print(\"Inicjalizacja rodzica 1\")\n",
    "    def metodaP1(self):        \n",
    "        print('metodaP1')\n",
    "\n",
    "class Parent2:\n",
    "    def __init__(self):\n",
    "        print(\"Inicjalizacja rodzica 2\")\n",
    "    def metodaP2(self):        \n",
    "        print('metodaP2')\n",
    "        \n",
    "class Child(Parent1, Parent2):\n",
    "    def __init__(self):\n",
    "        super().__init__() \n",
    "        super(Parent2, self).__init__() \n",
    "        print(\"Inicjalizacja dziecka\")\n",
    "\n",
    "obj = Child()\n",
    "obj.metodaP1()\n",
    "obj.metodaP2()"
   ]
  },
  {
   "cell_type": "code",
   "execution_count": 7,
   "id": "15e8008a-aa93-47b9-912b-3189337afc42",
   "metadata": {},
   "outputs": [
    {
     "name": "stdout",
     "output_type": "stream",
     "text": [
      "konstruktor jeden 2\n",
      "10 2\n"
     ]
    }
   ],
   "source": [
    "# atrybuty z automatyczną inicjalizacją, tak jak w funkcji\n",
    "class Klasa:\n",
    "    def __init__(self, x=\"jeden\", y=2): \n",
    "        self.x = x \n",
    "        self.y = y\n",
    "        print('konstruktor', self.x, self.y)\n",
    "\n",
    "obj = Klasa()\n",
    "obj.x = 10\n",
    "print(obj.x, obj.y)"
   ]
  },
  {
   "cell_type": "code",
   "execution_count": 20,
   "id": "64c6c10e-82d1-4c01-bd2f-2b83a759baad",
   "metadata": {},
   "outputs": [
    {
     "name": "stdout",
     "output_type": "stream",
     "text": [
      "Jerzy Kiler Killer\n",
      "Stefan Siarzewski Siara\n",
      "None None None\n",
      "imie... nazwisko... ksywka...\n"
     ]
    }
   ],
   "source": [
    "# zmiana domyślnych wartości pól klasy\n",
    "class Osoba:\n",
    "    imie=None\n",
    "    nazwisko=None\n",
    "    ksywka=None\n",
    "    \n",
    "o1=Osoba()\n",
    "o1.imie='Jerzy'\n",
    "o1.nazwisko='Kiler'\n",
    "o1.ksywka='Killer'\n",
    "print(o1.imie, o1.nazwisko, o1.ksywka)\n",
    "\n",
    "o2=Osoba()\n",
    "o2.imie='Stefan'\n",
    "o2.nazwisko='Siarzewski'\n",
    "o2.ksywka='Siara' #i wszystko jasne\n",
    "print(o2.imie, o2.nazwisko, o2.ksywka)\n",
    "\n",
    "o3=Osoba() # domyślne wartości atrybuty\n",
    "print(o3.imie, o3.nazwisko, o3.ksywka)\n",
    "\n",
    "Osoba.imie='imie...' # zmiana domyślnych wartości atrybutów\n",
    "Osoba.nazwisko='nazwisko...'\n",
    "Osoba.ksywka='ksywka...'\n",
    "\n",
    "o4=Osoba()\n",
    "print(o4.imie, o4.nazwisko, o4.ksywka)"
   ]
  },
  {
   "cell_type": "code",
   "execution_count": 9,
   "id": "a729ab89-2558-41cd-a674-7f68b8185a33",
   "metadata": {},
   "outputs": [],
   "source": [
    "# Zasłąnianie metod\n",
    "class Klasa:\n",
    "    def metoda(self, zm1, zm2, zm3):\n",
    "        print(zm1, zm2, zm3)\n",
    "        \n",
    "    def metoda(self, zm1, zm2):\n",
    "        print(zm1, zm2)\n",
    "        \n",
    "    # def metoda(self, zm1):\n",
    "    #     print(zm1)\n",
    "        \n",
    "# w pythonie nie ma przeciżania funkcji i metod, zawsze ostatnia zasłania poprzednie"
   ]
  },
  {
   "cell_type": "code",
   "execution_count": 10,
   "id": "543647c0-2792-4c15-a830-a95662cfd33b",
   "metadata": {},
   "outputs": [
    {
     "name": "stdout",
     "output_type": "stream",
     "text": [
      "1 2\n"
     ]
    }
   ],
   "source": [
    "obj = Klasa()\n",
    "# obj.metoda(1)\n",
    "obj.metoda(1,2)\n",
    "# obj.metoda(1,2,3)"
   ]
  },
  {
   "cell_type": "code",
   "execution_count": 21,
   "id": "aa161cac-326c-474d-9442-a3e10fcf7605",
   "metadata": {},
   "outputs": [
    {
     "name": "stdout",
     "output_type": "stream",
     "text": [
      "30\n",
      "5\n",
      "Brak danych\n"
     ]
    }
   ],
   "source": [
    "# przeciążeń nie ma, ale:\n",
    "class MyClass:\n",
    "    def __init__(self, arg1=None, arg2=None):\n",
    "        if arg1 is not None and arg2 is not None:\n",
    "            # Inicjalizacja z dwoma argumentami\n",
    "            self.data = arg1 + arg2\n",
    "        elif arg1 is not None:\n",
    "            # Inicjalizacja z jednym argumentem\n",
    "            self.data = arg1\n",
    "        else:\n",
    "            # Inicjalizacja bez argumentów\n",
    "            self.data = \"Brak danych\"\n",
    "\n",
    "# Inicjalizacja z dwoma argumentami\n",
    "obj1 = MyClass(10, 20)\n",
    "print(obj1.data)  # Output: 30\n",
    "\n",
    "# Inicjalizacja z jednym argumentem\n",
    "obj2 = MyClass(5)\n",
    "print(obj2.data)  # Output: 5\n",
    "\n",
    "# Inicjalizacja bez argumentów\n",
    "obj3 = MyClass()\n",
    "print(obj3.data)  # Output: Brak danych"
   ]
  },
  {
   "cell_type": "code",
   "execution_count": 11,
   "id": "fdd94344-6625-4600-8fb9-9b4848ea47fb",
   "metadata": {},
   "outputs": [
    {
     "name": "stdout",
     "output_type": "stream",
     "text": [
      "<__main__.Klasa object at 0x00000230211CF7D0>\n"
     ]
    }
   ],
   "source": [
    "print(obj) # opis objektu"
   ]
  },
  {
   "cell_type": "code",
   "execution_count": 12,
   "id": "748f0e1a-448e-4c7a-9934-91fe589d64bb",
   "metadata": {},
   "outputs": [
    {
     "name": "stdout",
     "output_type": "stream",
     "text": [
      "to jest opis obj1\n",
      "to jest opis obj2\n",
      "to jest opis obj3\n"
     ]
    }
   ],
   "source": [
    "# '__str__' funkcaj do zmiany opisu objektu\n",
    "class Klasa:\n",
    "    def __init__(self, nazwaObj):\n",
    "        self.nazwaObj = nazwaObj\n",
    "        \n",
    "    def __str__(self):\n",
    "        return 'to jest opis {}'.format(self.nazwaObj)\n",
    "        \n",
    "obj1 = Klasa('obj1')\n",
    "print(obj1)\n",
    "obj2 = Klasa('obj2')\n",
    "print(obj2)\n",
    "obj3 = Klasa('obj3')\n",
    "print(obj3)"
   ]
  },
  {
   "cell_type": "code",
   "execution_count": 13,
   "id": "1feb112a-c49a-437b-8001-7d4d6705675f",
   "metadata": {},
   "outputs": [
    {
     "name": "stdout",
     "output_type": "stream",
     "text": [
      "to jest opis obj1\n",
      "to jest opis obj2\n",
      "odpowiedź\n"
     ]
    }
   ],
   "source": [
    "# '__add__' specjalna metoda która pozwala dodawać do siebie objekty przy pomocy '+'\n",
    "class Klasa:\n",
    "\n",
    "    def __add__(self, other): # metoda która zadziała jak się urzyje operatora '+' na objektach tej klasy\n",
    "        return 'odpowiedź'\n",
    "    \n",
    "    def __init__(self, nazwaObj):\n",
    "        self.nazwaObj = nazwaObj\n",
    "        \n",
    "    def __str__(self):\n",
    "        return 'to jest opis {}'.format(self.nazwaObj)\n",
    "\n",
    "obj1 = Klasa('obj1')\n",
    "print(obj1)\n",
    "obj2 = Klasa('obj2')\n",
    "print(obj2)\n",
    "print(obj1 + obj2)"
   ]
  },
  {
   "cell_type": "code",
   "execution_count": 14,
   "id": "defb179f-b7b5-49d0-8d1c-82b6d337ec23",
   "metadata": {},
   "outputs": [],
   "source": [
    "# '__getitem__' i '__setitem__' są specjalnymi metodami w języku Python, \n",
    "# które pozwalają na dostęp i przypisanie wartości do elementów obiektu za pomocą operatorów indeksowania ([]). \n",
    "# Te metody są często używane w klasach, które chcą udostępnić interfejs podobny do listy lub słownika."
   ]
  },
  {
   "cell_type": "code",
   "execution_count": 15,
   "id": "4073d608-8af2-4133-b0d7-b892790b131f",
   "metadata": {},
   "outputs": [
    {
     "name": "stdout",
     "output_type": "stream",
     "text": [
      "1\n",
      "3\n"
     ]
    }
   ],
   "source": [
    "class MyList:\n",
    "    def __init__(self, data):\n",
    "        self.data = data\n",
    "\n",
    "    def __getitem__(self, index):\n",
    "        return self.data[index]\n",
    "\n",
    "my_list = MyList([1, 2, 3, 4, 5])\n",
    "print(my_list[0])  # Output: 1\n",
    "print(my_list[2])  # Output: 3"
   ]
  },
  {
   "cell_type": "code",
   "execution_count": 16,
   "id": "096fa864-4532-4213-ae79-2cfa4757a802",
   "metadata": {},
   "outputs": [
    {
     "name": "stdout",
     "output_type": "stream",
     "text": [
      "[10, 2, 3, 4, 5]\n"
     ]
    }
   ],
   "source": [
    "class MyList:\n",
    "    def __init__(self, data):\n",
    "        self.data = data\n",
    "\n",
    "    def __setitem__(self, index, value):\n",
    "        self.data[index] = value\n",
    "\n",
    "my_list = MyList([1, 2, 3, 4, 5])\n",
    "my_list[0] = 10\n",
    "print(my_list.data)  # Output: [10, 2, 3, 4, 5]"
   ]
  },
  {
   "cell_type": "code",
   "execution_count": 17,
   "id": "d54aa13f-a18c-4b58-b569-962f7b0e5827",
   "metadata": {},
   "outputs": [],
   "source": [
    "# Korzystając z __getitem__ i __setitem__, można tworzyć obiekty, które zachowują się podobnie do wbudowanych struktur danych Pythona, \n",
    "# takich jak lista czy słownik. Ta elastyczność jest często używana w celu dostosowania obiektów do specyficznych potrzeb aplikacji."
   ]
  },
  {
   "cell_type": "code",
   "execution_count": 18,
   "id": "a0684ae7-0e96-42d7-8e90-f4e1940029e6",
   "metadata": {},
   "outputs": [
    {
     "name": "stdout",
     "output_type": "stream",
     "text": [
      "1\n",
      "2\n"
     ]
    }
   ],
   "source": [
    "class MyDict:\n",
    "    def __init__(self):\n",
    "        self.data = {}\n",
    "\n",
    "    def __getitem__(self, key):\n",
    "        return self.data[key]\n",
    "\n",
    "    def __setitem__(self, key, value):\n",
    "        self.data[key] = value\n",
    "\n",
    "my_dict = MyDict()\n",
    "my_dict['a'] = 1\n",
    "my_dict['b'] = 2\n",
    "\n",
    "print(my_dict['a'])  # Output: 1\n",
    "print(my_dict['b'])  # Output: 2"
   ]
  },
  {
   "cell_type": "code",
   "execution_count": 32,
   "id": "240d12aa-65a5-4037-a3c0-215d2e7f850c",
   "metadata": {},
   "outputs": [
    {
     "name": "stdout",
     "output_type": "stream",
     "text": [
      "To jest metoda statyczna\n",
      "konstruktor zm1\n",
      "metoda zm1\n",
      "To jest metoda statyczna\n"
     ]
    }
   ],
   "source": [
    "# Metody statyczne są to metody, które są przypisane do klasy, a nie do instancji klasy. \n",
    "# Oznacza to, że mogą być wywoływane bez konieczności tworzenia instancji danej klasy. \n",
    "# Metody statyczne nie mają dostępu do instancji ani do atrybutów instancji klasy, są one związane wyłącznie z klasą jako całością.\n",
    "\n",
    "class MyClass:\n",
    "    zm1 = 'zm1'\n",
    "    def __init__(self):\n",
    "         print('konstruktor', self.zm1)\n",
    "\n",
    "    def metoda(self):\n",
    "        print('metoda', self.zm1)\n",
    "    \n",
    "    @staticmethod\n",
    "    def static_method():\n",
    "        print(\"To jest metoda statyczna\")\n",
    "\n",
    "\n",
    "MyClass.static_method() \n",
    "obj = MyClass()\n",
    "obj.metoda()\n",
    "obj.static_method()\n"
   ]
  },
  {
   "cell_type": "code",
   "execution_count": 59,
   "id": "731713a5-22b3-4c27-a922-4e58a832e8e6",
   "metadata": {},
   "outputs": [
    {
     "name": "stdout",
     "output_type": "stream",
     "text": [
      "metC\n",
      "metP\n"
     ]
    }
   ],
   "source": [
    "# polimorfizm\n",
    "\n",
    "class Parent:\n",
    "    def met(self):\n",
    "        print('metP')\n",
    "    \n",
    "class Child(Parent):\n",
    "    def met(self):\n",
    "        print('metC')\n",
    "\n",
    "    def metP(self):\n",
    "        super().met()\n",
    "\n",
    "obj = Child()\n",
    "obj.met()\n",
    "obj.metP()"
   ]
  },
  {
   "cell_type": "code",
   "execution_count": 63,
   "id": "876374c6-016e-40c7-aa11-b0dc436888ab",
   "metadata": {},
   "outputs": [
    {
     "name": "stdout",
     "output_type": "stream",
     "text": [
      "publiczna\n",
      "prywatna\n"
     ]
    }
   ],
   "source": [
    "# funkcja prywatna, żeby była widoczna tylko w swojej klasie to wystarczy jej dodać na początek nazwy dwa podkreślniki\n",
    "class MyClass:\n",
    "    def __prywatna(self):\n",
    "        print('prywatna')\n",
    "    def publiczna(self):\n",
    "        print('publiczna')\n",
    "        self.__prywatna() # tylko do wewnętrznego użytku klasy\n",
    "\n",
    "obj = MyClass()\n",
    "obj.publiczna()\n",
    "# obj.__prywatna() # error"
   ]
  },
  {
   "cell_type": "code",
   "execution_count": null,
   "id": "e35662fa-3e74-4643-b4c8-10ed25ed1370",
   "metadata": {},
   "outputs": [],
   "source": []
  }
 ],
 "metadata": {
  "kernelspec": {
   "display_name": "Torch Learn",
   "language": "python",
   "name": "python3"
  },
  "language_info": {
   "codemirror_mode": {
    "name": "ipython",
    "version": 3
   },
   "file_extension": ".py",
   "mimetype": "text/x-python",
   "name": "python",
   "nbconvert_exporter": "python",
   "pygments_lexer": "ipython3",
   "version": "3.12.1"
  },
  "widgets": {
   "application/vnd.jupyter.widget-state+json": {
    "state": {},
    "version_major": 2,
    "version_minor": 0
   }
  }
 },
 "nbformat": 4,
 "nbformat_minor": 5
}
