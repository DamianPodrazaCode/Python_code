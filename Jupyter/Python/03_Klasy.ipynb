{
 "cells": [
  {
   "cell_type": "markdown",
   "id": "eb175da7-1577-42c8-b97e-bcc54da552ba",
   "metadata": {},
   "source": [
    "--------------------------------------------------------------------------------------------------------------------------\n",
    "## 17. Klasy."
   ]
  },
  {
   "cell_type": "code",
   "execution_count": 1,
   "id": "5ff78433-6a79-4b0d-9ec2-14c2e2fa77b5",
   "metadata": {},
   "outputs": [],
   "source": [
    "class Klasa:\n",
    "    def __init__(self):  #konstruktor\n",
    "        print('konstruktor', hex(id(self)), self)\n",
    "    \n",
    "    def metoda1(self):   # metoda\n",
    "        print('metoda1')\n",
    "\n",
    "    def __del__(self):  # destruktor\n",
    "        print('destruktor')"
   ]
  },
  {
   "cell_type": "code",
   "execution_count": 2,
   "id": "413bbb74-4210-4009-9bce-11c6fed6b8dd",
   "metadata": {},
   "outputs": [
    {
     "name": "stdout",
     "output_type": "stream",
     "text": [
      "konstruktor 0x29163cdb8f0 <__main__.Klasa object at 0x0000029163CDB8F0>\n",
      "metoda1\n"
     ]
    }
   ],
   "source": [
    "obj1 = Klasa() # stworzenie ojektu\n",
    "obj1.metoda1() # wywołanie metody"
   ]
  },
  {
   "cell_type": "code",
   "execution_count": 3,
   "id": "8671d6e2-8eac-45ee-8446-7e2512ee33a9",
   "metadata": {},
   "outputs": [
    {
     "name": "stdout",
     "output_type": "stream",
     "text": [
      "<__main__.Klasa object at 0x0000029163CDB8F0>\n"
     ]
    }
   ],
   "source": [
    "print(obj1) # adress objektu"
   ]
  },
  {
   "cell_type": "code",
   "execution_count": 4,
   "id": "bd0f2e4c-7d9a-430e-9337-0d68490bf89e",
   "metadata": {},
   "outputs": [
    {
     "name": "stdout",
     "output_type": "stream",
     "text": [
      "destruktor\n"
     ]
    }
   ],
   "source": [
    "del obj1"
   ]
  },
  {
   "cell_type": "code",
   "execution_count": null,
   "id": "ec655d15-902b-4e70-a981-c6c7323600bc",
   "metadata": {},
   "outputs": [],
   "source": [
    "# konstruk\n",
    "class Klasa:\n",
    "    def __init__(self):  #konstruktor\n",
    "        print('konstruktor', hex(id(self)), self)"
   ]
  }
 ],
 "metadata": {
  "kernelspec": {
   "display_name": "Torch Learn",
   "language": "python",
   "name": "python3"
  },
  "language_info": {
   "codemirror_mode": {
    "name": "ipython",
    "version": 3
   },
   "file_extension": ".py",
   "mimetype": "text/x-python",
   "name": "python",
   "nbconvert_exporter": "python",
   "pygments_lexer": "ipython3",
   "version": "3.12.1"
  },
  "widgets": {
   "application/vnd.jupyter.widget-state+json": {
    "state": {},
    "version_major": 2,
    "version_minor": 0
   }
  }
 },
 "nbformat": 4,
 "nbformat_minor": 5
}
