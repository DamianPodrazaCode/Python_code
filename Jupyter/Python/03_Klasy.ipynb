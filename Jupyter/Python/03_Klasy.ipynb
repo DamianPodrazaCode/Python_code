{
 "cells": [
  {
   "cell_type": "markdown",
   "id": "eb175da7-1577-42c8-b97e-bcc54da552ba",
   "metadata": {},
   "source": [
    "--------------------------------------------------------------------------------------------------------------------------\n",
    "## 17. Klasy."
   ]
  },
  {
   "cell_type": "code",
   "execution_count": 1,
   "id": "5ff78433-6a79-4b0d-9ec2-14c2e2fa77b5",
   "metadata": {},
   "outputs": [],
   "source": [
    "class Klasa:\n",
    "    def __init__(self):  #konstruktor\n",
    "        print('konstruktor', hex(id(self)), self)\n",
    "    \n",
    "    def metoda1(self):   # metoda\n",
    "        print('metoda1')\n",
    "\n",
    "    def __del__(self):  # destruktor\n",
    "        print('destruktor')"
   ]
  },
  {
   "cell_type": "code",
   "execution_count": 2,
   "id": "413bbb74-4210-4009-9bce-11c6fed6b8dd",
   "metadata": {},
   "outputs": [
    {
     "name": "stdout",
     "output_type": "stream",
     "text": [
      "konstruktor 0x24305cef290 <__main__.Klasa object at 0x0000024305CEF290>\n",
      "metoda1\n"
     ]
    }
   ],
   "source": [
    "obj = Klasa() # stworzenie ojektu\n",
    "obj.metoda1() # wywołanie metody"
   ]
  },
  {
   "cell_type": "code",
   "execution_count": 3,
   "id": "8671d6e2-8eac-45ee-8446-7e2512ee33a9",
   "metadata": {},
   "outputs": [
    {
     "name": "stdout",
     "output_type": "stream",
     "text": [
      "<__main__.Klasa object at 0x0000024305CEF290>\n"
     ]
    }
   ],
   "source": [
    "print(obj) # adress objektu"
   ]
  },
  {
   "cell_type": "code",
   "execution_count": 4,
   "id": "bd0f2e4c-7d9a-430e-9337-0d68490bf89e",
   "metadata": {},
   "outputs": [
    {
     "name": "stdout",
     "output_type": "stream",
     "text": [
      "destruktor\n"
     ]
    }
   ],
   "source": [
    "del obj # usunięcie objektu"
   ]
  },
  {
   "cell_type": "code",
   "execution_count": 25,
   "id": "c8229dc4-d0d8-4420-9eab-9833ccbb3254",
   "metadata": {},
   "outputs": [
    {
     "name": "stdout",
     "output_type": "stream",
     "text": [
      "konstruktor 123 4.5 10\n",
      "123 4.5 10 None None\n"
     ]
    }
   ],
   "source": [
    "# opcje inicjalizacji atrybutów (zmiennych) klasy\n",
    "class Klasa:\n",
    "    a = None # dodatkowe atrybyty \n",
    "    b = None\n",
    "    def __init__(self, x, y):  # konstruktor z dwiema zmiennymi inicjalizacyjnymi, które w tym momencie są dostępne tylko w konstruktorze\n",
    "        self.x = x  # stworzenie atrybutów, które będą dostępne dla całej klasy\n",
    "        self.y = y\n",
    "        self.z = 10 # dodatkowe atrybyty stqworzone w konstruktorze\n",
    "        print('konstruktor', self.x, self.y, self.z)\n",
    "    \n",
    "    def metoda(self):\n",
    "        print(self.x, self.y, self.z, self.a, self.b)\n",
    "    \n",
    "obj = Klasa(123, 4.5)\n",
    "obj.metoda()"
   ]
  },
  {
   "cell_type": "code",
   "execution_count": 28,
   "id": "c68a7087-eac2-442c-8870-d7e9f71313df",
   "metadata": {},
   "outputs": [
    {
     "name": "stdout",
     "output_type": "stream",
     "text": [
      "Inicjalizacja rodzica\n",
      "Inicjalizacja dziecka\n"
     ]
    }
   ],
   "source": [
    "# dziedziczenie\n",
    "class Parent:\n",
    "    def __init__(self):\n",
    "        print(\"Inicjalizacja rodzica\")\n",
    "\n",
    "class Child(Parent):\n",
    "    def __init__(self):\n",
    "        super().__init__()\n",
    "        print(\"Inicjalizacja dziecka\")\n",
    "\n",
    "obj = Child()"
   ]
  },
  {
   "cell_type": "code",
   "execution_count": null,
   "id": "15e8008a-aa93-47b9-912b-3189337afc42",
   "metadata": {},
   "outputs": [],
   "source": [
    "class Klasa:\n",
    "    def __init__(self, x = \"jeden\", y): \n",
    "        self.x = x \n",
    "        self.y = y\n",
    "        print('konstruktor', self.x, self.y)\n",
    "    "
   ]
  }
 ],
 "metadata": {
  "kernelspec": {
   "display_name": "Torch Learn",
   "language": "python",
   "name": "python3"
  },
  "language_info": {
   "codemirror_mode": {
    "name": "ipython",
    "version": 3
   },
   "file_extension": ".py",
   "mimetype": "text/x-python",
   "name": "python",
   "nbconvert_exporter": "python",
   "pygments_lexer": "ipython3",
   "version": "3.12.1"
  },
  "widgets": {
   "application/vnd.jupyter.widget-state+json": {
    "state": {},
    "version_major": 2,
    "version_minor": 0
   }
  }
 },
 "nbformat": 4,
 "nbformat_minor": 5
}
