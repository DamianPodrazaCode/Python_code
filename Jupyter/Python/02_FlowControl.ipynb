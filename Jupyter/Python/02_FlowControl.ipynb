{
 "cells": [
  {
   "cell_type": "markdown",
   "id": "6f186415-55ea-4e3a-b5dc-14c5269096b0",
   "metadata": {},
   "source": [
    "--------------------------------------------------------------------------------------------------------------------------\n",
    "## 08. Warunki if...else."
   ]
  },
  {
   "cell_type": "code",
   "execution_count": 1,
   "id": "33c5efb3-137c-4be5-aa1e-b67ebbbb2e31",
   "metadata": {},
   "outputs": [],
   "source": [
    "# ==\t    Sprawdza, czy dwie wartości są równe.\n",
    "# !=\t    Sprawdza, czy dwie wartości są różne.\n",
    "# >\t        Sprawdza, czy pierwsza wartość jest większa od drugiej.\n",
    "# <\t        Sprawdza, czy pierwsza wartość jest mniejsza od drugiej.\n",
    "# >=\t    Sprawdza, czy pierwsza wartość jest większa lub równa drugiej.\n",
    "# <=\t    Sprawdza, czy pierwsza wartość jest mniejsza lub równa drugiej.\n",
    "# in\t    Sprawdza, czy element znajduje się w sekwencji.\n",
    "# not in\tSprawdza, czy element nie znajduje się w sekwencji.\n",
    "# is\t    Sprawdza, czy dwie zmienne wskazują na ten sam obiekt.\n",
    "# is not\tSprawdza, czy dwie zmienne wskazują na różne obiekty.\n",
    "# and\t    Zwraca True, jeśli oba warunki są prawdziwe.\n",
    "# or\t    Zwraca True, jeśli co najmniej jeden z warunków jest prawdziwy.\n",
    "# not\t    Odwraca wartość logiczną warunku."
   ]
  },
  {
   "cell_type": "code",
   "execution_count": 2,
   "id": "6a74cb5b-f150-4f4e-b9f1-453f0483ffb1",
   "metadata": {},
   "outputs": [
    {
     "name": "stdout",
     "output_type": "stream",
     "text": [
      "True\n"
     ]
    }
   ],
   "source": [
    "# przy if zamiast nawiasów{} jak w 'c' są odsunięcia tabem\n",
    "zm1 = 1\n",
    "if zm1 > 0 : \n",
    "    print(bool(zm1))"
   ]
  },
  {
   "cell_type": "code",
   "execution_count": 3,
   "id": "1b525583-aa7d-436b-8927-ef12ee62c553",
   "metadata": {},
   "outputs": [],
   "source": [
    "# czasami pisze się warunek ale jeszcze niema się ciała warunku, wtedy używa sie instrukcji pustej 'pass' tymczasowo\n",
    "if zm1 != 0 :\n",
    "    pass "
   ]
  },
  {
   "cell_type": "code",
   "execution_count": 4,
   "id": "ea24e798-a4d3-4ad5-ba20-b9b1163b1928",
   "metadata": {},
   "outputs": [],
   "source": [
    "# składnia z else\n",
    "if zm1 > 10 :\n",
    "    pass\n",
    "else :\n",
    "    pass"
   ]
  },
  {
   "cell_type": "code",
   "execution_count": 5,
   "id": "c5f43eff-0b26-4ace-9ecb-b41583c70747",
   "metadata": {},
   "outputs": [],
   "source": [
    "# składnia z elif - wykona się tylko pierwszy prawdziwy warunek, jak go niebędzie to wykona się else\n",
    "if zm1 > 10 :\n",
    "    pass\n",
    "elif zm1 < 5 :\n",
    "    pass\n",
    "elif zm1 == 0 :\n",
    "    pass\n",
    "else :\n",
    "    pass"
   ]
  },
  {
   "cell_type": "markdown",
   "id": "a945aa2e-a713-4374-91b5-212390275c4b",
   "metadata": {},
   "source": [
    "--------------------------------------------------------------------------------------------------------------------------\n",
    "## 09. Pętle while."
   ]
  },
  {
   "cell_type": "code",
   "execution_count": 6,
   "id": "a7ed5e64-94cc-42b5-bc6a-a458bfd2ab9d",
   "metadata": {},
   "outputs": [
    {
     "name": "stdout",
     "output_type": "stream",
     "text": [
      "0\n",
      "1\n",
      "2\n"
     ]
    }
   ],
   "source": [
    "x = 0\n",
    "while x < 3:\n",
    "    print(x)\n",
    "    x += 1\n",
    "\n",
    "# x = 0\n",
    "# while x < 10:\n",
    "#     pass #taki nop, ale wtym przypadku zrobi się pętla nieskończona\n",
    "# są jeszcze continue i break standard jak w C"
   ]
  },
  {
   "cell_type": "code",
   "execution_count": 7,
   "id": "5515cbc0-e844-4ac9-834d-b3ab930640fb",
   "metadata": {},
   "outputs": [
    {
     "name": "stdout",
     "output_type": "stream",
     "text": [
      "0\n",
      "1\n",
      "2\n",
      "3\n",
      "4\n",
      "5\n"
     ]
    }
   ],
   "source": [
    "lista = [1,2,3,4,5,6]\n",
    "i = 0\n",
    "while i < len(lista):\n",
    "    print(i)\n",
    "    i += 1   "
   ]
  },
  {
   "cell_type": "code",
   "execution_count": 8,
   "id": "b0c1e29d-4d65-4891-bc4b-99e5bd747961",
   "metadata": {},
   "outputs": [],
   "source": [
    "# while True:\n",
    "#     respone = input('in <<<')    \n",
    "#     if respone == 'stop':\n",
    "#         break"
   ]
  },
  {
   "cell_type": "code",
   "execution_count": 9,
   "id": "3732ac0c-4fdd-4768-9e11-7857af2c3f9f",
   "metadata": {},
   "outputs": [],
   "source": [
    "# while True:\n",
    "#     respone = input('in <<<')    \n",
    "#     if respone == 'stop':\n",
    "#         break\n",
    "#     if respone == 'rep':\n",
    "#         continue\n",
    "#     print(respone)"
   ]
  },
  {
   "cell_type": "code",
   "execution_count": 10,
   "id": "5c5ca3c2-4d32-4694-939e-bcd7699aedfd",
   "metadata": {},
   "outputs": [
    {
     "name": "stdout",
     "output_type": "stream",
     "text": [
      "0\n",
      "1\n",
      "2\n",
      "end while\n"
     ]
    }
   ],
   "source": [
    "zm1 = 0\n",
    "while zm1 < 3 : # wykonuj dopóki zm1 mniejsze od 3\n",
    "    print(zm1)\n",
    "    zm1 += 1\n",
    "print('end while')    "
   ]
  },
  {
   "cell_type": "code",
   "execution_count": 11,
   "id": "9d3a33c2-12a8-4f42-8906-2d1d03596e45",
   "metadata": {},
   "outputs": [
    {
     "name": "stdout",
     "output_type": "stream",
     "text": [
      "3\n",
      "2\n",
      "1\n",
      "end while\n"
     ]
    }
   ],
   "source": [
    "# Instrukcja \"break\" służy do przerywana działania pętli.\n",
    "zm1 = 3\n",
    "while True : # pętla nieskończona\n",
    "    if zm1 <= 0 :\n",
    "        break\n",
    "    print(zm1)\n",
    "    zm1 -= 1\n",
    "print('end while')    "
   ]
  },
  {
   "cell_type": "code",
   "execution_count": 12,
   "id": "e866742e-fc53-4ecf-801f-89605ca3ddf4",
   "metadata": {},
   "outputs": [
    {
     "name": "stdout",
     "output_type": "stream",
     "text": [
      "6\n",
      "4\n",
      "2\n",
      "end while\n"
     ]
    }
   ],
   "source": [
    "# Instrukcja \"continue\" powoduje przeskok do następnego obrotu pętli.\n",
    "zm1 = 8\n",
    "while True :\n",
    "    zm1 -= 1\n",
    "    if zm1 % 2 : # jeżeli wynik z dzielenia ma reszte to pomin ta pętle i wykonaj następną\n",
    "        continue\n",
    "    if zm1 <= 0 :\n",
    "        break \n",
    "    print(zm1)\n",
    "print('end while') "
   ]
  },
  {
   "cell_type": "markdown",
   "id": "d7298edd-d9df-4db8-b39b-da2ee6f07996",
   "metadata": {},
   "source": [
    "--------------------------------------------------------------------------------------------------------------------------\n",
    "## 10. Pętle for."
   ]
  },
  {
   "cell_type": "code",
   "execution_count": 13,
   "id": "9a2ff121-8907-4f85-b871-c2b447e6a691",
   "metadata": {},
   "outputs": [
    {
     "name": "stdout",
     "output_type": "stream",
     "text": [
      "jeden\n",
      "dwa\n",
      "trzy\n",
      "cztery\n",
      "pięć\n",
      "end for\n"
     ]
    }
   ],
   "source": [
    "# for to pętla iteracyjna, całkiem inna niż w C\n",
    "# iteracja wg listy, for przejedzie przez całą listę pokolei od elementu pierwszego\n",
    "lista = ['jeden', 'dwa', 'trzy', 'cztery', 'pięć'] \n",
    "for str in lista : \n",
    "    print(str)\n",
    "print('end for')"
   ]
  },
  {
   "cell_type": "code",
   "execution_count": 14,
   "id": "8b7741c4-73af-49c2-a896-daacbc21a230",
   "metadata": {},
   "outputs": [
    {
     "name": "stdout",
     "output_type": "stream",
     "text": [
      "2\n",
      "45\n",
      "45\n",
      "3\n",
      "end for\n"
     ]
    }
   ],
   "source": [
    "# lista wbudowana w for'a\n",
    "for str in [2, 45, 45, 3] :\n",
    "    print(str)\n",
    "print('end for')"
   ]
  },
  {
   "cell_type": "code",
   "execution_count": 15,
   "id": "3df9d5a9-63cc-477c-873d-2f6fb4b8beba",
   "metadata": {},
   "outputs": [
    {
     "name": "stdout",
     "output_type": "stream",
     "text": [
      "0\n",
      "1\n",
      "2\n",
      "3\n",
      "end for\n"
     ]
    }
   ],
   "source": [
    "# iteracja oparta na zakresie liczbowym\n",
    "# range([start],stop,[step]) - tylko liczby całkowite\n",
    "for str in range(4) : # będzie liczyć od 0 do 9\n",
    "    print(str)\n",
    "print('end for')"
   ]
  },
  {
   "cell_type": "code",
   "execution_count": 16,
   "id": "7c52250f-ced3-4815-82a1-f0cb279e4d06",
   "metadata": {},
   "outputs": [
    {
     "name": "stdout",
     "output_type": "stream",
     "text": [
      "2\n",
      "3\n",
      "4\n",
      "end for\n"
     ]
    }
   ],
   "source": [
    "for str in range(2,5) : # bedzie liczyć o 2 do 4\n",
    "    print(str)\n",
    "print('end for')"
   ]
  },
  {
   "cell_type": "code",
   "execution_count": 17,
   "id": "d0d4d75a-ebbb-426e-ae10-b8446c559c9c",
   "metadata": {},
   "outputs": [
    {
     "name": "stdout",
     "output_type": "stream",
     "text": [
      "6\n",
      "5\n",
      "4\n",
      "3\n",
      "end for\n"
     ]
    }
   ],
   "source": [
    "for str in range(6,2,-1) : # bedzie liczyć o 6 do 3\n",
    "    print(str)\n",
    "print('end for')"
   ]
  },
  {
   "cell_type": "code",
   "execution_count": 18,
   "id": "bd32cb14-38f2-4665-9093-3d156661038e",
   "metadata": {},
   "outputs": [
    {
     "name": "stdout",
     "output_type": "stream",
     "text": [
      "5\n",
      "7\n",
      "9\n",
      "11\n",
      "end for\n"
     ]
    }
   ],
   "source": [
    "for str in range(5,13,2) : # bedzie liczyć o 5 do 11 z krokiem co 2\n",
    "    print(str)\n",
    "print('end for')"
   ]
  },
  {
   "cell_type": "code",
   "execution_count": 19,
   "id": "d90e3643-0dd4-411a-960e-49736b08d9bd",
   "metadata": {},
   "outputs": [
    {
     "name": "stdout",
     "output_type": "stream",
     "text": [
      "{'asd': 'dsa', 'qwe': 'ewq', 'jeden': 1, 'dwa': 2, 'trzy': 3, 'cztery': 4}\n"
     ]
    }
   ],
   "source": [
    "d = dict(asd='dsa', qwe='ewq', jeden=1, dwa=2, trzy=3, cztery=4)\n",
    "print(d)"
   ]
  },
  {
   "cell_type": "code",
   "execution_count": 20,
   "id": "3f5a496e-f701-4577-9525-ceb7bb0901c1",
   "metadata": {},
   "outputs": [
    {
     "name": "stdout",
     "output_type": "stream",
     "text": [
      "asd\n",
      "qwe\n",
      "jeden\n",
      "dwa\n",
      "trzy\n",
      "cztery\n"
     ]
    }
   ],
   "source": [
    "for k in d.keys():     # wylistowanie kluczy\n",
    "    print(k)    "
   ]
  },
  {
   "cell_type": "code",
   "execution_count": 21,
   "id": "a7055c7b-ae22-4b84-bce9-c0b7110a7271",
   "metadata": {},
   "outputs": [
    {
     "name": "stdout",
     "output_type": "stream",
     "text": [
      "dsa\n",
      "ewq\n",
      "1\n",
      "2\n",
      "3\n",
      "4\n"
     ]
    }
   ],
   "source": [
    "for k in d.values():    # wylistowanie wartości\n",
    "    print(k)   "
   ]
  },
  {
   "cell_type": "code",
   "execution_count": 22,
   "id": "1146a720-f4c3-466b-9d8f-c39239c4f7da",
   "metadata": {},
   "outputs": [
    {
     "name": "stdout",
     "output_type": "stream",
     "text": [
      "('asd', 'dsa')\n",
      "('qwe', 'ewq')\n",
      "('jeden', 1)\n",
      "('dwa', 2)\n",
      "('trzy', 3)\n",
      "('cztery', 4)\n"
     ]
    }
   ],
   "source": [
    "for k in d.items():    # wylistowanie par\n",
    "    print(k)"
   ]
  },
  {
   "cell_type": "code",
   "execution_count": 23,
   "id": "3e2b5699-62b3-4874-93cc-342c1d7dca6f",
   "metadata": {},
   "outputs": [
    {
     "name": "stdout",
     "output_type": "stream",
     "text": [
      "asd dsa\n",
      "qwe ewq\n",
      "jeden 1\n",
      "dwa 2\n",
      "trzy 3\n",
      "cztery 4\n"
     ]
    }
   ],
   "source": [
    "for k in d.keys():  # wylistowanie wartości po kluczu\n",
    "    print(k, d[k])    "
   ]
  },
  {
   "cell_type": "code",
   "execution_count": 24,
   "id": "1abc250e-969e-4354-b85a-37d22141f0b9",
   "metadata": {},
   "outputs": [
    {
     "name": "stdout",
     "output_type": "stream",
     "text": [
      "asd dsa\n",
      "qwe ewq\n",
      "jeden 1\n",
      "dwa 2\n",
      "trzy 3\n",
      "cztery 4\n"
     ]
    }
   ],
   "source": [
    "for k, v in d.items():  # wylistowanie wartości i klucza\n",
    "    print(k, v)"
   ]
  },
  {
   "cell_type": "code",
   "execution_count": 25,
   "id": "59376c93-9080-4fe2-be01-ca9a0b2e5a91",
   "metadata": {},
   "outputs": [
    {
     "name": "stdout",
     "output_type": "stream",
     "text": [
      "(0, 't')\n",
      "(1, 'e')\n",
      "(2, 'x')\n",
      "(3, 't')\n",
      "(4, ' ')\n",
      "(5, 't')\n",
      "(6, 'e')\n",
      "(7, 's')\n",
      "(8, 't')\n"
     ]
    }
   ],
   "source": [
    "for char in enumerate('text test'):\n",
    "    print(char)"
   ]
  },
  {
   "cell_type": "code",
   "execution_count": 26,
   "id": "72f09467-899e-418c-8573-966a8b656955",
   "metadata": {},
   "outputs": [
    {
     "name": "stdout",
     "output_type": "stream",
     "text": [
      "0 t\n",
      "1 e\n",
      "2 x\n",
      "3 t\n",
      "4  \n",
      "5 t\n",
      "6 e\n",
      "7 s\n",
      "8 t\n"
     ]
    }
   ],
   "source": [
    "for i, char in enumerate('text test'):\n",
    "    print(i, char)"
   ]
  },
  {
   "cell_type": "code",
   "execution_count": 27,
   "id": "7e0bea72-014e-4507-abbc-8a417b451b45",
   "metadata": {},
   "outputs": [
    {
     "name": "stdout",
     "output_type": "stream",
     "text": [
      "Indeks: 0, Element: a\n",
      "Indeks: 1, Element: b\n",
      "Indeks: 2, Element: c\n",
      "Indeks: 3, Element: d\n",
      "Indeks: 4, Element: e\n"
     ]
    }
   ],
   "source": [
    "# enumerate()\n",
    "# Funkcja enumerate() jest przydatnym narzędziem do iteracji po sekwencji (takiej jak lista, krotka, czy napis) \n",
    "# jednocześnie zwracając indeks elementu oraz sam element.\n",
    "# enumerate(iterable, start=0)\n",
    "lista = ['a', 'b', 'c', 'd', 'e']\n",
    "for indeks, element in enumerate(lista):\n",
    "    print(f\"Indeks: {indeks}, Element: {element}\")"
   ]
  },
  {
   "cell_type": "code",
   "execution_count": 28,
   "id": "aa3c1147-fd27-4c00-b91b-99b912f23bf6",
   "metadata": {},
   "outputs": [
    {
     "name": "stdout",
     "output_type": "stream",
     "text": [
      "Indeks: 1, Litera: P\n",
      "Indeks: 2, Litera: y\n",
      "Indeks: 3, Litera: t\n",
      "Indeks: 4, Litera: h\n",
      "Indeks: 5, Litera: o\n",
      "Indeks: 6, Litera: n\n"
     ]
    }
   ],
   "source": [
    "napis = \"Python\"\n",
    "for indeks, litera in enumerate(napis, start=1):\n",
    "    print(f\"Indeks: {indeks}, Litera: {litera}\")"
   ]
  },
  {
   "cell_type": "code",
   "execution_count": 29,
   "id": "a4ccf8a7-46cb-41a6-8288-e7bacc6c4228",
   "metadata": {},
   "outputs": [
    {
     "name": "stdout",
     "output_type": "stream",
     "text": [
      "tekst\n",
      "teksttekst\n",
      "   *   \n",
      "  ***  \n",
      " ***** \n",
      "*******\n",
      "   *   \n",
      "   *   \n"
     ]
    }
   ],
   "source": [
    "picture = [\n",
    "  [0,0,0,1,0,0,0],\n",
    "  [0,0,1,1,1,0,0],\n",
    "  [0,1,1,1,1,1,0],\n",
    "  [1,1,1,1,1,1,1],\n",
    "  [0,0,0,1,0,0,0],\n",
    "  [0,0,0,1,0,0,0]\n",
    "]\n",
    "\n",
    "print('tekst') # na końcu ma domyślnie zakończenie lini\n",
    "print('tekst', end='') # a tak nie ma, albo ma co mu wpiszemy\n",
    "print('tekst')\n",
    "\n",
    "for row in picture:\n",
    "    for pixel in row:\n",
    "        if pixel == 1:\n",
    "            print('*', end='')\n",
    "        else:\n",
    "            print(' ', end='')\n",
    "    print('')\n"
   ]
  },
  {
   "cell_type": "markdown",
   "id": "b4a12194-07d4-4cc0-9f9b-32dc400012da",
   "metadata": {},
   "source": [
    "--------------------------------------------------------------------------------------------------------------------------\n",
    "## 11. Funkcje."
   ]
  },
  {
   "cell_type": "code",
   "execution_count": 30,
   "id": "af586bdf-475d-48c3-aef3-f4b0f655ee51",
   "metadata": {},
   "outputs": [
    {
     "name": "stdout",
     "output_type": "stream",
     "text": [
      "fun\n",
      "6\n"
     ]
    }
   ],
   "source": [
    "# Funkcja be zwracanej wartości.\n",
    "def fun() :\n",
    "    print('fun')\n",
    "# Funkcja ze zwrotem\n",
    "def fun2(a1, a2) :\n",
    "    return a1 * a2\n",
    "fun()\n",
    "print(fun2(2, 3)) "
   ]
  },
  {
   "cell_type": "code",
   "execution_count": 31,
   "id": "1efe48d3-3302-4c4e-8d07-0896138141aa",
   "metadata": {},
   "outputs": [
    {
     "name": "stdout",
     "output_type": "stream",
     "text": [
      "v1 v2 v3\n",
      "v1 v2 v3\n",
      "1 2 3\n"
     ]
    }
   ],
   "source": [
    "# Pozycje argumentów.\n",
    "def fun(a1, a2, a3):\n",
    "    print(a1, a2, a3)\n",
    "fun('v1', 'v2', 'v3') \n",
    "fun(a1='v1', a3='v3', a2='v2') # pozycje wymieszane ale przypisane prawidłowym\n",
    "# Przekazanie listy jako argument, lista musi zawierać tyle elementów co ilość argumentów w funkcji.\n",
    "lista = [1, 2, 3]\n",
    "fun(*lista) "
   ]
  },
  {
   "cell_type": "code",
   "execution_count": 32,
   "id": "f1323972-2db3-43bd-9dde-a2e05d06d5bc",
   "metadata": {},
   "outputs": [
    {
     "name": "stdout",
     "output_type": "stream",
     "text": [
      "100\n",
      "20\n"
     ]
    }
   ],
   "source": [
    "# Funkcja z argumentem starowym.\n",
    "def fun(a1=100):\n",
    "    return a1\n",
    "print(fun())\n",
    "print(fun(20))"
   ]
  },
  {
   "cell_type": "code",
   "execution_count": 33,
   "id": "818dde30-539f-4af7-928c-ae9a4d96942e",
   "metadata": {},
   "outputs": [
    {
     "name": "stdout",
     "output_type": "stream",
     "text": [
      "a1\n",
      "a1\n",
      "a2\n",
      "a1\n",
      "2\n",
      "2.34\n",
      "1\n",
      "2\n",
      "3\n"
     ]
    }
   ],
   "source": [
    "# Funkcja z nieznaną ilością argumentów.\n",
    "def fun(*args):\n",
    "    for arg in args:\n",
    "        print(arg)\n",
    "fun('a1')\n",
    "fun('a1', 'a2')\n",
    "fun('a1', 2, 2.34)\n",
    "# Przekazanie listy do funkcji.\n",
    "lista = [1,2,3]  \n",
    "fun(*lista)"
   ]
  },
  {
   "cell_type": "code",
   "execution_count": 34,
   "id": "81851172-a702-4b72-9e12-29d21b0b8d60",
   "metadata": {},
   "outputs": [
    {
     "name": "stdout",
     "output_type": "stream",
     "text": [
      "arg1 111\n",
      "arg2 222\n",
      "arg3 333\n",
      "arg1 111\n",
      "arg2 222\n",
      "arg3 333\n"
     ]
    }
   ],
   "source": [
    "# Przekazanie dict do funkcji.\n",
    "myDict = {'arg1' : 111, 'arg2' : '222', 'arg3' : 333} \n",
    "\n",
    "def fun(**args):\n",
    "    for key in args:\n",
    "        print(key, args[key])\n",
    "fun(arg1=111, arg2='222', arg3=333)\n",
    "fun(**myDict)        "
   ]
  },
  {
   "cell_type": "code",
   "execution_count": 35,
   "id": "35c4fdf0-7d1c-4e1f-9689-6d4790a60c03",
   "metadata": {},
   "outputs": [
    {
     "name": "stdout",
     "output_type": "stream",
     "text": [
      "{'arg1': '111', 'arg2': '222'}\n",
      "111\n",
      "222\n",
      "{'arg1': '111'}\n",
      "111\n",
      "{'arg1': '111', 'arg2': '222', 'arg3': '333'}\n",
      "111\n",
      "222\n",
      "333\n",
      "{'arg4': 'ok'}\n",
      "jest arg4 ok\n",
      "{'arg2': 'aaa', 'arg3': 'dsa'}\n",
      "aaa\n",
      "dsa\n"
     ]
    }
   ],
   "source": [
    "# Lub.\n",
    "def fun(**args):\n",
    "    print(args)\n",
    "    def disp(key):\n",
    "        if key in args.keys():  # jeżeli w argumencie występuje klucz\n",
    "            print(args[key])\n",
    "    disp('arg1')\n",
    "    disp('arg2')\n",
    "    disp('arg3')\n",
    "    if 'arg4' in args.keys():\n",
    "        print('jest arg4', args['arg4'])\n",
    "\n",
    "fun(arg1='111', arg2='222')\n",
    "fun(arg1='111')\n",
    "fun(arg1='111', arg2='222', arg3='333')\n",
    "fun(arg4='ok')\n",
    "fun(arg2='aaa', arg3='dsa')"
   ]
  },
  {
   "cell_type": "code",
   "execution_count": 49,
   "id": "5275086d-bd40-4bde-83e2-632bcbf2e32d",
   "metadata": {},
   "outputs": [
    {
     "name": "stdout",
     "output_type": "stream",
     "text": [
      "1 2 3 4 5\n",
      "(1, 2, 3, 4, 5)\n",
      "15\n",
      "param1 param2\n",
      "{'param1': 'aaa', 'param2': 12}\n",
      "1 2 3 4 5\n",
      "(1, 2, 3, 4, 5)\n",
      "param1 param2\n",
      "{'param1': 'aaa', 'param2': 12}\n"
     ]
    }
   ],
   "source": [
    "# Jeszcze raz -> *args **kwargs\n",
    "\n",
    "# *args służy do przekazywania zmiennej liczby argumentów pozycyjnych do funkcji. \n",
    "# Gdy używasz *args jako argumentu funkcji, możesz przekazać do niej dowolną liczbę argumentów pozycyjnych, \n",
    "# a są one pakowane do krotki.\n",
    "def fun(*args):\n",
    "    print(*args) # 1 2 3 4 5  -> elementy po kolei\n",
    "    print(args) # (1, 2, 3, 4, 5) -> tuple elementów\n",
    "    return sum(args)\n",
    "print(fun(1, 2, 3, 4, 5)) # 15\n",
    "\n",
    "# **kwargs służy do przekazywania zmiennej liczby argumentów klucz-wartość (keyword arguments) do funkcji. \n",
    "# Gdy używasz **kwargs jako argumentu funkcji, możesz przekazać do niej dowolną liczbę argumentów klucz-wartość, \n",
    "# a są one pakowane do słownika.\n",
    "def fun(**kwargs):\n",
    "    print(*kwargs) # param1 param2 ->lista parametrów\n",
    "    print(kwargs) # {'param1': 'aaa', 'param2': 12} -> parametry i wartości w postaci dict\n",
    "fun(param1='aaa', param2=12)    \n",
    "\n",
    "def fun(*args, **kwargs):\n",
    "    print(*args) # 1 2 3 4 5  -> elementy po kolei\n",
    "    print(args) # (1, 2, 3, 4, 5) -> tuple elementów\n",
    "    print(*kwargs) # param1 param2 ->lista parametrów\n",
    "    print(kwargs) # {'param1': 'aaa', 'param2': 12} -> parametry i wartości w postaci dict\n",
    "fun(1, 2, 3, 4, 5, param1='aaa', param2=12)\n",
    "\n",
    "#regóła: params, *args, default params, **kwargs\n",
    "# def fun(par1, par2, *args, par3='def', **kwargs):"
   ]
  },
  {
   "cell_type": "code",
   "execution_count": 37,
   "id": "79edd665-db10-459e-b3ea-169b5dfd2947",
   "metadata": {},
   "outputs": [
    {
     "name": "stdout",
     "output_type": "stream",
     "text": [
      "Jestem w funkcji zewnętrznej\n",
      "Jestem w funkcji wewnętrznej\n"
     ]
    }
   ],
   "source": [
    "# Funkcja w funkcji.\n",
    "def zewnetrzna_funkcja():\n",
    "    def wewnetrzna_funkcja():\n",
    "        print(\"Jestem w funkcji wewnętrznej\")\n",
    "    print(\"Jestem w funkcji zewnętrznej\")\n",
    "    wewnetrzna_funkcja()\n",
    "zewnetrzna_funkcja()"
   ]
  },
  {
   "cell_type": "code",
   "execution_count": 38,
   "id": "6632a1bb-168e-4a79-b6e8-c6c0f33f3c32",
   "metadata": {},
   "outputs": [
    {
     "name": "stdout",
     "output_type": "stream",
     "text": [
      "111\n",
      "222\n",
      "333\n"
     ]
    }
   ],
   "source": [
    "# Wywołanie funkcji z parametrem dict.\n",
    "def fun(a,b,c):\n",
    "    print(a)    \n",
    "    print(b)\n",
    "    print(c)\n",
    "myDict = dict(a=111, b='222', c=333)\n",
    "fun(**myDict)"
   ]
  },
  {
   "cell_type": "code",
   "execution_count": 39,
   "id": "08d08f6f-609a-43ce-a27b-06d879c166fc",
   "metadata": {},
   "outputs": [
    {
     "name": "stdout",
     "output_type": "stream",
     "text": [
      "111\n",
      "222\n",
      "333\n"
     ]
    }
   ],
   "source": [
    "# Wywołanie funkcji z parametrem typu dict, którey jest zwracany z innej funkcji.\n",
    "def getData():\n",
    "    return dict(a=111, b='222', c=333)\n",
    "fun(**getData())"
   ]
  },
  {
   "cell_type": "code",
   "execution_count": 40,
   "id": "35f3baa0-b3b0-4370-8dc8-45d0694ecae7",
   "metadata": {},
   "outputs": [
    {
     "name": "stdout",
     "output_type": "stream",
     "text": [
      "3\n",
      "3\n"
     ]
    }
   ],
   "source": [
    "# Funkcja w argumencie funkcji.\n",
    "def fun1():\n",
    "    return 1\n",
    "def fun2():\n",
    "    return 2\n",
    "def fun(a1, a2):\n",
    "    print(a1 + a2)\n",
    "\n",
    "# Funkcje uruchamiają się w argumencie i przekazują zwrócone wartości.\n",
    "fun(fun1(),fun2()) \n",
    "\n",
    "def fun(a1, a2):\n",
    "    a = a1()\n",
    "    b = a2()\n",
    "    print(a + b)\n",
    "\n",
    "# Argumenty są wskaźnikami do funkcji które są uruchamiane w funkcji głównej\n",
    "fun(fun1,fun2)  "
   ]
  },
  {
   "cell_type": "code",
   "execution_count": 41,
   "id": "bbc96fce-7e84-43f9-be5c-85f362248766",
   "metadata": {},
   "outputs": [
    {
     "name": "stdout",
     "output_type": "stream",
     "text": [
      "Hello, John!\n",
      "Hello, John!\n"
     ]
    }
   ],
   "source": [
    "# Positional-Only Arguments to mechanizm w języku Python, który umożliwia definiowanie argumentów funkcji, \n",
    "# które mogą być przekazywane tylko za pomocą ich pozycji, a nie za pomocą ich nazw. \n",
    "# Aby zdefiniować argumenty przekazywane tylko za pomocą ich pozycji, \n",
    "# używamy znaku ukośnika (/) po argumentach, które mają być positional-only.\n",
    "def greeting(name, /, message):\n",
    "    return f\"{message}, {name}!\"\n",
    "print(greeting(\"John\", \"Hello\")) \n",
    "print(greeting(\"John\", message=\"Hello\"))  \n",
    "# print(greeting(name=\"John\", message=\"Hello\"))  # Błąd"
   ]
  },
  {
   "cell_type": "code",
   "execution_count": 42,
   "id": "a40dc034-6fe2-4d8d-a101-723e14f9600e",
   "metadata": {},
   "outputs": [
    {
     "name": "stdout",
     "output_type": "stream",
     "text": [
      "Hello, John!\n"
     ]
    }
   ],
   "source": [
    "# Keyword-Only Arguments to mechanizm w języku Python, który umożliwia definiowanie argumentów funkcji, \n",
    "# które mogą być przekazywane tylko za pomocą ich nazw, a nie za pomocą ich pozycji. \n",
    "# Jest to przydatna funkcjonalność, która umożliwia bardziej jasne określenie, jakie argumenty są wymagane i jakie są opcjonalne.\n",
    "def greeting(*, name, message):\n",
    "    return f\"{message}, {name}!\"\n",
    "print(greeting(name=\"John\", message=\"Hello\"))  # Poprawne\n",
    "# print(greeting(\"John\", \"Hello\"))  # Błąd"
   ]
  },
  {
   "cell_type": "code",
   "execution_count": 43,
   "id": "eb2facf2-ab55-4e3c-aad2-b1149d665ae0",
   "metadata": {},
   "outputs": [
    {
     "name": "stdout",
     "output_type": "stream",
     "text": [
      "Cześć, Jan!\n"
     ]
    }
   ],
   "source": [
    "# Połaczenie Positional-Only and Keyword-Only\n",
    "def powitanie(imie, /, *, wiadomosc):\n",
    "    return f\"{wiadomosc}, {imie}!\"\n",
    "print(powitanie(\"Jan\", wiadomosc=\"Cześć\"))  # Poprawne\n",
    "# print(powitanie(\"Jan\", \"Cześć\"))  # Błąd: argument pozycyjny po argumentach nazwanych\n",
    "# print(powitanie(imie=\"Jan\", wiadomosc=\"Cześć\"))  # Błąd: imie jest dostępne tylko przez pozycję"
   ]
  },
  {
   "cell_type": "code",
   "execution_count": 44,
   "id": "306d3329-ee59-4f04-a65d-400599346a89",
   "metadata": {},
   "outputs": [
    {
     "name": "stdout",
     "output_type": "stream",
     "text": [
      "120\n"
     ]
    }
   ],
   "source": [
    "# Rekursja (rekurencja) to technika programowania, w której funkcja wywołuje samą siebie w celu rozwiązania problemu. \n",
    "# Jest to przydatne podejście do rozwiązywania problemów, które mogą być łatwo podzielone na mniejsze podproblemy, \n",
    "# które można rozwiązać w taki sam sposób.\n",
    "def silnia(n):\n",
    "    if n == 0:\n",
    "        return 1\n",
    "    else:\n",
    "        return n * silnia(n - 1)\n",
    "print(silnia(5))  "
   ]
  },
  {
   "cell_type": "code",
   "execution_count": 45,
   "id": "8ad9eb71-4423-4760-8d42-792b2faad25a",
   "metadata": {},
   "outputs": [
    {
     "name": "stdout",
     "output_type": "stream",
     "text": [
      "to jest info które się wyświetli w helpie funkcji\n"
     ]
    }
   ],
   "source": [
    "#info funkcji \n",
    "def fun_info():\n",
    "    '''to jest info które się wyświetli w helpie funkcji'''\n",
    "    pass\n",
    "\n",
    "fun_info()\n",
    "print(fun_info.__doc__) # a to jest tekst pomocy"
   ]
  },
  {
   "cell_type": "markdown",
   "id": "9c2f4746-56c4-4f23-8600-143604739138",
   "metadata": {},
   "source": [
    "--------------------------------------------------------------------------------------------------------------------------\n",
    "## 12. Zasięgi zmiennych i funkcji."
   ]
  },
  {
   "cell_type": "code",
   "execution_count": 46,
   "id": "3d8c3595-29dc-4fb6-9158-d682ad314182",
   "metadata": {},
   "outputs": [
    {
     "name": "stdout",
     "output_type": "stream",
     "text": [
      "zmienna_lokalna\n",
      "zmienna_globalna\n",
      "zmienna_globalna\n"
     ]
    }
   ],
   "source": [
    "# Zasięg zmiennej.\n",
    "def funkcja():\n",
    "    zmienna_lokalna = 'zmienna_lokalna'\n",
    "    print(zmienna_lokalna)\n",
    "funkcja()\n",
    "\n",
    "zmienna_globalna = 'zmienna_globalna'\n",
    "def funkcja():\n",
    "    print(zmienna_globalna)\n",
    "funkcja()\n",
    "print(zmienna_globalna)"
   ]
  },
  {
   "cell_type": "code",
   "execution_count": 47,
   "id": "e2308e6f-11fd-4db3-a7ce-0e603d07d69b",
   "metadata": {},
   "outputs": [
    {
     "name": "stdout",
     "output_type": "stream",
     "text": [
      "30\n",
      "50\n"
     ]
    }
   ],
   "source": [
    "# Zasięg globalny.\n",
    "zmienna_globalna = 10\n",
    "def funkcja():\n",
    "    # Jeśli chcemy zmodyfikować zmienną globalną wewnątrz funkcji, możemy to zrobić, używając słowa kluczowego global\n",
    "    global zmienna_globalna \n",
    "    zmienna_globalna += 20\n",
    "funkcja()\n",
    "print(zmienna_globalna) \n",
    "funkcja()\n",
    "print(zmienna_globalna) "
   ]
  },
  {
   "cell_type": "code",
   "execution_count": 48,
   "id": "c3b5c9d3-9d33-45a6-af7c-6743d06e2cc1",
   "metadata": {},
   "outputs": [
    {
     "name": "stdout",
     "output_type": "stream",
     "text": [
      "Wewnątrz wewnętrznej funkcji: 11\n",
      "Po wywołaniu wewnętrznej funkcji: 11\n"
     ]
    }
   ],
   "source": [
    "# Zasięg nie lokalny w języku Python dotyczy przestrzeni nazw, w której zmienne są dostępne wewnątrz funkcji, \n",
    "# ale nie są zmiennymi lokalnymi ani globalnymi. \n",
    "# Zmienne w zasięgu nie lokalnym mogą być dostępne na poziomie zagnieżdżonych funkcji lub metod wewnątrz klasy.\n",
    "\n",
    "def zewnetrzna_funkcja():\n",
    "    zmienna_zewnetrzna = 10\n",
    "    def wewnetrzna_funkcja():\n",
    "        # Aby zdefiniować zmienną jako nie lokalną w funkcji, używamy słowa kluczowego nonlocal\n",
    "        nonlocal zmienna_zewnetrzna\n",
    "        zmienna_zewnetrzna += 1\n",
    "        print(\"Wewnątrz wewnętrznej funkcji:\", zmienna_zewnetrzna)\n",
    "    wewnetrzna_funkcja()\n",
    "    print(\"Po wywołaniu wewnętrznej funkcji:\", zmienna_zewnetrzna)\n",
    "zewnetrzna_funkcja()"
   ]
  },
  {
   "cell_type": "markdown",
   "id": "311d6dfb-eccf-496c-aea0-eba0aab94045",
   "metadata": {},
   "source": [
    "--------------------------------------------------------------------------------------------------------------------------\n",
    "## 13. Wyrażenie lambda."
   ]
  },
  {
   "cell_type": "code",
   "execution_count": null,
   "id": "3ca93991-0e18-42a0-bd97-65407c0662b3",
   "metadata": {},
   "outputs": [],
   "source": [
    "# Wyrażenie lambda w języku Python umożliwia definiowanie małych anonimowych funkcji. \n",
    "# Są one używane w miejscach, gdzie potrzebna jest funkcja jednolinijkowa, którą można zdefiniować bez konieczności \n",
    "# używania pełnej definicji funkcji za pomocą słowa kluczowego def.\n",
    "# lambda arguments: expression"
   ]
  },
  {
   "cell_type": "code",
   "execution_count": 50,
   "id": "3d0bf88b-d901-4496-a547-ca5d2da3e387",
   "metadata": {},
   "outputs": [
    {
     "name": "stdout",
     "output_type": "stream",
     "text": [
      "Hello, world!\n"
     ]
    }
   ],
   "source": [
    "x = lambda: \"Hello, world!\"\n",
    "print(x()) "
   ]
  },
  {
   "cell_type": "code",
   "execution_count": 51,
   "id": "0e58b79f-8718-4d0f-b08b-2ab1a55c720d",
   "metadata": {},
   "outputs": [
    {
     "name": "stdout",
     "output_type": "stream",
     "text": [
      "6\n"
     ]
    }
   ],
   "source": [
    "x = lambda a: a * 2\n",
    "print(x(3)) "
   ]
  },
  {
   "cell_type": "code",
   "execution_count": 52,
   "id": "757e7dc2-eb14-46cb-a80c-43cd87b228b9",
   "metadata": {},
   "outputs": [
    {
     "name": "stdout",
     "output_type": "stream",
     "text": [
      "6\n"
     ]
    }
   ],
   "source": [
    "x = lambda a, b, c: a + b + c\n",
    "print(x(1, 2, 3))"
   ]
  },
  {
   "cell_type": "code",
   "execution_count": 53,
   "id": "58c177c5-90f5-4f0e-971a-6dcaa9afb5cf",
   "metadata": {},
   "outputs": [
    {
     "name": "stdout",
     "output_type": "stream",
     "text": [
      "6\n",
      "36\n"
     ]
    }
   ],
   "source": [
    "ret = lambda x=0, y=0: x*y\n",
    "print(ret(2,3))\n",
    "print(ret(12,3))"
   ]
  },
  {
   "cell_type": "markdown",
   "id": "eb3ba6cf-1254-4131-a952-767e432e1d7d",
   "metadata": {},
   "source": [
    "--------------------------------------------------------------------------------------------------------------------------\n",
    "## 14. Wyjątki."
   ]
  },
  {
   "cell_type": "code",
   "execution_count": null,
   "id": "054ada46-75dc-4dc8-b0c6-648171b0b59e",
   "metadata": {},
   "outputs": [],
   "source": [
    "# Instrukcja try w języku Python służy do obsługi wyjątków. Pozwala ona na umieszczenie bloku kodu, \n",
    "# który może generować wyjątki, wewnątrz bloku try, a następnie zdefiniowanie bloków kodu, które zostaną wykonane w przypadku, \n",
    "# gdy wyjątek wystąpi lub nie wystąpi."
   ]
  },
  {
   "cell_type": "raw",
   "id": "7f84370b-d512-4f3e-82d6-c3d0e7f91ae7",
   "metadata": {},
   "source": [
    "try:\n",
    "    # Blok kodu, który może generować wyjątki\n",
    "    # ...\n",
    "except ExceptionType1 as variable1:\n",
    "    # Obsługa wyjątku typu ExceptionType1\n",
    "    # ...\n",
    "except ExceptionType2 as variable2:\n",
    "    # Obsługa wyjątku typu ExceptionType2\n",
    "    # ...\n",
    "else:\n",
    "    # Blok kodu, który zostanie wykonany, jeśli żaden wyjątek nie wystąpi\n",
    "    # ...\n",
    "finally:\n",
    "    # Blok kodu, który zostanie wykonany zawsze, niezależnie od tego, czy wyjątek wystąpił czy nie\n",
    "    # ..."
   ]
  },
  {
   "cell_type": "code",
   "execution_count": 56,
   "id": "afa5a3d2-aef3-4042-a97f-70e8930b4589",
   "metadata": {},
   "outputs": [
    {
     "name": "stdout",
     "output_type": "stream",
     "text": [
      "Dzielenie przez zero!\n",
      "Zawsze wykonywane, niezależnie od tego, czy wystąpił wyjątek czy nie.\n"
     ]
    }
   ],
   "source": [
    "try:\n",
    "    result = 10 / 0\n",
    "except ZeroDivisionError as e:\n",
    "    print(\"Dzielenie przez zero!\")\n",
    "else:\n",
    "    print(\"Wynik:\", result)\n",
    "finally:\n",
    "    print(\"Zawsze wykonywane, niezależnie od tego, czy wystąpił wyjątek czy nie.\")"
   ]
  },
  {
   "cell_type": "markdown",
   "id": "92efc9d8-831b-4907-871b-635989d0849f",
   "metadata": {},
   "source": [
    "Wyjątki:\n",
    "1. Exception: Jest to podstawowy typ wyjątku, z którego dziedziczą wszystkie inne wyjątki. Może być używany do przechwytywania dowolnego wyjątku.\n",
    "2. StopIteration: Występuje, gdy metoda next() iteratora nie ma więcej danych do zwrócenia.\n",
    "3. SystemExit: Występuje, gdy interpreter Pythona jest zatrzymywany przez wywołanie funkcji sys.exit().\n",
    "4. KeyboardInterrupt: Występuje, gdy użytkownik naciśnie klawisze Ctrl+C, aby przerwać działanie programu.\n",
    "5. GeneratorExit: Występuje, gdy generator jest zamykany.\n",
    "6. ArithmeticError: Jest to bazowa klasa dla wyjątków arytmetycznych.\n",
    "7. OverflowError: Występuje, gdy wynik operacji arytmetycznej jest zbyt duży, aby zostać reprezentowanym.\n",
    "8. ZeroDivisionError: Występuje, gdy próbujemy podzielić przez zero.\n",
    "9. FloatingPointError: Występuje, gdy błąd wystąpi podczas operacji na liczbach zmiennoprzecinkowych.\n",
    "10. AssertionError: Występuje, gdy wyrażenie asercji nie jest spełnione.\n",
    "11. AttributeError: Występuje, gdy obiekt nie ma atrybutu o podanej nazwie.\n",
    "12. EOFError: Występuje, gdy funkcja input() nie otrzymuje danych do przetworzenia (np. podczas naciśnięcia Ctrl+D na konsoli).\n",
    "13. FileNotFoundError: Występuje, gdy plik, który próbujemy otworzyć, nie istnieje.\n",
    "14. ImportError: Występuje, gdy moduł nie może być zaimportowany.\n",
    "15. IndexError: Występuje, gdy odwołujemy się do indeksu spoza zakresu sekwencji.\n",
    "16. KeyError: Występuje, gdy klucz nie istnieje w słowniku.\n",
    "17. MemoryError: Występuje, gdy brakuje pamięci.\n",
    "18. NameError: Występuje, gdy odwołujemy się do niezdefiniowanej nazwy.\n",
    "19. NotImplementedError: Występuje, gdy metoda nie została zaimplementowana.\n",
    "20. OSError: Jest to bazowa klasa dla wyjątków związanych z systemem operacyjnym.\n",
    "21. IndentationError: Jest wyjątkiem zgłaszanym, gdy w kodzie źródłowym występują błędy związane z wcięciami.\t  \n",
    "22. LookupError: Jest ogólnym wyjątkiem zgłaszanym, gdy nie można znaleźć elementu w kolekcji, takiej jak lista, krotka, zbiór lub słownik.\n",
    "23. ReferenceError\n",
    "24. RuntimeError\n",
    "25. SyntaxError\n",
    "26. TabError\n",
    "27. SystemError\n",
    "28. TypeError\n",
    "29. UnboundLocalError\n",
    "30. UnicodeError\n",
    "31. UnicodeEncodeError\n",
    "32. UnicodeDecodeError\n",
    "33. UnicodeTranslateError\n",
    "34. ValueError"
   ]
  },
  {
   "cell_type": "code",
   "execution_count": null,
   "id": "6efc8481-2191-4bee-b4d4-3dbd1fe3665c",
   "metadata": {},
   "outputs": [],
   "source": []
  },
  {
   "cell_type": "code",
   "execution_count": null,
   "id": "d8867bab-073f-456e-ba3c-9b078f4ced0f",
   "metadata": {},
   "outputs": [],
   "source": []
  },
  {
   "cell_type": "code",
   "execution_count": null,
   "id": "19a5d832-9340-4564-817c-cd7f220e58d5",
   "metadata": {},
   "outputs": [],
   "source": []
  },
  {
   "cell_type": "markdown",
   "id": "bcf34184-9ef8-4392-863c-b942b687bf80",
   "metadata": {},
   "source": [
    "--------------------------------------------------------------------------------------------------------------------------\n",
    "## 15. List, Set, Dict Comprehensions."
   ]
  },
  {
   "cell_type": "code",
   "execution_count": null,
   "id": "b071c3cc-c23d-4cfb-8fff-2f771e1a8493",
   "metadata": {},
   "outputs": [],
   "source": []
  },
  {
   "cell_type": "code",
   "execution_count": null,
   "id": "fc087d9f-df15-4ace-ab17-0fed0f0e7f81",
   "metadata": {},
   "outputs": [],
   "source": []
  },
  {
   "cell_type": "code",
   "execution_count": null,
   "id": "ecc9dacb-d591-42fa-9741-6a36ee20a377",
   "metadata": {},
   "outputs": [],
   "source": []
  },
  {
   "cell_type": "markdown",
   "id": "c46e6351-7367-48f8-8ba8-a940bfa5d07b",
   "metadata": {},
   "source": [
    "--------------------------------------------------------------------------------------------------------------------------\n",
    "## 16. Funkcje wbudowane."
   ]
  },
  {
   "cell_type": "code",
   "execution_count": null,
   "id": "b52346a3-0b06-4f97-9252-76551afcf549",
   "metadata": {},
   "outputs": [],
   "source": []
  },
  {
   "cell_type": "code",
   "execution_count": null,
   "id": "b7277713-3656-4330-923d-2425474ca81e",
   "metadata": {},
   "outputs": [],
   "source": []
  },
  {
   "cell_type": "code",
   "execution_count": null,
   "id": "2e98a8b2-429f-48d3-a145-19a95a80346d",
   "metadata": {},
   "outputs": [],
   "source": []
  }
 ],
 "metadata": {
  "kernelspec": {
   "display_name": "Torch Learn",
   "language": "python",
   "name": "python3"
  },
  "language_info": {
   "codemirror_mode": {
    "name": "ipython",
    "version": 3
   },
   "file_extension": ".py",
   "mimetype": "text/x-python",
   "name": "python",
   "nbconvert_exporter": "python",
   "pygments_lexer": "ipython3",
   "version": "3.12.1"
  },
  "widgets": {
   "application/vnd.jupyter.widget-state+json": {
    "state": {},
    "version_major": 2,
    "version_minor": 0
   }
  }
 },
 "nbformat": 4,
 "nbformat_minor": 5
}
