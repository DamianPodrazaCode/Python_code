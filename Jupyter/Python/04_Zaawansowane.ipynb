{
 "cells": [
  {
   "cell_type": "markdown",
   "id": "9dcfe1ac-4bdf-4e16-9df5-df713da7eae1",
   "metadata": {},
   "source": [
    "--------------------------------------------------------------------------------------------------------------------------\n",
    "## 20. Generatory"
   ]
  },
  {
   "cell_type": "code",
   "execution_count": 1,
   "id": "2539cfc1-65fa-4cdc-93e8-53df39a1af1e",
   "metadata": {},
   "outputs": [],
   "source": [
    "# Generatory w Pythonie są funkcjami, które generują sekwencje danych na żądanie. \n",
    "# Działają one jak iterator, umożliwiając przeglądanie elementów sekwencji jednocześnie zajmując minimalną ilość pamięci, \n",
    "# ponieważ generują wartości na bieżąco, gdy są potrzebne, zamiast przechowywać je wszystkie jednocześnie w pamięci."
   ]
  },
  {
   "cell_type": "code",
   "execution_count": 2,
   "id": "eedee9dc-e55c-4b8b-a76e-dedc11b51c23",
   "metadata": {},
   "outputs": [],
   "source": [
    "# Funkcje generatora:\n",
    "# Funkcje generatora są zwykłymi funkcjami, które zawierają instrukcje yield, które generują wartości. \n",
    "# Każde wywołanie funkcji generatora zwraca generator, który można użyć do pobrania kolejnych wartości z sekwencji."
   ]
  },
  {
   "cell_type": "code",
   "execution_count": 3,
   "id": "9a1804f5-e66e-4210-b91c-8b49fb1d0557",
   "metadata": {},
   "outputs": [
    {
     "name": "stdout",
     "output_type": "stream",
     "text": [
      "1\n",
      "2\n",
      "3\n"
     ]
    }
   ],
   "source": [
    "def my_generator():\n",
    "    yield 1\n",
    "    yield 2\n",
    "    yield 3\n",
    "\n",
    "gen = my_generator()\n",
    "print(next(gen))  # Output: 1\n",
    "print(next(gen))  # Output: 2\n",
    "print(next(gen))  # Output: 3"
   ]
  },
  {
   "cell_type": "code",
   "execution_count": 4,
   "id": "9d3c6055-e5bd-4e0f-b31c-324f8e31dbbd",
   "metadata": {},
   "outputs": [],
   "source": [
    "# Wyrażenia generatorowe:\n",
    "# Wyrażenia generatorowe są podobne do listowych lub zbiorowych wyrażeń, ale zamiast tworzyć listę lub zbiór, tworzą one generator."
   ]
  },
  {
   "cell_type": "code",
   "execution_count": 5,
   "id": "e783849e-e64c-44aa-b24e-712235c82125",
   "metadata": {},
   "outputs": [
    {
     "name": "stdout",
     "output_type": "stream",
     "text": [
      "0\n",
      "1\n",
      "4\n"
     ]
    }
   ],
   "source": [
    "gen = (x ** 2 for x in range(5))\n",
    "print(next(gen))  # Output: 0\n",
    "print(next(gen))  # Output: 1\n",
    "print(next(gen))  # Output: 4"
   ]
  },
  {
   "cell_type": "code",
   "execution_count": 6,
   "id": "f925051f-1f20-423c-83ff-87fd220c0b6c",
   "metadata": {},
   "outputs": [
    {
     "name": "stdout",
     "output_type": "stream",
     "text": [
      "0\n",
      "1\n",
      "2\n",
      "3\n"
     ]
    }
   ],
   "source": [
    "r = (x for x in range(5))\n",
    "print(next(r))\n",
    "print(next(r))\n",
    "print(next(r))\n",
    "print(next(r))\n"
   ]
  },
  {
   "cell_type": "code",
   "execution_count": 7,
   "id": "80a09dd4-7571-4ed7-a9ba-861af6f90239",
   "metadata": {},
   "outputs": [],
   "source": [
    "def myrange(n):\n",
    "    for x in range(n):\n",
    "        yield x*10"
   ]
  },
  {
   "cell_type": "code",
   "execution_count": 8,
   "id": "f682ec40-439e-4001-bb82-9d0e9272f918",
   "metadata": {},
   "outputs": [
    {
     "name": "stdout",
     "output_type": "stream",
     "text": [
      "0\n",
      "10\n",
      "20\n"
     ]
    }
   ],
   "source": [
    "gen = (x for x in myrange(3))        \n",
    "print(next(gen))\n",
    "print(next(gen))\n",
    "print(next(gen))"
   ]
  },
  {
   "cell_type": "code",
   "execution_count": 9,
   "id": "4734355a-2aea-4585-bd02-6728e8668092",
   "metadata": {},
   "outputs": [
    {
     "name": "stdout",
     "output_type": "stream",
     "text": [
      "0\n",
      "10\n",
      "20\n"
     ]
    }
   ],
   "source": [
    "gen = iter(myrange(5))        \n",
    "print(next(gen))\n",
    "print(next(gen))\n",
    "print(next(gen))"
   ]
  },
  {
   "cell_type": "code",
   "execution_count": 10,
   "id": "b6cf7040-2036-4f1c-96c8-8dac06154e64",
   "metadata": {},
   "outputs": [
    {
     "name": "stdout",
     "output_type": "stream",
     "text": [
      "0\n",
      "10\n",
      "20\n",
      "30\n",
      "40\n"
     ]
    }
   ],
   "source": [
    "for x in myrange(5):\n",
    "    print(x)"
   ]
  },
  {
   "cell_type": "code",
   "execution_count": 11,
   "id": "a0458472-9be3-45bb-b75d-d4c272cac0fa",
   "metadata": {},
   "outputs": [
    {
     "name": "stdout",
     "output_type": "stream",
     "text": [
      "10\n",
      "20\n",
      "30\n"
     ]
    }
   ],
   "source": [
    "# funkcja generatora który się nie kończy\n",
    "def dziesieci():\n",
    "    i=1\n",
    "    while True:\n",
    "        yield i*10\n",
    "        i+=1\n",
    "\n",
    "dz = dziesieci()\n",
    "print(dz.__next__())\n",
    "print(dz.__next__())\n",
    "print(dz.__next__())"
   ]
  },
  {
   "cell_type": "markdown",
   "id": "7391f666-328e-40b9-8e45-cf7a9f800e06",
   "metadata": {},
   "source": [
    "--------------------------------------------------------------------------------------------------------------------------\n",
    "## 21. Moduły i pakiety."
   ]
  },
  {
   "cell_type": "code",
   "execution_count": 12,
   "id": "b7d41113-9593-4bb3-b2a6-9e20cea4419c",
   "metadata": {},
   "outputs": [
    {
     "name": "stdout",
     "output_type": "stream",
     "text": [
      "hello world!\n"
     ]
    }
   ],
   "source": [
    "# Moduły to po prostu pliki zawierające funkcje. Stosuje się je po to by stworzyć sobie biblioteki\n",
    "# narzędzi i odseparować ich kod od kodu właściwego programu. Moduły można też dystrybuować by\n",
    "# wykorzystywać je w innych aplikacjach.\n",
    "    \n",
    "import paczka  # import pliku paczka.py\n",
    "paczka.hello() # w pliku paczka.py jest funkcja hello()"
   ]
  },
  {
   "cell_type": "code",
   "execution_count": 13,
   "id": "e6c7acc5-898a-4149-8bc4-468a236a30df",
   "metadata": {},
   "outputs": [
    {
     "name": "stdout",
     "output_type": "stream",
     "text": [
      "hello world!\n"
     ]
    }
   ],
   "source": [
    "import paczka as p # tosamo co wyżej tylko zamiast pisać wszędzie paczka bedzie w skrócie p\n",
    "p.hello()"
   ]
  },
  {
   "cell_type": "code",
   "execution_count": 14,
   "id": "8f7e01d2-32e9-4485-a302-caa571eca561",
   "metadata": {},
   "outputs": [
    {
     "name": "stdout",
     "output_type": "stream",
     "text": [
      "NO!\n"
     ]
    },
    {
     "data": {
      "text/plain": [
       "45"
      ]
     },
     "execution_count": 14,
     "metadata": {},
     "output_type": "execute_result"
    }
   ],
   "source": [
    "from paczka2 import add, sayno # zaimportowanie wyszczególnionych funkcji \n",
    "sayno()\n",
    "add(12, 33)"
   ]
  },
  {
   "cell_type": "code",
   "execution_count": 15,
   "id": "4e7f4358-848b-4e2a-9cf8-d95b3ddeed54",
   "metadata": {},
   "outputs": [],
   "source": [
    "# Pakiet to po prostu folder zawierający moduły bądź inne pakiety. Aby było wiadomo że dany folder jest\n",
    "# pakietem Pythona powinien on zawierać plik \"__init__.py\". Plik ten jest uruchamiany automatycznie\n",
    "# gdy importujesz coś z danego pakietu. Jesli go jednak nie utworzysz, nic złego się nie stanie."
   ]
  },
  {
   "cell_type": "code",
   "execution_count": 16,
   "id": "f5c3142e-0e0e-4396-b813-6447e9688c41",
   "metadata": {},
   "outputs": [
    {
     "name": "stdout",
     "output_type": "stream",
     "text": [
      "hello world! z pakietu\n"
     ]
    }
   ],
   "source": [
    "import pakiety.paczka as pm\n",
    "pm.hello()"
   ]
  },
  {
   "cell_type": "code",
   "execution_count": null,
   "id": "507254e0-a09b-4db5-bbcb-cea225314946",
   "metadata": {},
   "outputs": [],
   "source": []
  }
 ],
 "metadata": {
  "kernelspec": {
   "display_name": "Python 3 (ipykernel)",
   "language": "python",
   "name": "python3"
  },
  "language_info": {
   "codemirror_mode": {
    "name": "ipython",
    "version": 3
   },
   "file_extension": ".py",
   "mimetype": "text/x-python",
   "name": "python",
   "nbconvert_exporter": "python",
   "pygments_lexer": "ipython3",
   "version": "3.11.9"
  },
  "widgets": {
   "application/vnd.jupyter.widget-state+json": {
    "state": {},
    "version_major": 2,
    "version_minor": 0
   }
  }
 },
 "nbformat": 4,
 "nbformat_minor": 5
}
