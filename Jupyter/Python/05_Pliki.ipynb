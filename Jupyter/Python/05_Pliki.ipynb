{
 "cells": [
  {
   "cell_type": "code",
   "execution_count": 1,
   "id": "9c4fb976-3623-4934-b1ce-2370dfc27b1c",
   "metadata": {},
   "outputs": [
    {
     "name": "stdout",
     "output_type": "stream",
     "text": [
      "lista argumentów  ['D:\\\\__EnvPyTorch\\\\Lib\\\\site-packages\\\\ipykernel_launcher.py', '-f', 'C:\\\\Users\\\\ZoMbiE\\\\AppData\\\\Roaming\\\\jupyter\\\\runtime\\\\kernel-de9bab2e-45d2-42f0-8671-72bfc7448a7e.json']\n",
      "pierwszy argument  D:\\__EnvPyTorch\\Lib\\site-packages\\ipykernel_launcher.py\n"
     ]
    }
   ],
   "source": [
    "# Ścierzki do katalogu kodu\n",
    "import os, sys\n",
    "# print('ścieżka do pliku w tego kodu ', __file__) # ścieżka do pliku w tego kodu, jak jest plikie *.py a nie w notebook\n",
    "print('lista argumentów ', sys.argv) # lista argumentów przy uruchamianiu programu\n",
    "sFile = os.path.abspath(sys.argv[0]) # ścieżka do pliku w tego kodu, bo pierwszy argument to zawsze ścieżka do pliku uruchmianego\n",
    "print('pierwszy argument ', sFile)"
   ]
  },
  {
   "cell_type": "code",
   "execution_count": 2,
   "id": "7848fee9-0bb6-4527-92d9-610fa0f2612d",
   "metadata": {},
   "outputs": [
    {
     "name": "stdout",
     "output_type": "stream",
     "text": [
      "cp65001\n"
     ]
    }
   ],
   "source": [
    "# domyślne kodowanie\n",
    "import locale\n",
    "print(locale.getpreferredencoding())"
   ]
  },
  {
   "cell_type": "code",
   "execution_count": 3,
   "id": "436d4300-273c-4259-96dd-1a617313ce68",
   "metadata": {},
   "outputs": [
    {
     "name": "stdout",
     "output_type": "stream",
     "text": [
      "54\n"
     ]
    }
   ],
   "source": [
    "# wielkość pliku\n",
    "import os\n",
    "ile = os.path.getsize('dane.txt')\n",
    "print(ile)"
   ]
  },
  {
   "cell_type": "code",
   "execution_count": 4,
   "id": "bfe2fecd-3bf6-4864-beac-70bb5061b56d",
   "metadata": {},
   "outputs": [
    {
     "name": "stdout",
     "output_type": "stream",
     "text": [
      "liczba wierszy w pliku=6\n"
     ]
    }
   ],
   "source": [
    "# ilość wierszy\n",
    "plik = open('dane.txt', encoding='utf-8')\n",
    "linie = plik.readlines()\n",
    "print('liczba wierszy w pliku={}'.format(len(linie)))\n",
    "plik.close()"
   ]
  },
  {
   "cell_type": "code",
   "execution_count": 5,
   "id": "99b80e05-04ec-4b88-ba25-4bc015f306f9",
   "metadata": {},
   "outputs": [
    {
     "name": "stdout",
     "output_type": "stream",
     "text": [
      "liczba wierszy w pliku=6\n"
     ]
    }
   ],
   "source": [
    "# ilość wierszy druga wersja\n",
    "plik = open('dane.txt', encoding='utf-8')\n",
    "count = 0\n",
    "for linie in plik : # domyślnie w czasie iteracji do linie są wrzucane linie pliku\n",
    "    count += 1\n",
    "    # print(line) # wyświetlanie linia po linii\n",
    "print('liczba wierszy w pliku={}'.format(count))\n",
    "plik.close()"
   ]
  },
  {
   "cell_type": "code",
   "execution_count": 6,
   "id": "78d1ad1e-c970-4888-8b98-446dfbeeef7a",
   "metadata": {},
   "outputs": [
    {
     "name": "stdout",
     "output_type": "stream",
     "text": [
      "0 54\n"
     ]
    }
   ],
   "source": [
    "#pozycja odczytu znaku, rozmiar pliku\n",
    "sPlik = os.path.abspath('dane.txt')\n",
    "plik = open(sPlik, encoding='utf-8')\n",
    "print(plik.tell(), os.stat(sPlik).st_size)\n",
    "plik.close()"
   ]
  },
  {
   "cell_type": "markdown",
   "id": "a68d2443-94d6-469e-81e8-83df82df6671",
   "metadata": {},
   "source": [
    "--------------------------------------------------------------------------------------------------------------------------\n",
    "## Pliki tekstowe"
   ]
  },
  {
   "cell_type": "code",
   "execution_count": 7,
   "id": "71931ea9-f449-4be8-a706-8f37bf171e0e",
   "metadata": {},
   "outputs": [
    {
     "name": "stdout",
     "output_type": "stream",
     "text": [
      "D:\\__GitHub\\python_basic\\Jupyter\\Python\\dane.txt\n"
     ]
    }
   ],
   "source": [
    "# Otwarcie\n",
    "import os, sys\n",
    "\n",
    "# sprawdzenie czy plik istnieje\n",
    "fileName = 'dane.txt'\n",
    "if not os.path.exists(fileName) :\n",
    "    print('file not exist')\n",
    "    sys.exit(0)\n",
    "else : \n",
    "    sFile = os.path.abspath(fileName) # \n",
    "    print(sFile)"
   ]
  },
  {
   "cell_type": "code",
   "execution_count": 8,
   "id": "fecccd20-4f55-4625-8fae-becf45ddc8e1",
   "metadata": {},
   "outputs": [
    {
     "name": "stdout",
     "output_type": "stream",
     "text": [
      "<_io.TextIOWrapper name='dane.txt' mode='r' encoding='cp65001'>\n"
     ]
    }
   ],
   "source": [
    "plik = open('dane.txt', 'r') # otwarcie pliku\n",
    "print(plik) # nazwa, tryb otwarcia pliku, kodowanie \n",
    "plik.close() # zamknięcie pliku"
   ]
  },
  {
   "cell_type": "code",
   "execution_count": 9,
   "id": "a94a5102-693c-4250-9d4c-4a9a8867af74",
   "metadata": {},
   "outputs": [
    {
     "name": "stdout",
     "output_type": "stream",
     "text": [
      "<_io.TextIOWrapper name='dane_ąć.txt' mode='r' encoding='utf-8'>\n"
     ]
    }
   ],
   "source": [
    "plik = open('dane_ąć.txt', 'r', encoding='utf-8') # otwarcie pliku z ustawieniem kodowania\n",
    "print(plik) # nazwa, tryb otwarcia pliku, kodowanie \n",
    "plik.close() # zamknięcie pliku"
   ]
  },
  {
   "cell_type": "code",
   "execution_count": 10,
   "id": "35d3967a-11bf-40b7-b065-6d79fe7496a8",
   "metadata": {},
   "outputs": [],
   "source": [
    "# read()\n",
    "# Funkcja read() jest często używana do odczytywania danych z plików tekstowych lub binarnych. \n",
    "# Służy do odczytywania określonej liczby bajtów z otwartego pliku lub całego jego zawartości, jeśli nie podano argumentu."
   ]
  },
  {
   "cell_type": "code",
   "execution_count": 11,
   "id": "2e648a29-e742-4a91-8730-e2d6baf50060",
   "metadata": {},
   "outputs": [
    {
     "name": "stdout",
     "output_type": "stream",
     "text": [
      "linia 0\n",
      "linia 1\n",
      "linia 2\n",
      "linia 3\n",
      "linia 4\n",
      "śćźąęóż\n"
     ]
    }
   ],
   "source": [
    "# cały plik\n",
    "with open(\"dane.txt\", \"r\") as file:\n",
    "    data = file.read()\n",
    "    file.close() \n",
    "    print(data)"
   ]
  },
  {
   "cell_type": "code",
   "execution_count": 12,
   "id": "80b8ed1e-19c7-4ca6-8c08-c77cb599e997",
   "metadata": {},
   "outputs": [
    {
     "name": "stdout",
     "output_type": "stream",
     "text": [
      "linia 0\n",
      "li\n"
     ]
    }
   ],
   "source": [
    "# określona liczba danych\n",
    "with open(\"dane.txt\", \"r\") as file:\n",
    "    data = file.read(10)  # Odczytaj 10 bajtów\n",
    "    file.close() \n",
    "    print(data)"
   ]
  },
  {
   "cell_type": "code",
   "execution_count": 13,
   "id": "b923ed50-a72e-4d7d-b07b-52be4548d771",
   "metadata": {},
   "outputs": [
    {
     "name": "stdout",
     "output_type": "stream",
     "text": [
      "linia 0\n",
      "li\n",
      "nia 1\n",
      "lini\n",
      "a 2\n",
      "linia \n",
      "3\n",
      "linia 4\n",
      "\n",
      "śćźąęóż\n"
     ]
    }
   ],
   "source": [
    "# Iteracyjne odczytywanie pliku tekstowego\n",
    "with open(\"dane.txt\", \"r\") as file:\n",
    "    while True:\n",
    "        data = file.read(10)  # Odczytaj kolejne 10 bajtów\n",
    "        if not data:\n",
    "            break\n",
    "        print(data)\n",
    "    file.close()"
   ]
  },
  {
   "cell_type": "code",
   "execution_count": 14,
   "id": "2f41e77d-c4fb-4f93-9636-bba6efd8b584",
   "metadata": {},
   "outputs": [],
   "source": [
    "# readlines()\n",
    "# Funkcja readlines() służy do odczytywania wszystkich wierszy z otwartego pliku tekstowego i zwraca je jako listę wierszy. \n",
    "# Każdy wiersz pliku jest reprezentowany przez pojedynczy ciąg znaków w liście."
   ]
  },
  {
   "cell_type": "code",
   "execution_count": 15,
   "id": "d3355592-6ebf-4e02-8958-05a8aa34ab2f",
   "metadata": {},
   "outputs": [
    {
     "name": "stdout",
     "output_type": "stream",
     "text": [
      "lines ->  <class 'list'>\n",
      "linia 0\n",
      "linia 1\n",
      "linia 2\n",
      "linia 3\n",
      "linia 4\n",
      "śćźąęóż\n"
     ]
    }
   ],
   "source": [
    "with open(\"dane.txt\", \"r\") as file:\n",
    "    lines = file.readlines()\n",
    "    print('lines -> ', type(lines))\n",
    "    for line in lines:\n",
    "        print(line.strip())  # Usuwa znaki nowej linii z każdego wiersza\n",
    "    file.close()"
   ]
  },
  {
   "cell_type": "code",
   "execution_count": 16,
   "id": "b67c5bef-9817-4b5a-bd6c-ee6c6c9f4fd2",
   "metadata": {},
   "outputs": [],
   "source": [
    "# readline()\n",
    "# Funkcja readline() jest używana do odczytywania pojedynczego wiersza z otwartego pliku tekstowego za każdym razem, gdy jest wywoływana. \n",
    "# Każde wywołanie readline() przesuwa wskaźnik pliku na następny wiersz, więc po każdym wywołaniu następujące wywołania \n",
    "# będą czytać kolejne wiersze."
   ]
  },
  {
   "cell_type": "code",
   "execution_count": 17,
   "id": "b5e16ddf-6a29-4763-8aad-e417b6c1c056",
   "metadata": {},
   "outputs": [
    {
     "name": "stdout",
     "output_type": "stream",
     "text": [
      "linia 0\n",
      "\n",
      "linia 1\n",
      "\n"
     ]
    }
   ],
   "source": [
    "with open(\"dane.txt\", \"r\") as file:\n",
    "    line1 = file.readline()\n",
    "    print(line1)\n",
    "    line2 = file.readline()\n",
    "    print(line2)\n",
    "    file.close()"
   ]
  },
  {
   "cell_type": "code",
   "execution_count": 18,
   "id": "22fe40a7-677d-48e2-9f49-d9670df6b65a",
   "metadata": {},
   "outputs": [],
   "source": [
    "# seek()\n",
    "# Funkcja seek() jest używana do zmiany położenia wskaźnika pliku w otwartym pliku. \n",
    "# Pozwala to na przemieszczanie się po pliku i odczytywanie lub zapisywanie danych w różnych miejscach.\n",
    "# file.seek(offset, whence)\n",
    "# offset: Liczba całkowita określająca liczbę bajtów, o którą należy przesunąć wskaźnik pliku. Jest to wymagany argument.\n",
    "# whence (opcjonalny): Określa punkt odniesienia dla przesunięcia wskaźnika pliku. \n",
    "# Może być jednym z trzech wartości: 0 (początek pliku), 1 (aktualna pozycja) lub 2 (koniec pliku). Domyślnie jest to 0\n",
    "\n",
    "# na początek\n",
    "# with open(\"plik.txt\", \"r\") as file:\n",
    "#     file.seek(0)\n",
    "\n",
    "# Przesunięcie wskaźnika pliku o 10 bajtów od aktualnej pozycji\n",
    "# with open(\"plik.txt\", \"r\") as file:\n",
    "#     file.seek(10, 1)\n",
    "\n",
    "# Przesunięcie wskaźnika pliku na koniec pliku, a następnie cofnięcie się o 100 bajtów\n",
    "# with open(\"plik.txt\", \"r\") as file:\n",
    "#     file.seek(0, 2)  # Przesunięcie na koniec pliku\n",
    "#     file.seek(-100, 1)  # Cofnięcie o 100 bajtów od aktualnej pozycji"
   ]
  },
  {
   "cell_type": "code",
   "execution_count": 19,
   "id": "6e46540f-3913-4eb9-b62b-b1f6bb76230c",
   "metadata": {},
   "outputs": [
    {
     "name": "stdout",
     "output_type": "stream",
     "text": [
      "<_io.TextIOWrapper name='dane.txt' mode='r' encoding='UTF-8'>\n"
     ]
    }
   ],
   "source": [
    "# zabezpieczenie try - exept\n",
    "fileName = 'dane.txt'\n",
    "sPlik = os.path.abspath(fileName) \n",
    "\n",
    "try :\n",
    "    plik = open(fileName, 'r', encoding='UTF-8') \n",
    "    print(plik) \n",
    "except :\n",
    "    print('Nie można otworzyć:', sPlik)\n",
    "    sys.exit(0)\n",
    "\n",
    "plik.close()"
   ]
  },
  {
   "cell_type": "code",
   "execution_count": 20,
   "id": "b723d373-459a-4c01-8ec5-89e2b1e2ecde",
   "metadata": {},
   "outputs": [
    {
     "name": "stdout",
     "output_type": "stream",
     "text": [
      "linia 0\n",
      "linia 1\n",
      "linia 2\n",
      "linia 3\n",
      "linia 4\n"
     ]
    }
   ],
   "source": [
    "# czytanie txt z filtrowaniem wybieranie\n",
    "with open(\"dane.txt\", \"r\") as plik:\n",
    "    plik.seek(0) # ustawienie pozycji w pliku na początek\n",
    "    for linie in plik : # domyślnie w czasie iteracji do linie są wrzucane linie pliku\n",
    "        if linie.startswith('linia') : # sprawdzenie \n",
    "            print(linie.rstrip()) # wyświetlenire lini z usunięciem końca linii\n",
    "    plik.close()"
   ]
  },
  {
   "cell_type": "code",
   "execution_count": 21,
   "id": "417e55a3-9af0-44df-a2e8-390a0ab35686",
   "metadata": {},
   "outputs": [
    {
     "name": "stdout",
     "output_type": "stream",
     "text": [
      "linia 0\n",
      "linia 3\n"
     ]
    }
   ],
   "source": [
    "# czytanie txt z filtrowaniem jeżeli są\n",
    "with open(\"dane.txt\", \"r\") as plik:\n",
    "    plik.seek(0) # ustawienie pozycji w pliku na początek\n",
    "    for linie in plik: # domyślnie w czasie iteracji do linie są wrzucane linie pliku\n",
    "        if not (linie.startswith('linia 0') or linie.startswith('linia 3')) : # potwierdzenie\n",
    "        # if (linie.startswith('linia 0') or linie.startswith('linia 3')) : # pominięcie\n",
    "            continue\n",
    "        else:\n",
    "            print(linie.rstrip()) # wyświetlenire lini z usunięciem końca linii\n",
    "    plik.close()"
   ]
  },
  {
   "cell_type": "code",
   "execution_count": 22,
   "id": "48869d6f-25b5-41e0-8897-576b7512a8ff",
   "metadata": {},
   "outputs": [],
   "source": [
    "# Zapis\n",
    "# plik = open('nowy.txt', encoding='utf-8', mode='w') # zapis z nadpisem, jak niema o podanej nazwie to stworzy\n",
    "# plik = open('nowy.txt', encoding='utf-8', mode='a') # zapis z dopisaniem, jak niema o podanej nazwie to stworzy\n",
    "# plik = open('nowy.txt', encoding='utf-8', mode='r+') # zapis i odczyt pliku"
   ]
  },
  {
   "cell_type": "code",
   "execution_count": 23,
   "id": "078d8fdd-0b0b-429e-86b9-39187e420982",
   "metadata": {},
   "outputs": [],
   "source": [
    "# write()\n",
    "# Funkcja write() służy do zapisywania danych do otwartego pliku tekstowego lub binarnego w Pythonie. \n",
    "# Pozwala na dodawanie zawartości do pliku lub tworzenie nowego pliku i zapisywanie danych do niego."
   ]
  },
  {
   "cell_type": "code",
   "execution_count": 24,
   "id": "51d5f28a-687a-481e-ac01-2614d1f62638",
   "metadata": {},
   "outputs": [],
   "source": [
    "# Zapisanie ciągu znaków do pliku tekstowego\n",
    "with open(\"plik.txt\", \"w\") as file:\n",
    "    file.write(\"To jest przykładowy tekst.\")\n",
    "    file.close()"
   ]
  },
  {
   "cell_type": "code",
   "execution_count": 25,
   "id": "3634f608-62b0-4bb3-a048-7012cad9f6a9",
   "metadata": {},
   "outputs": [],
   "source": [
    "# Zapisanie listy linii do pliku tekstowego\n",
    "lines = [\"Linia 1\\n\", \"Linia 2\\n\", \"Linia 3\\n\"]\n",
    "with open(\"plik.txt\", \"w\") as file:\n",
    "    file.writelines(lines)\n",
    "    file.close()"
   ]
  },
  {
   "cell_type": "code",
   "execution_count": 26,
   "id": "5d379687-c2a7-440c-8259-7d93c3d2ec7e",
   "metadata": {},
   "outputs": [],
   "source": [
    "# Zapisanie danych binarnych do pliku binarnego\n",
    "data = b\"Some binary data\"\n",
    "with open(\"plik.bin\", \"wb\") as file:\n",
    "    file.write(data)\n",
    "    file.close()"
   ]
  },
  {
   "cell_type": "code",
   "execution_count": 27,
   "id": "a6fd89ae-4b8d-47fa-9ad9-bbe810a88cb6",
   "metadata": {},
   "outputs": [
    {
     "name": "stdout",
     "output_type": "stream",
     "text": [
      "<_io.TextIOWrapper name='plik.txt' mode='w' encoding='UTF-8'>\n"
     ]
    }
   ],
   "source": [
    "# zabezpieczenie try - exept\n",
    "fileName = 'plik.txt'\n",
    "sPlik = os.path.abspath(fileName) \n",
    "\n",
    "try :\n",
    "    plik = open(fileName, 'w', encoding='UTF-8') \n",
    "    print(plik) \n",
    "except :\n",
    "    print('Nie można zapisać:', sPlik)\n",
    "    sys.exit(0)\n",
    "\n",
    "line = 'ęóąśłżźćń text text text\\n' \n",
    "plik.write(line)\n",
    "plik.write(line)\n",
    "\n",
    "# plik.flush() # nie musi być jeżeli za nią jest close()\n",
    "plik.close()"
   ]
  },
  {
   "cell_type": "markdown",
   "id": "5ae0560b-5c32-418f-956d-97e90c596581",
   "metadata": {},
   "source": [
    "--------------------------------------------------------------------------------------------------------------------------\n",
    "## Pliki binarne"
   ]
  },
  {
   "cell_type": "markdown",
   "id": "0c6a9154-ba38-469c-a0a9-24e0487e1c98",
   "metadata": {},
   "source": [
    "--------------------------------------------------------------------------------------------------------------------------\n",
    "## Katalogi i system plików"
   ]
  },
  {
   "cell_type": "markdown",
   "id": "98a84ab3-4bb2-4cb2-b337-4fde1ae35bce",
   "metadata": {},
   "source": [
    "--------------------------------------------------------------------------------------------------------------------------\n",
    "## Pliki JSON"
   ]
  },
  {
   "cell_type": "code",
   "execution_count": null,
   "id": "4f03db21-81d8-40bc-b220-bf34aaed680d",
   "metadata": {},
   "outputs": [],
   "source": []
  },
  {
   "cell_type": "code",
   "execution_count": null,
   "id": "75b9d5b7-fc37-4ed0-b7ab-f068988b0d77",
   "metadata": {},
   "outputs": [],
   "source": []
  },
  {
   "cell_type": "code",
   "execution_count": null,
   "id": "6d13146d-d28d-4afd-8bcb-cb7cf9fc950d",
   "metadata": {},
   "outputs": [],
   "source": []
  },
  {
   "cell_type": "code",
   "execution_count": null,
   "id": "c95c09a0-fd65-428b-9d4c-cb4e5bc89c24",
   "metadata": {},
   "outputs": [],
   "source": []
  },
  {
   "cell_type": "code",
   "execution_count": null,
   "id": "610cdf6b-31b3-40fd-afab-9e4a215e8c7a",
   "metadata": {},
   "outputs": [],
   "source": []
  },
  {
   "cell_type": "code",
   "execution_count": null,
   "id": "cb210e63-6f4a-42be-bc60-6e62a5c1601c",
   "metadata": {},
   "outputs": [],
   "source": []
  },
  {
   "cell_type": "code",
   "execution_count": null,
   "id": "576c81ef-0efa-4204-88c1-6b42fc947e31",
   "metadata": {},
   "outputs": [],
   "source": []
  },
  {
   "cell_type": "markdown",
   "id": "80c2d472-473a-410b-b2c2-56870014b058",
   "metadata": {},
   "source": [
    "--------------------------------------------------------------------------------------------------------------------------\n",
    "## Pliki XML"
   ]
  },
  {
   "cell_type": "code",
   "execution_count": null,
   "id": "95dc7bdc-bb7b-4571-99fb-d0db0cd64aa9",
   "metadata": {},
   "outputs": [],
   "source": []
  },
  {
   "cell_type": "code",
   "execution_count": null,
   "id": "c9270db3-54dd-4952-9dbf-709ed1b29ac3",
   "metadata": {},
   "outputs": [],
   "source": []
  },
  {
   "cell_type": "code",
   "execution_count": null,
   "id": "cbf17210-36f5-46c7-a712-f686e5574c48",
   "metadata": {},
   "outputs": [],
   "source": []
  },
  {
   "cell_type": "code",
   "execution_count": null,
   "id": "62403c7a-4120-453a-a045-18675e1bce18",
   "metadata": {},
   "outputs": [],
   "source": []
  },
  {
   "cell_type": "code",
   "execution_count": null,
   "id": "8ff0d57b-daa3-4794-a447-33ab695274b7",
   "metadata": {},
   "outputs": [],
   "source": []
  },
  {
   "cell_type": "code",
   "execution_count": null,
   "id": "904f7a01-ff8e-4053-9673-2c2719940a14",
   "metadata": {},
   "outputs": [],
   "source": []
  },
  {
   "cell_type": "code",
   "execution_count": null,
   "id": "297f4212-a252-4b87-9938-4aa0c0659db2",
   "metadata": {},
   "outputs": [],
   "source": []
  },
  {
   "cell_type": "code",
   "execution_count": null,
   "id": "f2388dd6-05b1-4f86-badd-df8ac8587857",
   "metadata": {},
   "outputs": [],
   "source": []
  }
 ],
 "metadata": {
  "kernelspec": {
   "display_name": "Torch Learn",
   "language": "python",
   "name": "python3"
  },
  "language_info": {
   "codemirror_mode": {
    "name": "ipython",
    "version": 3
   },
   "file_extension": ".py",
   "mimetype": "text/x-python",
   "name": "python",
   "nbconvert_exporter": "python",
   "pygments_lexer": "ipython3",
   "version": "3.12.1"
  },
  "widgets": {
   "application/vnd.jupyter.widget-state+json": {
    "state": {},
    "version_major": 2,
    "version_minor": 0
   }
  }
 },
 "nbformat": 4,
 "nbformat_minor": 5
}
