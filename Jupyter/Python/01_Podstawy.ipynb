{
 "cells": [
  {
   "cell_type": "markdown",
   "id": "724ea447-0571-4e14-aa61-d0a7504a9091",
   "metadata": {
    "jp-MarkdownHeadingCollapsed": true
   },
   "source": [
    "## 01. Komentarze, słowa kluczowe, nazewnictwo."
   ]
  },
  {
   "cell_type": "code",
   "execution_count": 1,
   "id": "4ba07627-7c39-48fe-9fc9-d3da0125481c",
   "metadata": {},
   "outputs": [],
   "source": [
    "# Komentarz jednoliniowy.\n",
    "\n",
    "'''\n",
    "komentarz\n",
    "wielo-\n",
    "liniowy\n",
    "'''\n",
    "\n",
    "''' 35 słów kluczowych w python:\n",
    "and   del   from   None   True   as   elif   global   nonlocal   try   assert   else   if   not   while   break   except   import\n",
    "or   with   class   False   in   pass   yield   continue   finally   is   raise   async   def   for   lambda   return   await\n",
    "'''\n",
    "\n",
    "# Camel Case\n",
    "myVariableName = \"John\"\n",
    "# Pascal Case\n",
    "MyVariableName = \"John\"\n",
    "# Snake Case\n",
    "my_variable_name = \"John\""
   ]
  },
  {
   "cell_type": "markdown",
   "id": "052cf12e-712e-4af4-8e3e-b2c7be30ff31",
   "metadata": {},
   "source": [
    "--------------------------------------------------------------------------------------------------------------------------\n",
    "## 02. Zmienne."
   ]
  },
  {
   "cell_type": "code",
   "execution_count": 2,
   "id": "fcfc4a24-a1cc-49f9-af11-8f2229d6a17a",
   "metadata": {},
   "outputs": [
    {
     "name": "stdout",
     "output_type": "stream",
     "text": [
      "123 str\n",
      "text 456\n"
     ]
    }
   ],
   "source": [
    "# W python nie ma potrzeby deklarowania zmiennej interpreter wywnioskuje sobe sam jaki to typ.\n",
    "x = 123\n",
    "y = 'str'\n",
    "print(x, y)\n",
    "# Jeżeli w trakcie programu zmieni się typ zmiennej interpreter sie tym zajmnie sam.\n",
    "x = \"text\"\n",
    "y = 456\n",
    "print(x, y)"
   ]
  },
  {
   "cell_type": "code",
   "execution_count": 3,
   "id": "b5622bf8-0165-4edc-937d-e6d17fc25a44",
   "metadata": {},
   "outputs": [
    {
     "name": "stdout",
     "output_type": "stream",
     "text": [
      "war1 war2 war3\n",
      "wartość wartość wartość\n"
     ]
    }
   ],
   "source": [
    "# Przypisywanie wielu zmiennym, wielu wartości, ilość zmiennych i ilość wartości musi się zgadzać.\n",
    "x, y, z = \"war1\", \"war2\", \"war3\"\n",
    "print(x, y, z)\n",
    "# Przypisywanie wielu zmiennym, jednej wartości.\n",
    "x = y = z = \"wartość\"\n",
    "print(x, y, z)"
   ]
  },
  {
   "cell_type": "code",
   "execution_count": 4,
   "id": "0e47c77b-a1cb-4178-b515-7484d83ef918",
   "metadata": {},
   "outputs": [
    {
     "data": {
      "text/plain": [
       "(['war1', 'war2', 'war3'], 'war1', 'war2', 'war3')"
      ]
     },
     "execution_count": 4,
     "metadata": {},
     "output_type": "execute_result"
    }
   ],
   "source": [
    "# Szybkie przepisanie wartości z listy do zmiennych (Unpack a Collection), dotyczy to równieź innych kolekcji.\n",
    "lista = ['war1', 'war2', 'war3']\n",
    "x, y, z = lista\n",
    "lista, x, y, z"
   ]
  },
  {
   "cell_type": "code",
   "execution_count": 5,
   "id": "0439ef0c-c0a5-4b5e-b153-1cc1266517b9",
   "metadata": {},
   "outputs": [
    {
     "name": "stdout",
     "output_type": "stream",
     "text": [
      "['str1', 'str2', 'str3', 'str4', 'str5', 'str6']\n"
     ]
    }
   ],
   "source": [
    "lista = ['str1', 'str2', 'str3', 'str4', 'str5', 'str6']\n",
    "print(lista)"
   ]
  },
  {
   "cell_type": "code",
   "execution_count": 6,
   "id": "9b127b92-dc6b-435c-a48e-4ed6d499195c",
   "metadata": {},
   "outputs": [
    {
     "name": "stdout",
     "output_type": "stream",
     "text": [
      "str1\n",
      "['str2', 'str3', 'str4', 'str5']\n",
      "str6\n"
     ]
    }
   ],
   "source": [
    "# Automatyczne przypisywanie wartości, dotyczy to równieź innych kolekcji.\n",
    "(zm1, *zm2, zm3) = lista\n",
    "print(zm1)\n",
    "print(zm2)\n",
    "print(zm3)"
   ]
  },
  {
   "cell_type": "code",
   "execution_count": 7,
   "id": "c64293a7-cb97-4370-8e13-6b50161d299c",
   "metadata": {},
   "outputs": [
    {
     "name": "stdout",
     "output_type": "stream",
     "text": [
      "str1\n",
      "str2\n",
      "['str3', 'str4', 'str5', 'str6']\n"
     ]
    }
   ],
   "source": [
    "(zm1, zm2, *zm3) = lista\n",
    "print(zm1)\n",
    "print(zm2)\n",
    "print(zm3)"
   ]
  },
  {
   "cell_type": "markdown",
   "id": "7de097f7-bb7b-4a2d-b8a8-e8ad6a28c5bf",
   "metadata": {},
   "source": [
    "--------------------------------------------------------------------------------------------------------------------------\n",
    "## 03. Wbudowane typy danych."
   ]
  },
  {
   "cell_type": "code",
   "execution_count": 8,
   "id": "b77f9e43-49a2-42f7-ab06-c8a654e2cc50",
   "metadata": {},
   "outputs": [],
   "source": [
    "# Text Type:\t      str\n",
    "# Numeric Types:\t  int, float, complex\n",
    "# Sequence Types:\t  list, tuple, range\n",
    "# Mapping Type:\t      dict\n",
    "# Set Types:\t      set, frozenset\n",
    "# Boolean Type:\t      bool\n",
    "# Binary Types:\t      bytes, bytearray, memoryview\n",
    "# None Type:\t      None"
   ]
  },
  {
   "cell_type": "code",
   "execution_count": 9,
   "id": "e20183f4-10eb-4965-809b-356ac55a246a",
   "metadata": {},
   "outputs": [
    {
     "data": {
      "text/plain": [
       "(int, float, str, complex)"
      ]
     },
     "execution_count": 9,
     "metadata": {},
     "output_type": "execute_result"
    }
   ],
   "source": [
    "# Sprawdzanie typu danych.\n",
    "type(123), type(1.23), type('str'), type(1 + 5j)"
   ]
  },
  {
   "cell_type": "code",
   "execution_count": 10,
   "id": "db01fe17-f4da-489f-b86e-978cd3ae8c05",
   "metadata": {},
   "outputs": [
    {
     "data": {
      "text/plain": [
       "(str, int, float, complex, complex)"
      ]
     },
     "execution_count": 10,
     "metadata": {},
     "output_type": "execute_result"
    }
   ],
   "source": [
    "x = 'text'\n",
    "y = 123\n",
    "z = 1.23\n",
    "a = complex(1, 4)\n",
    "b = 45 + 54j\n",
    "type(x), type(y), type(z), type(a), type(b)"
   ]
  },
  {
   "cell_type": "code",
   "execution_count": 11,
   "id": "21b05104-70a6-42a9-9a85-411a6ba642fb",
   "metadata": {},
   "outputs": [
    {
     "name": "stdout",
     "output_type": "stream",
     "text": [
      "Hello World \n",
      " 20 \n",
      " 20.5 \n",
      " 1j \n",
      " ['apple', 'banana', 'cherry'] \n",
      " ('apple', 'banana', 'cherry') \n",
      " range(0, 6) \n",
      " {'name': 'John', 'age': 36} \n",
      " {'banana', 'apple', 'cherry'} \n",
      " frozenset({'banana', 'apple', 'cherry'}) \n",
      " True \n",
      " b'\\x00\\x00\\x00\\x00\\x00' \n",
      " bytearray(b'\\x00\\x00\\x00\\x00\\x00') \n",
      " <memory at 0x0000021AFE6E1B40>\n"
     ]
    }
   ],
   "source": [
    "# Wymuszenie ustawienia odpowiedniego typu.\n",
    "a = str(\"Hello World\")\t\n",
    "b = int(20)\t\n",
    "c = float(20.5)\t\t\n",
    "d = complex(1j)\t\t\n",
    "e = list((\"apple\", \"banana\", \"cherry\"))\t\t\n",
    "f = tuple((\"apple\", \"banana\", \"cherry\"))\t\n",
    "g = range(6)\t\n",
    "h = dict(name=\"John\", age=36)\t\n",
    "i = set((\"apple\", \"banana\", \"cherry\"))\t\n",
    "j = frozenset((\"apple\", \"banana\", \"cherry\"))\t\n",
    "k = bool(5)\t\n",
    "l = bytes(5)\t\n",
    "m = bytearray(5)\n",
    "n = memoryview(bytes(5))\n",
    "print(a, '\\n', b, '\\n',  c, '\\n',  d, '\\n',  e, '\\n',  f, '\\n',  g, '\\n',  h, '\\n',  i, '\\n',  j, '\\n',  k, '\\n',  l, '\\n',  m, '\\n',  n)"
   ]
  },
  {
   "cell_type": "markdown",
   "id": "f7fcc9a8-5d7f-4dd6-a54c-127ea300a51d",
   "metadata": {},
   "source": [
    "--------------------------------------------------------------------------------------------------------------------------\n",
    "#### Typ tekstowy: str"
   ]
  },
  {
   "cell_type": "code",
   "execution_count": 12,
   "id": "9fd25862-d113-48f3-a841-3cbc52018084",
   "metadata": {},
   "outputs": [
    {
     "name": "stdout",
     "output_type": "stream",
     "text": [
      "<class 'str'>\n"
     ]
    }
   ],
   "source": [
    "print(type('abc'))"
   ]
  },
  {
   "cell_type": "code",
   "execution_count": 13,
   "id": "6ecc9885-95a8-4490-83f8-2f2d4e2e81ba",
   "metadata": {},
   "outputs": [
    {
     "data": {
      "text/plain": [
       "('ąćźćł', 'ąćźćł')"
      ]
     },
     "execution_count": 13,
     "metadata": {},
     "output_type": "execute_result"
    }
   ],
   "source": [
    "x = \"ąćźćł\"\n",
    "y = 'ąćźćł'  # obojętnie czy \" \" , ' '.\n",
    "x, y"
   ]
  },
  {
   "cell_type": "code",
   "execution_count": 14,
   "id": "93488cb2-901e-40c1-97e2-aa4d81af94ca",
   "metadata": {},
   "outputs": [
    {
     "name": "stdout",
     "output_type": "stream",
     "text": [
      "Napis który\n",
      "jest, rozdzielony\n",
      "na wiele linii.\n"
     ]
    },
    {
     "data": {
      "text/plain": [
       "'Napis który\\njest, rozdzielony\\nna wiele linii.'"
      ]
     },
     "execution_count": 14,
     "metadata": {},
     "output_type": "execute_result"
    }
   ],
   "source": [
    "# String wieloliniowy.\n",
    "napis = \"\"\"Napis który\n",
    "jest, rozdzielony\n",
    "na wiele linii.\"\"\"\n",
    "print(napis)\n",
    "napis"
   ]
  },
  {
   "cell_type": "code",
   "execution_count": 15,
   "id": "fc42bfa1-1957-4a3c-b0c7-f3e876011406",
   "metadata": {},
   "outputs": [
    {
     "data": {
      "text/plain": [
       "' jakiś String - napis czy Coś... '"
      ]
     },
     "execution_count": 15,
     "metadata": {},
     "output_type": "execute_result"
    }
   ],
   "source": [
    "napis = \" jakiś String - napis czy Coś... \"\n",
    "napis"
   ]
  },
  {
   "cell_type": "code",
   "execution_count": 16,
   "id": "327ab9e5-fed8-4df4-87d5-d2ca472524a3",
   "metadata": {},
   "outputs": [
    {
     "data": {
      "text/plain": [
       "33"
      ]
     },
     "execution_count": 16,
     "metadata": {},
     "output_type": "execute_result"
    }
   ],
   "source": [
    "# Długość.\n",
    "len(napis)"
   ]
  },
  {
   "cell_type": "code",
   "execution_count": 17,
   "id": "637e78bc-df2b-4b37-af24-3f72d56eba64",
   "metadata": {},
   "outputs": [
    {
     "data": {
      "text/plain": [
       "' jakiś String - napis czy Coś...  jakiś String - napis czy Coś...  jakiś String - napis czy Coś... '"
      ]
     },
     "execution_count": 17,
     "metadata": {},
     "output_type": "execute_result"
    }
   ],
   "source": [
    "# Powielenie.\n",
    "napis * 3"
   ]
  },
  {
   "cell_type": "code",
   "execution_count": 18,
   "id": "378c8e42-78e9-4d8d-973f-2ca48706deac",
   "metadata": {},
   "outputs": [
    {
     "data": {
      "text/plain": [
       "'j'"
      ]
     },
     "execution_count": 18,
     "metadata": {},
     "output_type": "execute_result"
    }
   ],
   "source": [
    "# Pobieranie pojedynczego znaku, string jako tablica.\n",
    "napis[1] # wynikiem będzie jeden znak, aprzypisanie go do zmiennej zrobi tą zmienną też stringiem"
   ]
  },
  {
   "cell_type": "code",
   "execution_count": 19,
   "id": "5dd34e19-5c63-4f3c-9642-b757ae5d1a43",
   "metadata": {},
   "outputs": [
    {
     "data": {
      "text/plain": [
       "'akiś Str'"
      ]
     },
     "execution_count": 19,
     "metadata": {},
     "output_type": "execute_result"
    }
   ],
   "source": [
    "# Wycinek wg ideksu od 2 do 9.\n",
    "napis[2:10]"
   ]
  },
  {
   "cell_type": "code",
   "execution_count": 20,
   "id": "9ee42eb1-d8f6-45a0-9d90-574b01402c2f",
   "metadata": {},
   "outputs": [
    {
     "data": {
      "text/plain": [
       "'akiś String - napis czy Coś... '"
      ]
     },
     "execution_count": 20,
     "metadata": {},
     "output_type": "execute_result"
    }
   ],
   "source": [
    "# Wycinek wg ideksu od 2 do końca.\n",
    "napis[2:]"
   ]
  },
  {
   "cell_type": "code",
   "execution_count": 21,
   "id": "51ee195f-036e-4e4b-a7a4-aaf0e81fc4e7",
   "metadata": {},
   "outputs": [
    {
     "data": {
      "text/plain": [
       "' jakiś Str'"
      ]
     },
     "execution_count": 21,
     "metadata": {},
     "output_type": "execute_result"
    }
   ],
   "source": [
    "# Wycinek od początku do 9.\n",
    "napis[:10]"
   ]
  },
  {
   "cell_type": "code",
   "execution_count": 22,
   "id": "7d3dbefa-780a-4c18-8854-6a9b2bbc29b7",
   "metadata": {},
   "outputs": [
    {
     "data": {
      "text/plain": [
       "'ś... '"
      ]
     },
     "execution_count": 22,
     "metadata": {},
     "output_type": "execute_result"
    }
   ],
   "source": [
    "# Wycinek ostatnich 5 od końca.\n",
    "napis[-5:]"
   ]
  },
  {
   "cell_type": "code",
   "execution_count": 23,
   "id": "0a539994-3e41-4a3a-9d0d-9493eb2e507f",
   "metadata": {},
   "outputs": [
    {
     "data": {
      "text/plain": [
       "' ai t'"
      ]
     },
     "execution_count": 23,
     "metadata": {},
     "output_type": "execute_result"
    }
   ],
   "source": [
    "# Wycinek co drugi od 0 do 8.\n",
    "# print(string[start:stop:step]) \n",
    "napis[0:9:2]"
   ]
  },
  {
   "cell_type": "code",
   "execution_count": 24,
   "id": "dae656b0-c72e-4d15-b04d-41da2098a865",
   "metadata": {},
   "outputs": [
    {
     "data": {
      "text/plain": [
       "' jakiś String - napis czy Coś... '"
      ]
     },
     "execution_count": 24,
     "metadata": {},
     "output_type": "execute_result"
    }
   ],
   "source": [
    "# Cały napis.\n",
    "napis[:] # lub napis[::] lub napis"
   ]
  },
  {
   "cell_type": "code",
   "execution_count": 25,
   "id": "67054a30-7989-4171-8f77-5b29521c21cc",
   "metadata": {},
   "outputs": [
    {
     "data": {
      "text/plain": [
       "' k rg p yo.'"
      ]
     },
     "execution_count": 25,
     "metadata": {},
     "output_type": "execute_result"
    }
   ],
   "source": [
    "# Co trzecią pozycję.\n",
    "napis[::3]"
   ]
  },
  {
   "cell_type": "code",
   "execution_count": 26,
   "id": "d0802d16-3e72-4f20-9e7a-a56e1785c085",
   "metadata": {},
   "outputs": [
    {
     "data": {
      "text/plain": [
       "'.'"
      ]
     },
     "execution_count": 26,
     "metadata": {},
     "output_type": "execute_result"
    }
   ],
   "source": [
    "# Druga od końca.\n",
    "napis[-2] "
   ]
  },
  {
   "cell_type": "code",
   "execution_count": 27,
   "id": "6fd1e95c-a8ac-4163-a2d5-995760b059e6",
   "metadata": {},
   "outputs": [
    {
     "data": {
      "text/plain": [
       "' ...śoC yzc sipan - gnirtS śikaj '"
      ]
     },
     "execution_count": 27,
     "metadata": {},
     "output_type": "execute_result"
    }
   ],
   "source": [
    "# Co jeden od końca do początku, czyli rewers napisu.\n",
    "napis[::-1] "
   ]
  },
  {
   "cell_type": "code",
   "execution_count": 28,
   "id": "0f9ecd44-b7f6-4d90-9c1d-85779c53da77",
   "metadata": {},
   "outputs": [
    {
     "data": {
      "text/plain": [
       "' .śCycspn-git ia '"
      ]
     },
     "execution_count": 28,
     "metadata": {},
     "output_type": "execute_result"
    }
   ],
   "source": [
    "# Co dwa od końca do początku.\n",
    "napis[::-2] "
   ]
  },
  {
   "cell_type": "code",
   "execution_count": 29,
   "id": "b92d8be7-59ed-401d-ba08-d76f1bdbbc49",
   "metadata": {},
   "outputs": [],
   "source": [
    "# Zmiany w stringu są możliwe tylko przez nadpisanie całości, a nie przez zmiany pojedynczych znaków.\n",
    "# string[1] = 's' -> error nie wolno, trzeba nadpisać całego stringa"
   ]
  },
  {
   "cell_type": "code",
   "execution_count": 30,
   "id": "de18b517-1e30-41bd-b447-e6b529f0fa02",
   "metadata": {},
   "outputs": [
    {
     "name": "stdout",
     "output_type": "stream",
     "text": [
      "True\n"
     ]
    }
   ],
   "source": [
    "# Sprawdź czy jest.\n",
    "print(\"napis\" in napis) "
   ]
  },
  {
   "cell_type": "code",
   "execution_count": 31,
   "id": "694be17f-dc61-47d4-8e08-8b7fe2d97d78",
   "metadata": {},
   "outputs": [
    {
     "name": "stdout",
     "output_type": "stream",
     "text": [
      "True\n"
     ]
    }
   ],
   "source": [
    "# Sprawdź czy niema.\n",
    "print(\"jeden\" not in napis)"
   ]
  },
  {
   "cell_type": "code",
   "execution_count": 32,
   "id": "14aecb52-b080-4b8f-b698-0efe00a4857e",
   "metadata": {},
   "outputs": [
    {
     "data": {
      "text/plain": [
       "'war1 war2 :war3'"
      ]
     },
     "execution_count": 32,
     "metadata": {},
     "output_type": "execute_result"
    }
   ],
   "source": [
    "# łączenie, konkatenacja ciągów.\n",
    "x, y, z = \"war1 \", \"war2 \", \"war3\"\n",
    "razem = x + y + ':' + z\n",
    "razem"
   ]
  },
  {
   "cell_type": "code",
   "execution_count": 33,
   "id": "8b006dc4-a967-4472-9868-83e60257dc7c",
   "metadata": {},
   "outputs": [
    {
     "name": "stdout",
     "output_type": "stream",
     "text": [
      "a   97\n",
      "s   115\n",
      "d   100\n"
     ]
    }
   ],
   "source": [
    "# Wylistowanie znaków\n",
    "for y in 'asd':  # ze stringa\n",
    "    print(y, \" \", ord(y))  # odr - numer utf8"
   ]
  },
  {
   "cell_type": "code",
   "execution_count": 34,
   "id": "b49878d8-4a26-453d-ad2d-1e3c4d042926",
   "metadata": {},
   "outputs": [
    {
     "name": "stdout",
     "output_type": "stream",
     "text": [
      "1   49\n",
      "2   50\n",
      "a   97\n",
      "b   98\n"
     ]
    }
   ],
   "source": [
    "# Wylistowanie znaków ze zmiennej\n",
    "x = '12ab'    \n",
    "for y in x:  # ze stringa w zmiennej\n",
    "    print(y, \" \", ord(y))  # odr - numer utf8"
   ]
  },
  {
   "cell_type": "code",
   "execution_count": 35,
   "id": "dab69ae4-5826-4e38-8027-e0c17fd674ea",
   "metadata": {},
   "outputs": [
    {
     "name": "stdout",
     "output_type": "stream",
     "text": [
      "h D\n",
      "hD\n"
     ]
    }
   ],
   "source": [
    "# Z numeru UTF8 na znak.\n",
    "s1 = chr(104)\n",
    "s2 = chr(68)\n",
    "print(s1, s2)    # wyświetlanie jako znaków osobnych\n",
    "print(s1 + s2)   # łączenie w stringa"
   ]
  },
  {
   "cell_type": "code",
   "execution_count": 36,
   "id": "267a2369-3f7f-42f3-93f4-b9f1676b0b35",
   "metadata": {},
   "outputs": [
    {
     "name": "stdout",
     "output_type": "stream",
     "text": [
      "97 36 281\n"
     ]
    }
   ],
   "source": [
    "# Ze znaku na numer UTF8.\n",
    "z1 = ord(\"a\")\n",
    "z2 = ord(\"$\")\n",
    "z3 = ord(\"ę\")\n",
    "print(z1, z2, z3)"
   ]
  },
  {
   "cell_type": "code",
   "execution_count": 37,
   "id": "f4da04dc-c29a-4a62-9bbf-fc9b13fbd65a",
   "metadata": {},
   "outputs": [
    {
     "name": "stdout",
     "output_type": "stream",
     "text": [
      "1234\n",
      "5678\tasd\n",
      "1234\n",
      "5678\n",
      "2222\n",
      "3333\n"
     ]
    }
   ],
   "source": [
    "# znaki specjalne\n",
    "# \\n: Nowa linia. Powoduje przeniesienie kursora do następnej linii.\n",
    "# \\t: Tabulator. Wstawia znak tabulacji.\n",
    "# \\' lub \\\": Apostrof lub cudzysłów. Pozwala na wstawienie apostrofu lub cudzysłowu do ciągu znaków otoczonego tym samym rodzajem cudzysłowu.\n",
    "# \\\\: Ucieczka znaku. Wstawia znak ucieczki (backslash).\n",
    "# \\b: Powrót kursora. Powoduje cofnięcie kursora o jedno miejsce w lewo.\n",
    "# \\r: Powrót karetki. Przesuwa kursor do początku bieżącej linii.\n",
    "# \\f: Formfeed. Przesuwa kursor do nowej strony.\n",
    "# \\v: Pionowa tabulacja. Powoduje przesunięcie kursora do następnej kolumny, z zachowaniem tych samych wierszy, co poprzednia kolumna.\n",
    "# \\0: Znak końca linii. Oznacza koniec ciągu znaków.\n",
    "# \\ooo Octal value\t\n",
    "# \\xhh Hex value\t\n",
    "\n",
    "print(\"1234\\r\\n5678\\tasd\") # \\r\\n \\t\n",
    "print(f'1234\\r\\n5678')\n",
    "print(f'2222{chr(13)+chr(10)}3333')"
   ]
  },
  {
   "cell_type": "code",
   "execution_count": 38,
   "id": "5b95ff33-288c-443f-99c5-ad6f976fbff8",
   "metadata": {},
   "outputs": [],
   "source": [
    "# Porównywanie stringów\n",
    "napis = 'abcd' \n",
    "if 'a' in 'abc' :   # sprawdza czy 'a' zawiera się w 'abc' w tym przypadku to True\n",
    "    pass\n",
    "if napis == 'abcd' : # czy równe \n",
    "    pass\n",
    "if napis < 'abcd' : # czy napis jest przed 'abcd'\n",
    "    pass\n",
    "if napis == 'abcd' : # czy napis jest za 'abcd'\n",
    "    pass"
   ]
  },
  {
   "cell_type": "code",
   "execution_count": 39,
   "id": "73fa9d5f-5a4b-4ab2-8af1-2799258214c8",
   "metadata": {},
   "outputs": [],
   "source": [
    "# Formatowanie stringa.\n",
    "zm1 = 15\n",
    "zm2 = 1.23\n",
    "zm3 = -1.23"
   ]
  },
  {
   "cell_type": "code",
   "execution_count": 40,
   "id": "b67b91ca-55d3-4aab-98a5-635c514a5b8f",
   "metadata": {},
   "outputs": [],
   "source": [
    "# Metoda 'format()'"
   ]
  },
  {
   "cell_type": "code",
   "execution_count": 41,
   "id": "8e965d86-5eee-49c9-851b-b62449a25990",
   "metadata": {},
   "outputs": [
    {
     "data": {
      "text/plain": [
       "'zm1 = 15  zm2 = 1.23'"
      ]
     },
     "execution_count": 41,
     "metadata": {},
     "output_type": "execute_result"
    }
   ],
   "source": [
    "'zm1 = {}  zm2 = {}'.format(zm1, zm2)"
   ]
  },
  {
   "cell_type": "code",
   "execution_count": 42,
   "id": "95446982-3dcb-459d-81af-d2aa0a3e5b5f",
   "metadata": {},
   "outputs": [
    {
     "name": "stdout",
     "output_type": "stream",
     "text": [
      "tekst 15\n"
     ]
    }
   ],
   "source": [
    "napis = \"tekst {}\"\n",
    "print(napis.format(zm1))"
   ]
  },
  {
   "cell_type": "code",
   "execution_count": 43,
   "id": "98e03e9a-a369-45b6-9dfd-71f038917d14",
   "metadata": {},
   "outputs": [],
   "source": [
    "# Metoda F-string"
   ]
  },
  {
   "cell_type": "code",
   "execution_count": 44,
   "id": "aae88237-0d47-4aaf-9ebf-c1b8aa505028",
   "metadata": {},
   "outputs": [
    {
     "data": {
      "text/plain": [
       "'test i zmienna=15 lub 1.23'"
      ]
     },
     "execution_count": 44,
     "metadata": {},
     "output_type": "execute_result"
    }
   ],
   "source": [
    "f'test i zmienna={zm1} lub {zm2}'"
   ]
  },
  {
   "cell_type": "code",
   "execution_count": 45,
   "id": "8a91f5f6-aa22-4f75-baaf-785b2ec8f8b9",
   "metadata": {},
   "outputs": [],
   "source": [
    "# Metoda '%' -> formatowanie przypominające printf w 'c i c++'\n",
    "# 'd' - Signed integer decimal.\n",
    "# 'i' - Signed integer decimal.\n",
    "# 'o' - Signed octal value.\n",
    "# 'u' - Obsolete type - it is identical to 'd'.\n",
    "# 'x' - Signed hexadecimal (lowercase).\n",
    "# 'X' - Signed hexadecimal (uppercase).\n",
    "# 'e' - Floating point exponential format (lowercase).\n",
    "# 'E' - Floating point exponential format (uppercase).\n",
    "# 'f' - Floating point decimal format.\n",
    "# 'F' - Floating point decimal format.\n",
    "# 'g' - Floating point format. Uses lowercase exponential format if exponent is less than -4 or not less than precision, decimal format otherwise.\n",
    "# 'G' - Floating point format. Uses uppercase exponential format if exponent is less than -4 or not less than precision, decimal format otherwise.\n",
    "# 'c' - Single character (accepts integer or single character string).\n",
    "# 'r' - String (converts any Python object using repr()).\n",
    "# 's' - String (converts any Python object using str()).\n",
    "# 'a' - String (converts any Python object using ascii()).\n",
    "# '%' - No argument is converted, results in a '%' character in the result."
   ]
  },
  {
   "cell_type": "code",
   "execution_count": 46,
   "id": "c6bd9780-7c30-4f04-8b91-e2ce93c0ef0b",
   "metadata": {},
   "outputs": [
    {
     "data": {
      "text/plain": [
       "'text 15 text 1.230000 text -1.230000'"
      ]
     },
     "execution_count": 46,
     "metadata": {},
     "output_type": "execute_result"
    }
   ],
   "source": [
    "'text %d text %f text %+f' % (zm1, zm2, zm3) "
   ]
  },
  {
   "cell_type": "code",
   "execution_count": 47,
   "id": "3728e9b8-b969-4423-b82a-dc090567dbd3",
   "metadata": {},
   "outputs": [
    {
     "data": {
      "text/plain": [
       "'text +15 text +1.230000 text -1.230000'"
      ]
     },
     "execution_count": 47,
     "metadata": {},
     "output_type": "execute_result"
    }
   ],
   "source": [
    "'text %+d text %+f text %+f' % (zm1, zm2, zm3) # formatowanie ze znakiem plus normalnie nie wyświetlanym"
   ]
  },
  {
   "cell_type": "code",
   "execution_count": 48,
   "id": "c2f94858-00e4-4249-bd8a-0894c955855b",
   "metadata": {},
   "outputs": [
    {
     "name": "stdout",
     "output_type": "stream",
     "text": [
      "text 015 text 1.230000\n",
      "text 0015 text   15\n",
      "text 1.230000\n"
     ]
    }
   ],
   "source": [
    "napis = 'text %03d text %f' % (zm1, zm2)\n",
    "print(napis)\n",
    "print('text %04d text % 4d' % (zm1, zm1)) # formatowanie, zero przed liczbą lub spacja przed liczbą\n",
    "print('text %f' % (zm2)) # formatowanie, zero przed liczbą lub spacja przed liczbą\n"
   ]
  },
  {
   "cell_type": "markdown",
   "id": "55b22f96-4594-4247-afde-8cff25528ac2",
   "metadata": {
    "jp-MarkdownHeadingCollapsed": true
   },
   "source": [
    "--------------------------------------------------------------------------------------------------------------------------\n",
    "#### Metody klasy String."
   ]
  },
  {
   "cell_type": "code",
   "execution_count": 49,
   "id": "aae2c409-8008-415f-9d54-988788a4b362",
   "metadata": {},
   "outputs": [],
   "source": [
    "# Dąstępne metody\n",
    "# dir(str) # dir to lista dostępnych metod w objekcie\n",
    "# help(str) # manual dla klasy"
   ]
  },
  {
   "cell_type": "code",
   "execution_count": 50,
   "id": "cbc705a1-b8c8-4dff-b1a7-4de6c56543ea",
   "metadata": {},
   "outputs": [
    {
     "name": "stdout",
     "output_type": "stream",
     "text": [
      "Text 015 text 1.230000\n"
     ]
    }
   ],
   "source": [
    "# Konwertuje pierwszy znak na dużą literę.\n",
    "temp = napis.strip() # usunięcie biłego znaku z początku stringa\n",
    "print(temp.capitalize())"
   ]
  },
  {
   "cell_type": "code",
   "execution_count": 51,
   "id": "bb186910-3f22-4d4c-90d7-cc5e409403cf",
   "metadata": {},
   "outputs": [
    {
     "name": "stdout",
     "output_type": "stream",
     "text": [
      "text 015 text 1.230000\n"
     ]
    }
   ],
   "source": [
    "# Konwertuje ciąg znaków na małe litery.\n",
    "print(napis.casefold())\t"
   ]
  },
  {
   "cell_type": "code",
   "execution_count": 52,
   "id": "ea9023d4-9f4b-415c-b4c2-252a91598e9c",
   "metadata": {},
   "outputs": [],
   "source": [
    "# Zwraca wyśrodkowany ciąg znaków.\n",
    "# center()\t"
   ]
  },
  {
   "cell_type": "code",
   "execution_count": 53,
   "id": "12db6296-bcf5-4322-9bc7-536e9b9a470e",
   "metadata": {},
   "outputs": [],
   "source": [
    "# Zwraca liczbę wystąpień określonej wartości w ciągu znaków.\n",
    "# count()"
   ]
  },
  {
   "cell_type": "code",
   "execution_count": 54,
   "id": "c6fbc8f5-0eda-4bb4-8d1f-fb896a01aa5e",
   "metadata": {},
   "outputs": [],
   "source": [
    "# Zwraca zakodowaną wersję łańcucha znaków.\n",
    "# encode()\t"
   ]
  },
  {
   "cell_type": "code",
   "execution_count": 55,
   "id": "719378f2-4d7c-401d-9994-32b233b6a322",
   "metadata": {},
   "outputs": [
    {
     "name": "stdout",
     "output_type": "stream",
     "text": [
      "False\n"
     ]
    }
   ],
   "source": [
    "# Zwraca wartość true, jeśli ciąg znaków kończy się podaną wartością.\n",
    "print(napis.endswith('.'))  # czy kończy się na"
   ]
  },
  {
   "cell_type": "code",
   "execution_count": 56,
   "id": "960ba9fd-f01f-4020-b29e-b30b455b0411",
   "metadata": {},
   "outputs": [],
   "source": [
    "# Ustawia rozmiar tabulatora łańcucha znaków.\n",
    "# expandtabs()\t"
   ]
  },
  {
   "cell_type": "code",
   "execution_count": 57,
   "id": "0d58af46-d54f-4738-a243-564051c7b386",
   "metadata": {},
   "outputs": [
    {
     "name": "stdout",
     "output_type": "stream",
     "text": [
      "4\n",
      "8\n"
     ]
    }
   ],
   "source": [
    "# Przeszukuje ciąg znaków w poszukiwaniu określonej wartości i zwraca pozycję, w której została ona znaleziona.\n",
    "print(napis.find(' '))   # -1 jak nie znajdzie\n",
    "print(napis.find(' ', 6, 10))  # znajdź w wycinku, -1 jak nie znajdzie"
   ]
  },
  {
   "cell_type": "code",
   "execution_count": 58,
   "id": "906f2b34-3f92-45f4-a18e-6a83f3257e62",
   "metadata": {},
   "outputs": [],
   "source": [
    "# Formatuje określone wartości w ciągu znaków.\n",
    "# format()\t"
   ]
  },
  {
   "cell_type": "code",
   "execution_count": 59,
   "id": "89938804-23aa-4d14-b39c-ebcfc492be29",
   "metadata": {},
   "outputs": [],
   "source": [
    "# Formatuje określone wartości w ciągu znaków.\n",
    "# format_map()"
   ]
  },
  {
   "cell_type": "code",
   "execution_count": 60,
   "id": "55e76e57-f6df-46a2-9306-d0e61a455aa4",
   "metadata": {},
   "outputs": [
    {
     "name": "stdout",
     "output_type": "stream",
     "text": [
      "4\n",
      "8\n"
     ]
    }
   ],
   "source": [
    "# Przeszukuje ciąg znaków w poszukiwaniu określonej wartości i zwraca pozycję, w której została ona znaleziona.\n",
    "print(napis.index(' '))  # jak nieznajdzie to error\n",
    "print(napis.index(' ', 6, 10)) # znajdź w wycinku jak nieznajdzie to error"
   ]
  },
  {
   "cell_type": "code",
   "execution_count": 61,
   "id": "3c187859-f7e0-4f41-b4b5-6057ced78194",
   "metadata": {},
   "outputs": [],
   "source": [
    "# Zwraca True, jeśli wszystkie znaki w ciągu są alfanumeryczne.    \n",
    "# isalnum()\t"
   ]
  },
  {
   "cell_type": "code",
   "execution_count": 62,
   "id": "17a0c0a2-c684-40b6-a264-da22e1d0a376",
   "metadata": {},
   "outputs": [],
   "source": [
    "# Zwraca True, jeśli wszystkie znaki w łańcuchu znajdują się w alfabecie.   \n",
    "# isalpha()\t"
   ]
  },
  {
   "cell_type": "code",
   "execution_count": 63,
   "id": "739c98de-55aa-4f26-a3e2-35b3605ae847",
   "metadata": {},
   "outputs": [],
   "source": [
    "# Zwraca True, jeśli wszystkie znaki w łańcuchu są znakami ascii.    \n",
    "# isascii()\t"
   ]
  },
  {
   "cell_type": "code",
   "execution_count": 64,
   "id": "f4a8297a-9736-46fa-924e-48f80b0acc0b",
   "metadata": {},
   "outputs": [],
   "source": [
    "# Zwraca True, jeśli wszystkie znaki w ciągu są liczbami dziesiętnymi.   \n",
    "# isdecimal()\t"
   ]
  },
  {
   "cell_type": "code",
   "execution_count": 65,
   "id": "e21f7efe-2de8-4749-b747-67b7b09ef05d",
   "metadata": {},
   "outputs": [],
   "source": [
    "# Zwraca True, jeśli wszystkie znaki w ciągu są cyframi.\n",
    "# isdigit()\t"
   ]
  },
  {
   "cell_type": "code",
   "execution_count": 66,
   "id": "e591d87c-fe77-402e-b609-95dbe5d4737e",
   "metadata": {},
   "outputs": [],
   "source": [
    "# Zwraca True, jeśli ciąg znaków jest identyfikatorem.\n",
    "# isidentifier()\t"
   ]
  },
  {
   "cell_type": "code",
   "execution_count": 67,
   "id": "2017d485-9158-45a8-a11c-4a65fc3aa392",
   "metadata": {},
   "outputs": [],
   "source": [
    "# Zwraca True, jeśli wszystkie znaki w ciągu są małymi literami.\n",
    "# islower()\t"
   ]
  },
  {
   "cell_type": "code",
   "execution_count": 68,
   "id": "159e8413-177e-4954-a9d8-15345af40fbd",
   "metadata": {},
   "outputs": [],
   "source": [
    "# Zwraca True, jeśli wszystkie znaki w ciągu są numeryczne.    \n",
    "# isnumeric()"
   ]
  },
  {
   "cell_type": "code",
   "execution_count": 69,
   "id": "102df0ce-079f-4d56-a1d1-a2947490d017",
   "metadata": {},
   "outputs": [],
   "source": [
    "# Zwraca True, jeśli wszystkie znaki w ciągu są drukowalne.\n",
    "# isprintable()\t"
   ]
  },
  {
   "cell_type": "code",
   "execution_count": 70,
   "id": "6f3009d1-5ed8-42da-b80e-8d2ea0a0c976",
   "metadata": {},
   "outputs": [],
   "source": [
    "# Zwraca True, jeśli wszystkie znaki w ciągu są białymi znakami.    \n",
    "# isspace()\t"
   ]
  },
  {
   "cell_type": "code",
   "execution_count": 71,
   "id": "e1e6327c-c3ab-46a2-9c5f-908a03e9c8ed",
   "metadata": {},
   "outputs": [],
   "source": [
    "# Zwraca True, jeśli ciąg znaków jest zgodny z regułami tytułu.    \n",
    "# istitle()\t"
   ]
  },
  {
   "cell_type": "code",
   "execution_count": 72,
   "id": "f06c5204-b76b-4df0-9020-0c9c420543ab",
   "metadata": {},
   "outputs": [],
   "source": [
    "# Zwraca True, jeśli wszystkie znaki w ciągu są pisane wielkimi literami.   \n",
    "# isupper()\t"
   ]
  },
  {
   "cell_type": "code",
   "execution_count": 73,
   "id": "e655ed34-7ebe-4cb0-a79c-5c1f3c32ced4",
   "metadata": {},
   "outputs": [],
   "source": [
    "# Łączy elementy iterowalnej do końca łańcucha znaków\n",
    "# join()"
   ]
  },
  {
   "cell_type": "code",
   "execution_count": 74,
   "id": "e1e5dcd5-72ae-4c99-9111-f9552aa430ca",
   "metadata": {},
   "outputs": [],
   "source": [
    "# Zwraca wersję ciągu znaków wyrównaną do lewej    \n",
    "# ljust()\t"
   ]
  },
  {
   "cell_type": "code",
   "execution_count": 75,
   "id": "291ed0dd-654e-4e64-9c13-741854aef73c",
   "metadata": {},
   "outputs": [
    {
     "name": "stdout",
     "output_type": "stream",
     "text": [
      "text 015 text 1.230000\n"
     ]
    }
   ],
   "source": [
    "# Konwertuje ciąg znaków na małe litery\n",
    "print(napis.lower())"
   ]
  },
  {
   "cell_type": "code",
   "execution_count": 76,
   "id": "ec8a03a5-ae87-41e9-8b00-cf04fa813a82",
   "metadata": {},
   "outputs": [],
   "source": [
    "# Zwraca przyciętą z lewej strony wersję ciągu znaków.    \n",
    "# lstrip()\t"
   ]
  },
  {
   "cell_type": "code",
   "execution_count": 77,
   "id": "0fe63e71-4157-4a66-bffd-b9b69706c32e",
   "metadata": {},
   "outputs": [],
   "source": [
    "# Zwraca tabelę tłumaczeń do wykorzystania w tłumaczeniach.\n",
    "# maketrans()\t"
   ]
  },
  {
   "cell_type": "code",
   "execution_count": 78,
   "id": "8bd26b86-b451-4da5-88ca-173f6ca87dda",
   "metadata": {},
   "outputs": [],
   "source": [
    "# Zwraca krotkę (tuple), w której ciąg znaków jest podzielony na trzy części.\n",
    "# partition()\t"
   ]
  },
  {
   "cell_type": "code",
   "execution_count": 79,
   "id": "c2156b0e-7cff-4203-8d89-cedb2d8029b7",
   "metadata": {},
   "outputs": [
    {
     "name": "stdout",
     "output_type": "stream",
     "text": [
      "text 015 text 1!230000\n",
      "text 015 text 1.230000\n"
     ]
    }
   ],
   "source": [
    "# Zwraca ciąg znaków, w którym określona wartość jest zastępowana określoną wartością.\n",
    "print(napis.replace('.', '!'))  # zamiana\n",
    "print(napis.replace('string', 'str'))  # zamiana"
   ]
  },
  {
   "cell_type": "code",
   "execution_count": 80,
   "id": "70c96a4a-0bb4-41a8-81bf-ec654fa83e33",
   "metadata": {},
   "outputs": [],
   "source": [
    "# Przeszukuje ciąg znaków w poszukiwaniu określonej wartości i zwraca ostatnią pozycję, na której została ona znaleziona.    \n",
    "# rfind()\t"
   ]
  },
  {
   "cell_type": "code",
   "execution_count": 81,
   "id": "e8539ec2-f54b-4f73-afcb-d38e34c89d27",
   "metadata": {},
   "outputs": [],
   "source": [
    "# Przeszukuje ciąg znaków w poszukiwaniu określonej wartości i zwraca ostatnią pozycję, na której została ona znaleziona.\n",
    "# rindex()\t"
   ]
  },
  {
   "cell_type": "code",
   "execution_count": 82,
   "id": "4123092d-4751-4092-aca7-2e3ba76faf10",
   "metadata": {},
   "outputs": [],
   "source": [
    "# Zwraca prawostronnie wyjustowaną wersję ciągu.\n",
    "# rjust()\t"
   ]
  },
  {
   "cell_type": "code",
   "execution_count": 83,
   "id": "08194b3b-4ddc-4cd3-b643-d2c460e6c8dc",
   "metadata": {},
   "outputs": [],
   "source": [
    "# Zwraca krotkę, w której ciąg znaków jest podzielony na trzy części.    \n",
    "# rpartition()\t"
   ]
  },
  {
   "cell_type": "code",
   "execution_count": 84,
   "id": "1012a648-f6e0-40d4-89eb-920fd25c1196",
   "metadata": {},
   "outputs": [],
   "source": [
    "# Dzieli ciąg znaków na określony separator i zwraca listę.\n",
    "# rsplit()\t"
   ]
  },
  {
   "cell_type": "code",
   "execution_count": 85,
   "id": "d1e55b20-c9a9-44ce-970c-c369279d0cf5",
   "metadata": {},
   "outputs": [],
   "source": [
    "# Zwraca przyciętą w prawo wersję ciągu znaków.    \n",
    "# rstrip()\t"
   ]
  },
  {
   "cell_type": "code",
   "execution_count": 86,
   "id": "76b15ede-012a-408d-9ff2-e673011dcac1",
   "metadata": {},
   "outputs": [
    {
     "name": "stdout",
     "output_type": "stream",
     "text": [
      "['text', '015', 'text', '1.230000']\n"
     ]
    }
   ],
   "source": [
    "# Dzieli ciąg znaków na określony separator i zwraca listę.  \n",
    "print(napis.split(' ')) "
   ]
  },
  {
   "cell_type": "code",
   "execution_count": 87,
   "id": "a69bb3d1-f05b-47c6-84f8-9f5a1b0e1185",
   "metadata": {},
   "outputs": [],
   "source": [
    "# Dzieli ciąg znaków na podziały wierszy i zwraca listę.    \n",
    "# splitlines()\t"
   ]
  },
  {
   "cell_type": "code",
   "execution_count": 88,
   "id": "118d16f1-7645-4fb7-9eed-88233eba7e7f",
   "metadata": {},
   "outputs": [
    {
     "name": "stdout",
     "output_type": "stream",
     "text": [
      "False\n",
      "False\n"
     ]
    }
   ],
   "source": [
    "# Zwraca wartość true, jeśli ciąg znaków zaczyna się od podanej wartości.\n",
    "print(napis.startswith('j'))  # czy zaczyna się na\n",
    "print(napis.startswith(' '))  # czy zaczyna się na"
   ]
  },
  {
   "cell_type": "code",
   "execution_count": 89,
   "id": "b0551c18-35da-45e8-a2c1-aaa654135ca8",
   "metadata": {},
   "outputs": [
    {
     "name": "stdout",
     "output_type": "stream",
     "text": [
      "text 015 text 1.230000\n"
     ]
    }
   ],
   "source": [
    "# Przycina wszystkie białe znaki z początku i końca.\n",
    "print(napis.strip())"
   ]
  },
  {
   "cell_type": "code",
   "execution_count": 90,
   "id": "ee09b3e5-a6de-4131-bc8d-b1ee50bf3d7f",
   "metadata": {},
   "outputs": [],
   "source": [
    "# Zamienia małe litery na wielkie i odwrotnie.    \n",
    "# swapcase()"
   ]
  },
  {
   "cell_type": "code",
   "execution_count": 91,
   "id": "91f4fa50-806c-45bd-92bc-bcd8a0d5ab0b",
   "metadata": {},
   "outputs": [],
   "source": [
    "# Konwertuje pierwszy znak każdego słowa na wielkie litery.\n",
    "# title()\t"
   ]
  },
  {
   "cell_type": "code",
   "execution_count": 92,
   "id": "4866e6e6-254b-4423-9538-ce41e7af23e5",
   "metadata": {},
   "outputs": [],
   "source": [
    "# Zwraca przetłumaczony łańcuch znaków.                       \n",
    "# translate()\t"
   ]
  },
  {
   "cell_type": "code",
   "execution_count": 93,
   "id": "bf190911-be4e-4de3-aa0d-fb6d5909aab7",
   "metadata": {},
   "outputs": [
    {
     "name": "stdout",
     "output_type": "stream",
     "text": [
      "TEXT 015 TEXT 1.230000\n"
     ]
    }
   ],
   "source": [
    "# Konwertuje ciąg znaków na duże litery.\n",
    "print(napis.upper())"
   ]
  },
  {
   "cell_type": "code",
   "execution_count": 94,
   "id": "d499213b-19dc-461c-9db2-f9979cddad42",
   "metadata": {},
   "outputs": [],
   "source": [
    "# Wypełnia ciąg znaków określoną liczbą wartości 0 na początku.\n",
    "# zfill()"
   ]
  },
  {
   "cell_type": "markdown",
   "id": "1e49a2aa-5276-43e9-91ad-616006ba195b",
   "metadata": {},
   "source": [
    "--------------------------------------------------------------------------------------------------------------------------\n",
    "#### Typy numeryczne: int, float, complex"
   ]
  },
  {
   "cell_type": "code",
   "execution_count": 95,
   "id": "e75071eb-25b7-4010-aa14-059448fc9c96",
   "metadata": {},
   "outputs": [],
   "source": [
    "# Dąstępna pomoc\n",
    "# dir(float) \n",
    "# help(float) \n",
    "# dir(int) \n",
    "# help(int) \n",
    "# dir(complex) \n",
    "# help(complex) "
   ]
  },
  {
   "cell_type": "code",
   "execution_count": 96,
   "id": "a21f0073-a366-497e-b26c-b54ce4eb535b",
   "metadata": {},
   "outputs": [
    {
     "data": {
      "text/plain": [
       "(1, 34567890, -45354534)"
      ]
     },
     "execution_count": 96,
     "metadata": {},
     "output_type": "execute_result"
    }
   ],
   "source": [
    "# Int.\n",
    "x = 1\n",
    "y = 34567890\n",
    "z = -45354534\n",
    "x, y, z"
   ]
  },
  {
   "cell_type": "code",
   "execution_count": 97,
   "id": "1836d9fd-f311-437e-b7b9-53ac2c46c012",
   "metadata": {},
   "outputs": [
    {
     "name": "stdout",
     "output_type": "stream",
     "text": [
      "0b101\n",
      "0xea\n",
      "43981\n",
      "27\n",
      "27\n"
     ]
    }
   ],
   "source": [
    "# Reprezentacja danych\n",
    "print(bin(5)) # reprezentacja binarna\n",
    "print(hex(234)) # repezentacja hex\n",
    "print(int(0xabcd)) # reprezenntacja dziesiętna\n",
    "print(int(0b011011))\n",
    "print(int('0b011011', 2))"
   ]
  },
  {
   "cell_type": "code",
   "execution_count": 98,
   "id": "41f53194-22ef-4fe9-a294-efd5f3d6a0ba",
   "metadata": {},
   "outputs": [
    {
     "data": {
      "text/plain": [
       "(1.01, -45.0234, -21000000000.0)"
      ]
     },
     "execution_count": 98,
     "metadata": {},
     "output_type": "execute_result"
    }
   ],
   "source": [
    "# Float.\n",
    "x = 1.01\n",
    "y = -45.0234\n",
    "z = -2.1e10\n",
    "x, y, z"
   ]
  },
  {
   "cell_type": "code",
   "execution_count": 99,
   "id": "f404c7ce-f591-4078-a025-d5d857085c23",
   "metadata": {},
   "outputs": [
    {
     "name": "stdout",
     "output_type": "stream",
     "text": [
      "3\n",
      "3.1\n"
     ]
    }
   ],
   "source": [
    "# zaokrąglanie liczb\n",
    "print(round(3.123)) # zaokrągleni, bez przecinków\n",
    "print(round(3.123, 1)) # zaokrąglenie z wyznaczeniem ile miejsc po przecinku"
   ]
  },
  {
   "cell_type": "code",
   "execution_count": 100,
   "id": "4021ee47-edd2-44d1-8461-16174adb0cb6",
   "metadata": {},
   "outputs": [
    {
     "data": {
      "text/plain": [
       "((3+5j), 5j, (-0-5j))"
      ]
     },
     "execution_count": 100,
     "metadata": {},
     "output_type": "execute_result"
    }
   ],
   "source": [
    "# Complex, liczba zespolona.\n",
    "x = 3+5j\n",
    "# lub\n",
    "x = complex(3, 5)\n",
    "y = 5j\n",
    "z = -5j\n",
    "x, y, z"
   ]
  },
  {
   "cell_type": "code",
   "execution_count": 101,
   "id": "9e574332-6e9b-42a3-8dc7-d1c030295721",
   "metadata": {},
   "outputs": [
    {
     "data": {
      "text/plain": [
       "(3.0, 5.0, 0.0, 5.0)"
      ]
     },
     "execution_count": 101,
     "metadata": {},
     "output_type": "execute_result"
    }
   ],
   "source": [
    "# Pobieranie i wyświetlanie części liczb zespolonych.\n",
    "x.real, x.imag, y.real, y.imag"
   ]
  },
  {
   "cell_type": "code",
   "execution_count": 102,
   "id": "42979c31-4fad-431b-b809-695cc158ac4f",
   "metadata": {},
   "outputs": [
    {
     "data": {
      "text/plain": [
       "b'\\n'"
      ]
     },
     "execution_count": 102,
     "metadata": {},
     "output_type": "execute_result"
    }
   ],
   "source": [
    "aaa = 10\n",
    "aaa.to_bytes()"
   ]
  },
  {
   "cell_type": "markdown",
   "id": "5d9a03f7-8c15-4c8e-9550-11b2a3795c1f",
   "metadata": {
    "jp-MarkdownHeadingCollapsed": true
   },
   "source": [
    "--------------------------------------------------------------------------------------------------------------------------\n",
    "#### Kolekcje: list"
   ]
  },
  {
   "cell_type": "code",
   "execution_count": 103,
   "id": "a7a3480e-9bc1-4d5e-8bcb-6ca1b1a2ca5a",
   "metadata": {},
   "outputs": [],
   "source": [
    "# Lista jest dynamicznym typem danych służącym do przechowywania kolekcji elementów. \n",
    "# Elementy w liście mogą być różnych typów danych, a lista może zawierać elementy takie jak liczby, łańcuchy znaków, inne listy czy nawet obiekty. \n",
    "# Listy w Pythonie są mutowalne, co oznacza, że można je zmieniać (dodawać, usuwać, modyfikować elementy) po ich utworzeniu.\n",
    "lista_pusta = []  # Pusta lista\n",
    "lista_liczb = [1, 2, 3, 4, 5]  # Lista liczb całkowitych\n",
    "lista_łańcuchów = ['jabłko', 'banan', 'gruszka']  # Lista łańcuchów znaków\n",
    "lista_mieszana = [1, 'jabłko', True, 3.14]  # Lista zawierająca różne typy danych"
   ]
  },
  {
   "cell_type": "code",
   "execution_count": 104,
   "id": "7221eda3-4996-47b7-81fb-24f087c544c7",
   "metadata": {},
   "outputs": [
    {
     "data": {
      "text/plain": [
       "([1, 'dwa', 3.0, 4, 5], 5)"
      ]
     },
     "execution_count": 104,
     "metadata": {},
     "output_type": "execute_result"
    }
   ],
   "source": [
    "lista = [1, 'dwa', 3.0, 4, 5]\n",
    "lista, len(lista)"
   ]
  },
  {
   "cell_type": "code",
   "execution_count": 105,
   "id": "672b2e12-2acf-4a38-8e28-880b59c488dc",
   "metadata": {},
   "outputs": [
    {
     "name": "stdout",
     "output_type": "stream",
     "text": [
      "[1, 'dwa', 3.0, 4, 5] [1, 'dwa', 3.0, 4, 5]\n",
      "[123, 'dwa', 3.0, 4, 5] [123, 'dwa', 3.0, 4, 5]\n"
     ]
    }
   ],
   "source": [
    "# Tworzenie aliasu do listy, dane są w tej samej części pamięci.\n",
    "lista_copy = lista \n",
    "print(lista, lista_copy)\n",
    "lista[0] = 123\n",
    "print(lista, lista_copy)"
   ]
  },
  {
   "cell_type": "code",
   "execution_count": 106,
   "id": "c2513e84-e01c-4fc0-ae55-16a51d1f8740",
   "metadata": {},
   "outputs": [
    {
     "name": "stdout",
     "output_type": "stream",
     "text": [
      "[123, 'dwa', 3.0, 4, 5] [123, 'dwa', 3.0, 4, 5]\n",
      "[1, 'dwa', 3.0, 4, 5] [123, 'dwa', 3.0, 4, 5]\n"
     ]
    }
   ],
   "source": [
    "# Tworzenie kopi listy w nowym miejscu w pamięci.\n",
    "lista_copy = lista[:]\n",
    "print(lista, lista_copy)\n",
    "lista[0] = 1\n",
    "print(lista, lista_copy)"
   ]
  },
  {
   "cell_type": "code",
   "execution_count": 107,
   "id": "a556f2fb-557e-4cf0-ae84-df5646534816",
   "metadata": {},
   "outputs": [
    {
     "name": "stdout",
     "output_type": "stream",
     "text": [
      "True\n"
     ]
    }
   ],
   "source": [
    "# Sprawdzenie czy jest na liście.\n",
    "lista = ['str1', 'str2', 'str3', 'str4', 'str5', 'str6', 'str7']\n",
    "print('str3' in lista) "
   ]
  },
  {
   "cell_type": "code",
   "execution_count": 108,
   "id": "156e3dbd-a3af-4f75-82f8-c51edbf517de",
   "metadata": {},
   "outputs": [
    {
     "name": "stdout",
     "output_type": "stream",
     "text": [
      "str1\n",
      "str7\n",
      "['str2', 'str3']\n",
      "['str7', 'str6', 'str5', 'str4', 'str3', 'str2', 'str1']\n",
      "['str3', 'str4', 'str5', 'str6', 'str7']\n",
      "['str1', 'str2', 'str3', 'str4', 'str5', 'str6', 'str7']\n",
      "['str1', 'str2', 'str3', 'str4', 'str5', 'str6', 'str7']\n",
      "['str1', 'str2']\n",
      "['str1', 'str3', 'str5', 'str7']\n",
      "['str2', 'str4', 'str6']\n",
      "['str7', 'str5', 'str3', 'str1']\n"
     ]
    }
   ],
   "source": [
    "# Dostęp do elementów\n",
    "print(lista[0]) # bezpośrednio o elementu 0\n",
    "print(lista[-1]) # do ostatniego\n",
    "print(lista[1:3]) # od 1 do 2\n",
    "print(lista[::-1]) # reverse\n",
    "print(lista[2:]) # od 2 do końca\n",
    "print(lista[:]) # cała\n",
    "print(lista[::]) # cała\n",
    "print(lista[:2]) # od początku do 1\n",
    "print(lista[0::2]) # całą co drugi element\n",
    "print(lista[1::2]) # całą co drugi element, przesunięta o jeden\n",
    "# list([start:stop:step])\n",
    "print(lista[::-2]) # od końca co drugi element"
   ]
  },
  {
   "cell_type": "code",
   "execution_count": 109,
   "id": "7f80972d-8770-444e-8b03-4a5839381805",
   "metadata": {},
   "outputs": [
    {
     "data": {
      "text/plain": [
       "['str1', 'str2', 'str3', 'str4', 'str5', 'str6', 'str7', 123, 'dwa', 3.0, 4, 5]"
      ]
     },
     "execution_count": 109,
     "metadata": {},
     "output_type": "execute_result"
    }
   ],
   "source": [
    "# Sklejanie list (konkatenacja)\n",
    "lista + lista_copy"
   ]
  },
  {
   "cell_type": "code",
   "execution_count": 110,
   "id": "e5b50878-313c-480c-af1a-5a9e85c7cc2e",
   "metadata": {},
   "outputs": [
    {
     "data": {
      "text/plain": [
       "['str1',\n",
       " 'str2',\n",
       " 'str3',\n",
       " 'str4',\n",
       " 'str5',\n",
       " 'str6',\n",
       " 'str7',\n",
       " 'str1',\n",
       " 'str2',\n",
       " 'str3',\n",
       " 'str4',\n",
       " 'str5',\n",
       " 'str6',\n",
       " 'str7',\n",
       " 'str1',\n",
       " 'str2',\n",
       " 'str3',\n",
       " 'str4',\n",
       " 'str5',\n",
       " 'str6',\n",
       " 'str7']"
      ]
     },
     "execution_count": 110,
     "metadata": {},
     "output_type": "execute_result"
    }
   ],
   "source": [
    "# Powielanie list\n",
    "lista * 3"
   ]
  },
  {
   "cell_type": "code",
   "execution_count": 111,
   "id": "cb0aba72-2301-4fd0-9272-2fd97c5815f3",
   "metadata": {},
   "outputs": [
    {
     "name": "stdout",
     "output_type": "stream",
     "text": [
      "10\n",
      "1\n",
      "55\n",
      "5.5\n"
     ]
    }
   ],
   "source": [
    "listaNum = [1,2,3,4,5,6,7,8,9,10]\n",
    "# funcje agregujące min, max, sum\n",
    "print(max(listaNum)) # maksymalna wartość\n",
    "print(min(listaNum)) # minimalna wartość\n",
    "print(sum(listaNum)) # suma wartości, muszą być liczby\n",
    "print(sum(listaNum) / len(listaNum)) # średnia arytmetyczna, muszą być same liczby"
   ]
  },
  {
   "cell_type": "code",
   "execution_count": 112,
   "id": "9ce20099-ff28-4419-8a25-fd975aa07c51",
   "metadata": {},
   "outputs": [
    {
     "data": {
      "text/plain": [
       "['str1', 'str2', 'str3', 'str4', 'str5', 'str6', 'str7', 'str8']"
      ]
     },
     "execution_count": 112,
     "metadata": {},
     "output_type": "execute_result"
    }
   ],
   "source": [
    "# Dodawanie na koniec listy\n",
    "lista.append('str8')\n",
    "lista"
   ]
  },
  {
   "cell_type": "code",
   "execution_count": 113,
   "id": "1e1e11d0-d2ea-4fbd-8468-e0016a2843c0",
   "metadata": {},
   "outputs": [
    {
     "data": {
      "text/plain": [
       "['str1', 'str2', 'str2.5', 'str3', 'str4', 'str5', 'str6', 'str7', 'str8']"
      ]
     },
     "execution_count": 113,
     "metadata": {},
     "output_type": "execute_result"
    }
   ],
   "source": [
    "# Dodawanie po indeksie do listy\n",
    "lista.insert(2, 'str2.5')\n",
    "lista"
   ]
  },
  {
   "cell_type": "code",
   "execution_count": 114,
   "id": "a07aff7a-be33-4bfc-9d3d-ded61d825e7a",
   "metadata": {},
   "outputs": [
    {
     "data": {
      "text/plain": [
       "['str1',\n",
       " 'str2',\n",
       " 'str2.5',\n",
       " 'str3',\n",
       " 'str4',\n",
       " 'str5',\n",
       " 'str6',\n",
       " 'str7',\n",
       " 'str8',\n",
       " 1,\n",
       " 2,\n",
       " 3]"
      ]
     },
     "execution_count": 114,
     "metadata": {},
     "output_type": "execute_result"
    }
   ],
   "source": [
    "# Rozszerzanie listy o inną listę, można tak do listy dodać inne kolekcje.\n",
    "lista_ext = [1, 2, 3]\n",
    "lista.extend(lista_ext)\n",
    "lista"
   ]
  },
  {
   "cell_type": "code",
   "execution_count": 115,
   "id": "519ea5df-bd6e-43ec-a3f1-c3fe6e2c9ab3",
   "metadata": {},
   "outputs": [
    {
     "data": {
      "text/plain": [
       "['str1', 'str2', 'str3', 'str4', 'str5', 'str6', 'str7', 'str8', 1, 2, 3]"
      ]
     },
     "execution_count": 115,
     "metadata": {},
     "output_type": "execute_result"
    }
   ],
   "source": [
    "# Usuwanie po wartości.\n",
    "lista.remove('str2.5')\n",
    "lista"
   ]
  },
  {
   "cell_type": "code",
   "execution_count": 116,
   "id": "4d610ff6-6862-4c25-a7f7-b2b802fdb624",
   "metadata": {},
   "outputs": [
    {
     "data": {
      "text/plain": [
       "3"
      ]
     },
     "execution_count": 116,
     "metadata": {},
     "output_type": "execute_result"
    }
   ],
   "source": [
    "# Usuwanie ostatniej, ze zwrotem wartości.\n",
    "lista.pop()"
   ]
  },
  {
   "cell_type": "code",
   "execution_count": 117,
   "id": "2acec76b-68a3-4e4e-88cc-4fd6e36d2517",
   "metadata": {},
   "outputs": [
    {
     "data": {
      "text/plain": [
       "['str1', 'str2', 'str3', 'str4', 'str5', 'str6', 'str7', 'str8', 1, 2]"
      ]
     },
     "execution_count": 117,
     "metadata": {},
     "output_type": "execute_result"
    }
   ],
   "source": [
    "lista"
   ]
  },
  {
   "cell_type": "code",
   "execution_count": 118,
   "id": "02a4f1c9-dd3f-4131-a356-c9f8d0b2efee",
   "metadata": {},
   "outputs": [
    {
     "data": {
      "text/plain": [
       "1"
      ]
     },
     "execution_count": 118,
     "metadata": {},
     "output_type": "execute_result"
    }
   ],
   "source": [
    "# Usuwanie po indeksie, ze zwrotem wartości.\n",
    "lista.pop(8)"
   ]
  },
  {
   "cell_type": "code",
   "execution_count": 119,
   "id": "4530e799-7fe5-4663-add9-9a80a2b62428",
   "metadata": {},
   "outputs": [
    {
     "data": {
      "text/plain": [
       "['str1', 'str2', 'str3', 'str4', 'str5', 'str6', 'str7', 'str8', 2]"
      ]
     },
     "execution_count": 119,
     "metadata": {},
     "output_type": "execute_result"
    }
   ],
   "source": [
    "lista"
   ]
  },
  {
   "cell_type": "code",
   "execution_count": 120,
   "id": "9d7ef4d1-f82c-43ca-9a96-c84e73a024f5",
   "metadata": {},
   "outputs": [
    {
     "data": {
      "text/plain": [
       "['str1', 'str2', 'str3', 'str4', 'str5', 'str6', 'str7', 'str8']"
      ]
     },
     "execution_count": 120,
     "metadata": {},
     "output_type": "execute_result"
    }
   ],
   "source": [
    "# Usuwanie po indeksie, bez zwrotu.\n",
    "del lista[8]\n",
    "lista"
   ]
  },
  {
   "cell_type": "code",
   "execution_count": 121,
   "id": "b7b1d45a-3382-4ffd-aeeb-90a00908897a",
   "metadata": {},
   "outputs": [
    {
     "data": {
      "text/plain": [
       "[]"
      ]
     },
     "execution_count": 121,
     "metadata": {},
     "output_type": "execute_result"
    }
   ],
   "source": [
    "# Wyczyszczenie listy.\n",
    "lista.clear()\n",
    "lista"
   ]
  },
  {
   "cell_type": "code",
   "execution_count": 122,
   "id": "26bfbd14-c07a-4cc0-97c2-a3271b90a630",
   "metadata": {},
   "outputs": [],
   "source": [
    "# Skasowanie listy, całkowicie z pamięci.\n",
    "del lista\n",
    "# lista -> tu będzie błąd, bo lista już nie istnieje"
   ]
  },
  {
   "cell_type": "code",
   "execution_count": 123,
   "id": "f46f2adc-9f8e-4c73-9fe5-03a3434f6e7f",
   "metadata": {},
   "outputs": [],
   "source": [
    "lista = ['str1', 'str2', 'str3', 'str4', 'str5', 'str6', 'str7']"
   ]
  },
  {
   "cell_type": "code",
   "execution_count": 124,
   "id": "e520206d-4358-491b-8c0e-26893bcd9f7c",
   "metadata": {},
   "outputs": [
    {
     "name": "stdout",
     "output_type": "stream",
     "text": [
      "str1\n",
      "str2\n",
      "str3\n",
      "str4\n",
      "str5\n",
      "str6\n",
      "str7\n"
     ]
    }
   ],
   "source": [
    "# For czytający po elementach listy\n",
    "for x in lista:\n",
    "    print(x)"
   ]
  },
  {
   "cell_type": "code",
   "execution_count": 125,
   "id": "255de6c9-3079-4c4f-8e94-0e91b9b445bf",
   "metadata": {},
   "outputs": [
    {
     "name": "stdout",
     "output_type": "stream",
     "text": [
      "0\n",
      "1\n",
      "2\n",
      "3\n",
      "4\n",
      "5\n",
      "6\n"
     ]
    }
   ],
   "source": [
    "# For czytający po indeksach listy\n",
    "for x in range(len(lista)):\n",
    "    print(x)"
   ]
  },
  {
   "cell_type": "code",
   "execution_count": 126,
   "id": "d8ba9fa9-dda0-4f36-924f-9ccb2d089682",
   "metadata": {},
   "outputs": [
    {
     "name": "stdout",
     "output_type": "stream",
     "text": [
      "0\n",
      "str1\n",
      "1\n",
      "str2\n",
      "2\n",
      "str3\n",
      "3\n",
      "str4\n",
      "4\n",
      "str5\n",
      "5\n",
      "str6\n",
      "6\n",
      "str7\n"
     ]
    }
   ],
   "source": [
    "# While czytający\n",
    "i = 0\n",
    "while i < len(lista):\n",
    "    print(i)\n",
    "    print(lista[i])\n",
    "    i += 1    "
   ]
  },
  {
   "cell_type": "code",
   "execution_count": 127,
   "id": "4b9f2e14-dc87-4d75-a54e-8a4ad7441e87",
   "metadata": {},
   "outputs": [
    {
     "name": "stdout",
     "output_type": "stream",
     "text": [
      "str1\n",
      "str2\n",
      "str3\n",
      "str4\n",
      "str5\n",
      "str6\n",
      "str7\n"
     ]
    },
    {
     "data": {
      "text/plain": [
       "[None, None, None, None, None, None, None]"
      ]
     },
     "execution_count": 127,
     "metadata": {},
     "output_type": "execute_result"
    }
   ],
   "source": [
    "# Składnia list comprehension\n",
    "# nowa_lista = [wyrażenie for element in iterowalny if warunek]\n",
    "# wyrażenie to operacja wykonywana na każdym elemencie w iterowalnym.\n",
    "# element to aktualny element w iteracji.\n",
    "# iterowalny to sekwencja elementów do iteracji (np. lista, krotka, ciąg znaków).\n",
    "# warunek (opcjonalnie) to filtr, który zawiera tylko elementy spełniające określone kryterium.\n",
    "[print(x) for x in lista]"
   ]
  },
  {
   "cell_type": "code",
   "execution_count": 128,
   "id": "0eeb4d6d-0d2b-450f-aefe-a79820ed6b00",
   "metadata": {},
   "outputs": [],
   "source": [
    "# newlist = [expression for item in iterable if condition == True]"
   ]
  },
  {
   "cell_type": "code",
   "execution_count": 129,
   "id": "4d4cc9cb-6abb-4730-9645-1da21a02cc3a",
   "metadata": {},
   "outputs": [
    {
     "name": "stdout",
     "output_type": "stream",
     "text": [
      "['apple', 'banana', 'mango']\n"
     ]
    }
   ],
   "source": [
    "fruits = [\"apple\", \"banana\", \"cherry\", \"kiwi\", \"mango\"]\n",
    "newlist = [x for x in fruits if \"a\" in x]\n",
    "print(newlist)"
   ]
  },
  {
   "cell_type": "code",
   "execution_count": 130,
   "id": "48666510-cc2f-4a75-a2b3-9b455fca0b2c",
   "metadata": {},
   "outputs": [
    {
     "name": "stdout",
     "output_type": "stream",
     "text": [
      "['banana', 'cherry', 'kiwi', 'mango']\n"
     ]
    }
   ],
   "source": [
    "newlist = [x for x in fruits if x != \"apple\"]\n",
    "print(newlist)"
   ]
  },
  {
   "cell_type": "code",
   "execution_count": 131,
   "id": "baf87585-f21f-4862-b11e-678a2fb8d965",
   "metadata": {},
   "outputs": [
    {
     "name": "stdout",
     "output_type": "stream",
     "text": [
      "['apple', 'banana', 'cherry', 'kiwi', 'mango']\n"
     ]
    }
   ],
   "source": [
    "newlist = [x for x in fruits]\n",
    "print(newlist)"
   ]
  },
  {
   "cell_type": "code",
   "execution_count": 132,
   "id": "0d5b1af5-8870-4101-9237-2f62e9a88dbe",
   "metadata": {},
   "outputs": [
    {
     "name": "stdout",
     "output_type": "stream",
     "text": [
      "[0, 1, 2, 3, 4, 5, 6, 7, 8, 9]\n"
     ]
    }
   ],
   "source": [
    "newlist = [x for x in range(10)]\n",
    "print(newlist)"
   ]
  },
  {
   "cell_type": "code",
   "execution_count": 133,
   "id": "b6635024-8726-4a71-82a3-272206ca708b",
   "metadata": {},
   "outputs": [
    {
     "name": "stdout",
     "output_type": "stream",
     "text": [
      "[0, 1, 2, 3, 4]\n"
     ]
    }
   ],
   "source": [
    "newlist = [x for x in range(10) if x < 5]\n",
    "print(newlist)"
   ]
  },
  {
   "cell_type": "code",
   "execution_count": 134,
   "id": "22395745-9273-4579-8292-30d610b1b369",
   "metadata": {},
   "outputs": [
    {
     "name": "stdout",
     "output_type": "stream",
     "text": [
      "['APPLE', 'BANANA', 'CHERRY', 'KIWI', 'MANGO']\n"
     ]
    }
   ],
   "source": [
    "newlist = [x.upper() for x in fruits]\n",
    "print(newlist)"
   ]
  },
  {
   "cell_type": "code",
   "execution_count": 135,
   "id": "e1e5353a-145e-410e-9e2d-465fc35e4c78",
   "metadata": {},
   "outputs": [
    {
     "name": "stdout",
     "output_type": "stream",
     "text": [
      "['hello', 'hello', 'hello', 'hello', 'hello']\n"
     ]
    }
   ],
   "source": [
    "newlist = ['hello' for x in fruits]\n",
    "print(newlist)"
   ]
  },
  {
   "cell_type": "code",
   "execution_count": 136,
   "id": "d4f779de-304f-4723-94f8-362bf3337ebd",
   "metadata": {},
   "outputs": [
    {
     "name": "stdout",
     "output_type": "stream",
     "text": [
      "['apple', 'orange', 'cherry', 'kiwi', 'mango']\n"
     ]
    }
   ],
   "source": [
    "newlist = [x if x != \"banana\" else \"orange\" for x in fruits]\n",
    "print(newlist)"
   ]
  },
  {
   "cell_type": "code",
   "execution_count": 137,
   "id": "13f385fa-1d86-4823-a9c3-901a41c9af71",
   "metadata": {},
   "outputs": [
    {
     "name": "stdout",
     "output_type": "stream",
     "text": [
      "[0, 2, 4, 6, 8]\n",
      "[0, 10, 20, 30, 40, 50, 60, 70, 80, 90]\n",
      "[2, 4, 6, 8, 10, 12, 14, 16, 18, 20]\n"
     ]
    }
   ],
   "source": [
    "liczby = [0, 1, 2, 3, 4, 5, 6, 7, 8, 9]\n",
    "parzyste = [i for i in liczby if i % 2 == 0] \n",
    "# wynik z 'i' bedzie dodany do listy 'parzyste', dla karzdej kolejnej 'liczby' która spełna warunek (i modulo 2) = 0 czyli parzysta\n",
    "print(parzyste)\n",
    "\n",
    "parzyste=[i * 10 for i in liczby]\n",
    "# przed przypisaniem każdej i do parzyste pomnóż i przez 10\n",
    "print(parzyste)\n",
    "\n",
    "# totalny skrót\n",
    "print( [i for i in range(1, 21) if i % 2 == 0] )"
   ]
  },
  {
   "cell_type": "code",
   "execution_count": 138,
   "id": "3b1a27b5-2009-4a76-9942-6f703980ea74",
   "metadata": {},
   "outputs": [
    {
     "name": "stdout",
     "output_type": "stream",
     "text": [
      "asd fgh 123 543\n",
      "['asd', 'fgh', '123', '543']\n"
     ]
    }
   ],
   "source": [
    "# Rozdzielenie stringa na listę, wg separatora.\n",
    "napis = 'asd fgh 123 543'\n",
    "lista = napis.split(' ') # separatror ' '\n",
    "print(napis)\n",
    "print(lista)"
   ]
  },
  {
   "cell_type": "code",
   "execution_count": 139,
   "id": "ced816f0-09bc-4955-82bd-53fbc650f1c8",
   "metadata": {},
   "outputs": [
    {
     "name": "stdout",
     "output_type": "stream",
     "text": [
      "asd:fgh:123:543\n"
     ]
    }
   ],
   "source": [
    "# Połączenie listy do stringa, z separatorem.\n",
    "napis = ''\n",
    "singn = ':' # separator\n",
    "napis = singn.join(lista)\n",
    "print(napis)"
   ]
  },
  {
   "cell_type": "markdown",
   "id": "c28e4ac1-40c8-4f57-8281-206cfd6d083f",
   "metadata": {},
   "source": [
    "--------------------------------------------------------------------------------------------------------------------------\n",
    "#### Metody list"
   ]
  },
  {
   "cell_type": "code",
   "execution_count": 140,
   "id": "7ac7fc28-a7d8-4618-9e20-d7d5f955accc",
   "metadata": {},
   "outputs": [],
   "source": [
    "# Dodaje element na końcu listy\n",
    "# append()"
   ]
  },
  {
   "cell_type": "code",
   "execution_count": 141,
   "id": "36461e3a-7141-40ba-a239-3eee9fc99735",
   "metadata": {},
   "outputs": [],
   "source": [
    "# Usuwa wszystkie elementy z listy\n",
    "# clear()\t"
   ]
  },
  {
   "cell_type": "code",
   "execution_count": 142,
   "id": "343cac14-cfe1-4e3d-8c5f-9d5734dc1560",
   "metadata": {},
   "outputs": [
    {
     "name": "stdout",
     "output_type": "stream",
     "text": [
      "['str1', 'str2', 'str1', 'str4', 'str1', 'str6', 'str1'] ['str1', 'str2', 'str1', 'str4', 'str1', 'str6', 'str1']\n",
      "[0, 'str2', 'str1', 'str4', 'str1', 'str6', 'str1'] ['str1', 'str2', 'str1', 'str4', 'str1', 'str6', 'str1']\n"
     ]
    }
   ],
   "source": [
    "# Zwraca kopię listy, kopia w nowym miejscu w pamięci.\n",
    "# copy()\t\n",
    "lista = ['str1', 'str2', 'str1', 'str4', 'str1', 'str6', 'str1']\n",
    "lista_copy = lista.copy()\n",
    "print(lista, lista_copy)\n",
    "lista[0] = 0\n",
    "print(lista, lista_copy)"
   ]
  },
  {
   "cell_type": "code",
   "execution_count": 143,
   "id": "6ff5a63e-05f2-4c7d-ac34-1f1e9f0572d9",
   "metadata": {},
   "outputs": [
    {
     "data": {
      "text/plain": [
       "4"
      ]
     },
     "execution_count": 143,
     "metadata": {},
     "output_type": "execute_result"
    }
   ],
   "source": [
    "# Zwraca liczbę elementów z podaną wartością\n",
    "# count()\t\n",
    "lista = ['str1', 'str2', 'str1', 'str4', 'str1', 'str6', 'str1']\n",
    "lista.count('str1')"
   ]
  },
  {
   "cell_type": "code",
   "execution_count": 144,
   "id": "8682573d-562f-48a2-8fb7-a1a322f8fbcb",
   "metadata": {},
   "outputs": [],
   "source": [
    "# Dodaje elementy listy (lub dowolnej kolekcji) na koniec bieżącej listy.\n",
    "# extend()\t"
   ]
  },
  {
   "cell_type": "code",
   "execution_count": 145,
   "id": "ddb47ed5-092a-4fdc-bd0f-6e3a6985f356",
   "metadata": {},
   "outputs": [
    {
     "data": {
      "text/plain": [
       "1"
      ]
     },
     "execution_count": 145,
     "metadata": {},
     "output_type": "execute_result"
    }
   ],
   "source": [
    "# Zwraca indeks pierwszego elementu z podaną wartością\n",
    "# index()\t\n",
    "lista = [\"banana\", \"apple\", \"kiwi\", \"cherry\", \"mango\"]\n",
    "lista.index('apple')"
   ]
  },
  {
   "cell_type": "code",
   "execution_count": 146,
   "id": "03202768-c6ab-4ff9-a755-7658053caf7f",
   "metadata": {},
   "outputs": [],
   "source": [
    "# Dodaje element w określonej pozycji\n",
    "# insert()\t"
   ]
  },
  {
   "cell_type": "code",
   "execution_count": 147,
   "id": "8b3a2a47-e2be-46dc-bf2d-874e32fd67da",
   "metadata": {},
   "outputs": [],
   "source": [
    "# Usuwa element w określonej pozycji\n",
    "# pop()\t"
   ]
  },
  {
   "cell_type": "code",
   "execution_count": 148,
   "id": "e58a41f9-7fb9-4555-a9fc-34e311f8545c",
   "metadata": {},
   "outputs": [],
   "source": [
    "# Usuwa element z podaną wartością\n",
    "# remove()\t"
   ]
  },
  {
   "cell_type": "code",
   "execution_count": 149,
   "id": "dd7dee56-549b-44b0-b934-c0eeaa992c4e",
   "metadata": {},
   "outputs": [
    {
     "name": "stdout",
     "output_type": "stream",
     "text": [
      "['banana', 'apple', 'kiwi', 'cherry', 'mango']\n",
      "['mango', 'cherry', 'kiwi', 'apple', 'banana']\n"
     ]
    }
   ],
   "source": [
    "# Odwraca kolejność listy\n",
    "# reverse()\t\n",
    "lista = [\"banana\", \"apple\", \"kiwi\", \"cherry\", \"mango\"]\n",
    "print(lista)\n",
    "lista.reverse()\n",
    "print(lista)"
   ]
  },
  {
   "cell_type": "code",
   "execution_count": 150,
   "id": "c1f5e377-5522-4644-b2ea-2ac090f0bc2c",
   "metadata": {},
   "outputs": [
    {
     "name": "stdout",
     "output_type": "stream",
     "text": [
      "['banana', 'apple', 'kiwi', 'cherry', 'mango']\n",
      "['apple', 'banana', 'cherry', 'kiwi', 'mango']\n",
      "['mango', 'kiwi', 'cherry', 'banana', 'apple']\n"
     ]
    }
   ],
   "source": [
    "# Sortuje listę, i zapamiętuje wynik sortowania w liście\n",
    "# sort()\n",
    "lista = [\"banana\", \"apple\", \"kiwi\", \"cherry\", \"mango\"]\n",
    "print(lista)\n",
    "lista.sort()\n",
    "print(lista)\n",
    "lista.sort(reverse=True)\n",
    "print(lista)"
   ]
  },
  {
   "cell_type": "code",
   "execution_count": 151,
   "id": "cce5eb41-5ed3-4954-a87a-5871491a1488",
   "metadata": {},
   "outputs": [
    {
     "name": "stdout",
     "output_type": "stream",
     "text": [
      "['apple', 'banana', 'cherry', 'kiwi', 'mango']\n",
      "['banana', 'apple', 'kiwi', 'cherry', 'mango']\n"
     ]
    }
   ],
   "source": [
    "# Sortuje listę jako wyjście, i nie zapamiętuje wyniku.\n",
    "lista = [\"banana\", \"apple\", \"kiwi\", \"cherry\", \"mango\"]\n",
    "print(sorted(lista))\n",
    "print(lista)"
   ]
  },
  {
   "cell_type": "code",
   "execution_count": 152,
   "id": "3a7a744a-41a9-4a7d-bfe9-fb33483deb02",
   "metadata": {},
   "outputs": [
    {
     "name": "stdout",
     "output_type": "stream",
     "text": [
      "1\n",
      "2\n",
      "3\n",
      "1\n",
      "2\n",
      "3\n",
      "[4, 5, 6, 7, 8, 9]\n",
      "1\n",
      "2\n",
      "3\n",
      "[4, 5, 6, 7, 8]\n",
      "9\n"
     ]
    }
   ],
   "source": [
    "# Listy o automatycznych długościach\n",
    "lista = [1, 2, 3]\n",
    "a, b, c = [1, 2, 3]\n",
    "print(a) # 1\n",
    "print(b) # 2\n",
    "print(c) # 3\n",
    "\n",
    "a, b, c, *other = [1, 2, 3, 4, 5, 6, 7, 8, 9]\n",
    "print(a) # 1\n",
    "print(b) # 2\n",
    "print(c) # 3\n",
    "print(other) # [4, 5, 6, 7, 8, 9]\n",
    "\n",
    "a, b, c, *other, d = [1, 2, 3, 4, 5, 6, 7, 8, 9]\n",
    "print(a) # 1\n",
    "print(b) # 2\n",
    "print(c) # 3\n",
    "print(other) # [4, 5, 6, 7, 8]\n",
    "print(d) # 9\n"
   ]
  },
  {
   "cell_type": "code",
   "execution_count": 153,
   "id": "8a9680e4-cd38-4780-b1ff-71f85087ddd1",
   "metadata": {},
   "outputs": [
    {
     "name": "stdout",
     "output_type": "stream",
     "text": [
      "[[1, 2, 3], ['asd', 34.32, 'qwe'], [43.76, 123.32, 65.23, 1, 2]]\n",
      "[1, 2, 3]\n",
      "['asd', 34.32, 'qwe']\n",
      "[43.76, 123.32, 65.23, 1, 2]\n",
      "2\n"
     ]
    }
   ],
   "source": [
    "# Listy list (wielowymiarowość)\n",
    "lista = [[1, 2, 3], [\"asd\", 34.32, 'qwe'], [43.76, 123.32, 65.23, 1, 2]]\n",
    "print(lista)  # wszystkie listy\n",
    "print(lista[0])  # poszczególna lista\n",
    "print(lista[1])\n",
    "print(lista[2])\n",
    "print(lista[0][1])  # element w liście z listy"
   ]
  },
  {
   "cell_type": "markdown",
   "id": "f9c17cb8-f917-4a7d-b491-ec4e50c70556",
   "metadata": {
    "jp-MarkdownHeadingCollapsed": true
   },
   "source": [
    "--------------------------------------------------------------------------------------------------------------------------\n",
    "#### Kolekcje: tuples"
   ]
  },
  {
   "cell_type": "code",
   "execution_count": 154,
   "id": "423a9b09-0d06-4ece-bfce-1a4d0c665cbb",
   "metadata": {},
   "outputs": [
    {
     "name": "stdout",
     "output_type": "stream",
     "text": [
      "('asd', 123, 165, -1.234)\n",
      "[111, 222, '333', True, 1.23] (111, 222, '333', True, 1.23)\n",
      "(222, '333', True, 1.23)\n"
     ]
    }
   ],
   "source": [
    "# To samo ci listy tylko po utworzeniu nie można ich modyfikować.\n",
    "lista = [111,222,'333', True, 1.23]\n",
    "krotka = ('asd', 123, 0xa5, -1.234)\n",
    "print(krotka)\n",
    "krotka = tuple() # inicjalizacja pustej krotki\n",
    "krotka = () # jw\n",
    "krotka = tuple(lista) # kopia z listy do krotki, jak si niedoda rzutowania to powstanie lista\n",
    "# krotka to szybki dostęp do danych\n",
    "print(lista, krotka)\n",
    "print(krotka[1:]) # dostęp do odczytu z krotki jest takisam jak z listy"
   ]
  },
  {
   "cell_type": "code",
   "execution_count": 155,
   "id": "16c490fd-91ba-4e47-8b7d-000b0fcb80fb",
   "metadata": {},
   "outputs": [],
   "source": [
    "# Metody"
   ]
  },
  {
   "cell_type": "code",
   "execution_count": 156,
   "id": "c63d513b-c5f9-43de-b786-75a48f0ddc22",
   "metadata": {},
   "outputs": [
    {
     "data": {
      "text/plain": [
       "4"
      ]
     },
     "execution_count": 156,
     "metadata": {},
     "output_type": "execute_result"
    }
   ],
   "source": [
    "# Zwraca liczbę elementów z podaną wartością\n",
    "# count()\t\n",
    "krotka = ('str1', 'str2', 'str1', 'str4', 'str1', 'str6', 'str1')\n",
    "krotka.count('str1')"
   ]
  },
  {
   "cell_type": "code",
   "execution_count": 157,
   "id": "a7d12fda-770d-4b78-9b2c-c08aafd8a513",
   "metadata": {},
   "outputs": [
    {
     "data": {
      "text/plain": [
       "1"
      ]
     },
     "execution_count": 157,
     "metadata": {},
     "output_type": "execute_result"
    }
   ],
   "source": [
    "# Zwraca indeks pierwszego elementu z podaną wartością\n",
    "# index()\t\n",
    "krotka = (\"banana\", \"apple\", \"kiwi\", \"cherry\", \"mango\")\n",
    "krotka.index('apple')"
   ]
  },
  {
   "cell_type": "markdown",
   "id": "2a456104-de0b-4bb4-a806-2f7569b67d87",
   "metadata": {},
   "source": [
    "--------------------------------------------------------------------------------------------------------------------------\n",
    "#### Kolekcje: range"
   ]
  },
  {
   "cell_type": "markdown",
   "id": "c5c1e022-7b6d-4aa2-aa0c-d2205193da9c",
   "metadata": {},
   "source": [
    "--------------------------------------------------------------------------------------------------------------------------\n",
    "#### Kolekcje: dict"
   ]
  },
  {
   "cell_type": "markdown",
   "id": "1452eca7-948e-4a15-af09-4d1cddb3a925",
   "metadata": {
    "jp-MarkdownHeadingCollapsed": true
   },
   "source": [
    "--------------------------------------------------------------------------------------------------------------------------\n",
    "#### Kolekcje: set, frozenset"
   ]
  },
  {
   "cell_type": "markdown",
   "id": "95c68f2b-744e-478b-b7c2-6336c5280dd9",
   "metadata": {},
   "source": [
    "--------------------------------------------------------------------------------------------------------------------------\n",
    "#### Typ logiczny: bool"
   ]
  },
  {
   "cell_type": "code",
   "execution_count": 158,
   "id": "6565efb0-8215-4c1a-9114-d8318c74075c",
   "metadata": {},
   "outputs": [
    {
     "name": "stdout",
     "output_type": "stream",
     "text": [
      "True <class 'bool'>\n",
      "False\n",
      "x = True\n",
      "x = True\n",
      "out = False\n",
      "out = False\n",
      "out = True\n",
      "out = True\n",
      "False\n",
      "False\n",
      "False\n",
      "False\n",
      "False\n",
      "False\n",
      "False\n",
      "False\n"
     ]
    }
   ],
   "source": [
    "# bool\n",
    "\n",
    "'''\n",
    "x != y\n",
    "x == y \n",
    "x > y\n",
    "x < y\n",
    "x >= y\n",
    "x <= y\n",
    "x is y (==)\n",
    "x is not y (!=) \n",
    "x and y\n",
    "x or y\n",
    "x not y\n",
    "'a' in 'abc' # sprawdza czy 'a' zawiera się stringu w 'abc' w tym przypadku to True\n",
    "'''\n",
    "\n",
    "x = True\n",
    "# x = False\n",
    "print(x, type(x))\n",
    "print(x < 0)\n",
    "print(f'x = {x}')\n",
    "print('x =', x)\n",
    "print(f'out = {x == 0}')\n",
    "print(f'out = {x < 0}')\n",
    "print(f'out = {x != 0}')\n",
    "print(f'out = {x > 0}')\n",
    "print(bool(False))\n",
    "print(bool(None))\n",
    "print(bool(0))\n",
    "print(bool(''))\n",
    "print(bool(\"\"))\n",
    "print(bool(()))\n",
    "print(bool([]))\n",
    "print(bool({}))"
   ]
  },
  {
   "cell_type": "markdown",
   "id": "1a8e71f1-5bb3-455b-803f-4344c733bbc3",
   "metadata": {},
   "source": [
    "--------------------------------------------------------------------------------------------------------------------------\n",
    "#### Dane binarne: bytes, bytearray, memoryview"
   ]
  },
  {
   "cell_type": "markdown",
   "id": "8971105d-e83d-4bef-89be-b7d78957c906",
   "metadata": {},
   "source": [
    "--------------------------------------------------------------------------------------------------------------------------\n",
    "#### None"
   ]
  },
  {
   "cell_type": "markdown",
   "id": "369e83d1-2daa-476c-8d7b-b987ffb7ee20",
   "metadata": {},
   "source": [
    "--------------------------------------------------------------------------------------------------------------------------\n",
    "#### Tablice"
   ]
  },
  {
   "cell_type": "markdown",
   "id": "8776e8a9-184e-48ef-83f9-762b38fbb2f3",
   "metadata": {},
   "source": [
    "--------------------------------------------------------------------------------------------------------------------------\n",
    "## 04. Random, liczby losowe (podstawy)."
   ]
  },
  {
   "cell_type": "code",
   "execution_count": 159,
   "id": "fede3138-c9af-41bc-b444-45f4e76d15c2",
   "metadata": {},
   "outputs": [
    {
     "data": {
      "text/plain": [
       "64"
      ]
     },
     "execution_count": 159,
     "metadata": {},
     "output_type": "execute_result"
    }
   ],
   "source": [
    "import random\n",
    "# random.seed(42) # inicjalizacja generatora liczb pseudolosowych od początkowego stanu\n",
    "random.randrange(start=-100, stop=100, step=2) # od -100 do 99, losuje co 2 czyli tylko przyste"
   ]
  },
  {
   "cell_type": "code",
   "execution_count": 160,
   "id": "19809fec-d7c1-481f-907a-b1437d2cef02",
   "metadata": {},
   "outputs": [
    {
     "data": {
      "text/plain": [
       "-1"
      ]
     },
     "execution_count": 160,
     "metadata": {},
     "output_type": "execute_result"
    }
   ],
   "source": [
    "random.randint(-10, 11) # od -10 do 10"
   ]
  },
  {
   "cell_type": "code",
   "execution_count": 161,
   "id": "b490ad99-a6e6-411b-8add-f5f06efd9cc8",
   "metadata": {},
   "outputs": [
    {
     "data": {
      "text/plain": [
       "0.4816673195305665"
      ]
     },
     "execution_count": 161,
     "metadata": {},
     "output_type": "execute_result"
    }
   ],
   "source": [
    "random.random() # od 0 do 1"
   ]
  },
  {
   "cell_type": "markdown",
   "id": "a835cb65-8902-40c2-9e2b-daaaf8fab4d5",
   "metadata": {},
   "source": [
    "--------------------------------------------------------------------------------------------------------------------------\n",
    "## 05. Input i Print."
   ]
  },
  {
   "cell_type": "code",
   "execution_count": 162,
   "id": "a32a97df-53fd-4a46-aefb-68049c1f12fd",
   "metadata": {},
   "outputs": [
    {
     "data": {
      "text/plain": [
       "[190, 231, 85, 106, 95, 66, 69, 137, 73, 92]"
      ]
     },
     "execution_count": 162,
     "metadata": {},
     "output_type": "execute_result"
    }
   ],
   "source": [
    "listaR = list(random.randbytes(10)) # generuje określoną liczbę bajtów\n",
    "listaR"
   ]
  },
  {
   "cell_type": "code",
   "execution_count": 163,
   "id": "23736f24-8ecc-413a-8c64-54405c0b67de",
   "metadata": {},
   "outputs": [],
   "source": [
    "# Wprowadzanie tekdtu ze standardowego wejścia (np. klawiatura).\n",
    "# strIn = input('wprowadź tekst i zatwierdź enterem:') \n",
    "# strIn"
   ]
  },
  {
   "cell_type": "code",
   "execution_count": 164,
   "id": "09deb72d-46bd-479a-bd4f-20c23f5415d2",
   "metadata": {},
   "outputs": [
    {
     "name": "stdout",
     "output_type": "stream",
     "text": [
      "test tekst\n"
     ]
    }
   ],
   "source": [
    "# Wysyłanie tekstu na standardowe wyjście.\n",
    "print('test tekst')"
   ]
  },
  {
   "cell_type": "code",
   "execution_count": 165,
   "id": "32aaae63-5b68-45a1-abde-a3e50968e376",
   "metadata": {},
   "outputs": [
    {
     "name": "stdout",
     "output_type": "stream",
     "text": [
      "True 5j (-0-5j)\n"
     ]
    }
   ],
   "source": [
    "print(x, y, z)"
   ]
  },
  {
   "cell_type": "code",
   "execution_count": 166,
   "id": "5ce7dd7e-62f4-42d1-8723-7ea1316a1fbf",
   "metadata": {},
   "outputs": [
    {
     "name": "stdout",
     "output_type": "stream",
     "text": [
      "opis True, 5j, (-0-5j)\n"
     ]
    }
   ],
   "source": [
    "# Sformatowany tekst ze zmniennymi.\n",
    "print(f'opis {x}, {y}, {z}')"
   ]
  },
  {
   "cell_type": "code",
   "execution_count": 167,
   "id": "a81d0034-1da2-448e-a34d-10b480bd05e3",
   "metadata": {},
   "outputs": [
    {
     "name": "stdout",
     "output_type": "stream",
     "text": [
      "napis = string : int = 1234\n"
     ]
    }
   ],
   "source": [
    "# Sformatowany print podobny do printf z C.\n",
    "sVal = 'string'\n",
    "iVal = 1234\n",
    "print(\"napis = %s : int = %i\" % (sVal, iVal))"
   ]
  },
  {
   "cell_type": "markdown",
   "id": "acc3555e-d6f4-4698-99dd-80b159739dff",
   "metadata": {},
   "source": [
    "--------------------------------------------------------------------------------------------------------------------------\n",
    "## 06. Rzutowanie (casting)."
   ]
  },
  {
   "cell_type": "code",
   "execution_count": 168,
   "id": "038c657c-76b3-4d3a-acec-e176c222b5f8",
   "metadata": {},
   "outputs": [
    {
     "data": {
      "text/plain": [
       "('3', 34, 2.0, str, int, float)"
      ]
     },
     "execution_count": 168,
     "metadata": {},
     "output_type": "execute_result"
    }
   ],
   "source": [
    "x = str(3)\n",
    "y = int(34)\n",
    "z = float(2)\n",
    "x, y, z, type(x), type(y), type(z)"
   ]
  },
  {
   "cell_type": "code",
   "execution_count": 169,
   "id": "8c19bb2a-08aa-4f5c-9ed5-15d174aa813d",
   "metadata": {},
   "outputs": [
    {
     "data": {
      "text/plain": [
       "(1, 2.8, 1j, 1.0, 2, (1+0j))"
      ]
     },
     "execution_count": 169,
     "metadata": {},
     "output_type": "execute_result"
    }
   ],
   "source": [
    "x = 1    # int\n",
    "y = 2.8  # float\n",
    "z = 1j   # complex\n",
    "a = float(x) # z int na float\n",
    "b = int(y) # z float na int\n",
    "c = complex(x) # z int na complex\n",
    "x, y, z, a, b, c"
   ]
  },
  {
   "cell_type": "code",
   "execution_count": 170,
   "id": "8479c876-f7b5-49d3-94bb-8d2f6fb00291",
   "metadata": {},
   "outputs": [
    {
     "data": {
      "text/plain": [
       "(1, 2, 3)"
      ]
     },
     "execution_count": 170,
     "metadata": {},
     "output_type": "execute_result"
    }
   ],
   "source": [
    "# Na int.\n",
    "x = int(1)  \n",
    "y = int(2.8) \n",
    "z = int(\"3\") \n",
    "x, y, z"
   ]
  },
  {
   "cell_type": "code",
   "execution_count": 171,
   "id": "2aa19d19-ceca-4cdf-b1fe-5638f8f41c18",
   "metadata": {},
   "outputs": [
    {
     "data": {
      "text/plain": [
       "(1.0, 2.8, 3.0, 4.2)"
      ]
     },
     "execution_count": 171,
     "metadata": {},
     "output_type": "execute_result"
    }
   ],
   "source": [
    "# Na float.\n",
    "x = float(1)    \n",
    "y = float(2.8)  \n",
    "z = float(\"3\")  \n",
    "w = float(\"4.2\")\n",
    "x, y, z, w"
   ]
  },
  {
   "cell_type": "code",
   "execution_count": 172,
   "id": "dcddfc91-0996-4447-b7c7-746cd7563f9c",
   "metadata": {},
   "outputs": [
    {
     "data": {
      "text/plain": [
       "('s1', '2', '3.0')"
      ]
     },
     "execution_count": 172,
     "metadata": {},
     "output_type": "execute_result"
    }
   ],
   "source": [
    "# Na String.\n",
    "x = str(\"s1\") \n",
    "y = str(2)    \n",
    "z = str(3.0)  \n",
    "x, y, z"
   ]
  },
  {
   "cell_type": "markdown",
   "id": "898b3d6b-bed0-4cdd-b9e0-04587fc73ad3",
   "metadata": {},
   "source": [
    "--------------------------------------------------------------------------------------------------------------------------\n",
    "## 08. Operatory."
   ]
  },
  {
   "cell_type": "code",
   "execution_count": 173,
   "id": "f84cbb5c-352b-4ac0-b9ab-f3288aae504d",
   "metadata": {},
   "outputs": [
    {
     "name": "stdout",
     "output_type": "stream",
     "text": [
      "13\n",
      "7\n",
      "30\n",
      "3.3333333333333335\n",
      "3\n",
      "1\n",
      "1000\n"
     ]
    }
   ],
   "source": [
    "# Operatory arytmetyczne.\n",
    "'''\n",
    "** -> potęgowanie\n",
    "* -> mnożenie\n",
    "/ -> dzielenie\n",
    "// -> dzielenie całkowite\n",
    "% -> reszta z dzielenia (jak jest podzielne całkowicie == 0)\n",
    "+ -> dodawanie\n",
    "- -> odejmowanie\n",
    "operacje '+' na napisach to konkatencja (sklejanie)\n",
    "'''\n",
    "a = 10\n",
    "b = 3\n",
    "print(a + b)  # Wynik: 13\n",
    "print(a - b)  # Wynik: 7\n",
    "print(a * b)  # Wynik: 30\n",
    "print(a / b)  # Wynik: 3.3333333333333335\n",
    "print(a // b) # Wynik: 3\n",
    "print(a % b)  # Wynik: 1\n",
    "print(a ** b) # Wynik: 1000"
   ]
  },
  {
   "cell_type": "code",
   "execution_count": 174,
   "id": "dff4379d-d636-4cde-9a59-a501197f9eda",
   "metadata": {},
   "outputs": [
    {
     "data": {
      "text/plain": [
       "''"
      ]
     },
     "execution_count": 174,
     "metadata": {},
     "output_type": "execute_result"
    }
   ],
   "source": [
    "# Operatory przypisania.\n",
    "'''\n",
    "=\t->  x = 5\n",
    "+=\t->  x += 3\t->  x = x + 3\t\n",
    "-=\t->  x -= 3\t->  x = x - 3\t\n",
    "*=\t->  x *= 3\t->  x = x * 3\t\n",
    "/=\t->  x /= 3\t->  x = x / 3\t\n",
    "%=\t->  x %= 3\t->  x = x % 3\t\n",
    "//=\t->  x //= 3\t->  x = x // 3\t\n",
    "**=\t->  x **= 3\t->  x = x ** 3\t\n",
    "&=\t->  x &= 3\t->  x = x & 3\t\n",
    "|=\t->  x |= 3\t->  x = x | 3\t\n",
    "^=\t->  x ^= 3\t->  x = x ^ 3\t\n",
    ">>=\t->  x >>= 3\t->  x = x >> 3\t\n",
    "<<=\t->  x <<= 3\t->  x = x << 3\n",
    "'''\n",
    ";"
   ]
  },
  {
   "cell_type": "code",
   "execution_count": 175,
   "id": "0209e7d2-0104-47d8-9b58-d5980575afd7",
   "metadata": {},
   "outputs": [
    {
     "name": "stdout",
     "output_type": "stream",
     "text": [
      "False\n",
      "True\n",
      "True\n",
      "False\n",
      "True\n",
      "False\n"
     ]
    }
   ],
   "source": [
    "# Operatory porównania.\n",
    "'''\n",
    "==\trówny\t            x == y\t\n",
    "!=\tnie równy\t        x != y\t\n",
    ">\twiększy\t            x > y\t\n",
    "<\tmniejszy            x < y\t\n",
    ">=\twiększy lub równy\tx >= y\t\n",
    "<=\tmniejszy lub równy\tx <= y\n",
    "'''\n",
    "a = 5\n",
    "b = 3\n",
    "print(a == b)  # False\n",
    "print(a != b)  # True\n",
    "print(a > b)   # True\n",
    "print(a < b)   # False\n",
    "print(a >= b)  # True\n",
    "print(a <= b)  # False"
   ]
  },
  {
   "cell_type": "code",
   "execution_count": 176,
   "id": "9051a0e2-2eaa-4c29-8458-13d527bedd44",
   "metadata": {},
   "outputs": [
    {
     "name": "stdout",
     "output_type": "stream",
     "text": [
      "True\n",
      "True\n",
      "False\n"
     ]
    }
   ],
   "source": [
    "# Operatory logiczne.\n",
    "'''\n",
    "and -> True jeżeli obydwie strony takie same\n",
    "or -> True jeżeli jedna luib dwie strony takiesame\n",
    "not -> Odwrócenie wyniku\n",
    "'''\n",
    "x = 5\n",
    "y = 10\n",
    "print(x > 0 and y < 20)  # True, ponieważ oba warunki są spełnione\n",
    "print(x < 0 or y < 20)   # True, ponieważ przynajmniej jeden warunek jest spełniony\n",
    "print(not(x > 0 and y < 20))  # False, ponieważ wynik z operatora and jest True, a not odwraca wartość"
   ]
  },
  {
   "cell_type": "code",
   "execution_count": 177,
   "id": "c53192aa-7e2f-42d8-b606-902a249e3ca7",
   "metadata": {},
   "outputs": [
    {
     "name": "stdout",
     "output_type": "stream",
     "text": [
      "False\n",
      "True\n",
      "True\n",
      "True\n"
     ]
    }
   ],
   "source": [
    "# Operatory tożsamości(identity operators).\n",
    "# Służą do porównywania tożsamości obiektów. \n",
    "# Każdy obiekt ma swoją unikalną tożsamość, którą można uzyskać za pomocą funkcji wbudowanej id(). \n",
    "# Operatorzy tożsamości to 'is' i 'is not'.\n",
    "'''\n",
    "Operator is: Zwraca True, jeśli oba obiekty wskazują na tę samą lokalizację w pamięci.\n",
    "Operator is not: Zwraca True, jeśli obiekty nie wskazują na tę samą lokalizację w pamięci.\n",
    "'''\n",
    "x = [1, 2, 3]\n",
    "y = [1, 2, 3]\n",
    "print(x is y)  # False, ponieważ x i y wskazują na różne lokalizacje w pamięci\n",
    "a = 5\n",
    "b = 5\n",
    "print(a is b)  # True, ponieważ a i b wskazują na tę samą lokalizację w pamięci\n",
    "c = \"hello\"\n",
    "d = \"hello\"\n",
    "print(c is d)  # True, ponieważ c i d wskazują na tę samą lokalizację w pamięci\n",
    "e = [1, 2, 3]\n",
    "f = e\n",
    "print(e is f)  # True, ponieważ e i f wskazują na tę samą lokalizację w pamięci"
   ]
  },
  {
   "cell_type": "code",
   "execution_count": 178,
   "id": "91969778-3486-4aa8-8476-7afcdbe0a448",
   "metadata": {},
   "outputs": [
    {
     "name": "stdout",
     "output_type": "stream",
     "text": [
      "True\n",
      "False\n",
      "True\n",
      "True\n"
     ]
    }
   ],
   "source": [
    "# Operatory członkostwa (Membership Operators).\n",
    "# Służą do sprawdzania przynależności elementu do zbioru danych. \n",
    "# Lista operatorów członkostwa wraz z ich funkcjami:\n",
    "'''\n",
    "in: Zwraca True, jeśli dany element znajduje się w zbiorze danych.\n",
    "not in: Zwraca True, jeśli dany element nie znajduje się w zbiorze danych.\n",
    "'''\n",
    "listaNum = [1, 2, 3, 4, 5]\n",
    "print(3 in listaNum)    # True, ponieważ 3 znajduje się w liście\n",
    "print(6 in listaNum)    # False, ponieważ 6 nie znajduje się w liście\n",
    "\n",
    "napis = \"Python\"\n",
    "print(\"y\" in napis)       # True, ponieważ \"y\" znajduje się w napisie\n",
    "print(\"z\" not in napis)   # True, ponieważ \"z\" nie znajduje się w napisie"
   ]
  },
  {
   "cell_type": "code",
   "execution_count": 179,
   "id": "e2664de2-fb84-4adb-a3a2-dc0ffddcc280",
   "metadata": {},
   "outputs": [
    {
     "name": "stdout",
     "output_type": "stream",
     "text": [
      "12\n",
      "61\n",
      "49\n",
      "-61\n",
      "240\n",
      "15\n"
     ]
    }
   ],
   "source": [
    "# Operatory bitowe (Bitwise Operators).\n",
    "# Pozwalają wykonywać operacje na poziomie bitów na liczbach całkowitych. \n",
    "# Lista operatorów bitowych wraz z ich funkcjami:\n",
    "'''\n",
    "& - Bitowa koniunkcja (AND): Zwraca 1, jeśli oba bity są ustawione na 1.\n",
    "| - Bitowa alternatywa (OR): Zwraca 1, jeśli przynajmniej jeden z bitów jest ustawiony na 1.\n",
    "^ - Bitowa alternatywa wykluczająca (XOR): Zwraca 1, jeśli tylko jeden z bitów jest ustawiony na 1 (ale nie oba).\n",
    "~ - Bitowa negacja (NOT): Zwraca wartość negacji bitowej danego bitu (jeden komplement).\n",
    "<< - Przesunięcie bitowe w lewo: Przesuwa bity liczby w lewo o określoną liczbę pozycji, wstawiając zera na prawo.\n",
    ">> - Przesunięcie bitowe w prawo: Przesuwa bity liczby w prawo o określoną liczbę pozycji, wstawiając zera na lewo.\n",
    "'''\n",
    "a = 60  # Wartość binarna: 0011 1100\n",
    "b = 13  # Wartość binarna: 0000 1101\n",
    "\n",
    "print(a & b)  # Wynik: 12 (binarnie: 0000 1100)\n",
    "print(a | b)  # Wynik: 61 (binarnie: 0011 1101)\n",
    "print(a ^ b)  # Wynik: 49 (binarnie: 0011 0001)\n",
    "print(~a)     # Wynik: -61 (binarnie: 1100 0011)\n",
    "print(a << 2) # Wynik: 240 (binarnie: 1111 0000)\n",
    "print(a >> 2) # Wynik: 15 (binarnie: 0000 1111)"
   ]
  },
  {
   "cell_type": "code",
   "execution_count": 180,
   "id": "6d3b4a8f-4ca8-41e8-bdf4-ac1ce3c601fe",
   "metadata": {},
   "outputs": [],
   "source": [
    "# Kolejność operatorów.\n",
    "# ()\t                                             Parentheses\t\n",
    "# **\t                                             Exponentiation\t\n",
    "# +x  -x  ~x\t                                     Unary plus, unary minus, and bitwise NOT\t\n",
    "# *  /  //  %\t                                     Multiplication, division, floor division, and modulus\t\n",
    "# +  -\t                                         Addition and subtraction\t\n",
    "# <<  >>\t                                         Bitwise left and right shifts\t\n",
    "# &\t                                             Bitwise AND\t\n",
    "# ^\t                                             Bitwise XOR\t\n",
    "# |\t                                             Bitwise OR\t\n",
    "# ==  !=  >  >=  <  <=  is  is not  in  not in \t Comparisons, identity, and membership operators\t\n",
    "# not\t                                             Logical NOT\t\n",
    "# and\t                                             AND\t\n",
    "# or\t                                             OR"
   ]
  },
  {
   "cell_type": "code",
   "execution_count": 181,
   "id": "36fb5389-76ea-4fe9-b732-5cacdec9b16c",
   "metadata": {},
   "outputs": [
    {
     "name": "stdout",
     "output_type": "stream",
     "text": [
      "ok\n"
     ]
    }
   ],
   "source": [
    "# Operatorem warunkowy (thernary operator).\n",
    "# zmienna = wartość_wyrażenia_true if warunek else wartość_wyrażenia_false\n",
    "# warunek to warunek logiczny, który jest sprawdzany.\n",
    "# wartość_wyrażenia_true to wartość przypisywana do zmiennej, jeśli warunek jest prawdziwy.\n",
    "# wartość_wyrażenia_false to wartość przypisywana do zmiennej, jeśli warunek jest fałszywy.\n",
    "war1 = True\n",
    "war2 = False\n",
    "print('ok') if (war1) else print('else')\n",
    "#\"wykonaj\" if \"warunek\" else \"wykonaj to\""
   ]
  },
  {
   "cell_type": "code",
   "execution_count": null,
   "id": "18607eaf-83e6-420c-a7a5-5633461f872b",
   "metadata": {},
   "outputs": [],
   "source": []
  }
 ],
 "metadata": {
  "kernelspec": {
   "display_name": "Torch Learn",
   "language": "python",
   "name": "python3"
  },
  "language_info": {
   "codemirror_mode": {
    "name": "ipython",
    "version": 3
   },
   "file_extension": ".py",
   "mimetype": "text/x-python",
   "name": "python",
   "nbconvert_exporter": "python",
   "pygments_lexer": "ipython3",
   "version": "3.12.1"
  },
  "widgets": {
   "application/vnd.jupyter.widget-state+json": {
    "state": {},
    "version_major": 2,
    "version_minor": 0
   }
  }
 },
 "nbformat": 4,
 "nbformat_minor": 5
}
