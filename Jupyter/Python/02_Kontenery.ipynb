{
 "cells": [
  {
   "cell_type": "markdown",
   "id": "5493ec0c-34fc-4e05-8914-71e8d71b3859",
   "metadata": {},
   "source": [
    "## 01. Listy."
   ]
  },
  {
   "cell_type": "code",
   "execution_count": 1,
   "id": "208a36a8-5c12-4652-b5fd-0d2fefbee49b",
   "metadata": {},
   "outputs": [
    {
     "data": {
      "text/plain": [
       "([], [])"
      ]
     },
     "execution_count": 1,
     "metadata": {},
     "output_type": "execute_result"
    }
   ],
   "source": [
    "# Lista jest dynamiczną strukturą danych, która może przechowywać elementy różnych typów. \n",
    "# Listy są elastyczne i pozwalają na dodawanie, usuwanie oraz modyfikowanie elementów. \n",
    "'''\n",
    "* jest sekwencja elementów\n",
    "* elementy mogą być dowolnego typu\n",
    "* mogą być mieszane na jednej liście\n",
    "* liste tworzy się za pomocą nawiasów kwadratowych []\n",
    "'''\n",
    "# Tworzenie pustej listy.\n",
    "lista_pusta = [] \n",
    "lista = list() # jw.\n",
    "lista_pusta, lista"
   ]
  },
  {
   "cell_type": "code",
   "execution_count": 2,
   "id": "261f02cf-c951-4c13-b397-6e48853449f2",
   "metadata": {},
   "outputs": [
    {
     "data": {
      "text/plain": [
       "['asdf', 34, 'asddf', 654, 45, 2.345, 'ssdf', '3245234']"
      ]
     },
     "execution_count": 2,
     "metadata": {},
     "output_type": "execute_result"
    }
   ],
   "source": [
    "# Tworzenie listy z kilkoma elementami, lista nie musi zawierać elementów jednego typu.\n",
    "lista = ['asdf', 34, \"asddf\", 654, 45, 2.345, \"ssdf\", \"3245234\"] \n",
    "lista"
   ]
  },
  {
   "cell_type": "code",
   "execution_count": 3,
   "id": "3bcc3dd5-df9a-4ad2-bb42-f5b07cdc2f3d",
   "metadata": {},
   "outputs": [
    {
     "data": {
      "text/plain": [
       "[6,\n",
       " '2222',\n",
       " 20,\n",
       " 'asda',\n",
       " 99,\n",
       " 'e',\n",
       " 'x',\n",
       " 't',\n",
       " 'e',\n",
       " 'n',\n",
       " 'd',\n",
       " ['extend'],\n",
       " ['asdf'],\n",
       " 'extend',\n",
       " 'asdf',\n",
       " 30,\n",
       " 40]"
      ]
     },
     "execution_count": 3,
     "metadata": {},
     "output_type": "execute_result"
    }
   ],
   "source": [
    "# Dodawanie elementów do listy.\n",
    "lista = [] # pusta lista\n",
    "lista.append(6)\n",
    "lista.append(\"asda\")  # dodanie elementu do listy\n",
    "lista.append(99)\n",
    "lista.insert(1, \"2222\")  # dodanie od pozycji\n",
    "lista.insert(2, 20)\n",
    "lista.extend('extend') # rozszerzenie listy poprzez dodanie elementów iterują znaki.\n",
    "lista.extend([['extend'], ['asdf']]) # rozszerzenie listy poprzez dodanie pól listy jako listy\n",
    "lista.extend(['extend', 'asdf']) # rozszerzenie listy poprzez dodanie pól listy jako stringi\n",
    "lista.extend([30, 40])\n",
    "lista"
   ]
  },
  {
   "cell_type": "code",
   "execution_count": 4,
   "id": "39ca5ee7-0035-4e2f-b7a5-04d6fd64eed3",
   "metadata": {},
   "outputs": [
    {
     "name": "stdout",
     "output_type": "stream",
     "text": [
      "['asd', 1, 32, 32, 10j, 1.23]\n",
      "['asd', 1, 32, 32, 10j, 1.23, 'asd', 1, 32]\n"
     ]
    }
   ],
   "source": [
    "# Dodanie do listy innej listy.\n",
    "lista = []\n",
    "l1 = ['asd', 1, 32]\n",
    "l2 = [32, 10j, 1.23]\n",
    "lista = l1 + l2\n",
    "print(lista)\n",
    "lista.extend(l1)\n",
    "print(lista)"
   ]
  },
  {
   "cell_type": "code",
   "execution_count": 5,
   "id": "63e8981e-a3c2-423c-8d7b-a6afdf86a4da",
   "metadata": {},
   "outputs": [
    {
     "name": "stdout",
     "output_type": "stream",
     "text": [
      "asd\n",
      "1\n",
      "32\n",
      "1\n"
     ]
    }
   ],
   "source": [
    "# Dostęp do elementów listy za pomocą indeksów.\n",
    "print(lista[0])   # zwraca pierwszy element (indexowanie)\n",
    "print(lista[1])   # zwraca drugi element (indexowanie)\n",
    "print(lista[-1])  # zwraca ostatni element (indexowanie ujemne)\n",
    "print(lista[-2])  # zwraca przedostatni element (indexowanie ujemne)"
   ]
  },
  {
   "cell_type": "code",
   "execution_count": 6,
   "id": "e3eb9ab5-b600-4ef9-82c6-30edcac32c4e",
   "metadata": {
    "scrolled": true
   },
   "outputs": [
    {
     "name": "stdout",
     "output_type": "stream",
     "text": [
      "['asd', 1, 32, 32, 10j, 1.23, 'asd', 1, 32]\n",
      "2\n",
      "0\n",
      "0\n"
     ]
    }
   ],
   "source": [
    "# Wyszukiwanie indeksu elementu w liście\n",
    "print(lista)\n",
    "print(lista.index(32))      # zwraca indeks wg wartości\n",
    "print(lista.index(\"asd\"))  # zwraca indeks wg wartości\n",
    "print(lista.index('asd', 0, 2)) # zwraca indeks wg wartości w zakresie od indexu 0 do indexu 2 (0)"
   ]
  },
  {
   "cell_type": "code",
   "execution_count": 7,
   "id": "c3f7462a-4848-4db0-8b92-edf58140f0f7",
   "metadata": {},
   "outputs": [
    {
     "name": "stdout",
     "output_type": "stream",
     "text": [
      "['asd', 1, 32, 32, 10j, 1.23, 'asd', 1, 32]\n",
      "[123, 'text', (12+6j), 32, 10j, 1.23, 'asd', 1, 32]\n"
     ]
    }
   ],
   "source": [
    "# Modyfikowanie wartości elementów na podstawie indeksów.\n",
    "print(lista)   \n",
    "lista[0] = 123\n",
    "lista[1] = 'text' # bezpośredni dostęp do listy\n",
    "lista[2] = 12 + 6j\n",
    "print(lista)   "
   ]
  },
  {
   "cell_type": "code",
   "execution_count": 8,
   "id": "4d0ebc39-d780-45db-ba67-9e3ff1fbd4e4",
   "metadata": {},
   "outputs": [
    {
     "name": "stdout",
     "output_type": "stream",
     "text": [
      "[123, 'text', (12+6j), 'asda', 99]\n",
      "[123, (12+6j), 'asda', 99]\n",
      "[123, (12+6j), 'asda'] 99\n",
      "[123, 'asda'] (12+6j)\n",
      "['asda']\n",
      "[]\n"
     ]
    }
   ],
   "source": [
    "# Usuwanie elementów z listy.\n",
    "lista = [123, 'text', (12+6j), 'asda', 99]\n",
    "print(lista) \n",
    "\n",
    "lista.remove('text')   # usuwa pierwsze wystąpienie elementu, error jeżeli niema, usuwanie po wartości nie po indexie\n",
    "print(lista)   \n",
    "\n",
    "element = lista.pop()  # usuwa i zwraca ostatni element listy\n",
    "print(lista, element) \n",
    "\n",
    "element = lista.pop(1)  # usuwanie po indeksie ze zwrotem po indeksie\n",
    "print(lista, element) \n",
    "\n",
    "del lista[0]           # usuwa element na podanym indeksie\n",
    "print(lista)  \n",
    "\n",
    "lista.clear()          # czyści listę\n",
    "print(lista)  \n",
    "\n",
    "del lista              # kasuje całą liste z pamięci i niemożna się do niej odwołać bo error\n",
    "# print(lista) # -> error"
   ]
  },
  {
   "cell_type": "code",
   "execution_count": 9,
   "id": "37482717-a45c-41cd-bdc7-2b829e467c09",
   "metadata": {},
   "outputs": [
    {
     "ename": "NameError",
     "evalue": "name 'lista' is not defined",
     "output_type": "error",
     "traceback": [
      "\u001b[1;31m---------------------------------------------------------------------------\u001b[0m",
      "\u001b[1;31mNameError\u001b[0m                                 Traceback (most recent call last)",
      "Cell \u001b[1;32mIn[9], line 2\u001b[0m\n\u001b[0;32m      1\u001b[0m \u001b[38;5;66;03m# Sprawdzenie przynależności elementu do listy\u001b[39;00m\n\u001b[1;32m----> 2\u001b[0m \u001b[38;5;28mprint\u001b[39m(\u001b[38;5;241m3\u001b[39m \u001b[38;5;129;01min\u001b[39;00m \u001b[43mlista\u001b[49m) \u001b[38;5;66;03m# Wynik: True\u001b[39;00m\n\u001b[0;32m      4\u001b[0m \u001b[38;5;66;03m# Sortowanie listy\u001b[39;00m\n\u001b[0;32m      5\u001b[0m lista\u001b[38;5;241m.\u001b[39msort()      \u001b[38;5;66;03m# Sortowanie rosnąco\u001b[39;00m\n",
      "\u001b[1;31mNameError\u001b[0m: name 'lista' is not defined"
     ]
    }
   ],
   "source": [
    "# Sprawdzenie przynależności elementu do listy\n",
    "print(3 in lista) # Wynik: True\n",
    "\n",
    "# Sortowanie listy\n",
    "lista.sort()      # Sortowanie rosnąco\n",
    "lista.sort(reverse=True)  # Sortowanie malejąco\n",
    "\n",
    "# Odwrócenie kolejności elementów na liście\n",
    "lista.reverse()\n",
    "\n",
    "# Kopiowanie listy\n",
    "kopia = lista.copy()\n",
    "\n",
    "# Iterowanie po elementach listy\n",
    "for element in lista:\n",
    "    print(element)"
   ]
  },
  {
   "cell_type": "markdown",
   "id": "26d98e9f-9e4c-4c2c-8363-18747ca6fc27",
   "metadata": {},
   "source": [
    "## 02. Krotki (Tuples)."
   ]
  },
  {
   "cell_type": "markdown",
   "id": "73ed375b-8a2d-425b-821a-7521e127e72e",
   "metadata": {},
   "source": [
    "## 03. Sets."
   ]
  },
  {
   "cell_type": "markdown",
   "id": "00062385-830a-4738-9f65-2f33185208d2",
   "metadata": {},
   "source": [
    "## 04. Słowniki (Dictionaries)."
   ]
  },
  {
   "cell_type": "markdown",
   "id": "5152f6ef-6438-4f14-a4be-3bf42d1efbef",
   "metadata": {},
   "source": [
    "## 05. Tablice (Arrays)."
   ]
  }
 ],
 "metadata": {
  "kernelspec": {
   "display_name": "Torch Learn",
   "language": "python",
   "name": "python3"
  },
  "language_info": {
   "codemirror_mode": {
    "name": "ipython",
    "version": 3
   },
   "file_extension": ".py",
   "mimetype": "text/x-python",
   "name": "python",
   "nbconvert_exporter": "python",
   "pygments_lexer": "ipython3",
   "version": "3.12.1"
  },
  "widgets": {
   "application/vnd.jupyter.widget-state+json": {
    "state": {},
    "version_major": 2,
    "version_minor": 0
   }
  }
 },
 "nbformat": 4,
 "nbformat_minor": 5
}
