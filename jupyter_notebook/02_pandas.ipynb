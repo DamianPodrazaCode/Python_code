{
 "cells": [
  {
   "cell_type": "code",
   "execution_count": 1,
   "id": "943a1df6-3217-4207-b7b1-3ba1899753eb",
   "metadata": {},
   "outputs": [],
   "source": [
    "import pandas as pd"
   ]
  },
  {
   "cell_type": "code",
   "execution_count": 2,
   "id": "023311bf-ffa1-4349-80ea-c5d3deb34147",
   "metadata": {},
   "outputs": [],
   "source": [
    "series = pd.Series(['bmw', 'toyota', 'honda'])"
   ]
  },
  {
   "cell_type": "code",
   "execution_count": 3,
   "id": "0fbcde45-7cd1-4aea-bc7a-d3f838902d41",
   "metadata": {},
   "outputs": [
    {
     "data": {
      "text/plain": [
       "0       bmw\n",
       "1    toyota\n",
       "2     honda\n",
       "dtype: object"
      ]
     },
     "execution_count": 3,
     "metadata": {},
     "output_type": "execute_result"
    }
   ],
   "source": [
    "series"
   ]
  },
  {
   "cell_type": "code",
   "execution_count": 5,
   "id": "99b3554a-7b77-4549-82ce-2690bcea7b34",
   "metadata": {},
   "outputs": [],
   "source": [
    "colours = pd.Series(['red', 'green', 'blue'])"
   ]
  },
  {
   "cell_type": "code",
   "execution_count": 6,
   "id": "ea4b2cc1-230d-4d52-930d-736ac2250606",
   "metadata": {},
   "outputs": [
    {
     "data": {
      "text/plain": [
       "0      red\n",
       "1    green\n",
       "2     blue\n",
       "dtype: object"
      ]
     },
     "execution_count": 6,
     "metadata": {},
     "output_type": "execute_result"
    }
   ],
   "source": [
    "colours"
   ]
  },
  {
   "cell_type": "code",
   "execution_count": 7,
   "id": "e159df4a-59ed-4819-bf35-aeb8ba1923e7",
   "metadata": {},
   "outputs": [],
   "source": [
    "car_data = pd.DataFrame({'car make':series, 'colour':colours})"
   ]
  },
  {
   "cell_type": "code",
   "execution_count": 8,
   "id": "dbd8f5f2-301c-48d5-afed-623339597889",
   "metadata": {},
   "outputs": [
    {
     "data": {
      "text/html": [
       "<div>\n",
       "<style scoped>\n",
       "    .dataframe tbody tr th:only-of-type {\n",
       "        vertical-align: middle;\n",
       "    }\n",
       "\n",
       "    .dataframe tbody tr th {\n",
       "        vertical-align: top;\n",
       "    }\n",
       "\n",
       "    .dataframe thead th {\n",
       "        text-align: right;\n",
       "    }\n",
       "</style>\n",
       "<table border=\"1\" class=\"dataframe\">\n",
       "  <thead>\n",
       "    <tr style=\"text-align: right;\">\n",
       "      <th></th>\n",
       "      <th>car make</th>\n",
       "      <th>colour</th>\n",
       "    </tr>\n",
       "  </thead>\n",
       "  <tbody>\n",
       "    <tr>\n",
       "      <th>0</th>\n",
       "      <td>bmw</td>\n",
       "      <td>red</td>\n",
       "    </tr>\n",
       "    <tr>\n",
       "      <th>1</th>\n",
       "      <td>toyota</td>\n",
       "      <td>green</td>\n",
       "    </tr>\n",
       "    <tr>\n",
       "      <th>2</th>\n",
       "      <td>honda</td>\n",
       "      <td>blue</td>\n",
       "    </tr>\n",
       "  </tbody>\n",
       "</table>\n",
       "</div>"
      ],
      "text/plain": [
       "  car make colour\n",
       "0      bmw    red\n",
       "1   toyota  green\n",
       "2    honda   blue"
      ]
     },
     "execution_count": 8,
     "metadata": {},
     "output_type": "execute_result"
    }
   ],
   "source": [
    "car_data"
   ]
  },
  {
   "cell_type": "code",
   "execution_count": null,
   "id": "9c49701f-ed35-4ed1-a7e8-c7dc50407c38",
   "metadata": {},
   "outputs": [],
   "source": []
  }
 ],
 "metadata": {
  "kernelspec": {
   "display_name": "Torch Learn",
   "language": "python",
   "name": "python3"
  },
  "language_info": {
   "codemirror_mode": {
    "name": "ipython",
    "version": 3
   },
   "file_extension": ".py",
   "mimetype": "text/x-python",
   "name": "python",
   "nbconvert_exporter": "python",
   "pygments_lexer": "ipython3",
   "version": "3.12.1"
  }
 },
 "nbformat": 4,
 "nbformat_minor": 5
}
