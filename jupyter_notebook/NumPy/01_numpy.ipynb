{
 "cells": [
  {
   "cell_type": "code",
   "execution_count": 1,
   "id": "873a9533-a146-4e9d-a9aa-c68965657677",
   "metadata": {},
   "outputs": [],
   "source": [
    "import numpy as np\n",
    "import pandas as pd"
   ]
  },
  {
   "cell_type": "code",
   "execution_count": 2,
   "id": "b722870b-9a03-478f-8db0-ab5384595801",
   "metadata": {},
   "outputs": [
    {
     "data": {
      "text/plain": [
       "array([1, 2, 3])"
      ]
     },
     "execution_count": 2,
     "metadata": {},
     "output_type": "execute_result"
    }
   ],
   "source": [
    "a1 = np.array([1, 2, 3])\n",
    "a1"
   ]
  },
  {
   "cell_type": "code",
   "execution_count": 3,
   "id": "e6f10131-d90e-4686-9f08-0c7588fb3c2e",
   "metadata": {},
   "outputs": [
    {
     "data": {
      "text/plain": [
       "numpy.ndarray"
      ]
     },
     "execution_count": 3,
     "metadata": {},
     "output_type": "execute_result"
    }
   ],
   "source": [
    "type(a1)"
   ]
  },
  {
   "cell_type": "code",
   "execution_count": 4,
   "id": "fef7b5ad-2d9c-4140-876f-da0dabd6e997",
   "metadata": {},
   "outputs": [],
   "source": [
    "a2 = np.array([[1, 2.0, 3.2],\n",
    "               [4, 5,   6.4]])\n",
    "\n",
    "a3 = np.array([[[1,2,3],\n",
    "                [4,5,6],\n",
    "                [7,8,9]],\n",
    "               [[10,11,12],\n",
    "                [13,14,15],\n",
    "                [16,17,18]]])"
   ]
  },
  {
   "cell_type": "code",
   "execution_count": 5,
   "id": "ca17a354-217f-4c3f-9860-9480efaa98d4",
   "metadata": {},
   "outputs": [
    {
     "data": {
      "text/plain": [
       "array([[1. , 2. , 3.2],\n",
       "       [4. , 5. , 6.4]])"
      ]
     },
     "execution_count": 5,
     "metadata": {},
     "output_type": "execute_result"
    }
   ],
   "source": [
    "a2"
   ]
  },
  {
   "cell_type": "code",
   "execution_count": 6,
   "id": "e99a8b9f-4715-49c0-8f1f-7abc31ef5999",
   "metadata": {},
   "outputs": [
    {
     "data": {
      "text/plain": [
       "array([[[ 1,  2,  3],\n",
       "        [ 4,  5,  6],\n",
       "        [ 7,  8,  9]],\n",
       "\n",
       "       [[10, 11, 12],\n",
       "        [13, 14, 15],\n",
       "        [16, 17, 18]]])"
      ]
     },
     "execution_count": 6,
     "metadata": {},
     "output_type": "execute_result"
    }
   ],
   "source": [
    "a3"
   ]
  },
  {
   "cell_type": "code",
   "execution_count": 7,
   "id": "0b7a0f12-f40d-4541-ab64-e9c195436717",
   "metadata": {},
   "outputs": [
    {
     "data": {
      "text/plain": [
       "((3,), (2, 3), (2, 3, 3))"
      ]
     },
     "execution_count": 7,
     "metadata": {},
     "output_type": "execute_result"
    }
   ],
   "source": [
    "# kształt\n",
    "a1.shape, a2.shape, a3.shape"
   ]
  },
  {
   "cell_type": "code",
   "execution_count": 8,
   "id": "e025192c-3705-409c-8576-5f9c1955d009",
   "metadata": {},
   "outputs": [
    {
     "data": {
      "text/plain": [
       "(1, 2, 3)"
      ]
     },
     "execution_count": 8,
     "metadata": {},
     "output_type": "execute_result"
    }
   ],
   "source": [
    "# wymiary\n",
    "a1.ndim, a2.ndim, a3.ndim"
   ]
  },
  {
   "cell_type": "code",
   "execution_count": 9,
   "id": "8a49c407-80b8-4e07-8f8c-fbec961a5815",
   "metadata": {},
   "outputs": [
    {
     "data": {
      "text/plain": [
       "(dtype('int32'), dtype('float64'), dtype('int32'))"
      ]
     },
     "execution_count": 9,
     "metadata": {},
     "output_type": "execute_result"
    }
   ],
   "source": [
    "# typ\n",
    "a1.dtype, a2.dtype, a3.dtype"
   ]
  },
  {
   "cell_type": "code",
   "execution_count": 10,
   "id": "92e5e1bb-e70a-4d7b-9001-4c601bca787c",
   "metadata": {},
   "outputs": [
    {
     "data": {
      "text/plain": [
       "(3, 6, 18)"
      ]
     },
     "execution_count": 10,
     "metadata": {},
     "output_type": "execute_result"
    }
   ],
   "source": [
    "# rozmiar\n",
    "a1.size, a2.size, a3.size"
   ]
  },
  {
   "cell_type": "code",
   "execution_count": 11,
   "id": "a66e4a53-c175-4d33-9715-f9ef7f98a4fb",
   "metadata": {},
   "outputs": [
    {
     "data": {
      "text/plain": [
       "(numpy.ndarray, numpy.ndarray, numpy.ndarray)"
      ]
     },
     "execution_count": 11,
     "metadata": {},
     "output_type": "execute_result"
    }
   ],
   "source": [
    "# rodzaj\n",
    "type(a1),type(a2),type(a3)"
   ]
  },
  {
   "cell_type": "code",
   "execution_count": 12,
   "id": "eb4c6355-45fe-426e-9574-5af1a0696f4d",
   "metadata": {},
   "outputs": [
    {
     "data": {
      "text/html": [
       "<div>\n",
       "<style scoped>\n",
       "    .dataframe tbody tr th:only-of-type {\n",
       "        vertical-align: middle;\n",
       "    }\n",
       "\n",
       "    .dataframe tbody tr th {\n",
       "        vertical-align: top;\n",
       "    }\n",
       "\n",
       "    .dataframe thead th {\n",
       "        text-align: right;\n",
       "    }\n",
       "</style>\n",
       "<table border=\"1\" class=\"dataframe\">\n",
       "  <thead>\n",
       "    <tr style=\"text-align: right;\">\n",
       "      <th></th>\n",
       "      <th>0</th>\n",
       "      <th>1</th>\n",
       "      <th>2</th>\n",
       "    </tr>\n",
       "  </thead>\n",
       "  <tbody>\n",
       "    <tr>\n",
       "      <th>0</th>\n",
       "      <td>1.0</td>\n",
       "      <td>2.0</td>\n",
       "      <td>3.2</td>\n",
       "    </tr>\n",
       "    <tr>\n",
       "      <th>1</th>\n",
       "      <td>4.0</td>\n",
       "      <td>5.0</td>\n",
       "      <td>6.4</td>\n",
       "    </tr>\n",
       "  </tbody>\n",
       "</table>\n",
       "</div>"
      ],
      "text/plain": [
       "     0    1    2\n",
       "0  1.0  2.0  3.2\n",
       "1  4.0  5.0  6.4"
      ]
     },
     "execution_count": 12,
     "metadata": {},
     "output_type": "execute_result"
    }
   ],
   "source": [
    "# Create a DataFrame (pandas) from NumPy array\n",
    "df = pd.DataFrame(a2)\n",
    "df"
   ]
  },
  {
   "cell_type": "code",
   "execution_count": 13,
   "id": "8dd78d48-f0f5-4681-8db8-0a745aab92b8",
   "metadata": {},
   "outputs": [
    {
     "data": {
      "text/plain": [
       "(array([[1., 1., 1.],\n",
       "        [1., 1., 1.]]),\n",
       " array([[0., 0., 0.],\n",
       "        [0., 0., 0.]]))"
      ]
     },
     "execution_count": 13,
     "metadata": {},
     "output_type": "execute_result"
    }
   ],
   "source": [
    "ones = np.ones((2, 3))\n",
    "zeros = np.zeros((2, 3))\n",
    "ones, zeros"
   ]
  },
  {
   "cell_type": "code",
   "execution_count": 14,
   "id": "45a05a42-f7f0-470a-9059-cb839e388276",
   "metadata": {},
   "outputs": [
    {
     "data": {
      "text/plain": [
       "array([0, 2, 4, 6, 8])"
      ]
     },
     "execution_count": 14,
     "metadata": {},
     "output_type": "execute_result"
    }
   ],
   "source": [
    "# wygenerowanie tablicy jednowymiarowej z wartościami od 0 do 10 z krokiem co 2\n",
    "range_array = np.arange(0, 10, 2)\n",
    "range_array"
   ]
  },
  {
   "cell_type": "code",
   "execution_count": 17,
   "id": "05f70bf3-63f4-410f-9d37-8f08f39f2635",
   "metadata": {},
   "outputs": [
    {
     "data": {
      "text/plain": [
       "array([[6, 3, 4, 6, 2],\n",
       "       [1, 6, 7, 1, 6],\n",
       "       [8, 4, 5, 6, 6]])"
      ]
     },
     "execution_count": 17,
     "metadata": {},
     "output_type": "execute_result"
    }
   ],
   "source": [
    "# wygenerowanie tablicy dwuwymiarowej z wartościami pseudolosowymi int w zakresie od 0 do 10, o kształcie 3 na 5\n",
    "random_array = np.random.randint(0, 10, size=(3, 5))\n",
    "random_array"
   ]
  },
  {
   "cell_type": "code",
   "execution_count": 19,
   "id": "f9ca6698-2267-4255-86b5-af345c6b1f2a",
   "metadata": {},
   "outputs": [
    {
     "data": {
      "text/plain": [
       "array([[0.77348979, 0.07156598, 0.32266272, 0.98474098, 0.72527703],\n",
       "       [0.59146086, 0.42867026, 0.64383117, 0.03444094, 0.2354978 ],\n",
       "       [0.36534206, 0.34681921, 0.48233168, 0.87858739, 0.92875368],\n",
       "       [0.81919754, 0.92553379, 0.70506455, 0.57726671, 0.1801181 ],\n",
       "       [0.88120562, 0.86066674, 0.50057407, 0.34500995, 0.38101632]])"
      ]
     },
     "execution_count": 19,
     "metadata": {},
     "output_type": "execute_result"
    }
   ],
   "source": [
    "# wygenerowanie tablicy dwuwymiarowej z wartościami pseudolosowymi float w zakresie od 0 do 1, o kształcie 5 na 5\n",
    "np.random.random((5, 5))"
   ]
  },
  {
   "cell_type": "code",
   "execution_count": 21,
   "id": "73cd80aa-1fa4-423e-aaee-6a3ff1150ed0",
   "metadata": {},
   "outputs": [
    {
     "data": {
      "text/plain": [
       "array([[0.70130055, 0.53114629, 0.0106299 , 0.42915828, 0.24946261],\n",
       "       [0.77564083, 0.05785102, 0.88037509, 0.97070985, 0.66461925],\n",
       "       [0.24397535, 0.44392867, 0.09505635, 0.48829931, 0.16168208],\n",
       "       [0.34064619, 0.26121802, 0.58471891, 0.42927804, 0.3931692 ],\n",
       "       [0.64416642, 0.02660273, 0.36360434, 0.52631761, 0.14173869]])"
      ]
     },
     "execution_count": 21,
     "metadata": {},
     "output_type": "execute_result"
    }
   ],
   "source": [
    "# jw. \n",
    "random_array_2 = np.random.rand(5, 5) \n",
    "random_array_2"
   ]
  },
  {
   "cell_type": "code",
   "execution_count": 22,
   "id": "0313e4f3-f482-49d4-bf3f-57d9c6ba5c61",
   "metadata": {},
   "outputs": [
    {
     "data": {
      "text/plain": [
       "array([[[0.33049352, 0.90366055, 0.95822835],\n",
       "        [0.01778242, 0.81944685, 0.39345925],\n",
       "        [0.71047147, 0.67563004, 0.95217557]],\n",
       "\n",
       "       [[0.44058864, 0.78017168, 0.19771088],\n",
       "        [0.1256077 , 0.09309512, 0.5612043 ],\n",
       "        [0.57607896, 0.40916239, 0.34302252]],\n",
       "\n",
       "       [[0.41365392, 0.29985901, 0.7395637 ],\n",
       "        [0.20637439, 0.38670445, 0.33725693],\n",
       "        [0.01674516, 0.3183131 , 0.60049795]]])"
      ]
     },
     "execution_count": 22,
     "metadata": {},
     "output_type": "execute_result"
    }
   ],
   "source": [
    "# wygenerowanie tablicy trójwymiarowej random 0-1\n",
    "random_array_3 = np.random.rand(3, 3, 3)\n",
    "random_array_3"
   ]
  },
  {
   "cell_type": "markdown",
   "id": "45c2e856-a7fd-47c7-b336-d12cd479fe8e",
   "metadata": {},
   "source": [
    "### Random Seed - stały start random"
   ]
  },
  {
   "cell_type": "code",
   "execution_count": 24,
   "id": "85853123-14e4-4036-ab82-0799d79f3c94",
   "metadata": {},
   "outputs": [
    {
     "data": {
      "text/plain": [
       "array([[6, 3, 7],\n",
       "       [4, 6, 9],\n",
       "       [2, 6, 7],\n",
       "       [4, 3, 7],\n",
       "       [7, 2, 5]])"
      ]
     },
     "execution_count": 24,
     "metadata": {},
     "output_type": "execute_result"
    }
   ],
   "source": [
    "# stały start random\n",
    "np.random.seed(seed=42) #liczba może być dowolna \n",
    "random_array_4 = np.random.randint(10, size=(5, 3))\n",
    "random_array_4"
   ]
  },
  {
   "cell_type": "code",
   "execution_count": 25,
   "id": "637af35f-d4b9-4e78-8fdb-f50c31ec5f40",
   "metadata": {},
   "outputs": [
    {
     "data": {
      "text/plain": [
       "array([[5.64115790e-02, 7.21998772e-01, 9.38552709e-01],\n",
       "       [7.78765841e-04, 9.92211559e-01, 6.17481510e-01],\n",
       "       [6.11653160e-01, 7.06630522e-03, 2.30624250e-02]])"
      ]
     },
     "execution_count": 25,
     "metadata": {},
     "output_type": "execute_result"
    }
   ],
   "source": [
    "random_array_5 = np.random.rand(3, 3)\n",
    "random_array_5"
   ]
  },
  {
   "cell_type": "code",
   "execution_count": 26,
   "id": "96fed55f-c8ec-4f19-a85b-5694c0f94684",
   "metadata": {},
   "outputs": [
    {
     "data": {
      "text/plain": [
       "array([2, 3, 4, 5, 6, 7, 9])"
      ]
     },
     "execution_count": 26,
     "metadata": {},
     "output_type": "execute_result"
    }
   ],
   "source": [
    "# wyświetlenie niepowtarzalnych elementów w tablicy\n",
    "np.unique(random_array_4) "
   ]
  },
  {
   "cell_type": "code",
   "execution_count": 29,
   "id": "b61247f8-a35d-4478-9289-a72004fd3e7e",
   "metadata": {},
   "outputs": [
    {
     "data": {
      "text/plain": [
       "array([1, 2, 3])"
      ]
     },
     "execution_count": 29,
     "metadata": {},
     "output_type": "execute_result"
    }
   ],
   "source": [
    "a1"
   ]
  },
  {
   "cell_type": "code",
   "execution_count": 30,
   "id": "cc4e793d-4fd1-4082-aed3-1c346bfc31f9",
   "metadata": {},
   "outputs": [
    {
     "data": {
      "text/plain": [
       "array([[1. , 2. , 3.2],\n",
       "       [4. , 5. , 6.4]])"
      ]
     },
     "execution_count": 30,
     "metadata": {},
     "output_type": "execute_result"
    }
   ],
   "source": [
    "a2"
   ]
  },
  {
   "cell_type": "code",
   "execution_count": 31,
   "id": "60d32931-535c-45a0-aeaa-18ff2003d05a",
   "metadata": {},
   "outputs": [
    {
     "data": {
      "text/plain": [
       "array([[[ 1,  2,  3],\n",
       "        [ 4,  5,  6],\n",
       "        [ 7,  8,  9]],\n",
       "\n",
       "       [[10, 11, 12],\n",
       "        [13, 14, 15],\n",
       "        [16, 17, 18]]])"
      ]
     },
     "execution_count": 31,
     "metadata": {},
     "output_type": "execute_result"
    }
   ],
   "source": [
    "a3"
   ]
  },
  {
   "cell_type": "code",
   "execution_count": 34,
   "id": "752287f0-7a00-4f76-b7aa-2cfe78e4e055",
   "metadata": {},
   "outputs": [
    {
     "data": {
      "text/plain": [
       "1"
      ]
     },
     "execution_count": 34,
     "metadata": {},
     "output_type": "execute_result"
    }
   ],
   "source": [
    "a1[0] # pierwsza pozycja w tablicy jednowymiarowej"
   ]
  },
  {
   "cell_type": "code",
   "execution_count": 37,
   "id": "1d4de908-ed26-4a73-abad-d74df7ca9538",
   "metadata": {},
   "outputs": [
    {
     "data": {
      "text/plain": [
       "array([1. , 2. , 3.2])"
      ]
     },
     "execution_count": 37,
     "metadata": {},
     "output_type": "execute_result"
    }
   ],
   "source": [
    "a2[0] # pierwszy wiersz (wymiar) w tablicy dwuwymiarowej"
   ]
  },
  {
   "cell_type": "code",
   "execution_count": 36,
   "id": "16521d34-5d86-4d03-b3a1-230e76f247d0",
   "metadata": {},
   "outputs": [
    {
     "data": {
      "text/plain": [
       "array([[1, 2, 3],\n",
       "       [4, 5, 6],\n",
       "       [7, 8, 9]])"
      ]
     },
     "execution_count": 36,
     "metadata": {},
     "output_type": "execute_result"
    }
   ],
   "source": [
    "a3[0] # wyświetlenie pierwszej płaszczyzny (dwuwymiar) w tablicy trójwymiarowej"
   ]
  },
  {
   "cell_type": "code",
   "execution_count": 38,
   "id": "ee0cdf5f-9696-4514-baf9-5c9dbf968c51",
   "metadata": {},
   "outputs": [
    {
     "name": "stdout",
     "output_type": "stream",
     "text": [
      "[[[ 1  2]\n",
      "  [ 4  5]]\n",
      "\n",
      " [[10 11]\n",
      "  [13 14]]]\n"
     ]
    }
   ],
   "source": [
    "print(a3[:2, :2, :2]) # wyświetl do drugiej kolumny, drugiego wiersza i drugiego poziomu"
   ]
  },
  {
   "cell_type": "code",
   "execution_count": 39,
   "id": "ba820b4b-d18f-4e14-8dfe-2fc787685879",
   "metadata": {},
   "outputs": [
    {
     "data": {
      "text/plain": [
       "array([[[[9, 2, 6, 3, 8],\n",
       "         [2, 4, 2, 6, 4],\n",
       "         [8, 6, 1, 3, 8],\n",
       "         [1, 9, 8, 9, 4]],\n",
       "\n",
       "        [[1, 3, 6, 7, 2],\n",
       "         [0, 3, 1, 7, 3],\n",
       "         [1, 5, 5, 9, 3],\n",
       "         [5, 1, 9, 1, 9]],\n",
       "\n",
       "        [[3, 7, 6, 8, 7],\n",
       "         [4, 1, 4, 7, 9],\n",
       "         [8, 8, 0, 8, 6],\n",
       "         [8, 7, 0, 7, 7]]],\n",
       "\n",
       "\n",
       "       [[[2, 0, 7, 2, 2],\n",
       "         [0, 4, 9, 6, 9],\n",
       "         [8, 6, 8, 7, 1],\n",
       "         [0, 6, 6, 7, 4]],\n",
       "\n",
       "        [[2, 7, 5, 2, 0],\n",
       "         [2, 4, 2, 0, 4],\n",
       "         [9, 6, 6, 8, 9],\n",
       "         [9, 2, 6, 0, 3]],\n",
       "\n",
       "        [[3, 4, 6, 6, 3],\n",
       "         [6, 2, 5, 1, 9],\n",
       "         [8, 4, 5, 3, 9],\n",
       "         [6, 8, 6, 0, 0]]]])"
      ]
     },
     "execution_count": 39,
     "metadata": {},
     "output_type": "execute_result"
    }
   ],
   "source": [
    "a4 = np.random.randint(10, size=(2, 3, 4, 5)) # wymiary po kolei od lewej (4, 3, 2, 1)\n",
    "a4"
   ]
  },
  {
   "cell_type": "code",
   "execution_count": 41,
   "id": "a288ebd3-3fee-4257-bcdb-b44f59fec3cb",
   "metadata": {},
   "outputs": [
    {
     "data": {
      "text/plain": [
       "array([[[[9, 2, 6, 3],\n",
       "         [2, 4, 2, 6],\n",
       "         [8, 6, 1, 3],\n",
       "         [1, 9, 8, 9]],\n",
       "\n",
       "        [[1, 3, 6, 7],\n",
       "         [0, 3, 1, 7],\n",
       "         [1, 5, 5, 9],\n",
       "         [5, 1, 9, 1]],\n",
       "\n",
       "        [[3, 7, 6, 8],\n",
       "         [4, 1, 4, 7],\n",
       "         [8, 8, 0, 8],\n",
       "         [8, 7, 0, 7]]],\n",
       "\n",
       "\n",
       "       [[[2, 0, 7, 2],\n",
       "         [0, 4, 9, 6],\n",
       "         [8, 6, 8, 7],\n",
       "         [0, 6, 6, 7]],\n",
       "\n",
       "        [[2, 7, 5, 2],\n",
       "         [2, 4, 2, 0],\n",
       "         [9, 6, 6, 8],\n",
       "         [9, 2, 6, 0]],\n",
       "\n",
       "        [[3, 4, 6, 6],\n",
       "         [6, 2, 5, 1],\n",
       "         [8, 4, 5, 3],\n",
       "         [6, 8, 6, 0]]]])"
      ]
     },
     "execution_count": 41,
     "metadata": {},
     "output_type": "execute_result"
    }
   ],
   "source": [
    "a4[:, :, :, :4] # obcięcie pierwszego wymiary czyli x do 4 miejsc"
   ]
  },
  {
   "cell_type": "markdown",
   "id": "c4d93392-4495-4bdd-a4c7-801ae61cc9a9",
   "metadata": {},
   "source": [
    "## Manipulate arrays"
   ]
  },
  {
   "cell_type": "markdown",
   "id": "6622af70-f3c6-4609-8d5f-a833237b9815",
   "metadata": {},
   "source": [
    "### dodawanie, odejmowanie"
   ]
  },
  {
   "cell_type": "code",
   "execution_count": 42,
   "id": "5e5e427a-dc28-4290-8109-b6b09b2836bb",
   "metadata": {},
   "outputs": [
    {
     "data": {
      "text/plain": [
       "array([1, 2, 3])"
      ]
     },
     "execution_count": 42,
     "metadata": {},
     "output_type": "execute_result"
    }
   ],
   "source": [
    "a1"
   ]
  },
  {
   "cell_type": "code",
   "execution_count": 43,
   "id": "27e16faa-dfac-494d-bff5-461e98402800",
   "metadata": {},
   "outputs": [
    {
     "data": {
      "text/plain": [
       "array([2, 3, 4])"
      ]
     },
     "execution_count": 43,
     "metadata": {},
     "output_type": "execute_result"
    }
   ],
   "source": [
    "a1 + 1 "
   ]
  },
  {
   "cell_type": "code",
   "execution_count": 45,
   "id": "5509575c-d5d6-4060-941c-fa0d4ef89acf",
   "metadata": {},
   "outputs": [
    {
     "data": {
      "text/plain": [
       "array([1., 1., 1.])"
      ]
     },
     "execution_count": 45,
     "metadata": {},
     "output_type": "execute_result"
    }
   ],
   "source": [
    "ones = np.ones(3)\n",
    "ones"
   ]
  },
  {
   "cell_type": "code",
   "execution_count": 46,
   "id": "8a690119-884b-43c7-add5-c28677c2b673",
   "metadata": {},
   "outputs": [
    {
     "data": {
      "text/plain": [
       "array([2., 3., 4.])"
      ]
     },
     "execution_count": 46,
     "metadata": {},
     "output_type": "execute_result"
    }
   ],
   "source": [
    "a1 + ones"
   ]
  },
  {
   "cell_type": "code",
   "execution_count": 47,
   "id": "bcb4b5e0-0d9b-486e-9a84-c25e2b9f0a36",
   "metadata": {},
   "outputs": [
    {
     "data": {
      "text/plain": [
       "array([0., 1., 2.])"
      ]
     },
     "execution_count": 47,
     "metadata": {},
     "output_type": "execute_result"
    }
   ],
   "source": [
    "a1 - ones"
   ]
  },
  {
   "cell_type": "markdown",
   "id": "00475519-5eed-464d-a828-4e12cbbb2401",
   "metadata": {},
   "source": [
    "### monożenie, dzielenie przez tablice tego samego wymiaru"
   ]
  },
  {
   "cell_type": "code",
   "execution_count": 49,
   "id": "90b8fb35-5fb4-4641-994f-47b323a5a603",
   "metadata": {},
   "outputs": [
    {
     "data": {
      "text/plain": [
       "array([[1. , 2. , 3.2],\n",
       "       [4. , 5. , 6.4]])"
      ]
     },
     "execution_count": 49,
     "metadata": {},
     "output_type": "execute_result"
    }
   ],
   "source": [
    "a2"
   ]
  },
  {
   "cell_type": "code",
   "execution_count": 50,
   "id": "0e3c26c1-dd7c-4e17-8851-1a41a23a5ea6",
   "metadata": {},
   "outputs": [
    {
     "data": {
      "text/plain": [
       "array([[ 1. ,  4. ,  9.6],\n",
       "       [ 4. , 10. , 19.2]])"
      ]
     },
     "execution_count": 50,
     "metadata": {},
     "output_type": "execute_result"
    }
   ],
   "source": [
    "a1 * a2"
   ]
  },
  {
   "cell_type": "code",
   "execution_count": 51,
   "id": "010974e7-f493-4d86-a4da-28845f87c574",
   "metadata": {},
   "outputs": [
    {
     "data": {
      "text/plain": [
       "array([1., 2., 3.])"
      ]
     },
     "execution_count": 51,
     "metadata": {},
     "output_type": "execute_result"
    }
   ],
   "source": [
    "a1 / ones"
   ]
  },
  {
   "cell_type": "code",
   "execution_count": 52,
   "id": "f4e793d6-8f48-4d00-a210-0581e47c3c5a",
   "metadata": {},
   "outputs": [
    {
     "data": {
      "text/plain": [
       "array([[1.        , 1.        , 1.06666667],\n",
       "       [4.        , 2.5       , 2.13333333]])"
      ]
     },
     "execution_count": 52,
     "metadata": {},
     "output_type": "execute_result"
    }
   ],
   "source": [
    "a2 / a1"
   ]
  },
  {
   "cell_type": "code",
   "execution_count": 53,
   "id": "73a6ef49-9b6e-4e19-9d50-673e76871433",
   "metadata": {},
   "outputs": [
    {
     "data": {
      "text/plain": [
       "array([[1., 1., 1.],\n",
       "       [4., 2., 2.]])"
      ]
     },
     "execution_count": 53,
     "metadata": {},
     "output_type": "execute_result"
    }
   ],
   "source": [
    "a2 // a1 # dzielenie bez reszt (obcinanie do dołu)"
   ]
  },
  {
   "cell_type": "code",
   "execution_count": 54,
   "id": "ec489268-d925-4872-ae34-3c079d136716",
   "metadata": {},
   "outputs": [
    {
     "data": {
      "text/plain": [
       "array([[ 1.  ,  4.  , 10.24],\n",
       "       [16.  , 25.  , 40.96]])"
      ]
     },
     "execution_count": 54,
     "metadata": {},
     "output_type": "execute_result"
    }
   ],
   "source": [
    "a2 ** 2 # do potęgi 2"
   ]
  },
  {
   "cell_type": "code",
   "execution_count": 58,
   "id": "62eae5c3-8589-4390-8f9e-5b90401d6c99",
   "metadata": {},
   "outputs": [
    {
     "data": {
      "text/plain": [
       "array([[0. , 0. , 0.2],\n",
       "       [0. , 1. , 0.4]])"
      ]
     },
     "execution_count": 58,
     "metadata": {},
     "output_type": "execute_result"
    }
   ],
   "source": [
    "a2 % a1 # reszta z dzielenia"
   ]
  },
  {
   "cell_type": "markdown",
   "id": "c53d5fc1-12da-437d-921c-64caf6565144",
   "metadata": {},
   "source": [
    "### funkcje wbudowane"
   ]
  },
  {
   "cell_type": "code",
   "execution_count": 56,
   "id": "38bb034a-845e-440e-b0b2-86d1f2dc2ab7",
   "metadata": {},
   "outputs": [
    {
     "data": {
      "text/plain": [
       "array([[ 1.  ,  4.  , 10.24],\n",
       "       [16.  , 25.  , 40.96]])"
      ]
     },
     "execution_count": 56,
     "metadata": {},
     "output_type": "execute_result"
    }
   ],
   "source": [
    "np.square(a2) # też potęga 2"
   ]
  },
  {
   "cell_type": "code",
   "execution_count": 57,
   "id": "8a5ec00c-5202-46c1-ad0e-bfbeaad4983e",
   "metadata": {},
   "outputs": [
    {
     "data": {
      "text/plain": [
       "array([[2. , 4. , 6.2],\n",
       "       [5. , 7. , 9.4]])"
      ]
     },
     "execution_count": 57,
     "metadata": {},
     "output_type": "execute_result"
    }
   ],
   "source": [
    "np.add(a1, a2)"
   ]
  },
  {
   "cell_type": "code",
   "execution_count": 59,
   "id": "df3e0da4-2cb2-4d5d-99a2-1518509b5467",
   "metadata": {},
   "outputs": [
    {
     "data": {
      "text/plain": [
       "array([ 2.71828183,  7.3890561 , 20.08553692])"
      ]
     },
     "execution_count": 59,
     "metadata": {},
     "output_type": "execute_result"
    }
   ],
   "source": [
    "np.exp(a1)"
   ]
  },
  {
   "cell_type": "code",
   "execution_count": 60,
   "id": "810dfd8d-df09-4c65-8aa8-2d498f95aece",
   "metadata": {},
   "outputs": [
    {
     "data": {
      "text/plain": [
       "array([0.        , 0.69314718, 1.09861229])"
      ]
     },
     "execution_count": 60,
     "metadata": {},
     "output_type": "execute_result"
    }
   ],
   "source": [
    "np.log(a1)"
   ]
  },
  {
   "cell_type": "markdown",
   "id": "756ebdc3-786f-4b44-b64c-aad14292abe2",
   "metadata": {},
   "source": [
    "## Aggregation"
   ]
  },
  {
   "cell_type": "code",
   "execution_count": 61,
   "id": "ae805e83-6fe4-4f98-81b7-888423e57d93",
   "metadata": {},
   "outputs": [
    {
     "data": {
      "text/plain": [
       "list"
      ]
     },
     "execution_count": 61,
     "metadata": {},
     "output_type": "execute_result"
    }
   ],
   "source": [
    "listy_list = [1, 2, 3]\n",
    "type(listy_list)"
   ]
  },
  {
   "cell_type": "code",
   "execution_count": 62,
   "id": "f643e056-0abc-41a7-afa2-c832b93b181a",
   "metadata": {},
   "outputs": [
    {
     "data": {
      "text/plain": [
       "6"
      ]
     },
     "execution_count": 62,
     "metadata": {},
     "output_type": "execute_result"
    }
   ],
   "source": [
    "# suma elementów tablicy\n",
    "sum(listy_list)"
   ]
  },
  {
   "cell_type": "code",
   "execution_count": 63,
   "id": "5a279b19-b541-4d62-8e37-8331f4043577",
   "metadata": {},
   "outputs": [
    {
     "data": {
      "text/plain": [
       "array([1, 2, 3])"
      ]
     },
     "execution_count": 63,
     "metadata": {},
     "output_type": "execute_result"
    }
   ],
   "source": [
    "a1"
   ]
  },
  {
   "cell_type": "code",
   "execution_count": 64,
   "id": "56190d5e-8100-4acb-b2c7-05c157a4d794",
   "metadata": {},
   "outputs": [
    {
     "data": {
      "text/plain": [
       "6"
      ]
     },
     "execution_count": 64,
     "metadata": {},
     "output_type": "execute_result"
    }
   ],
   "source": [
    "sum(a1)"
   ]
  },
  {
   "cell_type": "code",
   "execution_count": 65,
   "id": "017e3522-615d-43dd-8508-28aee93896ce",
   "metadata": {},
   "outputs": [
    {
     "data": {
      "text/plain": [
       "6"
      ]
     },
     "execution_count": 65,
     "metadata": {},
     "output_type": "execute_result"
    }
   ],
   "source": [
    "np.sum(a1)"
   ]
  },
  {
   "cell_type": "markdown",
   "id": "68b29150-5aa2-483d-92d4-81c0d998f9dd",
   "metadata": {},
   "source": [
    "#### taki sam wynik, ale powinno się używać metod numpy na danych numpy, a metod pythona na danych pythona"
   ]
  },
  {
   "cell_type": "markdown",
   "id": "95ae5072-f1c3-40f9-9965-b55b2535aac3",
   "metadata": {},
   "source": [
    "## Wielkie tablice"
   ]
  },
  {
   "cell_type": "code",
   "execution_count": 75,
   "id": "4147ec2e-442d-4ed0-9ca8-18e159ff8def",
   "metadata": {},
   "outputs": [
    {
     "data": {
      "text/plain": [
       "10000"
      ]
     },
     "execution_count": 75,
     "metadata": {},
     "output_type": "execute_result"
    }
   ],
   "source": [
    "massive_array = np.random.random(10000)\n",
    "massive_array.size"
   ]
  },
  {
   "cell_type": "code",
   "execution_count": 76,
   "id": "bbdd4a08-7520-4d9b-aa35-df6a7fe6df18",
   "metadata": {},
   "outputs": [
    {
     "data": {
      "text/plain": [
       "array([0.83186291, 0.95750551, 0.65856783, 0.64193174, 0.30253867,\n",
       "       0.78306817, 0.31431523, 0.68293653, 0.76827837, 0.82811961])"
      ]
     },
     "execution_count": 76,
     "metadata": {},
     "output_type": "execute_result"
    }
   ],
   "source": [
    "massive_array[:10]"
   ]
  },
  {
   "cell_type": "code",
   "execution_count": 77,
   "id": "2ae31979-78a6-4b75-bbf5-56aeda1e54d6",
   "metadata": {},
   "outputs": [
    {
     "name": "stdout",
     "output_type": "stream",
     "text": [
      "928 µs ± 18.2 µs per loop (mean ± std. dev. of 7 runs, 1,000 loops each)\n",
      "5.66 µs ± 234 ns per loop (mean ± std. dev. of 7 runs, 100,000 loops each)\n"
     ]
    }
   ],
   "source": [
    "%timeit sum(massive_array)\n",
    "%timeit np.sum(massive_array)"
   ]
  },
  {
   "cell_type": "markdown",
   "id": "b41362df-db2f-47ba-86f7-a4df3453c8db",
   "metadata": {},
   "source": [
    "## NumPy i operacje na tablicach są o wiele szybsze niż na tablicach w gołym pythonie"
   ]
  },
  {
   "cell_type": "code",
   "execution_count": 79,
   "id": "230c9ff1-ea44-4d3e-b8f2-acd9d05aeaa7",
   "metadata": {},
   "outputs": [
    {
     "data": {
      "text/plain": [
       "array([[1. , 2. , 3.2],\n",
       "       [4. , 5. , 6.4]])"
      ]
     },
     "execution_count": 79,
     "metadata": {},
     "output_type": "execute_result"
    }
   ],
   "source": [
    "a2"
   ]
  },
  {
   "cell_type": "code",
   "execution_count": 78,
   "id": "f61ea1e2-1105-45a4-8cca-244382724e76",
   "metadata": {},
   "outputs": [
    {
     "data": {
      "text/plain": [
       "3.6"
      ]
     },
     "execution_count": 78,
     "metadata": {},
     "output_type": "execute_result"
    }
   ],
   "source": [
    "# średnia z elementów tablicy\n",
    "np.mean(a2)"
   ]
  },
  {
   "cell_type": "code",
   "execution_count": 80,
   "id": "2b8bdd0f-d07a-45fb-a13b-577f3937d36c",
   "metadata": {},
   "outputs": [
    {
     "name": "stdout",
     "output_type": "stream",
     "text": [
      "1.8\n"
     ]
    }
   ],
   "source": [
    "# Standard deviation (standardowe odchylenie) to miara rozproszenia danych wokół ich średniej arytmetycznej. Jest to jedna z najczęściej używanych miar w statystyce.\n",
    "# Standard deviation jest obliczane jako pierwiastek kwadratowy wariancji. \n",
    "# Wariancja mierzy, jak bardzo dane różnią się od średniej, a standard deviation dostarcza miary tego rozrzutu w jednostkach oryginalnych danych.\n",
    "print(np.std(a2)) # standardowe odchylenie"
   ]
  },
  {
   "cell_type": "code",
   "execution_count": 81,
   "id": "40dd71de-e580-4f71-af9e-a2459aa81269",
   "metadata": {},
   "outputs": [
    {
     "name": "stdout",
     "output_type": "stream",
     "text": [
      "3.24\n"
     ]
    }
   ],
   "source": [
    "# Wariancja (Variance) - W statystyce wariancja to miara, która określa, \n",
    "# jak bardzo wartości zbioru danych różnią się od średniej arytmetycznej tych wartości. \n",
    "# Im większa wariancja, tym większe są różnice między poszczególnymi wartościami a średnią.\n",
    "print(np.var(a2)) # variance "
   ]
  },
  {
   "cell_type": "code",
   "execution_count": null,
   "id": "1041e451-217e-4b9e-8c0d-b05e26da3e74",
   "metadata": {},
   "outputs": [],
   "source": [
    "print(np.sqrt(np.var(a2))) # standardowe odchylenie, obilczenie na piechote"
   ]
  }
 ],
 "metadata": {
  "kernelspec": {
   "display_name": "Torch Learn",
   "language": "python",
   "name": "python3"
  },
  "language_info": {
   "codemirror_mode": {
    "name": "ipython",
    "version": 3
   },
   "file_extension": ".py",
   "mimetype": "text/x-python",
   "name": "python",
   "nbconvert_exporter": "python",
   "pygments_lexer": "ipython3",
   "version": "3.12.1"
  },
  "widgets": {
   "application/vnd.jupyter.widget-state+json": {
    "state": {},
    "version_major": 2,
    "version_minor": 0
   }
  }
 },
 "nbformat": 4,
 "nbformat_minor": 5
}
