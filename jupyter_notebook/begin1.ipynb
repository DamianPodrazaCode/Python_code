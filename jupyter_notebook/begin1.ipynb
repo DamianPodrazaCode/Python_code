{
 "cells": [
  {
   "cell_type": "code",
   "execution_count": null,
   "id": "3c6e3108-f508-4c8f-8b0b-447e1083123c",
   "metadata": {},
   "outputs": [],
   "source": []
  }
 ],
 "metadata": {
  "kernelspec": {
   "display_name": "Torch Learn",
   "language": "python",
   "name": "python3"
  },
  "language_info": {
   "codemirror_mode": {
    "name": "ipython",
    "version": 3
   },
   "file_extension": ".py",
   "mimetype": "text/x-python",
   "name": "python",
   "nbconvert_exporter": "python",
   "pygments_lexer": "ipython3",
   "version": "3.12.1"
  }
 },
 "nbformat": 4,
 "nbformat_minor": 5
}
