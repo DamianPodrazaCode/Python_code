{
 "cells": [
  {
   "cell_type": "code",
   "execution_count": 1,
   "id": "94a64f04-d332-406c-bbbc-dad82e9d69e7",
   "metadata": {},
   "outputs": [],
   "source": [
    "import pandas as pd\n",
    "import numpy as np\n",
    "import matplotlib.pyplot as plt\n",
    "from sklearn.model_selection import train_test_split\n",
    "from sklearn.ensemble import RandomForestClassifier\n",
    "from sklearn.metrics import accuracy_score\n",
    "\n",
    "%matplotlib inline"
   ]
  },
  {
   "cell_type": "code",
   "execution_count": 2,
   "id": "a0d18104-16fe-4eaf-99a8-f15aec7665ef",
   "metadata": {},
   "outputs": [],
   "source": [
    "# Nowy start random.\n",
    "np.random.seed(42)\n",
    "\n",
    "# Załaowanie danych.\n",
    "heartr_disease = pd.read_csv('data/heart-disease.csv')\n",
    "\n",
    "# Rozdzielenie danych na wejściowe 'X' i wyjściowe 'y'.\n",
    "X = heartr_disease.drop('target', axis=1) # X = heartr_disease oprócz kolumny target (features, features variables, data)\n",
    "y = heartr_disease['target'] # y = kolumna target (labels, targets, target variables)\n",
    "\n",
    "# Rozdzielenie danych na treningowe i testowe.\n",
    "X_train, X_test, y_train, y_test = train_test_split(X, y, test_size=0.2, random_state=42)"
   ]
  },
  {
   "cell_type": "code",
   "execution_count": 3,
   "id": "5dcc39bd-652a-48b3-8f0f-af3046915059",
   "metadata": {},
   "outputs": [
    {
     "data": {
      "text/plain": [
       "0.8524590163934426"
      ]
     },
     "execution_count": 3,
     "metadata": {},
     "output_type": "execute_result"
    }
   ],
   "source": [
    "# Stworzenie obiektu clasyfikatora.\n",
    "clf = RandomForestClassifier(n_estimators=300)\n",
    "\n",
    "# Dopasowanie drzew obiektu do danych. Zbudowanie drzewa decyzyjnego ze zbioru uczącego (X, y). Zbudowanie modelu ML.\n",
    "clf.fit(X_train, y_train) \n",
    "\n",
    "# Przetestowanie na modelu danych testowych. Zwraca średnią dokładność dla podanych danych testowych i etykiet.\n",
    "clf.score(X_test, y_test)"
   ]
  },
  {
   "cell_type": "markdown",
   "id": "78bd8159-48cd-49d2-a402-ccef8f6a83f9",
   "metadata": {},
   "source": [
    "## Dwa sposoby na predict\n",
    "    * 'predict()'\n",
    "    * 'predict_proba()'"
   ]
  },
  {
   "cell_type": "markdown",
   "id": "275545e5-06fb-4833-af56-4a16b9d61c51",
   "metadata": {},
   "source": [
    "## PREDICT"
   ]
  },
  {
   "cell_type": "code",
   "execution_count": 4,
   "id": "874f83f5-3309-456a-9689-12b18df9c6c6",
   "metadata": {},
   "outputs": [
    {
     "data": {
      "text/plain": [
       "array([0, 1, 1, 0, 1, 1, 1, 0, 0, 0, 1, 0, 1, 0, 1, 1, 1, 0, 0, 0, 1, 0,\n",
       "       1, 1, 1, 1, 1, 1, 0, 1, 0, 0, 0, 0, 1, 0, 1, 1, 1, 1, 1, 1, 1, 1,\n",
       "       1, 0, 1, 1, 0, 0, 0, 0, 1, 1, 0, 0, 0, 1, 0, 0, 0], dtype=int64)"
      ]
     },
     "execution_count": 4,
     "metadata": {},
     "output_type": "execute_result"
    }
   ],
   "source": [
    "# Wyniki z modely ML.\n",
    "y_preds = clf.predict(X_test)\n",
    "y_preds"
   ]
  },
  {
   "cell_type": "code",
   "execution_count": 5,
   "id": "1286497f-d102-4bb1-8c09-807b3fa7c6d2",
   "metadata": {},
   "outputs": [
    {
     "data": {
      "text/plain": [
       "array([0, 0, 1, 0, 1, 1, 1, 0, 0, 1, 1, 1, 1, 0, 1, 1, 1, 0, 0, 0, 1, 0,\n",
       "       0, 1, 1, 0, 0, 1, 0, 1, 1, 0, 0, 1, 1, 0, 1, 1, 1, 1, 1, 1, 1, 1,\n",
       "       1, 0, 0, 1, 0, 0, 0, 0, 1, 1, 0, 0, 0, 1, 0, 0, 0], dtype=int64)"
      ]
     },
     "execution_count": 5,
     "metadata": {},
     "output_type": "execute_result"
    }
   ],
   "source": [
    "# Wyniki prawdziwe testowe.\n",
    "np.array(y_test)"
   ]
  },
  {
   "cell_type": "code",
   "execution_count": 6,
   "id": "b875330b-7e74-49b2-a055-8e97fbb46e48",
   "metadata": {},
   "outputs": [
    {
     "data": {
      "text/plain": [
       "array([ True, False,  True,  True,  True,  True,  True,  True,  True,\n",
       "       False,  True, False,  True,  True,  True,  True,  True,  True,\n",
       "        True,  True,  True,  True, False,  True,  True, False, False,\n",
       "        True,  True,  True, False,  True,  True, False,  True,  True,\n",
       "        True,  True,  True,  True,  True,  True,  True,  True,  True,\n",
       "        True, False,  True,  True,  True,  True,  True,  True,  True,\n",
       "        True,  True,  True,  True,  True,  True,  True])"
      ]
     },
     "execution_count": 6,
     "metadata": {},
     "output_type": "execute_result"
    }
   ],
   "source": [
    "# Porównanie wyników.\n",
    "y_preds == np.array(y_test)"
   ]
  },
  {
   "cell_type": "code",
   "execution_count": 7,
   "id": "d4bc6bfd-86d1-4588-9e44-654229335359",
   "metadata": {},
   "outputs": [
    {
     "data": {
      "text/plain": [
       "0.8524590163934426"
      ]
     },
     "execution_count": 7,
     "metadata": {},
     "output_type": "execute_result"
    }
   ],
   "source": [
    "# Średnia porównnia wynmików.\n",
    "np.mean(y_preds == y_test)"
   ]
  },
  {
   "cell_type": "code",
   "execution_count": 8,
   "id": "cdd53384-6f34-4159-a10d-d37f45055453",
   "metadata": {},
   "outputs": [
    {
     "data": {
      "text/plain": [
       "0.8524590163934426"
      ]
     },
     "execution_count": 8,
     "metadata": {},
     "output_type": "execute_result"
    }
   ],
   "source": [
    "# Dokładność klasyfikacji.\n",
    "accuracy_score(y_test, y_preds)"
   ]
  },
  {
   "cell_type": "markdown",
   "id": "6a4a20ee-659c-48ed-a96d-1ba61b8c9e0b",
   "metadata": {},
   "source": [
    "## PREDICT_PROBA\n",
    "Oszacowania prawdopodobieństwa. Zwrócone szacunki dla wszystkich klas są uporządkowane według etykiet klas.\n",
    "Można uzyskać bardziej szczegółowe dane."
   ]
  },
  {
   "cell_type": "code",
   "execution_count": 9,
   "id": "54e50e9e-7219-40b2-ba54-bd6338ec801c",
   "metadata": {},
   "outputs": [
    {
     "data": {
      "text/plain": [
       "array([[0.91      , 0.09      ],\n",
       "       [0.4       , 0.6       ],\n",
       "       [0.46666667, 0.53333333],\n",
       "       [0.87      , 0.13      ],\n",
       "       [0.19333333, 0.80666667]])"
      ]
     },
     "execution_count": 9,
     "metadata": {},
     "output_type": "execute_result"
    }
   ],
   "source": [
    "clf.predict_proba(X_test[:5])"
   ]
  },
  {
   "cell_type": "code",
   "execution_count": 10,
   "id": "cfecabeb-1832-48bc-8d34-d151fc44a05b",
   "metadata": {},
   "outputs": [
    {
     "data": {
      "text/plain": [
       "array([0, 1, 1, 0, 1], dtype=int64)"
      ]
     },
     "execution_count": 10,
     "metadata": {},
     "output_type": "execute_result"
    }
   ],
   "source": [
    "clf.predict(X_test[:5])"
   ]
  },
  {
   "cell_type": "markdown",
   "id": "cf1224c1-bb5a-49fe-a547-f75b0ff569e9",
   "metadata": {},
   "source": [
    "predict_proba() pokazuje wagowo w wierszu wynik predict(), np:\n",
    "- pierwszy wiersz w predict_proba() pokazuje że w 91% będzie 0, co widać na pierwszej popzycji w predict()\n",
    "- drugi wiersz w predict_proba() pokazuje że w 60% będzie 1, co widać na drugiej popzycji w predict()\n",
    "- trzeci wiersz w predict_proba() pokazuje że w 53.333% będzie 1, co widać na trzeciej popzycji w predict()\n",
    "- itd."
   ]
  },
  {
   "cell_type": "code",
   "execution_count": null,
   "id": "4aa1614b-98bd-4c7b-9367-16a765298de1",
   "metadata": {},
   "outputs": [],
   "source": []
  }
 ],
 "metadata": {
  "kernelspec": {
   "display_name": "Torch Learn",
   "language": "python",
   "name": "python3"
  },
  "language_info": {
   "codemirror_mode": {
    "name": "ipython",
    "version": 3
   },
   "file_extension": ".py",
   "mimetype": "text/x-python",
   "name": "python",
   "nbconvert_exporter": "python",
   "pygments_lexer": "ipython3",
   "version": "3.12.1"
  },
  "widgets": {
   "application/vnd.jupyter.widget-state+json": {
    "state": {},
    "version_major": 2,
    "version_minor": 0
   }
  }
 },
 "nbformat": 4,
 "nbformat_minor": 5
}
