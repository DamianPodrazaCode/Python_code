{
 "cells": [
  {
   "cell_type": "code",
   "execution_count": 3,
   "id": "639f9358-3c59-4ffe-bc39-c73761a8f183",
   "metadata": {},
   "outputs": [],
   "source": [
    "import pandas as pd\n",
    "import numpy as np\n",
    "import matplotlib.pyplot as plt\n",
    "%matplotlib inline\n",
    "\n",
    "heartr_disease = pd.read_csv('data/heart-disease.csv')\n",
    "\n",
    "from sklearn.metrics import accuracy_score, precision_score, recall_score, f1_score\n",
    "from sklearn.ensemble import RandomForestClassifier\n",
    "from sklearn.model_selection import train_test_split\n",
    "\n",
    "np.random.seed(42)\n",
    "X = heartr_disease.drop('target', axis=1) \n",
    "y = heartr_disease['target'] \n",
    "X_train, X_test, y_train, y_test = train_test_split(X, y, test_size=0.2)"
   ]
  },
  {
   "cell_type": "markdown",
   "id": "e45cdb47-a0ee-4322-90fc-c37f9c17a914",
   "metadata": {},
   "source": [
    "# Ulepszanie modelu\n",
    "##### Pierwsze prognozy = prognozy bazowe\n",
    "##### Pierwszy model = model bazowy"
   ]
  },
  {
   "cell_type": "markdown",
   "id": "47c8d574-0613-423d-83b4-01aa5eb7867d",
   "metadata": {},
   "source": [
    "### 1. Z perspektywy danych:\n",
    "* Czy możemy zebrać więcej danych? (ogólnie rzecz biorąc, im więcej danych, tym lepiej)\n",
    "* Czy możemy poprawić nasze dane?\n",
    "\n",
    "### 2. Z perspektywy modelu:\n",
    "* Czy istnieje lepszy model, którego moglibyśmy użyć?\n",
    "* Czy możemy ulepszyć obecny model?\n",
    "\n",
    "### 3. Hiperparametry a parametry:\n",
    "* Parametry = model znajduje te wzorce w danych.\n",
    "* Hiperparametry = ustawienia modelu, które można dostosować, aby (potencjalnie) poprawić jego zdolność do znajdowania wzorców."
   ]
  },
  {
   "cell_type": "code",
   "execution_count": 6,
   "id": "b8a8f313-d8d6-4240-8d66-c617a745b8c2",
   "metadata": {},
   "outputs": [
    {
     "data": {
      "text/plain": [
       "{'bootstrap': True,\n",
       " 'ccp_alpha': 0.0,\n",
       " 'class_weight': None,\n",
       " 'criterion': 'gini',\n",
       " 'max_depth': None,\n",
       " 'max_features': 'sqrt',\n",
       " 'max_leaf_nodes': None,\n",
       " 'max_samples': None,\n",
       " 'min_impurity_decrease': 0.0,\n",
       " 'min_samples_leaf': 1,\n",
       " 'min_samples_split': 2,\n",
       " 'min_weight_fraction_leaf': 0.0,\n",
       " 'monotonic_cst': None,\n",
       " 'n_estimators': 100,\n",
       " 'n_jobs': None,\n",
       " 'oob_score': False,\n",
       " 'random_state': None,\n",
       " 'verbose': 0,\n",
       " 'warm_start': False}"
      ]
     },
     "execution_count": 6,
     "metadata": {},
     "output_type": "execute_result"
    }
   ],
   "source": [
    "clf = RandomForestClassifier(n_estimators=100)\n",
    "# pobranie hiperparametrów\n",
    "clf.get_params()"
   ]
  },
  {
   "cell_type": "markdown",
   "id": "76924065-ecbb-46ca-8bc8-cca30567568c",
   "metadata": {},
   "source": [
    "### 4. Trzy sposoby dostosowania hiperparametrów:\n",
    "* Ręcznie\n",
    "* Losowo za pomocą RandomSearchCV\n",
    "* Kompleksowo za pomocą GridSearchCV"
   ]
  },
  {
   "cell_type": "markdown",
   "id": "f14595d5-d2c0-4a37-9397-6e3fcbfd609f",
   "metadata": {},
   "source": [
    "# Ręcznie"
   ]
  },
  {
   "cell_type": "markdown",
   "id": "cefca614-beae-4eba-bb9d-2e5cbc8942f4",
   "metadata": {},
   "source": [
    "Training, validation, test."
   ]
  },
  {
   "cell_type": "markdown",
   "id": "813d676a-af4c-47f1-9008-fd69f5f7bbef",
   "metadata": {},
   "source": [
    "Parametry do rególacji:\n",
    "* 'max_depth'\n",
    "* 'max_features'\n",
    "* 'min_samples_leaf'\n",
    "*  'min_samples_split\n",
    "* 'n_estimators''"
   ]
  },
  {
   "cell_type": "code",
   "execution_count": null,
   "id": "ab30fc9f-8eec-46e6-89db-c52eb1bbd6f7",
   "metadata": {},
   "outputs": [],
   "source": [
    "def evaluate_preds(y_true, y_preds):\n",
    "    '''\n",
    "    Przeprowadzenie porównania oceny etykiet y_true i y_pred.\n",
    "    '''"
   ]
  }
 ],
 "metadata": {
  "kernelspec": {
   "display_name": "Torch Learn",
   "language": "python",
   "name": "python3"
  },
  "language_info": {
   "codemirror_mode": {
    "name": "ipython",
    "version": 3
   },
   "file_extension": ".py",
   "mimetype": "text/x-python",
   "name": "python",
   "nbconvert_exporter": "python",
   "pygments_lexer": "ipython3",
   "version": "3.12.1"
  },
  "widgets": {
   "application/vnd.jupyter.widget-state+json": {
    "state": {},
    "version_major": 2,
    "version_minor": 0
   }
  }
 },
 "nbformat": 4,
 "nbformat_minor": 5
}
