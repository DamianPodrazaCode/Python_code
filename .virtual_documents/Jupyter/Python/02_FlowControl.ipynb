


# ==	    Sprawdza, czy dwie wartości są równe.
# !=	    Sprawdza, czy dwie wartości są różne.
# >	        Sprawdza, czy pierwsza wartość jest większa od drugiej.
# <	        Sprawdza, czy pierwsza wartość jest mniejsza od drugiej.
# >=	    Sprawdza, czy pierwsza wartość jest większa lub równa drugiej.
# <=	    Sprawdza, czy pierwsza wartość jest mniejsza lub równa drugiej.
# in	    Sprawdza, czy element znajduje się w sekwencji.
# not in	Sprawdza, czy element nie znajduje się w sekwencji.
# is	    Sprawdza, czy dwie zmienne wskazują na ten sam obiekt.
# is not	Sprawdza, czy dwie zmienne wskazują na różne obiekty.
# and	    Zwraca True, jeśli oba warunki są prawdziwe.
# or	    Zwraca True, jeśli co najmniej jeden z warunków jest prawdziwy.
# not	    Odwraca wartość logiczną warunku.


# przy if zamiast nawiasów{} jak w 'c' są odsunięcia
zm1 = 1
if zm1 > 0 : 
    print(bool(zm1))


# czasami pisze się warunek ale jeszcze niema się ciała warunku, wtedy używa sie instrukcji pustej 'pass' tymczasowo
if zm1 != 0 :
    pass 


# składnia z else
if zm1 > 10 :
    pass
else :
    pass


# składnia z elif - wykona się tylko pierwszy prawdziwy warunek, jak go niebędzie to wykona się else
if zm1 > 10 :
    pass
elif zm1 < 5 :
    pass
elif zm1 == 0 :
    pass
else :
    pass





x = 0
while x < 3:
    print(x)
    x += 1

# x = 0
# while x < 10:
#     pass #taki nop, ale wtym przypadku zrobi się pętla nieskończona
# są jeszcze continue i break standard jak w C


lista = [1,2,3,4,5,6]
i = 0
while i < len(lista):
    print(i)
    i += 1   


# while True:
#     respone = input('in <<<')    
#     if respone == 'stop':
#         break


# while True:
#     respone = input('in <<<')    
#     if respone == 'stop':
#         break
#     if respone == 'rep':
#         continue
#     print(respone)


zm1 = 0
while zm1 < 3 : # wykonuj dopóki zm1 mniejsze od 3
    print(zm1)
    zm1 += 1
print('end while')    


# Instrukcja "break" służy do przerywana działania pętli.
zm1 = 3
while True : # pętla nieskończona
    if zm1 <= 0 :
        break
    print(zm1)
    zm1 -= 1
print('end while')    


# Instrukcja "continue" powoduje przeskok do następnego obrotu pętli.
zm1 = 8
while True :
    zm1 -= 1
    if zm1 % 2 : # jeżeli wynik z dzielenia ma reszte to pomin ta pętle i wykonaj następną
        continue
    if zm1 <= 0 :
        break 
    print(zm1)
print('end while')





# for to pętla iteracyjna, całkiem inna niż w C
# iteracja wg listy, for przejedzie przez całą listę pokolei od elementu pierwszego
lista = ['jeden', 'dwa', 'trzy', 'cztery', 'pięć'] 
for my_str in lista : 
    print(my_str)
print('end for')


# lista wbudowana w for'a
for my_str in [2, 45, 45, 3] :
    print(my_str)
print('end for')


# iteracja oparta na zakresie liczbowym
# range([start],stop,[step]) - tylko liczby całkowite
for my_str in range(4): # będzie liczyć od 0 do 9
    print(my_str)
print('end for')


for my_str in range(2,5): # bedzie liczyć o 2 do 4
    print(my_str)
print('end for')


for my_str in range(6,2,-1): # bedzie liczyć o 6 do 3
    print(my_str)
print('end for')


for my_str in range(5,13,2): # bedzie liczyć o 5 do 11 z krokiem co 2
    print(my_str)
print('end for')


d = dict(asd='dsa', qwe='ewq', jeden=1, dwa=2, trzy=3, cztery=4)
print(d)


for k in d.keys():     # wylistowanie kluczy
    print(k)    


for k in d.values():    # wylistowanie wartości
    print(k)   


for k in d.items():    # wylistowanie par
    print(k)


for k in d.keys():  # wylistowanie wartości po kluczu
    print(k, d[k])    


for k, v in d.items():  # wylistowanie wartości i klucza
    print(k, v)


for char in enumerate('text test'):
    print(char)


for i, char in enumerate('text test'):
    print(i, char)


# enumerate()
# Funkcja enumerate() jest przydatnym narzędziem do iteracji po sekwencji (takiej jak lista, krotka, czy napis) 
# jednocześnie zwracając indeks elementu oraz sam element.
# enumerate(iterable, start=0)
lista = ['a', 'b', 'c', 'd', 'e']
for indeks, element in enumerate(lista):
    print(f"Indeks: {indeks}, Element: {element}")


napis = "Python"
for indeks, litera in enumerate(napis, start=1):
    print(f"Indeks: {indeks}, Litera: {litera}")


picture = [
  [0,0,0,1,0,0,0],
  [0,0,1,1,1,0,0],
  [0,1,1,1,1,1,0],
  [1,1,1,1,1,1,1],
  [0,0,0,1,0,0,0],
  [0,0,0,1,0,0,0]
]

print('tekst') # na końcu ma domyślnie zakończenie lini
print('tekst', end='') # a tak nie ma, albo ma co mu wpiszemy
print('tekst')

for row in picture:
    for pixel in row:
        if pixel == 1:
            print('*', end='')
        else:
            print(' ', end='')
    print('')






# Funkcja be zwracanej wartości.
def fun() :
    print('fun')
# Funkcja ze zwrotem
def fun2(a1, a2) :
    return a1 * a2
fun()
print(fun2(2, 3)) 


# Pozycje argumentów.
def fun(a1, a2, a3):
    print(a1, a2, a3)
fun('v1', 'v2', 'v3') 
fun(a1='v1', a3='v3', a2='v2') # pozycje wymieszane ale przypisane prawidłowym
# Przekazanie listy jako argument, lista musi zawierać tyle elementów co ilość argumentów w funkcji.
lista = [1, 2, 3]
fun(*lista) 


# Funkcja z argumentem starowym.
def fun(a1=100):
    return a1
print(fun())
print(fun(20))


# Funkcja z nieznaną ilością argumentów.
def fun(*args):
    for arg in args:
        print(arg)
fun('a1')
fun('a1', 'a2')
fun('a1', 2, 2.34)
# Przekazanie listy do funkcji.
lista = [1,2,3]  
fun(*lista)


# Przekazanie dict do funkcji.
myDict = {'arg1': 111, 'arg2': '222', 'arg3': 333} 

def fun(**args):
    for key in args:
        print(key, args[key])
fun(arg1=111, arg2='222', arg3=333)
fun(**myDict)        


# Lub.
def fun(**args):
    print(args)
    def disp(key):
        if key in args.keys():  # jeżeli w argumencie występuje klucz
            print(args[key])
    disp('arg1')
    disp('arg2')
    disp('arg3')
    if 'arg4' in args.keys():
        print('jest arg4', args['arg4'])

fun(arg1='111', arg2='222')
fun(arg1='111')
fun(arg1='111', arg2='222', arg3='333')
fun(arg4='ok')
fun(arg2='aaa', arg3='dsa')


# Jeszcze raz -> *args **kwargs

# *args służy do przekazywania zmiennej liczby argumentów pozycyjnych do funkcji. 
# Gdy używasz *args jako argumentu funkcji, możesz przekazać do niej dowolną liczbę argumentów pozycyjnych, 
# a są one pakowane do krotki.
def fun(*args):
    print(*args) # 1 2 3 4 5  -> elementy po kolei
    print(args) # (1, 2, 3, 4, 5) -> tuple elementów
    return sum(args)
print(fun(1, 2, 3, 4, 5)) # 15

# **kwargs służy do przekazywania zmiennej liczby argumentów klucz-wartość (keyword arguments) do funkcji. 
# Gdy używasz **kwargs jako argumentu funkcji, możesz przekazać do niej dowolną liczbę argumentów klucz-wartość, 
# a są one pakowane do słownika.
def fun(**kwargs):
    print(*kwargs) # param1 param2 ->lista parametrów
    print(kwargs) # {'param1': 'aaa', 'param2': 12} -> parametry i wartości w postaci dict
fun(param1='aaa', param2=12)    

def fun(*args, **kwargs):
    print(*args) # 1 2 3 4 5  -> elementy po kolei
    print(args) # (1, 2, 3, 4, 5) -> tuple elementów
    print(*kwargs) # param1 param2 ->lista parametrów
    print(kwargs) # {'param1': 'aaa', 'param2': 12} -> parametry i wartości w postaci dict
fun(1, 2, 3, 4, 5, param1='aaa', param2=12)

#regóła: params, *args, default params, **kwargs
# def fun(par1, par2, *args, par3='def', **kwargs):


# Funkcja w funkcji.
def zewnetrzna_funkcja():
    def wewnetrzna_funkcja():
        print("Jestem w funkcji wewnętrznej")
    print("Jestem w funkcji zewnętrznej")
    wewnetrzna_funkcja()
zewnetrzna_funkcja()


# Wywołanie funkcji z parametrem dict.
def fun(a,b,c):
    print(a)    
    print(b)
    print(c)
myDict = dict(a=111, b='222', c=333)
fun(**myDict)


# Wywołanie funkcji z parametrem typu dict, którey jest zwracany z innej funkcji.
def getData():
    return dict(a=111, b='222', c=333)
fun(**getData())


# Funkcja w argumencie funkcji.
def fun1():
    return 1
def fun2():
    return 2
def fun(a1, a2):
    print(a1 + a2)

# Funkcje uruchamiają się w argumencie i przekazują zwrócone wartości.
fun(fun1(),fun2()) 

def fun(a1, a2):
    a = a1()
    b = a2()
    print(a + b)

# Argumenty są wskaźnikami do funkcji które są uruchamiane w funkcji głównej
fun(fun1,fun2)  


# Positional-Only Arguments to mechanizm w języku Python, który umożliwia definiowanie argumentów funkcji, 
# które mogą być przekazywane tylko za pomocą ich pozycji, a nie za pomocą ich nazw. 
# Aby zdefiniować argumenty przekazywane tylko za pomocą ich pozycji, 
# używamy znaku ukośnika (/) po argumentach, które mają być positional-only.
def greeting(name, /, message):
    return f"{message}, {name}!"
print(greeting("John", "Hello")) 
print(greeting("John", message="Hello"))  
# print(greeting(name="John", message="Hello"))  # Błąd


# Keyword-Only Arguments to mechanizm w języku Python, który umożliwia definiowanie argumentów funkcji, 
# które mogą być przekazywane tylko za pomocą ich nazw, a nie za pomocą ich pozycji. 
# Jest to przydatna funkcjonalność, która umożliwia bardziej jasne określenie, jakie argumenty są wymagane i jakie są opcjonalne.
def greeting(*, name, message):
    return f"{message}, {name}!"
print(greeting(name="John", message="Hello"))  # Poprawne
# print(greeting("John", "Hello"))  # Błąd


# Połaczenie Positional-Only and Keyword-Only
def powitanie(imie, /, *, wiadomosc):
    return f"{wiadomosc}, {imie}!"
print(powitanie("Jan", wiadomosc="Cześć"))  # Poprawne
# print(powitanie("Jan", "Cześć"))  # Błąd: argument pozycyjny po argumentach nazwanych
# print(powitanie(imie="Jan", wiadomosc="Cześć"))  # Błąd: imie jest dostępne tylko przez pozycję


# Rekursja (rekurencja) to technika programowania, w której funkcja wywołuje samą siebie w celu rozwiązania problemu. 
# Jest to przydatne podejście do rozwiązywania problemów, które mogą być łatwo podzielone na mniejsze podproblemy, 
# które można rozwiązać w taki sam sposób.
def silnia(n):
    if n == 0:
        return 1
    else:
        return n * silnia(n - 1)
print(silnia(5))  


#info funkcji 
def fun_info():
    '''to jest info które się wyświetli w helpie funkcji'''
    pass

fun_info()
print(fun_info.__doc__) # a to jest tekst pomocy





# Zasięg zmiennej.
def funkcja():
    zmienna_lokalna = 'zmienna_lokalna'
    print(zmienna_lokalna)
funkcja()

zmienna_globalna = 'zmienna_globalna'
def funkcja():
    print(zmienna_globalna)
funkcja()
print(zmienna_globalna)


# Zasięg globalny.
zmienna_globalna = 10
def funkcja():
    # Jeśli chcemy zmodyfikować zmienną globalną wewnątrz funkcji, możemy to zrobić, używając słowa kluczowego global
    global zmienna_globalna 
    zmienna_globalna += 20
funkcja()
print(zmienna_globalna) 
funkcja()
print(zmienna_globalna) 


# Zasięg nie lokalny w języku Python dotyczy przestrzeni nazw, w której zmienne są dostępne wewnątrz funkcji, 
# ale nie są zmiennymi lokalnymi ani globalnymi. 
# Zmienne w zasięgu nie lokalnym mogą być dostępne na poziomie zagnieżdżonych funkcji lub metod wewnątrz klasy.

def zewnetrzna_funkcja():
    zmienna_zewnetrzna = 10
    def wewnetrzna_funkcja():
        # Aby zdefiniować zmienną jako nie lokalną w funkcji, używamy słowa kluczowego nonlocal
        nonlocal zmienna_zewnetrzna
        zmienna_zewnetrzna += 1
        print("Wewnątrz wewnętrznej funkcji:", zmienna_zewnetrzna)
    wewnetrzna_funkcja()
    print("Po wywołaniu wewnętrznej funkcji:", zmienna_zewnetrzna)
zewnetrzna_funkcja()





# Wyrażenie lambda w języku Python umożliwia definiowanie małych anonimowych funkcji. 
# Są one używane w miejscach, gdzie potrzebna jest funkcja jednolinijkowa, którą można zdefiniować bez konieczności 
# używania pełnej definicji funkcji za pomocą słowa kluczowego def.
# lambda arguments: expression


x = lambda: "Hello, world!"
print(x()) 


x = lambda a: a * 2
print(x(3)) 


x = lambda a, b, c: a + b + c
print(x(1, 2, 3))


ret = lambda x=0, y=0: x*y
print(ret(2,3))
print(ret(12,3))





# Instrukcja try w języku Python służy do obsługi wyjątków. Pozwala ona na umieszczenie bloku kodu, 
# który może generować wyjątki, wewnątrz bloku try, a następnie zdefiniowanie bloków kodu, które zostaną wykonane w przypadku, 
# gdy wyjątek wystąpi lub nie wystąpi.





try:
    result = 10 / 0
except ZeroDivisionError as e:
    print("Dzielenie przez zero!")
else:
    print("Wynik:", result)
finally:
    print("Zawsze wykonywane, niezależnie od tego, czy wystąpił wyjątek czy nie.")





# Wyrażenie raise w języku Python służy do ręcznego zgłaszania wyjątków w kodzie. 
# Pozwala programiście na kontrolowane i celowe generowanie wyjątków w określonych sytuacjach.
def divide(x, y):
    if y == 0:
        raise ValueError("Dzielenie przez zero jest niedozwolone")
    return x / y

try:
    result = divide(10, 0)
except ValueError as e:
    print("Wystąpił błąd:", e)





# List Comprehensions


lista = [i for i in 'tekst']
print(lista) # ['t', 'e', 'k', 's', 't']
# jest to równoznaczne z:
lista = []
for i in 'tekst':
    lista.append(i)
print(lista) # ['t', 'e', 'k', 's', 't']


lista = [i for i in range(0, 10)]
print(lista) # [0, 1, 2, 3, 4, 5, 6, 7, 8, 9]

lista = [i*2 for i in range(0, 10)]
print(lista) # [0, 2, 4, 6, 8, 10, 12, 14, 16, 18]

lista = [i*2 for i in range(0, 10) if i % 2 == 0]
print(lista) # [0, 4, 8, 12, 16]


# Set Comprehensions, to samo co wyżej tylko zmieniają się nawiasy
my_set = {i for i in range(0, 10)}
print(my_set) # {0, 1, 2, 3, 4, 5, 6, 7, 8, 9}


# Dict Comprehensions


simple_dict = {
    'a': 1,
    'b': 2,
    'c': 3,
    'd': 4
}
my_dict = {key:value**2 for key,value in simple_dict.items()}
print(my_dict) # {'a': 1, 'b': 4, 'c': 9, 'd': 16}

my_dict = {key:value**2 for key,value in simple_dict.items() if value % 2 == 0}
print(my_dict) # {'b': 4, 'd': 16}

my_dict = {i:i*2 for i in [1,2,3,4]}
print(my_dict) # {1: 2, 2: 4, 3: 6, 4: 8}








# Obliczanie wartości bezwzględnej liczby całkowitej
abs_result1 = abs(-10)
print(abs_result1)  # Output: 10
# Obliczanie wartości bezwzględnej liczby rzeczywistej
abs_result2 = abs(-3.14)
print(abs_result2)  # Output: 3.14





# Funkcja aiter() jest asynchronicznym odpowiednikiem funkcji iter() i służy do uzyskiwania 
# asynchronicznego iteratora dla asynchronicznego obiektu.





# Funkcja all() służy do sprawdzania, czy wszystkie elementy w danej sekwencji 
# (takiej jak lista, krotka, zbiór lub inny iterowalny obiekt) są prawdziwe (tzn. mają wartość True).

# Lista z wartościami logicznymi
values1 = [True, True, True]
print(all(values1))  # Output: True
# Lista z wartościami logicznymi i jedną wartością False
values2 = [True, False, True]
print(all(values2))  # Output: False
# Lista pusta
empty_list = []
print(all(empty_list))  # Output: True (brak elementów, więc wszystkie są "prawdziwe")
# Krotka z wartościami logicznymi
values3 = (True, True, True)
print(all(values3))  # Output: True
# Zbiór z wartościami logicznymi
values4 = {True, True, True}
print(all(values4))  # Output: True





# Funkcja anext() jest używana w kontekście asynchronicznego programowania do pobierania kolejnych wartości z asynchronicznego iteratora. 
# Jest to asynchroniczny odpowiednik funkcji next().





# Funkcja any() służy do sprawdzania, czy co najmniej jeden element w danej sekwencji 
# (takiej jak lista, krotka, zbiór lub inny iterowalny obiekt) jest prawdziwy (tzn. ma wartość True).

# Lista z wartościami logicznymi
values1 = [False, False, True]
print(any(values1))  # Output: True
# Lista z wartościami logicznymi i samymi wartościami False
values2 = [False, False, False]
print(any(values2))  # Output: False
# Lista pusta
empty_list = []
print(any(empty_list))  # Output: False (brak elementów, więc żaden nie jest "prawdziwy")
# Krotka z wartościami logicznymi
values3 = (True, False, False)
print(any(values3))  # Output: True
# Zbiór z wartościami logicznymi
values4 = {False, False, False}
print(any(values4))  # Output: False





# Funkcja ascii() służy do zwracania reprezentacji łańcucha znaków w postaci, 
# która jest czytelna dla człowieka i może być użyta do rekonstrukcji obiektu za pomocą funkcji eval(). 

# Reprezentacja łańcucha znaków
text = "Hello, world!"
print(ascii(text))  # Output: 'Hello, world!'
# Reprezentacja listy
my_list = [1, 2, "Hello", "World"]
print(ascii(my_list))  # Output: '[1, 2, \'Hello\', \'World\']'
# Reprezentacja słownika
my_dict = {'a': 1, 'b': 2, 'c': 3}
print(ascii(my_dict))  # Output: "{'a': 1, 'b': 2, 'c': 3}"





# Funkcja bin() służy do konwertowania liczby całkowitej na jej reprezentację binarną w postaci łańcucha znaków.

# Konwersja liczby całkowitej na binarną
binary1 = bin(10)
print(binary1)  # Output: '0b1010'
# Konwersja liczby całkowitej ujemnej na binarną
binary2 = bin(-10)
print(binary2)  # Output: '-0b1010'





# Funkcja bool() służy do konwersji wartości na typ logiczny (bool).

# Konwersja różnych wartości na typ logiczny
print(bool(True))    # Output: True
print(bool(False))   # Output: False
print(bool(0))       # Output: False
print(bool(1))       # Output: True
print(bool([]))      # Output: False
print(bool([1, 2]))  # Output: True
print(bool(''))      # Output: False
print(bool('abc'))   # Output: True





# Funkcja breakpoint() działa zarówno w trybie synchronicznym, jak i asynchronicznym. 
# Służy ona do umieszczania punktów przerwania (ang. breakpoint) w kodzie, co pozwala na debugowanie programu.
# breakpoint() działa podobnie do wywołania import pdb; pdb.set_trace(), ustawiając punkt przerwania w miejscu, 
# gdzie się znajduje, co pozwala na interaktywne debugowanie kodu w terminalu.

def divide(x, y):
    result = x / y
    breakpoint()  # Wywołanie punktu przerwania
    return result

result = divide(10, 5)
print(result)





# bytearray jest mutowalnym typem sekwencji, który przechowuje tablicę bajtów. 
# Oznacza to, że bytearray jest zmodyfikowalny po utworzeniu, co oznacza, że jego elementy (bajty) mogą być zmieniane.

# Tworzenie pustej tablicy bajtów
byte_array = bytearray()
# Tworzenie tablicy bajtów z określonymi bajtami
byte_array = bytearray(b'Hello')
# Tworzenie tablicy bajtów z określonej sekwencji bajtów
byte_array = bytearray([65, 66, 67, 68, 69])
# Dostęp do elementów tablicy bajtów
print(byte_array[0])  # Output: 65
# Modyfikacja elementów tablicy bajtów
byte_array[0] = 97
# Konwersja tablicy bajtów na łańcuch znaków
print(byte_array.hex())
my_string = byte_array.decode()
print(my_string)  # Output: 'aBCDE'





# Funkcja bytes() służy do tworzenia obiektu typu bytes, który reprezentuje niemodyfikowalną sekwencję bajtów. 
# Można ją wywołać na kilka sposobów:
# 1. Można przekazać łańcuch znaków zakodowany w określonym kodowaniu, np. "utf-8", 
# aby uzyskać reprezentację bajtową tego łańcucha w danym kodowaniu.
b = bytes("hello", "utf-8")
# 2. Można przekazać liczbę całkowitą i uzyskać reprezentację bajtową tej liczby, używając bajtów kodujących jej binarną reprezentację.
b = bytes(5)
# 3. Można przekazać inny obiekt iterowalny zawierający liczby całkowite z zakresu 0-255 i uzyskać reprezentację bajtową na podstawie tych liczb.
b = bytes([72, 101, 108, 108, 111])





# Funkcja callable() służy do sprawdzania, czy dany obiekt jest wywoływalny (ang. callable), czyli czy można go wywołać jak funkcję.

# Funkcja jest wywoływalna
def my_function():
    print("Hello, world!")

print(callable(my_function))  # Output: True

# Metoda klasy jest wywoływalna
class MyClass:
    def my_method(self):
        print("Hello from method!")

print(callable(MyClass.my_method))  # Output: True

# Obiekt klasy zdefiniowanej z metodą __call__ jest wywoływalny
class CallableClass:
    def __call__(self):
        print("Hello from __call__ method!")

obj = CallableClass()
print(callable(obj))  # Output: True

# Obiekt nie jest wywoływalny
my_variable = 10
print(callable(my_variable))  # Output: False





# Funkcja chr() przyjmuje kod Unicode i zwraca odpowiadający mu znak. abs

# Zwraca znak Unicode dla podanego kodu
print(chr(65))  # Output: 'A'
# Zwraca znak Unicode dla kodu poza zakresem standardowego ASCII
print(chr(8364))  # Output: '€'





# Funkcja classmethod() służy do definiowania metod klasy. Metody klasy są powiązane z klasą, a nie z instancją klasy, 
# co oznacza, że mają dostęp tylko do atrybutów klasy, a nie do atrybutów instancji.

class Person:
    count = 0

    @classmethod
    def increase_count(cls):
        cls.count += 1

    @classmethod
    def get_count(cls):
        return cls.count

Person.increase_count()  # Zwiększa liczbę instancji klasy Person
print(Person.get_count())  # Output: 1





# Funkcja compile() jest używana do kompilowania kodu źródłowego Pythona do kodu bajtowego lub do obiektu kodu, 
# który może być uruchomiony za pomocą interpretera Pythona.

source_code = """
def multiply(x, y):
    return x * y

result = multiply(2, 3)
print(result)
"""

compiled_code = compile(source_code, '<string>', 'exec')
exec(compiled_code)





# Funkcja complex() tworzy liczbę zespoloną na podstawie podanych argumentów. 
# Może przyjąć dwa argumenty liczbowe lub jedno wyrażenie, które zostanie zinterpretowane jako liczba zespolona.

# Tworzenie liczby rzeczywistej
real_number = complex(3)
print(real_number)  # Output: (3+0j)

# Tworzenie liczby zespolonej
complex_number = complex(2, 4)
print(complex_number)  # Output: (2+4j)

# Tworzenie liczby zespolonej na podstawie wyrażenia
expression_number = complex("1+2j")
print(expression_number)  # Output: (1+2j)





# Funkcja delattr() usuwa atrybut o podanej nazwie z danego obiektu. 
# Jeśli atrybut o tej nazwie nie istnieje, zostanie zgłoszony wyjątek AttributeError.

class Person:
    def __init__(self, name, age):
        self.name = name
        self.age = age

person = Person("John", 30)
print(person.name)  # Output: John

delattr(person, "name")
# Wywołanie poniższego polecenia spowoduje zgłoszenie wyjątku AttributeError,
# ponieważ atrybut "name" został usunięty z obiektu "person"
# print(person.name)





# Funkcja dict() służy do tworzenia nowego słownika lub konwertowania obiektów na słownik.

# Utworzenie pustego słownika
empty_dict = dict()
print(empty_dict)  # Output: {}

# Utworzenie słownika z sekwencji krotek
pairs = [('a', 1), ('b', 2), ('c', 3)]
dict_from_tuples = dict(pairs)
print(dict_from_tuples)  # Output: {'a': 1, 'b': 2, 'c': 3}

# Utworzenie słownika za pomocą argumentów nazwanych
named_arguments_dict = dict(name='John', age=30)
print(named_arguments_dict)  # Output: {'name': 'John', 'age': 30}





# Funkcja dir() służy do uzyskania listy nazw atrybutów i metod obiektu. 
# Może być używana na różnych typach obiektów, w tym na modułach, klasach, instancjach klas, funkcjach itp.

# Uzyskanie listy nazw atrybutów i metod wbudowanych dla typu listy
# print(dir(list))

# Uzyskanie listy nazw atrybutów i metod dla obiektu klasy
class MyClass:
    def __init__(self):
        self.attribute = "value"
    def method(self):
        pass

obj = MyClass()
print(dir(obj))

# Uzyskanie listy nazw atrybutów i metod dla modułu
import math
# print(dir(math))





# Funkcja divmod() zwraca wynik dzielenia dwóch liczb, razem z resztą jako krotkę.

# Przykład 1:
result = divmod(9, 4)
print(result)  # Output: (2, 1), bo 9 podzielone przez 4 daje 2 z resztą 1

# Przykład 2:
result = divmod(11, 3)
print(result)  # Output: (3, 2), bo 11 podzielone przez 3 daje 3 z resztą 2





# Funkcja enumerate() przyjmuje iterowalny obiekt, takie jak sekwencję (np. listę, krotkę, ciąg znaków) i zwraca iterator, 
# który generuje krotki zawierające indeksy oraz odpowiadające im elementy z danego obiektu.

# Przykład 1:
my_list = ['apple', 'banana', 'orange']
for index, fruit in enumerate(my_list):
    print(index, fruit)

# Przykład 2:
my_string = 'hello'
for index, char in enumerate(my_string, start=1):
    print(index, char)





# Funkcja eval() służy do wykonania ciągu znaków jako wyrażenia Pythona.
x = 10
y = 20
# expression = 'x + y * 2'
expression = 'len(my_list)' 
result = eval(expression)
print(result) 





# Funkcja exec()służy do wykonania dynamicznie utworzonego kodu Pythona, który jest przekazany jako ciąg znaków lub obiekt kodu.

# Przykład 1: Wykonanie ciągu znaków zawierającego kod Pythona
code = '''
for i in range(5):
    print(i)
'''
exec(code)

# Przykład 2: Wykonanie kodu z użyciem globalnych i lokalnych zmiennych
globals_dict = {}
locals_dict = {'x': 10, 'y': 20}
code = '''
z = x + y
print(z)
'''
exec(code, globals_dict, locals_dict)





# Funkcja filter() służy do filtrowania elementów iterowalnych na podstawie funkcji, która decyduje, 
# czy dany element powinien być zatrzymany czy odrzucony.
# Definicja funkcji, która zwraca True dla liczb parzystych

def is_even(num):
    return num % 2 == 0
numbers = [1, 2, 3, 4, 5, 6, 7, 8, 9, 10]
even_numbers = filter(is_even, numbers)
even_numbers_list = list(even_numbers)
print(even_numbers_list) 

# z lambdą
numbers = [1, 2, 3, 4, 5, 6, 7, 8, 9, 10]
even_numbers = filter(lambda x: x % 2 == 0, numbers)
even_numbers_list = list(even_numbers)
print(even_numbers_list) 





# Funkcja float() służy do konwertowania różnych typów danych na wartości zmiennoprzecinkowe (typu float).

# Konwersja liczby całkowitej na wartość zmiennoprzecinkową
result = float(10)
print(result)  # Output: 10.0

# Konwersja łańcucha znaków na wartość zmiennoprzecinkową
result = float("3.14")
print(result)  # Output: 3.14

# Konwersja wartości logicznej na wartość zmiennoprzecinkową
result = float(True)
print(result)  # Output: 1.0

# Konwersja obiektu z metodą __float__() na wartość zmiennoprzecinkową
class MyFloat:
    def __float__(self):
        return 2.71828

result = float(MyFloat())
print(result)  # Output: 2.71828





# Funkcja format() służy do formatowania wartości w określony sposób.

# Formatowanie liczby całkowitej
formatted_string = format(1234, ",d")
print(formatted_string)  # Output: 1,234
# Formatowanie liczby zmiennoprzecinkowej
formatted_string = format(3.1415926535, ".2f")
print(formatted_string)  # Output: 3.14
# Formatowanie liczby w notacji naukowej
formatted_string = format(1234567, "e")
print(formatted_string)  # Output: 1.234567e+06
# Formatowanie łańcucha znaków
formatted_string = format("Hello", "^10")
print(formatted_string)  # Output:   Hello   
# Formatowanie z użyciem znaczników pozycji
formatted_string = "{0} is {1}".format("Apple", "fruit")
print(formatted_string)  # Output: Apple is fruit
# Formatowanie z użyciem nazwanych argumentów
formatted_string = "{name} is {attribute}".format(name="Apple", attribute="fruit")
print(formatted_string)  # Output: Apple is fruit





# Funkcja frozenset() służy do tworzenia niemodyfikowalnego zbioru (frozen set). 
# Zbiór niemodyfikowalny jest strukturą danych, która jest podobna do zbioru, ale nie może być modyfikowana po utworzeniu. 

# Utworzenie zbioru niemodyfikowalnego z listy
my_list = [1, 2, 3, 4, 3, 2, 1]
frozen_set = frozenset(my_list)
print(frozen_set)  # Output: frozenset({1, 2, 3, 4})

# Utworzenie zbioru niemodyfikowalnego z krotki
my_tuple = (1, 2, 3, 4, 3, 2, 1)
frozen_set = frozenset(my_tuple)
print(frozen_set)  # Output: frozenset({1, 2, 3, 4})

# Utworzenie zbioru niemodyfikowalnego z innego zbioru
my_set = {1, 2, 3, 4}
frozen_set = frozenset(my_set)
print(frozen_set)  # Output: frozenset({1, 2, 3, 4})





# Funkcja getattr() służy do pobierania wartości atrybutu z danego obiektu na podstawie jego nazwy.

# Utworzenie klasy
class Person:
    name = "John"
    age = 30

# Pobranie wartości atrybutu z obiektu
person = Person()
name = getattr(person, "name")
print(name)  # Output: John

# Pobranie wartości atrybutu, który nie istnieje, z domyślną wartością
city = getattr(person, "city", "Unknown")
print(city)  # Output: Unknown





# Funkcja globals() zwraca słownik zawierający wszystkie globalne zmienne dostępne w bieżącym zakresie lub przestrzeni nazw. 

# Definicja zmiennej globalnej
global_variable = 10

# Wywołanie funkcji globals()
global_variables = globals()

# Wyświetlenie zawartości słownika zmiennych globalnych
# print(global_variables)  # Output: {'__name__': '__main__', '__doc__': None, '__package__': None, ..., 'global_variable': 10}





# Funkcja hasattr() służy do sprawdzania, czy dany obiekt ma atrybut o podanej nazwie.

# Utworzenie klasy
class Person:
    name = "John"
    age = 30

# Sprawdzenie, czy obiekt ma atrybut o podanej nazwie
person = Person()
result = hasattr(person, "name")
print(result)  # Output: True

# Sprawdzenie, czy obiekt ma atrybut o podanej nazwie, która nie istnieje
result = hasattr(person, "city")
print(result)  # Output: False





# Funkcja hash() służy do obliczania hasha danego obiektu.abs

# Obliczenie hasha dla liczby całkowitej
result = hash(42)
print(result)  # Output: 42 (wartość hash jest równa samej liczbie)

# Obliczenie hasha dla łańcucha znaków
result = hash("Hello")
print(result)  # Output: 6421259139035307099 (wartość hash jest unikalna dla danego ciągu znaków)

# Obliczenie hasha dla krotki
result = hash((1, 2, 3))
print(result)  # Output: 2528502973977326415 (wartość hash jest unikalna dla danej krotki)





# Funkcja help() służy do uzyskiwania pomocy dotyczącej danego obiektu lub tematu.
# Uzyskanie pomocy dotyczącej funkcji wbudowanej round()
# help(round)

# Uzyskanie pomocy dotyczącej modułu math
import math
# help(math)

# Uzyskanie ogólnej pomocy
# help()





# Funkcja hex() służy do konwertowania liczby całkowitej na reprezentację szesnastkową (system liczbowy o podstawie 16).

# Konwersja liczby całkowitej na reprezentację szesnastkową
result = hex(255)
print(result)  # Output: 0xff

# Konwersja liczby całkowitej ujemnej na reprezentację szesnastkową
result = hex(-10)
print(result)  # Output: -0xa





# Funkcja id() zwraca identyfikator (ID) obiektu, czyli unikalny numer identyfikujący dany obiekt w trakcie działania programu. 

# Utworzenie listy i pobranie jej identyfikatora
my_list = [1, 2, 3]
list_id = id(my_list)
print(list_id)  # Output: 140294726515584

# Pobranie identyfikatora dla liczby całkowitej
number = 10
number_id = id(number)
print(number_id)  # Output: 140294727308896

# Pobranie identyfikatora dla łańcucha znaków
text = "Hello"
text_id = id(text)
print(text_id)  # Output: 140294727381520





# Funkcja input() służy do pobierania danych od użytkownika z konsoli.

# Proste użycie funkcji input()
# name = input("Enter your name: ")
# print("Hello,", name)

# Użycie input() bez komunikatu
# age = input()
# print("You entered:", age)





# Funkcja int() służy do konwertowania wartości na liczbę całkowitą (integer).

# Konwersja liczby całkowitej na liczbę całkowitą
result = int(10)
print(result)  # Output: 10

# Konwersja liczby zmiennoprzecinkowej na liczbę całkowitą
result = int(3.14)
print(result)  # Output: 3

# Konwersja łańcucha znaków na liczbę całkowitą
result = int("123")
print(result)  # Output: 123

# Konwersja łańcucha znaków w systemie szesnastkowym na liczbę całkowitą
result = int("1a", base=16)
print(result)  # Output: 26





# Funkcja isinstance() służy do sprawdzania, czy dany obiekt jest instancją określonego typu lub klasy.

# Utworzenie klasy Person
class Person:
    pass

# Utworzenie obiektu klasy Person
person = Person()

# Sprawdzenie, czy obiekt jest instancją klasy Person
result = isinstance(person, Person)
print(result)  # Output: True

# Sprawdzenie, czy obiekt jest instancją typu str
text = "Hello"
result = isinstance(text, str)
print(result)  # Output: True

# Sprawdzenie, czy obiekt jest instancją typu int lub float
number = 10
result = isinstance(number, (int, float))
print(result)  # Output: True





# Funkcja issubclass() służy do sprawdzania, czy jedna klasa jest podklasą (potomkiem) innej klasy.

# Utworzenie klasy Animal
class Animal:
    pass

# Utworzenie klasy Dog, która dziedziczy po klasie Animal
class Dog(Animal):
    pass

# Sprawdzenie, czy klasa Dog jest podklasą klasy Animal
result = issubclass(Dog, Animal)
print(result)  # Output: True

# Sprawdzenie, czy klasa Animal jest podklasą klasy Dog
result = issubclass(Animal, Dog)
print(result)  # Output: False





# Funkcja iter() zwraca obiekt iteratora dla danego obiektu.

# Utworzenie listy
my_list = [1, 2, 3, 4]

# Uzyskanie iteratora dla listy
my_iterator = iter(my_list)

# Wyświetlenie kolejnych elementów za pomocą iteratora
print(next(my_iterator))  # Output: 1
print(next(my_iterator))  # Output: 2
print(next(my_iterator))  # Output: 3
print(next(my_iterator))  # Output: 4

# Utworzenie iteratora z wyrażenia generatorowego
my_iterator = iter(x**2 for x in range(5))

# Wyświetlenie kolejnych elementów za pomocą iteratora
print(next(my_iterator))  # Output: 0
print(next(my_iterator))  # Output: 1
print(next(my_iterator))  # Output: 4
print(next(my_iterator))  # Output: 9
print(next(my_iterator))  # Output: 16





# Funkcja len() zwraca długość (liczbę elementów) obiektu. 

# Obliczenie długości listy
my_list = [1, 2, 3, 4, 5]
length = len(my_list)
print(length)  # Output: 5

# Obliczenie długości łańcucha znaków
my_string = "Hello, World!"
length = len(my_string)
print(length)  # Output: 13

# Obliczenie liczby elementów w słowniku
my_dict = {'a': 1, 'b': 2, 'c': 3}
length = len(my_dict)
print(length)  # Output: 3





# Funkcja list() tworzy nową listę na podstawie podanej sekwencji lub iterowalnego obiektu. 

# Konwersja krotki na listę
my_tuple = (1, 2, 3)
new_list = list(my_tuple)
print(new_list)  # Output: [1, 2, 3]

# Konwersja łańcucha znaków na listę
my_string = "hello"
new_list = list(my_string)
print(new_list)  # Output: ['h', 'e', 'l', 'l', 'o']

# Utworzenie listy z zakresu liczb
new_list = list(range(5))
print(new_list)  # Output: [0, 1, 2, 3, 4]

# Konwersja słownika na listę kluczy
my_dict = {'a': 1, 'b': 2, 'c': 3}
new_list = list(my_dict)
print(new_list)  # Output: ['a', 'b', 'c']





# Funkcja locals() zwraca słownik zawierający bieżące zmienne lokalne w bieżącym zakresie.

def example_function():
    local_variable = 10
    print(locals())

example_function()





# Funkcja map() służy do przekształcania każdego elementu z jednego lub więcej iterowalnych obiektów za pomocą określonej funkcji.

# Definicja funkcji do podwajania liczby
def double(x):
    return 2 * x

# Zastosowanie funkcji do listy
my_list = [1, 2, 3, 4, 5]
result = map(double, my_list)
print(list(result))  # Output: [2, 4, 6, 8, 10]

# Zastosowanie funkcji do dwóch list równolegle
list1 = [1, 2, 3]
list2 = [4, 5, 6]
result = map(lambda x, y: x + y, list1, list2)
print(list(result))  # Output: [5, 7, 9]





# Funkcja max() zwraca największy element z podanej sekwencji lub największy z przekazanych argumentów.

# Znalezienie największej liczby w liście
my_list = [1, 5, 3, 7, 2]
max_value = max(my_list)
print(max_value)  # Output: 7

# Znalezienie największego łańcucha znaków
my_strings = ["apple", "banana", "orange", "kiwi"]
max_value = max(my_strings, key=len)
print(max_value)  # Output: "banana"





# Funkcja memoryview() tworzy obiekt pamięciową reprezentację obiektu w pamięci, co umożliwia dostęp do jego danych za pomocą różnych widoków.

# Utworzenie obiektu typu bytes
data = bytearray([0x01, 0x02, 0x03, 0x04])

# Utworzenie pamięciowego widoku dla obiektu typu bytes
mem_view = memoryview(data)

# Wyświetlenie wartości z pamięciowego widoku
print(mem_view[0])  # Output: 1
print(mem_view[1])  # Output: 2
print(mem_view[2])  # Output: 3
print(mem_view[3])  # Output: 4

# Modyfikacja danych za pomocą pamięciowego widoku
mem_view[0] = 0x05
print(data)  # Output: b'\x05\x02\x03\x04'





# Funkcja min() służy do znajdowania najmniejszego elementu w podanej sekwencji lub wśród przekazanych argumentów.

# Znalezienie najmniejszej liczby w liście
my_list = [5, 3, 8, 2, 9]
min_value = min(my_list)
print(min_value)  # Output: 2

# Znalezienie najmniejszego łańcucha znaków
my_strings = ["apple", "banana", "orange", "kiwi"]
min_value = min(my_strings, key=len)
print(min_value)  # Output: "kiwi"





# Funkcja next() służy do pobierania następnego elementu z iteratora.

# Utworzenie iteratora
my_iterator = iter([1, 2, 3, 4, 5])

# Pobranie kolejnych elementów z iteratora
print(next(my_iterator))  # Output: 1
print(next(my_iterator))  # Output: 2
print(next(my_iterator))  # Output: 3





# Funkcja object() tworzy nowy obiekt bez żadnych właściwości lub zachowań specjalnych. 

# Utworzenie nowego obiektu typu object
new_object = object()
# Sprawdzenie typu nowego obiektu
print(type(new_object))  # Output: <class 'object'>





# Funkcja oct() służy do konwertowania liczby na jej reprezentację w systemie ósemkowym (oktalnym). 

# Konwersja liczby na reprezentację ósemkową
number = 10
octal_representation = oct(number)
print(octal_representation)  # Output: '0o12'

# Konwersja liczby ujemnej na reprezentację ósemkową
negative_number = -10
octal_representation = oct(negative_number)
print(octal_representation)  # Output: '-0o12'





# Funkcja open() służy do otwierania plików w różnych trybach dostępu. 

# file_object = open(file, mode, buffering, encoding, errors, newline, closefd, opener)
# file: Ścieżka do pliku, który chcesz otworzyć.
# mode: (opcjonalny): Tryb dostępu do pliku. Domyślnie jest to 'r' (czytanie).
# buffering: (opcjonalny): Określa strategię buforowania. Domyślnie jest to -1, co oznacza użycie domyślnego buforowania.
# encoding: (opcjonalny): Określa kodowanie znaków do użycia podczas odczytu lub zapisu pliku tekstowego.
# errors: (opcjonalny): Określa sposób obsługi błędów związanych z kodowaniem znaków.
# newline: (opcjonalny): Określa, jakie znaki końca linii ('\n', '\r', '\r\n') należy używać podczas odczytu i zapisu pliku tekstowego.
# closefd: (opcjonalny): Określa, czy należy zamknąć deskryptor pliku po zamknięciu obiektu pliku.
# opener: (opcjonalny): Funkcja, która zostanie użyta do otwarcia pliku.

# Otwarcie pliku do odczytu
# with open('example.txt', 'r') as file:
#     content = file.read()
#     print(content)

# Otwarcie pliku do zapisu
# with open('example.txt', 'w') as file:
#     file.write('Hello, World!')





# Funkcja ord() służy do pobierania wartości Unicode znaku.

# Pobranie wartości Unicode dla znaku 'A'
unicode_value = ord('A')
print(unicode_value)  # Output: 65

# Pobranie wartości Unicode dla znaku 'ł' (z polskiego alfabetu)
unicode_value = ord('ł')
print(unicode_value)  # Output: 322





# Funkcja pow() służy do podnoszenia liczby do potęgi.

# Obliczenie 2^3
result = pow(2, 3)
print(result)  # Output: 8

# Obliczenie 2^3 modulo 5
result = pow(2, 3, 5)
print(result)  # Output: 3





# Funkcja print() służy do wyświetlania danych na standardowym wyjściu (zazwyczaj na konsoli lub terminalu). 
# Wyświetlenie pojedynczego obiektu
print("Hello, World!")
# Wyświetlenie wielu obiektów, oddzielając je przecinkiem
print("Hello", "World", sep=", ")
# Wyświetlenie obiektów bez końca linii
print("Hello", end=" ")
print("World")
# Zapisanie wyniku do pliku
with open("output.txt", "w") as f:
    print("Hello, World!", file=f)





# Funkcja property() tworzy i zwraca obiekt właściwości (property). Właściwości są specjalnymi atrybutami, 
# które pozwalają na kontrolę dostępu do atrybutów klasy lub instancji poprzez wywoływanie getterów, setterów i delecików. 

class Person:
    def __init__(self, name):
        self._name = name
    
    def get_name(self):
        return self._name
    
    def set_name(self, value):
        self._name = value
    
    def del_name(self):
        del self._name
    
    name = property(get_name, set_name, del_name, "Person's name property")

# Użycie właściwości
person = Person("John")
print(person.name)  # Output: "John"
person.name = "Alice"
print(person.name)  # Output: "Alice"
del person.name





# Funkcja range() tworzy sekwencję liczb całkowitych w określonym zakresie.

# Utworzenie sekwencji liczb od 0 do 9
sequence1 = range(10)
print(list(sequence1))  # Output: [0, 1, 2, 3, 4, 5, 6, 7, 8, 9]

# Utworzenie sekwencji liczb od 1 do 10
sequence2 = range(1, 11)
print(list(sequence2))  # Output: [1, 2, 3, 4, 5, 6, 7, 8, 9, 10]

# Utworzenie sekwencji liczb parzystych od 0 do 10
sequence3 = range(0, 11, 2)
print(list(sequence3))  # Output: [0, 2, 4, 6, 8, 10]





# Funkcja repr() zwraca reprezentację tekstową obiektu. 

# Uzyskanie reprezentacji tekstowej dla liczby całkowitej
int_representation = repr(42)
print(int_representation)  # Output: '42'

# Uzyskanie reprezentacji tekstowej dla łańcucha znaków
str_representation = repr("Hello, World!")
print(str_representation)  # Output: "'Hello, World!'"

# Uzyskanie reprezentacji tekstowej dla listy
list_representation = repr([1, 2, 3])
print(list_representation)  # Output: '[1, 2, 3]'





# Funkcja reversed() zwraca odwrócony widok sekwencji lub iteratora. 

# Odwrócenie listy
my_list = [1, 2, 3, 4, 5]
reversed_list = reversed(my_list)
print(list(reversed_list))  # Output: [5, 4, 3, 2, 1]

# Odwrócenie łańcucha znaków
my_string = "Hello"
reversed_string = reversed(my_string)
print(''.join(reversed_string))  # Output: "olleH"

# Odwrócenie krotki
my_tuple = (1, 2, 3, 4, 5)
reversed_tuple = reversed(my_tuple)
print(tuple(reversed_tuple))  # Output: (5, 4, 3, 2, 1)





# Funkcja round() służy do zaokrąglania liczby do określonej liczby miejsc po przecinku lub do najbliższej liczby całkowitej. 

# Zaokrąglenie do najbliższej liczby całkowitej
result1 = round(3.7)
print(result1)  # Output: 4

# Zaokrąglenie do dwóch miejsc po przecinku
result2 = round(3.14159, 2)
print(result2)  # Output: 3.14





# Funkcja set() tworzy nowy obiekt zbioru (set) zawierający unikalne elementy. 

# Utworzenie zbioru z listy
my_list = [1, 2, 3, 4, 3, 2, 1]
new_set = set(my_list)
print(new_set)  # Output: {1, 2, 3, 4}

# Utworzenie pustego zbioru
empty_set = set()
print(empty_set)  # Output: set()





# Funkcja setattr() służy do ustawiania wartości atrybutu obiektu. 

class Person:
    def __init__(self, name, age):
        self.name = name
        self.age = age

# Utworzenie obiektu klasy Person
person = Person("Alice", 30)

# Ustawienie nowej wartości atrybutu 'age' obiektu 'person'
setattr(person, 'age', 35)
print(person.age)  # Output: 35

# Ustawienie nowej wartości atrybutu 'city' obiektu 'person' (tworzenie nowego atrybutu)
setattr(person, 'city', 'New York')
print(person.city)  # Output: New York





# Funkcja slice() tworzy obiekt wycinka (slice). 
# Wycinek jest używany do definiowania fragmentu sekwencji (np. listy, krotki, łańcucha znaków) do uzyskania dostępu do jej podzbioru. 

# Utworzenie wycinka dla indeksów od 2 do 5 (bez 5) z krokiem domyślnym
my_slice1 = slice(2, 5)
print(my_slice1)  # Output: slice(2, 5, None)

# Użycie wycinka do uzyskania dostępu do podzbioru listy
my_list = [1, 2, 3, 4, 5, 6, 7, 8, 9]
subset = my_list[my_slice1]
print(subset)  # Output: [3, 4, 5]

# Utworzenie wycinka dla indeksów od 1 do 7 (bez 7) z krokiem 2
my_slice2 = slice(1, 7, 2)
print(my_slice2)  # Output: slice(1, 7, 2)

# Użycie wycinka do uzyskania dostępu do podzbioru listy z krokiem 2
subset2 = my_list[my_slice2]
print(subset2)  # Output: [2, 4, 6]





# Funkcja sorted() sortuje elementy sekwencji (np. listy, krotki, łańcucha znaków) 
# lub iterowalnego obiektu i zwraca nową listę zawierającą posortowane elementy. 

# Sortowanie listy liczb
numbers = [3, 1, 4, 1, 5, 9, 2, 6, 5]
sorted_numbers = sorted(numbers)
print(sorted_numbers)  # Output: [1, 1, 2, 3, 4, 5, 5, 6, 9]

# Sortowanie łańcucha znaków
text = "python"
sorted_text = sorted(text)
print(sorted_text)  # Output: ['h', 'n', 'o', 'p', 't', 'y']

# Sortowanie listy słów według ich długości
words = ["banana", "apple", "cherry", "grapefruit"]
sorted_words = sorted(words, key=len)
print(sorted_words)  # Output: ['apple', 'banana', 'cherry', 'grapefruit']





# Funkcja staticmethod() służy do dekorowania metody w klasie i przekształcania jej w metodę statyczną. 
# Metoda statyczna jest metodą, która jest przypisana do klasy, a nie do instancji, co oznacza, 
# że może być wywoływana bez utworzenia instancji klasy. 

class MyClass:
    @staticmethod
    def static_method(x, y):
        return x + y

# Wywołanie metody statycznej bez tworzenia instancji klasy
result = MyClass.static_method(3, 5)
print(result)  # Output: 8





# Funkcja str() konwertuje podany obiekt na jego reprezentację jako łańcuch znaków.

# Konwersja liczby całkowitej na łańcuch znaków
number = 42
str_number = str(number)
print(str_number)  # Output: '42'

# Konwersja listy na łańcuch znaków
my_list = [1, 2, 3]
str_list = str(my_list)
print(str_list)  # Output: '[1, 2, 3]'

# Konwersja obiektu do łańcucha znaków (użycie zdefiniowanej metody __str__())
class Person:
    def __init__(self, name):
        self.name = name
    
    def __str__(self):
        return f"Person: {self.name}"

person = Person("Alice")
str_person = str(person)
print(str_person)  # Output: 'Person: Alice'





# Funkcja sum() zwraca sumę wszystkich elementów w sekwencji, np. w liście, krotce lub zbiorze.

# Sumowanie elementów listy
numbers = [1, 2, 3, 4, 5]
total = sum(numbers)
print(total)  # Output: 15

# Sumowanie elementów krotki
my_tuple = (1, 2, 3, 4, 5)
total = sum(my_tuple)
print(total)  # Output: 15

# Sumowanie elementów zbioru
my_set = {1, 2, 3, 4, 5}
total = sum(my_set)
print(total)  # Output: 15

# Sumowanie elementów z określoną wartością początkową
numbers = [1, 2, 3, 4, 5]
total = sum(numbers, start=10)
print(total)  # Output: 25





# Funkcja super() zwraca obiekt proxy, który pozwala na dostęp do atrybutów i metod klasy nadrzędnej (superklasy) 
# w klasie dziedziczącej (podklasie). 

class Parent:
    def __init__(self, name):
        self.name = name

class Child(Parent):
    def __init__(self, name, age):
        super().__init__(name)  # Wywołanie konstruktora klasy nadrzędnej
        self.age = age

child = Child("Alice", 10)
print(child.name)  # Output: Alice
print(child.age)   # Output: 10





# Funkcja tuple() tworzy nowy obiekt tupli (krotki) na podstawie podanej sekwencji lub iterowalnego obiektu. 

# Utworzenie krotki na podstawie listy
my_list = [1, 2, 3]
new_tuple = tuple(my_list)
print(new_tuple)  # Output: (1, 2, 3)

# Utworzenie krotki na podstawie łańcucha znaków
my_string = "hello"
new_tuple = tuple(my_string)
print(new_tuple)  # Output: ('h', 'e', 'l', 'l', 'o')

# Utworzenie pustej krotki
empty_tuple = tuple()
print(empty_tuple)  # Output: ()





# Funkcja type() zwraca typ obiektu. 

# Sprawdzenie typu liczby całkowitej
number = 10
print(type(number))  # Output: <class 'int'>

# Sprawdzenie typu łańcucha znaków
text = "Hello"
print(type(text))  # Output: <class 'str'>

# Sprawdzenie typu listy
my_list = [1, 2, 3]
print(type(my_list))  # Output: <class 'list'>

# Sprawdzenie typu obiektu klasy
class MyClass:
    pass

obj = MyClass()
print(type(obj))  # Output: <class '__main__.MyClass'>





# Funkcja vars() zwraca słownik zawierający atrybuty i ich wartości dla określonego obiektu. 

# Uzyskanie atrybutów i ich wartości dla obiektu klasy
class Person:
    def __init__(self, name, age):
        self.name = name
        self.age = age

person = Person("Alice", 30)
attributes = vars(person)
print(attributes)  # Output: {'name': 'Alice', 'age': 30}

# Uzyskanie lokalnych zmiennych w bieżącym zakresie
var1 = 10
var2 = "Hello"
local_vars = vars()
# print(local_vars)  # Output: {'var1': 10, 'var2': 'Hello'}





# Funkcja zip() służy do łączenia elementów z różnych iterowalnych obiektów, takich jak listy, krotki czy zbiory,
# tworząc krotki z odpowiadającymi sobie elementami
# zipped_result = zip(iterable1, iterable2, ...)

names = ['Anna', 'John', 'Emily']
ages = [25, 30, 35]
data = [1, 2, 3]
zipped_data = zip(names, ages, data)
zipped_data_list = list(zipped_data)
print(zipped_data_list) 





# Funkcja __import__() służy do dynamicznego importowania modułów. 

# Importowanie modułu math
math_module = __import__('math')
print(math_module.pi)  # Output: 3.141592653589793

# Importowanie konkretnej funkcji z modułu
sqrt_function = __import__('math', fromlist=['sqrt']).sqrt
print(sqrt_function(16))  # Output: 4.0



