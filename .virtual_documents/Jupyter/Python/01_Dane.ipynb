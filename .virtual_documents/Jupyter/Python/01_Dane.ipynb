import sys, os
print(sys.version)
dict(os.environ)['CONDA_PREFIX']





# Komentarz jednoliniowy.

'''
komentarz
wielo-
liniowy
'''

''' 35 słów kluczowych w python:
and   del   from   None   True   as   elif   global   nonlocal   try   assert   else   if   not   while   break   except   import
or   with   class   False   in   pass   yield   continue   finally   is   raise   async   def   for   lambda   return   await
'''

# Camel Case
myVariableName = "John"
# Pascal Case
MyVariableName = "John"
# Snake Case
my_variable_name = "John"





# W python nie ma potrzeby deklarowania zmiennej interpreter wywnioskuje sobe sam jaki to typ.
x = 123
y = 'str'
print(x, y)
# Jeżeli w trakcie programu zmieni się typ zmiennej interpreter sie tym zajmnie sam.
x = "text"
y = 456
print(x, y)


# Przypisywanie wielu zmiennym, wielu wartości, ilość zmiennych i ilość wartości musi się zgadzać.
x, y, z = "war1", "war2", "war3"
print(x, y, z)
# Przypisywanie wielu zmiennym, jednej wartości.
x = y = z = "wartość"
print(x, y, z)


# Szybkie przepisanie wartości z listy do zmiennych (Unpack a Collection), dotyczy to równieź innych kolekcji (tuple, set).
lista = ['war1', 'war2', 'war3']
x, y, z = lista # lista musi mieć tyle samo pól co jest zmiennych
lista, x, y, z


# Automatyczne przypisywanie wartości, dotyczy to równieź innych kolekcji.
lista = ['str1', 'str2', 'str3', 'str4', 'str5', 'str6']
(zm1, *zm2, zm3) = lista
print(zm1)
print(zm2)
print(zm3)


# jw.
(zm1, zm2, *zm3) = lista
print(zm1)
print(zm2)
print(zm3)





# Text Type:	      str
# Numeric Types:	  int, float, complex
# Sequence Types:	  list, tuple, range
# Mapping Type:	      dict
# Set Types:	      set, frozenset
# Boolean Type:	      bool
# Binary Types:	      bytes, bytearray, memoryview
# None Type:	      None


# Sprawdzanie typu danych.
type(123), type(1.23), type('str'), type(1+5j)


x = 'text'
y = 123
z = 1.23
a = complex(1, 4)
b = 45+54j
type(x), type(y), type(z), type(a), type(b)


# Wymuszenie ustawienia odpowiedniego typu.
a = str("Hello World")	
b = int(20)	
c = float(20.5)		
d = complex(1j)		
e = list(("apple", "banana", "cherry"))		
f = tuple(("apple", "banana", "cherry"))	
g = range(6)	
h = dict(name="John", age=36)	
i = set(("apple", "banana", "cherry"))	
j = frozenset(("apple", "banana", "cherry"))	
k = bool(5)	
l = bytes(5)	
m = bytearray(5)
n = memoryview(bytes(5))
print(a, '\n', b, '\n',  c, '\n',  d, '\n',  e, '\n',  f, '\n',  g, '\n',  h, '\n',  i, '\n',  j, '\n',  k, '\n',  l, '\n',  m, '\n',  n)





print(type('abc'))


x = "ąćźćł"
y = 'ąćźćł'  # obojętnie czy " " , ' '.
x, y


# String wieloliniowy.
napis = """Napis który
jest, rozdzielony
na wiele linii."""
print(napis)
napis


napis = " jakiś String - napis czy Coś... "
napis


# Długość.
len(napis)


# Powielenie.
napis * 3


# Pobieranie pojedynczego znaku, string jako tablica.
napis[1] # wynikiem będzie jeden znak, a przypisanie go do zmiennej zrobi tą zmienną też stringiem, 
# w python niema zmiennych znakowych tylko stringi


# Wycinek wg ideksu od 2 do 9, bo [2:10] w zapisie to przedział <2:9)
napis[2:10]


# Wycinek wg ideksu od 2 do końca.
napis[2:]


# Wycinek od początku do 9.
napis[:10]


# Wycinek ostatnich 5 od końca.
napis[-5:]


# Wycinek co drugi od 0 do 8.
# print(string[start:stop:step]) 
napis[0:9:2]


# Cały napis.
napis[:] # lub napis[::] lub napis


# Co trzecią pozycję.
napis[::3]


# Drugi znak od końca.
napis[-2] 


# Co jeden od końca do początku, czyli rewers napisu.
napis[::-1] 


# Co dwa od końca do początku.
napis[::-2] 


# Zmiany w stringu są możliwe tylko przez nadpisanie całości, a nie przez zmiany pojedynczych znaków.
# string[1] = 's' -> error nie wolno, trzeba nadpisać całego stringa


# Sprawdź czy jest.
print(napis)
print("czy" in napis) 


# Sprawdź czy nie ma.
print("jeden" not in napis)


# Łączenie, konkatenacja ciągów.
x, y, z = "war1 ", "war2 ", "war3"
razem = x + y + ':' + z
razem


# Wylistowanie znaków
for y in 'asd':  # ze stringa
    print(y, " ", ord(y))  # odr -> numer utf8


# Wylistowanie znaków ze zmiennej
x = '12ab'    
for y in x:  # ze stringa w zmiennej
    print(y, " ", ord(y))  # odr -> numer utf8


# Z numeru UTF8 na znak.
s1 = chr(104)
s2 = chr(68)
print(s1, s2)    # wyświetlanie jako znaków osobnych
print(s1 + s2)   # łączenie w stringa


# Ze znaku na numer UTF8.
z1 = ord("a")
z2 = ord("$")
z3 = ord("ę")
print(z1, z2, z3)


# znaki specjalne
# \n: Nowa linia. Powoduje przeniesienie kursora do następnej linii.
# \t: Tabulator. Wstawia znak tabulacji.
# \' lub \": Apostrof lub cudzysłów. Pozwala na wstawienie apostrofu lub cudzysłowu do ciągu znaków otoczonego tym samym rodzajem cudzysłowu.
# \\: Ucieczka znaku. Wstawia znak ucieczki (backslash).
# \b: Powrót kursora. Powoduje cofnięcie kursora o jedno miejsce w lewo.
# \r: Powrót karetki. Przesuwa kursor do początku bieżącej linii.
# \f: Formfeed. Przesuwa kursor do nowej strony.
# \v: Pionowa tabulacja. Powoduje przesunięcie kursora do następnej kolumny, z zachowaniem tych samych wierszy, co poprzednia kolumna.
# \0: Znak końca linii. Oznacza koniec ciągu znaków.
# \ooo Octal value	
# \xhh Hex value	

print("1234\r\n5678\tasd") # \r\n \t
print(f'1234\r\n5678')
print(f'2222{chr(13)+chr(10)}3333')


# Porównywanie stringów
napis = 'abcd' 
if 'a' in 'abc' :   # sprawdza czy 'a' zawiera się w 'abc' w tym przypadku to True
    pass
if napis == 'abcd' : # czy równe 
    pass
if napis < 'abcd' : # czy napis jest przed 'abcd'
    pass
if napis == 'abcd' : # czy napis jest za 'abcd'
    pass


# Formatowanie stringa.
zm1 = 15
zm2 = 1.23
zm3 = -1.23


# Metoda 'format()'


'zm1 = {}  zm2 = {}'.format(zm1, zm2)


napis = "tekst {}"
print(napis.format(zm1))


# Metoda F-string


f'test i zmienna={zm1} lub {zm2}'


# Metoda '%' -> formatowanie przypominające printf w 'c i c++'
# 'd' - Signed integer decimal.
# 'i' - Signed integer decimal.
# 'o' - Signed octal value.
# 'u' - Obsolete type - it is identical to 'd'.
# 'x' - Signed hexadecimal (lowercase).
# 'X' - Signed hexadecimal (uppercase).
# 'e' - Floating point exponential format (lowercase).
# 'E' - Floating point exponential format (uppercase).
# 'f' - Floating point decimal format.
# 'F' - Floating point decimal format.
# 'g' - Floating point format. Uses lowercase exponential format if exponent is less than -4 or not less than precision, decimal format otherwise.
# 'G' - Floating point format. Uses uppercase exponential format if exponent is less than -4 or not less than precision, decimal format otherwise.
# 'c' - Single character (accepts integer or single character string).
# 'r' - String (converts any Python object using repr()).
# 's' - String (converts any Python object using str()).
# 'a' - String (converts any Python object using ascii()).
# '%' - No argument is converted, results in a '%' character in the result.


'text %d text %f text %+f' % (zm1, zm2, zm3) 


'text %+d text %+f text %+f' % (zm1, zm2, zm3) # formatowanie ze znakiem plus normalnie nie wyświetlanym


napis = 'text %03d text %f' % (zm1, zm2)
print(napis)
print('text %04d text % 4d' % (zm1, zm1)) # formatowanie, zero przed liczbą lub spacja przed liczbą
print('text %f' % (zm2)) # formatowanie, zero przed liczbą lub spacja przed liczbą






# Wylistowanie dąstępnych metod.
# dir(str) # dir to lista dostępnych metod w objekcie
# help(str) # manual dla klasy


napis = " jakiś String - napis czy Coś... "


# capitalize()
# Konwertuje pierwszy znak na dużą literę.
temp = napis.strip() # usunięcie białego znaku z początku stringa
temp.capitalize()


# casefold()
# Metoda jest używana do zamiany wszystkich liter łańcucha na małe litery i usuwać różnice wielkości liter 
# z różnych systemów pisma, np. usuwać różnice między literami łacińskimi i ich odpowiednikami w innych systemach pisma.
# Różnica między casefold() a lower() polega na tym, że casefold() jest bardziej agresywny w usuwaniu różnic między literami 
# z różnych systemów pisma. Na przykład, litery "ß" (scharfes S, niemiecka litera eszet) 
# i "ss" są traktowane jako równe po zastosowaniu casefold(), podczas gdy lower() nie zmienia "ß" na "ss".
text = "Straße"
text.casefold()


# center()	
# Metoda jest używana do wyrównywania łańcucha znaków w centrum określonej szerokości. 
# Ta metoda tworzy nowy łańcuch, który składa się z oryginalnego łańcucha, w którym dodane są znaki na początku i na końcu 
# w celu umieszczenia go w centrum określonej szerokości.
napis.center(50, '-')


# count()
# Zwraca liczbę wystąpień określonej wartości w ciągu znaków.
napis.count('i')


# encode()	
# Metoda służy do kodowania łańcucha znaków w określonym formacie bajtowym (np. UTF-8, ASCII, UTF-16). 
# Zwraca ona sekwencję bajtów reprezentującą zakodowany łańcuch znaków.
import encodings
encoded_text = napis.encode("utf-8")
print(encoded_text)
encoded_text = napis.encode("utf-16")
print(encoded_text)
encoded_text = napis.encode("cp1250")
print(encoded_text)


# Możliwe kodowania znaków
# import encodings
# encodings.aliases.aliases


# endswith()
# Zwraca wartość true, jeśli ciąg znaków kończy się podaną wartością.
print(napis.endswith('.'))  # czy kończy się na


# expandtabs()	
# Metoda służy do zamiany znaków tabulacji (\t) w łańcuchu na określoną liczbę spacji. 
# Domyślnie, każda tabulacja jest zamieniana na 8 spacji, ale można określić niestandardową szerokość przekształcenia.
text = 'aaa\tbbb\tccc'
print(text)
ex_text = text.expandtabs(tabsize=20)
print(ex_text)
ex_text = text.expandtabs(tabsize=2)
print(ex_text)


# find()
# Przeszukuje ciąg znaków w poszukiwaniu określonej wartości i zwraca pozycję, w której została ona znaleziona.
print(napis.find(' '))   # -1 jak nie znajdzie
print(napis.find(' ', 6, 10))  # znajdź w wycinku, -1 jak nie znajdzie


# format() -> Przykłady w Typ tekstowy: str.
# Metoda służy do formatowania łańcuchów znaków. 
# Pozwala ona na dynamiczne wstawianie wartości zmiennych do łańcucha znaków poprzez specjalne znaczniki zastępowania.

# formatted_string = "Tekst do sformatowania: {}".format(wartość)
# gdzie:
# '{}' jest miejscem, w którym zostanie wstawiona wartość zmiennej.
# wartość jest wartością, która zostanie wstawiona w miejsce '{}'.
name = "John"
age = 30
formatted_string = "Cześć, nazywam się {}, mam {} lat.".format(name, age)
print(formatted_string)


# format_map()
# Metoda jest podobna do metody format(), ale przyjmuje ona jako argument słownik zawierający pary klucz-wartość, 
# które są używane do sformatowania łańcucha znaków. Klucze w słowniku odpowiadają klamrom {} w łańcuchu formatującym.

# formatted_string = "Tekst do sformatowania: {key1}".format_map(słownik)
# gdzie:
# '{key1}' jest kluczem, który zostanie zastąpiony wartością ze słownika.
# słownik jest słownikiem zawierającym pary klucz-wartość do formatowania łańcucha.
data = {'key1': 'Wartość1', 'key2': 'Wartość2'}
formatted_string = "Dane: {key1}, {key2}".format_map(data)
print(formatted_string)


# Przeszukuje ciąg znaków w poszukiwaniu określonej wartości i zwraca pozycję, w której została ona znaleziona.
print(napis.index(' '))  # jak nieznajdzie to error
print(napis.index(' ', 6, 10)) # znajdź w wycinku jak nieznajdzie to error


# isalnum()	
# Metoda jest używana do sprawdzania, czy wszystkie znaki w łańcuchu są alfanumeryczne, 
# czyli czy składają się wyłącznie z liter i/lub cyfr. 
# Zwraca wartość logiczną True, jeśli wszystkie znaki są alfanumeryczne, a w przeciwnym razie zwraca False.
text1 = "Hello123"
text2 = "Hello 123"
text3 = "123"
text4 = "Hello!"
print(text1.isalnum())  
print(text2.isalnum())  
print(text3.isalnum())  
print(text4.isalnum())  


# isalpha()	
# Metoda jest używana do sprawdzania, czy wszystkie znaki w łańcuchu są literami alfabetu. 
# Zwraca wartość logiczną True, jeśli wszystkie znaki są literami, a w przeciwnym razie zwraca False.
text1 = "Hello"
text2 = "Hello123"
text3 = "123"
text4 = "Hello!"
print(text1.isalpha()) 
print(text2.isalpha()) 
print(text3.isalpha()) 
print(text4.isalpha()) 


# isascii()	
# Metoda sprawdza, czy wszystkie znaki w łańcuchu są znakami ASCII (American Standard Code for Information Interchange). 
# Zwraca True, jeśli wszystkie znaki są znakami ASCII, a w przeciwnym razie zwraca False.
text1 = "Hello"
text2 = "Привет"
text3 = "Hello123"
print(text1.isascii()) 
print(text2.isascii()) 
print(text3.isascii()) 


# isdecimal()	
# Metoda jest używana do sprawdzenia, czy wszystkie znaki w łańcuchu są cyframi dziesiętnymi (0-9). 
# Zwraca True, jeśli wszystkie znaki są cyframi dziesiętnymi, a w przeciwnym razie zwraca False.
text1 = "12345"
text2 = "123.45"
text3 = "Hello"
print(text1.isdecimal())  
print(text2.isdecimal())  
print(text3.isdecimal())  


# isdigit()	
# Metoda isdigit() w języku Python jest podobna do metody isdecimal(), ale bardziej ogólna. 
# Sprawdza ona, czy wszystkie znaki w łańcuchu są cyframi (0-9). 
# Zwraca True, jeśli wszystkie znaki są cyframi, a w przeciwnym razie zwraca False.
# Różnica między isdigit() a isdecimal() polega na tym, że isdigit() rozpoznaje również inne znaki, 
# które są uznawane za cyfry w różnych systemach pisma, takie jak indeksy górne, dolne indeksy i cyfry romanskie.
text1 = "12345"
text2 = "123.45"
text3 = "١٢٣٤٥"
text4 = "IV"
print(text1.isdigit()) 
print(text2.isdigit()) 
print(text3.isdigit()) 
print(text4.isdigit())


# isidentifier()	
# Metoda sprawdza, czy podany łańcuch jest poprawnym identyfikatorem (nazwą) w Pythonie. 
# Zgodnie z regułami identyfikator musi spełniać następujące kryteria:
# - Rozpoczynać się literą (a-z, A-Z) lub podkreśleniem (_).
# - Składać się z liter, cyfr (0-9) i/lub podkreśleń (_).
# - Nie zawierać spacji ani innych znaków specjalnych.
# Zwraca True, jeśli łańcuch spełnia te kryteria i jest poprawnym identyfikatorem w Pythonie, a w przeciwnym razie zwraca False.
text1 = "variable_name"
text2 = "123variable"
text3 = "_variable"
text4 = "for"
text5 = "hello world"
print(text1.isidentifier()) 
print(text2.isidentifier()) 
print(text3.isidentifier()) 
print(text4.isidentifier()) 
print(text5.isidentifier()) 


# islower()	
# Metoda jest używana do sprawdzenia, czy wszystkie litery w łańcuchu są małymi literami. 
# Zwraca True, jeśli wszystkie litery w łańcuchu są małymi literami, a przynajmniej jedna z liter jest wielka, zwraca False.
text1 = "hello"
text2 = "Hello"
text3 = "hello123"
print(text1.islower()) 
print(text2.islower())  
print(text3.islower()) 


# isnumeric()
# Metoda jest używana do sprawdzenia, czy wszystkie znaki w łańcuchu są numeryczne (cyfry), czyli czy można je interpretować jako liczby. 
# Zwraca True, jeśli wszystkie znaki w łańcuchu są numeryczne, a w przeciwnym razie zwraca False.
text1 = "12345"
text2 = "123.45"
text3 = "١٢٣٤٥"
print(text1.isnumeric()) 
print(text2.isnumeric())  
print(text3.isnumeric()) 


# isprintable()	
# Metoda służy do sprawdzenia, czy wszystkie znaki w łańcuchu są drukowalne, 
# czyli czy można je wyświetlić na ekranie (tj. nie są znakami specjalnymi ani znakami sterującymi). 
# Zwraca True, jeśli wszystkie znaki w łańcuchu są drukowalne, a w przeciwnym razie zwraca False.
text1 = "Hello, world!"
text2 = "Hello\nworld"
text3 = "\tHello world"
print(text1.isprintable()) 
print(text2.isprintable())
print(text3.isprintable()) 


# isspace()	
# Metoda służy do sprawdzenia, czy wszystkie znaki w łańcuchu są spacjami (białymi znakami). 
# Zwraca True, jeśli wszystkie znaki w łańcuchu są spacjami, a w przeciwnym razie zwraca False.
text1 = "    "
text2 = "hello world"
text3 = "\t\n"
print(text1.isspace())
print(text2.isspace())
print(text3.isspace())


# istitle()	
# Metoda jest używana do sprawdzenia, czy każde słowo w łańcuchu zaczyna się wielką literą, a pozostałe litery są małe. 
# Zwraca True, jeśli warunek ten jest spełniony dla każdego słowa w łańcuchu, a w przeciwnym razie zwraca False.
text1 = "Hello World"
text2 = "Hello world"
text3 = "hello World"
text4 = "hello world 123"
print(text1.istitle())
print(text2.istitle())
print(text3.istitle())
print(text4.istitle())


# isupper()	
# Metoda służy do sprawdzenia, czy wszystkie litery w łańcuchu są wielkimi literami (zapisanymi kapitalikami). 
# Zwraca True, jeśli wszystkie litery w łańcuchu są wielkimi literami, a przynajmniej jedna z liter jest mała, zwraca False.
text1 = "HELLO"
text2 = "Hello"
text3 = "12345"
print(text1.isupper())
print(text2.isupper())
print(text3.isupper())


# join()
# Metoda jest używana do łączenia elementów iterowalnych (np. listy, krotki, zbiory) w jednym łańcuchu znaków. 
# Metoda ta jest wywoływana na łańcuchu, który zostaje użyty jako separator pomiędzy elementami łączonymi.
my_list = ["apple", "banana", "orange"]
separator = ", "
separator.join(my_list)


# ljust()	
# Metoda służy do wyrównywania łańcucha do lewej, poprzez dodanie określonej liczby spacji 
# lub innego określonego znaku na końcu łańcucha, aby uzyskać określoną długość.
# string.ljust(width, fillchar)
text = "hello"
text.ljust(10)


# lower()
# Konwertuje ciąg znaków na małe litery
print(napis.lower())


# lstrip()	
# Metoda służy do usuwania określonych znaków (domyślnie spacji) z lewej strony łańcucha.
# string.lstrip(characters)
text = "   Hello World   "
text.lstrip()


# maketrans()	
# Metoda służy do tworzenia tabeli translacji, która jest później wykorzystywana do zamiany znaków w łańcuchu.
# str.maketrans(x, y, z)
# x to łańcuch znaków, które chcemy zamienić.
# y to łańcuch znaków, które chcemy użyć jako zastępniki.
# z to łańcuch znaków, które chcemy usunąć.
# Metoda maketrans() zwraca obiekt typu dict, który jest tabelą translacji, która może być użyta w metodzie translate() do zamiany znaków.
x = "abc"
y = "xyz"
z = "123"
translation_table = str.maketrans(x, y, z)
text = "hello world 123abc"
translated_text = text.translate(translation_table)
print(translated_text) 


# partition()	
# Metoda dzieli łańcuch na trzy części na podstawie podanego separatora. 
# Zwraca trzyelementową krotkę zawierającą część przed separatorem, sam separator (jeśli występuje w łańcuchu) i część po separatorze. 
# Jeśli separator nie występuje w łańcuchu, zwracane są: łańcuch oryginalny, pusty łańcuch oraz pusty łańcuch.
# string.partition(separator)
text = "hello world"
text.partition(" ")


# replace()
# Zwraca ciąg znaków, w którym określona wartość jest zastępowana określoną wartością.
# string.replace(old, new[, count])
# old to podłańcuch, który chcemy zastąpić.
# new to podłańcuch, którym chcemy zastąpić old.
# count (opcjonalny) to liczba określająca maksymalną liczbę zamian do wykonania. Jeśli nie jest podane, wszystkie wystąpienia old zostaną zastąpione przez new.
print(napis.replace('.', '!'))  # zamiana
print(napis.replace('string', 'str'))  # zamiana


# rfind()	
# Metoda jest używana do znalezienia ostatniego wystąpienia określonego podłańcucha w łańcuchu. 
# Zwraca indeks (pozycję) ostatniego wystąpienia podłańcucha lub -1, jeśli podłańcuch nie został znaleziony.
# string.rfind(sub[, start[, end]])
text = "hello world hello"
text.rfind("hello")


# rindex()	
# Metoda rindex() w języku Python jest bardzo podobna do metody rfind(), 
# ale zamiast zwracać -1, gdy podłańcuch nie zostanie znaleziony, podnosi wyjątek ValueError.
text = "hello world hello"
text.rindex("hello")


# rjust()	
# Metoda służy do wyrównywania łańcucha do prawej strony poprzez dodanie określonej liczby spacji 
# lub innego określonego znaku na początku łańcucha, aby uzyskać określoną długość.
# string.rjust(width, fillchar)
text = "hello"
text.rjust(10)


# rpartition()	
# Metoda rpartition() w języku Python działa podobnie do metody partition(), ale zamiast wyszukiwać od lewej do prawej, 
# zaczyna od prawej strony i dzieli łańcuch na trzy części na podstawie podanego separatora. 
# Zwraca trzyelementową krotkę zawierającą część przed separatorem, sam separator (jeśli występuje w łańcuchu) i część po separatorze. 
# Jeśli separator nie występuje w łańcuchu, zwracane są: pusty łańcuch, pusty łańcuch oraz oryginalny łańcuch.
# string.rpartition(separator)
text = "hello world"
text.rpartition(" ")


# rsplit()	
# Metoda służy do dzielenia łańcucha na podłańcuchy, zaczynając od prawej strony i dzieląc go na podstawie określonego separatora. 
# Zwraca listę podłańcuchów.
text = "apple,banana,orange"
text.rsplit(",")


# rstrip()	
# Metoda służy do usuwania określonych znaków (domyślnie spacji) z prawej strony łańcucha.
# string.rstrip(characters)
text = "   Hello World   "
text.rstrip()


# split()
# Dzieli ciąg znaków na określony separator i zwraca listę.  
print(napis.split(' ')) 


# splitlines()	
# Metoda służy do dzielenia łańcucha na podłańcuchy na podstawie znaków nowej linii ("\n") lub ich kombinacji. Zwraca listę podłańcuchów.
text = "hello\nworld\n"
text.splitlines()


# startswith()
# Metoda służy do sprawdzenia, czy łańcuch rozpoczyna się od określonego podłańcucha. 
# Zwraca wartość logiczną True, jeśli łańcuch rozpoczyna się od podłańcucha, a w przeciwnym razie False.
# string.startswith(prefix[, start[, end]])
# gdzie:
# 'prefix' to podłańcuch, który chcemy sprawdzić, czy łańcuch go rozpoczyna.
# 'start' (opcjonalny) to indeks, od którego zaczynamy sprawdzanie. Domyślnie jest to indeks 0.
# 'end' (opcjonalny) to indeks, na którym kończymy sprawdzanie. Domyślnie jest to długość łańcucha.
text = "   hello world   "
text.strip()


text = "----hello world----"
text.strip("-")


# strip()
# Metoda służy do usuwania określonych znaków (domyślnie spacji) z początku i końca łańcucha.
# string.strip(characters)
napis.strip()


# swapcase()
# Metoda służy do zamiany wielkości liter w łańcuchu: małe litery zamieniane są na duże, a duże litery zamieniane są na małe.
text = "Hello World"
text.swapcase()


# title()	
# Metoda służy do zamiany pierwszej litery każdego słowa w łańcuchu na wielką literę, a wszystkich pozostałych liter na małe litery.
text = "hello world"
text.title()


# translate()	
# Metoda służy do tłumaczenia znaków w łańcuchu na podstawie podanej tabeli translacji. 
# Jest to zaawansowana metoda, która może być używana do wielu różnych celów, ale często jest stosowana do zamiany jednego zestawu znaków na inny.
# string.translate(table) table to tabela translacji, którą można utworzyć za pomocą funkcji str.maketrans() lub bytes.maketrans().
text = "hello"
translation_table = str.maketrans("aeiou", "12345")
text.translate(translation_table)


# Konwertuje ciąg znaków na duże litery.
napis.upper()


# zfill()
# Metoda służy do wypełniania łańcucha zerami z lewej strony, aby uzyskać łańcuch o określonej długości. 
# Jest to przydatne w celu uzyskania łańcucha o stałej szerokości, szczególnie gdy liczby są reprezentowane jako ciągi znaków.
# string.zfill(width)
number = "42"
number.zfill(5)





# Dąstępna pomoc
# dir(float) 
# help(float) 
# dir(int) 
# help(int) 
# dir(complex) 
# help(complex) 


# Int.
x = 1
y = 34567890
z = -45354534
x, y, z


# Reprezentacja danych
print(bin(5)) # reprezentacja binarna
print(hex(234)) # repezentacja hex
print(int(0xabcd)) # reprezenntacja dziesiętna
print(int(0b011011))
print(int('0b011011', 2))


# Float.
x = 1.01
y = -45.0234
z = -2.1e10
x, y, z


# zaokrąglanie liczb
print(round(3.123)) # zaokrągleni, bez przecinków
print(round(3.123, 1)) # zaokrąglenie z wyznaczeniem ile miejsc po przecinku


# Notacja naukowa
number1 = 3.14e5  # 3.14 * 10^5
number2 = 6.022e23  # 6.022 * 10^23
number3 = 1.6e-19  # 1.6 * 10^(-19)
print(number1)  # Wynik: 314000.0
print(number2)  # Wynik: 6.022e+23
print(number3)  # Wynik: 1.6e-19


normal_number = 602200000000000000000000
scientific_number = "{:e}".format(normal_number)
print(normal_number, scientific_number) 


scientific_number = "6.022e23"
normal_number = "{:.0f}".format(float(scientific_number))
print(scientific_number, normal_number) 


scientific_number = "6.022e23"
normal_number = f"{float(scientific_number):.0f}"
print(normal_number)


from decimal import Decimal
scientific_number = "6.022e23"
normal_number = f"{Decimal(scientific_number):.0f}"
print(normal_number)  


# Complex, liczba zespolona.
x = 3+5j
# lub
x = complex(3, 5)
y = 5j
z = -5j
x, y, z


# Pobieranie i wyświetlanie części liczb zespolonych.
x.real, x.imag, y.real, y.imag


number = 13
number.to_bytes().decode()





# Lista jest dynamicznym typem danych służącym do przechowywania kolekcji elementów. 
# Elementy w liście mogą być różnych typów danych, a lista może zawierać elementy takie jak liczby, łańcuchy znaków, inne listy czy nawet obiekty. 
# Listy w Pythonie są mutowalne, co oznacza, że można je zmieniać (dodawać, usuwać, modyfikować elementy) po ich utworzeniu.
myList = []  # Pusta lista
myList = list() # jw
lista_liczb = [1, 2, 3, 4, 5]  # Lista liczb całkowitych
lista_łańcuchów = ['jabłko', 'banan', 'gruszka']  # Lista łańcuchów znaków
lista_mieszana = [1, 'jabłko', True, 3.14]  # Lista zawierająca różne typy danych


lista = [1, 'dwa', 3.0, 4, 5]
lista, len(lista)


# Tworzenie aliasu do listy, dane są w tej samej części pamięci.
lista_copy = lista 
print(lista, lista_copy)
lista[0] = 123
print(lista, lista_copy)


# Tworzenie kopi listy w nowym miejscu w pamięci.
lista_copy = lista[:]
print(lista, lista_copy)
lista[0] = 1
print(lista, lista_copy)


# Sprawdzenie czy jest na liście.
lista = ['str1', 'str2', 'str3', 'str4', 'str5', 'str6', 'str7']
print('str3' in lista) 


# Dostęp do elementów
print(lista[0]) # bezpośrednio o elementu 0
print(lista[-1]) # do ostatniego
print(lista[1:3]) # od 1 do 2
print(lista[::-1]) # reverse
print(lista[2:]) # od 2 do końca
print(lista[:]) # cała
print(lista[::]) # cała
print(lista[:2]) # od początku do 1
print(lista[0::2]) # całą co drugi element
print(lista[1::2]) # całą co drugi element, przesunięta o jeden
# list([start:stop:step])
print(lista[::-2]) # od końca co drugi element


# Sklejanie list (konkatenacja)
lista + lista_copy


# Powielanie list
lista * 3


# funcje wbudowane w pythonie agregujące min, max, sum
listaNum = [1,2,3,4,5,6,7,8,9,10]
print(max(listaNum)) # maksymalna wartość
print(min(listaNum)) # minimalna wartość
print(sum(listaNum)) # suma wartości, muszą być liczby
print(sum(listaNum) / len(listaNum)) # średnia arytmetyczna, muszą być same liczby


# Dodawanie na koniec listy
lista.append('str8')
lista


# Dodawanie po indeksie do listy
lista.insert(2, 'str2.5')
lista


# Rozszerzanie listy o inną listę, można tak do listy dodać inne kolekcje.
lista_ext = [1, 2, 3]
lista.extend(lista_ext)
lista


# Usuwanie po wartości.
lista.remove('str2.5')
lista


# Usuwanie ostatniej, ze zwrotem wartości.
lista.pop()


lista


# Usuwanie po indeksie, ze zwrotem wartości.
lista.pop(8)


lista


# Usuwanie po indeksie, bez zwrotu.
del lista[8]
lista


# Wyczyszczenie listy.
lista.clear()
lista


# Skasowanie listy, całkowicie z pamięci.
del lista
# lista -> tu będzie błąd, bo lista już nie istnieje


lista = ['str1', 'str2', 'str3', 'str4', 'str5', 'str6', 'str7']


# For czytający po elementach listy
for x in lista:
    print(x)


# For czytający po indeksach listy
for x in range(len(lista)):
    print(x)


# While czytający
i = 0
while i < len(lista):
    print(i)
    print(lista[i])
    i += 1    


# Składnia list comprehension
# nowa_lista = [wyrażenie for element in iterowalny if warunek]
# wyrażenie to operacja wykonywana na każdym elemencie w iterowalnym.
# element to aktualny element w iteracji.
# iterowalny to sekwencja elementów do iteracji (np. lista, krotka, ciąg znaków).
# warunek (opcjonalnie) to filtr, który zawiera tylko elementy spełniające określone kryterium.
[print(x) for x in lista]


# newlist = [expression for item in iterable if condition == True]


fruits = ["apple", "banana", "cherry", "kiwi", "mango"]
newlist = [x for x in fruits if "a" in x]
print(newlist)


newlist = [x for x in fruits if x != "apple"]
print(newlist)


newlist = [x for x in fruits]
print(newlist)


newlist = [x for x in range(10)]
print(newlist)


newlist = [x for x in range(10) if x < 5]
print(newlist)


newlist = [x.upper() for x in fruits]
print(newlist)


newlist = ['hello' for x in fruits]
print(newlist)


newlist = [x if x != "banana" else "orange" for x in fruits]
print(newlist)


liczby = [0, 1, 2, 3, 4, 5, 6, 7, 8, 9]
parzyste = [i for i in liczby if i % 2 == 0] 
# wynik z 'i' bedzie dodany do listy 'parzyste', dla karzdej kolejnej 'liczby' która spełna warunek (i modulo 2) = 0 czyli parzysta
print(parzyste)

parzyste=[i * 10 for i in liczby]
# przed przypisaniem każdej i do parzyste pomnóż i przez 10
print(parzyste)

# totalny skrót
print( [i for i in range(1, 21) if i % 2 == 0] )


# Rozdzielenie stringa na listę, wg separatora.
napis = 'asd fgh 123 543'
lista = napis.split(' ') # separatror ' '
print(napis)
print(lista)


# Połączenie listy do stringa, z separatorem.
napis = ''
singn = ':' # separator
napis = singn.join(lista)
print(napis)


# Rozpakowywania listy.
lista = [1, 2, 3]
a, b, c = [1, 2, 3]
print(a) # 1
print(b) # 2
print(c) # 3

a, b, c, *other = [1, 2, 3, 4, 5, 6, 7, 8, 9]
print(a) # 1
print(b) # 2
print(c) # 3
print(other) # [4, 5, 6, 7, 8, 9]

a, b, c, *other, d = [1, 2, 3, 4, 5, 6, 7, 8, 9]
print(a) # 1
print(b) # 2
print(c) # 3
print(other) # [4, 5, 6, 7, 8]
print(d) # 9


# Zignorowanie niektórych wartości.
a, b, _, *other = [1, 2, 3, 4, 5, 6, 7, 8, 9]
print(a) # 1
print(b) # 2
print(other) # [4, 5, 6, 7, 8]
# element '3' został zignorowany


# Listy list (wielowymiarowość)
lista = [[1, 2, 3], ["asd", 34.32, 'qwe'], [43.76, 123.32, 65.23, 1, 2]]
print(lista)  # wszystkie listy
print(lista[0])  # poszczególna lista
print(lista[1])
print(lista[2])
print(lista[0][1])  # element w liście z listy





# append()
# Metoda służy do dodawania nowego elementu na koniec listy.
my_list = [1, 2, 3]
my_list.append(4)
print(my_list)


# clear()
# Metoda służy do usuwania wszystkich elementów z listy, pozostawiając ją pustą.
my_list = [1, 2, 3, 4]
my_list.clear()
print(my_list)


# copy()	
# Zwraca kopię listy, kopia w nowym miejscu w pamięci.
lista = ['str1', 'str2', 'str1', 'str4', 'str1', 'str6', 'str1']
lista_copy = lista.copy()
print(lista, lista_copy)
lista[0] = 0
print(lista, lista_copy)


# count()	
# Zwraca liczbę elementów z podaną wartością
lista = ['str1', 'str2', 'str1', 'str4', 'str1', 'str6', 'str1']
lista.count('str1')


# extend()	
# Dodaje elementy listy (lub dowolnej kolekcji) na koniec bieżącej listy.
list1 = [1, 2, 3]
list2 = [4, 5, 6]
list1.extend(list2)
print(list1)
# lub
list1 = [1, 2, 3]
tuple1 = (4, 5, 6)
list1.extend(tuple1)
print(list1)


# index()	
# Zwraca indeks pierwszego elementu z podaną wartością
# indeks = lista.index(element, start, koniec)
lista = ["banana", "apple", "kiwi", "cherry", "mango"]
lista.index('apple')


# insert()	
# Dodaje element w określonej pozycji
my_list = [1, 2, 3, 4]
my_list.insert(2, 2.5)
print(my_list)


# pop()	
# Metoda służy do usuwania i zwracania elementu z określonej pozycji w liście.
# element = lista.pop(indeks)
my_list = [1, 2, 3, 4]
removed_element = my_list.pop()
print(removed_element)  
print(my_list) 


# remove()	
# Usuwa element z podaną wartością. Metoda służy do usuwania pierwszego wystąpienia określonego elementu z listy.
# Jeśli element nie występuje w liście, zostanie zgłoszony wyjątek ValueError.
my_list = [1, 2, 3, 2, 4]
my_list.remove(2)
print(my_list) 


# reverse()	
# Odwraca kolejność listy
lista = ["banana", "apple", "kiwi", "cherry", "mango"]
print(lista)
lista.reverse()
print(lista)


# sort()
# Sortuje listę, i zapamiętuje wynik sortowania w liście.
# lista.sort(key=None, reverse=False)
# gdzie:
# lista -> to lista, której elementy chcemy posortować.
# key -> (opcjonalny) to funkcja, która jest używana do wyznaczenia klucza sortowania dla każdego elementu w liście. 
# Domyślnie jest to None, co oznacza, że elementy są sortowane na podstawie ich wartości bez żadnej modyfikacji.
# reverse -> (opcjonalny) to wartość logiczna określająca, czy lista ma być sortowana w kolejności malejącej (True) czy rosnącej (False). 
lista = ["banana", "apple", "kiwi", "cherry", "mango"]
print(lista)
lista.sort()
print(lista)
lista.sort(reverse=True)
print(lista)


# sorted()
# Sortuje listę jako wyjście, i nie zapamiętuje wyniku.
# posortowana_lista = sorted(iterowalny, key=None, reverse=False)
lista = ["banana", "apple", "kiwi", "cherry", "mango"]
print(sorted(lista))
print(lista)





# To samo ci listy tylko po utworzeniu nie można ich modyfikować.


# Pusta krotka.
myTuple = ()
myTuple = tuple()


lista = [111,222,'333', True, 1.23]
krotka = ('asd', 123, 0xa5, -1.234)
print(krotka)
krotka = tuple() # inicjalizacja pustej krotki
krotka = () # jw
krotka = tuple(lista) # kopia z listy do krotki, jak si niedoda rzutowania to powstanie lista
# krotka to szybki dostęp do danych
print(lista, krotka)
print(krotka[1:]) # dostęp do odczytu z krotki jest takisam jak z listy


# Metody


# Zwraca liczbę elementów z podaną wartością
# count()	
krotka = ('str1', 'str2', 'str1', 'str4', 'str1', 'str6', 'str1')
krotka.count('str1')


# Zwraca indeks pierwszego elementu z podaną wartością
# index()	
krotka = ("banana", "apple", "kiwi", "cherry", "mango")
krotka.index('apple')





# range()
# Jest funkcją wbudowaną, która służy do tworzenia sekwencji liczb całkowitych w określonym zakresie. 
# Jest to przydatne narzędzie do generowania licznych liczb całkowitych w określonym przedziale.
# range(start, stop, step)


print('Tylko jeden argument')
for i in range(5):
    print(i)
print('Dwa argumenty')
for i in range(2, 6):
    print(i)
print('Trzy argumenty')
for i in range(1, 10, 2):
    print(i)


lista = list(range(10))
lista





# Dictionaries (dict) jest wbudowanym typem danych, który reprezentuje słownik lub mapowanie. 
# Słownik składa się z par klucz-wartość, gdzie każdy klucz musi być unikalny 
# i może być używany do odwoływania się do odpowiadającej mu wartości.


# Pusty dict
myDict1 = {}
myDict2 = dict()
type(myDict1), myDict1, type(myDict2), myDict2


# Tworzenie bezpośrednio słownika
my_dict = {
    "key1": "value1", 
    "key2": "value2", 
    "key3": "value3",
    34: 34.0002,  # klucz value nie muszą być stringiem
    'lista': [1, 2, 3, 4, 5],
    'krotka': (23, 3, 2, 1, 1),
    'zbiór': {1, 2, 2, 4, 4, 4, 6, 7, 8}
}
my_dict


# Czy zawiera w kluczu lub wartości.
print('key3' in my_dict.keys()) 
print('hello' in my_dict.values()) 
print([1, 2, 3, 4, 5] in my_dict.values()) 


# Dostęp do danych
my_dict['key1']


# Zmiana danych, nie może być dwóch tych samych kluczy, zawsze wartośc jest nadpisywana.
my_dict['key1'] = 123
my_dict


# Jeżeli przy zmianie danych niema klucza który się podaje zostanie stworzony nowy.
my_dict['key11'] = 1234
my_dict


# Tworzenie przy użyciu konstruktoraa
myDict = dict(key1 = 'val1', key2 = 2, key3 = 3.14)
myDict


# Słowniki w słownikacha
myfamily = {
  "child1" : {
    "name" : "Emil",
    "year" : 2004
  },
  "child2" : {
    "name" : "Tobias",
    "year" : 2007
  },
  "child3" : {
    "name" : "Linus",
    "year" : 2011
  }
}
print(myfamily)
# lub
child1 = {
  "name" : "Emil",
  "year" : 2004
}
child2 = {
  "name" : "Tobias",
  "year" : 2007
}
child3 = {
  "name" : "Linus",
  "year" : 2011
}

myfamily = {
  "child1" : child1,
  "child2" : child2,
  "child3" : child3
}
print(myfamily)
# dostęp do komurki
print(myfamily['child1']['name'])





# clear()
# Metoda clear() jest używana do usuwania wszystkich elementów ze słownika w języku Python. 
# Po zastosowaniu tej metody, słownik będzie pusty.
my_dict = {"name": "John", "age": 30, "city": "New York"}
my_dict.clear()
print(my_dict)


# copy()
# Metoda copy() jest używana do tworzenia płytkej kopii (shallow copy) słownika w języku Python. 
# Płytka kopia tworzona przez copy() zawiera te same klucze i wartości co oryginalny słownik, 
# ale sama jest nowym obiektem, niezależnym od oryginału.
stary_slownik = {"name": "John", "age": 30, "city": "New York"}
nowy_slownik = stary_slownik.copy()
print(nowy_slownik)  # Wynik: {'name': 'John', 'age': 30, 'city': 'New York'}
# Sprawdzenie, czy nowy słownik jest niezależny od oryginału
nowy_slownik["name"] = "Alice"
print(nowy_slownik)  # Wynik: {'name': 'Alice', 'age': 30, 'city': 'New York'}
print(stary_slownik)  # Wynik: {'name': 'John', 'age': 30, 'city': 'New York'}


# fromkeys()
# Metoda fromkeys() jest używana do tworzenia nowego słownika z podanych kluczy i opcjonalnej wartości domyślnej.
# nowy_slownik = dict.fromkeys(klucze, wartosc=None)
klucze = ["a", "b", "c"]
wartosc_domyslna = 0
nowy_slownik = dict.fromkeys(klucze, wartosc_domyslna)
print(nowy_slownik) 


# get()
# Metoda get() jest używana do pobierania wartości związanej z określonym kluczem w słowniku w języku Python. 
# Różnica między użyciem get() a bezpośredniego odwołania do klucza polega na tym, że jeśli klucz nie istnieje, 
# metoda get() zwróci wartość domyślną (domyślnie None), podczas gdy bezpośrednie odwołanie do klucza wygeneruje wyjątek KeyError.
# wartosc = nazwa_slownika.get(klucz, domyslna_wartosc=None)
my_dict = {"name": "John", "age": 30, "city": "New York"}
# Pobranie wartości dla istniejącego klucza
name = my_dict.get("name")
print(name)
# Pobranie wartości dla nieistniejącego klucza
gender = my_dict.get("gender")
print(gender)
# Pobranie wartości dla nieistniejącego klucza z wartością domyślną
gender = my_dict.get("gender", "Unknown")
print(gender)


# items()
# Metoda items() jest używana do zwrócenia widoku (view) zawierającego wszystkie pary klucz-wartość w słowniku jako krotki. 
# Ten widok można iterować lub przekształcić na listę.
my_dict = {"name": "John", "age": 30, "city": "New York"}
# Uzyskanie widoku zawierającego pary klucz-wartość
items_view = my_dict.items()
# Iteracja przez widok i wydrukowanie każdej pary klucz-wartość
for key, value in items_view:
    print(key, value)


# keys()
# Metoda keys() jest używana do zwrócenia widoku (view) zawierającego wszystkie klucze znajdujące się w słowniku. 
# Ten widok można iterować lub przekształcić na listę.
my_dict = {"name": "John", "age": 30, "city": "New York"}
# Uzyskanie widoku zawierającego klucze
keys_view = my_dict.keys()
# Iteracja przez widok i wydrukowanie każdego klucza
for key in keys_view:
    print(key)


# pop()
# Metoda pop() służy do usuwania elementu ze słownika na podstawie podanego klucza i jednocześnie zwraca wartość tego elementu.
my_dict = {"name": "John", "age": 30, "city": "New York"}
usunieta_wartosc = my_dict.pop("age")
print(usunieta_wartosc)  
print(my_dict)  


# popitem()
# Metoda popitem() służy do usuwania i zwracania ostatniej pary klucz-wartość ze słownika w języku Python. 
# Ostatnia para klucz-wartość jest niezdefiniowana w słownikach, ponieważ są one nieuporządkowane, 
# ale zazwyczaj jest to ostatnio dodana para lub para z ostatnio przetworzonego widoku.
my_dict = {"name": "John", "age": 30, "city": "New York"}
ostatnia_para = my_dict.popitem()
print(ostatnia_para)  
print(my_dict)  


# setdefault()
# Metoda setdefault() w języku Python służy do uzyskiwania wartości dla określonego klucza ze słownika. 
# Jeśli klucz nie istnieje, metoda setdefault() dodaje nowy klucz z wartością domyślną do słownika.
# wartosc = nazwa_slownika.setdefault(klucz, wartosc_domyslna)
my_dict = {"name": "John", "age": 30}
name = my_dict.setdefault("name")
print(name)
city = my_dict.setdefault("city", "New York")
print(city)
print(my_dict)


# update()
# Metoda update() w języku Python służy do aktualizowania słownika poprzez dodawanie par klucz-wartość z innego słownika 
# lub listy krotek zawierających pary klucz-wartość.
# nazwa_slownika.update(inny_slownik)
# nazwa_slownika.update([(klucz1, wartosc1), (klucz2, wartosc2), ...])

# Aktualizacja słownika za pomocą innego słownika
my_dict = {"name": "John", "age": 30}
new_data = {"city": "New York", "country": "USA"}
my_dict.update(new_data)
print(my_dict)  

# Aktualizacja słownika za pomocą listy krotek
my_dict = {"name": "John", "age": 30}
new_data = [("city", "New York"), ("country", "USA")]
my_dict.update(new_data)
print(my_dict)  


# values()
# Metoda values() w języku Python służy do zwracania widoku (view) zawierającego wszystkie wartości znajdujące się w słowniku. 
# Ten widok można iterować lub przekształcić na listę.
my_dict = {"name": "John", "age": 30, "city": "New York"}
values_view = my_dict.values()
for value in values_view:
    print(value)





# Nieuporządkowana kolekcja objektów, do szybkich operacji na zbiorach.


# Pusty set
mySet1 = {} # tak się tworzy dict a nie set !!!
mySet2 = set()
type(mySet1), mySet1, type(mySet2), mySet2


mySet = {1,2,3,4,5,6,7,7,6}
print(mySet)


# zestawy nie posiadają powtórzeń, jeżeli się jakieś popełni przy inicjalizacji, to nie zostanie wzięte pod uwagę.
# łatwo w ten sposób można pozbyć się powtórzeń w innyck kolekcjach.
myList = [1, 'sd', 'sd', 2, 3, 1, 1]
print(myList)
mySet = set(myList)
print(mySet)
myList = list(mySet)
myList


# modyfikować elementu nie można, ale można usunąć po wartości i dodać nowy
mySet = {1,2,3,4,5,6,7,7,6}
print(mySet)
mySet.remove(3)
print(mySet)
mySet.add(10)
print(mySet)


mySet1 = {1, 2, 3}
mySet2 = {3, 4, 5}
# Suma
suma_zbioru = mySet1 | mySet2
# Iloczyn
iloczyn_zbioru = mySet1 & mySet2
# Różnica
roznica_zbioru = mySet1 - mySet2
# Różnica symetryczna
roznica_symetryczna_zbioru = mySet1 ^ mySet2

suma_zbioru, iloczyn_zbioru, roznica_zbioru, roznica_symetryczna_zbioru


# Frozenset jest typem wbudowanym, który reprezentuje niezmienny zestaw, czyli zestaw, którego elementy nie mogą być zmieniane po utworzeniu. 
# Frozenset jest podobny do zestawu (set), ale jest niemutowalny, co oznacza, że nie można dodawać, usuwać ani modyfikować jego elementów 
# po jego utworzeniu.
# Możesz utworzyć frozenset za pomocą funkcji wbudowanej frozenset() poprzez przekazanie mu iterowalnej kolekcji jako argumentu.
my_frozenset = frozenset([1, 2, 3, 4, 5])
print(my_frozenset) 
# Elementy frozenset mogą być liczbami, łańcuchami znaków, krotkami i innymi niemutowalnymi typami danych.
my_frozenset = frozenset({'a', 'b', 'c'})
print(my_frozenset)  
my_frozenset = frozenset((1, 2, 3))
print(my_frozenset) 
# Niemutowalność frozenset ma swoje zastosowanie, gdy potrzebujesz użyć zestawu jako klucza w słowniku lub jako elementu innego zestawu, 
# ponieważ niemutowalne obiekty mogą być haszowane i są porównywane tylko na podstawie ich wartości.





# add()	
# Metoda jest używana do dodawania nowego elementu do zbioru. 
# Jeśli element już istnieje w zbiorze, nie zostanie on dodany ponownie, ponieważ zbiory zawierają tylko unikalne elementy.
my_set = {1, 2, 3}
my_set.add(4)
print(my_set) 
my_set.add(2)
print(my_set)


# clear()
# Metoda jest używana do usuwania wszystkich elementów ze zbioru. Po zastosowaniu tej metody, zbiór będzie pusty.
my_set = {1, 2, 3, 4, 5}
my_set.clear()
print(my_set)


# copy()
# Metoda służy do tworzenia kopii zestawu. 
# Kopia jest niezależnym zestawem, co oznacza, że zmiany dokonywane na kopii nie wpływają na oryginalny zestaw, 
# a zmiany dokonywane na oryginalnym zestawie nie wpływają na jego kopię.
original_set = {1, 2, 3}
copy_set = original_set.copy()
original_set.add(4)
print("Oryginalny zestaw:", original_set)
print("Kopia zestawu:", copy_set)


# difference()	
# Zwraca zestaw zawierający różnicę między dwoma lub więcej zestawami.
# Metoda zwraca nowy zestaw zawierający elementy, które występują tylko w jednym z zestawów, ale nie występują w obu jednocześnie. 
# Innymi słowy, zwraca zbiór elementów, które są obecne tylko w jednym z zestawów, ale nie w obu.
set1 = {1, 2, 3, 4, 5}
set2 = {4, 5, 6, 7, 8}
result_set = set1.difference(set2)
print(result_set)


# difference_update()	
# Usuwa elementy tego zestawu, które są również zawarte w innym, określonym zestawie.
# Metoda difference_update() w języku Python jest używana do aktualizacji zestawu poprzez usunięcie z niego elementów, 
# które występują również w innym zestawie. Metoda ta zmienia oryginalny zestaw, usuwając z niego elementy, które są wspólne dla obu zestawów.
set1 = {1, 2, 3, 4, 5}
set2 = {4, 5, 6, 7, 8}
set1.difference_update(set2)
print(set1)


# discard()
# Usunięcie określonego elementu, nie wywołuje błedu jak niema danego elementu.
# Metoda służy do usuwania określonego elementu z zestawu, jeśli istnieje. 
# Jednak w przeciwieństwie do metody remove(), discard() nie wywoła błędu, 
# jeśli element nie istnieje w zestawie, po prostu cicho zakończy działanie.
mySet = {1, 2, 3, 4, 5}
mySet.discard(3)
print(mySet)  
mySet.discard(6)
print(mySet)  # brak zmiany, ponieważ 6 nie istnieje w zestawie


# intersection()	
# Zwraca zbiór, który jest przecięciem dwóch innych zbiorów.
# Metoda jest używana do uzyskiwania zbioru, który zawiera tylko te elementy, które są wspólne dla dwóch (lub więcej) zestawów.
set1 = {1, 2, 3, 4, 5}
set2 = {4, 5, 6, 7, 8}
result_set = set1.intersection(set2)
print(result_set) 


# intersection_update()
# Usuwa z tego zestawu elementy, których nie ma w innych, określonych zestawach.
# Metoda jest używana do aktualizacji zestawu tak, aby zawierał tylko elementy wspólne dla dwóch (lub więcej) zestawów. 
# Metoda ta zmienia oryginalny zestaw, usuwając z niego elementy, które nie są wspólne dla obu zestawów.
set1 = {1, 2, 3, 4, 5}
set2 = {4, 5, 6, 7, 8}
set1.intersection_update(set2)
print(set1)  


# isdisjoint()
# Sprawdza, czy dwa zbiory nie przecinają się.
# Metoda służy do sprawdzenia, czy dwa zestawy są rozłączne, czyli czy nie mają wspólnych elementów. 
# Zwraca True, jeśli zestawy są rozłączne (nie mają wspólnych elementów), a False, jeśli mają co najmniej jeden wspólny element.
set1 = {1, 2, 3}
set2 = {4, 5, 6}
result = set1.isdisjoint(set2)
print(result)  # Wynik: True, ponieważ set1 i set2 są rozłączne


# issubset()
# Sprawdza, czy inny zestaw zawiera ten zestaw, czy nie.
# Metoda służy do sprawdzenia, czy jeden zestaw jest podzbiorem innego zestawu. 
# Zwraca True, jeśli wszystkie elementy pierwszego zestawu są również elementami drugiego zestawu, a False w przeciwnym przypadku.
set1 = {1, 2, 3}
set2 = {1, 2, 3, 4, 5}
result = set1.issubset(set2)
print(result)  # Wynik: True, ponieważ set1 jest podzbiorem set2


# issuperset()
# Sprawdza, czy ten zestaw zawiera inny zestaw, czy nie.
# Metoda służy do sprawdzenia, czy jeden zestaw jest nadzbiorem innego zestawu. 
# Zwraca True, jeśli wszystkie elementy drugiego zestawu są również elementami pierwszego zestawu, a False w przeciwnym przypadku.
set1 = {1, 2, 3, 4, 5}
set2 = {1, 2, 3}
result = set1.issuperset(set2)
print(result)  # Wynik: True, ponieważ set1 jest nadzbiorem set2


# pop()
# Metoda usuwa losowy element z zestawu.
# Metoda usuwa i zwraca losowy element z zestawu. 
# Ponieważ zbiory są nieuporządkowane, nie ma sposobu określenia, który element zostanie usunięty. 
# Metoda pop() zwraca usunięty element jako wynik operacji.
my_set = {1, 2, 3, 4, 5}
removed_element = my_set.pop()
print("Usunięty element:", removed_element)
print("Zestaw po usunięciu:", my_set)


# remove()	
# Usunięcie określonego elementu, wywołuje błąd jak niema danego elementu.
# Metoda służy do usuwania określonego elementu z zestawu. 
# Jeśli element nie istnieje w zestawie, wywołanie remove() spowoduje wygenerowanie błędu KeyError.
my_set = {1, 2, 3, 4, 5}
my_set.remove(3)
print(my_set)  # Wynik: {1, 2, 4, 5}
# my_set.remove(6)  # Spowoduje wygenerowanie błędu KeyError


# symmetric_difference()	
# Zwraca zbiór zawierający symetryczne różnice dwóch zbiorów.
# Metoda zwraca nowy zestaw zawierający elementy, które są obecne w jednym z dwóch zestawów, ale nie w obu jednocześnie. 
# Innymi słowy, zwraca zbiór elementów, które są w jednym ze zestawów, ale nie są w obu jednocześnie.
set1 = {1, 2, 3, 4, 5}
set2 = {4, 5, 6, 7, 8}
result_set = set1.symmetric_difference(set2)
print(result_set)  


# symmetric_difference_update()
# Wstawia symetryczne różnice z tego zestawu i innego.
# Metoda służy do aktualizacji zestawu poprzez zastąpienie jego zawartości różnicą symetryczną między nim a innym zestawem. 
# Metoda ta zmienia oryginalny zestaw, usuwając z niego elementy wspólne dla obu zestawów i dodając elementy, 
# które występują tylko w jednym z zestawów.
set1 = {1, 2, 3, 4, 5}
set2 = {4, 5, 6, 7, 8}
set1.symmetric_difference_update(set2)
print(set1)  # Wynik: {1, 2, 3, 6, 7, 8}


# union()
# Zwraca zbiór zawierający połączenie zbiorów.
# Metoda zwraca nowy zestaw zawierający wszystkie unikalne elementy ze wszystkich zestawów podanych jako argumenty, 
# włączając w to elementy z zestawu, na którym została wywołana metoda. Metoda union() jest również dostępna za pomocą operatora |.
set1 = {1, 2, 3}
set2 = {3, 4, 5}
result_set = set1.union(set2)
print(result_set) 


# update()
# Zaktualizuj zestaw, łącząc ten zestaw z innymi.
# Metoda służy do dodawania elementów z jednego zestawu do innego zestawu. 
# Może być używana również do dodawania elementów z innych kolekcji, takich jak listy czy krotki, do zestawu. 
# Metoda update() modyfikuje oryginalny zestaw, dodając do niego elementy podane jako argumenty.
set1 = {1, 2, 3}
set2 = {3, 4, 5}
set1.update(set2)
print(set1)  
# Można też dodać listę
set1 = {1, 2, 3}
list1 = [4, 5, 6]
set1.update(list1)
print(set1) 





# bool

'''
x != y
x == y 
x > y
x < y
x >= y
x <= y
x is y (==)
x is not y (!=) 
x and y
x or y
x not y
'a' in 'abc' # sprawdza czy 'a' zawiera się stringu w 'abc' w tym przypadku to True
'''

x = True
# x = False
print(x, type(x))
print(x < 0)
print(f'x = {x}')
print('x =', x)
print(f'out = {x == 0}')
print(f'out = {x < 0}')
print(f'out = {x != 0}')
print(f'out = {x > 0}')
print(bool(False))
print(bool(None))
print(bool(0))
print(bool(''))
print(bool(""))
print(bool(()))
print(bool([]))
print(bool({}))





# bytes()
# Typ danych bytes w języku Python jest używany do przechowywania sekwencji bajtów (8-bitowych wartości), 
# co oznacza, że może przechowywać dane binarne. Jest to niemutowalny typ danych, co oznacza, 
# że jego wartość nie może być zmieniana po utworzeniu.
# Można utworzyć obiekt typu bytes używając literału bajtowego (prefiks b) lub za pomocą wbudowanej funkcji bytes().


# Utworzenie obiektu typu bytes za pomocą literału bajtowego
bajty = b'hello'
print(bajty) 
print(len(bajty))  
print(bajty[0]) 


# Próba modyfikacji obiektu typu bytes (błąd, ponieważ jest niemutowalny)
# bajty[0] = b'H'  # TypeError: 'bytes' object does not support item assignment


# Utworzenie obiektu typu bytes za pomocą funkcji bytes()
bajty2 = bytes([104, 101, 108, 108, 111])
print(bajty2) 


# Konwersja obiektu typu str na obiekt typu bytes
bajty3 = bytes("world", 'utf-8')
print(bajty3)  # Wynik: b'world'


# bytearray()
# Typ danych bytearray w języku Python jest podobny do typu bytes, ale jest mutowalny, co oznacza, 
# że jego zawartość może być zmieniana po utworzeniu. 
# Jest to przydatne, gdy potrzebujemy modyfikować dane binarne w miejscu, co nie jest możliwe z obiektami typu bytes.
# Można utworzyć obiekt typu bytearray za pomocą literału bajtowego (prefiks b) lub za pomocą wbudowanej funkcji bytearray().


# Utworzenie obiektu typu bytearray za pomocą literału bajtowego
bajt_array = bytearray(b'hello')
print(bajt_array) 
print(len(bajt_array)) 


# Modyfikacja obiektu typu bytearray
bajt_array[0] = 72  # kod ASCII dla 'H'
print(bajt_array)  # Wynik: bytearray(b'Hello')


# Utworzenie obiektu typu bytearray za pomocą funkcji bytearray()
bajt_array2 = bytearray([104, 101, 108, 108, 111])  # kod ASCII dla 'hello'
print(bajt_array2)  # Wynik: bytearray(b'hello')


# Konwersja obiektu typu str na obiekt typu bytearray
bajt_array3 = bytearray("world", 'utf-8')
print(bajt_array3)  # Wynik: bytearray(b'world')


# memoryview
# Typ danych memoryview w języku Python jest używany do reprezentowania widoku pamięci danych w różnych formatach. 
# Jest to elastyczny typ danych, który umożliwia dostęp do danych w pamięci za pomocą różnych typów danych, 
# takich jak bytes, bytearray, array.array, numpy.ndarray itp.
# Obiekt memoryview umożliwia dostęp do danych w pamięci w formie sekwencji bajtów, które można odczytywać i zapisywać. 
# Jest to szczególnie przydatne w operacjach na dużych zbiorach danych, 
# gdy konieczne jest wydajne przetwarzanie danych bez kopiowania ich.


# Utworzenie obiektu typu bytearray
bajty = bytearray(b'hello')
widok_pamieci = memoryview(bajty)
print(widok_pamieci[0]) 


# Modyfikacja danych w pamięci za pomocą widoku pamięci
widok_pamieci[0] = 72  # kod ASCII dla 'H'
# Wyświetlenie zmodyfikowanego obiektu bytearray
print(bajty)  # Wynik: bytearray(b'Hello')





# Typ danych None w języku Python jest używany do reprezentowania braku wartości lub wartości pustej. 
# Jest to specjalny typ danych, który oznacza "nic" lub "brak".
# None jest często używany jako wartość domyślna dla argumentów funkcji lub jako zwracana wartość, 
# gdy funkcja nie zwraca żadnej konkretnej wartości.


def greet(name=None):
    if name is None:
        print("Hello, anonymous!")
    else:
        print("Hello, " + name + "!")
greet()      
greet("John") 


def do_nothing():
    # Ta funkcja nie robi niczego
    pass

result = do_nothing()
print(result) 


value = None
if value is None:
    print("Value is None")
else:
    print("Value is not None")





import random
# random.seed(42) # inicjalizacja generatora liczb pseudolosowych od początkowego stanu
random.randrange(start=-100, stop=100, step=2) # od -100 do 99, losuje co 2 czyli tylko przyste


random.randint(-10, 11) # od -10 do 10


random.random() # od 0 do 1


lista = [32, 523, 12, 654, 23, 1, 567, 2, 3, 24] # sekwencja wyboru
zm1 = random.choice(lista) # wybierze liczbe losowo z powyższej listy
print(zm1)






listaR = list(random.randbytes(10)) # generuje określoną liczbę bajtów
listaR


# Wprowadzanie tekdtu ze standardowego wejścia (np. klawiatura).
# strIn = input('wprowadź tekst i zatwierdź enterem:') 
# strIn


# Wysyłanie tekstu na standardowe wyjście.
print('test tekst')


print(x, y, z)


# Sformatowany tekst ze zmniennymi.
print(f'opis {x}, {y}, {z}')


# Sformatowany print podobny do printf z C.
sVal = 'string'
iVal = 1234
print("napis = %s : int = %i" % (sVal, iVal))





# W języku Python rzutowanie, znane także jako konwersja typów, odbywa się za pomocą wbudowanych funkcji, 
# które pozwalają na zmianę typu jednej wartości na inny typ danych.


x = str(3)
y = int(34)
z = float(2)
x, y, z, type(x), type(y), type(z)


x = 1    # int
y = 2.8  # float
z = 1j   # complex
a = float(x) # z int na float
b = int(y) # z float na int
c = complex(x) # z int na complex
x, y, z, a, b, c


# Na int.
x = int(1)  
y = int(2.8) 
z = int("3") 
x, y, z


# Na float.
x = float(1)    
y = float(2.8)  
z = float("3")  
w = float("4.2")
x, y, z, w


# Na String.
x = str("s1") 
y = str(2)    
z = str(3.0)  
x, y, z





# Operatory arytmetyczne.
'''
** -> potęgowanie
* -> mnożenie
/ -> dzielenie
// -> dzielenie całkowite
% -> reszta z dzielenia (jak jest podzielne całkowicie == 0)
+ -> dodawanie
- -> odejmowanie
operacje '+' na napisach to konkatencja (sklejanie)
'''
a = 10
b = 3
print(a + b)  # Wynik: 13
print(a - b)  # Wynik: 7
print(a * b)  # Wynik: 30
print(a / b)  # Wynik: 3.3333333333333335
print(a // b) # Wynik: 3
print(a % b)  # Wynik: 1
print(a ** b) # Wynik: 1000


# Operatory przypisania.
'''
=	->  x = 5
+=	->  x += 3	->  x = x + 3	
-=	->  x -= 3	->  x = x - 3	
*=	->  x *= 3	->  x = x * 3	
/=	->  x /= 3	->  x = x / 3	
%=	->  x %= 3	->  x = x % 3	
//=	->  x //= 3	->  x = x // 3	
**=	->  x **= 3	->  x = x ** 3	
&=	->  x &= 3	->  x = x & 3	
|=	->  x |= 3	->  x = x | 3	
^=	->  x ^= 3	->  x = x ^ 3	
>>=	->  x >>= 3	->  x = x >> 3	
<<=	->  x <<= 3	->  x = x << 3
'''
;


# Operatory porównania.
'''
==	równy	            x == y	
!=	nie równy	        x != y	
>	większy	            x > y	
<	mniejszy            x < y	
>=	większy lub równy	x >= y	
<=	mniejszy lub równy	x <= y
'''
a = 5
b = 3
print(a == b)  # False
print(a != b)  # True
print(a > b)   # True
print(a < b)   # False
print(a >= b)  # True
print(a <= b)  # False


# Operatory logiczne.
'''
and -> True jeżeli obydwie strony takie same
or -> True jeżeli jedna luib dwie strony takiesame
not -> Odwrócenie wyniku
'''
x = 5
y = 10
print(x > 0 and y < 20)  # True, ponieważ oba warunki są spełnione
print(x < 0 or y < 20)   # True, ponieważ przynajmniej jeden warunek jest spełniony
print(not(x > 0 and y < 20))  # False, ponieważ wynik z operatora and jest True, a not odwraca wartość


# Operatory tożsamości(identity operators).
# Służą do porównywania tożsamości obiektów. 
# Każdy obiekt ma swoją unikalną tożsamość, którą można uzyskać za pomocą funkcji wbudowanej id(). 
# Operatorzy tożsamości to 'is' i 'is not'.
'''
Operator is: Zwraca True, jeśli oba obiekty wskazują na tę samą lokalizację w pamięci.
Operator is not: Zwraca True, jeśli obiekty nie wskazują na tę samą lokalizację w pamięci.
'''
x = [1, 2, 3]
y = [1, 2, 3]
print(x is y)  # False, ponieważ x i y wskazują na różne lokalizacje w pamięci
a = 5
b = 5
print(a is b)  # True, ponieważ a i b wskazują na tę samą lokalizację w pamięci
c = "hello"
d = "hello"
print(c is d)  # True, ponieważ c i d wskazują na tę samą lokalizację w pamięci
e = [1, 2, 3]
f = e
print(e is f)  # True, ponieważ e i f wskazują na tę samą lokalizację w pamięci


# Operatory członkostwa (Membership Operators).
# Służą do sprawdzania przynależności elementu do zbioru danych. 
# Lista operatorów członkostwa wraz z ich funkcjami:
'''
in: Zwraca True, jeśli dany element znajduje się w zbiorze danych.
not in: Zwraca True, jeśli dany element nie znajduje się w zbiorze danych.
'''
listaNum = [1, 2, 3, 4, 5]
print(3 in listaNum)    # True, ponieważ 3 znajduje się w liście
print(6 in listaNum)    # False, ponieważ 6 nie znajduje się w liście

napis = "Python"
print("y" in napis)       # True, ponieważ "y" znajduje się w napisie
print("z" not in napis)   # True, ponieważ "z" nie znajduje się w napisie


# Operatory bitowe (Bitwise Operators).
# Pozwalają wykonywać operacje na poziomie bitów na liczbach całkowitych. 
# Lista operatorów bitowych wraz z ich funkcjami:
'''
& - Bitowa koniunkcja (AND): Zwraca 1, jeśli oba bity są ustawione na 1.
| - Bitowa alternatywa (OR): Zwraca 1, jeśli przynajmniej jeden z bitów jest ustawiony na 1.
^ - Bitowa alternatywa wykluczająca (XOR): Zwraca 1, jeśli tylko jeden z bitów jest ustawiony na 1 (ale nie oba).
~ - Bitowa negacja (NOT): Zwraca wartość negacji bitowej danego bitu (jeden komplement).
<< - Przesunięcie bitowe w lewo: Przesuwa bity liczby w lewo o określoną liczbę pozycji, wstawiając zera na prawo.
>> - Przesunięcie bitowe w prawo: Przesuwa bity liczby w prawo o określoną liczbę pozycji, wstawiając zera na lewo.
'''
a = 60  # Wartość binarna: 0011 1100
b = 13  # Wartość binarna: 0000 1101

print(a & b)  # Wynik: 12 (binarnie: 0000 1100)
print(a | b)  # Wynik: 61 (binarnie: 0011 1101)
print(a ^ b)  # Wynik: 49 (binarnie: 0011 0001)
print(~a)     # Wynik: -61 (binarnie: 1100 0011)
print(a << 2) # Wynik: 240 (binarnie: 1111 0000)
print(a >> 2) # Wynik: 15 (binarnie: 0000 1111)


# Kolejność operatorów.
# ()	                                             Parentheses	
# **	                                             Exponentiation	
# +x  -x  ~x	                                     Unary plus, unary minus, and bitwise NOT	
# *  /  //  %	                                     Multiplication, division, floor division, and modulus	
# +  -	                                         Addition and subtraction	
# <<  >>	                                         Bitwise left and right shifts	
# &	                                             Bitwise AND	
# ^	                                             Bitwise XOR	
# |	                                             Bitwise OR	
# ==  !=  >  >=  <  <=  is  is not  in  not in 	 Comparisons, identity, and membership operators	
# not	                                             Logical NOT	
# and	                                             AND	
# or	                                             OR


# Operatorem warunkowy (thernary operator).
# zmienna = wartość_wyrażenia_true if warunek else wartość_wyrażenia_false
# warunek to warunek logiczny, który jest sprawdzany.
# wartość_wyrażenia_true to wartość przypisywana do zmiennej, jeśli warunek jest prawdziwy.
# wartość_wyrażenia_false to wartość przypisywana do zmiennej, jeśli warunek jest fałszywy.
war1 = True
war2 = False
print('ok') if (war1) else print('else')
#"wykonaj" if "warunek" else "wykonaj to"
