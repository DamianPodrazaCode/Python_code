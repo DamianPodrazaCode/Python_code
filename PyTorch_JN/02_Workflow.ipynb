{
 "cells": [
  {
   "cell_type": "markdown",
   "id": "c024131b-d649-42c5-8536-acb4eae820d2",
   "metadata": {},
   "source": [
    "1. Dane przygotowanie"
   ]
  },
  {
   "cell_type": "code",
   "execution_count": 1,
   "id": "2a2e583f-ddc3-4ace-8c69-337f17a9a853",
   "metadata": {},
   "outputs": [],
   "source": [
    "import torch\n",
    "from torch import nn\n",
    "import pandas as pd\n",
    "import numpy as np\n",
    "import matplotlib.pyplot as plt"
   ]
  },
  {
   "cell_type": "code",
   "execution_count": 2,
   "id": "d8ee9f06-70c7-4506-b714-da5618d863f6",
   "metadata": {},
   "outputs": [
    {
     "data": {
      "text/plain": [
       "'cuda'"
      ]
     },
     "execution_count": 2,
     "metadata": {},
     "output_type": "execute_result"
    }
   ],
   "source": [
    "device = 'cuda' if torch.cuda.is_available() else 'cpu'\n",
    "device"
   ]
  },
  {
   "cell_type": "markdown",
   "id": "da229e9c-033e-400a-9245-8e7aba7a1670",
   "metadata": {},
   "source": [
    "## Funkcje pomocnicze"
   ]
  },
  {
   "cell_type": "code",
   "execution_count": 20,
   "id": "9b2b32c6-9e98-4bcb-96db-9d5104e55ed1",
   "metadata": {},
   "outputs": [],
   "source": [
    "def plot_prediction(train_data=None, train_labels=None, test_data=None, test_labels=None, predictions=None):\n",
    "    plt.figure(figsize=(7, 4))\n",
    "    plt.scatter(train_data, train_labels, c='b', s=4, label=\"Train\")\n",
    "    plt.scatter(test_data, test_labels, c='g', s=4, label=\"Test\")\n",
    "    if predictions is not None:\n",
    "        plt.scatter(test_data, predictions, c='r', s=4, label=\"Preds\")\n",
    "    plt.legend(prop={'size':14});"
   ]
  },
  {
   "cell_type": "markdown",
   "id": "ffa3db7b-966e-405b-99f8-0e6884535aa4",
   "metadata": {},
   "source": [
    "## 1. Dane przygotowanie"
   ]
  },
  {
   "cell_type": "code",
   "execution_count": 21,
   "id": "0f95c2ea-cd66-4692-9d3d-ab97d97fdea2",
   "metadata": {},
   "outputs": [],
   "source": [
    "# regresja liniowa, linia y = ax + b \n",
    "a = 0.7\n",
    "b = 0.3\n",
    "X = torch.arange(start=0, end=1, step=0.02).unsqueeze(dim=1) # unsqueeze potrzebne do nn, dodanie dodatkowego wymiaru\n",
    "y = a * X + b"
   ]
  },
  {
   "cell_type": "code",
   "execution_count": 22,
   "id": "1c4273cb-b75b-4cbf-b94c-845e9b84c0e5",
   "metadata": {},
   "outputs": [
    {
     "data": {
      "image/png": "[encoded data removed]",
      "text/plain": [
       "<Figure size 700x400 with 1 Axes>"
      ]
     },
     "metadata": {},
     "output_type": "display_data"
    }
   ],
   "source": [
    "# rozdzielenie danych na treningowe i testowe\n",
    "from sklearn.model_selection import train_test_split\n",
    "X_train, X_test, y_train, y_test = train_test_split(X, y, test_size=0.2)\n",
    "plot_prediction(train_data=X_train, train_labels=y_train, test_data=X_test, test_labels=y_test)"
   ]
  },
  {
   "cell_type": "markdown",
   "id": "5ed72249-22a5-4e23-9fb2-85c001c5a490",
   "metadata": {},
   "source": [
    "## 2. Budowanie modelu"
   ]
  },
  {
   "cell_type": "markdown",
   "id": "8af6f31d-a7f3-4447-8289-1a5a560fc042",
   "metadata": {},
   "source": [
    "Dwa algorytmy sterujące.\n",
    "1. Gradient descent https://www.youtube.com/watch?v=IHZwWFHWa-w&list=PLZHQObOWTQDNU6R1_67000Dx_ZCJB-3pi&index=2\n",
    "2. Backpropagation https://www.youtube.com/watch?v=Ilg3gGewQ5U&list=PLZHQObOWTQDNU6R1_67000Dx_ZCJB-3pi&index=3"
   ]
  },
  {
   "cell_type": "code",
   "execution_count": 23,
   "id": "f0320fa1-5f5e-4170-ab9e-ba6e90fe1b72",
   "metadata": {},
   "outputs": [],
   "source": [
    "# definicja klasy modelu która dziedziczy z nn.Module która jest bazową klasą neural networks\n",
    "class ModelNN(nn.Module):\n",
    "    def __init__(self):\n",
    "        super().__init__()\n",
    "        # inicjalizacja parametrów, które są wartościami poszukiwanymi, inicjalizacja random\n",
    "        self.a = nn.Parameter(torch.randn(1, requires_grad=True, dtype=torch.float))\n",
    "        self.b = nn.Parameter(torch.randn(1, requires_grad=True, dtype=torch.float))\n",
    "        # metoda która oblicza model, jest wymagana w każdym modelu\n",
    "    def forward(self, x: torch.Tensor) -> torch.Tensor: # \"x\" to dane wejściowe\n",
    "        return self.a * x + self.b       "
   ]
  },
  {
   "cell_type": "code",
   "execution_count": 24,
   "id": "99d0bdfd-39e7-47b4-a6c3-2f373a9cc7e3",
   "metadata": {},
   "outputs": [
    {
     "data": {
      "text/plain": [
       "OrderedDict([('a', tensor([0.3367])), ('b', tensor([0.1288]))])"
      ]
     },
     "execution_count": 24,
     "metadata": {},
     "output_type": "execute_result"
    }
   ],
   "source": [
    "torch.manual_seed(42)\n",
    "# instancja modelu\n",
    "model = ModelNN()\n",
    "# parametry po utworzeniu objektu, pierwszy random\n",
    "# list(model.parameters()) # sposób na same wartości\n",
    "model.state_dict() # wartości parametrów wraz z nazwami"
   ]
  },
  {
   "cell_type": "code",
   "execution_count": 25,
   "id": "bc1ab100-b49e-40d1-83d0-ec1200972768",
   "metadata": {},
   "outputs": [
    {
     "name": "stdout",
     "output_type": "stream",
     "text": [
      "a->0.7, b->0.3\n"
     ]
    }
   ],
   "source": [
    "print(f'a->{a}, b->{b}') # dla porównywalnia wartości jakie powinny być"
   ]
  },
  {
   "cell_type": "code",
   "execution_count": 26,
   "id": "a43ba1ce-2e78-4169-ac39-59415c3c1b5d",
   "metadata": {},
   "outputs": [
    {
     "data": {
      "image/png": "[encoded data removed]",
      "text/plain": [
       "<Figure size 700x400 with 1 Axes>"
      ]
     },
     "metadata": {},
     "output_type": "display_data"
    }
   ],
   "source": [
    "# pierwsze przewidywania bez uczenia modelu\n",
    "with torch.inference_mode():\n",
    "    y_preds = model(X_test)\n",
    "plot_prediction(train_data=X_train, train_labels=y_train, test_data=X_test, test_labels=y_test, predictions=y_preds)    "
   ]
  },
  {
   "cell_type": "code",
   "execution_count": null,
   "id": "8e6e580b-04ce-431c-9f60-42575874c9d6",
   "metadata": {},
   "outputs": [],
   "source": []
  }
 ],
 "metadata": {
  "kernelspec": {
   "display_name": "Torch Learn",
   "language": "python",
   "name": "python3"
  },
  "language_info": {
   "codemirror_mode": {
    "name": "ipython",
    "version": 3
   },
   "file_extension": ".py",
   "mimetype": "text/x-python",
   "name": "python",
   "nbconvert_exporter": "python",
   "pygments_lexer": "ipython3",
   "version": "3.12.1"
  },
  "widgets": {
   "application/vnd.jupyter.widget-state+json": {
    "state": {},
    "version_major": 2,
    "version_minor": 0
   }
  }
 },
 "nbformat": 4,
 "nbformat_minor": 5
}
