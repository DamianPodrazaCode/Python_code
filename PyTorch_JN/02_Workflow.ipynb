{
 "cells": [
  {
   "cell_type": "markdown",
   "id": "c024131b-d649-42c5-8536-acb4eae820d2",
   "metadata": {},
   "source": [
    "1. Dane przygotowanie"
   ]
  },
  {
   "cell_type": "code",
   "execution_count": 1,
   "id": "2a2e583f-ddc3-4ace-8c69-337f17a9a853",
   "metadata": {},
   "outputs": [],
   "source": [
    "import torch\n",
    "from torch import nn\n",
    "import pandas as pd\n",
    "import numpy as np\n",
    "import matplotlib.pyplot as plt"
   ]
  },
  {
   "cell_type": "code",
   "execution_count": 2,
   "id": "d8ee9f06-70c7-4506-b714-da5618d863f6",
   "metadata": {},
   "outputs": [
    {
     "data": {
      "text/plain": [
       "'cuda'"
      ]
     },
     "execution_count": 2,
     "metadata": {},
     "output_type": "execute_result"
    }
   ],
   "source": [
    "device = 'cuda' if torch.cuda.is_available() else 'cpu'\n",
    "device"
   ]
  },
  {
   "cell_type": "markdown",
   "id": "ffa3db7b-966e-405b-99f8-0e6884535aa4",
   "metadata": {},
   "source": [
    "## 1. Dane przygotowanie"
   ]
  },
  {
   "cell_type": "code",
   "execution_count": 10,
   "id": "0f95c2ea-cd66-4692-9d3d-ab97d97fdea2",
   "metadata": {},
   "outputs": [],
   "source": [
    "# regresja liniowa, linia y = ax + b \n",
    "a = 0.7\n",
    "b = 0.3\n",
    "X = torch.arange(start=0, end=1, step=0.02).unsqueeze(dim=1) # unsqueeze potrzebne do nn, dodanie dodatkowego wymiaru\n",
    "y = a * X + b"
   ]
  },
  {
   "cell_type": "code",
   "execution_count": 11,
   "id": "1c4273cb-b75b-4cbf-b94c-845e9b84c0e5",
   "metadata": {},
   "outputs": [],
   "source": [
    "# rozdzielenie danych na treningowe i testowe\n",
    "from sklearn.model_selection import train_test_split\n",
    "X_train, X_test, y_train, y_test = train_test_split(X, y, test_size=0.2)"
   ]
  },
  {
   "cell_type": "code",
   "execution_count": null,
   "id": "7ae2bac6-91a1-4d33-8ca0-9d118465bbbe",
   "metadata": {},
   "outputs": [],
   "source": []
  },
  {
   "cell_type": "code",
   "execution_count": null,
   "id": "f0320fa1-5f5e-4170-ab9e-ba6e90fe1b72",
   "metadata": {},
   "outputs": [],
   "source": []
  }
 ],
 "metadata": {
  "kernelspec": {
   "display_name": "Torch Learn",
   "language": "python",
   "name": "python3"
  },
  "language_info": {
   "codemirror_mode": {
    "name": "ipython",
    "version": 3
   },
   "file_extension": ".py",
   "mimetype": "text/x-python",
   "name": "python",
   "nbconvert_exporter": "python",
   "pygments_lexer": "ipython3",
   "version": "3.12.1"
  },
  "widgets": {
   "application/vnd.jupyter.widget-state+json": {
    "state": {},
    "version_major": 2,
    "version_minor": 0
   }
  }
 },
 "nbformat": 4,
 "nbformat_minor": 5
}
