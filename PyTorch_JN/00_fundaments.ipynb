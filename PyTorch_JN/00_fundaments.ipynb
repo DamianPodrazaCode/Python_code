{
 "cells": [
  {
   "cell_type": "code",
   "execution_count": 1,
   "id": "00a8d8e1-cc7f-471d-81f5-53fe825ab795",
   "metadata": {},
   "outputs": [],
   "source": [
    "import torch\n",
    "import pandas as pd\n",
    "import numpy as np\n",
    "import matplotlib.pyplot as plt"
   ]
  },
  {
   "cell_type": "code",
   "execution_count": 2,
   "id": "b24466f9-7416-42d3-89cc-49fa059b9aac",
   "metadata": {},
   "outputs": [
    {
     "name": "stdout",
     "output_type": "stream",
     "text": [
      "2.2.0\n"
     ]
    }
   ],
   "source": [
    "print(torch.__version__)"
   ]
  },
  {
   "cell_type": "markdown",
   "id": "1890225f-ad56-499d-a76b-f859c6daa941",
   "metadata": {},
   "source": [
    "## Tensory\n",
    "### PyTorch tensors tworzysię przy pomocy torch.tensor() -> https://pytorch.org/docs/stable/tensors.html"
   ]
  },
  {
   "cell_type": "code",
   "execution_count": 3,
   "id": "563e4e7a-0ab1-4951-b1ad-8b91bc390848",
   "metadata": {},
   "outputs": [
    {
     "data": {
      "text/plain": [
       "tensor(7)"
      ]
     },
     "execution_count": 3,
     "metadata": {},
     "output_type": "execute_result"
    }
   ],
   "source": [
    "# skalar, stworzenie tensora, jednoliczbowego\n",
    "scalar = torch.tensor(7)\n",
    "scalar"
   ]
  },
  {
   "cell_type": "code",
   "execution_count": 4,
   "id": "31d75ead-64a9-4e61-9ec7-0de84c2ea3e5",
   "metadata": {},
   "outputs": [
    {
     "data": {
      "text/plain": [
       "0"
      ]
     },
     "execution_count": 4,
     "metadata": {},
     "output_type": "execute_result"
    }
   ],
   "source": [
    "# wymiar tensora, tutaj zero ponieważ jest to jedna liczba - skalar\n",
    "scalar.ndim"
   ]
  },
  {
   "cell_type": "code",
   "execution_count": 5,
   "id": "be945270-cf73-4db5-8db2-3afe6e425381",
   "metadata": {},
   "outputs": [
    {
     "data": {
      "text/plain": [
       "7"
      ]
     },
     "execution_count": 5,
     "metadata": {},
     "output_type": "execute_result"
    }
   ],
   "source": [
    "# odczyt wartości tensora, skalara\n",
    "scalar.item()"
   ]
  },
  {
   "cell_type": "code",
   "execution_count": 6,
   "id": "54e40e16-d883-488d-b66e-52b57c1e20ad",
   "metadata": {},
   "outputs": [
    {
     "data": {
      "text/plain": [
       "tensor([7, 7, 2, 5])"
      ]
     },
     "execution_count": 6,
     "metadata": {},
     "output_type": "execute_result"
    }
   ],
   "source": [
    "# stworzenie tensora jednowymiarowego\n",
    "vector = torch.tensor([7, 7, 2, 5])\n",
    "vector"
   ]
  },
  {
   "cell_type": "code",
   "execution_count": 7,
   "id": "ac237652-6ca4-40a7-8a9e-8892c03af2d3",
   "metadata": {},
   "outputs": [
    {
     "data": {
      "text/plain": [
       "1"
      ]
     },
     "execution_count": 7,
     "metadata": {},
     "output_type": "execute_result"
    }
   ],
   "source": [
    "# jeden wymiar\n",
    "vector.ndim"
   ]
  },
  {
   "cell_type": "code",
   "execution_count": 8,
   "id": "4102824b-26c7-432e-b191-1c9c18b39153",
   "metadata": {},
   "outputs": [
    {
     "data": {
      "text/plain": [
       "tensor(2)"
      ]
     },
     "execution_count": 8,
     "metadata": {},
     "output_type": "execute_result"
    }
   ],
   "source": [
    "# odczyt wartości z pierwszego wymiaru która jest tesorem\n",
    "vector[2]"
   ]
  },
  {
   "cell_type": "code",
   "execution_count": 9,
   "id": "c45d4209-b39c-4a73-b635-5ec36f2d4596",
   "metadata": {},
   "outputs": [
    {
     "data": {
      "text/plain": [
       "5"
      ]
     },
     "execution_count": 9,
     "metadata": {},
     "output_type": "execute_result"
    }
   ],
   "source": [
    "# odczyt wartości z pozycji\n",
    "vector[3].item()"
   ]
  },
  {
   "cell_type": "code",
   "execution_count": 10,
   "id": "158e318c-4496-49a4-b684-ba4e4c86636c",
   "metadata": {},
   "outputs": [
    {
     "data": {
      "text/plain": [
       "torch.Size([4])"
      ]
     },
     "execution_count": 10,
     "metadata": {},
     "output_type": "execute_result"
    }
   ],
   "source": [
    "# kształt tensora, tablica jednowymiarowa czteroelementowa\n",
    "vector.shape"
   ]
  },
  {
   "cell_type": "code",
   "execution_count": 11,
   "id": "8c7513b0-ad29-4d40-ab9f-d2a165a15ccf",
   "metadata": {},
   "outputs": [
    {
     "data": {
      "text/plain": [
       "(tensor([[ 7,  8],\n",
       "         [ 9, 10]]),\n",
       " 2,\n",
       " torch.Size([2, 2]))"
      ]
     },
     "execution_count": 11,
     "metadata": {},
     "output_type": "execute_result"
    }
   ],
   "source": [
    "# dwa wymiary, matrix\n",
    "matrix = torch.tensor([[7, 8],\n",
    "                       [9, 10]])\n",
    "matrix, matrix.ndim, matrix.shape"
   ]
  },
  {
   "cell_type": "code",
   "execution_count": 12,
   "id": "19115d68-855e-4ef9-aeef-d3470053f076",
   "metadata": {},
   "outputs": [
    {
     "data": {
      "text/plain": [
       "(tensor([[[1, 2, 3],\n",
       "          [4, 5, 6],\n",
       "          [5, 6, 7]]]),\n",
       " 3,\n",
       " torch.Size([1, 3, 3]))"
      ]
     },
     "execution_count": 12,
     "metadata": {},
     "output_type": "execute_result"
    }
   ],
   "source": [
    "# trzy wymiary, kształt jest liczony od części zewnętrznych\n",
    "tensor = torch.tensor([[[1,2,3],\n",
    "                        [4,5,6],\n",
    "                        [5,6,7]]])\n",
    "tensor, tensor.ndim, tensor.shape"
   ]
  },
  {
   "cell_type": "markdown",
   "id": "65fc3ffb-e760-484c-85d8-5bddcec9e659",
   "metadata": {},
   "source": [
    "## Random tensors\n",
    "### https://pytorch.org/docs/stable/generated/torch.rand.html -> float\n",
    "### https://pytorch.org/docs/stable/generated/torch.randint.html -> int\n",
    "### https://pytorch.org/docs/stable/generated/torch.randn.html -> nominal dist"
   ]
  },
  {
   "cell_type": "code",
   "execution_count": 13,
   "id": "6c35e742-565f-4a71-aff3-bafcd7bff951",
   "metadata": {},
   "outputs": [
    {
     "data": {
      "text/plain": [
       "(tensor([[0.2016, 0.6599, 0.6481, 0.6667],\n",
       "         [0.7787, 0.2350, 0.2274, 0.8116],\n",
       "         [0.8083, 0.5696, 0.3118, 0.1630]]),\n",
       " 2,\n",
       " torch.Size([3, 4]))"
      ]
     },
     "execution_count": 13,
     "metadata": {},
     "output_type": "execute_result"
    }
   ],
   "source": [
    "# generuje liczby pseudolosowe w tensorze o shape podanym w nawiasach\n",
    "random_tensor = torch.rand(3, 4)\n",
    "random_tensor, random_tensor.ndim, random_tensor.shape"
   ]
  },
  {
   "cell_type": "markdown",
   "id": "c5cd0fc4-4258-4ed8-a24a-521af93d18cb",
   "metadata": {},
   "source": [
    "## Tensors Zero and Ones"
   ]
  },
  {
   "cell_type": "code",
   "execution_count": 14,
   "id": "5d5b431d-1456-402d-898e-854d06d54c7e",
   "metadata": {},
   "outputs": [
    {
     "data": {
      "text/plain": [
       "tensor([[0., 0., 0., 0., 0.],\n",
       "        [0., 0., 0., 0., 0.],\n",
       "        [0., 0., 0., 0., 0.],\n",
       "        [0., 0., 0., 0., 0.]])"
      ]
     },
     "execution_count": 14,
     "metadata": {},
     "output_type": "execute_result"
    }
   ],
   "source": [
    "zeros = torch.zeros(4, 5)\n",
    "zeros"
   ]
  },
  {
   "cell_type": "code",
   "execution_count": 15,
   "id": "9f4fe241-4c22-4f40-a29a-c6615d5499a6",
   "metadata": {},
   "outputs": [
    {
     "data": {
      "text/plain": [
       "tensor([[1., 1., 1.],\n",
       "        [1., 1., 1.]])"
      ]
     },
     "execution_count": 15,
     "metadata": {},
     "output_type": "execute_result"
    }
   ],
   "source": [
    "ones = torch.ones(2, 3)\n",
    "ones"
   ]
  },
  {
   "cell_type": "code",
   "execution_count": 16,
   "id": "b6bcaf8f-9b69-47bb-8d2b-e4983274dd03",
   "metadata": {},
   "outputs": [
    {
     "data": {
      "text/plain": [
       "(torch.float32, torch.float32)"
      ]
     },
     "execution_count": 16,
     "metadata": {},
     "output_type": "execute_result"
    }
   ],
   "source": [
    "# typ danych\n",
    "zeros.dtype, ones.dtype"
   ]
  },
  {
   "cell_type": "markdown",
   "id": "e4169557-2db9-4037-ae5c-55790a0b24bf",
   "metadata": {},
   "source": [
    "## Range of tensors and tensors-like\n",
    "### https://pytorch.org/docs/stable/generated/torch.arange.html"
   ]
  },
  {
   "cell_type": "code",
   "execution_count": 17,
   "id": "b6bb90cf-2bc8-406d-aec1-141374bafd95",
   "metadata": {},
   "outputs": [
    {
     "data": {
      "text/plain": [
       "tensor([0, 1, 2, 3, 4, 5, 6, 7, 8, 9])"
      ]
     },
     "execution_count": 17,
     "metadata": {},
     "output_type": "execute_result"
    }
   ],
   "source": [
    "# stworzenie jednowymiarowego tensora z zakresu liczb\n",
    "torch.arange(0, 10)"
   ]
  },
  {
   "cell_type": "code",
   "execution_count": 18,
   "id": "5221b295-c4a7-4cf9-b3e4-5aa06b7bacc6",
   "metadata": {},
   "outputs": [
    {
     "data": {
      "text/plain": [
       "tensor([ 0, 11, 22, 33, 44, 55, 66, 77, 88, 99])"
      ]
     },
     "execution_count": 18,
     "metadata": {},
     "output_type": "execute_result"
    }
   ],
   "source": [
    "co11 = torch.arange(start=0, end=100, step=11)\n",
    "co11"
   ]
  },
  {
   "cell_type": "code",
   "execution_count": 19,
   "id": "e5c9a7ef-96f5-4900-9697-ccb5e0ff25a6",
   "metadata": {},
   "outputs": [
    {
     "data": {
      "text/plain": [
       "tensor([0, 0, 0, 0, 0, 0, 0, 0, 0, 0])"
      ]
     },
     "execution_count": 19,
     "metadata": {},
     "output_type": "execute_result"
    }
   ],
   "source": [
    "# tworzenie tensora o takim samym shape ale wypełnionego zerami\n",
    "torch.zeros_like(co11)"
   ]
  },
  {
   "cell_type": "code",
   "execution_count": 20,
   "id": "495f9af7-aefc-4243-86f1-1c512526c437",
   "metadata": {},
   "outputs": [
    {
     "data": {
      "text/plain": [
       "tensor([1, 1, 1, 1, 1, 1, 1, 1, 1, 1])"
      ]
     },
     "execution_count": 20,
     "metadata": {},
     "output_type": "execute_result"
    }
   ],
   "source": [
    "# tosamo tylo z jedynkami\n",
    "torch.ones_like(co11)"
   ]
  },
  {
   "cell_type": "markdown",
   "id": "c78a6050-e4fa-478f-9af7-35783c35d993",
   "metadata": {},
   "source": [
    "## Typy danych w tensorach\n",
    "### https://pytorch.org/docs/stable/tensors.html"
   ]
  },
  {
   "cell_type": "code",
   "execution_count": 21,
   "id": "c4e9fc52-dcdc-404f-b000-078b3e551d49",
   "metadata": {},
   "outputs": [
    {
     "data": {
      "text/plain": [
       "(tensor([3., 6., 9.]), torch.float32)"
      ]
     },
     "execution_count": 21,
     "metadata": {},
     "output_type": "execute_result"
    }
   ],
   "source": [
    "tFlot32 = torch.tensor([3., 6., 9.], dtype=None)  # None jest default, i oznacza rozpoznawanie automatyczna, liczba z kropką to float32 a bez int64\n",
    "tFlot32, tFlot32.dtype"
   ]
  },
  {
   "cell_type": "code",
   "execution_count": 22,
   "id": "c638a5c3-fbe3-4d9e-a616-f96a1a6c04c7",
   "metadata": {},
   "outputs": [
    {
     "data": {
      "text/plain": [
       "(tensor([3., 5., 7.], dtype=torch.float16), torch.float16)"
      ]
     },
     "execution_count": 22,
     "metadata": {},
     "output_type": "execute_result"
    }
   ],
   "source": [
    "tFlot16 = torch.tensor([3., 5., 7.], dtype=torch.float16)\n",
    "tFlot16, tFlot16.dtype"
   ]
  },
  {
   "cell_type": "code",
   "execution_count": 23,
   "id": "41483535-fe0b-4453-9259-fb214ce6dd0a",
   "metadata": {},
   "outputs": [
    {
     "data": {
      "text/plain": [
       "(tensor([3., 5., 7.], dtype=torch.float64), torch.float64)"
      ]
     },
     "execution_count": 23,
     "metadata": {},
     "output_type": "execute_result"
    }
   ],
   "source": [
    "tFlot64 = torch.tensor([3., 5., 7.], dtype=torch.float64)\n",
    "tFlot64, tFlot64.dtype"
   ]
  },
  {
   "cell_type": "code",
   "execution_count": 24,
   "id": "1fd99089-e6e0-4b8f-a276-35dc4d0b9af0",
   "metadata": {},
   "outputs": [
    {
     "data": {
      "text/plain": [
       "(tensor([3, 5, 7]), torch.int64)"
      ]
     },
     "execution_count": 24,
     "metadata": {},
     "output_type": "execute_result"
    }
   ],
   "source": [
    "tInt = torch.tensor([3, 5, 7], dtype=None) # automatyczne rozpoznanie int64\n",
    "tInt, tInt.dtype"
   ]
  },
  {
   "cell_type": "code",
   "execution_count": 25,
   "id": "dd3fb542-c7f7-46c3-870d-718fcfb32bba",
   "metadata": {},
   "outputs": [
    {
     "data": {
      "text/plain": [
       "(tensor([3, 5, 7], dtype=torch.int16), torch.int16)"
      ]
     },
     "execution_count": 25,
     "metadata": {},
     "output_type": "execute_result"
    }
   ],
   "source": [
    "tInt = torch.tensor([3, 5, 7], dtype=torch.int16) \n",
    "tInt, tInt.dtype"
   ]
  },
  {
   "cell_type": "code",
   "execution_count": 26,
   "id": "96636fd9-168b-4ed1-a5e8-ebf562d81d6f",
   "metadata": {},
   "outputs": [
    {
     "data": {
      "text/plain": [
       "(tensor([ True, False, False]), torch.bool)"
      ]
     },
     "execution_count": 26,
     "metadata": {},
     "output_type": "execute_result"
    }
   ],
   "source": [
    "tBool = torch.tensor([True, False, False], dtype=None) # automatyczne rozpoznanie typu bool\n",
    "tBool, tBool.dtype"
   ]
  },
  {
   "cell_type": "code",
   "execution_count": 29,
   "id": "8c6ba467-db3e-4da2-82a5-ea13fab5a5f1",
   "metadata": {},
   "outputs": [
    {
     "data": {
      "text/plain": [
       "(tensor([3., 6., 9.]), torch.float32)"
      ]
     },
     "execution_count": 29,
     "metadata": {},
     "output_type": "execute_result"
    }
   ],
   "source": [
    "# ustawienia tensora\n",
    "tFlot32 = torch.tensor([3., 6., 9.],\n",
    "                       dtype=None, # typ danych\n",
    "                       device=None, # CPU GPU ('None', 'cuda')\n",
    "                       requires_grad=False, # śledzenie gradientem\n",
    "                       pin_memory=False) # \n",
    "tFlot32, tFlot32.dtype"
   ]
  },
  {
   "cell_type": "markdown",
   "id": "e036e339-706f-4cdf-9230-6d1ff0d0f41f",
   "metadata": {},
   "source": [
    "### Trzy główne błędy na typach danych w PyTorch\n",
    "1. Tensor nie ma prawidłowego typu danych\n",
    "2. Tensor nie ma prawidłowego shapa\n",
    "3. Tensor nie jest uruchamiane na odpowiednim urządzeniu (CPU, GPU)"
   ]
  },
  {
   "cell_type": "markdown",
   "id": "25134188-3951-4de4-ab77-1711aa3020fb",
   "metadata": {},
   "source": [
    "## Casting tensor "
   ]
  },
  {
   "cell_type": "code",
   "execution_count": 32,
   "id": "c7fd5e84-54c5-4417-a813-cb84ce9cc58b",
   "metadata": {},
   "outputs": [
    {
     "data": {
      "text/plain": [
       "tensor([3., 5., 7.], dtype=torch.float16)"
      ]
     },
     "execution_count": 32,
     "metadata": {},
     "output_type": "execute_result"
    }
   ],
   "source": [
    "cast_tF16 = tFlot64.type(torch.float16)\n",
    "cast_tF16"
   ]
  },
  {
   "cell_type": "markdown",
   "id": "d3cfaf28-5bbc-4315-a1ed-b96d328360cb",
   "metadata": {},
   "source": [
    "## Atrybuty tensora"
   ]
  },
  {
   "cell_type": "code",
   "execution_count": 35,
   "id": "88dd8152-705b-47ba-8989-de249f01760b",
   "metadata": {},
   "outputs": [
    {
     "data": {
      "text/plain": [
       "(tensor([[0.9686, 0.8669, 0.1920, 0.7122],\n",
       "         [0.1769, 0.4344, 0.1812, 0.4491],\n",
       "         [0.1351, 0.8644, 0.1291, 0.4628]]),\n",
       " 2,\n",
       " torch.Size([3, 4]),\n",
       " torch.Size([3, 4]),\n",
       " device(type='cpu'),\n",
       " torch.float32)"
      ]
     },
     "execution_count": 35,
     "metadata": {},
     "output_type": "execute_result"
    }
   ],
   "source": [
    "random_tensor = torch.rand(3, 4)\n",
    "random_tensor, random_tensor.ndim, random_tensor.shape, random_tensor.size(), random_tensor.device, random_tensor.dtype"
   ]
  },
  {
   "cell_type": "code",
   "execution_count": null,
   "id": "08d4476f-91d6-4d42-8a13-e6647b68b062",
   "metadata": {},
   "outputs": [],
   "source": []
  }
 ],
 "metadata": {
  "kernelspec": {
   "display_name": "Torch Learn",
   "language": "python",
   "name": "python3"
  },
  "language_info": {
   "codemirror_mode": {
    "name": "ipython",
    "version": 3
   },
   "file_extension": ".py",
   "mimetype": "text/x-python",
   "name": "python",
   "nbconvert_exporter": "python",
   "pygments_lexer": "ipython3",
   "version": "3.12.1"
  },
  "widgets": {
   "application/vnd.jupyter.widget-state+json": {
    "state": {},
    "version_major": 2,
    "version_minor": 0
   }
  }
 },
 "nbformat": 4,
 "nbformat_minor": 5
}
