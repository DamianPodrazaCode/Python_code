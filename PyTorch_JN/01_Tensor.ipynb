{
 "cells": [
  {
   "cell_type": "markdown",
   "id": "d9397002-b130-4cb0-b1e1-d1cc00bfd84d",
   "metadata": {},
   "source": [
    "1. Tensory\n",
    "2. Random tensors\n",
    "3. Tensors Zero and Ones\n",
    "4. Range of tensors and tensors-like\n",
    "5. Typy danych w tensorach\n",
    "6. Trzy główne błędy na typach danych w PyTorch\n",
    "7. Casting tensor\n",
    "8. Atrybuty tensora\n",
    "9. Operacje na tensorach\n",
    "10. Matrix multiplication\n",
    "11. Dwie podstawowe zasady przy 'Matrix mulltiplication'\n",
    "12. Przewrócenie macierzy (transpose)\n",
    "13. Wyszukiwanie min, max, obliczanie mean, sum, itd (tensor aggregation)\n",
    "14. Wyszukiwanie indeksu nim, max\n",
    "15. Reshaping and view -> zmiana kształtu\n",
    "16. Stacking -> łączenie tensorów\n",
    "17. Squeezing -> usunięcie wymiarów '1' z tensora\n",
    "18. Unsqueezing -> dodanie wymiaru '1' do tensora\n",
    "19. Permute -> przestawienie kolejności"
   ]
  },
  {
   "cell_type": "code",
   "execution_count": 1,
   "id": "00a8d8e1-cc7f-471d-81f5-53fe825ab795",
   "metadata": {},
   "outputs": [
    {
     "name": "stdout",
     "output_type": "stream",
     "text": [
      "2.2.0\n"
     ]
    }
   ],
   "source": [
    "import torch\n",
    "import pandas as pd\n",
    "import numpy as np\n",
    "import matplotlib.pyplot as plt\n",
    "\n",
    "print(torch.__version__)"
   ]
  },
  {
   "cell_type": "markdown",
   "id": "52cedb4c-023e-4085-aa4f-c09a68248815",
   "metadata": {
    "jp-MarkdownHeadingCollapsed": true
   },
   "source": [
    "## 1. Tensory"
   ]
  },
  {
   "cell_type": "markdown",
   "id": "cbc46ab5-05a9-4922-b6cf-c4a73a69b6c9",
   "metadata": {},
   "source": [
    "### PyTorch tensors tworzysię przy pomocy torch.tensor()\n",
    "Trzy główne błędy na typach danych w PyTorch"
   ]
  },
  {
   "cell_type": "code",
   "execution_count": 2,
   "id": "563e4e7a-0ab1-4951-b1ad-8b91bc390848",
   "metadata": {},
   "outputs": [
    {
     "data": {
      "text/plain": [
       "tensor(7)"
      ]
     },
     "execution_count": 2,
     "metadata": {},
     "output_type": "execute_result"
    }
   ],
   "source": [
    "# skalar, stworzenie tensora, jednoliczbowego\n",
    "scalar = torch.tensor(7)\n",
    "scalar"
   ]
  },
  {
   "cell_type": "code",
   "execution_count": 3,
   "id": "31d75ead-64a9-4e61-9ec7-0de84c2ea3e5",
   "metadata": {},
   "outputs": [
    {
     "data": {
      "text/plain": [
       "0"
      ]
     },
     "execution_count": 3,
     "metadata": {},
     "output_type": "execute_result"
    }
   ],
   "source": [
    "# wymiar tensora, tutaj zero ponieważ jest to jedna liczba - skalar\n",
    "scalar.ndim"
   ]
  },
  {
   "cell_type": "code",
   "execution_count": 4,
   "id": "be945270-cf73-4db5-8db2-3afe6e425381",
   "metadata": {},
   "outputs": [
    {
     "data": {
      "text/plain": [
       "7"
      ]
     },
     "execution_count": 4,
     "metadata": {},
     "output_type": "execute_result"
    }
   ],
   "source": [
    "# odczyt wartości tensora, skalara\n",
    "scalar.item()"
   ]
  },
  {
   "cell_type": "code",
   "execution_count": 5,
   "id": "54e40e16-d883-488d-b66e-52b57c1e20ad",
   "metadata": {},
   "outputs": [
    {
     "data": {
      "text/plain": [
       "tensor([7, 7, 2, 5])"
      ]
     },
     "execution_count": 5,
     "metadata": {},
     "output_type": "execute_result"
    }
   ],
   "source": [
    "# stworzenie tensora jednowymiarowego\n",
    "vector = torch.tensor([7, 7, 2, 5])\n",
    "vector"
   ]
  },
  {
   "cell_type": "code",
   "execution_count": 6,
   "id": "ac237652-6ca4-40a7-8a9e-8892c03af2d3",
   "metadata": {},
   "outputs": [
    {
     "data": {
      "text/plain": [
       "1"
      ]
     },
     "execution_count": 6,
     "metadata": {},
     "output_type": "execute_result"
    }
   ],
   "source": [
    "# jeden wymiar\n",
    "vector.ndim"
   ]
  },
  {
   "cell_type": "code",
   "execution_count": 7,
   "id": "4102824b-26c7-432e-b191-1c9c18b39153",
   "metadata": {},
   "outputs": [
    {
     "data": {
      "text/plain": [
       "tensor(2)"
      ]
     },
     "execution_count": 7,
     "metadata": {},
     "output_type": "execute_result"
    }
   ],
   "source": [
    "# odczyt wartości z pierwszego wymiaru która jest tesorem\n",
    "vector[2]"
   ]
  },
  {
   "cell_type": "code",
   "execution_count": 8,
   "id": "c45d4209-b39c-4a73-b635-5ec36f2d4596",
   "metadata": {},
   "outputs": [
    {
     "data": {
      "text/plain": [
       "5"
      ]
     },
     "execution_count": 8,
     "metadata": {},
     "output_type": "execute_result"
    }
   ],
   "source": [
    "# odczyt wartości z pozycji\n",
    "vector[3].item()"
   ]
  },
  {
   "cell_type": "code",
   "execution_count": 9,
   "id": "158e318c-4496-49a4-b684-ba4e4c86636c",
   "metadata": {},
   "outputs": [
    {
     "data": {
      "text/plain": [
       "torch.Size([4])"
      ]
     },
     "execution_count": 9,
     "metadata": {},
     "output_type": "execute_result"
    }
   ],
   "source": [
    "# kształt tensora, tablica jednowymiarowa czteroelementowa\n",
    "vector.shape"
   ]
  },
  {
   "cell_type": "code",
   "execution_count": 10,
   "id": "8c7513b0-ad29-4d40-ab9f-d2a165a15ccf",
   "metadata": {},
   "outputs": [
    {
     "data": {
      "text/plain": [
       "(tensor([[ 7,  8],\n",
       "         [ 9, 10]]),\n",
       " 2,\n",
       " torch.Size([2, 2]))"
      ]
     },
     "execution_count": 10,
     "metadata": {},
     "output_type": "execute_result"
    }
   ],
   "source": [
    "# dwa wymiary, matrix\n",
    "matrix = torch.tensor([[7, 8],\n",
    "                       [9, 10]])\n",
    "matrix, matrix.ndim, matrix.shape"
   ]
  },
  {
   "cell_type": "code",
   "execution_count": 11,
   "id": "19115d68-855e-4ef9-aeef-d3470053f076",
   "metadata": {},
   "outputs": [
    {
     "data": {
      "text/plain": [
       "(tensor([[[1, 2, 3],\n",
       "          [4, 5, 6],\n",
       "          [5, 6, 7]]]),\n",
       " 3,\n",
       " torch.Size([1, 3, 3]))"
      ]
     },
     "execution_count": 11,
     "metadata": {},
     "output_type": "execute_result"
    }
   ],
   "source": [
    "# trzy wymiary, kształt jest liczony od części zewnętrznych\n",
    "tensor = torch.tensor([[[1,2,3],\n",
    "                        [4,5,6],\n",
    "                        [5,6,7]]])\n",
    "tensor, tensor.ndim, tensor.shape"
   ]
  },
  {
   "cell_type": "markdown",
   "id": "e90b3157-4ee2-43ee-9592-0c367d3ac9b6",
   "metadata": {
    "jp-MarkdownHeadingCollapsed": true
   },
   "source": [
    "## 2. Random tensors"
   ]
  },
  {
   "cell_type": "markdown",
   "id": "4678425f-ea0a-4f04-944c-ef5863d6ccb7",
   "metadata": {},
   "source": [
    "### https://pytorch.org/docs/stable/generated/torch.rand.html -> float\n",
    "### https://pytorch.org/docs/stable/generated/torch.randint.html -> int\n",
    "### https://pytorch.org/docs/stable/generated/torch.randn.html -> nominal dist"
   ]
  },
  {
   "cell_type": "code",
   "execution_count": 12,
   "id": "6c35e742-565f-4a71-aff3-bafcd7bff951",
   "metadata": {},
   "outputs": [
    {
     "data": {
      "text/plain": [
       "(tensor([[0.8956, 0.6189, 0.2091, 0.8203],\n",
       "         [0.3379, 0.8761, 0.3136, 0.4615],\n",
       "         [0.3363, 0.3182, 0.4014, 0.8745]]),\n",
       " 2,\n",
       " torch.Size([3, 4]))"
      ]
     },
     "execution_count": 12,
     "metadata": {},
     "output_type": "execute_result"
    }
   ],
   "source": [
    "# generuje liczby pseudolosowe w tensorze o shape podanym w nawiasach\n",
    "random_tensor = torch.rand(3, 4)\n",
    "random_tensor, random_tensor.ndim, random_tensor.shape"
   ]
  },
  {
   "cell_type": "markdown",
   "id": "c5cd0fc4-4258-4ed8-a24a-521af93d18cb",
   "metadata": {
    "jp-MarkdownHeadingCollapsed": true
   },
   "source": [
    "## 3. Tensors Zero and Ones"
   ]
  },
  {
   "cell_type": "code",
   "execution_count": 13,
   "id": "5d5b431d-1456-402d-898e-854d06d54c7e",
   "metadata": {},
   "outputs": [
    {
     "data": {
      "text/plain": [
       "tensor([[0., 0., 0., 0., 0.],\n",
       "        [0., 0., 0., 0., 0.],\n",
       "        [0., 0., 0., 0., 0.],\n",
       "        [0., 0., 0., 0., 0.]])"
      ]
     },
     "execution_count": 13,
     "metadata": {},
     "output_type": "execute_result"
    }
   ],
   "source": [
    "zeros = torch.zeros(4, 5)\n",
    "zeros"
   ]
  },
  {
   "cell_type": "code",
   "execution_count": 14,
   "id": "9f4fe241-4c22-4f40-a29a-c6615d5499a6",
   "metadata": {},
   "outputs": [
    {
     "data": {
      "text/plain": [
       "tensor([[1., 1., 1.],\n",
       "        [1., 1., 1.]])"
      ]
     },
     "execution_count": 14,
     "metadata": {},
     "output_type": "execute_result"
    }
   ],
   "source": [
    "ones = torch.ones(2, 3)\n",
    "ones"
   ]
  },
  {
   "cell_type": "code",
   "execution_count": 15,
   "id": "b6bcaf8f-9b69-47bb-8d2b-e4983274dd03",
   "metadata": {},
   "outputs": [
    {
     "data": {
      "text/plain": [
       "(torch.float32, torch.float32)"
      ]
     },
     "execution_count": 15,
     "metadata": {},
     "output_type": "execute_result"
    }
   ],
   "source": [
    "# typ danych\n",
    "zeros.dtype, ones.dtype"
   ]
  },
  {
   "cell_type": "markdown",
   "id": "6b234e6a-0992-4bbd-91eb-0ff74f90a32b",
   "metadata": {
    "jp-MarkdownHeadingCollapsed": true
   },
   "source": [
    "## 4. Range of tensors and tensors-like"
   ]
  },
  {
   "cell_type": "markdown",
   "id": "63bade4f-775e-4bb1-9d5f-5ff1407d5989",
   "metadata": {},
   "source": [
    "### https://pytorch.org/docs/stable/generated/torch.arange.html"
   ]
  },
  {
   "cell_type": "code",
   "execution_count": 16,
   "id": "b6bb90cf-2bc8-406d-aec1-141374bafd95",
   "metadata": {},
   "outputs": [
    {
     "data": {
      "text/plain": [
       "tensor([0, 1, 2, 3, 4, 5, 6, 7, 8, 9])"
      ]
     },
     "execution_count": 16,
     "metadata": {},
     "output_type": "execute_result"
    }
   ],
   "source": [
    "# stworzenie jednowymiarowego tensora z zakresu liczb\n",
    "torch.arange(0, 10)"
   ]
  },
  {
   "cell_type": "code",
   "execution_count": 17,
   "id": "5221b295-c4a7-4cf9-b3e4-5aa06b7bacc6",
   "metadata": {},
   "outputs": [
    {
     "data": {
      "text/plain": [
       "tensor([ 0, 11, 22, 33, 44, 55, 66, 77, 88, 99])"
      ]
     },
     "execution_count": 17,
     "metadata": {},
     "output_type": "execute_result"
    }
   ],
   "source": [
    "co11 = torch.arange(start=0, end=100, step=11)\n",
    "co11"
   ]
  },
  {
   "cell_type": "code",
   "execution_count": 18,
   "id": "e5c9a7ef-96f5-4900-9697-ccb5e0ff25a6",
   "metadata": {},
   "outputs": [
    {
     "data": {
      "text/plain": [
       "tensor([0, 0, 0, 0, 0, 0, 0, 0, 0, 0])"
      ]
     },
     "execution_count": 18,
     "metadata": {},
     "output_type": "execute_result"
    }
   ],
   "source": [
    "# tworzenie tensora o takim samym shape ale wypełnionego zerami\n",
    "torch.zeros_like(co11)"
   ]
  },
  {
   "cell_type": "code",
   "execution_count": 19,
   "id": "495f9af7-aefc-4243-86f1-1c512526c437",
   "metadata": {},
   "outputs": [
    {
     "data": {
      "text/plain": [
       "tensor([1, 1, 1, 1, 1, 1, 1, 1, 1, 1])"
      ]
     },
     "execution_count": 19,
     "metadata": {},
     "output_type": "execute_result"
    }
   ],
   "source": [
    "# tosamo tylo z jedynkami\n",
    "torch.ones_like(co11)"
   ]
  },
  {
   "cell_type": "markdown",
   "id": "931df878-5521-4b4c-b324-fff3e8bee2e0",
   "metadata": {
    "jp-MarkdownHeadingCollapsed": true
   },
   "source": [
    "## 5. Typy danych w tensorach"
   ]
  },
  {
   "cell_type": "markdown",
   "id": "500642a0-0862-48b3-b6ed-caf06ba52e7f",
   "metadata": {},
   "source": [
    "### https://pytorch.org/docs/stable/tensors.html"
   ]
  },
  {
   "cell_type": "code",
   "execution_count": 20,
   "id": "c4e9fc52-dcdc-404f-b000-078b3e551d49",
   "metadata": {},
   "outputs": [
    {
     "data": {
      "text/plain": [
       "(tensor([3., 6., 9.]), torch.float32)"
      ]
     },
     "execution_count": 20,
     "metadata": {},
     "output_type": "execute_result"
    }
   ],
   "source": [
    "tFlot32 = torch.tensor([3., 6., 9.], dtype=None)  # None jest default, i oznacza rozpoznawanie automatyczna, liczba z kropką to float32 a bez int64\n",
    "tFlot32, tFlot32.dtype"
   ]
  },
  {
   "cell_type": "code",
   "execution_count": 21,
   "id": "c638a5c3-fbe3-4d9e-a616-f96a1a6c04c7",
   "metadata": {},
   "outputs": [
    {
     "data": {
      "text/plain": [
       "(tensor([3., 5., 7.], dtype=torch.float16), torch.float16)"
      ]
     },
     "execution_count": 21,
     "metadata": {},
     "output_type": "execute_result"
    }
   ],
   "source": [
    "tFlot16 = torch.tensor([3., 5., 7.], dtype=torch.float16)\n",
    "tFlot16, tFlot16.dtype"
   ]
  },
  {
   "cell_type": "code",
   "execution_count": 22,
   "id": "41483535-fe0b-4453-9259-fb214ce6dd0a",
   "metadata": {},
   "outputs": [
    {
     "data": {
      "text/plain": [
       "(tensor([3., 5., 7.], dtype=torch.float64), torch.float64)"
      ]
     },
     "execution_count": 22,
     "metadata": {},
     "output_type": "execute_result"
    }
   ],
   "source": [
    "tFlot64 = torch.tensor([3., 5., 7.], dtype=torch.float64)\n",
    "tFlot64, tFlot64.dtype"
   ]
  },
  {
   "cell_type": "code",
   "execution_count": 23,
   "id": "1fd99089-e6e0-4b8f-a276-35dc4d0b9af0",
   "metadata": {},
   "outputs": [
    {
     "data": {
      "text/plain": [
       "(tensor([3, 5, 7]), torch.int64)"
      ]
     },
     "execution_count": 23,
     "metadata": {},
     "output_type": "execute_result"
    }
   ],
   "source": [
    "tInt = torch.tensor([3, 5, 7], dtype=None) # automatyczne rozpoznanie int64\n",
    "tInt, tInt.dtype"
   ]
  },
  {
   "cell_type": "code",
   "execution_count": 24,
   "id": "dd3fb542-c7f7-46c3-870d-718fcfb32bba",
   "metadata": {},
   "outputs": [
    {
     "data": {
      "text/plain": [
       "(tensor([3, 5, 7], dtype=torch.int16), torch.int16)"
      ]
     },
     "execution_count": 24,
     "metadata": {},
     "output_type": "execute_result"
    }
   ],
   "source": [
    "tInt = torch.tensor([3, 5, 7], dtype=torch.int16) \n",
    "tInt, tInt.dtype"
   ]
  },
  {
   "cell_type": "code",
   "execution_count": 25,
   "id": "96636fd9-168b-4ed1-a5e8-ebf562d81d6f",
   "metadata": {},
   "outputs": [
    {
     "data": {
      "text/plain": [
       "(tensor([ True, False, False]), torch.bool)"
      ]
     },
     "execution_count": 25,
     "metadata": {},
     "output_type": "execute_result"
    }
   ],
   "source": [
    "tBool = torch.tensor([True, False, False], dtype=None) # automatyczne rozpoznanie typu bool\n",
    "tBool, tBool.dtype"
   ]
  },
  {
   "cell_type": "code",
   "execution_count": 26,
   "id": "8c6ba467-db3e-4da2-82a5-ea13fab5a5f1",
   "metadata": {},
   "outputs": [
    {
     "data": {
      "text/plain": [
       "(tensor([3., 6., 9.]), torch.float32)"
      ]
     },
     "execution_count": 26,
     "metadata": {},
     "output_type": "execute_result"
    }
   ],
   "source": [
    "# ustawienia tensora\n",
    "tFlot32 = torch.tensor([3., 6., 9.],\n",
    "                       dtype=None, # typ danych\n",
    "                       device=None, # CPU GPU ('None', 'cuda')\n",
    "                       requires_grad=False, # śledzenie gradientem\n",
    "                       pin_memory=False) # \n",
    "tFlot32, tFlot32.dtype"
   ]
  },
  {
   "cell_type": "markdown",
   "id": "8f8a5e37-2cbe-4d62-bd8b-ac728a98672c",
   "metadata": {
    "jp-MarkdownHeadingCollapsed": true
   },
   "source": [
    "## 6. Trzy główne błędy na typach danych w PyTorch"
   ]
  },
  {
   "cell_type": "markdown",
   "id": "6f0962fd-af9d-4058-8fba-fea819fb1ed9",
   "metadata": {},
   "source": [
    "1. Tensor nie ma prawidłowego typu danych\n",
    "2. Tensor nie ma prawidłowego shapa\n",
    "3. Tensor nie jest uruchamiane na odpowiednim urządzeniu (CPU, GPU)"
   ]
  },
  {
   "cell_type": "markdown",
   "id": "25134188-3951-4de4-ab77-1711aa3020fb",
   "metadata": {
    "jp-MarkdownHeadingCollapsed": true
   },
   "source": [
    "## 7. Casting tensor "
   ]
  },
  {
   "cell_type": "code",
   "execution_count": 27,
   "id": "c7fd5e84-54c5-4417-a813-cb84ce9cc58b",
   "metadata": {},
   "outputs": [
    {
     "data": {
      "text/plain": [
       "tensor([3., 5., 7.], dtype=torch.float16)"
      ]
     },
     "execution_count": 27,
     "metadata": {},
     "output_type": "execute_result"
    }
   ],
   "source": [
    "cast_tF16 = tFlot64.type(torch.float16)\n",
    "cast_tF16"
   ]
  },
  {
   "cell_type": "markdown",
   "id": "d3cfaf28-5bbc-4315-a1ed-b96d328360cb",
   "metadata": {
    "jp-MarkdownHeadingCollapsed": true
   },
   "source": [
    "## 8. Atrybuty tensora"
   ]
  },
  {
   "cell_type": "code",
   "execution_count": 28,
   "id": "88dd8152-705b-47ba-8989-de249f01760b",
   "metadata": {},
   "outputs": [
    {
     "data": {
      "text/plain": [
       "(tensor([[0.3917, 0.5925, 0.8938, 0.2393],\n",
       "         [0.0110, 0.3436, 0.9453, 0.4929],\n",
       "         [0.8596, 0.0504, 0.6031, 0.9337]]),\n",
       " 2,\n",
       " torch.Size([3, 4]),\n",
       " torch.Size([3, 4]),\n",
       " device(type='cpu'),\n",
       " torch.float32)"
      ]
     },
     "execution_count": 28,
     "metadata": {},
     "output_type": "execute_result"
    }
   ],
   "source": [
    "random_tensor = torch.rand(3, 4)\n",
    "random_tensor, random_tensor.ndim, random_tensor.shape, random_tensor.size(), random_tensor.device, random_tensor.dtype"
   ]
  },
  {
   "cell_type": "markdown",
   "id": "fc2a9669-380b-4729-8e33-db857a39adff",
   "metadata": {
    "jp-MarkdownHeadingCollapsed": true
   },
   "source": [
    "## 9. Operacje na tensorach"
   ]
  },
  {
   "cell_type": "markdown",
   "id": "4a8bb529-64c2-482e-a762-b26d4c5062e5",
   "metadata": {},
   "source": [
    "### Operacje wbudowane:\n",
    "* Addtion\n",
    "* Subtraction\n",
    "* Multiplication (element-wise)\n",
    "* Division\n",
    "* Matrix multiplication"
   ]
  },
  {
   "cell_type": "code",
   "execution_count": 29,
   "id": "67a63c7a-a4d5-4cb8-ba0b-bfa649665220",
   "metadata": {},
   "outputs": [],
   "source": [
    "tensor = torch.tensor([1, 2, 3])"
   ]
  },
  {
   "cell_type": "markdown",
   "id": "d85b287c-c94b-461c-aec6-328155626463",
   "metadata": {},
   "source": [
    "#### Operacje zwykłym operatorem"
   ]
  },
  {
   "cell_type": "code",
   "execution_count": 30,
   "id": "5ca4e474-3de9-4726-ba9f-2a8085f25e1b",
   "metadata": {},
   "outputs": [
    {
     "data": {
      "text/plain": [
       "tensor([11, 12, 13])"
      ]
     },
     "execution_count": 30,
     "metadata": {},
     "output_type": "execute_result"
    }
   ],
   "source": [
    "tensor + 10"
   ]
  },
  {
   "cell_type": "code",
   "execution_count": 31,
   "id": "683981d6-23b6-46c4-8334-6f387b24096f",
   "metadata": {},
   "outputs": [
    {
     "data": {
      "text/plain": [
       "tensor([10, 20, 30])"
      ]
     },
     "execution_count": 31,
     "metadata": {},
     "output_type": "execute_result"
    }
   ],
   "source": [
    "tensor * 10"
   ]
  },
  {
   "cell_type": "code",
   "execution_count": 32,
   "id": "cac650dc-97be-4aa8-a1fd-152fc605c6ce",
   "metadata": {},
   "outputs": [
    {
     "data": {
      "text/plain": [
       "tensor([0.5000, 1.0000, 1.5000])"
      ]
     },
     "execution_count": 32,
     "metadata": {},
     "output_type": "execute_result"
    }
   ],
   "source": [
    "tensor / 2"
   ]
  },
  {
   "cell_type": "code",
   "execution_count": 33,
   "id": "8aa99b5b-d2ee-4e48-a845-91f357d054fa",
   "metadata": {},
   "outputs": [
    {
     "data": {
      "text/plain": [
       "tensor([-10,  -9,  -8])"
      ]
     },
     "execution_count": 33,
     "metadata": {},
     "output_type": "execute_result"
    }
   ],
   "source": [
    "tensor - 11"
   ]
  },
  {
   "cell_type": "markdown",
   "id": "918ed764-a8a4-4598-a7a9-73152f2fcaab",
   "metadata": {},
   "source": [
    "#### Operacje wbudowane PyTorch"
   ]
  },
  {
   "cell_type": "code",
   "execution_count": 34,
   "id": "91b4c728-91fc-4a2f-92de-c48006792097",
   "metadata": {},
   "outputs": [
    {
     "data": {
      "text/plain": [
       "tensor([10, 20, 30])"
      ]
     },
     "execution_count": 34,
     "metadata": {},
     "output_type": "execute_result"
    }
   ],
   "source": [
    "torch.mul(tensor, 10)"
   ]
  },
  {
   "cell_type": "code",
   "execution_count": 35,
   "id": "e72ecf62-675e-467a-98ff-9c5204809a0d",
   "metadata": {},
   "outputs": [
    {
     "data": {
      "text/plain": [
       "tensor([11, 12, 13])"
      ]
     },
     "execution_count": 35,
     "metadata": {},
     "output_type": "execute_result"
    }
   ],
   "source": [
    "torch.add(tensor, 10)"
   ]
  },
  {
   "cell_type": "code",
   "execution_count": 36,
   "id": "8a71480c-d5dc-452f-abcb-a14b740b3450",
   "metadata": {},
   "outputs": [
    {
     "data": {
      "text/plain": [
       "tensor([-29, -28, -27])"
      ]
     },
     "execution_count": 36,
     "metadata": {},
     "output_type": "execute_result"
    }
   ],
   "source": [
    "torch.sub(tensor, 30)"
   ]
  },
  {
   "cell_type": "code",
   "execution_count": 37,
   "id": "0ef3cf2b-10f0-4c74-8f0b-5a6563cff9f4",
   "metadata": {},
   "outputs": [
    {
     "data": {
      "text/plain": [
       "tensor([0.0455, 0.0909, 0.1364])"
      ]
     },
     "execution_count": 37,
     "metadata": {},
     "output_type": "execute_result"
    }
   ],
   "source": [
    "torch.div(tensor, 22)"
   ]
  },
  {
   "cell_type": "markdown",
   "id": "b889d839-93d7-4fa7-8c83-b31c60a31ffb",
   "metadata": {
    "jp-MarkdownHeadingCollapsed": true
   },
   "source": [
    "## 10. Matrix multiplication\n"
   ]
  },
  {
   "cell_type": "markdown",
   "id": "9f96a19a-2b2e-49e6-b9ca-0d55c66c0cd7",
   "metadata": {},
   "source": [
    "1. Element-wise miltiplication\n",
    "2. Matrix multiplication (dot product)\n",
    "* https://www.mathsisfun.com/algebra/matrix-multiplying.html\n",
    "* http://matrixmultiplication.xyz/"
   ]
  },
  {
   "cell_type": "code",
   "execution_count": 38,
   "id": "87c5f817-75c4-4d1a-a7f7-6a7e6de4e80c",
   "metadata": {},
   "outputs": [
    {
     "name": "stdout",
     "output_type": "stream",
     "text": [
      "tensor([1, 2, 3]) * tensor([1, 2, 3]) = tensor([1, 4, 9])\n"
     ]
    }
   ],
   "source": [
    "# Element-wise miltiplication\n",
    "print(tensor, \"*\", tensor, '=', tensor * tensor)"
   ]
  },
  {
   "cell_type": "code",
   "execution_count": 39,
   "id": "d0a00b7d-8733-46c0-88df-f07f1e207889",
   "metadata": {},
   "outputs": [
    {
     "name": "stdout",
     "output_type": "stream",
     "text": [
      "tensor([1, 2, 3]) * 10 = tensor([10, 20, 30])\n"
     ]
    }
   ],
   "source": [
    "print(tensor, \"* 10 =\", tensor * 10)"
   ]
  },
  {
   "cell_type": "code",
   "execution_count": 40,
   "id": "3b042413-e517-4ac9-a3b7-6827239849a2",
   "metadata": {},
   "outputs": [
    {
     "data": {
      "text/plain": [
       "tensor(14)"
      ]
     },
     "execution_count": 40,
     "metadata": {},
     "output_type": "execute_result"
    }
   ],
   "source": [
    "# Matrix multiplication\n",
    "torch.matmul(tensor, tensor)"
   ]
  },
  {
   "cell_type": "code",
   "execution_count": 41,
   "id": "5a24dc66-8392-46d1-b32e-d30106c8ecbe",
   "metadata": {},
   "outputs": [
    {
     "data": {
      "text/plain": [
       "tensor([1, 2, 3])"
      ]
     },
     "execution_count": 41,
     "metadata": {},
     "output_type": "execute_result"
    }
   ],
   "source": [
    "tensor "
   ]
  },
  {
   "cell_type": "code",
   "execution_count": 42,
   "id": "d56162af-b588-4fa6-9288-443397a83349",
   "metadata": {},
   "outputs": [
    {
     "data": {
      "text/plain": [
       "14"
      ]
     },
     "execution_count": 42,
     "metadata": {},
     "output_type": "execute_result"
    }
   ],
   "source": [
    "# Obliczenie ręczne\n",
    "1*1 + 2*2 + 3*3"
   ]
  },
  {
   "cell_type": "code",
   "execution_count": 43,
   "id": "613bc042-ff38-4fa5-8747-7bdd69e19bac",
   "metadata": {},
   "outputs": [
    {
     "data": {
      "text/plain": [
       "tensor([0.0000, 0.3000, 0.6001, 0.9001, 1.2001, 1.5002, 1.8002, 2.1002, 2.4002,\n",
       "        2.7003, 3.0003, 3.3003, 3.6004, 3.9004, 4.2004, 4.5005, 4.8005, 5.1005])"
      ]
     },
     "execution_count": 43,
     "metadata": {},
     "output_type": "execute_result"
    }
   ],
   "source": [
    "tensor = torch.arange(0, 10000)\n",
    "tensor = tensor / 3.333\n",
    "tensor[:18]"
   ]
  },
  {
   "cell_type": "code",
   "execution_count": 44,
   "id": "c315d7aa-58dd-4905-935a-5cc28c7f5fd7",
   "metadata": {},
   "outputs": [
    {
     "name": "stdout",
     "output_type": "stream",
     "text": [
      "CPU times: total: 93.8 ms\n",
      "Wall time: 113 ms\n"
     ]
    },
    {
     "data": {
      "text/plain": [
       "tensor(3.0001e+10)"
      ]
     },
     "execution_count": 44,
     "metadata": {},
     "output_type": "execute_result"
    }
   ],
   "source": [
    "%%time\n",
    "value = 0 \n",
    "for i in range(len(tensor)):\n",
    "   value += tensor[i] * tensor[i]\n",
    "value"
   ]
  },
  {
   "cell_type": "code",
   "execution_count": 45,
   "id": "5219374f-8567-4c86-a715-0d38f6e41ae7",
   "metadata": {},
   "outputs": [
    {
     "name": "stdout",
     "output_type": "stream",
     "text": [
      "CPU times: total: 0 ns\n",
      "Wall time: 1.03 ms\n"
     ]
    },
    {
     "data": {
      "text/plain": [
       "tensor(3.0002e+10)"
      ]
     },
     "execution_count": 45,
     "metadata": {},
     "output_type": "execute_result"
    }
   ],
   "source": [
    "%%time\n",
    "value = 0 \n",
    "torch.matmul(tensor, tensor)"
   ]
  },
  {
   "cell_type": "markdown",
   "id": "4c489c67-b33a-4c74-a58b-033aed841aa6",
   "metadata": {
    "jp-MarkdownHeadingCollapsed": true
   },
   "source": [
    "## 11. Dwie podstawowe zasady przy 'Matrix mulltiplication' które muszą być zachowane"
   ]
  },
  {
   "cell_type": "markdown",
   "id": "9e20f0d9-9987-4ff6-b310-db389458a0c4",
   "metadata": {},
   "source": [
    "1. Wewnętrzne rozmiary maciezy muszą być takie same:\n",
    "* (3, 2) @ (3, 2) -> nie zadziała (tensor @ tensor to tosamo co torch.matmul(tensor, tensor))\n",
    "* (3, 2) @ (2, 3) -> zadziała\n",
    "* (2, 3) @ (3, 2) -> zadziała"
   ]
  },
  {
   "cell_type": "markdown",
   "id": "1fa8b1be-95ea-4346-ba3c-c4583ac23963",
   "metadata": {},
   "source": [
    "2. W wyniku 'Matrix mulltiplication' macierz ma wymiary takie same jak zewnętrzne wymiary macierzy do mnożenia\n",
    "* (3, 2) @ (2, 3) -> (3, 3)\n",
    "* (2, 3) @ (3, 2) -> (2, 2)"
   ]
  },
  {
   "cell_type": "code",
   "execution_count": 46,
   "id": "a952651f-9e82-47c5-9558-276e702dc190",
   "metadata": {},
   "outputs": [],
   "source": [
    "# torch.matmul(torch.rand(3, 2), torch.rand(3, 2)) # tu będzie błąd"
   ]
  },
  {
   "cell_type": "code",
   "execution_count": 47,
   "id": "f332d93c-2fdc-4870-8552-5757b1facf79",
   "metadata": {},
   "outputs": [
    {
     "data": {
      "text/plain": [
       "(tensor([[0.5550, 0.9618, 0.5134],\n",
       "         [0.2143, 0.3248, 0.1980],\n",
       "         [0.2946, 0.7667, 0.2738]]),\n",
       " torch.Size([3, 3]))"
      ]
     },
     "execution_count": 47,
     "metadata": {},
     "output_type": "execute_result"
    }
   ],
   "source": [
    "out = torch.matmul(torch.rand(3, 2), torch.rand(2, 3))\n",
    "out, out.shape"
   ]
  },
  {
   "cell_type": "code",
   "execution_count": 48,
   "id": "de576a55-6475-4469-8df9-b84ad13cbcca",
   "metadata": {},
   "outputs": [
    {
     "data": {
      "text/plain": [
       "(tensor([[0.7270, 0.1362],\n",
       "         [0.5087, 0.0748]]),\n",
       " torch.Size([2, 2]))"
      ]
     },
     "execution_count": 48,
     "metadata": {},
     "output_type": "execute_result"
    }
   ],
   "source": [
    "out = torch.matmul(torch.rand(2, 3), torch.rand(3, 2))\n",
    "out, out.shape"
   ]
  },
  {
   "cell_type": "code",
   "execution_count": 49,
   "id": "9ddac627-adf0-4d7e-b2d4-5273f2785d15",
   "metadata": {},
   "outputs": [
    {
     "data": {
      "text/plain": [
       "(tensor([[0.8658, 0.7063, 1.2076],\n",
       "         [0.7237, 0.5494, 0.9537],\n",
       "         [0.7285, 0.4119, 0.7680]]),\n",
       " tensor([[0.8658, 0.7063, 1.2076],\n",
       "         [0.7237, 0.5494, 0.9537],\n",
       "         [0.7285, 0.4119, 0.7680]]),\n",
       " tensor([[0.8658, 0.7063, 1.2076],\n",
       "         [0.7237, 0.5494, 0.9537],\n",
       "         [0.7285, 0.4119, 0.7680]]))"
      ]
     },
     "execution_count": 49,
     "metadata": {},
     "output_type": "execute_result"
    }
   ],
   "source": [
    "# te same operacjem, różne zapisy\n",
    "t1 = torch.rand(3, 2) \n",
    "t2 = torch.rand(2, 3)\n",
    "\n",
    "t1 @ t2, torch.matmul(t1, t2), torch.mm(t1, t2)"
   ]
  },
  {
   "cell_type": "code",
   "execution_count": 50,
   "id": "3191671e-88f7-4968-9fb6-ed538ec875f2",
   "metadata": {},
   "outputs": [
    {
     "data": {
      "text/plain": [
       "(tensor([[0.3509, 0.0174],\n",
       "         [0.6352, 0.9887],\n",
       "         [0.7464, 0.4077]]),\n",
       " tensor([[0.9247, 0.0657],\n",
       "         [0.7761, 0.4095],\n",
       "         [0.8878, 0.6146]]),\n",
       " torch.Size([3, 2]),\n",
       " torch.Size([3, 2]))"
      ]
     },
     "execution_count": 50,
     "metadata": {},
     "output_type": "execute_result"
    }
   ],
   "source": [
    "t1 = torch.rand(3, 2) \n",
    "t2 = torch.rand(3, 2)\n",
    "t1, t2, t1.shape, t2.shape"
   ]
  },
  {
   "cell_type": "markdown",
   "id": "6ecfbc6a-319f-44ce-9771-76ea038be88c",
   "metadata": {
    "jp-MarkdownHeadingCollapsed": true
   },
   "source": [
    "## 12. Przewrócenie macierzy (transpose)"
   ]
  },
  {
   "cell_type": "code",
   "execution_count": 51,
   "id": "fc06e820-2e05-49cc-854f-2662d36fc120",
   "metadata": {},
   "outputs": [],
   "source": [
    "# torch.matmul(t1, t2) # bedzie błąd bo są złe shapy, ale można użyć funkcji transpose żeby odwrócić jedną z macierzy"
   ]
  },
  {
   "cell_type": "code",
   "execution_count": 52,
   "id": "fd8deb5d-bd9c-4f23-9311-0be03f449dbf",
   "metadata": {},
   "outputs": [
    {
     "data": {
      "text/plain": [
       "(tensor([[0.9247, 0.0657],\n",
       "         [0.7761, 0.4095],\n",
       "         [0.8878, 0.6146]]),\n",
       " torch.Size([3, 2]),\n",
       " tensor([[0.9247, 0.7761, 0.8878],\n",
       "         [0.0657, 0.4095, 0.6146]]),\n",
       " torch.Size([2, 3]))"
      ]
     },
     "execution_count": 52,
     "metadata": {},
     "output_type": "execute_result"
    }
   ],
   "source": [
    "t2, t2.shape, t2.T, t2.T.shape"
   ]
  },
  {
   "cell_type": "code",
   "execution_count": 53,
   "id": "6d2609fb-a729-4fb5-b7fa-ad0fff484450",
   "metadata": {},
   "outputs": [
    {
     "data": {
      "text/plain": [
       "tensor([[0.3257, 0.2795, 0.3223],\n",
       "        [0.6523, 0.8977, 1.1715],\n",
       "        [0.7170, 0.7462, 0.9132]])"
      ]
     },
     "execution_count": 53,
     "metadata": {},
     "output_type": "execute_result"
    }
   ],
   "source": [
    "torch.matmul(t1, t2.T) # i teraz jest dobrze"
   ]
  },
  {
   "cell_type": "markdown",
   "id": "3d5627c1-043c-4d17-a54a-a38957b0693a",
   "metadata": {
    "jp-MarkdownHeadingCollapsed": true
   },
   "source": [
    "## 13. Wyszukiwanie min, max, obliczanie mean, sum, itd (tensor aggregation)"
   ]
  },
  {
   "cell_type": "code",
   "execution_count": 54,
   "id": "373e5a80-91e7-4010-805a-9ced6eb8389e",
   "metadata": {},
   "outputs": [
    {
     "data": {
      "text/plain": [
       "tensor([75, 48, 61, 76, 16, 71, 41, 99, 41, 71])"
      ]
     },
     "execution_count": 54,
     "metadata": {},
     "output_type": "execute_result"
    }
   ],
   "source": [
    "X = torch.randint(100, size=(10,))\n",
    "X"
   ]
  },
  {
   "cell_type": "code",
   "execution_count": 55,
   "id": "7414a2c7-4c8c-4020-bd05-5fc6095904e2",
   "metadata": {},
   "outputs": [
    {
     "data": {
      "text/plain": [
       "(tensor(16), tensor(16))"
      ]
     },
     "execution_count": 55,
     "metadata": {},
     "output_type": "execute_result"
    }
   ],
   "source": [
    "torch.min(X), X.min() # aliasy min"
   ]
  },
  {
   "cell_type": "code",
   "execution_count": 56,
   "id": "d7688c91-1ae3-4221-95d0-f06593811ea2",
   "metadata": {},
   "outputs": [
    {
     "data": {
      "text/plain": [
       "(tensor(99), tensor(99))"
      ]
     },
     "execution_count": 56,
     "metadata": {},
     "output_type": "execute_result"
    }
   ],
   "source": [
    "torch.max(X), X.max()"
   ]
  },
  {
   "cell_type": "code",
   "execution_count": 57,
   "id": "eda2ae0b-3ea6-43ee-b203-cdf7b78b67ad",
   "metadata": {},
   "outputs": [
    {
     "data": {
      "text/plain": [
       "tensor(59.9000)"
      ]
     },
     "execution_count": 57,
     "metadata": {},
     "output_type": "execute_result"
    }
   ],
   "source": [
    "torch.mean(X.type(torch.float32)) # trzeba zamienić na float bo na int64 mean nie działa i bedzie error"
   ]
  },
  {
   "cell_type": "code",
   "execution_count": 58,
   "id": "4c993964-0321-49a0-aa79-14bc981f4d00",
   "metadata": {},
   "outputs": [
    {
     "data": {
      "text/plain": [
       "tensor(59.9000)"
      ]
     },
     "execution_count": 58,
     "metadata": {},
     "output_type": "execute_result"
    }
   ],
   "source": [
    "X.type(torch.float32).mean() # alias tego co wyżej"
   ]
  },
  {
   "cell_type": "code",
   "execution_count": 59,
   "id": "364e8715-9679-4305-a9d0-ef7a777aadfc",
   "metadata": {},
   "outputs": [
    {
     "data": {
      "text/plain": [
       "(tensor(599), tensor(599))"
      ]
     },
     "execution_count": 59,
     "metadata": {},
     "output_type": "execute_result"
    }
   ],
   "source": [
    "torch.sum(X), X.sum()"
   ]
  },
  {
   "cell_type": "markdown",
   "id": "ba679995-50e8-4dfa-8484-a1c26b85e2ea",
   "metadata": {
    "jp-MarkdownHeadingCollapsed": true
   },
   "source": [
    "## 14. Wyszukiwanie indeksu nim, max"
   ]
  },
  {
   "cell_type": "code",
   "execution_count": 60,
   "id": "19531b0d-b483-4118-9daf-c153ddb934ed",
   "metadata": {},
   "outputs": [
    {
     "data": {
      "text/plain": [
       "tensor([75, 48, 61, 76, 16, 71, 41, 99, 41, 71])"
      ]
     },
     "execution_count": 60,
     "metadata": {},
     "output_type": "execute_result"
    }
   ],
   "source": [
    "X"
   ]
  },
  {
   "cell_type": "code",
   "execution_count": 61,
   "id": "c666db9a-c650-436a-89ac-62f2f7e8aad3",
   "metadata": {},
   "outputs": [
    {
     "data": {
      "text/plain": [
       "(tensor(4), 16)"
      ]
     },
     "execution_count": 61,
     "metadata": {},
     "output_type": "execute_result"
    }
   ],
   "source": [
    "X.argmin(), X[X.argmin()].item()"
   ]
  },
  {
   "cell_type": "code",
   "execution_count": 62,
   "id": "606fe951-a86c-46fa-b07b-3e73fc07f005",
   "metadata": {},
   "outputs": [
    {
     "data": {
      "text/plain": [
       "(tensor(7), 99)"
      ]
     },
     "execution_count": 62,
     "metadata": {},
     "output_type": "execute_result"
    }
   ],
   "source": [
    "X.argmax(), X[X.argmax()].item()"
   ]
  },
  {
   "cell_type": "markdown",
   "id": "88fb666f-76ae-434f-ac35-890c6fb136c9",
   "metadata": {
    "jp-MarkdownHeadingCollapsed": true
   },
   "source": [
    "## 15. Reshaping and view"
   ]
  },
  {
   "cell_type": "markdown",
   "id": "2d89a4aa-02c8-4e81-9bc6-048adc2793b4",
   "metadata": {},
   "source": [
    "#### Reshaping"
   ]
  },
  {
   "cell_type": "code",
   "execution_count": 63,
   "id": "e3ff8fa1-eb59-40b9-94b3-8dc210d4fcb1",
   "metadata": {},
   "outputs": [
    {
     "data": {
      "text/plain": [
       "(tensor([1., 2., 3., 4., 5., 6., 7., 8., 9.]), torch.Size([9]))"
      ]
     },
     "execution_count": 63,
     "metadata": {},
     "output_type": "execute_result"
    }
   ],
   "source": [
    "X = torch.arange(1., 10.)\n",
    "X, X.shape"
   ]
  },
  {
   "cell_type": "code",
   "execution_count": 64,
   "id": "51eee713-5835-4ddf-b8ce-5b7eb8ac305e",
   "metadata": {},
   "outputs": [
    {
     "data": {
      "text/plain": [
       "(tensor([[1., 2., 3.],\n",
       "         [4., 5., 6.],\n",
       "         [7., 8., 9.]]),\n",
       " torch.Size([3, 3]))"
      ]
     },
     "execution_count": 64,
     "metadata": {},
     "output_type": "execute_result"
    }
   ],
   "source": [
    "# reshape to zmiana kształu tensora ale ilość danych musi się zgadzać\n",
    "X_reshape = X.reshape(3, 3)\n",
    "X_reshape, X_reshape.shape"
   ]
  },
  {
   "cell_type": "code",
   "execution_count": 65,
   "id": "c9ccfa66-3c5b-4025-81cd-a606e65622df",
   "metadata": {},
   "outputs": [
    {
     "data": {
      "text/plain": [
       "(tensor([[1.],\n",
       "         [2.],\n",
       "         [3.],\n",
       "         [4.],\n",
       "         [5.],\n",
       "         [6.],\n",
       "         [7.],\n",
       "         [8.],\n",
       "         [9.]]),\n",
       " torch.Size([9, 1]))"
      ]
     },
     "execution_count": 65,
     "metadata": {},
     "output_type": "execute_result"
    }
   ],
   "source": [
    "X_reshape = X.reshape(9, 1)\n",
    "X_reshape, X_reshape.shape"
   ]
  },
  {
   "cell_type": "code",
   "execution_count": 66,
   "id": "6e2708ed-1a0f-4b3d-886b-f3f1f3de6d93",
   "metadata": {},
   "outputs": [
    {
     "data": {
      "text/plain": [
       "(tensor([[1., 2., 3., 4., 5., 6., 7., 8., 9.]]), torch.Size([1, 9]))"
      ]
     },
     "execution_count": 66,
     "metadata": {},
     "output_type": "execute_result"
    }
   ],
   "source": [
    "X_reshape = X.reshape(1, 9)\n",
    "X_reshape, X_reshape.shape"
   ]
  },
  {
   "cell_type": "markdown",
   "id": "49b66061-d02a-4189-82a8-e86411d82c7d",
   "metadata": {},
   "source": [
    "#### View"
   ]
  },
  {
   "cell_type": "code",
   "execution_count": 67,
   "id": "ce314157-aaec-4a40-aa67-4d72484d9c45",
   "metadata": {},
   "outputs": [
    {
     "data": {
      "text/plain": [
       "(tensor([1., 2., 3., 4., 5., 6., 7., 8., 9.]), torch.Size([9]))"
      ]
     },
     "execution_count": 67,
     "metadata": {},
     "output_type": "execute_result"
    }
   ],
   "source": [
    "# view - funkcjonuje tak samo jak reshape, ale działa na tej samej pamięci, \n",
    "# więc jak się stworzy alias i się go zmieni to zmieni się też oryginał, nie chodzi o kształt tylko o dane\n",
    "X, X.shape"
   ]
  },
  {
   "cell_type": "code",
   "execution_count": 68,
   "id": "1272671b-c29f-446d-90c6-97fe77bb0939",
   "metadata": {},
   "outputs": [
    {
     "data": {
      "text/plain": [
       "(torch.Size([9]), torch.Size([3, 3]))"
      ]
     },
     "execution_count": 68,
     "metadata": {},
     "output_type": "execute_result"
    }
   ],
   "source": [
    "Z = X.view(3, 3)\n",
    "X.shape, Z.shape"
   ]
  },
  {
   "cell_type": "code",
   "execution_count": 69,
   "id": "f1810515-9421-473c-8525-a75965962dad",
   "metadata": {},
   "outputs": [
    {
     "data": {
      "text/plain": [
       "(tensor([1., 2., 3., 4., 5., 6., 7., 8., 9.]),\n",
       " tensor([[1., 2., 3.],\n",
       "         [4., 5., 6.],\n",
       "         [7., 8., 9.]]))"
      ]
     },
     "execution_count": 69,
     "metadata": {},
     "output_type": "execute_result"
    }
   ],
   "source": [
    "X, Z"
   ]
  },
  {
   "cell_type": "code",
   "execution_count": 70,
   "id": "0b3b93c3-9726-4473-a0f9-210f56937177",
   "metadata": {},
   "outputs": [
    {
     "data": {
      "text/plain": [
       "(tensor([[ 1.,  2.,  3.],\n",
       "         [ 4., 11.,  6.],\n",
       "         [ 7.,  8.,  9.]]),\n",
       " tensor([ 1.,  2.,  3.,  4., 11.,  6.,  7.,  8.,  9.]))"
      ]
     },
     "execution_count": 70,
     "metadata": {},
     "output_type": "execute_result"
    }
   ],
   "source": [
    "Z[1,1] = 11\n",
    "Z, X"
   ]
  },
  {
   "cell_type": "markdown",
   "id": "ab4cbaf4-bd19-415b-8865-3390ffa71aac",
   "metadata": {
    "jp-MarkdownHeadingCollapsed": true
   },
   "source": [
    "## 16. Stacking"
   ]
  },
  {
   "cell_type": "code",
   "execution_count": 71,
   "id": "4a4b1fce-61b5-4aec-8e36-00c2333fedb4",
   "metadata": {},
   "outputs": [
    {
     "data": {
      "text/plain": [
       "tensor([ 1.,  2.,  3.,  4., 11.,  6.,  7.,  8.,  9.])"
      ]
     },
     "execution_count": 71,
     "metadata": {},
     "output_type": "execute_result"
    }
   ],
   "source": [
    "# Staking to łączenie tensorów\n",
    "X"
   ]
  },
  {
   "cell_type": "code",
   "execution_count": 72,
   "id": "5ca6fa12-c40e-4ef1-81fa-6808ebb9ded1",
   "metadata": {},
   "outputs": [
    {
     "data": {
      "text/plain": [
       "(tensor([[ 1.,  2.,  3.,  4., 11.,  6.,  7.,  8.,  9.],\n",
       "         [ 1.,  2.,  3.,  4., 11.,  6.,  7.,  8.,  9.],\n",
       "         [ 1.,  2.,  3.,  4., 11.,  6.,  7.,  8.,  9.],\n",
       "         [ 1.,  2.,  3.,  4., 11.,  6.,  7.,  8.,  9.]]),\n",
       " torch.Size([4, 9]))"
      ]
     },
     "execution_count": 72,
     "metadata": {},
     "output_type": "execute_result"
    }
   ],
   "source": [
    "X_stack = torch.stack([X, X, X, X], dim=0)\n",
    "X_stack, X_stack.shape"
   ]
  },
  {
   "cell_type": "code",
   "execution_count": 73,
   "id": "29446ca3-64c9-4f54-b751-ed4d592457bb",
   "metadata": {},
   "outputs": [
    {
     "data": {
      "text/plain": [
       "(tensor([[ 1.,  1.,  1.,  1.],\n",
       "         [ 2.,  2.,  2.,  2.],\n",
       "         [ 3.,  3.,  3.,  3.],\n",
       "         [ 4.,  4.,  4.,  4.],\n",
       "         [11., 11., 11., 11.],\n",
       "         [ 6.,  6.,  6.,  6.],\n",
       "         [ 7.,  7.,  7.,  7.],\n",
       "         [ 8.,  8.,  8.,  8.],\n",
       "         [ 9.,  9.,  9.,  9.]]),\n",
       " torch.Size([9, 4]))"
      ]
     },
     "execution_count": 73,
     "metadata": {},
     "output_type": "execute_result"
    }
   ],
   "source": [
    "X_stack = torch.stack([X, X, X, X], dim=1)\n",
    "X_stack, X_stack.shape"
   ]
  },
  {
   "cell_type": "code",
   "execution_count": 78,
   "id": "f3e360e0-548a-471b-a039-e8696889d4a6",
   "metadata": {},
   "outputs": [
    {
     "data": {
      "text/plain": [
       "(tensor([[ 1.,  2.,  3.,  4., 11.,  6.,  7.,  8.,  9.],\n",
       "         [ 1.,  2.,  3.,  4., 11.,  6.,  7.,  8.,  9.],\n",
       "         [ 1.,  2.,  3.,  4., 11.,  6.,  7.,  8.,  9.],\n",
       "         [ 1.,  2.,  3.,  4., 11.,  6.,  7.,  8.,  9.]]),\n",
       " torch.Size([4, 9]))"
      ]
     },
     "execution_count": 78,
     "metadata": {},
     "output_type": "execute_result"
    }
   ],
   "source": [
    "X_stack = torch.vstack([X, X, X, X])\n",
    "X_stack, X_stack.shape"
   ]
  },
  {
   "cell_type": "code",
   "execution_count": 76,
   "id": "ad393d3d-291f-43b1-91b7-b2bb7a0b1dc5",
   "metadata": {},
   "outputs": [
    {
     "data": {
      "text/plain": [
       "(tensor([ 1.,  2.,  3.,  4., 11.,  6.,  7.,  8.,  9.,  1.,  2.,  3.,  4., 11.,\n",
       "          6.,  7.,  8.,  9.,  1.,  2.,  3.,  4., 11.,  6.,  7.,  8.,  9.,  1.,\n",
       "          2.,  3.,  4., 11.,  6.,  7.,  8.,  9.]),\n",
       " torch.Size([36]))"
      ]
     },
     "execution_count": 76,
     "metadata": {},
     "output_type": "execute_result"
    }
   ],
   "source": [
    "X_stack = torch.hstack([X, X, X, X])\n",
    "X_stack, X_stack.shape"
   ]
  },
  {
   "cell_type": "markdown",
   "id": "badbb8d1-5880-49ca-b772-fb0184bfe3ef",
   "metadata": {
    "jp-MarkdownHeadingCollapsed": true
   },
   "source": [
    "## 17. Squeezing - usunięcie wymiarów '1' z tensora"
   ]
  },
  {
   "cell_type": "code",
   "execution_count": 84,
   "id": "0e165200-d1df-426a-ad05-659233119d9a",
   "metadata": {},
   "outputs": [
    {
     "data": {
      "text/plain": [
       "(tensor([[[0.4298],\n",
       "          [0.3323],\n",
       "          [0.1520]],\n",
       " \n",
       "         [[0.6141],\n",
       "          [0.6322],\n",
       "          [0.4304]],\n",
       " \n",
       "         [[0.0722],\n",
       "          [0.5419],\n",
       "          [0.2185]]]),\n",
       " torch.Size([3, 3, 1]))"
      ]
     },
     "execution_count": 84,
     "metadata": {},
     "output_type": "execute_result"
    }
   ],
   "source": [
    "X = torch.rand(size=(3, 3, 1))\n",
    "X, X.shape"
   ]
  },
  {
   "cell_type": "code",
   "execution_count": 89,
   "id": "14619292-d95b-4a90-b7c5-25b340000095",
   "metadata": {},
   "outputs": [
    {
     "data": {
      "text/plain": [
       "(tensor([[0.4298, 0.3323, 0.1520],\n",
       "         [0.6141, 0.6322, 0.4304],\n",
       "         [0.0722, 0.5419, 0.2185]]),\n",
       " torch.Size([3, 3]))"
      ]
     },
     "execution_count": 89,
     "metadata": {},
     "output_type": "execute_result"
    }
   ],
   "source": [
    "X_squeez = X.squeeze()\n",
    "X_squeez, X_squeez.shape"
   ]
  },
  {
   "cell_type": "markdown",
   "id": "832e9886-d61a-48e2-9087-fdecb07bbdf5",
   "metadata": {
    "jp-MarkdownHeadingCollapsed": true
   },
   "source": [
    "## 18. Unsqueezing - dodanie wymiaru '1' do tensora"
   ]
  },
  {
   "cell_type": "code",
   "execution_count": 90,
   "id": "d3c55575-558a-4bd2-a659-8aaaab58bd28",
   "metadata": {},
   "outputs": [
    {
     "data": {
      "text/plain": [
       "(tensor([[0.1561, 0.1199, 0.2693],\n",
       "         [0.2660, 0.9070, 0.4029],\n",
       "         [0.4045, 0.8595, 0.0896]]),\n",
       " torch.Size([3, 3]))"
      ]
     },
     "execution_count": 90,
     "metadata": {},
     "output_type": "execute_result"
    }
   ],
   "source": [
    "X = torch.rand(size=(3, 3))\n",
    "X, X.shape"
   ]
  },
  {
   "cell_type": "code",
   "execution_count": 94,
   "id": "d94b3d7c-0928-460d-8599-8f58a31152ff",
   "metadata": {},
   "outputs": [
    {
     "data": {
      "text/plain": [
       "(tensor([[[0.1561, 0.1199, 0.2693],\n",
       "          [0.2660, 0.9070, 0.4029],\n",
       "          [0.4045, 0.8595, 0.0896]]]),\n",
       " torch.Size([1, 3, 3]))"
      ]
     },
     "execution_count": 94,
     "metadata": {},
     "output_type": "execute_result"
    }
   ],
   "source": [
    "X_unsqueez = X.unsqueeze(dim=0)\n",
    "X_unsqueez, X_unsqueez.shape"
   ]
  },
  {
   "cell_type": "code",
   "execution_count": 95,
   "id": "dbb7a13b-3a37-42b5-9e76-beeb882a90d1",
   "metadata": {},
   "outputs": [
    {
     "data": {
      "text/plain": [
       "(tensor([[[0.1561, 0.1199, 0.2693]],\n",
       " \n",
       "         [[0.2660, 0.9070, 0.4029]],\n",
       " \n",
       "         [[0.4045, 0.8595, 0.0896]]]),\n",
       " torch.Size([3, 1, 3]))"
      ]
     },
     "execution_count": 95,
     "metadata": {},
     "output_type": "execute_result"
    }
   ],
   "source": [
    "X_unsqueez = X.unsqueeze(dim=1)\n",
    "X_unsqueez, X_unsqueez.shape"
   ]
  },
  {
   "cell_type": "code",
   "execution_count": 96,
   "id": "476897c4-5444-4670-a422-950d1a75058d",
   "metadata": {},
   "outputs": [
    {
     "data": {
      "text/plain": [
       "(tensor([[[0.1561],\n",
       "          [0.1199],\n",
       "          [0.2693]],\n",
       " \n",
       "         [[0.2660],\n",
       "          [0.9070],\n",
       "          [0.4029]],\n",
       " \n",
       "         [[0.4045],\n",
       "          [0.8595],\n",
       "          [0.0896]]]),\n",
       " torch.Size([3, 3, 1]))"
      ]
     },
     "execution_count": 96,
     "metadata": {},
     "output_type": "execute_result"
    }
   ],
   "source": [
    "X_unsqueez = X.unsqueeze(dim=2)\n",
    "X_unsqueez, X_unsqueez.shape"
   ]
  },
  {
   "cell_type": "markdown",
   "id": "844d4c8d-8b04-41ae-a6d5-ac7c5cb57869",
   "metadata": {},
   "source": [
    "## 19. Permute -> przestawienie kolejności wymiarów"
   ]
  },
  {
   "cell_type": "code",
   "execution_count": 97,
   "id": "cb985741-b74e-4c92-83f0-b7941b8d8b5f",
   "metadata": {},
   "outputs": [
    {
     "data": {
      "text/plain": [
       "(tensor([[[0.8853, 0.2766],\n",
       "          [0.3104, 0.9482],\n",
       "          [0.0768, 0.3869],\n",
       "          [0.3726, 0.6577]],\n",
       " \n",
       "         [[0.1369, 0.5481],\n",
       "          [0.3142, 0.2076],\n",
       "          [0.2274, 0.4754],\n",
       "          [0.6384, 0.3134]],\n",
       " \n",
       "         [[0.6824, 0.3416],\n",
       "          [0.6960, 0.8638],\n",
       "          [0.2258, 0.9717],\n",
       "          [0.1855, 0.2586]]]),\n",
       " torch.Size([3, 4, 2]))"
      ]
     },
     "execution_count": 97,
     "metadata": {},
     "output_type": "execute_result"
    }
   ],
   "source": [
    "X = torch.rand(size=(3, 4, 2))\n",
    "X, X.shape"
   ]
  },
  {
   "cell_type": "code",
   "execution_count": 99,
   "id": "7ea98cde-e00b-4123-80a4-32e9561faf38",
   "metadata": {},
   "outputs": [
    {
     "data": {
      "text/plain": [
       "(tensor([[[0.8853, 0.3104, 0.0768, 0.3726],\n",
       "          [0.1369, 0.3142, 0.2274, 0.6384],\n",
       "          [0.6824, 0.6960, 0.2258, 0.1855]],\n",
       " \n",
       "         [[0.2766, 0.9482, 0.3869, 0.6577],\n",
       "          [0.5481, 0.2076, 0.4754, 0.3134],\n",
       "          [0.3416, 0.8638, 0.9717, 0.2586]]]),\n",
       " torch.Size([2, 3, 4]))"
      ]
     },
     "execution_count": 99,
     "metadata": {},
     "output_type": "execute_result"
    }
   ],
   "source": [
    "X_permute = X.permute(2, 0, 1) # w nawiasie są indexy wymiarów, czyli 0->3, 1->4, 2->2\n",
    "X_permute, X_permute.shape"
   ]
  },
  {
   "cell_type": "code",
   "execution_count": null,
   "id": "dc699c9a-7d99-4038-a7fb-abd7a7dc6790",
   "metadata": {},
   "outputs": [],
   "source": []
  }
 ],
 "metadata": {
  "kernelspec": {
   "display_name": "Torch Learn",
   "language": "python",
   "name": "python3"
  },
  "language_info": {
   "codemirror_mode": {
    "name": "ipython",
    "version": 3
   },
   "file_extension": ".py",
   "mimetype": "text/x-python",
   "name": "python",
   "nbconvert_exporter": "python",
   "pygments_lexer": "ipython3",
   "version": "3.12.1"
  },
  "widgets": {
   "application/vnd.jupyter.widget-state+json": {
    "state": {},
    "version_major": 2,
    "version_minor": 0
   }
  }
 },
 "nbformat": 4,
 "nbformat_minor": 5
}
