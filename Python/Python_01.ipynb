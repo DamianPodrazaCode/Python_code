{
 "cells": [
  {
   "cell_type": "markdown",
   "id": "724ea447-0571-4e14-aa61-d0a7504a9091",
   "metadata": {},
   "source": [
    "## 01. Komentarze, słowa kluczowe, nazewnictwo"
   ]
  },
  {
   "cell_type": "code",
   "execution_count": 1,
   "id": "4ba07627-7c39-48fe-9fc9-d3da0125481c",
   "metadata": {},
   "outputs": [],
   "source": [
    "# Komentarz jednoliniowy.\n",
    "\n",
    "'''\n",
    "komentarz\n",
    "wielo-\n",
    "liniowy\n",
    "'''\n",
    "\n",
    "''' 35 słów kluczowych w python:\n",
    "and   del   from   None   True   as   elif   global   nonlocal   try   assert   else   if   not   while   break   except   import\n",
    "or   with   class   False   in   pass   yield   continue   finally   is   raise   async   def   for   lambda   return   await\n",
    "'''\n",
    "\n",
    "# Camel Case\n",
    "myVariableName = \"John\"\n",
    "# Pascal Case\n",
    "MyVariableName = \"John\"\n",
    "# Snake Case\n",
    "my_variable_name = \"John\""
   ]
  },
  {
   "cell_type": "markdown",
   "id": "052cf12e-712e-4af4-8e3e-b2c7be30ff31",
   "metadata": {},
   "source": [
    "## 02. Zmienne"
   ]
  },
  {
   "cell_type": "code",
   "execution_count": 2,
   "id": "fcfc4a24-a1cc-49f9-af11-8f2229d6a17a",
   "metadata": {},
   "outputs": [
    {
     "data": {
      "text/plain": [
       "(123, 1.23, 'str', (1+2j), True)"
      ]
     },
     "execution_count": 2,
     "metadata": {},
     "output_type": "execute_result"
    }
   ],
   "source": [
    "# W python nie ma potrzeby deklarowania zmiennej parser wywnioskuje sobe sam jaki to typ.\n",
    "x = 123\n",
    "y = 1.23\n",
    "z = 'str'\n",
    "a = (1 + 2j) # liczba zespolona\n",
    "b = True\n",
    "x, y, z, a, b"
   ]
  },
  {
   "cell_type": "code",
   "execution_count": 3,
   "id": "9d8cce21-13dc-469a-8e2d-d239566e41f8",
   "metadata": {},
   "outputs": [
    {
     "data": {
      "text/plain": [
       "('text', 123, 1.23, (2+34j))"
      ]
     },
     "execution_count": 3,
     "metadata": {},
     "output_type": "execute_result"
    }
   ],
   "source": [
    "# Jeżeli w trakcie programu zmieni się typ interpreter sie tym zajmnie sam.\n",
    "x = 'text' # w python '' i \"\" to sama ma znaczenie, czyli oznacza zmiennoą string\n",
    "y = 123\n",
    "z = 1.23\n",
    "a = complex(2,34) # inny sposób na deklaracje liczby zespolonej\n",
    "x, y, z, a"
   ]
  },
  {
   "cell_type": "code",
   "execution_count": 5,
   "id": "b5622bf8-0165-4edc-937d-e6d17fc25a44",
   "metadata": {},
   "outputs": [
    {
     "data": {
      "text/plain": [
       "('war1', 'war2', 'war3')"
      ]
     },
     "execution_count": 5,
     "metadata": {},
     "output_type": "execute_result"
    }
   ],
   "source": [
    "# Przypisywanie wielu zmiennym, wielu wartości.\n",
    "x, y, z = \"war1\", \"war2\", \"war3\"\n",
    "x, y, z"
   ]
  },
  {
   "cell_type": "code",
   "execution_count": 6,
   "id": "a7abdc24-e154-47b7-81ad-36b168f9d551",
   "metadata": {},
   "outputs": [
    {
     "data": {
      "text/plain": [
       "('wartość', 'wartość', 'wartość')"
      ]
     },
     "execution_count": 6,
     "metadata": {},
     "output_type": "execute_result"
    }
   ],
   "source": [
    "# Przypisywanie wielu zmiennym, jednej wartości.\n",
    "x = y = z = \"wartość\"\n",
    "x, y, z"
   ]
  },
  {
   "cell_type": "code",
   "execution_count": 7,
   "id": "0e47c77b-a1cb-4178-b515-7484d83ef918",
   "metadata": {},
   "outputs": [
    {
     "data": {
      "text/plain": [
       "(['war1', 'war2', 'war3'], 'war1', 'war2', 'war3')"
      ]
     },
     "execution_count": 7,
     "metadata": {},
     "output_type": "execute_result"
    }
   ],
   "source": [
    "# Szybkie przepisanie wartości z listy.\n",
    "lista = ['war1', 'war2', 'war3']\n",
    "x, y, z = lista\n",
    "lista, x, y, z"
   ]
  },
  {
   "cell_type": "code",
   "execution_count": 8,
   "id": "0171255f-d18c-4be9-bdc0-d3e2e4b86b08",
   "metadata": {},
   "outputs": [
    {
     "data": {
      "text/plain": [
       "'war1 war2 :war3'"
      ]
     },
     "execution_count": 8,
     "metadata": {},
     "output_type": "execute_result"
    }
   ],
   "source": [
    "# łączenie, konkatenacja ciągów.\n",
    "x, y, z = \"war1 \", \"war2 \", \"war3\"\n",
    "razem = x + y + ':' + z\n",
    "razem"
   ]
  },
  {
   "cell_type": "code",
   "execution_count": 9,
   "id": "47aff808-4a7c-40f1-bc6f-2c19e76a9614",
   "metadata": {},
   "outputs": [
    {
     "name": "stdout",
     "output_type": "stream",
     "text": [
      "zmienna lokalna\n",
      "zmienna globalna\n"
     ]
    }
   ],
   "source": [
    "# Zasięg zmiennej.\n",
    "x = 'zmienna globalna'\n",
    "\n",
    "def myFunc():\n",
    "    x = 'zmienna lokalna'\n",
    "    print(x)\n",
    "\n",
    "myFunc()\n",
    "print(x)"
   ]
  },
  {
   "cell_type": "markdown",
   "id": "7de097f7-bb7b-4a2d-b8a8-e8ad6a28c5bf",
   "metadata": {},
   "source": [
    "## 03. Typy danych"
   ]
  },
  {
   "cell_type": "code",
   "execution_count": 10,
   "id": "d2fa0eb3-b64b-403b-93e2-7d0303eb626b",
   "metadata": {},
   "outputs": [],
   "source": [
    "# Typy wbudowane.\n",
    "\n",
    "# Text Type:\t      str\n",
    "# Numeric Types:\t  int, float, complex\n",
    "# Sequence Types:\t  list, tuple, range\n",
    "# Mapping Type:\t      dict\n",
    "# Set Types:\t      set, frozenset\n",
    "# Boolean Type:\t      bool\n",
    "# Binary Types:\t      bytes, bytearray, memoryview\n",
    "# None Type:\t      None"
   ]
  },
  {
   "cell_type": "code",
   "execution_count": 11,
   "id": "ec9f85c1-82e0-4c80-8d3d-be117f6c8fed",
   "metadata": {},
   "outputs": [
    {
     "data": {
      "text/plain": [
       "(int, float, str, complex)"
      ]
     },
     "execution_count": 11,
     "metadata": {},
     "output_type": "execute_result"
    }
   ],
   "source": [
    "# Sprawdzanie typu zmiennej.\n",
    "type(123), type(1.23), type('str'), type(1 + 5j)"
   ]
  },
  {
   "cell_type": "code",
   "execution_count": 12,
   "id": "aac8a8b3-38bf-48b6-9c64-e330cf906339",
   "metadata": {},
   "outputs": [
    {
     "data": {
      "text/plain": [
       "(str, int, float, complex, complex)"
      ]
     },
     "execution_count": 12,
     "metadata": {},
     "output_type": "execute_result"
    }
   ],
   "source": [
    "x = 'text'\n",
    "y = 123\n",
    "z = 1.23\n",
    "a = complex(1, 4)\n",
    "b = 45 + 54j\n",
    "type(x), type(y), type(z), type(a), type(b)"
   ]
  },
  {
   "cell_type": "code",
   "execution_count": 13,
   "id": "bf1041e1-43d2-47c6-9e3f-584f8c410c2c",
   "metadata": {},
   "outputs": [
    {
     "data": {
      "text/plain": [
       "(['el1', 'el2', 'el3'], ('el1', 'el2', 'el3'), {'name': 'ele', 'nr': 6})"
      ]
     },
     "execution_count": 13,
     "metadata": {},
     "output_type": "execute_result"
    }
   ],
   "source": [
    "x = list((\"el1\", \"el2\", \"el3\"))\n",
    "y = tuple((\"el1\", \"el2\", \"el3\"))\n",
    "z = dict(name=\"ele\", nr=6)\n",
    "x, y, z"
   ]
  },
  {
   "cell_type": "code",
   "execution_count": 36,
   "id": "7ebf3202-247d-4b5a-9431-ce7517a8a261",
   "metadata": {},
   "outputs": [
    {
     "name": "stdout",
     "output_type": "stream",
     "text": [
      "Hello World \n",
      " 20 \n",
      " 20.5 \n",
      " 1j \n",
      " ['apple', 'banana', 'cherry'] \n",
      " ('apple', 'banana', 'cherry') \n",
      " range(0, 6) \n",
      " {'name': 'John', 'age': 36} \n",
      " {'cherry', 'apple', 'banana'} \n",
      " frozenset({'cherry', 'apple', 'banana'}) \n",
      " True \n",
      " b'\\x00\\x00\\x00\\x00\\x00' \n",
      " bytearray(b'\\x00\\x00\\x00\\x00\\x00') \n",
      " <memory at 0x00000251C61CA800>\n"
     ]
    }
   ],
   "source": [
    "# Wymuszenie ustawienia odpowiedniego typu.\n",
    "a = str(\"Hello World\")\t\n",
    "b = int(20)\t\n",
    "c = float(20.5)\t\t\n",
    "d = complex(1j)\t\t\n",
    "e = list((\"apple\", \"banana\", \"cherry\"))\t\t\n",
    "f = tuple((\"apple\", \"banana\", \"cherry\"))\t\n",
    "g = range(6)\t\n",
    "h = dict(name=\"John\", age=36)\t\n",
    "i = set((\"apple\", \"banana\", \"cherry\"))\t\n",
    "j = frozenset((\"apple\", \"banana\", \"cherry\"))\t\n",
    "k = bool(5)\t\n",
    "l = bytes(5)\t\n",
    "m = bytearray(5)\n",
    "n = memoryview(bytes(5))\n",
    "print(a, '\\n', b, '\\n',  c, '\\n',  d, '\\n',  e, '\\n',  f, '\\n',  g, '\\n',  h, '\\n',  i, '\\n',  j, '\\n',  k, '\\n',  l, '\\n',  m, '\\n',  n)"
   ]
  },
  {
   "cell_type": "code",
   "execution_count": 14,
   "id": "cea8e0b9-b561-4897-8678-a0c2d2f52daa",
   "metadata": {},
   "outputs": [
    {
     "data": {
      "text/plain": [
       "(1, 2.8, 1j)"
      ]
     },
     "execution_count": 14,
     "metadata": {},
     "output_type": "execute_result"
    }
   ],
   "source": [
    "# Typy numeryczne (int, float, complex).\n",
    "x = 1    # int\n",
    "y = 2.8  # float\n",
    "z = 1j   # complex\n",
    "x, y, z"
   ]
  },
  {
   "cell_type": "code",
   "execution_count": 15,
   "id": "efb85194-9a55-451a-a05b-b21364910e90",
   "metadata": {},
   "outputs": [
    {
     "data": {
      "text/plain": [
       "(1, 34567890, -45354534)"
      ]
     },
     "execution_count": 15,
     "metadata": {},
     "output_type": "execute_result"
    }
   ],
   "source": [
    "# Int.\n",
    "x = 1\n",
    "y = 34567890\n",
    "z = -45354534\n",
    "x, y, z"
   ]
  },
  {
   "cell_type": "code",
   "execution_count": 16,
   "id": "7e21c786-1e7c-4f20-8043-4388275e5e29",
   "metadata": {},
   "outputs": [
    {
     "data": {
      "text/plain": [
       "(1.01, -45.0234, -21000000000.0)"
      ]
     },
     "execution_count": 16,
     "metadata": {},
     "output_type": "execute_result"
    }
   ],
   "source": [
    "# Float.\n",
    "x = 1.01\n",
    "y = -45.0234\n",
    "z = -2.1e10\n",
    "x, y, z"
   ]
  },
  {
   "cell_type": "code",
   "execution_count": 31,
   "id": "7337a4c8-a260-4649-97e6-dcbddafa3bde",
   "metadata": {},
   "outputs": [
    {
     "data": {
      "text/plain": [
       "((3+5j), 5j, (-0-5j))"
      ]
     },
     "execution_count": 31,
     "metadata": {},
     "output_type": "execute_result"
    }
   ],
   "source": [
    "# Complex, liczba zespolona.\n",
    "x = 3+5j\n",
    "# lub\n",
    "x = complex(3, 5)\n",
    "y = 5j\n",
    "z = -5j\n",
    "x, y, z"
   ]
  },
  {
   "cell_type": "code",
   "execution_count": 32,
   "id": "9c2b6e04-6700-497d-bf24-48b03c0d6a19",
   "metadata": {},
   "outputs": [
    {
     "data": {
      "text/plain": [
       "(3.0, 5.0, 0.0, 5.0)"
      ]
     },
     "execution_count": 32,
     "metadata": {},
     "output_type": "execute_result"
    }
   ],
   "source": [
    "# Pobieranie i wyświetlanie części liczb zespolonych.\n",
    "x.real, x.imag, y.real, y.imag"
   ]
  },
  {
   "cell_type": "code",
   "execution_count": 30,
   "id": "ca207aab-e9fe-4be5-887d-2dd85c8702ba",
   "metadata": {},
   "outputs": [
    {
     "name": "stdout",
     "output_type": "stream",
     "text": [
      "sys.int_info(bits_per_digit=30, sizeof_digit=4, default_max_str_digits=4300, str_digits_check_threshold=640)\n",
      "sys.float_info(max=1.7976931348623157e+308, max_exp=1024, max_10_exp=308, min=2.2250738585072014e-308, min_exp=-1021, min_10_exp=-307, dig=15, mant_dig=53, epsilon=2.220446049250313e-16, radix=2, rounds=1)\n"
     ]
    }
   ],
   "source": [
    "import sys\n",
    "print(sys.int_info)\n",
    "print(sys.float_info)"
   ]
  },
  {
   "cell_type": "markdown",
   "id": "8776e8a9-184e-48ef-83f9-762b38fbb2f3",
   "metadata": {},
   "source": [
    "## 04. Random, liczby losowe"
   ]
  },
  {
   "cell_type": "code",
   "execution_count": 18,
   "id": "fede3138-c9af-41bc-b444-45f4e76d15c2",
   "metadata": {},
   "outputs": [
    {
     "data": {
      "text/plain": [
       "-30"
      ]
     },
     "execution_count": 18,
     "metadata": {},
     "output_type": "execute_result"
    }
   ],
   "source": [
    "import random\n",
    "# random.seed(42) # inicjalizacja generatora liczb pseudolosowych od początkowego stanu\n",
    "random.randrange(start=-100, stop=100, step=2) # od -100 do 99, losuje co 2 czyli tylko przyste"
   ]
  },
  {
   "cell_type": "code",
   "execution_count": 19,
   "id": "19809fec-d7c1-481f-907a-b1437d2cef02",
   "metadata": {},
   "outputs": [
    {
     "data": {
      "text/plain": [
       "-4"
      ]
     },
     "execution_count": 19,
     "metadata": {},
     "output_type": "execute_result"
    }
   ],
   "source": [
    "random.randint(-10, 11) # od -10 do 10"
   ]
  },
  {
   "cell_type": "code",
   "execution_count": 20,
   "id": "b490ad99-a6e6-411b-8add-f5f06efd9cc8",
   "metadata": {},
   "outputs": [
    {
     "data": {
      "text/plain": [
       "0.9880417755502012"
      ]
     },
     "execution_count": 20,
     "metadata": {},
     "output_type": "execute_result"
    }
   ],
   "source": [
    "random.random() # od 0 do 1"
   ]
  },
  {
   "cell_type": "code",
   "execution_count": 21,
   "id": "a32a97df-53fd-4a46-aefb-68049c1f12fd",
   "metadata": {},
   "outputs": [
    {
     "data": {
      "text/plain": [
       "[114, 205, 193, 139, 2, 119, 148, 109, 170, 200]"
      ]
     },
     "execution_count": 21,
     "metadata": {},
     "output_type": "execute_result"
    }
   ],
   "source": [
    "lista = list(random.randbytes(10)) # generuje określoną liczbę bajtów\n",
    "lista"
   ]
  },
  {
   "cell_type": "markdown",
   "id": "a835cb65-8902-40c2-9e2b-daaaf8fab4d5",
   "metadata": {},
   "source": [
    "## 05. Input i Print"
   ]
  },
  {
   "cell_type": "code",
   "execution_count": 22,
   "id": "23736f24-8ecc-413a-8c64-54405c0b67de",
   "metadata": {},
   "outputs": [
    {
     "name": "stdin",
     "output_type": "stream",
     "text": [
      "wprowadź tekst i zatwierdź enterem: 12345qwert\n"
     ]
    },
    {
     "data": {
      "text/plain": [
       "'12345qwert'"
      ]
     },
     "execution_count": 22,
     "metadata": {},
     "output_type": "execute_result"
    }
   ],
   "source": [
    "# Wprowadzanie tekdtu ze standardowego wejścia (np. klawiatura).\n",
    "strIn = input('wprowadź tekst i zatwierdź enterem:') \n",
    "strIn"
   ]
  },
  {
   "cell_type": "code",
   "execution_count": 23,
   "id": "09deb72d-46bd-479a-bd4f-20c23f5415d2",
   "metadata": {},
   "outputs": [
    {
     "name": "stdout",
     "output_type": "stream",
     "text": [
      "test tekst\n"
     ]
    }
   ],
   "source": [
    "# Wysyłanie tekstu na standardowe wyjście.\n",
    "print('test tekst')"
   ]
  },
  {
   "cell_type": "code",
   "execution_count": 24,
   "id": "32aaae63-5b68-45a1-abde-a3e50968e376",
   "metadata": {},
   "outputs": [
    {
     "name": "stdout",
     "output_type": "stream",
     "text": [
      "(3+5j) 5j (-0-5j)\n"
     ]
    }
   ],
   "source": [
    "print(x, y, z)"
   ]
  },
  {
   "cell_type": "code",
   "execution_count": 25,
   "id": "5ce7dd7e-62f4-42d1-8723-7ea1316a1fbf",
   "metadata": {},
   "outputs": [
    {
     "name": "stdout",
     "output_type": "stream",
     "text": [
      "opis (3+5j), 5j, (-0-5j)\n"
     ]
    }
   ],
   "source": [
    "# Sformatowany tekst ze zmniennymi.\n",
    "print(f'opis {x}, {y}, {z}')"
   ]
  },
  {
   "cell_type": "code",
   "execution_count": 34,
   "id": "a81d0034-1da2-448e-a34d-10b480bd05e3",
   "metadata": {},
   "outputs": [
    {
     "name": "stdout",
     "output_type": "stream",
     "text": [
      "napis = string : int = 1234\n"
     ]
    }
   ],
   "source": [
    "# Sformatowany print podobny do printf z C\n",
    "sVal = 'string'\n",
    "iVal = 1234\n",
    "print(\"napis = %s : int = %i\" % (sVal, iVal))"
   ]
  },
  {
   "cell_type": "markdown",
   "id": "acc3555e-d6f4-4698-99dd-80b159739dff",
   "metadata": {},
   "source": [
    "## 06. Rzutowanie (casting)."
   ]
  },
  {
   "cell_type": "code",
   "execution_count": 37,
   "id": "038c657c-76b3-4d3a-acec-e176c222b5f8",
   "metadata": {},
   "outputs": [
    {
     "data": {
      "text/plain": [
       "('3', 34, 2.0, str, int, float)"
      ]
     },
     "execution_count": 37,
     "metadata": {},
     "output_type": "execute_result"
    }
   ],
   "source": [
    "x = str(3)\n",
    "y = int(34)\n",
    "z = float(2)\n",
    "x, y, z, type(x), type(y), type(z)"
   ]
  },
  {
   "cell_type": "code",
   "execution_count": 38,
   "id": "8c19bb2a-08aa-4f5c-9ed5-15d174aa813d",
   "metadata": {},
   "outputs": [
    {
     "data": {
      "text/plain": [
       "(1, 2.8, 1j, 1.0, 2, (1+0j))"
      ]
     },
     "execution_count": 38,
     "metadata": {},
     "output_type": "execute_result"
    }
   ],
   "source": [
    "x = 1    # int\n",
    "y = 2.8  # float\n",
    "z = 1j   # complex\n",
    "a = float(x) # z int na float\n",
    "b = int(y) # z float na int\n",
    "c = complex(x) # z int na complex\n",
    "x, y, z, a, b, c"
   ]
  },
  {
   "cell_type": "code",
   "execution_count": 44,
   "id": "8479c876-f7b5-49d3-94bb-8d2f6fb00291",
   "metadata": {},
   "outputs": [
    {
     "data": {
      "text/plain": [
       "(1, 2, 3)"
      ]
     },
     "execution_count": 44,
     "metadata": {},
     "output_type": "execute_result"
    }
   ],
   "source": [
    "# Na int \n",
    "x = int(1)  \n",
    "y = int(2.8) \n",
    "z = int(\"3\") \n",
    "x, y, z"
   ]
  },
  {
   "cell_type": "code",
   "execution_count": 45,
   "id": "2aa19d19-ceca-4cdf-b1fe-5638f8f41c18",
   "metadata": {},
   "outputs": [
    {
     "data": {
      "text/plain": [
       "(1.0, 2.8, 3.0, 4.2)"
      ]
     },
     "execution_count": 45,
     "metadata": {},
     "output_type": "execute_result"
    }
   ],
   "source": [
    "# Na float\n",
    "x = float(1)    \n",
    "y = float(2.8)  \n",
    "z = float(\"3\")  \n",
    "w = float(\"4.2\")\n",
    "x, y, z, w"
   ]
  },
  {
   "cell_type": "code",
   "execution_count": null,
   "id": "dcddfc91-0996-4447-b7c7-746cd7563f9c",
   "metadata": {},
   "outputs": [],
   "source": [
    "# Na String\n",
    "x = str(\"s1\") \n",
    "y = str(2)    \n",
    "z = str(3.0)  \n",
    "x, y, "
   ]
  }
 ],
 "metadata": {
  "kernelspec": {
   "display_name": "Torch Learn",
   "language": "python",
   "name": "python3"
  },
  "language_info": {
   "codemirror_mode": {
    "name": "ipython",
    "version": 3
   },
   "file_extension": ".py",
   "mimetype": "text/x-python",
   "name": "python",
   "nbconvert_exporter": "python",
   "pygments_lexer": "ipython3",
   "version": "3.12.1"
  },
  "widgets": {
   "application/vnd.jupyter.widget-state+json": {
    "state": {},
    "version_major": 2,
    "version_minor": 0
   }
  }
 },
 "nbformat": 4,
 "nbformat_minor": 5
}
